{
 "cells": [
  {
   "cell_type": "code",
   "execution_count": 3,
   "metadata": {},
   "outputs": [
    {
     "ename": "SyntaxError",
     "evalue": "invalid syntax (<ipython-input-3-f2cf2f835cef>, line 2)",
     "output_type": "error",
     "traceback": [
      "\u001b[1;36m  File \u001b[1;32m\"<ipython-input-3-f2cf2f835cef>\"\u001b[1;36m, line \u001b[1;32m2\u001b[0m\n\u001b[1;33m    - class : 멤버 변수 (속성) + 멤버함수 (공유되어지어짐)\u001b[0m\n\u001b[1;37m          ^\u001b[0m\n\u001b[1;31mSyntaxError\u001b[0m\u001b[1;31m:\u001b[0m invalid syntax\n"
     ]
    }
   ],
   "source": [
    "# 객체 지향 프로그래밍 (class(꼴),=> (instance : 메모리 확보) object(객체))\n",
    "- class : 멤버 변수 (속성) + 멤버함수 (공유되어지어짐)\n",
    "- 인스턴스할 때 멤버변수(속성)를 저장하는 공간만 확보\n",
    "인스턴스 :설계도를 바탕으로 소프트웨어 세계에 구현된 구체적인 실체\n"
   ]
  },
  {
   "cell_type": "code",
   "execution_count": 16,
   "metadata": {},
   "outputs": [
    {
     "name": "stdout",
     "output_type": "stream",
     "text": [
      "삼각형의 넓이 100.0\n"
     ]
    }
   ],
   "source": [
    "width = 10 \n",
    "height = 20\n",
    "area = 10 * 20 / 2\n",
    "print(\"삼각형의 넓이\" , area)"
   ]
  },
  {
   "cell_type": "code",
   "execution_count": 26,
   "metadata": {},
   "outputs": [
    {
     "name": "stdout",
     "output_type": "stream",
     "text": [
      "10 20 100.0\n"
     ]
    }
   ],
   "source": [
    "class Triangle:\n",
    "    def setDate(self, width , height): #함수를 이용한 초기화\n",
    "        self.width = width\n",
    "        self.height = height\n",
    "    def area(self): # 매개변수 취급은 안함 \n",
    "        return self.width * self.height /2\n",
    "tri1 = Triangle() #인스턴스 한다 () 함수처럼 \n",
    "tri1.setDate(10,20) #실시간으로 변수공간 확보 \n",
    "print(tri1.width , tri1.height, tri1.area())"
   ]
  },
  {
   "cell_type": "code",
   "execution_count": 27,
   "metadata": {},
   "outputs": [
    {
     "name": "stdout",
     "output_type": "stream",
     "text": [
      "10 20 100.0\n"
     ]
    }
   ],
   "source": [
    "#__init__ : dbject 에있는 함수 (상속 :클래스를 생성하면 자동으로 상속)\n",
    "class Triangle:\n",
    "    def __init__(self , width , height): #초기화함수 ,생성자 , 강제로 호출불가한 함수\n",
    "        self.width = width\n",
    "        self.height = height\n",
    "    def area(self):\n",
    "        return self.width * self.height/2\n",
    "tri1 = Triangle(10,20)\n",
    "#tri1, __init__(10.20) 불가 , 인스턴스할 때 자동으로 호출 , 재정의한 함수\n",
    "print(tri1.width, tri1.height , tri1.area())"
   ]
  },
  {
   "cell_type": "code",
   "execution_count": 41,
   "metadata": {},
   "outputs": [
    {
     "data": {
      "text/plain": [
       "' 클래스의 예 '"
      ]
     },
     "execution_count": 41,
     "metadata": {},
     "output_type": "execute_result"
    }
   ],
   "source": [
    "#클래스 변수 , 멤버 변수, 지역변수\n",
    "class MyClass(object): # 선언하는 순간에 메모리에 자리를 잡음 \n",
    "    \"\"\" 클래스의 예 \"\"\"\n",
    "    i = 12345 #클래스 변수 , 공용 변수 \n",
    "    def __init__(self):\n",
    "        self.i = 54321 # 멤버 변수 \n",
    "        num = 100 #지역변수 \n",
    "    def f(self):\n",
    "        return self.i\n",
    "MyClass.__doc__ #dbject의 속성 "
   ]
  },
  {
   "cell_type": "code",
   "execution_count": 31,
   "metadata": {},
   "outputs": [
    {
     "name": "stdout",
     "output_type": "stream",
     "text": [
      "12345\n"
     ]
    }
   ],
   "source": [
    "print(MyClass.i) #인스턴스하지 않고도 호출가능"
   ]
  },
  {
   "cell_type": "code",
   "execution_count": 33,
   "metadata": {},
   "outputs": [
    {
     "name": "stdout",
     "output_type": "stream",
     "text": [
      "54321\n"
     ]
    },
    {
     "data": {
      "text/plain": [
       "54321"
      ]
     },
     "execution_count": 33,
     "metadata": {},
     "output_type": "execute_result"
    }
   ],
   "source": [
    "myclass = MyClass() #  self.i 에 대한 메모리 확보\n",
    "print(myclass.i) # 멤버변수 호출 \n",
    "myclass.f()"
   ]
  },
  {
   "cell_type": "code",
   "execution_count": 37,
   "metadata": {},
   "outputs": [
    {
     "name": "stdout",
     "output_type": "stream",
     "text": [
      "12345\n",
      "54321\n"
     ]
    }
   ],
   "source": [
    "print(MyClass.i)\n",
    "print(MyClass().i) #참조가 없기 떄문에 사용과 동시에 메모리에서 사라짐\n",
    "#위에 처럼 지정하지 않고 사용하면 바로 사라짐\n"
   ]
  },
  {
   "cell_type": "code",
   "execution_count": 42,
   "metadata": {},
   "outputs": [
    {
     "name": "stdout",
     "output_type": "stream",
     "text": [
      "생성 Mon Dec 30 11:10:12 2019\n",
      "sleeping for 3 sec\n",
      "사망 Mon Dec 30 11:10:15 2019\n"
     ]
    }
   ],
   "source": [
    "from time import time, ctime , sleep \n",
    "# 시간은 초로 관리 ctime(문자열로 convert) \n",
    "class Life:\n",
    "    def __init__(self): #생성자 \n",
    "        self.birth = ctime() #현제시간 \n",
    "        print('생성', self.birth)\n",
    "    def __del__(self): #소멸자(메모리에서 사라질떄 자동으로 호출)\n",
    "        print('사망', ctime())\n",
    "    def test(self):\n",
    "        #mylife = life()\n",
    "        print('sleeping for 3 sec')\n",
    "        sleep(3) # 3초동안 \n",
    "li = Life() #오른쪽은 heap 에 저장 , 왼쪽은 그 주소를 가리키는 stack에 생성 \n",
    "li.test()\n",
    "del li # 자동으로 가비지 컬렉션됨 \n",
    "        "
   ]
  },
  {
   "cell_type": "code",
   "execution_count": 47,
   "metadata": {},
   "outputs": [],
   "source": [
    "#사원관리\n",
    "class Employee:\n",
    "    empCount = 0 \n",
    "    def __init__(self, name , salary):\n",
    "        self.name = name\n",
    "        self.salary = salary\n",
    "        Employee.empCount +=1\n",
    "    def displayCount(self):\n",
    "        print('직원 수 = %d' % Employee.empCount)\n",
    "    def displayEmployee(self):\n",
    "        print(\"이름 : \" , self.name, \"급여\" , self.salary)\n",
    "    def __call__(self, *pargs, **kargs):\n",
    "        print('Called:' , pargs, kargs)\n"
   ]
  },
  {
   "cell_type": "code",
   "execution_count": 58,
   "metadata": {
    "scrolled": true
   },
   "outputs": [
    {
     "ename": "SyntaxError",
     "evalue": "invalid syntax (<ipython-input-58-fca46c29fd81>, line 7)",
     "output_type": "error",
     "traceback": [
      "\u001b[1;36m  File \u001b[1;32m\"<ipython-input-58-fca46c29fd81>\"\u001b[1;36m, line \u001b[1;32m7\u001b[0m\n\u001b[1;33m    emp1.displayEmployee()]\u001b[0m\n\u001b[1;37m                          ^\u001b[0m\n\u001b[1;31mSyntaxError\u001b[0m\u001b[1;31m:\u001b[0m invalid syntax\n"
     ]
    }
   ],
   "source": [
    "emp = Employee(\"김종호\", 500)\n",
    "emp.displayCount()\n",
    "emp1 = Employee(\"q빅데\", 500)\n",
    "emp1.displayCount() #2\n",
    "emp.displayCount() #2  empcount = 공유변수 이기 때문에 위에 값과 동일 \n",
    "emp.displayEmployee()  #데이터를 담고 있는 위치가 다르기 때문\n",
    "emp1.displayEmployee()]\n",
    "emp(\"빅데타\",500,100,c = 100) # 클래스를 함수처럼 사용하고 싶을때\n",
    "                            # __call__ 을 오버라이딩"
   ]
  },
  {
   "cell_type": "code",
   "execution_count": 60,
   "metadata": {},
   "outputs": [],
   "source": [
    "#실시간을 변수를 추가 기능 (변수를 선언하지 않았으나 실시가능로 변수 추가 가능)\n",
    "emp1.age = 7\n",
    "emp.age = 8"
   ]
  },
  {
   "cell_type": "code",
   "execution_count": 64,
   "metadata": {},
   "outputs": [
    {
     "name": "stdout",
     "output_type": "stream",
     "text": [
      "7\n"
     ]
    }
   ],
   "source": [
    "print(emp1.age)"
   ]
  },
  {
   "cell_type": "code",
   "execution_count": 65,
   "metadata": {},
   "outputs": [
    {
     "name": "stdout",
     "output_type": "stream",
     "text": [
      "{'name': '김종호', 'salary': 500, 'age': 8}\n"
     ]
    }
   ],
   "source": [
    "print(emp.__dict__) # object 를 상속"
   ]
  },
  {
   "cell_type": "code",
   "execution_count": 67,
   "metadata": {},
   "outputs": [
    {
     "name": "stdout",
     "output_type": "stream",
     "text": [
      "['__call__', '__class__', '__delattr__', '__dict__', '__dir__', '__doc__', '__eq__', '__format__', '__ge__', '__getattribute__', '__gt__', '__hash__', '__init__', '__init_subclass__', '__le__', '__lt__', '__module__', '__ne__', '__new__', '__reduce__', '__reduce_ex__', '__repr__', '__setattr__', '__sizeof__', '__str__', '__subclasshook__', '__weakref__', 'age', 'displayCount', 'displayEmployee', 'empCount', 'name', 'salary']\n"
     ]
    }
   ],
   "source": [
    "print(dir(emp))"
   ]
  },
  {
   "cell_type": "code",
   "execution_count": 68,
   "metadata": {},
   "outputs": [
    {
     "ename": "SyntaxError",
     "evalue": "invalid syntax (<ipython-input-68-779f4610772e>, line 2)",
     "output_type": "error",
     "traceback": [
      "\u001b[1;36m  File \u001b[1;32m\"<ipython-input-68-779f4610772e>\"\u001b[1;36m, line \u001b[1;32m2\u001b[0m\n\u001b[1;33m    =이름과 나이를 저장하는 student class를 생성하시요\u001b[0m\n\u001b[1;37m    ^\u001b[0m\n\u001b[1;31mSyntaxError\u001b[0m\u001b[1;31m:\u001b[0m invalid syntax\n"
     ]
    }
   ],
   "source": [
    "#문제 : \n",
    "=이름과 나이를 저장하는 student class를 생성하시요\n",
    "=이름과 나이를 출력하는 pring 함수를 클래스 내에 정의하시요 "
   ]
  },
  {
   "cell_type": "code",
   "execution_count": 75,
   "metadata": {},
   "outputs": [],
   "source": [
    "class Student:\n",
    "    \"\"\"학생 관리\"\"\"\n",
    "    def __init__ (self, name, age):\n",
    "        self.name = name\n",
    "        self.age = age\n",
    "    def display(self):\n",
    "        print(\"학생 이름: \", self.name , \"학생 나이 : \", self.age)\n",
    "emp = Student('lee' , 20)\n",
    "emp2 = Student('kim', 30)"
   ]
  },
  {
   "cell_type": "code",
   "execution_count": 82,
   "metadata": {},
   "outputs": [],
   "source": [
    "class Student:\n",
    "    \"\"\"학생 관리\"\"\"\n",
    "    def __init__ (self, name, age):\n",
    "        self.name = name\n",
    "        self.age = age\n",
    "    def print(self):\n",
    "        print(\"학생 이름: \", self.name , \"학생 나이 : \", self.age)\n",
    "    def __repr__(self): # __str__\n",
    "        return \"나의 이름\" + self.name #class print 함수를 부르지 않고 클래스를 실행시\n",
    "    #자동으로 실행됨"
   ]
  },
  {
   "cell_type": "code",
   "execution_count": 87,
   "metadata": {},
   "outputs": [
    {
     "name": "stdout",
     "output_type": "stream",
     "text": [
      "나의 이름다함께\n"
     ]
    }
   ],
   "source": [
    "f = Student(\"다함께\", 23)\n",
    "print(f) \n"
   ]
  },
  {
   "cell_type": "code",
   "execution_count": 84,
   "metadata": {},
   "outputs": [
    {
     "name": "stdout",
     "output_type": "stream",
     "text": [
      "<class '__main__.Student'>\n"
     ]
    }
   ],
   "source": [
    "# object 로 부터 상속\n",
    "print(f.__class__) # 어떤 클래스에서 인스턴스 되었는지를 확인 "
   ]
  },
  {
   "cell_type": "code",
   "execution_count": 89,
   "metadata": {},
   "outputs": [
    {
     "name": "stdout",
     "output_type": "stream",
     "text": [
      "나의 이름김종호\n"
     ]
    }
   ],
   "source": [
    "# student(\"김종호\", 34)\n",
    "g = f.__class__(\"김종호\",34) #인스턴스된 변수로 부터 클래스 생성\n",
    "print(g)\n"
   ]
  },
  {
   "cell_type": "code",
   "execution_count": 1,
   "metadata": {},
   "outputs": [],
   "source": [
    "import math\n",
    "class Point:\n",
    "# 1개를 다루는 클래스를 작성하고 있지만 거리값은 두개를 이용 \n",
    "    def __init__(self,x,y): # 생성자 \n",
    "        self.x = x   \n",
    "        self.y = y\n",
    "    def __str__(self): # __repr__ 문자열을 요구하는 함수에 들어가면\n",
    "        return \"좌표는 (%d, %d) \" % (self.x, self.y)\n",
    "    def dist(self, other): #파타고라스 정리 \n",
    "        distance = math.sqrt((self.x - other.x) ** 2 + (self.y-other.y) **2)\n",
    "        return distance\n",
    "    def collision(self, other):\n",
    "        return self.dist(other) < 3\n"
   ]
  },
  {
   "cell_type": "code",
   "execution_count": 54,
   "metadata": {},
   "outputs": [
    {
     "name": "stdout",
     "output_type": "stream",
     "text": [
      "좌표는 (7, 3) \n",
      "좌표는 (4, 7) \n"
     ]
    }
   ],
   "source": [
    "first = Point(7,3)\n",
    "second = Point(4,7)\n",
    "print(first)\n",
    "print(second)"
   ]
  },
  {
   "cell_type": "code",
   "execution_count": 18,
   "metadata": {},
   "outputs": [
    {
     "name": "stdout",
     "output_type": "stream",
     "text": [
      "두점 사이의 거리  5.0\n",
      "놉\n"
     ]
    }
   ],
   "source": [
    "print(\"두점 사이의 거리 \", first.dist(second))\n",
    "if first.collision(second):\n",
    "    print(\"충돌\")\n",
    "else :\n",
    "    print(\"놉\")"
   ]
  },
  {
   "cell_type": "code",
   "execution_count": 123,
   "metadata": {},
   "outputs": [
    {
     "ename": "SyntaxError",
     "evalue": "invalid syntax (<ipython-input-123-d6d7b4e9a400>, line 2)",
     "output_type": "error",
     "traceback": [
      "\u001b[1;36m  File \u001b[1;32m\"<ipython-input-123-d6d7b4e9a400>\"\u001b[1;36m, line \u001b[1;32m2\u001b[0m\n\u001b[1;33m    - 원 : 중심점 하고 반지름\u001b[0m\n\u001b[1;37m               ^\u001b[0m\n\u001b[1;31mSyntaxError\u001b[0m\u001b[1;31m:\u001b[0m invalid syntax\n"
     ]
    }
   ],
   "source": [
    "#문제 point 클래스를 이용하여 circle 클래스 정으\n",
    "- 원 : 중심점 하고 반지름\n",
    "- 원과 원이 충돌하는 여부를 확인하는 함수를 작성하시오 "
   ]
  },
  {
   "cell_type": "code",
   "execution_count": 3,
   "metadata": {},
   "outputs": [],
   "source": [
    "import math \n",
    "class Circle:\n",
    "    def __init__(self,x,y,r):\n",
    "        self.x = x\n",
    "        self.y = y\n",
    "        self.r = r\n",
    "    def __str__(self):\n",
    "        return \"중심점 %d  반지름 %d 반지름 %d\"  %(self.x ,self.y,self.r)\n",
    "    def dist(self, other):\n",
    "        distance = math.sqrt((self.x - other.x)**2 + (self.y + other.y)**2)\n",
    "        return distance\n",
    "    def collision(self, other):\n",
    "        return self.dist(other) - (self.r + other.r) < 0\n",
    "\n",
    "\n",
    "        "
   ]
  },
  {
   "cell_type": "code",
   "execution_count": 133,
   "metadata": {},
   "outputs": [],
   "source": [
    "first = Circle(5,4,2)\n",
    "second = Circle(10,4,2)"
   ]
  },
  {
   "cell_type": "code",
   "execution_count": 135,
   "metadata": {},
   "outputs": [
    {
     "name": "stdout",
     "output_type": "stream",
     "text": [
      "9.433981132056603\n"
     ]
    }
   ],
   "source": [
    "print(first.dist(second))"
   ]
  },
  {
   "cell_type": "code",
   "execution_count": 29,
   "metadata": {},
   "outputs": [],
   "source": [
    "#center = Point()\n",
    "class Circle:\n",
    "    def __init__(self, center, radius):\n",
    "        self.center = center\n",
    "        self.radius = radius\n",
    "    def __repr__(self):\n",
    "        return \"원의 중심은 \" + str(self.center) + \"반지름은 \"+ str(self.radius)\n",
    "    def collision(self, other):\n",
    "        if self.center.dist(other.center) < self.radius + other.radius:\n",
    "            result = \"충돌\"\n",
    "        else:\n",
    "            return \"충돌넙\"\n",
    "        return result\n",
    "    "
   ]
  },
  {
   "cell_type": "code",
   "execution_count": 30,
   "metadata": {},
   "outputs": [
    {
     "name": "stdout",
     "output_type": "stream",
     "text": [
      "원의 중심은 좌표는 (7, 3) 반지름은 1\n",
      "원의 중심은 좌표는 (4, 7) 반지름은 5\n"
     ]
    }
   ],
   "source": [
    "cir = Circle(first,1)\n",
    "cir2 = Circle(second, 5)\n",
    "print(cir)\n",
    "print(cir2)"
   ]
  },
  {
   "cell_type": "code",
   "execution_count": 33,
   "metadata": {},
   "outputs": [
    {
     "name": "stdout",
     "output_type": "stream",
     "text": [
      "충돌\n"
     ]
    },
    {
     "data": {
      "text/plain": [
       "'충돌'"
      ]
     },
     "execution_count": 33,
     "metadata": {},
     "output_type": "execute_result"
    }
   ],
   "source": [
    "print(cir.collision(cir2))\n",
    "Circle.collision(cir,cir2)"
   ]
  },
  {
   "cell_type": "code",
   "execution_count": 28,
   "metadata": {},
   "outputs": [
    {
     "ename": "SyntaxError",
     "evalue": "invalid syntax (<ipython-input-28-967e40801cad>, line 2)",
     "output_type": "error",
     "traceback": [
      "\u001b[1;36m  File \u001b[1;32m\"<ipython-input-28-967e40801cad>\"\u001b[1;36m, line \u001b[1;32m2\u001b[0m\n\u001b[1;33m    - 사각형 면적을 구하는 함수를 작성하시요\u001b[0m\n\u001b[1;37m            ^\u001b[0m\n\u001b[1;31mSyntaxError\u001b[0m\u001b[1;31m:\u001b[0m invalid syntax\n"
     ]
    }
   ],
   "source": [
    "# point를 이용해서 사각형 rectangle 클래스를 적성하시요\n",
    "- 사각형 면적을 구하는 함수를 작성하시요\n",
    "- 사각형의 둘레를 구하는 함수를 작성하시요\n",
    "- 대각선의 길이를 구하는 함수를 작성하시요 \n"
   ]
  },
  {
   "cell_type": "code",
   "execution_count": 75,
   "metadata": {},
   "outputs": [],
   "source": [
    "class Rectangle:\n",
    "    def __init__(self , po1,po2): #po1 = point() 매핑 \n",
    "        self.po1 = po1\n",
    "        self.po2 = po2\n",
    "    def area(self):\n",
    "        result = abs((self.po1.x - self.po2.x) * (self.po1.y - self.po2.y))\n",
    "        return result\n",
    "    def perimeter(self):\n",
    "        result = abs(self.po1.x - self.po2.x) *2 + abs(self.po1.y - self.po2.y)*2 \n",
    "        return result\n",
    "    def diagonal_dist(self):\n",
    "        result = math.sqrt((self.po1.x - self.po2.x )**2 + (self.po1.y - self.po2.y)**2)\n",
    "        return result\n"
   ]
  },
  {
   "cell_type": "code",
   "execution_count": 77,
   "metadata": {},
   "outputs": [
    {
     "name": "stdout",
     "output_type": "stream",
     "text": [
      "12\n"
     ]
    }
   ],
   "source": [
    "rec = Rectangle\n",
    "emp = Rectangle(first,second)\n",
    "print(rec.area(emp))"
   ]
  },
  {
   "cell_type": "code",
   "execution_count": 78,
   "metadata": {},
   "outputs": [
    {
     "ename": "SyntaxError",
     "evalue": "invalid syntax (<ipython-input-78-bbbd50776d2a>, line 2)",
     "output_type": "error",
     "traceback": [
      "\u001b[1;36m  File \u001b[1;32m\"<ipython-input-78-bbbd50776d2a>\"\u001b[1;36m, line \u001b[1;32m2\u001b[0m\n\u001b[1;33m    - x,y 의 2차원 벡터 구현\u001b[0m\n\u001b[1;37m          ^\u001b[0m\n\u001b[1;31mSyntaxError\u001b[0m\u001b[1;31m:\u001b[0m invalid syntax\n"
     ]
    }
   ],
   "source": [
    "#문제 vector class 를 작성하시요 \n",
    "- x,y 의 2차원 벡터 구현\n",
    "- 벡터의 연산 (+,-,*,/) : 요소 별로 계산 \n",
    "- dot 함수를 구현하시요 : 벡터의 요소별로 곱하고 모두 더해주면 내적 유사도\n",
    "- cos 값으로 변환하는 함수를 구현하시오\n",
    "    cos theta = acos(a내적b/|a||b|)\n",
    "    |a| = math.sqrt( x ** 2 + y ** 2)\n",
    "    "
   ]
  },
  {
   "cell_type": "code",
   "execution_count": 84,
   "metadata": {},
   "outputs": [],
   "source": [
    "# a= 10\n",
    "# b = 20\n",
    "# c = a + b\n",
    "class Vector:\n",
    "    def __init__(self,x,y):\n",
    "        self.x = x\n",
    "        self.y = y\n",
    "    def __repr__(self):\n",
    "        return \"좌표는 %d %d\" % (self.x, self.y)\n",
    "    def __add__(self,other):\n",
    "        return Vector(self.x + other.x, self.y + other.y)\n",
    "    def __mul__(self,other):\n",
    "        return Vector(self.x * other.x, self.y * other.y)\n",
    "    def __sub__(self,other):\n",
    "        return Vector(self.x - other.x, self.y - other.y)\n",
    "    def __truediv__(self,other): #div 2점버전대에서 사용 \n",
    "        return Vector(self.x / other.x, self.y / other.y)\n",
    "    "
   ]
  },
  {
   "cell_type": "code",
   "execution_count": 87,
   "metadata": {},
   "outputs": [
    {
     "name": "stdout",
     "output_type": "stream",
     "text": [
      "좌표는 10 20\n",
      "좌표는 30 66\n"
     ]
    }
   ],
   "source": [
    "f = Vector(10,20)\n",
    "g = Vector(20,46)\n",
    "print(f)\n",
    "print(f+g)"
   ]
  },
  {
   "cell_type": "code",
   "execution_count": null,
   "metadata": {},
   "outputs": [],
   "source": [
    "#3차원 벡터 클래스로 구현하시여"
   ]
  },
  {
   "cell_type": "code",
   "execution_count": 110,
   "metadata": {},
   "outputs": [],
   "source": [
    "class VEctor:\n",
    "    def __init__(self, x, y, z):\n",
    "        self.x = x\n",
    "        self.y = y\n",
    "        self.z = z\n",
    "    def __repr__ (self):\n",
    "        return \"좌표 %d %d %d\" % (self.x, self.y, self.z) \n",
    "    def __add__(self,other):\n",
    "        return VEctor(self.x + other.x, self.y + other.y ,self.z + other.z)\n",
    "    def __mul__(self,other):\n",
    "        return VEctor(self.x * other.x, self.y * other.y , self.z * other.z)\n",
    "    def __sub__(self,other):\n",
    "        return VEctor(self.x - other.x, self.y - other.y , self.z - other.z)\n",
    "    def __truediv__(self,other):\n",
    "        return VEctor(self.x / other.x, self.y / other.y , self.z / other.z)\n",
    "    def dist(self):\n",
    "        return math.sqrt(self.x *self.x + self.y *  self.y + self.z * self.z)\n",
    "    #방향만 바뀌어야지 크기까지 바뀌면 안됨\n",
    "    def norm(self):  # 정규화 : 크기값이 1인 사이즈로 변경\n",
    "        dist = self.dist()\n",
    "        return self.x/ dist, self.y/dist , self.z/dist\n",
    "    def dot(self,other): #벡터별 \n",
    "        return (self.x *other.x + self.y *other.y + self.z *other.z )\n",
    "    def theta(self,other): \n",
    "        dot = self.dot(other)\n",
    "        dist1 = self.dist()\n",
    "        dist2 = other.dist() #raidan = > degree 로 (컴퓨터만 라디안 만 사용)\n",
    "        return  math.acos(dot/(dist1 * dist2)) * (180/math.pi) \n",
    "# 변환과정이 필요 => 사람이 사용하는 각도 입력 (90)=> 라디안 변환(math.pi/180) => 계산후\n",
    "# => 사람이 사용하는 defree 로변환해서 출력\n"
   ]
  },
  {
   "cell_type": "code",
   "execution_count": 105,
   "metadata": {},
   "outputs": [
    {
     "name": "stdout",
     "output_type": "stream",
     "text": [
      "좌표 0 0 0\n"
     ]
    }
   ],
   "source": [
    "f = VEctor(10,20,30)\n",
    "g = VEctor(20,30,40)\n",
    "print(f/g)"
   ]
  },
  {
   "cell_type": "code",
   "execution_count": 112,
   "metadata": {},
   "outputs": [
    {
     "name": "stdout",
     "output_type": "stream",
     "text": [
      "좌표 10 0 0\n",
      "좌표 20 0 0\n",
      "좌표 10 -27 0\n",
      "좌표 0 0 0\n",
      "10.0\n",
      "27.0\n",
      "(1.0, 0.0, 0.0)\n",
      "(0.0, 1.0, 0.0)\n",
      "0\n",
      "90.0\n"
     ]
    }
   ],
   "source": [
    "f = VEctor(10,0,0)\n",
    "g = VEctor(0,27,0)\n",
    "\n",
    "print(f)\n",
    "print(f+f)\n",
    "print(f-g)\n",
    "print(f*g)\n",
    "print(f.dist()) #벡터크기\n",
    "print(g.dist())\n",
    "print(f.norm()) # 정규화\n",
    "print(g.norm())\n",
    "print(g.dot(f)) # 두 벡터의 내적\n",
    "print(f.theta(g)) # f와 g 사이각 \n",
    "\n"
   ]
  },
  {
   "cell_type": "code",
   "execution_count": 116,
   "metadata": {},
   "outputs": [
    {
     "name": "stdout",
     "output_type": "stream",
     "text": [
      "a= [1, 2, 3]\n",
      "[[1, 2, 3], [4, 5, [1, 2, 3]], 100]\n",
      "[[1, 2, 3], [4, 5, [1, 2, 3]], 100]\n",
      "[[1, 2, 3], [4, 5, [1, 2, 3]], 100]\n",
      "[[1, 2, 3], [4, 5, [1, 2, 3]], 100]\n",
      "[[1, 2, 3, 10], [4, 5, [1, 2, 3, 10]], 100]\n",
      "[[1, 2, 3, 10], [4, 5, [1, 2, 3, 10]], 100]\n",
      "[[1, 2, 3], [4, 5, [1, 2, 3]], 100]\n",
      "[[1, 2, 3], [4, 5, [1, 2, 3]], 100]\n"
     ]
    }
   ],
   "source": [
    "import copy\n",
    "a = [1,2,3]\n",
    "b = [4,5,a]\n",
    "x = [a,b,100]\n",
    "y = copy.copy(x) #주소복사 \n",
    "t = copy.deepcopy(x) #원래의 요소를 별도의 공간에 복사한 다음 주소전달\n",
    "e = copy.deepcopy(y)\n",
    "print(\"a=\",a)\n",
    "print(x)\n",
    "print(y)\n",
    "print(t)\n",
    "print(e)\n",
    "a.append(10)\n",
    "print(x)\n",
    "print(y)\n",
    "print(t)\n",
    "print(e)"
   ]
  },
  {
   "cell_type": "code",
   "execution_count": 117,
   "metadata": {},
   "outputs": [
    {
     "ename": "SyntaxError",
     "evalue": "invalid syntax (<ipython-input-117-964ea788a87f>, line 2)",
     "output_type": "error",
     "traceback": [
      "\u001b[1;36m  File \u001b[1;32m\"<ipython-input-117-964ea788a87f>\"\u001b[1;36m, line \u001b[1;32m2\u001b[0m\n\u001b[1;33m    - 총점과 평균도 계산해서 멤버 변수에 저장\u001b[0m\n\u001b[1;37m            ^\u001b[0m\n\u001b[1;31mSyntaxError\u001b[0m\u001b[1;31m:\u001b[0m invalid syntax\n"
     ]
    }
   ],
   "source": [
    "#이름 , 국어 , 수학 . 영어를 관리하는 student class 작성하기 (1인분만 관리)\n",
    "- 총점과 평균도 계산해서 멤버 변수에 저장"
   ]
  },
  {
   "cell_type": "code",
   "execution_count": 1,
   "metadata": {},
   "outputs": [],
   "source": [
    "class Student:\n",
    "    studC = 0\n",
    "    sum1 = 0 \n",
    "    sum2 = 0\n",
    "    sum3 = 0\n",
    "    def __init__(self, name, ko , math, en):\n",
    "        self.name = name\n",
    "        self.ko = ko\n",
    "        self.math = math\n",
    "        self.en = en\n",
    "        self.tot = self.ko + self.math + self.en\n",
    "        self.avg = self.tot/3\n",
    "        Student.studC += 1\n",
    "        Student.sum1 += ko\n",
    "        Student.sum2 += math\n",
    "        Student.sum3 += en     "
   ]
  },
  {
   "cell_type": "code",
   "execution_count": 3,
   "metadata": {},
   "outputs": [
    {
     "name": "stdout",
     "output_type": "stream",
     "text": [
      "1, 입력 2, 출력 3, 계산  4, 종료1\n",
      "이름 :dl\n",
      "국어10\n",
      "수학20\n",
      "영어30\n",
      "1, 입력 2, 출력 3, 계산  4, 종료1\n",
      "이름 :20\n",
      "국어30\n",
      "수학40\n",
      "영어60\n",
      "1, 입력 2, 출력 3, 계산  4, 종료3\n",
      "22 28 38\n",
      "1, 입력 2, 출력 3, 계산  4, 종료4\\\n",
      "1, 입력 2, 출력 3, 계산  4, 종료4\n"
     ]
    }
   ],
   "source": [
    "# 메뉴화\n",
    "def start():\n",
    "    students = []\n",
    "    while True:\n",
    "        choice = input(\"1, 입력 2, 출력 3, 계산  4, 종료\")\n",
    "        if choice == \"1\":\n",
    "            name = input(\"이름 :\")\n",
    "            ko = int(input(\"국어\"))\n",
    "            math = int(input(\"수학\"))\n",
    "            en = int(input(\"영어\"))\n",
    "            stud = Student(name,ko,math,en)\n",
    "            students.append(stud)\n",
    "            \n",
    "        elif choice == '2':\n",
    "            for s in students:\n",
    "                print(\"이름 %s 국어 %s 수학%s 영어%s 총점%s 평균%s\"% \n",
    "                      (s.name,s.ko,s.math,s.en,s.tot,s.avg))\n",
    "        elif choice == '3':\n",
    "            hap1 = round(Student.sum1 / Student.studC)\n",
    "            hap2 = round(Student.sum2 / Student.studC)\n",
    "            hap3 = round(Student.sum3 / Student.studC)\n",
    "            print(hap1,hap2,hap3)\n",
    "        elif choice == '4':\n",
    "            break\n",
    "start()"
   ]
  },
  {
   "cell_type": "code",
   "execution_count": 5,
   "metadata": {},
   "outputs": [],
   "source": [
    "# 국어 영어 수학의 반평균 출력"
   ]
  },
  {
   "cell_type": "code",
   "execution_count": 7,
   "metadata": {},
   "outputs": [],
   "source": [
    "class Student:\n",
    "    studC = 0\n",
    "    def __init__(self, name, ko , math, en):\n",
    "        self.name = name\n",
    "        self.ko = ko\n",
    "        self.math = math\n",
    "        self.en = en\n",
    "        self.tot = self.ko + self.math + self.en\n",
    "        self.avg = self.tot/3\n",
    "        Student.studC += 1\n",
    "      "
   ]
  },
  {
   "cell_type": "code",
   "execution_count": 12,
   "metadata": {},
   "outputs": [
    {
     "name": "stdout",
     "output_type": "stream",
     "text": [
      "1, 입력 2, 출력 3, 계산  4, 종료4\n"
     ]
    }
   ],
   "source": [
    "# 메뉴화\n",
    "def start():\n",
    "    students = []\n",
    "    while True:\n",
    "        choice = input(\"1, 입력 2, 출력 3, 계산  4, 종료\")\n",
    "        if choice == \"1\":\n",
    "            name = input(\"이름 :\")\n",
    "            ko = int(input(\"국어\"))\n",
    "            math = int(input(\"수학\"))\n",
    "            en = int(input(\"영어\"))\n",
    "            stud = Student(name,ko,math,en)\n",
    "            students.append(stud)\n",
    "            \n",
    "        elif choice == '2':\n",
    "            for s in students:\n",
    "                print(\"이름 %s 국어 %s 수학%s 영어%s 총점%s 평균%s\"% \n",
    "                      (s.name,s.ko,s.math,s.en,s.tot,s.avg))\n",
    "        elif choice == '3':\n",
    "            kor_tot = 0; eng_tot = 0; mat_tot =0\n",
    "            for s in students:\n",
    "                kor_tot += s.ko\n",
    "                eng_tot += s.en\n",
    "                mat_tot += s.math\n",
    "            kor_avg = round(kor_tot / len(students),2)\n",
    "            eng_avg = round(eng_tot / len(students),2)\n",
    "            mat_avg = round(mat_tot / len(students),2)\n",
    "            print(\"총학생수 : %s\" % len(students))\n",
    "            print(\"국어평균 : %s\\t\\t 영어평균: %s\\t\\t 수학평균: %s\\t\\t\"%(kor_avg, eng_avg, mat_avg))\n",
    "        elif choice == '4':\n",
    "            break\n",
    "start()"
   ]
  },
  {
   "cell_type": "code",
   "execution_count": 13,
   "metadata": {},
   "outputs": [
    {
     "ename": "SyntaxError",
     "evalue": "invalid syntax (<ipython-input-13-9b2cb2bca194>, line 2)",
     "output_type": "error",
     "traceback": [
      "\u001b[1;36m  File \u001b[1;32m\"<ipython-input-13-9b2cb2bca194>\"\u001b[1;36m, line \u001b[1;32m2\u001b[0m\n\u001b[1;33m    -기본적인 데이터를 저장하는 클래스\u001b[0m\n\u001b[1;37m             ^\u001b[0m\n\u001b[1;31mSyntaxError\u001b[0m\u001b[1;31m:\u001b[0m invalid syntax\n"
     ]
    }
   ],
   "source": [
    "#2개로 분리된 class\n",
    "-기본적인 데이터를 저장하는 클래스\n",
    "-managenent(입력 출력 검색 수정)\n",
    "-메뉴함수\n"
   ]
  },
  {
   "cell_type": "code",
   "execution_count": 1,
   "metadata": {},
   "outputs": [],
   "source": [
    "# import sys\n",
    "class Student:\n",
    "    def __init__(self):\n",
    "        self.bunho = 0 ; self.name = '';\n",
    "        self.kor = 0; self.mat = 0; self.eng=0;\n",
    "        self.total = 0; self.average =0; self.grade=\"\"\n",
    "    def inputData(self):\n",
    "        self.name= input( \"이름\")\n",
    "        self.kor= eval(input(\"kor\"))\n",
    "        self.mat = eval(input(\"mat\"))\n",
    "        self.eng = eval(input(\"eng\"))\n",
    "    def calc_total_average(self): #수정도 염두에 두어서 별도의 함수화\n",
    "        self.total = self.kor + self.mat + self.eng\n",
    "        self.average = round(self.total/ 3 ,2)\n",
    "        self.grade = self.calcSemGrade()\n",
    "    def calcSemGrade(self):\n",
    "        if self.average>=90: return 'a'\n",
    "        elif self.average>=80: return 'b'        \n",
    "        elif self.average>=70: return 'c'        \n",
    "        elif self.average>=60: return 'd'        \n",
    "        else: return 'f'       \n",
    "    def __str__(self):\n",
    "        return '%5s %5s %6.2f %6.2f %6.2f %7.2f %7.2s %5s'% (self.bunho , self.name, self.kor, self.mat, self.eng , self.total, self.average, self.grade)\n",
    "\n",
    "    def __cmp__(self,other):\n",
    "        return self.name == other.name"
   ]
  },
  {
   "cell_type": "code",
   "execution_count": 33,
   "metadata": {},
   "outputs": [],
   "source": [
    "class Mangement:\n",
    "    schoolname = \" 제주 아카데미\"\n",
    "    bunho = 0\n",
    "    def __init__(self,count):\n",
    "        print(\"메뉴를 선택하시오\")\n",
    "        self.sungjuck=[]\n",
    "        self.count = count\n",
    "    def input(self):\n",
    "        for co_in in range(self.count):\n",
    "            stu = Student()\n",
    "            stu.inputData()\n",
    "            Mangement.bunho += 1\n",
    "            stu.bunho = Mangement.bunho\n",
    "            self.sungjuck.append(stu)\n",
    "    def print_sungjuck(self):\n",
    "        for per in self.sungjuck:\n",
    "            print(per)\n",
    "            print()\n",
    "    def calc_sungjuck(self):\n",
    "        for per in self.sungjuck:\n",
    "            per.calc_total_average()\n",
    "    def search_name(self):\n",
    "        name = input(\"검색할 학생의 이름\")\n",
    "        for per in self.sungjuck:\n",
    "            if(per.name == name):\n",
    "                print(per)\n",
    "                return\n",
    "        print(\"검색하고자 하는 학생이 읎읎\")\n",
    "        return\n",
    "    def re(self):\n",
    "        name = input(\"수정 학생이름\")\n",
    "        name2 = input(\"바꿀이름\")\n",
    "        for per in self.sungjuck:\n",
    "            if(per.name == name):\n",
    "                per.name = name2\n",
    "                return\n",
    "    def delete(self):\n",
    "        name = input(\"삭제할 이름\")\n",
    "        a = self.sungjuck:\n",
    "        for per in :\n",
    "            if(per.name==name):\n",
    "                del Mangement.sungjuck[per]\n",
    "                return self.sungjuck\n",
    "            "
   ]
  },
  {
   "cell_type": "code",
   "execution_count": 34,
   "metadata": {},
   "outputs": [
    {
     "name": "stdout",
     "output_type": "stream",
     "text": [
      "메뉴를 선택하시오\n",
      "['입력 1 ,출력 2 ,계산 3 , 검색 4, 이름수정 5, 이름삭제 6, 정렬 7 , 종료 9']kim\n",
      "['입력 1 ,출력 2 ,계산 3 , 검색 4, 이름수정 5, 이름삭제 6, 정렬 7 , 종료 9']1\n",
      "이름kim\n",
      "kor12\n",
      "mat123\n",
      "eng123\n",
      "['입력 1 ,출력 2 ,계산 3 , 검색 4, 이름수정 5, 이름삭제 6, 정렬 7 , 종료 9']6\n",
      "삭제할 이름kim\n"
     ]
    },
    {
     "ename": "AttributeError",
     "evalue": "type object 'Mangement' has no attribute 'sungjuck'",
     "output_type": "error",
     "traceback": [
      "\u001b[1;31m---------------------------------------------------------------------------\u001b[0m",
      "\u001b[1;31mAttributeError\u001b[0m                            Traceback (most recent call last)",
      "\u001b[1;32m<ipython-input-34-246fb8d77be1>\u001b[0m in \u001b[0;36m<module>\u001b[1;34m\u001b[0m\n\u001b[0;32m     24\u001b[0m         \u001b[1;32mcontinue\u001b[0m\u001b[1;33m\u001b[0m\u001b[1;33m\u001b[0m\u001b[0m\n\u001b[0;32m     25\u001b[0m     \u001b[1;32melif\u001b[0m \u001b[0msel\u001b[0m \u001b[1;33m==\u001b[0m \u001b[1;34m'6'\u001b[0m\u001b[1;33m:\u001b[0m\u001b[1;33m\u001b[0m\u001b[1;33m\u001b[0m\u001b[0m\n\u001b[1;32m---> 26\u001b[1;33m         \u001b[0mman_sung\u001b[0m\u001b[1;33m.\u001b[0m\u001b[0mdelete\u001b[0m\u001b[1;33m(\u001b[0m\u001b[1;33m)\u001b[0m\u001b[1;33m\u001b[0m\u001b[1;33m\u001b[0m\u001b[0m\n\u001b[0m\u001b[0;32m     27\u001b[0m         \u001b[0mprint\u001b[0m\u001b[1;33m(\u001b[0m\u001b[1;34m\"삭제\"\u001b[0m\u001b[1;33m)\u001b[0m\u001b[1;33m\u001b[0m\u001b[1;33m\u001b[0m\u001b[0m\n\u001b[0;32m     28\u001b[0m         \u001b[1;32mcontinue\u001b[0m\u001b[1;33m\u001b[0m\u001b[1;33m\u001b[0m\u001b[0m\n",
      "\u001b[1;32m<ipython-input-33-f441d8b5824c>\u001b[0m in \u001b[0;36mdelete\u001b[1;34m(self)\u001b[0m\n\u001b[0;32m     39\u001b[0m         \u001b[1;32mfor\u001b[0m \u001b[0mper\u001b[0m \u001b[1;32min\u001b[0m \u001b[0mself\u001b[0m\u001b[1;33m.\u001b[0m\u001b[0msungjuck\u001b[0m\u001b[1;33m:\u001b[0m\u001b[1;33m\u001b[0m\u001b[1;33m\u001b[0m\u001b[0m\n\u001b[0;32m     40\u001b[0m             \u001b[1;32mif\u001b[0m\u001b[1;33m(\u001b[0m\u001b[0mper\u001b[0m\u001b[1;33m.\u001b[0m\u001b[0mname\u001b[0m\u001b[1;33m==\u001b[0m\u001b[0mname\u001b[0m\u001b[1;33m)\u001b[0m\u001b[1;33m:\u001b[0m\u001b[1;33m\u001b[0m\u001b[1;33m\u001b[0m\u001b[0m\n\u001b[1;32m---> 41\u001b[1;33m                 \u001b[1;32mdel\u001b[0m \u001b[0mMangement\u001b[0m\u001b[1;33m.\u001b[0m\u001b[0msungjuck\u001b[0m\u001b[1;33m[\u001b[0m\u001b[0mper\u001b[0m\u001b[1;33m]\u001b[0m\u001b[1;33m\u001b[0m\u001b[1;33m\u001b[0m\u001b[0m\n\u001b[0m\u001b[0;32m     42\u001b[0m                 \u001b[1;32mreturn\u001b[0m \u001b[0mself\u001b[0m\u001b[1;33m.\u001b[0m\u001b[0msungjuck\u001b[0m\u001b[1;33m\u001b[0m\u001b[1;33m\u001b[0m\u001b[0m\n\u001b[0;32m     43\u001b[0m \u001b[1;33m\u001b[0m\u001b[0m\n",
      "\u001b[1;31mAttributeError\u001b[0m: type object 'Mangement' has no attribute 'sungjuck'"
     ]
    }
   ],
   "source": [
    "### 1# sj = [\"번호\", \"이름\", \"국어\" , \"수학\", \"총점\", \"평균\", \"학점\"]\n",
    "menu = [\"입력 1 ,출력 2 ,계산 3 , 검색 4, 이름수정 5, 이름삭제 6, 정렬 7 , 종료 9\"]\n",
    "man_sung = Mangement(1)\n",
    "while 1:\n",
    "    sel = input(menu)\n",
    "    if sel == '1':\n",
    "        man_sung.input()\n",
    "        continue\n",
    "    elif sel == \"2\":\n",
    "        print(Mangement.schoolname + \"성적계산표\")\n",
    "        print(\"%5s %5s %6s %6s %6s %7s %7s %7s\" %(\"번호\", \"이름\", \"국어\", \"수학\",\"영어\", \"총점\" , \"평균\" , \"학점\"))\n",
    "        man_sung.print_sungjuck()\n",
    "        continue\n",
    "    elif sel == '3':\n",
    "        man_sung.calc_sungjuck()\n",
    "        print(\"계산이 완료 되었습니다\")\n",
    "        continue\n",
    "    elif sel == '4':\n",
    "        man_sung.search_name()\n",
    "        continue\n",
    "    elif sel == '5':\n",
    "        man_sung.re()\n",
    "        print(\"바뀜\")\n",
    "        continue\n",
    "    elif sel == '6':\n",
    "        man_sung.delete()\n",
    "        print(\"삭제\")\n",
    "        continue\n",
    "        \n",
    "        \n",
    "\n",
    "#이름 수정 이름 삭제 정렬 "
   ]
  }
 ],
 "metadata": {
  "kernelspec": {
   "display_name": "Python 3",
   "language": "python",
   "name": "python3"
  },
  "language_info": {
   "codemirror_mode": {
    "name": "ipython",
    "version": 3
   },
   "file_extension": ".py",
   "mimetype": "text/x-python",
   "name": "python",
   "nbconvert_exporter": "python",
   "pygments_lexer": "ipython3",
   "version": "3.7.4"
  }
 },
 "nbformat": 4,
 "nbformat_minor": 2
}
