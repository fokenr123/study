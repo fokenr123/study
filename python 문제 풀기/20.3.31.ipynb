{
 "cells": [
  {
   "cell_type": "markdown",
   "metadata": {},
   "source": [
    "# 1712 : 손익분기점 "
   ]
  },
  {
   "cell_type": "code",
   "execution_count": 5,
   "metadata": {},
   "outputs": [
    {
     "name": "stdout",
     "output_type": "stream",
     "text": [
      "1000 100 30\n",
      "-1\n"
     ]
    }
   ],
   "source": [
    "a , b , c = list(map(int,input().split()))\n",
    "\n",
    "result = 0\n",
    "if (c <= b):\n",
    "    print(-1)\n",
    "else:\n",
    "    result = a // (c - b) + 1\n",
    "    print(result)"
   ]
  },
  {
   "cell_type": "code",
   "execution_count": 6,
   "metadata": {},
   "outputs": [
    {
     "name": "stdout",
     "output_type": "stream",
     "text": [
      "1000 70 170\n",
      "11\n"
     ]
    }
   ],
   "source": [
    "# 추가 (시간초과)\n",
    "a, b, c = list(map(int, input().split()))\n",
    "n = 0\n",
    "while(True):\n",
    "    if a + n*b < c*n :\n",
    "        result = n\n",
    "        break\n",
    "    else:\n",
    "        n = n + 1\n",
    "    \n",
    "print(result)"
   ]
  },
  {
   "cell_type": "markdown",
   "metadata": {},
   "source": [
    "#  2581 : 소수 "
   ]
  },
  {
   "cell_type": "code",
   "execution_count": 38,
   "metadata": {},
   "outputs": [
    {
     "name": "stdout",
     "output_type": "stream",
     "text": [
      "60\n",
      "100\n",
      "[61, 67, 71, 73, 79, 83, 89, 97]\n",
      "620\n",
      "61\n"
     ]
    }
   ],
   "source": [
    "M = int(input())\n",
    "N = int(input())\n",
    "\n",
    "a = []\n",
    "for i in range(M , N + 1):\n",
    "    if i != 1:\n",
    "        for j in range(2,i):\n",
    "            if i % j == 0:\n",
    "                break\n",
    "        else:\n",
    "            a.append(i)\n",
    "if not a:\n",
    "    print(-1)\n",
    "else:\n",
    "    print(a)\n",
    "    print(sum(a))\n",
    "    print(min(a))"
   ]
  },
  {
   "cell_type": "markdown",
   "metadata": {},
   "source": [
    "# 1929번 : 소수 구하기 "
   ]
  },
  {
   "cell_type": "code",
   "execution_count": 1,
   "metadata": {},
   "outputs": [
    {
     "name": "stdout",
     "output_type": "stream",
     "text": [
      "1 10\n",
      "2\n",
      "3\n",
      "5\n",
      "7\n"
     ]
    }
   ],
   "source": [
    "import math\n",
    "M , N = list(map(int,input().split()))\n",
    "num = 0\n",
    "for i in range(M , N + 1):\n",
    "    if i != 1:\n",
    "        num = int(math.sqrt(i)) # 제곱근으로 시간 단축 \n",
    "        for j in range( 2 , num+1 ):\n",
    "            if i % j == 0:\n",
    "                break\n",
    "        else:\n",
    "            print(i)\n"
   ]
  },
  {
   "cell_type": "markdown",
   "metadata": {},
   "source": [
    "# 4948번 : 베르트랑 공존\n",
    "각 테스트 케이스에 대해서, n보다 크고, 2n보다 작거나 같은 소수의 개수를 출력한다."
   ]
  },
  {
   "cell_type": "code",
   "execution_count": null,
   "metadata": {},
   "outputs": [],
   "source": [
    "# (시간초과) - 다시 풀어보기 \n",
    "import math\n",
    "while(True):\n",
    "    M = int(input())\n",
    "    a = [ ]\n",
    "    if M == 0:\n",
    "        break\n",
    "    else:    \n",
    "        N = M * 2\n",
    "        num = 0\n",
    "        for i in range(M , N + 1):\n",
    "            if i != 1:\n",
    "                num = int(math.sqrt(i)) \n",
    "                for j in range( 2 , num+1 ):\n",
    "                    if i % j == 0:\n",
    "                        break\n",
    "                else:\n",
    "                    a.append(i)\n",
    "        print(len(a))"
   ]
  }
 ],
 "metadata": {
  "kernelspec": {
   "display_name": "Python 3",
   "language": "python",
   "name": "python3"
  },
  "language_info": {
   "codemirror_mode": {
    "name": "ipython",
    "version": 3
   },
   "file_extension": ".py",
   "mimetype": "text/x-python",
   "name": "python",
   "nbconvert_exporter": "python",
   "pygments_lexer": "ipython3",
   "version": "3.7.6"
  }
 },
 "nbformat": 4,
 "nbformat_minor": 4
}
