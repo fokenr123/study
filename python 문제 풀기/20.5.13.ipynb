{
 "cells": [
  {
   "cell_type": "code",
   "execution_count": 58,
   "metadata": {},
   "outputs": [
    {
     "name": "stdout",
     "output_type": "stream",
     "text": [
      "4\n",
      "0 10 15 20\n",
      "5 0 9 10\n",
      "6 13 0 12\n",
      "8 8 9 0\n",
      "35\n"
     ]
    }
   ],
   "source": [
    "import sys \n",
    "def move(now, depth): \n",
    "    global charge, ans \n",
    "    if depth == n: \n",
    "        if path[now][0] > 0: \n",
    "            ans = min(ans, charge + path[now][0]) \n",
    "        return \n",
    "    visit[now] = 1 \n",
    "    for l in link[now]: \n",
    "        if not visit[l]: \n",
    "            charge += path[now][l] \n",
    "            move(l, depth+1) \n",
    "            charge -= path[now][l] \n",
    "    visit[now] = 0 \n",
    "n = int(input()) \n",
    "path = [list(map(int, input().split())) for _ in range(n)] \n",
    "visit = [0] * n \n",
    "link = {} \n",
    "charge, ans = 0, 10**7 \n",
    "for i in range(n): \n",
    "    link[i] = [] \n",
    "    for j in range(n): \n",
    "        if path[i][j] > 0: \n",
    "            link[i].append(j) \n",
    "move(0, 1) \n",
    "print(ans)\n"
   ]
  },
  {
   "cell_type": "code",
   "execution_count": 62,
   "metadata": {},
   "outputs": [],
   "source": [
    "import sys \n",
    "def move(now, depth): \n",
    "    global charge, ans \n",
    "    if depth == n: \n",
    "        if path[now][0] > 0: \n",
    "            ans = min(ans, charge + path[now][0]) \n",
    "            print(ans)\n",
    "        return \n",
    "    visit[now] = 1 \n",
    "    print(visit)\n",
    "    for l in link[now]:\n",
    "        if not visit[l]: \n",
    "            charge += path[now][l] \n",
    "            move(l, depth+1) \n",
    "            charge -= path[now][l] \n",
    "    visit[now] = 0  "
   ]
  },
  {
   "cell_type": "code",
   "execution_count": 24,
   "metadata": {},
   "outputs": [
    {
     "data": {
      "text/plain": [
       "[1, 2, 3]"
      ]
     },
     "execution_count": 24,
     "metadata": {},
     "output_type": "execute_result"
    }
   ],
   "source": [
    "link[0]"
   ]
  },
  {
   "cell_type": "code",
   "execution_count": 63,
   "metadata": {
    "scrolled": false
   },
   "outputs": [
    {
     "name": "stdout",
     "output_type": "stream",
     "text": [
      "[1, 0, 0, 0]\n",
      "[1, 1, 0, 0]\n",
      "[1, 1, 1, 0]\n",
      "35\n",
      "[1, 1, 0, 1]\n",
      "35\n",
      "[1, 0, 1, 0]\n",
      "[1, 1, 1, 0]\n",
      "35\n",
      "[1, 0, 1, 1]\n",
      "35\n",
      "[1, 0, 0, 1]\n",
      "[1, 1, 0, 1]\n",
      "35\n",
      "[1, 0, 1, 1]\n",
      "35\n",
      "35\n"
     ]
    }
   ],
   "source": [
    "for i in range(n): \n",
    "    link[i] = [] \n",
    "    for j in range(n): \n",
    "        if path[i][j] > 0: \n",
    "            link[i].append(j) \n",
    "move(0, 1) \n",
    "print(ans)"
   ]
  },
  {
   "cell_type": "code",
   "execution_count": 51,
   "metadata": {},
   "outputs": [],
   "source": [
    "def dr(n):\n",
    "    i = 0\n",
    "    while True:\n",
    "        n = 4\n",
    "        i += 1\n",
    "        if n == i:\n",
    "            break\n",
    "        else:\n",
    "            print(i)"
   ]
  },
  {
   "cell_type": "code",
   "execution_count": 52,
   "metadata": {},
   "outputs": [
    {
     "name": "stdout",
     "output_type": "stream",
     "text": [
      "1\n",
      "2\n",
      "3\n"
     ]
    }
   ],
   "source": [
    "dr(4)"
   ]
  }
 ],
 "metadata": {
  "kernelspec": {
   "display_name": "Python 3",
   "language": "python",
   "name": "python3"
  },
  "language_info": {
   "codemirror_mode": {
    "name": "ipython",
    "version": 3
   },
   "file_extension": ".py",
   "mimetype": "text/x-python",
   "name": "python",
   "nbconvert_exporter": "python",
   "pygments_lexer": "ipython3",
   "version": "3.7.6"
  }
 },
 "nbformat": 4,
 "nbformat_minor": 4
}
