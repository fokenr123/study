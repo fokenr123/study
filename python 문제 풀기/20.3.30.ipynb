{
 "cells": [
  {
   "cell_type": "markdown",
   "metadata": {},
   "source": [
    "# 백준 14681 : 사분면 고르기\n"
   ]
  },
  {
   "cell_type": "code",
   "execution_count": 8,
   "metadata": {},
   "outputs": [
    {
     "name": "stdout",
     "output_type": "stream",
     "text": [
      "-1\n",
      "3\n",
      "2\n"
     ]
    }
   ],
   "source": [
    "x = int(input())\n",
    "y = int(input())\n",
    "\n",
    "if(x > 0 and y > 0 ):\n",
    "    result = 1\n",
    "elif(x < 0 and y > 0):\n",
    "    result = 2\n",
    "elif(x < 0 and y < 0 ):\n",
    "    result = 3\n",
    "elif(x > 0 and y < 0):\n",
    "    result = 4\n",
    "print(result)"
   ]
  },
  {
   "cell_type": "markdown",
   "metadata": {},
   "source": [
    "# 백준 10039번 : 평균 점수"
   ]
  },
  {
   "cell_type": "code",
   "execution_count": 12,
   "metadata": {
    "scrolled": true
   },
   "outputs": [
    {
     "name": "stdout",
     "output_type": "stream",
     "text": [
      "10\n",
      "20\n",
      "30\n",
      "40\n",
      "50\n",
      "30\n"
     ]
    }
   ],
   "source": [
    "total = [] \n",
    "score1 = total.append(int(input())) \n",
    "score2 = total.append(int(input()))\n",
    "score3 = total.append(int(input()))\n",
    "score4 = total.append(int(input()))\n",
    "score5 = total.append(int(input()))\n",
    "\n",
    "for i in range(4):\n",
    "    if total[i] < 40:\n",
    "        total[i] = 40\n",
    "print(rou(sum(total)/len(total)))\n"
   ]
  },
  {
   "cell_type": "markdown",
   "metadata": {},
   "source": [
    "# 5543 번 : 상근날드"
   ]
  },
  {
   "cell_type": "code",
   "execution_count": 37,
   "metadata": {},
   "outputs": [
    {
     "name": "stdout",
     "output_type": "stream",
     "text": [
      "800\n",
      "700\n",
      "900\n",
      "198\n",
      "330\n",
      "848\n"
     ]
    }
   ],
   "source": [
    "hamburger = []\n",
    "drink = []\n",
    "for i in range(3):\n",
    "    hamburger.append(int(input()))\n",
    "for i in range(2):\n",
    "    drink.append(int(input()))\n",
    "\n",
    "print(min(hamburger) + min(drink) - 50)"
   ]
  },
  {
   "cell_type": "markdown",
   "metadata": {},
   "source": [
    "# 2523번 : 별 찍기 - 13"
   ]
  },
  {
   "cell_type": "code",
   "execution_count": 63,
   "metadata": {},
   "outputs": [
    {
     "name": "stdout",
     "output_type": "stream",
     "text": [
      "4\n",
      "*\n",
      "**\n",
      "***\n",
      "****\n",
      "***\n",
      "**\n",
      "*\n"
     ]
    }
   ],
   "source": [
    "n = int(input())\n",
    "for i in range(n):\n",
    "    i = i + 1\n",
    "    print(i*'*')\n",
    "for j in range(n-1,0,-1):\n",
    "    print(j*'*')"
   ]
  },
  {
   "cell_type": "markdown",
   "metadata": {},
   "source": [
    "# 2446 : 별 찍기 - 9"
   ]
  },
  {
   "cell_type": "code",
   "execution_count": 24,
   "metadata": {},
   "outputs": [
    {
     "name": "stdout",
     "output_type": "stream",
     "text": [
      "5\n",
      "*********\n",
      " *******\n",
      "  *****\n",
      "   ***\n",
      "    *\n",
      "   ***\n",
      "  *****\n",
      " *******\n",
      "*********\n"
     ]
    }
   ],
   "source": [
    "n = int(input())\n",
    "f = 0 \n",
    "for i in range(n , 0 , -1):\n",
    "    i = i * 2 - 1\n",
    "    print(f * ' ' , end = \"\")\n",
    "    print(i * '*')\n",
    "    f = f + 1\n",
    "f = f - 1 \n",
    "for j in range(1, n):\n",
    "    j = j * 2 + 1\n",
    "    f = f - 1\n",
    "    print(f * ' ',end = \"\")\n",
    "    print(j * '*')"
   ]
  },
  {
   "cell_type": "markdown",
   "metadata": {},
   "source": [
    "# 1096번 별 찍기 - 21 "
   ]
  },
  {
   "cell_type": "code",
   "execution_count": 54,
   "metadata": {},
   "outputs": [
    {
     "name": "stdout",
     "output_type": "stream",
     "text": [
      "4\n",
      "* * \n",
      " * *\n",
      "* * \n",
      " * *\n",
      "* * \n",
      " * *\n",
      "* * \n",
      " * *\n"
     ]
    }
   ],
   "source": [
    "n = int(input())\n",
    "a = n % 2\n",
    "b = n // 2\n",
    "\n",
    "for i in range(n):\n",
    "    if n == 1:\n",
    "        print('*')\n",
    "    elif a == 0:\n",
    "        print('* '*b)\n",
    "        print(' *'*b)\n",
    "    elif a == 1:\n",
    "        print('* '*b +\"*\")\n",
    "        print(' *'*b)"
   ]
  }
 ],
 "metadata": {
  "kernelspec": {
   "display_name": "keras",
   "language": "python",
   "name": "keras"
  },
  "language_info": {
   "codemirror_mode": {
    "name": "ipython",
    "version": 3
   },
   "file_extension": ".py",
   "mimetype": "text/x-python",
   "name": "python",
   "nbconvert_exporter": "python",
   "pygments_lexer": "ipython3",
   "version": "3.5.6"
  }
 },
 "nbformat": 4,
 "nbformat_minor": 4
}
