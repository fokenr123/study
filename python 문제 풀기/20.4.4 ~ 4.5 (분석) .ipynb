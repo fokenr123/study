{
 "cells": [
  {
   "cell_type": "code",
   "execution_count": 1,
   "metadata": {},
   "outputs": [],
   "source": [
    "import pandas as pd\n",
    "\n",
    "confirmed = pd.read_csv('./data/time_series_covid_19_confirmed.csv')\n",
    "deaths = pd.read_csv('./data/time_series_covid_19_deaths.csv')\n",
    "recoverd = pd.read_csv('./data/time_series_covid_19_recovered.csv')\n"
   ]
  },
  {
   "cell_type": "code",
   "execution_count": 2,
   "metadata": {
    "scrolled": true
   },
   "outputs": [
    {
     "name": "stdout",
     "output_type": "stream",
     "text": [
      "<class 'pandas.core.frame.DataFrame'>\n",
      "RangeIndex: 258 entries, 0 to 257\n",
      "Data columns (total 76 columns):\n",
      "Province/State    80 non-null object\n",
      "Country/Region    258 non-null object\n",
      "Lat               258 non-null float64\n",
      "Long              258 non-null float64\n",
      "1/22/20           258 non-null int64\n",
      "1/23/20           258 non-null int64\n",
      "1/24/20           258 non-null int64\n",
      "1/25/20           258 non-null int64\n",
      "1/26/20           258 non-null int64\n",
      "1/27/20           258 non-null int64\n",
      "1/28/20           258 non-null int64\n",
      "1/29/20           258 non-null int64\n",
      "1/30/20           258 non-null int64\n",
      "1/31/20           258 non-null int64\n",
      "2/1/20            258 non-null int64\n",
      "2/2/20            258 non-null int64\n",
      "2/3/20            258 non-null int64\n",
      "2/4/20            258 non-null int64\n",
      "2/5/20            258 non-null int64\n",
      "2/6/20            258 non-null int64\n",
      "2/7/20            258 non-null int64\n",
      "2/8/20            258 non-null int64\n",
      "2/9/20            258 non-null int64\n",
      "2/10/20           258 non-null int64\n",
      "2/11/20           258 non-null int64\n",
      "2/12/20           258 non-null int64\n",
      "2/13/20           258 non-null int64\n",
      "2/14/20           258 non-null int64\n",
      "2/15/20           258 non-null int64\n",
      "2/16/20           258 non-null int64\n",
      "2/17/20           258 non-null int64\n",
      "2/18/20           258 non-null int64\n",
      "2/19/20           258 non-null int64\n",
      "2/20/20           258 non-null int64\n",
      "2/21/20           258 non-null int64\n",
      "2/22/20           258 non-null int64\n",
      "2/23/20           258 non-null int64\n",
      "2/24/20           258 non-null int64\n",
      "2/25/20           258 non-null int64\n",
      "2/26/20           258 non-null int64\n",
      "2/27/20           258 non-null int64\n",
      "2/28/20           258 non-null int64\n",
      "2/29/20           258 non-null int64\n",
      "3/1/20            258 non-null int64\n",
      "3/2/20            258 non-null int64\n",
      "3/3/20            258 non-null int64\n",
      "3/4/20            258 non-null int64\n",
      "3/5/20            258 non-null int64\n",
      "3/6/20            258 non-null int64\n",
      "3/7/20            258 non-null int64\n",
      "3/8/20            258 non-null int64\n",
      "3/9/20            258 non-null int64\n",
      "3/10/20           258 non-null int64\n",
      "3/11/20           258 non-null int64\n",
      "3/12/20           258 non-null int64\n",
      "3/13/20           258 non-null int64\n",
      "3/14/20           258 non-null int64\n",
      "3/15/20           258 non-null int64\n",
      "3/16/20           258 non-null int64\n",
      "3/17/20           258 non-null int64\n",
      "3/18/20           258 non-null int64\n",
      "3/19/20           258 non-null int64\n",
      "3/20/20           258 non-null int64\n",
      "3/21/20           258 non-null int64\n",
      "3/22/20           258 non-null int64\n",
      "3/23/20           258 non-null int64\n",
      "3/24/20           258 non-null int64\n",
      "3/25/20           258 non-null int64\n",
      "3/26/20           258 non-null int64\n",
      "3/27/20           258 non-null int64\n",
      "3/28/20           258 non-null int64\n",
      "3/29/20           258 non-null int64\n",
      "3/30/20           258 non-null int64\n",
      "3/31/20           258 non-null int64\n",
      "4/1/20            258 non-null int64\n",
      "4/2/20            258 non-null int64\n",
      "dtypes: float64(2), int64(72), object(2)\n",
      "memory usage: 153.3+ KB\n"
     ]
    }
   ],
   "source": [
    "# 데이터 정보 확인 \n",
    "# province/state : 결측값 존재\n",
    "# Country/Region : 범주형 자료\n",
    "# lat , long : 위도 경도는 실수형 자료\n",
    "confirmed.info()"
   ]
  },
  {
   "cell_type": "markdown",
   "metadata": {},
   "source": [
    "# 데이터 전처리"
   ]
  },
  {
   "cell_type": "code",
   "execution_count": 3,
   "metadata": {},
   "outputs": [],
   "source": [
    "# 데이터 전처리 (Province/State) 제거\n",
    "confirmed_1 = confirmed.drop(['Province/State'] ,axis = 1)\n",
    "deaths_1 = deaths.drop(['Province/State'] ,axis = 1)\n",
    "recoverd_1 = recoverd.drop(['Province/State'] ,axis = 1)"
   ]
  },
  {
   "cell_type": "code",
   "execution_count": 4,
   "metadata": {},
   "outputs": [],
   "source": [
    "# 확진자 , 완치자 , 사망자 데이터를 분석하기 위해 위도 경도 삭제\n",
    "confirmed_2 = confirmed_1.drop(['Lat','Long'] , axis = 1)\n",
    "deaths_2= deaths_1.drop(['Lat','Long'] , axis = 1)\n",
    "recoverd_2 = recoverd_1.drop(['Lat','Long'] , axis = 1)\n"
   ]
  },
  {
   "cell_type": "markdown",
   "metadata": {},
   "source": [
    "## 중복된 country 찾고 그룹화 하기"
   ]
  },
  {
   "cell_type": "code",
   "execution_count": 5,
   "metadata": {},
   "outputs": [
    {
     "name": "stdout",
     "output_type": "stream",
     "text": [
      "China\n",
      "Canada\n",
      "United Kingdom\n",
      "France\n",
      "Australia\n",
      "Netherlands\n",
      "Denmark\n"
     ]
    }
   ],
   "source": [
    "# 중복된 나라 찾기 \n",
    "import pandas as pd \n",
    "Country=confirmed_2.iloc[:,0]\n",
    "df = Country.value_counts()\n",
    "df.index[1]\n",
    "\n",
    "for i in range(len(df)):\n",
    "    a = df[i]\n",
    "    if a > 1:\n",
    "        print(df.index[i])"
   ]
  },
  {
   "cell_type": "markdown",
   "metadata": {},
   "source": [
    "-중복된 나라\n",
    "(China\n",
    "Canada\n",
    "France\n",
    "United Kingdom\n",
    "Australia\n",
    "Netherlands\n",
    "Denmark)"
   ]
  },
  {
   "cell_type": "code",
   "execution_count": 6,
   "metadata": {},
   "outputs": [],
   "source": [
    "# 중복된 나라 그룹화 해서 값을  \n",
    "confirmed_3 = confirmed_2.groupby('Country/Region').sum()\n",
    "deaths_3= deaths_2.groupby('Country/Region').sum()\n",
    "recoverd_3= recoverd_2.groupby('Country/Region').sum()"
   ]
  },
  {
   "cell_type": "code",
   "execution_count": 7,
   "metadata": {},
   "outputs": [
    {
     "data": {
      "text/html": [
       "<div>\n",
       "<style scoped>\n",
       "    .dataframe tbody tr th:only-of-type {\n",
       "        vertical-align: middle;\n",
       "    }\n",
       "\n",
       "    .dataframe tbody tr th {\n",
       "        vertical-align: top;\n",
       "    }\n",
       "\n",
       "    .dataframe thead th {\n",
       "        text-align: right;\n",
       "    }\n",
       "</style>\n",
       "<table border=\"1\" class=\"dataframe\">\n",
       "  <thead>\n",
       "    <tr style=\"text-align: right;\">\n",
       "      <th>Country/Region</th>\n",
       "      <th>China</th>\n",
       "    </tr>\n",
       "  </thead>\n",
       "  <tbody>\n",
       "    <tr>\n",
       "      <th>1/22/20</th>\n",
       "      <td>548</td>\n",
       "    </tr>\n",
       "    <tr>\n",
       "      <th>1/23/20</th>\n",
       "      <td>643</td>\n",
       "    </tr>\n",
       "    <tr>\n",
       "      <th>1/24/20</th>\n",
       "      <td>920</td>\n",
       "    </tr>\n",
       "    <tr>\n",
       "      <th>1/25/20</th>\n",
       "      <td>1406</td>\n",
       "    </tr>\n",
       "    <tr>\n",
       "      <th>1/26/20</th>\n",
       "      <td>2075</td>\n",
       "    </tr>\n",
       "    <tr>\n",
       "      <th>...</th>\n",
       "      <td>...</td>\n",
       "    </tr>\n",
       "    <tr>\n",
       "      <th>3/29/20</th>\n",
       "      <td>82122</td>\n",
       "    </tr>\n",
       "    <tr>\n",
       "      <th>3/30/20</th>\n",
       "      <td>82198</td>\n",
       "    </tr>\n",
       "    <tr>\n",
       "      <th>3/31/20</th>\n",
       "      <td>82279</td>\n",
       "    </tr>\n",
       "    <tr>\n",
       "      <th>4/1/20</th>\n",
       "      <td>82361</td>\n",
       "    </tr>\n",
       "    <tr>\n",
       "      <th>4/2/20</th>\n",
       "      <td>82432</td>\n",
       "    </tr>\n",
       "  </tbody>\n",
       "</table>\n",
       "<p>72 rows × 1 columns</p>\n",
       "</div>"
      ],
      "text/plain": [
       "Country/Region  China\n",
       "1/22/20           548\n",
       "1/23/20           643\n",
       "1/24/20           920\n",
       "1/25/20          1406\n",
       "1/26/20          2075\n",
       "...               ...\n",
       "3/29/20         82122\n",
       "3/30/20         82198\n",
       "3/31/20         82279\n",
       "4/1/20          82361\n",
       "4/2/20          82432\n",
       "\n",
       "[72 rows x 1 columns]"
      ]
     },
     "execution_count": 7,
     "metadata": {},
     "output_type": "execute_result"
    }
   ],
   "source": [
    "# 결과 확인\n",
    "df = confirmed_3.loc[['China',]].T\n",
    "df"
   ]
  },
  {
   "cell_type": "code",
   "execution_count": 8,
   "metadata": {},
   "outputs": [
    {
     "data": {
      "text/plain": [
       "1/22/20      548\n",
       "1/23/20      643\n",
       "1/24/20      920\n",
       "1/25/20     1406\n",
       "1/26/20     2075\n",
       "           ...  \n",
       "3/29/20    82122\n",
       "3/30/20    82198\n",
       "3/31/20    82279\n",
       "4/1/20     82361\n",
       "4/2/20     82432\n",
       "Length: 72, dtype: int64"
      ]
     },
     "execution_count": 8,
     "metadata": {},
     "output_type": "execute_result"
    }
   ],
   "source": [
    "# 그룹화 하기 전 데이터의 sum ()\n",
    "example = confirmed_2.set_index(\"Country/Region\")\n",
    "example.loc[['China']].sum()\n",
    "# 비교 결과 비교 전과 후 의 값은 같다 "
   ]
  },
  {
   "cell_type": "markdown",
   "metadata": {},
   "source": [
    "# 시각화 "
   ]
  },
  {
   "cell_type": "markdown",
   "metadata": {},
   "source": [
    "지금 가지고 data  \n",
    "나라별 확진자 , 사망자 , 완치자 (수)\n",
    "\n",
    "1. 누적 확진자 전 세계 기준으로 0  \n",
    "\n",
    "2. 누적 확진자 top 15 o\n",
    "\n",
    "선 그래프 시계열로 표현 (사망자 , 완치자 )\n",
    "\n",
    "+ 전세계 확진자, 사망자 , 완치자 다 더하고 \n",
    "\n",
    "추세 분석!!"
   ]
  },
  {
   "cell_type": "code",
   "execution_count": 9,
   "metadata": {},
   "outputs": [],
   "source": [
    "# 4월 2일 기준으로 누적 확진자 데이터\n",
    "confirmed_4 = confirmed_3.iloc[ : ,  -1 ]\n",
    "deaths_4 = deaths_3.iloc[ : ,  -1 ]\n",
    "recoverd_4 = recoverd_3.iloc[ : ,  -1 ]"
   ]
  },
  {
   "cell_type": "code",
   "execution_count": 10,
   "metadata": {
    "scrolled": true
   },
   "outputs": [
    {
     "ename": "NameError",
     "evalue": "name 'confiremd_4' is not defined",
     "output_type": "error",
     "traceback": [
      "\u001b[0;31m---------------------------------------------------------------------------\u001b[0m",
      "\u001b[0;31mNameError\u001b[0m                                 Traceback (most recent call last)",
      "\u001b[0;32m<ipython-input-10-63b6f8eb5079>\u001b[0m in \u001b[0;36m<module>\u001b[0;34m\u001b[0m\n\u001b[0;32m----> 1\u001b[0;31m \u001b[0mdf\u001b[0m \u001b[0;34m=\u001b[0m \u001b[0mconfiremd_4\u001b[0m\u001b[0;34m.\u001b[0m\u001b[0msort_values\u001b[0m\u001b[0;34m(\u001b[0m\u001b[0;34m)\u001b[0m\u001b[0;34m\u001b[0m\u001b[0;34m\u001b[0m\u001b[0m\n\u001b[0m\u001b[1;32m      2\u001b[0m \u001b[0mdf\u001b[0m\u001b[0;34m\u001b[0m\u001b[0;34m\u001b[0m\u001b[0m\n",
      "\u001b[0;31mNameError\u001b[0m: name 'confiremd_4' is not defined"
     ]
    }
   ],
   "source": [
    "df = confiremd_4.sort_values()\n",
    "df"
   ]
  },
  {
   "cell_type": "markdown",
   "metadata": {},
   "source": [
    "## 전세계 covid - 19"
   ]
  },
  {
   "cell_type": "code",
   "execution_count": null,
   "metadata": {},
   "outputs": [],
   "source": [
    "import plotly.graph_objects as go\n",
    "import plotly.express as px\n",
    "fig = px.bar(confiremd_4, x = confiremd_4.index , y = confiremd_4.values, \n",
    "              labels = {'covid - 19 : confirmed'} , height = 600)\n",
    "fig.show()"
   ]
  },
  {
   "cell_type": "code",
   "execution_count": null,
   "metadata": {},
   "outputs": [],
   "source": [
    "import plotly.graph_objects as go\n",
    "\n",
    "fig = go.Figure(\n",
    "data = [go.Bar(name = 'confiremd', x = confiremd_4.index , y = confiremd_4.values ),\n",
    "       go.Bar(name = 'deaths' , x = deaths_4.index , y = deaths_4.values ),\n",
    "       go.Bar(name = 'recoverd', x =recoverd_4.index, y = recoverd_4.values)])\n",
    "fig.update_layout(barmode = 'stack' , title_text = '4월 2일 코로나 확진자, 사망자, 완치자')\n",
    "fig.show()"
   ]
  },
  {
   "cell_type": "markdown",
   "metadata": {},
   "source": [
    "## 확진자 top 15\n"
   ]
  },
  {
   "cell_type": "code",
   "execution_count": null,
   "metadata": {},
   "outputs": [],
   "source": [
    "# 누적 확진자 top 15를 기준으로 사망자와 완치자를 나라에 맞게 따로 구해야한다 \n",
    "confirmed_5 = confirmed_4.sort_values().tail(15)\n",
    "list_1 = []\n",
    "for i in confirmed_5.index:\n",
    "    list_1.append(i)\n",
    "list_1"
   ]
  },
  {
   "cell_type": "code",
   "execution_count": null,
   "metadata": {},
   "outputs": [],
   "source": [
    "confirmed_5 = pd.DataFrame(confirmed_5)\n",
    "confirmed_5"
   ]
  },
  {
   "cell_type": "code",
   "execution_count": null,
   "metadata": {},
   "outputs": [],
   "source": [
    "deaths_5  = []\n",
    "for i  in list_1:\n",
    "    for index , values in enumerate(deaths_4.index):\n",
    "        if i == values :\n",
    "            deaths_5.append(deaths_4[index])\n",
    "print(deaths_5)"
   ]
  },
  {
   "cell_type": "code",
   "execution_count": null,
   "metadata": {},
   "outputs": [],
   "source": [
    "deaths_5 = pd.DataFrame(deaths_5, index = ['Korea, South',\n",
    " 'Austria',\n",
    " 'Canada',\n",
    " 'Netherlands',\n",
    " 'Belgium',\n",
    " 'Turkey',\n",
    " 'Switzerland',\n",
    " 'United Kingdom',\n",
    " 'Iran',\n",
    " 'France',\n",
    " 'China',\n",
    " 'Germany',\n",
    " 'Spain',\n",
    " 'Italy',\n",
    " 'US'] , columns = ['4/2/20'])"
   ]
  },
  {
   "cell_type": "code",
   "execution_count": null,
   "metadata": {
    "scrolled": true
   },
   "outputs": [],
   "source": [
    "deaths_5"
   ]
  },
  {
   "cell_type": "code",
   "execution_count": null,
   "metadata": {},
   "outputs": [],
   "source": [
    "recoverd_5  = []\n",
    "for i  in list_1:\n",
    "    for index , values in enumerate(recoverd_4.index):\n",
    "        if i == values :\n",
    "            recoverd_5.append(recoverd_4[index])\n",
    "print(recoverd_5)"
   ]
  },
  {
   "cell_type": "code",
   "execution_count": null,
   "metadata": {},
   "outputs": [],
   "source": [
    "recoverd_5 = pd.DataFrame(recoverd_5, index = ['Korea, South',\n",
    " 'Austria',\n",
    " 'Canada',\n",
    " 'Netherlands',\n",
    " 'Belgium',\n",
    " 'Turkey',\n",
    " 'Switzerland',\n",
    " 'United Kingdom',\n",
    " 'Iran',\n",
    " 'France',\n",
    " 'China',\n",
    " 'Germany',\n",
    " 'Spain',\n",
    " 'Italy',\n",
    " 'US'] , columns = ['4/2/20'])"
   ]
  },
  {
   "cell_type": "code",
   "execution_count": null,
   "metadata": {},
   "outputs": [],
   "source": [
    "confirmed_5"
   ]
  },
  {
   "cell_type": "code",
   "execution_count": null,
   "metadata": {},
   "outputs": [],
   "source": [
    "import plotly.graph_objects as go\n",
    "\n",
    "fig = go.Figure(\n",
    "data = [go.Bar(name = 'confiremd', x = confirmed_5.index , y = confirmed_5['4/2/20'] ),\n",
    "       go.Bar(name = 'deaths' , x = deaths_5.index , y = deaths_5['4/2/20'] ),\n",
    "       go.Bar(name = 'recoverd', x =recoverd_5.index, y = recoverd_5['4/2/20'])])\n",
    "fig.update_layout(barmode = 'stack' , title_text = ' top 15 : 4월 2일 코로나 확진자, 사망자, 완치자 (수)')\n",
    "fig.show()"
   ]
  },
  {
   "cell_type": "markdown",
   "metadata": {},
   "source": [
    "## US covid - 19"
   ]
  },
  {
   "cell_type": "code",
   "execution_count": null,
   "metadata": {},
   "outputs": [],
   "source": [
    "confirmed_3.loc[\"US\",  ]"
   ]
  },
  {
   "cell_type": "code",
   "execution_count": null,
   "metadata": {},
   "outputs": [],
   "source": [
    "fig = go.Figure()\n",
    "fig.add_trace(go.Scatter(x = confirmed_3.loc[\"US\", :   ].index ,\n",
    "                         y = confirmed_3.loc[\"US\",  ], mode = 'lines + markers' , name = 'confirmed'))\n",
    "fig.add_trace(go.Scatter(x = deaths_3.loc[\"US\",  ].index ,\n",
    "                         y = deaths_3.loc[\"US\",  ], mode = 'lines + markers' , name = 'deaths'))\n",
    "fig.add_trace(go.Scatter(x = recoverd_3.loc[\"US\",  ].index ,\n",
    "                         y = recoverd_3.loc[\"US\",  ], mode = 'lines + markers' , name = 'recoverd_3'))\n",
    "\n",
    "fig.show()"
   ]
  },
  {
   "cell_type": "code",
   "execution_count": null,
   "metadata": {},
   "outputs": [],
   "source": []
  }
 ],
 "metadata": {
  "kernelspec": {
   "display_name": "Python 3",
   "language": "python",
   "name": "python3"
  },
  "language_info": {
   "codemirror_mode": {
    "name": "ipython",
    "version": 3
   },
   "file_extension": ".py",
   "mimetype": "text/x-python",
   "name": "python",
   "nbconvert_exporter": "python",
   "pygments_lexer": "ipython3",
   "version": "3.7.6"
  }
 },
 "nbformat": 4,
 "nbformat_minor": 4
}
