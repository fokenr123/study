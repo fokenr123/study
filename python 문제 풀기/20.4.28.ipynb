{
 "cells": [
  {
   "cell_type": "markdown",
   "metadata": {},
   "source": [
    "## 체스판 다시 칠하기"
   ]
  },
  {
   "cell_type": "markdown",
   "metadata": {},
   "source": [
    "지민이는 자신의 저택에서 MN개의 단위 정사각형으로 나누어져 있는 M*N 크기의 보드를 찾았다. 어떤 정사각형은 검은색으로 칠해져 있고, 나머지는 흰색으로 칠해져 있다. 지민이는 이 보드를 잘라서 8*8 크기의 체스판으로 만들려고 한다.\n",
    "\n",
    "체스판은 검은색과 흰색이 번갈아서 칠해져 있어야 한다. 구체적으로, 각 칸이 검은색과 흰색 중 하나로 색칠되어 있고, 변을 공유하는 두 개의 사각형은 다른 색으로 칠해져 있어야 한다. 따라서 이 정의를 따르면 체스판을 색칠하는 경우는 두 가지뿐이다. 하나는 맨 왼쪽 위 칸이 흰색인 경우, 하나는 검은색인 경우이다.\n",
    "\n",
    "보드가 체스판처럼 칠해져 있다는 보장이 없어서, 지민이는 8*8 크기의 체스판으로 잘라낸 후에 몇 개의 정사각형을 다시 칠해야겠다고 생각했다. 당연히 8*8 크기는 아무데서나 골라도 된다. 지민이가 다시 칠해야 하는 정사각형의 최소 개수를 구하는 프로그램을 작성하시오."
   ]
  },
  {
   "cell_type": "code",
   "execution_count": 13,
   "metadata": {},
   "outputs": [
    {
     "name": "stdout",
     "output_type": "stream",
     "text": [
      "8 8\n",
      "WBWBWBWB\n",
      "BWBWBWBW\n",
      "WBWBWBWB\n",
      "BWBBBWBW\n",
      "WBWBWBWB\n",
      "BWBWBWBW\n",
      "WBWBWBWB\n",
      "BWBWBWBW\n",
      "1\n"
     ]
    }
   ],
   "source": [
    "n , m = map(int , input().split())\n",
    "list_m = []\n",
    "for _ in range(n):\n",
    "    list_m.append(input())\n",
    "m = 64\n",
    "for i in range(n-7):\n",
    "    for j in range(n-7):\n",
    "        cnt1 = 0\n",
    "        cnt2 = 0\n",
    "        for k in range(i , i + 8):\n",
    "            for e in range(j , j+8):\n",
    "                if k % 2 == 0 and e % 2 == 0:\n",
    "                    if list_m[k][e] == 'B':\n",
    "                        cnt1 += 1\n",
    "                elif k % 2 == 1 and e % 2 == 0:\n",
    "                    if list_m[k][e] == 'W':\n",
    "                        cnt1 += 1\n",
    "                elif k % 2 == 0 and e % 2 == 1:\n",
    "                    if list_m[k][e] == 'W':\n",
    "                        cnt1 += 1\n",
    "                elif k % 2 == 1 and e % 2 == 1:\n",
    "                    if list_m[k][e] == 'B':\n",
    "                        cnt1 += 1\n",
    "        for k in range(i , i + 8):\n",
    "            for e in range(j , j+8):\n",
    "                if k % 2 == 0 and e % 2 == 0:\n",
    "                    if list_m[k][e] == 'W':\n",
    "                        cnt2 += 1\n",
    "                elif k % 2 == 1 and e % 2 == 0:\n",
    "                    if list_m[k][e] == 'B':\n",
    "                        cnt2 += 1\n",
    "                elif k % 2 == 0 and e % 2 == 1:\n",
    "                    if list_m[k][e] == 'B':\n",
    "                        cnt2 += 1\n",
    "                elif k % 2 == 1 and e % 2 == 1:\n",
    "                    if list_m[k][e] == 'W':\n",
    "                        cnt2 += 1\n",
    "        result = min(m , cnt1 , cnt2)\n",
    "print(result)\n",
    "# 출처 : https://pacific-ocean.tistory.com/136"
   ]
  },
  {
   "cell_type": "markdown",
   "metadata": {},
   "source": [
    "## 코딩테스트 연습장 "
   ]
  },
  {
   "cell_type": "markdown",
   "metadata": {},
   "source": [
    "### 1번"
   ]
  },
  {
   "cell_type": "code",
   "execution_count": 28,
   "metadata": {},
   "outputs": [],
   "source": [
    "text = ['   + -- + - + -   ',\n",
    "'   + --- + - +   ',\n",
    "'   + -- + - + -   ',\n",
    "'   + - + - + - +   ']"
   ]
  },
  {
   "cell_type": "code",
   "execution_count": 29,
   "metadata": {},
   "outputs": [
    {
     "data": {
      "text/plain": [
       "['+ -- + - + -', '+ --- + - +', '+ -- + - + -', '+ - + - + - +']"
      ]
     },
     "execution_count": 29,
     "metadata": {},
     "output_type": "execute_result"
    }
   ],
   "source": [
    "# strip 뭔지 검색\n",
    "[i.strip().replace('' , '') for i in text]"
   ]
  },
  {
   "cell_type": "code",
   "execution_count": 30,
   "metadata": {},
   "outputs": [
    {
     "data": {
      "text/plain": [
       "['1001010', '1000101', '1001010', '1010101']"
      ]
     },
     "execution_count": 30,
     "metadata": {},
     "output_type": "execute_result"
    }
   ],
   "source": [
    "[i.strip().replace(' ' , '').replace('+', '1').replace('-', '0') for i in text]"
   ]
  },
  {
   "cell_type": "code",
   "execution_count": 31,
   "metadata": {},
   "outputs": [
    {
     "data": {
      "text/plain": [
       "[74, 69, 74, 85]"
      ]
     },
     "execution_count": 31,
     "metadata": {},
     "output_type": "execute_result"
    }
   ],
   "source": [
    "[int(i.strip().replace(' ' , '').replace('+', '1').replace('-', '0'),2) for i in text]"
   ]
  },
  {
   "cell_type": "code",
   "execution_count": 32,
   "metadata": {},
   "outputs": [
    {
     "data": {
      "text/plain": [
       "['J', 'E', 'J', 'U']"
      ]
     },
     "execution_count": 32,
     "metadata": {},
     "output_type": "execute_result"
    }
   ],
   "source": [
    "[chr(int(i.strip().replace(' ' , '').replace('+', '1').replace('-', '0'),2)) for i in text]"
   ]
  },
  {
   "cell_type": "code",
   "execution_count": 35,
   "metadata": {},
   "outputs": [
    {
     "data": {
      "text/plain": [
       "65"
      ]
     },
     "execution_count": 35,
     "metadata": {},
     "output_type": "execute_result"
    }
   ],
   "source": [
    "chr(65)\n",
    "ord('A')\n",
    "# 공부하기 ->bulit in function "
   ]
  },
  {
   "cell_type": "code",
   "execution_count": 36,
   "metadata": {},
   "outputs": [
    {
     "data": {
      "text/plain": [
       "'JEJU'"
      ]
     },
     "execution_count": 36,
     "metadata": {},
     "output_type": "execute_result"
    }
   ],
   "source": [
    "''.join([chr(int(i.strip().replace(' ' , '').replace('+', '1').replace('-', '0'),2)) for i in text])"
   ]
  },
  {
   "cell_type": "markdown",
   "metadata": {},
   "source": [
    "### 2번"
   ]
  },
  {
   "cell_type": "code",
   "execution_count": 68,
   "metadata": {},
   "outputs": [],
   "source": [
    "돌의내구도 = [1, 2, 1, 4]\n",
    "독 = [{\n",
    "    '이름' : '루비독',\n",
    "    '나이' : '95년생',\n",
    "    '점프력' : '3',\n",
    "    '몸무게' : '4',\n",
    "    },{\n",
    "    '이름' : '피치독',\n",
    "    '나이' : '95년생',\n",
    "    '점프력' : '3',\n",
    "    '몸무게' : '3',\n",
    "    },{\n",
    "    '이름' : '씨-독',\n",
    "    '나이' : '72년생',\n",
    "    '점프력' : '2',\n",
    "    '몸무게' : '1',\n",
    "    },{\n",
    "    '이름' : '코볼독',\n",
    "    '나이' : '59년생',\n",
    "    '점프력' : '1',\n",
    "    '몸무게' : '1',\n",
    "    },\n",
    "]"
   ]
  },
  {
   "cell_type": "code",
   "execution_count": 74,
   "metadata": {},
   "outputs": [
    {
     "data": {
      "text/plain": [
       "['fall', 'fall', '씨-독', 'fall']"
      ]
     },
     "execution_count": 74,
     "metadata": {},
     "output_type": "execute_result"
    }
   ],
   "source": [
    "def 징검다리를건너라(돌의내구도 ,독 ):\n",
    "    answer = [i['이름']for i in 독]\n",
    "    for i in 독:\n",
    "        독의위치 = 0\n",
    "        while 독의위치  < len(돌의내구도)-1:\n",
    "            독의위치 += int(i['점프력'])\n",
    "            돌의내구도[독의위치 -1 ] -= int(i['몸무게'])\n",
    "            if 돌의내구도[독의위치-1] <0 :\n",
    "                answer[answer.index(i['이름'])] = 'fall' \n",
    "                break\n",
    "    return answer\n",
    "징검다리를건너라(돌의내구도.copy(), 독.copy())"
   ]
  },
  {
   "cell_type": "code",
   "execution_count": 75,
   "metadata": {},
   "outputs": [
    {
     "data": {
      "text/plain": [
       "['씨-독']"
      ]
     },
     "execution_count": 75,
     "metadata": {},
     "output_type": "execute_result"
    }
   ],
   "source": [
    "def 징검다리를건너라(돌의내구도 ,독 ):\n",
    "    answer = [i['이름']for i in 독]\n",
    "    for i in 독:\n",
    "        독의위치 = 0\n",
    "        while 독의위치  < len(돌의내구도)-1:\n",
    "            독의위치 += int(i['점프력'])\n",
    "            돌의내구도[독의위치 -1 ] -= int(i['몸무게'])\n",
    "            if 돌의내구도[독의위치-1] <0 :\n",
    "                answer[answer.index(i['이름'])] = 'fall' \n",
    "                break\n",
    "                \n",
    "    return [i for i in answer if i != 'fall']\n",
    "징검다리를건너라(돌의내구도.copy(), 독.copy())"
   ]
  },
  {
   "cell_type": "code",
   "execution_count": 77,
   "metadata": {},
   "outputs": [
    {
     "data": {
      "text/plain": [
       "['씨-독']"
      ]
     },
     "execution_count": 77,
     "metadata": {},
     "output_type": "execute_result"
    }
   ],
   "source": [
    "# remove : o(n)\n",
    "# del : o(1) \n",
    "def 징검다리를건너라(돌의내구도 ,독 ):\n",
    "    answer = [i['이름']for i in 독]\n",
    "    for i in 독:\n",
    "        독의위치 = 0\n",
    "        while 독의위치  < len(돌의내구도)-1:\n",
    "            독의위치 += int(i['점프력'])\n",
    "            돌의내구도[독의위치 -1 ] -= int(i['몸무게'])\n",
    "            if 돌의내구도[독의위치-1] <0 :\n",
    "                del answer[answer.index(i['이름'])] \n",
    "                break\n",
    "                \n",
    "    return answer\n",
    "징검다리를건너라(돌의내구도.copy(), 독.copy())"
   ]
  },
  {
   "cell_type": "markdown",
   "metadata": {},
   "source": [
    "- 지역변수 전역변수 개념 이해서 적기"
   ]
  },
  {
   "cell_type": "code",
   "execution_count": 62,
   "metadata": {},
   "outputs": [
    {
     "data": {
      "text/plain": [
       "[10000, 2, 3, 4, 5]"
      ]
     },
     "execution_count": 62,
     "metadata": {},
     "output_type": "execute_result"
    }
   ],
   "source": [
    "l = [1,2,3,4,5]\n",
    "def f(입력):\n",
    "    입력[0] = 10000\n",
    "f(l)\n",
    "l\n"
   ]
  },
  {
   "cell_type": "code",
   "execution_count": 66,
   "metadata": {},
   "outputs": [
    {
     "data": {
      "text/plain": [
       "100"
      ]
     },
     "execution_count": 66,
     "metadata": {},
     "output_type": "execute_result"
    }
   ],
   "source": [
    "x = 100\n",
    "def f(입력):\n",
    "    입력 += 10000\n",
    "f(x)\n",
    "x"
   ]
  },
  {
   "cell_type": "markdown",
   "metadata": {},
   "source": [
    "### 3번"
   ]
  },
  {
   "cell_type": "markdown",
   "metadata": {},
   "source": [
    "9시      25   25\n",
    "9시 10분 15   40\n",
    "9시 20분 15   55\n",
    "9시 30분 15   70\n",
    "9시 40분 15   85\n",
    "9시 50분 15   100 \n",
    "12시간 X 100 = 1200명"
   ]
  },
  {
   "cell_type": "code",
   "execution_count": 81,
   "metadata": {},
   "outputs": [
    {
     "data": {
      "text/plain": [
       "11667"
      ]
     },
     "execution_count": 81,
     "metadata": {},
     "output_type": "execute_result"
    }
   ],
   "source": [
    "14000605 // 1200"
   ]
  },
  {
   "cell_type": "code",
   "execution_count": 84,
   "metadata": {},
   "outputs": [
    {
     "data": {
      "text/plain": [
       "205"
      ]
     },
     "execution_count": 84,
     "metadata": {},
     "output_type": "execute_result"
    }
   ],
   "source": [
    "14000605 % 1200"
   ]
  },
  {
   "cell_type": "code",
   "execution_count": 86,
   "metadata": {},
   "outputs": [
    {
     "data": {
      "text/plain": [
       "0"
      ]
     },
     "execution_count": 86,
     "metadata": {},
     "output_type": "execute_result"
    }
   ],
   "source": [
    "1200 % 100"
   ]
  },
  {
   "cell_type": "code",
   "execution_count": 90,
   "metadata": {},
   "outputs": [
    {
     "name": "stdout",
     "output_type": "stream",
     "text": [
      "1024\n",
      "512\n",
      "256\n",
      "128\n",
      "64\n",
      "32\n",
      "16\n",
      "8\n",
      "4\n",
      "2\n"
     ]
    },
    {
     "data": {
      "text/plain": [
       "2046"
      ]
     },
     "execution_count": 90,
     "metadata": {},
     "output_type": "execute_result"
    }
   ],
   "source": [
    "y = 0\n",
    "for i in range(10 , 0 , -1):\n",
    "    print(2 ** i)\n",
    "    y += 2 ** i\n",
    "y"
   ]
  },
  {
   "cell_type": "code",
   "execution_count": 92,
   "metadata": {},
   "outputs": [
    {
     "data": {
      "text/plain": [
       "5.702346041055718"
      ]
     },
     "execution_count": 92,
     "metadata": {},
     "output_type": "execute_result"
    }
   ],
   "source": [
    "11667 / y"
   ]
  },
  {
   "cell_type": "code",
   "execution_count": 93,
   "metadata": {},
   "outputs": [
    {
     "data": {
      "text/plain": [
       "1437"
      ]
     },
     "execution_count": 93,
     "metadata": {},
     "output_type": "execute_result"
    }
   ],
   "source": [
    "11667 % y"
   ]
  },
  {
   "cell_type": "code",
   "execution_count": 96,
   "metadata": {},
   "outputs": [
    {
     "data": {
      "text/plain": [
       "datetime.datetime(2020, 4, 28, 20, 54, 1, 561402)"
      ]
     },
     "execution_count": 96,
     "metadata": {},
     "output_type": "execute_result"
    }
   ],
   "source": [
    "import datetime\n",
    "\n",
    "오늘시간 = datetime.datetime.today()\n",
    "오늘시간"
   ]
  },
  {
   "cell_type": "code",
   "execution_count": 98,
   "metadata": {},
   "outputs": [
    {
     "data": {
      "text/plain": [
       "2020"
      ]
     },
     "execution_count": 98,
     "metadata": {},
     "output_type": "execute_result"
    }
   ],
   "source": [
    "오늘시간.year"
   ]
  },
  {
   "cell_type": "code",
   "execution_count": 100,
   "metadata": {},
   "outputs": [
    {
     "data": {
      "text/plain": [
       "28"
      ]
     },
     "execution_count": 100,
     "metadata": {},
     "output_type": "execute_result"
    }
   ],
   "source": [
    "오늘시간.day"
   ]
  },
  {
   "cell_type": "code",
   "execution_count": 101,
   "metadata": {},
   "outputs": [
    {
     "data": {
      "text/plain": [
       "54"
      ]
     },
     "execution_count": 101,
     "metadata": {},
     "output_type": "execute_result"
    }
   ],
   "source": [
    "오늘시간.minute"
   ]
  },
  {
   "cell_type": "code",
   "execution_count": 105,
   "metadata": {
    "scrolled": true
   },
   "outputs": [
    {
     "name": "stdout",
     "output_type": "stream",
     "text": [
      "12: 24\n"
     ]
    }
   ],
   "source": [
    "timehour = 11\n",
    "timminute = 30\n",
    "s = timminute + 오늘시간.minute\n",
    "if s>= 60:\n",
    "    print(f'{timehour+1 }: {s-60}')\n",
    "else:\n",
    "    print(f'{timehour}: {오늘시간.minute}')"
   ]
  },
  {
   "cell_type": "markdown",
   "metadata": {},
   "source": [
    "4. 1월은 1024일, 2월은 512일, 3월은 256일, 4월은 128일, 5월은 64일, 5월은 32일, 6월은 16일, 7월은 8일, 9월은 4일, 10월은 2일이며, 10월까지밖에 없습니다."
   ]
  },
  {
   "cell_type": "markdown",
   "metadata": {},
   "source": [
    "#### 4번"
   ]
  },
  {
   "cell_type": "code",
   "execution_count": 106,
   "metadata": {},
   "outputs": [],
   "source": [
    "페이지 = ['척추동물', '어류', '척추동물', \n",
    "          '무척추동물', '파충류', '척추동물', '어류', '파충류']\n",
    "\n"
   ]
  },
  {
   "cell_type": "code",
   "execution_count": null,
   "metadata": {},
   "outputs": [],
   "source": [
    "페이지 = ['척추동물', '어류', '척추동물', \n",
    "          '무척추동물', '파충류', '척추동물', '어류', '파충류']\n",
    "# 큐 사용 \n",
    "1회 : ['척추동물'] # false\n",
    "2회 : ['척추동물','어류'] # false\n",
    "3회 : ['어류','척추동물']\n",
    "4회 : ['어류','척추동물','무척추동물'] # false\n",
    "5회 : ['척추동물','무척추동물', '파충류'] # false\n",
    "6회 : ['무척추동물', '파충류','척추동물'] \n",
    "7회 : [ '파충류','척추동물', '어류'] \n",
    "7회 : [ '척추동물', '어류', '파충류'] # false\n",
    "    "
   ]
  },
  {
   "cell_type": "code",
   "execution_count": 113,
   "metadata": {},
   "outputs": [
    {
     "data": {
      "text/plain": [
       "303"
      ]
     },
     "execution_count": 113,
     "metadata": {},
     "output_type": "execute_result"
    }
   ],
   "source": [
    "동물 = ['척추동물', '어류', '척추동물', '무척추동물', '파충류', '척추동물', '어류', '파충류']\n",
    "\n",
    "def solution(동물, 자리):\n",
    "    의자 = [] * 자리\n",
    "    answer = 0\n",
    "    for i in 동물:\n",
    "        if len(의자) < 3:\n",
    "            if i in 의자:\n",
    "                의자.append(의자.pop(0))\n",
    "                answer += 1\n",
    "            else:\n",
    "                의자.append(i)\n",
    "                answer += 60\n",
    "        else:\n",
    "            if i in 의자:\n",
    "                의자.append(의자.pop(0))\n",
    "                answer += 1\n",
    "            else:\n",
    "                의자.pop(0)\n",
    "                의자.append(i)\n",
    "                answer += 60\n",
    "    \n",
    "    return answer\n",
    "    \n",
    "    \n",
    "solution(동물, 3)   "
   ]
  },
  {
   "cell_type": "markdown",
   "metadata": {},
   "source": [
    "#### 5번"
   ]
  },
  {
   "cell_type": "code",
   "execution_count": 116,
   "metadata": {},
   "outputs": [],
   "source": [
    "graph = {100: set([67, 66]),\n",
    "         67: set([100, 82, 63]),\n",
    "         66: set([100, 73, 69]),\n",
    "         82: set([67, 61, 79]),\n",
    "         63: set([67]),\n",
    "         73: set([66]),\n",
    "         69: set([66, 65, 81]),\n",
    "         61: set([82]),\n",
    "         79: set([82, 87, 77]),\n",
    "         65: set([69, 84, 99]),\n",
    "         81: set([69]),\n",
    "         87: set([79, 31, 78]),\n",
    "         77: set([79]),\n",
    "         84: set([65]),\n",
    "         99: set([65]),\n",
    "         31: set([87]),\n",
    "         78: set([87])}"
   ]
  },
  {
   "cell_type": "code",
   "execution_count": 119,
   "metadata": {},
   "outputs": [
    {
     "data": {
      "text/plain": [
       "66"
      ]
     },
     "execution_count": 119,
     "metadata": {},
     "output_type": "execute_result"
    }
   ],
   "source": [
    "min(graph[100])"
   ]
  },
  {
   "cell_type": "code",
   "execution_count": 129,
   "metadata": {},
   "outputs": [
    {
     "name": "stdout",
     "output_type": "stream",
     "text": [
      "visited: [100]\n",
      "stack: [66]\n",
      "visited: [100, 66]\n",
      "stack: [69]\n",
      "visited: [100, 66, 69]\n",
      "stack: [65]\n",
      "visited: [100, 66, 69, 65]\n",
      "stack: [84]\n",
      "[100, 66, 69, 65, 84]\n"
     ]
    }
   ],
   "source": [
    "def 깊이우선탐색(graph,start):\n",
    "    방문 = [ ]\n",
    "    stack = [start]\n",
    "    \n",
    "    while stack:\n",
    "        n = stack.pop()\n",
    "        if n not in 방문:\n",
    "            방문.append(n)\n",
    "            차집합 = graph[n] - set(방문)\n",
    "            if len(차집합) == 0:\n",
    "                방문 += stack\n",
    "                break\n",
    "                \n",
    "            stack.append(min(차집합)) \n",
    "            print(f'visited: {방문}')\n",
    "            print(f'stack: {stack}')\n",
    " \n",
    "    return 방문\n",
    "        \n",
    "print(깊이우선탐색(graph, 100))"
   ]
  },
  {
   "cell_type": "code",
   "execution_count": 128,
   "metadata": {},
   "outputs": [
    {
     "data": {
      "text/plain": [
       "['C', 'R', 'O', 'W', 'N']"
      ]
     },
     "execution_count": 128,
     "metadata": {},
     "output_type": "execute_result"
    }
   ],
   "source": [
    "문자 = [67, 82, 79, 87, 78]\n",
    "[chr(i) for i in 문자]"
   ]
  },
  {
   "cell_type": "code",
   "execution_count": 131,
   "metadata": {},
   "outputs": [
    {
     "data": {
      "text/plain": [
       "['B', 'E', 'A', 'T']"
      ]
     },
     "execution_count": 131,
     "metadata": {},
     "output_type": "execute_result"
    }
   ],
   "source": [
    "문자 = [ 66, 69, 65, 84]\n",
    "[chr(i) for i in 문자]"
   ]
  }
 ],
 "metadata": {
  "kernelspec": {
   "display_name": "Python 3",
   "language": "python",
   "name": "python3"
  },
  "language_info": {
   "codemirror_mode": {
    "name": "ipython",
    "version": 3
   },
   "file_extension": ".py",
   "mimetype": "text/x-python",
   "name": "python",
   "nbconvert_exporter": "python",
   "pygments_lexer": "ipython3",
   "version": "3.7.6"
  }
 },
 "nbformat": 4,
 "nbformat_minor": 4
}
