{
 "cells": [
  {
   "cell_type": "markdown",
   "metadata": {},
   "source": [
    "## 블랙잭"
   ]
  },
  {
   "cell_type": "markdown",
   "metadata": {},
   "source": [
    "카지노에서 제일 인기 있는 게임 블랙잭의 규칙은 상당히 쉽다. 카드의 합이 21을 넘지 않는 한도 내에서, 카드의 합을 최대한 크게 만드는 게임이다. 블랙잭은 카지노마다 다양한 규정이 있다.\n",
    "\n",
    "한국 최고의 블랙잭 고수 김정인은 새로운 블랙잭 규칙을 만들어 상근, 창영이와 게임하려고 한다.\n",
    "\n",
    "김정인 버전의 블랙잭에서 각 카드에는 양의 정수가 쓰여 있다. 그 다음, 딜러는 N장의 카드를 모두 숫자가 보이도록 바닥에 놓는다. 그런 후에 딜러는 숫자 M을 크게 외친다.\n",
    "\n",
    "이제 플레이어는 제한된 시간 안에 N장의 카드 중에서 3장의 카드를 골라야 한다. 블랙잭 변형 게임이기 때문에, 플레이어가 고른 카드의 합은 M을 넘지 않으면서 M과 최대한 가깝게 만들어야 한다.\n",
    "\n",
    "N장의 카드에 써져 있는 숫자가 주어졌을 때, M을 넘지 않으면서 M에 최대한 가까운 카드 3장의 합을 구해 출력하시오."
   ]
  },
  {
   "cell_type": "code",
   "execution_count": null,
   "metadata": {},
   "outputs": [],
   "source": [
    "5 21\n",
    "5 6 7 8 9 -> 21 \n",
    "10 500\n",
    "93 181 245 214 315 36 185 138 216 295 -> 497"
   ]
  },
  {
   "cell_type": "code",
   "execution_count": 44,
   "metadata": {
    "scrolled": true
   },
   "outputs": [
    {
     "name": "stdout",
     "output_type": "stream",
     "text": [
      "10 500\n",
      "93 181 245 214 315 36 185 138 216 295\n",
      "[488, 310, 459, 412, 490, 374, 476, 343, 492, 445, 444, 314, 267, 345, 424, 416, 494, 447, 462, 431, 402, 355, 433, 495, 466, 419, 497, 435, 388, 466, 489, 359, 437, 390, 469]\n",
      "497\n"
     ]
    }
   ],
   "source": [
    "n , m = map(int,input().split())\n",
    "inp = list(map(int, input().split()))\n",
    "a = []\n",
    "for i in range(0,n-2):\n",
    "    for j in range(i+1,n-1):\n",
    "        for k in range(j+1,n):\n",
    "            if inp[i] + inp[j] + inp[k] <= m:\n",
    "                a.append(inp[i] + inp[j] + inp[k])\n",
    "print(a)\n",
    "print(max(a))"
   ]
  },
  {
   "cell_type": "markdown",
   "metadata": {},
   "source": [
    "## 분해합"
   ]
  },
  {
   "cell_type": "markdown",
   "metadata": {},
   "source": [
    "어떤 자연수 N이 있을 때, 그 자연수 N의 분해합은 N과 N을 이루는 각 자리수의 합을 의미한다. 어떤 자연수 M의 분해합이 N인 경우, M을 N의 생성자라 한다. 예를 들어, 245의 분해합은 256(=245+2+4+5)이 된다. 따라서 245는 256의 생성자가 된다. 물론, 어떤 자연수의 경우에는 생성자가 없을 수도 있다. 반대로, 생성자가 여러 개인 자연수도 있을 수 있다.\n",
    "\n",
    "자연수 N이 주어졌을 때, N의 가장 작은 생성자를 구해내는 프로그램을 작성하시오."
   ]
  },
  {
   "cell_type": "code",
   "execution_count": 61,
   "metadata": {},
   "outputs": [
    {
     "name": "stdout",
     "output_type": "stream",
     "text": [
      "216\n",
      "198\n"
     ]
    }
   ],
   "source": [
    "def solution(N):\n",
    "    for i in range(1, N):\n",
    "        result, string = i, str(i)\n",
    "        for each in string:\n",
    "            result += int(each)\n",
    "        if result == N:\n",
    "            print(i)\n",
    "            return\n",
    "    else:\n",
    "        print(0)\n",
    "\n",
    "\n",
    "solution(int(input()))"
   ]
  },
  {
   "cell_type": "code",
   "execution_count": 64,
   "metadata": {},
   "outputs": [
    {
     "name": "stdout",
     "output_type": "stream",
     "text": [
      "2\n",
      "4\n",
      "6\n"
     ]
    }
   ],
   "source": [
    "i =246\n",
    "result, string = i, str(i)\n",
    "for each in string:\n",
    "    print(each)"
   ]
  },
  {
   "cell_type": "code",
   "execution_count": 74,
   "metadata": {},
   "outputs": [
    {
     "name": "stdout",
     "output_type": "stream",
     "text": [
      "256\n",
      "245\n"
     ]
    }
   ],
   "source": [
    "n = int(input())\n",
    "for i in range(1, n):\n",
    "    result = i\n",
    "    m = str(i)\n",
    "    for j in m:\n",
    "        result += int(j)\n",
    "    if result == n:\n",
    "        print(i)\n",
    "        break\n",
    "else:\n",
    "    print(0)"
   ]
  },
  {
   "cell_type": "markdown",
   "metadata": {},
   "source": [
    "## 덩치"
   ]
  },
  {
   "cell_type": "markdown",
   "metadata": {},
   "source": [
    "우리는 사람의 덩치를 키와 몸무게, 이 두 개의 값으로 표현하여 그 등수를 매겨보려고 한다. 어떤 사람의 몸무게가 x kg이고 키가 y cm라면 이 사람의 덩치는 (x,y)로 표시된다. 두 사람 A 와 B의 덩치가 각각 (x,y), (p,q)라고 할 때 x>p 그리고 y>q 이라면 우리는 A의 덩치가 B의 덩치보다 \"더 크다\"고 말한다. 예를 들어 어떤 A, B 두 사람의 덩치가 각각 (56,177), (45,165) 라고 한다면 A의 덩치가 B보다 큰 셈이 된다. 그런데 서로 다른 덩치끼리 크기를 정할 수 없는 경우도 있다. 예를 들어 두 사람 C와 D의 덩치가 각각 (45, 181), (55,173)이라면 몸무게는 D가 C보다 더 무겁고, 키는 C가 더 크므로, \"덩치\"로만 볼 때 C와 D는 누구도 상대방보다 더 크다고 말할 수 없다.\n",
    "\n",
    "N명의 집단에서 각 사람의 덩치 등수는 자신보다 더 \"큰 덩치\"의 사람의 수로 정해진다. 만일 자신보다 더 큰 덩치의 사람이 k명이라면 그 사람의 덩치 등수는 k+1이 된다. 이렇게 등수를 결정하면 같은 덩치 등수를 가진 사람은 여러 명도 가능하다. 아래는 5명으로 이루어진 집단에서 각 사람의 덩치와 그 등수가 표시된 표이다."
   ]
  },
  {
   "cell_type": "code",
   "execution_count": 158,
   "metadata": {},
   "outputs": [
    {
     "name": "stdout",
     "output_type": "stream",
     "text": [
      "5\n",
      "55 185\n",
      "58 183\n",
      "88 186\n",
      "60 175\n",
      "46 155\n",
      "2 2 1 2 5\n"
     ]
    }
   ],
   "source": [
    "n = int(input())\n",
    "info = [list(map(int, input().split())) for _ in range(n)]\n",
    "result = [1] * n\n",
    "for i in range(len(info)):\n",
    "    for j in range(len(info)):\n",
    "        if ((info[i][0] > info[j][0] ) and (info[i][1] > info[j][1])):\n",
    "            result[j] += 1\n",
    "print(*result)"
   ]
  },
  {
   "cell_type": "code",
   "execution_count": null,
   "metadata": {},
   "outputs": [],
   "source": [
    "55 185\n",
    "58 183\n",
    "88 186\n",
    "60 175\n",
    "46 155"
   ]
  }
 ],
 "metadata": {
  "kernelspec": {
   "display_name": "keras",
   "language": "python",
   "name": "keras"
  },
  "language_info": {
   "codemirror_mode": {
    "name": "ipython",
    "version": 3
   },
   "file_extension": ".py",
   "mimetype": "text/x-python",
   "name": "python",
   "nbconvert_exporter": "python",
   "pygments_lexer": "ipython3",
   "version": "3.5.6"
  }
 },
 "nbformat": 4,
 "nbformat_minor": 4
}
