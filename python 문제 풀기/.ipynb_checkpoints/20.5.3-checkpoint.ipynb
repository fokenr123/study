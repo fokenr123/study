{
 "cells": [
  {
   "cell_type": "markdown",
   "metadata": {},
   "source": [
    "## 통계학"
   ]
  },
  {
   "cell_type": "markdown",
   "metadata": {},
   "source": [
    "수를 처리하는 것은 통계학에서 상당히 중요한 일이다. 통계학에서 N개의 수를 대표하는 기본 통계값에는 다음과 같은 것들이 있다. 단, N은 홀수라고 가정하자.\n",
    "\n",
    "산술평균 : N개의 수들의 합을 N으로 나눈 값\n",
    "중앙값 : N개의 수들을 증가하는 순서로 나열했을 경우 그 중앙에 위치하는 값\n",
    "최빈값 : N개의 수들 중 가장 많이 나타나는 값\n",
    "범위 : N개의 수들 중 최댓값과 최솟값의 차이\n",
    "N개의 수가 주어졌을 때, 네 가지 기본 통계값을 구하는 프로그램을 작성하시오."
   ]
  },
  {
   "cell_type": "code",
   "execution_count": 51,
   "metadata": {},
   "outputs": [
    {
     "name": "stdout",
     "output_type": "stream",
     "text": [
      "5\n",
      "1\n",
      "3\n",
      "8\n",
      "-2\n",
      "2\n",
      "2\n",
      "2\n",
      "1\n",
      "10\n"
     ]
    }
   ],
   "source": [
    "import sys\n",
    "from collections import Counter\n",
    "n = int(sys.stdin.readline())\n",
    "l = []\n",
    "for _ in range(n):\n",
    "    l.append(int(sys.stdin.readline()))\n",
    "# 평균\n",
    "print(round(sum(l)/len(l)))\n",
    "# 중앙값\n",
    "r = sorted(l)\n",
    "print(r[len(r)//2])\n",
    "# 최빈값\n",
    "cnt = Counter(l)\n",
    "cnt = cnt.most_common()\n",
    "cnt = sorted(cnt, key = lambda x : (-x[1], x[0]))\n",
    "if len(l) > 1:\n",
    "    if cnt[0][1] == cnt[1][1]:\n",
    "        print(cnt[1][0])\n",
    "    else:\n",
    "        print(cnt[0][0])\n",
    "else:\n",
    "    print(cnt[0][0])\n",
    "# 범위\n",
    "print(max(l)-min(l) )\n"
   ]
  },
  {
   "cell_type": "code",
   "execution_count": 56,
   "metadata": {
    "scrolled": true
   },
   "outputs": [
    {
     "name": "stdout",
     "output_type": "stream",
     "text": [
      "5\n",
      "-1\n",
      "-2\n",
      "-3\n",
      "-1\n",
      "-2\n",
      "-2\n",
      "-2\n",
      "-1\n",
      "2\n"
     ]
    }
   ],
   "source": [
    "# 정리 \n",
    "from collections import Counter\n",
    "n = int(input())\n",
    "l = []\n",
    "for _ in range(n):\n",
    "    l.append(int(input()))\n",
    "\n",
    "def mean(n):\n",
    "    result = round(sum(n)/len(n))\n",
    "    return result\n",
    "\n",
    "def median(n):\n",
    "    result = sorted(n)\n",
    "    result = result[(len(result))//2]\n",
    "    return result \n",
    "\n",
    "def mode(n):\n",
    "    counter = Counter(n)\n",
    "    counter = counter.most_common()\n",
    "    counter = sorted(counter, key = lambda x : (-x[1], x[0]))\n",
    "    if len(n) > 1:\n",
    "        if counter[0][1] == counter[1][1]:\n",
    "            result = counter[1][0]\n",
    "        else:\n",
    "            result = counter[0][0]\n",
    "    else:\n",
    "        result = counter[0][0]\n",
    "    return result\n",
    "\n",
    "def range1(n):\n",
    "    result = max(n) - min(n)\n",
    "    return result\n",
    "print(mean(l))\n",
    "print(median(l))\n",
    "print(mode(l))\n",
    "print(range1(l))"
   ]
  }
 ],
 "metadata": {
  "kernelspec": {
   "display_name": "Python 3",
   "language": "python",
   "name": "python3"
  },
  "language_info": {
   "codemirror_mode": {
    "name": "ipython",
    "version": 3
   },
   "file_extension": ".py",
   "mimetype": "text/x-python",
   "name": "python",
   "nbconvert_exporter": "python",
   "pygments_lexer": "ipython3",
   "version": "3.7.6"
  }
 },
 "nbformat": 4,
 "nbformat_minor": 4
}
