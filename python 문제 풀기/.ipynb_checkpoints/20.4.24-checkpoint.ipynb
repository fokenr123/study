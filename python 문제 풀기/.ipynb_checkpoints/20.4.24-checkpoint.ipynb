{
 "cells": [
  {
   "cell_type": "markdown",
   "metadata": {},
   "source": [
    "## 하노이 탑 이동 순서 분류\n",
    " "
   ]
  },
  {
   "cell_type": "markdown",
   "metadata": {},
   "source": [
    "세 개의 장대가 있고 첫 번째 장대에는 반경이 서로 다른 n개의 원판이 쌓여 있다. 각 원판은 반경이 큰 순서대로 쌓여있다. 이제 수도승들이 다음 규칙에 따라 첫 번째 장대에서 세 번째 장대로 옮기려 한다.\n",
    "\n",
    "한 번에 한 개의 원판만을 다른 탑으로 옮길 수 있다.\n",
    "쌓아 놓은 원판은 항상 위의 것이 아래의 것보다 작아야 한다.\n",
    "이 작업을 수행하는데 필요한 이동 순서를 출력하는 프로그램을 작성하라. 단, 이동 횟수는 최소가 되어야 한다.\n",
    "\n",
    "아래 그림은 원판이 5개인 경우의 예시이다."
   ]
  },
  {
   "cell_type": "code",
   "execution_count": 21,
   "metadata": {},
   "outputs": [
    {
     "name": "stdout",
     "output_type": "stream",
     "text": [
      "3\n",
      "7\n",
      "1 3\n",
      "1 2\n",
      "3 2\n",
      "1 3\n",
      "2 1\n",
      "2 3\n",
      "1 3\n"
     ]
    }
   ],
   "source": [
    "def hanoi(num , start , end , rest):\n",
    "    if num < 2: \n",
    "        print(start, end)\n",
    "        return \n",
    "    hanoi(num-1, start , rest , end )\n",
    "    print(start , end)\n",
    "    hanoi(num-1 , rest , end , start)\n",
    "n = int(input())\n",
    "print((n * 2) + 1 )\n",
    "hanoi(n , 1 , 3 , 2 )\n",
    "\n",
    "# 유튜브 출처 : https://www.youtube.com/watch?v=aPYE0anPZqI\n",
    "# 소스 출처 : https://leejunggae.tistory.com/10"
   ]
  }
 ],
 "metadata": {
  "kernelspec": {
   "display_name": "keras",
   "language": "python",
   "name": "keras"
  },
  "language_info": {
   "codemirror_mode": {
    "name": "ipython",
    "version": 3
   },
   "file_extension": ".py",
   "mimetype": "text/x-python",
   "name": "python",
   "nbconvert_exporter": "python",
   "pygments_lexer": "ipython3",
   "version": "3.5.6"
  }
 },
 "nbformat": 4,
 "nbformat_minor": 4
}
