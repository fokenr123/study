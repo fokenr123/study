{
 "cells": [
  {
   "cell_type": "markdown",
   "metadata": {},
   "source": [
    "## 모든 순열 "
   ]
  },
  {
   "cell_type": "markdown",
   "metadata": {},
   "source": [
    "N이 주어졌을 때, 1부터 N까지의 수로 이루어진 순열을 사전순으로 출력하는 프로그램을 작성하시오.\n",
    "\n"
   ]
  },
  {
   "cell_type": "code",
   "execution_count": 2,
   "metadata": {
    "scrolled": true
   },
   "outputs": [
    {
     "name": "stdout",
     "output_type": "stream",
     "text": [
      "3\n",
      "1 2 3\n",
      "1 3 2\n",
      "2 1 3\n",
      "2 3 1\n",
      "3 1 2\n",
      "3 2 1\n"
     ]
    }
   ],
   "source": [
    "n = int(input())\n",
    "list_1 = [i for i in range(1, n+1)]\n",
    "def result(lst):\n",
    "    i = len(lst) -1 \n",
    "    while i > 0 and lst[i-1] > lst[i]:\n",
    "        i -= 1\n",
    "    if i <= 0:\n",
    "        return [-1]\n",
    "    j = len(lst) -1\n",
    "    while lst[j] < lst[i-1]:\n",
    "        j -= 1\n",
    "    tem = lst[j]\n",
    "    lst[j] = lst[i-1]\n",
    "    lst[i-1] = tem\n",
    "    lst = lst[:i] + sorted(lst[i:])\n",
    "    \n",
    "    return lst\n",
    "while True:\n",
    "    if list_1 == [-1]:\n",
    "        break\n",
    "    print(' '.join(map(str,list_1)))\n",
    "    list_1 = result(list_1)"
   ]
  },
  {
   "cell_type": "markdown",
   "metadata": {},
   "source": [
    "## 차이를 최대로"
   ]
  },
  {
   "cell_type": "markdown",
   "metadata": {},
   "source": [
    "N개의 정수로 이루어진 배열 A가 주어진다. 이때, 배열에 들어있는 정수의 순서를 적절히 바꿔서 다음 식의 최댓값을 구하는 프로그램을 작성하시오."
   ]
  },
  {
   "cell_type": "code",
   "execution_count": 16,
   "metadata": {},
   "outputs": [
    {
     "name": "stdout",
     "output_type": "stream",
     "text": [
      "6\n",
      "20 1 15 8 4 10\n",
      "62\n"
     ]
    }
   ],
   "source": [
    "from itertools import permutations \n",
    "n = int(input())\n",
    "list_1 = list(permutations(map(int, input().split())))\n",
    "total = 0\n",
    "for i in list_1:\n",
    "    sum_1 = 0\n",
    "    for j in range(n-1):\n",
    "        sum_1 += abs(i[j]-i[j+1])\n",
    "    total = max(sum_1 , total)\n",
    "print(total)"
   ]
  }
 ],
 "metadata": {
  "kernelspec": {
   "display_name": "Python 3",
   "language": "python",
   "name": "python3"
  },
  "language_info": {
   "codemirror_mode": {
    "name": "ipython",
    "version": 3
   },
   "file_extension": ".py",
   "mimetype": "text/x-python",
   "name": "python",
   "nbconvert_exporter": "python",
   "pygments_lexer": "ipython3",
   "version": "3.7.6"
  }
 },
 "nbformat": 4,
 "nbformat_minor": 4
}
