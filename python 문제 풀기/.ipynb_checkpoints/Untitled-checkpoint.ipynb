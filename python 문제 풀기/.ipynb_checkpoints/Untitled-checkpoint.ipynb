{
 "cells": [
  {
   "cell_type": "markdown",
   "metadata": {},
   "source": [
    "## 이전 순열"
   ]
  },
  {
   "cell_type": "markdown",
   "metadata": {},
   "source": [
    "1부터 N까지의 수로 이루어진 순열이 있다. 이때, 사전순으로 바로 이전에 오는 순열을 구하는 프로그램을 작성하시오.\n",
    "\n",
    "사전 순으로 가장 앞서는 순열은 오름차순으로 이루어진 순열이고, 가장 마지막에 오는 순열은 내림차순으로 이루어진 순열이다.\n",
    "\n",
    "N = 3인 경우에 사전순으로 순열을 나열하면 다음과 같다."
   ]
  },
  {
   "cell_type": "code",
   "execution_count": 77,
   "metadata": {},
   "outputs": [
    {
     "name": "stdout",
     "output_type": "stream",
     "text": [
      "3\n",
      "1 2 3\n",
      "-1\n"
     ]
    }
   ],
   "source": [
    "n = int(input())\n",
    "list_1 = list(map(int, input().split()))\n",
    "def result(list_1):\n",
    "    if len(list_1) == 1:\n",
    "        return [-1]\n",
    "    for i in range(len(list_1) - 1, 0, -1):\n",
    "        if list_1[i] < list_1[i - 1]:\n",
    "            break\n",
    "    if i == 1 and list_1[0] < list_1[1]:\n",
    "        return [-1]\n",
    "    for j in range(len(list_1) - 1, -1, -1):\n",
    "        if list_1[j] < list_1[i - 1]:\n",
    "            break\n",
    "    tmp = list_1[j]\n",
    "    list_1[j] = list_1[i - 1]\n",
    "    list_1[i - 1] = tmp\n",
    "    list_1 = list_1[:i] + (sorted(list_1[i:], reverse = True))\n",
    "    return list_1\n",
    "print(' '.join(map(str, result(list_1))))"
   ]
  },
  {
   "cell_type": "markdown",
   "metadata": {},
   "source": [
    "## 모든 순열 "
   ]
  },
  {
   "cell_type": "markdown",
   "metadata": {},
   "source": [
    "N이 주어졌을 때, 1부터 N까지의 수로 이루어진 순열을 사전순으로 출력하는 프로그램을 작성하시오."
   ]
  },
  {
   "cell_type": "code",
   "execution_count": 91,
   "metadata": {},
   "outputs": [
    {
     "name": "stdout",
     "output_type": "stream",
     "text": [
      "3\n",
      "1 2 3\n",
      "1 3 2\n",
      "2 1 3\n",
      "2 3 1\n",
      "3 1 2\n",
      "3 2 1\n"
     ]
    }
   ],
   "source": [
    "n = int(input())\n",
    "list_1 = [x for x in range(1, (n+1))]\n",
    "def result(list_1):\n",
    "    n = len(list_1)\n",
    "    i = n - 1\n",
    "    while i > 0 and list_1[i - 1] >= list_1[i]:\n",
    "        i -= 1\n",
    "    if i <= 0:\n",
    "        return [-1]\n",
    "    j = n - 1\n",
    "    while list_1[j] <= list_1[i - 1]:\n",
    "        j -= 1\n",
    "    tmp = list_1[j]\n",
    "    list_1[j] = list_1[i - 1]\n",
    "    list_1[i - 1] = tmp\n",
    "    list_1 = list_1[:i] + sorted(list_1[i:])\n",
    "    \n",
    "    return list_1\n",
    "while True:\n",
    "    if list_1 == [-1]:\n",
    "        break\n",
    "    print(' '.join(map(str, list_1)))\n",
    "    list_1 = result(list_1)\n"
   ]
  }
 ],
 "metadata": {
  "kernelspec": {
   "display_name": "Python 3",
   "language": "python",
   "name": "python3"
  },
  "language_info": {
   "codemirror_mode": {
    "name": "ipython",
    "version": 3
   },
   "file_extension": ".py",
   "mimetype": "text/x-python",
   "name": "python",
   "nbconvert_exporter": "python",
   "pygments_lexer": "ipython3",
   "version": "3.7.6"
  }
 },
 "nbformat": 4,
 "nbformat_minor": 4
}
