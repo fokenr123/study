{
 "cells": [
  {
   "cell_type": "markdown",
   "metadata": {},
   "source": [
    "## 최대공약수와 최소공배수 "
   ]
  },
  {
   "cell_type": "markdown",
   "metadata": {},
   "source": [
    "두 개의 자연수를 입력받아 최대 공약수와 최소 공배수를 출력하는 프로그램을 작성하시오."
   ]
  },
  {
   "cell_type": "code",
   "execution_count": 24,
   "metadata": {},
   "outputs": [
    {
     "name": "stdout",
     "output_type": "stream",
     "text": [
      "6\n",
      "72\n"
     ]
    }
   ],
   "source": [
    "m , n = list(map(int, input().split()))\n",
    "m1 , n1 = m , n\n",
    "while n1 != 0:\n",
    "    m1 = m1 % n1\n",
    "    m1 , n1 = n1, m1\n",
    "    \n",
    "print(m1)\n",
    "print(m * n // m1 )"
   ]
  },
  {
   "cell_type": "markdown",
   "metadata": {},
   "source": [
    "## 최소공배수"
   ]
  },
  {
   "cell_type": "markdown",
   "metadata": {},
   "source": [
    "두 자연수 A와 B에 대해서, A의 배수이면서 B의 배수인 자연수를 A와 B의 공배수라고 한다. 이런 공배수 중에서 가장 작은 수를 최소공배수라고 한다. 예를 들어, 6과 15의 공배수는 30, 60, 90등이 있으며, 최소 공배수는 30이다.\n",
    "\n",
    "두 자연수 A와 B가 주어졌을 때, A와 B의 최소공배수를 구하는 프로그램을 작성하시오."
   ]
  },
  {
   "cell_type": "code",
   "execution_count": 32,
   "metadata": {},
   "outputs": [
    {
     "name": "stdout",
     "output_type": "stream",
     "text": [
      "45000\n",
      "30\n",
      "221\n"
     ]
    }
   ],
   "source": [
    "n = int(input())\n",
    "l = []\n",
    "for _ in range(n):\n",
    "    l.append(list(map(int,input().split())))  \n",
    "result = []\n",
    "for i in range(len(l)):\n",
    "    n , m = l[i][0] , l[i][1]\n",
    "    while m != 0:\n",
    "        n = n % m\n",
    "        n , m = m , n\n",
    "    result.append(n)\n",
    "for i in range(len(l)):\n",
    "    print(l[i][0] * l[i][1] //result[i] )"
   ]
  },
  {
   "cell_type": "markdown",
   "metadata": {},
   "source": [
    "## GCD 합"
   ]
  },
  {
   "cell_type": "markdown",
   "metadata": {},
   "source": [
    "양의 정수 n개가 주어졌을 때, 가능한 모든 쌍의 GCD의 합을 구하는 프로그램을 작성하시오."
   ]
  },
  {
   "cell_type": "code",
   "execution_count": 1,
   "metadata": {},
   "outputs": [
    {
     "name": "stdout",
     "output_type": "stream",
     "text": [
      "3\n",
      "4 10 20 30 40\n",
      "70\n",
      "3 7 5 12\n",
      "3\n",
      "3 125 15 25\n",
      "35\n"
     ]
    }
   ],
   "source": [
    "n = int(input())\n",
    "def gcd(x,y):\n",
    "    while y != 0:\n",
    "        x = x % y\n",
    "        x , y = y , x\n",
    "    return x\n",
    "for _ in range(n):\n",
    "    l = list(map(int, input().split()))\n",
    "    total = 0\n",
    "    for i in range(1, len(l)-1):\n",
    "        for j in range(i+1, len(l)):\n",
    "            total += gcd(l[i], l[j])\n",
    "    print(total)"
   ]
  },
  {
   "cell_type": "markdown",
   "metadata": {},
   "source": [
    "## 골드바흐의 추측"
   ]
  },
  {
   "cell_type": "code",
   "execution_count": null,
   "metadata": {},
   "outputs": [
    {
     "name": "stdout",
     "output_type": "stream",
     "text": [
      "21\n",
      "21 = 2 + 19\n",
      "21 = 2 + 19\n",
      "20\n",
      "Goldbach's conjecture is wrong.\n"
     ]
    }
   ],
   "source": [
    "n = 10000\n",
    "a = [False , False] + [True] *(n-1)\n",
    "primes = []\n",
    "for i in range(2, n+1):\n",
    "    for j in range(i * 2 , n+1, i):\n",
    "        a[j] = False\n",
    "while True:\n",
    "    x = int(input())\n",
    "    if x == 0:\n",
    "        break\n",
    "    for j in range(x):\n",
    "        if a[x-j] == True and a[j] ==True:\n",
    "            print(\"{} = {} + {}\".format(x, j, x-j))\n",
    "            print(x,'=',j,'+',x-j)\n",
    "            break\n",
    "        if a[x-j] != False and a[j] !=True:\n",
    "            print(\"Goldbach's conjecture is wrong.\")\n",
    "            break"
   ]
  },
  {
   "cell_type": "code",
   "execution_count": 32,
   "metadata": {},
   "outputs": [
    {
     "data": {
      "text/plain": [
       "1229"
      ]
     },
     "execution_count": 32,
     "metadata": {},
     "output_type": "execute_result"
    }
   ],
   "source": [
    "cnt = 0\n",
    "for k in range(len(primes)-1, -1, -1):\n",
    "    cnt += 1\n",
    "cnt"
   ]
  },
  {
   "cell_type": "code",
   "execution_count": 31,
   "metadata": {},
   "outputs": [
    {
     "data": {
      "text/plain": [
       "1229"
      ]
     },
     "execution_count": 31,
     "metadata": {},
     "output_type": "execute_result"
    }
   ],
   "source": [
    "len(primes)"
   ]
  },
  {
   "cell_type": "code",
   "execution_count": 14,
   "metadata": {},
   "outputs": [],
   "source": [
    "if primes[1] - primes[2] == 0:\n",
    "    print(1)"
   ]
  },
  {
   "cell_type": "code",
   "execution_count": 27,
   "metadata": {},
   "outputs": [
    {
     "name": "stdout",
     "output_type": "stream",
     "text": [
      "1\n"
     ]
    }
   ],
   "source": [
    "sosu = [0 for i in range(10001)]\n",
    "sosu[1] = 1\n",
    "for i in range(2, 98):\n",
    "    for j in range(i * 2, 10001, i):\n",
    "        sosu[j] = 1\n",
    "print(sosu[6])"
   ]
  },
  {
   "cell_type": "code",
   "execution_count": 21,
   "metadata": {},
   "outputs": [
    {
     "data": {
      "text/plain": [
       "<function print>"
      ]
     },
     "execution_count": 21,
     "metadata": {},
     "output_type": "execute_result"
    }
   ],
   "source": [
    "print()"
   ]
  },
  {
   "cell_type": "code",
   "execution_count": 2,
   "metadata": {},
   "outputs": [
    {
     "data": {
      "text/plain": [
       "5"
      ]
     },
     "execution_count": 2,
     "metadata": {},
     "output_type": "execute_result"
    }
   ],
   "source": [
    "10 // 2"
   ]
  }
 ],
 "metadata": {
  "kernelspec": {
   "display_name": "Python 3",
   "language": "python",
   "name": "python3"
  },
  "language_info": {
   "codemirror_mode": {
    "name": "ipython",
    "version": 3
   },
   "file_extension": ".py",
   "mimetype": "text/x-python",
   "name": "python",
   "nbconvert_exporter": "python",
   "pygments_lexer": "ipython3",
   "version": "3.7.6"
  }
 },
 "nbformat": 4,
 "nbformat_minor": 4
}
