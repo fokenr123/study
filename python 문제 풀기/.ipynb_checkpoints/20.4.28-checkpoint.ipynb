{
 "cells": [
  {
   "cell_type": "markdown",
   "metadata": {},
   "source": [
    "## 체스판 다시 칠하기"
   ]
  },
  {
   "cell_type": "markdown",
   "metadata": {},
   "source": [
    "지민이는 자신의 저택에서 MN개의 단위 정사각형으로 나누어져 있는 M*N 크기의 보드를 찾았다. 어떤 정사각형은 검은색으로 칠해져 있고, 나머지는 흰색으로 칠해져 있다. 지민이는 이 보드를 잘라서 8*8 크기의 체스판으로 만들려고 한다.\n",
    "\n",
    "체스판은 검은색과 흰색이 번갈아서 칠해져 있어야 한다. 구체적으로, 각 칸이 검은색과 흰색 중 하나로 색칠되어 있고, 변을 공유하는 두 개의 사각형은 다른 색으로 칠해져 있어야 한다. 따라서 이 정의를 따르면 체스판을 색칠하는 경우는 두 가지뿐이다. 하나는 맨 왼쪽 위 칸이 흰색인 경우, 하나는 검은색인 경우이다.\n",
    "\n",
    "보드가 체스판처럼 칠해져 있다는 보장이 없어서, 지민이는 8*8 크기의 체스판으로 잘라낸 후에 몇 개의 정사각형을 다시 칠해야겠다고 생각했다. 당연히 8*8 크기는 아무데서나 골라도 된다. 지민이가 다시 칠해야 하는 정사각형의 최소 개수를 구하는 프로그램을 작성하시오."
   ]
  },
  {
   "cell_type": "code",
   "execution_count": 16,
   "metadata": {},
   "outputs": [
    {
     "name": "stdout",
     "output_type": "stream",
     "text": [
      "8 8 \n",
      "WBWBWBWB\n",
      "WBWBWBWB\n",
      "WBWBWBWB\n",
      "WBWBWBWB\n",
      "WBWBWBWB\n",
      "WBWBWBWB\n",
      "WBWBWBWB\n",
      "WBWBWBWB\n",
      "1\n",
      "2\n",
      "32\n"
     ]
    }
   ],
   "source": [
    "n, m = map(int, input().split())\n",
    "m_list = []\n",
    "for _ in range(n):\n",
    "    m_list.append(input())\n",
    "n_min = 64\n",
    "\n",
    "for i in range(n - 7):\n",
    "    for j in range(m - 7):\n",
    "        cnt1 = 0\n",
    "        cnt2 = 0\n",
    "        for k in range(i, i + 8):\n",
    "            for s in range(j, j + 8):\n",
    "                if k % 2 == 0 and s % 2 == 0:\n",
    "                    if m_list[k][s] == 'B':\n",
    "                        cnt1 += 1\n",
    "                elif k % 2 == 1 and s % 2 == 1:\n",
    "                    if m_list[k][s] == 'B':\n",
    "                        cnt1 += 1\n",
    "                elif k % 2 == 0 and s % 2 == 1:\n",
    "                    if m_list[k][s] == 'W':\n",
    "                        cnt1 += 1\n",
    "                elif k % 2 == 1 and s % 2 == 0:\n",
    "                    if m_list[k][s] == 'W':\n",
    "                        cnt1 += 1\n",
    "\n",
    "        for k in range(i, i+8 ):\n",
    "            for f in range(j , j+8):\n",
    "                if k % 2 == 1 and  j % 2 == 1:\n",
    "                    if list_1[k][f] == 'B':\n",
    "                        cnt1 +=1 \n",
    "                elif k % 2 == 1 and  j % 2 == 0:\n",
    "                    if list_1[k][f] == 'W':\n",
    "                        cnt1 +=1 \n",
    "                elif k % 2 == 0 and  j % 2 == 1:\n",
    "                    if list_1[k][f] == 'W':\n",
    "                        cnt1 +=1 \n",
    "                elif k % 2 == 0 and  j % 2 == 0:\n",
    "                    if list_1[k][f] == 'B':\n",
    "                        cnt1 +=1                        \n",
    "                        \n",
    "\n",
    "        for k in range(i, i + 8):\n",
    "            for s in range(j, j + 8):\n",
    "                if k % 2 == 0 and s % 2 == 0:\n",
    "                    if m_list[k][s] == 'W':\n",
    "                        cnt2 += 1\n",
    "                elif k % 2 == 1 and s % 2 == 1:\n",
    "                    if m_list[k][s] == 'W':\n",
    "                        cnt2 += 1\n",
    "                elif k % 2 == 0 and s % 2 == 1:\n",
    "                    if m_list[k][s] == 'B':\n",
    "                        cnt2 += 1\n",
    "                elif k % 2 == 1 and s % 2 == 0:\n",
    "                    if m_list[k][s] == 'B':\n",
    "                        cnt2 += 1\n",
    "        n_min = min(n_min, cnt1, cnt2)\n",
    "print(n_min)\n",
    "# 출처 : https://pacific-ocean.tistory.com/136"
   ]
  }
 ],
 "metadata": {
  "kernelspec": {
   "display_name": "Python 3",
   "language": "python",
   "name": "python3"
  },
  "language_info": {
   "codemirror_mode": {
    "name": "ipython",
    "version": 3
   },
   "file_extension": ".py",
   "mimetype": "text/x-python",
   "name": "python",
   "nbconvert_exporter": "python",
   "pygments_lexer": "ipython3",
   "version": "3.7.6"
  }
 },
 "nbformat": 4,
 "nbformat_minor": 4
}
