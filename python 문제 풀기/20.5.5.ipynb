{
 "cells": [
  {
   "cell_type": "markdown",
   "metadata": {},
   "source": [
    "## N과 M (1)\n"
   ]
  },
  {
   "cell_type": "markdown",
   "metadata": {},
   "source": [
    "자연수 N과 M이 주어졌을 때, 아래 조건을 만족하는 길이가 M인 수열을 모두 구하는 프로그램을 작성하시오.\n",
    "\n",
    "1부터 N까지 자연수 중에서 중복 없이 M개를 고른 수열"
   ]
  },
  {
   "cell_type": "code",
   "execution_count": 100,
   "metadata": {},
   "outputs": [
    {
     "name": "stdout",
     "output_type": "stream",
     "text": [
      "4 2\n",
      "1 2\n",
      "1 3\n",
      "1 4\n",
      "2 1\n",
      "2 3\n",
      "2 4\n",
      "3 1\n",
      "3 2\n",
      "3 4\n",
      "4 1\n",
      "4 2\n",
      "4 3\n"
     ]
    }
   ],
   "source": [
    "N, M = map(int, input().split())\n",
    "\n",
    "num_list = [i + 1 for i in range(N)]\n",
    "check_list = [False] * N\n",
    "\n",
    "arr = []\n",
    "\n",
    "def dfs(cnt):\n",
    "    if(cnt == M):\n",
    "        print(*arr)\n",
    "        return\n",
    "    \n",
    "    for i in range(0, N):\n",
    "        if(check_list[i]):\n",
    "            continue\n",
    "        check_list[i] = True\n",
    "        arr.append(num_list[i])\n",
    "        dfs(cnt + 1)\n",
    "        arr.pop()\n",
    "        check_list[i] = False\n",
    "        \n",
    "dfs(0)\n",
    "# 출처 : https://hwiyong.tistory.com/300"
   ]
  },
  {
   "cell_type": "code",
   "execution_count": 93,
   "metadata": {},
   "outputs": [
    {
     "name": "stdout",
     "output_type": "stream",
     "text": [
      "1 False\n",
      "False\n",
      "1 False\n",
      "False\n",
      "1 False\n",
      "False\n",
      "1 False\n",
      "False\n"
     ]
    }
   ],
   "source": [
    "for i in range(0, N):\n",
    "        print('1', check_list[i])\n",
    "        if(check_list[i]):\n",
    "            continue\n",
    "        print(check_list[i])"
   ]
  },
  {
   "cell_type": "code",
   "execution_count": 84,
   "metadata": {},
   "outputs": [
    {
     "data": {
      "text/plain": [
       "[]"
      ]
     },
     "execution_count": 84,
     "metadata": {},
     "output_type": "execute_result"
    }
   ],
   "source": [
    "arr"
   ]
  },
  {
   "cell_type": "code",
   "execution_count": 76,
   "metadata": {},
   "outputs": [
    {
     "data": {
      "text/plain": [
       "[False, False, False, False, False]"
      ]
     },
     "execution_count": 76,
     "metadata": {},
     "output_type": "execute_result"
    }
   ],
   "source": [
    "check"
   ]
  },
  {
   "cell_type": "code",
   "execution_count": 74,
   "metadata": {},
   "outputs": [
    {
     "name": "stdout",
     "output_type": "stream",
     "text": [
      "d\n",
      "0\n",
      "d\n",
      "1\n",
      "d\n",
      "2\n",
      "d\n",
      "3\n"
     ]
    }
   ],
   "source": [
    "for i in range(0, N):\n",
    "    if(check_list[True]):\n",
    "        continue\n",
    "    print('d')\n",
    "    print(i)"
   ]
  }
 ],
 "metadata": {
  "kernelspec": {
   "display_name": "Python 3",
   "language": "python",
   "name": "python3"
  },
  "language_info": {
   "codemirror_mode": {
    "name": "ipython",
    "version": 3
   },
   "file_extension": ".py",
   "mimetype": "text/x-python",
   "name": "python",
   "nbconvert_exporter": "python",
   "pygments_lexer": "ipython3",
   "version": "3.7.6"
  }
 },
 "nbformat": 4,
 "nbformat_minor": 4
}
