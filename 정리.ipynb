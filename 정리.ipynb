{
 "cells": [
  {
   "cell_type": "code",
   "execution_count": 1,
   "metadata": {},
   "outputs": [],
   "source": [
    "from PIL import Image\n",
    "import os, glob, numpy as np\n",
    "from sklearn.model_selection import train_test_split\n",
    "\n",
    "caltech_dir = \"C:/Users/ICT01_20/Desktop/food-5\"\n",
    "categories  = os.listdir(caltech_dir)\n",
    "nb_classes = len(categories )\n",
    "image_w = 128\n",
    "image_h = 128\n",
    "\n",
    "X = []\n",
    "y = []"
   ]
  },
  {
   "cell_type": "code",
   "execution_count": 2,
   "metadata": {},
   "outputs": [
    {
     "name": "stderr",
     "output_type": "stream",
     "text": [
      "Using TensorFlow backend.\n"
     ]
    },
    {
     "name": "stdout",
     "output_type": "stream",
     "text": [
      "(4013, 128, 128, 3)\n",
      "4013\n"
     ]
    }
   ],
   "source": [
    "import os, glob, numpy as np\n",
    "import tensorflow as tf\n",
    "from keras.models import Sequential\n",
    "from keras.layers import Conv2D, MaxPooling2D, Dense, Flatten, Dropout\n",
    "from keras.callbacks import EarlyStopping, ModelCheckpoint\n",
    "import matplotlib.pyplot as plt\n",
    "import keras.backend.tensorflow_backend as K\n",
    "#np_load_old = np.load\n",
    "#np.load = lambda *a, **k : np_load_old(*a, allow_pickle=True, **k)\n",
    "#np.load = np_load_old\n",
    "\n",
    "import tensorflow as tf\n",
    "config = tf.ConfigProto()\n",
    "config.gpu_options.allow_growth = True\n",
    "session = tf.Session(config=config)\n",
    "\n",
    "X_train, X_test, X_val, y_train, y_test, y_val= np.load('C:/Users/ICT01_20/Desktop/food-10.npy',allow_pickle=True)\n",
    "# C:/Users/ICT01_20/Desktop/food-5-2.npy\n",
    "# C:/Users/ICT01_20/Documents/study/test/food128-1.npy\n",
    "print(X_train.shape)\n",
    "print(X_train.shape[0])"
   ]
  },
  {
   "cell_type": "code",
   "execution_count": 3,
   "metadata": {},
   "outputs": [],
   "source": [
    "#일반화\n",
    "X_train = X_train.astype(float) / 255\n",
    "X_test = X_test.astype(float) / 255\n",
    "X_val = X_test.astype(float) / 255"
   ]
  },
  {
   "cell_type": "code",
   "execution_count": 4,
   "metadata": {},
   "outputs": [
    {
     "name": "stdout",
     "output_type": "stream",
     "text": [
      "WARNING:tensorflow:From C:\\Users\\ICT01_20\\Anaconda3\\envs\\a\\lib\\site-packages\\keras\\backend\\tensorflow_backend.py:74: The name tf.get_default_graph is deprecated. Please use tf.compat.v1.get_default_graph instead.\n",
      "\n",
      "WARNING:tensorflow:From C:\\Users\\ICT01_20\\Anaconda3\\envs\\a\\lib\\site-packages\\keras\\backend\\tensorflow_backend.py:517: The name tf.placeholder is deprecated. Please use tf.compat.v1.placeholder instead.\n",
      "\n",
      "WARNING:tensorflow:From C:\\Users\\ICT01_20\\Anaconda3\\envs\\a\\lib\\site-packages\\keras\\backend\\tensorflow_backend.py:4138: The name tf.random_uniform is deprecated. Please use tf.random.uniform instead.\n",
      "\n",
      "WARNING:tensorflow:From C:\\Users\\ICT01_20\\Anaconda3\\envs\\a\\lib\\site-packages\\keras\\backend\\tensorflow_backend.py:3976: The name tf.nn.max_pool is deprecated. Please use tf.nn.max_pool2d instead.\n",
      "\n",
      "WARNING:tensorflow:From C:\\Users\\ICT01_20\\Anaconda3\\envs\\a\\lib\\site-packages\\keras\\backend\\tensorflow_backend.py:133: The name tf.placeholder_with_default is deprecated. Please use tf.compat.v1.placeholder_with_default instead.\n",
      "\n",
      "WARNING:tensorflow:From C:\\Users\\ICT01_20\\Anaconda3\\envs\\a\\lib\\site-packages\\keras\\backend\\tensorflow_backend.py:3445: calling dropout (from tensorflow.python.ops.nn_ops) with keep_prob is deprecated and will be removed in a future version.\n",
      "Instructions for updating:\n",
      "Please use `rate` instead of `keep_prob`. Rate should be set to `rate = 1 - keep_prob`.\n",
      "WARNING:tensorflow:From C:\\Users\\ICT01_20\\Anaconda3\\envs\\a\\lib\\site-packages\\keras\\optimizers.py:790: The name tf.train.Optimizer is deprecated. Please use tf.compat.v1.train.Optimizer instead.\n",
      "\n",
      "WARNING:tensorflow:From C:\\Users\\ICT01_20\\Anaconda3\\envs\\a\\lib\\site-packages\\keras\\backend\\tensorflow_backend.py:3295: The name tf.log is deprecated. Please use tf.math.log instead.\n",
      "\n"
     ]
    }
   ],
   "source": [
    "from keras.layers import BatchNormalization\n",
    "with K.tf_ops.device('/device:GPU:0'):\n",
    "    model = Sequential()\n",
    "    model.add(Conv2D(32, (3,3), padding=\"same\", input_shape=X_train.shape[1:], activation='relu')) \n",
    "    model.add(MaxPooling2D(pool_size=(2,2)))\n",
    "    model.add(Dropout(0.25))\n",
    "    \n",
    "    model.add(Conv2D(64, (3,3), padding=\"same\", activation='relu'))\n",
    "    \n",
    "    model.add(MaxPooling2D(pool_size=(2,2)))\n",
    "    model.add(Dropout(0.25))\n",
    "    \n",
    "    model.add(Flatten())\n",
    "    \n",
    "    model.add(Dense(256, activation='relu'))\n",
    "    model.add(Dropout(0.5))\n",
    "    model.add(Dense(10, activation='softmax'))\n",
    "    model.compile(loss='categorical_crossentropy', optimizer='adam', metrics=['accuracy'])\n",
    "    model_dir = './test'\n",
    "    \n",
    "    if not os.path.exists(model_dir):\n",
    "        os.mkdir(model_dir)\n",
    "    \n",
    "    model_path = model_dir + '/food-1-1.model'\n",
    "    checkpoint = ModelCheckpoint(filepath=model_path , monitor='val_loss', verbose=1, save_best_only=True)\n",
    "    early_stopping = EarlyStopping(monitor='val_loss', patience=2)"
   ]
  },
  {
   "cell_type": "code",
   "execution_count": 6,
   "metadata": {},
   "outputs": [
    {
     "name": "stdout",
     "output_type": "stream",
     "text": [
      "_________________________________________________________________\n",
      "Layer (type)                 Output Shape              Param #   \n",
      "=================================================================\n",
      "conv2d_3 (Conv2D)            (None, 128, 128, 32)      896       \n",
      "_________________________________________________________________\n",
      "max_pooling2d_3 (MaxPooling2 (None, 64, 64, 32)        0         \n",
      "_________________________________________________________________\n",
      "dropout_4 (Dropout)          (None, 64, 64, 32)        0         \n",
      "_________________________________________________________________\n",
      "conv2d_4 (Conv2D)            (None, 64, 64, 64)        18496     \n",
      "_________________________________________________________________\n",
      "max_pooling2d_4 (MaxPooling2 (None, 32, 32, 64)        0         \n",
      "_________________________________________________________________\n",
      "dropout_5 (Dropout)          (None, 32, 32, 64)        0         \n",
      "_________________________________________________________________\n",
      "flatten_2 (Flatten)          (None, 65536)             0         \n",
      "_________________________________________________________________\n",
      "dense_2 (Dense)              (None, 256)               16777472  \n",
      "_________________________________________________________________\n",
      "dropout_6 (Dropout)          (None, 256)               0         \n",
      "_________________________________________________________________\n",
      "dense_3 (Dense)              (None, 10)                2570      \n",
      "=================================================================\n",
      "Total params: 16,799,434\n",
      "Trainable params: 16,799,434\n",
      "Non-trainable params: 0\n",
      "_________________________________________________________________\n"
     ]
    }
   ],
   "source": [
    "model.summary()"
   ]
  },
  {
   "cell_type": "code",
   "execution_count": 5,
   "metadata": {},
   "outputs": [
    {
     "name": "stdout",
     "output_type": "stream",
     "text": [
      "WARNING:tensorflow:From C:\\Users\\ICT01_20\\Anaconda3\\envs\\a\\lib\\site-packages\\tensorflow_core\\python\\ops\\math_grad.py:1424: where (from tensorflow.python.ops.array_ops) is deprecated and will be removed in a future version.\n",
      "Instructions for updating:\n",
      "Use tf.where in 2.0, which has the same broadcast rule as np.where\n",
      "WARNING:tensorflow:From C:\\Users\\ICT01_20\\Anaconda3\\envs\\a\\lib\\site-packages\\keras\\backend\\tensorflow_backend.py:986: The name tf.assign_add is deprecated. Please use tf.compat.v1.assign_add instead.\n",
      "\n",
      "WARNING:tensorflow:From C:\\Users\\ICT01_20\\Anaconda3\\envs\\a\\lib\\site-packages\\keras\\backend\\tensorflow_backend.py:973: The name tf.assign is deprecated. Please use tf.compat.v1.assign instead.\n",
      "\n",
      "Train on 4013 samples, validate on 1338 samples\n",
      "Epoch 1/50\n",
      "WARNING:tensorflow:From C:\\Users\\ICT01_20\\Anaconda3\\envs\\a\\lib\\site-packages\\keras\\backend\\tensorflow_backend.py:174: The name tf.get_default_session is deprecated. Please use tf.compat.v1.get_default_session instead.\n",
      "\n",
      "WARNING:tensorflow:From C:\\Users\\ICT01_20\\Anaconda3\\envs\\a\\lib\\site-packages\\keras\\backend\\tensorflow_backend.py:190: The name tf.global_variables is deprecated. Please use tf.compat.v1.global_variables instead.\n",
      "\n",
      "WARNING:tensorflow:From C:\\Users\\ICT01_20\\Anaconda3\\envs\\a\\lib\\site-packages\\keras\\backend\\tensorflow_backend.py:199: The name tf.is_variable_initialized is deprecated. Please use tf.compat.v1.is_variable_initialized instead.\n",
      "\n",
      "WARNING:tensorflow:From C:\\Users\\ICT01_20\\Anaconda3\\envs\\a\\lib\\site-packages\\keras\\backend\\tensorflow_backend.py:206: The name tf.variables_initializer is deprecated. Please use tf.compat.v1.variables_initializer instead.\n",
      "\n",
      "4013/4013 [==============================] - 16s 4ms/step - loss: 2.5622 - acc: 0.2537 - val_loss: 1.6438 - val_acc: 0.4081\n",
      "\n",
      "Epoch 00001: val_loss improved from inf to 1.64377, saving model to ./test/food-1-1.model\n",
      "Epoch 2/50\n",
      "4013/4013 [==============================] - 11s 3ms/step - loss: 1.2381 - acc: 0.5420 - val_loss: 1.0491 - val_acc: 0.6293\n",
      "\n",
      "Epoch 00002: val_loss improved from 1.64377 to 1.04910, saving model to ./test/food-1-1.model\n",
      "Epoch 3/50\n",
      "4013/4013 [==============================] - 11s 3ms/step - loss: 0.9986 - acc: 0.6230 - val_loss: 0.9747 - val_acc: 0.6360\n",
      "\n",
      "Epoch 00003: val_loss improved from 1.04910 to 0.97466, saving model to ./test/food-1-1.model\n",
      "Epoch 4/50\n",
      "4013/4013 [==============================] - 11s 3ms/step - loss: 0.8562 - acc: 0.6756 - val_loss: 0.9211 - val_acc: 0.6644\n",
      "\n",
      "Epoch 00004: val_loss improved from 0.97466 to 0.92106, saving model to ./test/food-1-1.model\n",
      "Epoch 5/50\n",
      "4013/4013 [==============================] - 11s 3ms/step - loss: 0.7629 - acc: 0.7162 - val_loss: 0.8118 - val_acc: 0.6996\n",
      "\n",
      "Epoch 00005: val_loss improved from 0.92106 to 0.81182, saving model to ./test/food-1-1.model\n",
      "Epoch 6/50\n",
      "4013/4013 [==============================] - 11s 3ms/step - loss: 0.6620 - acc: 0.7603 - val_loss: 0.7985 - val_acc: 0.7033\n",
      "\n",
      "Epoch 00006: val_loss improved from 0.81182 to 0.79847, saving model to ./test/food-1-1.model\n",
      "Epoch 7/50\n",
      "4013/4013 [==============================] - 11s 3ms/step - loss: 0.5536 - acc: 0.7947 - val_loss: 0.8135 - val_acc: 0.7212\n",
      "\n",
      "Epoch 00007: val_loss did not improve from 0.79847\n",
      "Epoch 8/50\n",
      "4013/4013 [==============================] - 11s 3ms/step - loss: 0.4486 - acc: 0.8338 - val_loss: 0.7995 - val_acc: 0.7182\n",
      "\n",
      "Epoch 00008: val_loss did not improve from 0.79847\n"
     ]
    }
   ],
   "source": [
    "history = model.fit(X_train, y_train, batch_size=32, epochs=50, validation_data=(X_test, y_test), \n",
    "                    callbacks=[checkpoint, early_stopping])"
   ]
  },
  {
   "cell_type": "code",
   "execution_count": 7,
   "metadata": {},
   "outputs": [
    {
     "name": "stdout",
     "output_type": "stream",
     "text": [
      "1338/1338 [==============================] - 1s 716us/step\n",
      "test : 정확도 : 0.7182\n",
      "4013/4013 [==============================] - 3s 684us/step\n",
      "train : 정확도 : 0.9230\n"
     ]
    }
   ],
   "source": [
    "print(\"test : 정확도 : %.4f\" % (model.evaluate(X_test, y_test)[1]))\n",
    "print(\"train : 정확도 : %.4f\" % (model.evaluate(X_train, y_train)[1]))\n"
   ]
  },
  {
   "cell_type": "code",
   "execution_count": 8,
   "metadata": {},
   "outputs": [
    {
     "data": {
      "image/png": "[encoded data removed]",
      "text/plain": [
       "<Figure size 432x288 with 1 Axes>"
      ]
     },
     "metadata": {
      "needs_background": "light"
     },
     "output_type": "display_data"
    }
   ],
   "source": [
    "y_vloss = history.history['val_loss']\n",
    "y_loss = history.history['loss']\n",
    "\n",
    "x_len = np.arange(len(y_loss))\n",
    "\n",
    "plt.plot(x_len, y_vloss, marker='.', c='red', label='val_set_loss')\n",
    "plt.plot(x_len, y_loss, marker='.', c='blue', label='train_set_oss')\n",
    "plt.legend()\n",
    "plt.xlabel('epochs')\n",
    "plt.ylabel('loss')\n",
    "plt.grid()\n",
    "plt.show()"
   ]
  },
  {
   "cell_type": "code",
   "execution_count": 4,
   "metadata": {
    "scrolled": true
   },
   "outputs": [
    {
     "name": "stdout",
     "output_type": "stream",
     "text": [
      "['캡처1.PNG', '캡처10.PNG', '캡처11.PNG', '캡처12.PNG', '캡처2.PNG', '캡처4.PNG', '캡처5.PNG', '캡처8.PNG', '캡처9.PNG']\n",
      "[0.000 1.000 0.000 0.000 0.000 0.000 0.000 0.000 0.000 0.000]\n",
      "1\n",
      "해당 이미지는 계란찜로 추정됩니다.\n",
      "[0.000 0.000 0.000 0.000 0.000 0.000 0.000 1.000 0.000 0.000]\n",
      "7\n",
      "해당 이미지는 오징어채볶음로 추정됩니다.\n",
      "[0.000 0.000 0.000 1.000 0.000 0.000 0.000 0.000 0.000 0.000]\n",
      "3\n",
      "해당 이미지는 메추리알장조림로 추정됩니다.\n",
      "[0.000 1.000 0.000 0.000 0.000 0.000 0.000 0.000 0.000 0.000]\n",
      "1\n",
      "해당 이미지는 계란찜로 추정됩니다.\n",
      "[0.000 0.000 1.000 0.000 0.000 0.000 0.000 0.000 0.000 0.000]\n",
      "2\n",
      "해당 이미지는 고사리나물로 추정됩니다.\n",
      "[0.000 0.000 0.000 0.000 0.000 0.000 0.000 1.000 0.000 0.000]\n",
      "7\n",
      "해당 이미지는 오징어채볶음로 추정됩니다.\n",
      "[0.000 0.000 1.000 0.000 0.000 0.000 0.000 0.000 0.000 0.000]\n",
      "2\n",
      "해당 이미지는 고사리나물로 추정됩니다.\n",
      "[0.000 0.000 0.000 0.000 0.000 1.000 0.000 0.000 0.000 0.000]\n",
      "5\n",
      "해당 이미지는 애호박볶음로 추정됩니다.\n",
      "[0.000 0.000 0.000 0.000 0.000 1.000 0.000 0.000 0.000 0.000]\n",
      "5\n",
      "해당 이미지는 애호박볶음로 추정됩니다.\n"
     ]
    }
   ],
   "source": [
    "from PIL import Image\n",
    "import os, glob, numpy as np\n",
    "from keras.models import load_model\n",
    "\n",
    "caltech_dir = \"C:/Users/ICT01_20/Documents/study/test1\"\n",
    "categories  = os.listdir(caltech_dir)\n",
    "nb_classes = len(categories )\n",
    "print(categories)\n",
    "image_w = 128\n",
    "image_h = 128\n",
    "\n",
    "\n",
    "X = []\n",
    "filenames = []\n",
    "files = glob.glob(caltech_dir+\"/*.*\")\n",
    "for i, f in enumerate(files):\n",
    "    img = Image.open(f)\n",
    "    img = img.convert(\"RGB\")\n",
    "    img = img.resize((image_w, image_h))\n",
    "    data = np.asarray(img)\n",
    "    filenames.append(f)\n",
    "    X.append(data)\n",
    "\n",
    "X = np.array(X)\n",
    "model = load_model('./test/food-1-1.model')\n",
    "\n",
    "prediction = model.predict(X)\n",
    "np.set_printoptions(formatter={'float': lambda x: \"{0:0.3f}\".format(x)})\n",
    "cnt = 0\n",
    "\n",
    "caltech_dir = \"C:/Users/ICT01_20/Desktop/food-5\"\n",
    "categories  = os.listdir(caltech_dir)\n",
    "#이 비교는 그냥 파일들이 있으면 해당 파일과 비교. 카테고리와 함께 비교해서 진행하는 것은 _4 파일.\n",
    "for i in prediction:\n",
    "    pre_ans = i.argmax()  # 예측 레이블\n",
    "    print(i)\n",
    "    print(pre_ans)\n",
    "    pre_ans_str = categories[pre_ans]\n",
    "    print(\"해당 \"+\"이미지는 \"+pre_ans_str+\"로 추정됩니다.\")\n",
    "  "
   ]
  },
  {
   "cell_type": "code",
   "execution_count": null,
   "metadata": {},
   "outputs": [],
   "source": [
    "#----추가 "
   ]
  },
  {
   "cell_type": "code",
   "execution_count": null,
   "metadata": {},
   "outputs": [],
   "source": [
    "# ----------------------------------------------------------\n",
    "import os, glob, numpy as np\n",
    "import tensorflow as tf\n",
    "from keras.models import Sequential\n",
    "from keras.layers import Conv2D, MaxPooling2D, Dense, Flatten, Dropout\n",
    "from keras.callbacks import EarlyStopping, ModelCheckpoint\n",
    "import matplotlib.pyplot as plt\n",
    "import keras.backend.tensorflow_backend as K\n",
    "\n",
    "import tensorflow as tf\n",
    "config = tf.ConfigProto()\n",
    "config.gpu_options.allow_growth = True\n",
    "session = tf.Session(config=config)\n",
    "\n",
    "X_train, X_test, X_val, y_train, y_test, y_val= np.load('C:/Users/ICT01_20/Desktop/food-10.npy',allow_pickle=True)\n",
    "# C:/Users/ICT01_20/Desktop/food-5-2.npy\n",
    "# C:/Users/ICT01_20/Documents/study/test/food128-1.npy\n",
    "print(X_train.shape)\n",
    "print(X_train.shape[0])\n",
    "X_train = X_train.astype(float) / 255\n",
    "X_test = X_test.astype(float) / 255\n",
    "X_val = X_test.astype(float) / 255"
   ]
  },
  {
   "cell_type": "code",
   "execution_count": null,
   "metadata": {},
   "outputs": [],
   "source": [
    "import keras\n",
    "from keras.layers import ELU\n",
    "from keras.layers import BatchNormalization , LeakyReLU\n",
    "with K.tf_ops.device('/device:GPU:0'):\n",
    "    model = Sequential()\n",
    "    model.add(Conv2D(32, (2,2), padding=\"same\", input_shape=X_train.shape[1:],\n",
    "                     kernel_regularizer=keras.regularizers.l2(0.001), kernel_initializer='he_normal')) \n",
    "    model.add(LeakyReLU(alpha=0.01))\n",
    "    model.add(MaxPooling2D(pool_size=(2,2)))\n",
    "    model.add(Dropout(0.3))\n",
    "    \n",
    "    model.add(Conv2D(64, (2,2), padding=\"same\", kernel_regularizer=keras.regularizers.l2(0.001), kernel_initializer='he_normal'))\n",
    "    model.add(LeakyReLU(alpha=0.01))\n",
    "    model.add(MaxPooling2D(pool_size=(2,2)))\n",
    "    model.add(Dropout(0.3))\n",
    "    \n",
    "    model.add(Conv2D(128, (2,2), padding=\"same\", kernel_regularizer=keras.regularizers.l2(0.001), kernel_initializer='he_normal'))\n",
    "    model.add(LeakyReLU(alpha=0.01))\n",
    "    model.add(MaxPooling2D(pool_size=(2,2)))\n",
    "    model.add(Dropout(0.3))\n",
    "    \n",
    "    model.add(Flatten()) # 65536 \n",
    "    \n",
    "    model.add(Dense(256, kernel_regularizer=keras.regularizers.l2(0.001), kernel_initializer='he_normal'))\n",
    "    model.add(LeakyReLU(alpha=0.01))\n",
    "    model.add(Dropout(0.5))\n",
    "    model.add(Dense(10, activation='softmax'))\n",
    "    model.compile(loss='categorical_crossentropy', optimizer='adam', metrics=['accuracy'])\n",
    "    model_dir = './test'\n",
    "    \n",
    "    if not os.path.exists(model_dir):\n",
    "        os.mkdir(model_dir)\n",
    "    \n",
    "    model_path = model_dir + '/food-10.model'\n",
    "    checkpoint = ModelCheckpoint(filepath=model_path , monitor='val_loss', verbose=1, save_best_only=True)\n",
    "    early_stopping = EarlyStopping(monitor='val_loss', patience=6)"
   ]
  },
  {
   "cell_type": "code",
   "execution_count": null,
   "metadata": {},
   "outputs": [],
   "source": [
    "model.summary()"
   ]
  },
  {
   "cell_type": "code",
   "execution_count": null,
   "metadata": {},
   "outputs": [],
   "source": [
    "history = model.fit(X_train, y_train, batch_size=32, epochs=50, validation_data=(X_test, y_test), \n",
    "                    callbacks=[checkpoint, early_stopping])"
   ]
  },
  {
   "cell_type": "code",
   "execution_count": null,
   "metadata": {},
   "outputs": [],
   "source": [
    "y_vloss = history.history['val_loss']\n",
    "y_loss = history.history['loss']\n",
    "\n",
    "x_len = np.arange(len(y_loss))\n",
    "\n",
    "plt.plot(x_len, y_vloss, marker='.', c='red', label='val_set_loss')\n",
    "plt.plot(x_len, y_loss, marker='.', c='blue', label='train_set_oss')\n",
    "plt.legend()\n",
    "plt.xlabel('epochs')\n",
    "plt.ylabel('loss')\n",
    "plt.grid()\n",
    "plt.show()"
   ]
  },
  {
   "cell_type": "code",
   "execution_count": 7,
   "metadata": {},
   "outputs": [
    {
     "name": "stdout",
     "output_type": "stream",
     "text": [
      "['캡처1.PNG', '캡처10.PNG', '캡처11.PNG', '캡처12.PNG', '캡처2.PNG', '캡처4.PNG', '캡처5.PNG', '캡처8.PNG', '캡처9.PNG']\n",
      "[0.000 1.000 0.000 0.000 0.000 0.000 0.000 0.000 0.000 0.000]\n",
      "1\n",
      "[0.000 1.000 0.000 0.000 0.000 0.000 0.000 0.000 0.000 0.000] 해당 이미지는 계란찜로 추정됩니다.\n",
      "[0.000 0.000 0.000 1.000 0.000 0.000 0.000 0.000 0.000 0.000]\n",
      "3\n",
      "[0.000 0.000 0.000 1.000 0.000 0.000 0.000 0.000 0.000 0.000] 해당 이미지는 메추리알장조림로 추정됩니다.\n",
      "[0.000 0.000 0.000 1.000 0.000 0.000 0.000 0.000 0.000 0.000]\n",
      "3\n",
      "[0.000 0.000 0.000 1.000 0.000 0.000 0.000 0.000 0.000 0.000] 해당 이미지는 메추리알장조림로 추정됩니다.\n",
      "[1.000 0.000 0.000 0.000 0.000 0.000 0.000 0.000 0.000 0.000]\n",
      "0\n",
      "[1.000 0.000 0.000 0.000 0.000 0.000 0.000 0.000 0.000 0.000] 해당 이미지는 갈치구이로 추정됩니다.\n",
      "[0.000 0.000 1.000 0.000 0.000 0.000 0.000 0.000 0.000 0.000]\n",
      "2\n",
      "[0.000 0.000 1.000 0.000 0.000 0.000 0.000 0.000 0.000 0.000] 해당 이미지는 고사리나물로 추정됩니다.\n",
      "[0.000 0.000 0.000 0.000 0.000 0.000 0.000 1.000 0.000 0.000]\n",
      "7\n",
      "[0.000 0.000 0.000 0.000 0.000 0.000 0.000 1.000 0.000 0.000] 해당 이미지는 오징어채볶음로 추정됩니다.\n",
      "[0.000 0.000 0.000 0.000 0.000 0.000 0.000 0.000 0.000 1.000]\n",
      "9\n",
      "[0.000 0.000 0.000 0.000 0.000 0.000 0.000 0.000 0.000 1.000] 해당 이미지는 콩자반로 추정됩니다.\n",
      "[0.000 0.000 0.000 0.000 0.000 1.000 0.000 0.000 0.000 0.000]\n",
      "5\n",
      "[0.000 0.000 0.000 0.000 0.000 1.000 0.000 0.000 0.000 0.000] 해당 이미지는 애호박볶음로 추정됩니다.\n",
      "[0.000 0.000 0.000 0.000 0.000 1.000 0.000 0.000 0.000 0.000]\n",
      "5\n",
      "[0.000 0.000 0.000 0.000 0.000 1.000 0.000 0.000 0.000 0.000] 해당 이미지는 애호박볶음로 추정됩니다.\n"
     ]
    }
   ],
   "source": [
    "from PIL import Image\n",
    "import os, glob, numpy as np\n",
    "from keras.models import load_model\n",
    "\n",
    "caltech_dir = \"C:/Users/ICT01_20/Documents/study/test1\"\n",
    "categories  = os.listdir(caltech_dir)\n",
    "nb_classes = len(categories )\n",
    "print(categories)\n",
    "image_w = 128\n",
    "image_h = 128\n",
    "\n",
    "X = []\n",
    "filenames = []\n",
    "files = glob.glob(caltech_dir+\"/*.*\")\n",
    "for i, f in enumerate(files):\n",
    "    img = Image.open(f)\n",
    "    img = img.convert(\"RGB\")\n",
    "    img = img.resize((image_w, image_h))\n",
    "    \n",
    "    data = np.asarray(img)\n",
    "    filenames.append(f)\n",
    "    X.append(data)\n",
    "    \n",
    "X = np.array(X)\n",
    "model = load_model('./test/food-10.model')\n",
    "\n",
    "prediction = model.predict(X)\n",
    "np.set_printoptions(formatter={'float': lambda x: \"{0:0.3f}\".format(x)})\n",
    "cnt = 0\n",
    "\n",
    "caltech_dir = \"C:/Users/ICT01_20/Desktop/food-5\"\n",
    "categories  = os.listdir(caltech_dir)\n",
    "for i in prediction:\n",
    "    pre_ans = i.argmax()  \n",
    "    print(i)\n",
    "    print(pre_ans)\n",
    "    pre_ans_str = categories[pre_ans]\n",
    "    print(i,\"해당 \"+\"이미지는 \"+pre_ans_str+\"로 추정됩니다.\")"
   ]
  }
 ],
 "metadata": {
  "kernelspec": {
   "display_name": "Python 3",
   "language": "python",
   "name": "python3"
  }
 },
 "nbformat": 4,
 "nbformat_minor": 4
}
