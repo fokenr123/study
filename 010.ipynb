{
 "cells": [
  {
   "cell_type": "code",
   "execution_count": 306,
   "metadata": {},
   "outputs": [],
   "source": [
    "%matplotlib inline\n",
    "# 데이터 불러오고 \n",
    "from sklearn.datasets import load_iris\n",
    "from sklearn.model_selection import cross_val_score # cv\n",
    "from sklearn import tree\n",
    "clf = tree.DecisionTreeClassifier(random_state= 0)\n",
    "iris = load_iris()\n"
   ]
  },
  {
   "cell_type": "code",
   "execution_count": 58,
   "metadata": {},
   "outputs": [
    {
     "data": {
      "text/plain": [
       "[Text(167.4, 199.32, 'X[3] <= 0.8\\ngini = 0.667\\nsamples = 150\\nvalue = [50, 50, 50]'),\n",
       " Text(141.64615384615385, 163.07999999999998, 'gini = 0.0\\nsamples = 50\\nvalue = [50, 0, 0]'),\n",
       " Text(193.15384615384616, 163.07999999999998, 'X[3] <= 1.75\\ngini = 0.5\\nsamples = 100\\nvalue = [0, 50, 50]'),\n",
       " Text(103.01538461538462, 126.83999999999999, 'X[2] <= 4.95\\ngini = 0.168\\nsamples = 54\\nvalue = [0, 49, 5]'),\n",
       " Text(51.50769230769231, 90.6, 'X[3] <= 1.65\\ngini = 0.041\\nsamples = 48\\nvalue = [0, 47, 1]'),\n",
       " Text(25.753846153846155, 54.359999999999985, 'gini = 0.0\\nsamples = 47\\nvalue = [0, 47, 0]'),\n",
       " Text(77.26153846153846, 54.359999999999985, 'gini = 0.0\\nsamples = 1\\nvalue = [0, 0, 1]'),\n",
       " Text(154.52307692307693, 90.6, 'X[3] <= 1.55\\ngini = 0.444\\nsamples = 6\\nvalue = [0, 2, 4]'),\n",
       " Text(128.76923076923077, 54.359999999999985, 'gini = 0.0\\nsamples = 3\\nvalue = [0, 0, 3]'),\n",
       " Text(180.27692307692308, 54.359999999999985, 'X[2] <= 5.45\\ngini = 0.444\\nsamples = 3\\nvalue = [0, 2, 1]'),\n",
       " Text(154.52307692307693, 18.119999999999976, 'gini = 0.0\\nsamples = 2\\nvalue = [0, 2, 0]'),\n",
       " Text(206.03076923076924, 18.119999999999976, 'gini = 0.0\\nsamples = 1\\nvalue = [0, 0, 1]'),\n",
       " Text(283.2923076923077, 126.83999999999999, 'X[2] <= 4.85\\ngini = 0.043\\nsamples = 46\\nvalue = [0, 1, 45]'),\n",
       " Text(257.53846153846155, 90.6, 'X[1] <= 3.1\\ngini = 0.444\\nsamples = 3\\nvalue = [0, 1, 2]'),\n",
       " Text(231.7846153846154, 54.359999999999985, 'gini = 0.0\\nsamples = 2\\nvalue = [0, 0, 2]'),\n",
       " Text(283.2923076923077, 54.359999999999985, 'gini = 0.0\\nsamples = 1\\nvalue = [0, 1, 0]'),\n",
       " Text(309.04615384615386, 90.6, 'gini = 0.0\\nsamples = 43\\nvalue = [0, 0, 43]')]"
      ]
     },
     "execution_count": 58,
     "metadata": {},
     "output_type": "execute_result"
    },
    {
     "data": {
      "image/png": "[encoded data removed]",
      "text/plain": [
       "<Figure size 432x288 with 1 Axes>"
      ]
     },
     "metadata": {
      "needs_background": "light"
     },
     "output_type": "display_data"
    }
   ],
   "source": [
    "clf = clf.fit(iris.data,iris.target)\n",
    "tree.plot_tree(clf)\n"
   ]
  },
  {
   "cell_type": "code",
   "execution_count": 16,
   "metadata": {},
   "outputs": [],
   "source": [
    "# 트리 : 정보이득 : 불순도 {\"gini\" 계수 , entropy }\n",
    "                    # hyper parameter = > GridSearchCV\n",
    "    \n",
    "# 의사결정 트리를 만드는 이유\n",
    "    #- 비교를 적게하기 위하여 \n",
    "# 보통 2진 트리 : 기준 수(분산이 가장 큰거) 에 따른 정렬\n",
    "# max_depthint, default=None 5단계이상으로 하지 않음\n",
    "# 과적합 , 변수의 순서를 달리하면 결과도 달라진다 (max_depthint 과적합방지)\n",
    "# max_depth\n",
    "# 끝단의 leaf : min_samples_splitint or float, default=2 (2개이상으로 못나눔)\n",
    "# min_samples_leaf 노드가 되기위해선 최소의 default값이 있어야 한다 \n",
    "# hyper parameter 조합을 만들어서 테스트 : GridSearchCV"
   ]
  },
  {
   "cell_type": "code",
   "execution_count": 18,
   "metadata": {},
   "outputs": [
    {
     "data": {
      "text/plain": [
       "array([1.        , 0.93333333, 1.        , 0.93333333, 0.93333333,\n",
       "       0.86666667, 0.93333333, 1.        , 1.        , 1.        ])"
      ]
     },
     "execution_count": 18,
     "metadata": {},
     "output_type": "execute_result"
    }
   ],
   "source": [
    "cross_val_score(clf, iris.data, iris.target, cv=10)"
   ]
  },
  {
   "cell_type": "code",
   "execution_count": 21,
   "metadata": {},
   "outputs": [
    {
     "name": "stdout",
     "output_type": "stream",
     "text": [
      "9\n"
     ]
    }
   ],
   "source": [
    "print(clf.get_n_leaves())"
   ]
  },
  {
   "cell_type": "code",
   "execution_count": 23,
   "metadata": {},
   "outputs": [
    {
     "data": {
      "text/plain": [
       "5"
      ]
     },
     "execution_count": 23,
     "metadata": {},
     "output_type": "execute_result"
    }
   ],
   "source": [
    "clf.get_depth()"
   ]
  },
  {
   "cell_type": "code",
   "execution_count": 26,
   "metadata": {},
   "outputs": [
    {
     "data": {
      "text/plain": [
       "{'class_weight': None,\n",
       " 'criterion': 'gini',\n",
       " 'max_depth': None,\n",
       " 'max_features': None,\n",
       " 'max_leaf_nodes': None,\n",
       " 'min_impurity_decrease': 0.0,\n",
       " 'min_impurity_split': None,\n",
       " 'min_samples_leaf': 1,\n",
       " 'min_samples_split': 2,\n",
       " 'min_weight_fraction_leaf': 0.0,\n",
       " 'presort': False,\n",
       " 'random_state': 0,\n",
       " 'splitter': 'best'}"
      ]
     },
     "execution_count": 26,
     "metadata": {},
     "output_type": "execute_result"
    }
   ],
   "source": [
    "clf.get_params() #clf 의 hyper parameter\n",
    "# default 값 "
   ]
  },
  {
   "cell_type": "code",
   "execution_count": 125,
   "metadata": {},
   "outputs": [
    {
     "name": "stdout",
     "output_type": "stream",
     "text": [
      "(150, 4)\n",
      "(150,)\n",
      "['sepal length (cm)', 'sepal width (cm)', 'petal length (cm)', 'petal width (cm)']\n"
     ]
    }
   ],
   "source": [
    "# 품종 결정\n",
    "print(iris.data.shape)\n",
    "print(iris.target.shape)\n",
    "print(iris.feature_names)"
   ]
  },
  {
   "cell_type": "code",
   "execution_count": 33,
   "metadata": {},
   "outputs": [
    {
     "name": "stdout",
     "output_type": "stream",
     "text": [
      "     0    1    2    3\n",
      "0  5.1  3.5  1.4  0.2\n",
      "1  4.9  3.0  1.4  0.2\n",
      "2  4.7  3.2  1.3  0.2\n",
      "3  4.6  3.1  1.5  0.2\n",
      "4  5.0  3.6  1.4  0.2\n"
     ]
    }
   ],
   "source": [
    "import pandas as pd\n",
    "data= pd.DataFrame(iris.data)\n",
    "print(data.head())"
   ]
  },
  {
   "cell_type": "code",
   "execution_count": 38,
   "metadata": {},
   "outputs": [],
   "source": [
    "from sklearn.pipeline import make_pipeline\n",
    "from sklearn.naive_bayes import MultinomialNB # bayes 나중에 다시함\n",
    "from sklearn.preprocessing import Binarizer # 경계값을 기준으로 0 ,1 로나누어줌\n",
    "pipe =make_pipeline(Binarizer(), MultinomialNB())\n",
    "# binarize처리후  MultinomialNB() 에 줘라 "
   ]
  },
  {
   "cell_type": "code",
   "execution_count": 41,
   "metadata": {},
   "outputs": [
    {
     "name": "stdout",
     "output_type": "stream",
     "text": [
      "('binarizer', Binarizer(copy=True, threshold=0.0))\n",
      "Binarizer(copy=True, threshold=0.0)\n"
     ]
    }
   ],
   "source": [
    "print(pipe.steps[0])\n",
    "print(pipe[0])\n",
    "#pipe['redice_dim']"
   ]
  },
  {
   "cell_type": "code",
   "execution_count": 64,
   "metadata": {},
   "outputs": [
    {
     "data": {
      "text/plain": [
       "Pipeline(memory=None,\n",
       "         steps=[('reduce_dim',\n",
       "                 PCA(copy=True, iterated_power='auto', n_components=None,\n",
       "                     random_state=None, svd_solver='auto', tol=0.0,\n",
       "                     whiten=False)),\n",
       "                ('clf',\n",
       "                 SVC(C=1.0, cache_size=200, class_weight=None, coef0=0.0,\n",
       "                     decision_function_shape='ovr', degree=3,\n",
       "                     gamma='auto_deprecated', kernel='rbf', max_iter=-1,\n",
       "                     probability=False, random_state=None, shrinking=True,\n",
       "                     tol=0.001, verbose=False))],\n",
       "         verbose=False)"
      ]
     },
     "execution_count": 64,
     "metadata": {},
     "output_type": "execute_result"
    }
   ],
   "source": [
    "from sklearn.pipeline import Pipeline\n",
    "from sklearn.svm import SVC #support vector classifier\n",
    "from sklearn.decomposition import PCA # \n",
    "estimators = [('reduce_dim',PCA()),('clf',SVC())] #이름을 준느 이유는 매개변수를 전달 하게하기 위함 \n",
    "pipe = Pipeline(estimators)\n",
    "pipe"
   ]
  },
  {
   "cell_type": "code",
   "execution_count": 54,
   "metadata": {},
   "outputs": [
    {
     "name": "stdout",
     "output_type": "stream",
     "text": [
      "('reduce_dim', PCA(copy=True, iterated_power='auto', n_components=None, random_state=None,\n",
      "    svd_solver='auto', tol=0.0, whiten=False))\n",
      "PCA(copy=True, iterated_power='auto', n_components=None, random_state=None,\n",
      "    svd_solver='auto', tol=0.0, whiten=False)\n"
     ]
    }
   ],
   "source": [
    "print(pipe.steps[0]) #PCA\n",
    "print(pipe[0])"
   ]
  },
  {
   "cell_type": "code",
   "execution_count": 65,
   "metadata": {},
   "outputs": [
    {
     "data": {
      "text/plain": [
       "Pipeline(memory=None,\n",
       "         steps=[('reduce_dim',\n",
       "                 PCA(copy=True, iterated_power='auto', n_components=None,\n",
       "                     random_state=None, svd_solver='auto', tol=0.0,\n",
       "                     whiten=False)),\n",
       "                ('clf',\n",
       "                 SVC(C=10, cache_size=200, class_weight=None, coef0=0.0,\n",
       "                     decision_function_shape='ovr', degree=3,\n",
       "                     gamma='auto_deprecated', kernel='rbf', max_iter=-1,\n",
       "                     probability=False, random_state=None, shrinking=True,\n",
       "                     tol=0.001, verbose=False))],\n",
       "         verbose=False)"
      ]
     },
     "execution_count": 65,
     "metadata": {},
     "output_type": "execute_result"
    }
   ],
   "source": [
    "# 파이프 라인을 만든후 params 를 지정하고 싶을때 set_params를 이용\n",
    "# 이름을 주는 이유 \n",
    "pipe.set_params(clf__C = 10) # 매개변수 전달  "
   ]
  },
  {
   "cell_type": "code",
   "execution_count": 66,
   "metadata": {},
   "outputs": [],
   "source": [
    "# GridSearchCV"
   ]
  },
  {
   "cell_type": "code",
   "execution_count": 101,
   "metadata": {},
   "outputs": [
    {
     "name": "stdout",
     "output_type": "stream",
     "text": [
      "<class 'numpy.ndarray'>\n"
     ]
    }
   ],
   "source": [
    "import numpy as np\n",
    "def make_data(N, err=1.0, rseed=1):\n",
    "    rng = np.random.RandomState(rseed)\n",
    "    X = rng.rand(N, 1) ** 2\n",
    "    y = 10 - 1. / (X.ravel() + 0.1)\n",
    "    if err > 0:\n",
    "        y += err * rng.randn(N)\n",
    "    return X, y\n",
    "X, y = make_data(40)\n",
    "print(type(X))"
   ]
  },
  {
   "cell_type": "code",
   "execution_count": 102,
   "metadata": {},
   "outputs": [],
   "source": [
    "from sklearn.linear_model import LinearRegression\n",
    "from sklearn.model_selection import GridSearchCV #parameter tuning\n",
    "from sklearn.preprocessing import PolynomialFeatures# 다차원특성축사\n",
    "import numpy as np\n",
    "# 파이프라인 리턴\n",
    "def PolynomialRegression(degree=2, **kwargs):# dict 변동 매개변수\n",
    "    return make_pipeline(PolynomialFeatures(degree),\n",
    "                         LinearRegression(**kwargs))\n",
    "# 0~20\n",
    "# 모델의 hyper parameter\n",
    "param_grid = {'polynomialfeatures__degree': np.arange(21),\n",
    "              'linearregression__fit_intercept': [True, False],\n",
    "              'linearregression__normalize': [True, False]} \n",
    "# 조합은 21 x 2 x 2  = 84"
   ]
  },
  {
   "cell_type": "code",
   "execution_count": 103,
   "metadata": {},
   "outputs": [],
   "source": [
    "#cross validation (교차검정)\n",
    "grid = GridSearchCV(PolynomialRegression(),param_grid, cv=7)"
   ]
  },
  {
   "cell_type": "code",
   "execution_count": 104,
   "metadata": {},
   "outputs": [
    {
     "name": "stderr",
     "output_type": "stream",
     "text": [
      "C:\\Users\\ICT01_20\\Anaconda3\\lib\\site-packages\\sklearn\\model_selection\\_search.py:814: DeprecationWarning: The default of the `iid` parameter will change from True to False in version 0.22 and will be removed in 0.24. This will change numeric results when test-set sizes are unequal.\n",
      "  DeprecationWarning)\n"
     ]
    }
   ],
   "source": [
    "grid.fit(X,y);"
   ]
  },
  {
   "cell_type": "code",
   "execution_count": 106,
   "metadata": {},
   "outputs": [
    {
     "data": {
      "text/plain": [
       "{'linearregression__fit_intercept': False,\n",
       " 'linearregression__normalize': True,\n",
       " 'polynomialfeatures__degree': 4}"
      ]
     },
     "execution_count": 106,
     "metadata": {},
     "output_type": "execute_result"
    }
   ],
   "source": [
    "grid.best_params_ # 비선형회귀 4차일 경우 가장 결과"
   ]
  },
  {
   "cell_type": "code",
   "execution_count": 108,
   "metadata": {},
   "outputs": [
    {
     "data": {
      "text/plain": [
       "Pipeline(memory=None,\n",
       "         steps=[('polynomialfeatures',\n",
       "                 PolynomialFeatures(degree=4, include_bias=True,\n",
       "                                    interaction_only=False, order='C')),\n",
       "                ('linearregression',\n",
       "                 LinearRegression(copy_X=True, fit_intercept=False, n_jobs=None,\n",
       "                                  normalize=True))],\n",
       "         verbose=False)"
      ]
     },
     "execution_count": 108,
     "metadata": {},
     "output_type": "execute_result"
    }
   ],
   "source": [
    "grid.best_estimator_"
   ]
  },
  {
   "cell_type": "code",
   "execution_count": 111,
   "metadata": {},
   "outputs": [
    {
     "data": {
      "text/plain": [
       "0.8956938691106144"
      ]
     },
     "execution_count": 111,
     "metadata": {},
     "output_type": "execute_result"
    }
   ],
   "source": [
    "grid.best_score_"
   ]
  },
  {
   "cell_type": "code",
   "execution_count": 115,
   "metadata": {},
   "outputs": [
    {
     "data": {
      "text/plain": [
       "(-0.05673314103942452,\n",
       " 0.994263633135634,\n",
       " -0.7459943120970807,\n",
       " 10.918045992764213)"
      ]
     },
     "execution_count": 115,
     "metadata": {},
     "output_type": "execute_result"
    },
    {
     "data": {
      "image/png": "[encoded data removed]",
      "text/plain": [
       "<Figure size 432x288 with 1 Axes>"
      ]
     },
     "metadata": {
      "needs_background": "light"
     },
     "output_type": "display_data"
    }
   ],
   "source": [
    "import matplotlib.pyplot as plt\n",
    "model = grid.best_estimator_\n",
    "X_test = np.linspace(-0.1,1.1,500)[:, None]\n",
    "# \n",
    "plt.scatter(X.ravel(),y) # ravel = 1차원으로 만드는것 \n",
    "# x 와 y 의 차수를 일치 시켜야 하기 때문에 ravel\n",
    "lim = plt.axis()\n",
    "y_test = model.fit(X,y).predict(X_test)\n",
    "plt.plot(X_test.ravel(), y_test)\n",
    "plt.axis(lim)"
   ]
  },
  {
   "cell_type": "code",
   "execution_count": 119,
   "metadata": {},
   "outputs": [
    {
     "name": "stdout",
     "output_type": "stream",
     "text": [
      "[[-1.00000000e-01]\n",
      " [-9.75951904e-02]\n",
      " [-9.51903808e-02]\n",
      " [-9.27855711e-02]\n",
      " [-9.03807615e-02]\n",
      " [-8.79759519e-02]\n",
      " [-8.55711423e-02]\n",
      " [-8.31663327e-02]\n",
      " [-8.07615230e-02]\n",
      " [-7.83567134e-02]\n",
      " [-7.59519038e-02]\n",
      " [-7.35470942e-02]\n",
      " [-7.11422846e-02]\n",
      " [-6.87374749e-02]\n",
      " [-6.63326653e-02]\n",
      " [-6.39278557e-02]\n",
      " [-6.15230461e-02]\n",
      " [-5.91182365e-02]\n",
      " [-5.67134269e-02]\n",
      " [-5.43086172e-02]\n",
      " [-5.19038076e-02]\n",
      " [-4.94989980e-02]\n",
      " [-4.70941884e-02]\n",
      " [-4.46893788e-02]\n",
      " [-4.22845691e-02]\n",
      " [-3.98797595e-02]\n",
      " [-3.74749499e-02]\n",
      " [-3.50701403e-02]\n",
      " [-3.26653307e-02]\n",
      " [-3.02605210e-02]\n",
      " [-2.78557114e-02]\n",
      " [-2.54509018e-02]\n",
      " [-2.30460922e-02]\n",
      " [-2.06412826e-02]\n",
      " [-1.82364729e-02]\n",
      " [-1.58316633e-02]\n",
      " [-1.34268537e-02]\n",
      " [-1.10220441e-02]\n",
      " [-8.61723447e-03]\n",
      " [-6.21242485e-03]\n",
      " [-3.80761523e-03]\n",
      " [-1.40280561e-03]\n",
      " [ 1.00200401e-03]\n",
      " [ 3.40681363e-03]\n",
      " [ 5.81162325e-03]\n",
      " [ 8.21643287e-03]\n",
      " [ 1.06212425e-02]\n",
      " [ 1.30260521e-02]\n",
      " [ 1.54308617e-02]\n",
      " [ 1.78356713e-02]\n",
      " [ 2.02404810e-02]\n",
      " [ 2.26452906e-02]\n",
      " [ 2.50501002e-02]\n",
      " [ 2.74549098e-02]\n",
      " [ 2.98597194e-02]\n",
      " [ 3.22645291e-02]\n",
      " [ 3.46693387e-02]\n",
      " [ 3.70741483e-02]\n",
      " [ 3.94789579e-02]\n",
      " [ 4.18837675e-02]\n",
      " [ 4.42885772e-02]\n",
      " [ 4.66933868e-02]\n",
      " [ 4.90981964e-02]\n",
      " [ 5.15030060e-02]\n",
      " [ 5.39078156e-02]\n",
      " [ 5.63126253e-02]\n",
      " [ 5.87174349e-02]\n",
      " [ 6.11222445e-02]\n",
      " [ 6.35270541e-02]\n",
      " [ 6.59318637e-02]\n",
      " [ 6.83366733e-02]\n",
      " [ 7.07414830e-02]\n",
      " [ 7.31462926e-02]\n",
      " [ 7.55511022e-02]\n",
      " [ 7.79559118e-02]\n",
      " [ 8.03607214e-02]\n",
      " [ 8.27655311e-02]\n",
      " [ 8.51703407e-02]\n",
      " [ 8.75751503e-02]\n",
      " [ 8.99799599e-02]\n",
      " [ 9.23847695e-02]\n",
      " [ 9.47895792e-02]\n",
      " [ 9.71943888e-02]\n",
      " [ 9.95991984e-02]\n",
      " [ 1.02004008e-01]\n",
      " [ 1.04408818e-01]\n",
      " [ 1.06813627e-01]\n",
      " [ 1.09218437e-01]\n",
      " [ 1.11623246e-01]\n",
      " [ 1.14028056e-01]\n",
      " [ 1.16432866e-01]\n",
      " [ 1.18837675e-01]\n",
      " [ 1.21242485e-01]\n",
      " [ 1.23647295e-01]\n",
      " [ 1.26052104e-01]\n",
      " [ 1.28456914e-01]\n",
      " [ 1.30861723e-01]\n",
      " [ 1.33266533e-01]\n",
      " [ 1.35671343e-01]\n",
      " [ 1.38076152e-01]\n",
      " [ 1.40480962e-01]\n",
      " [ 1.42885772e-01]\n",
      " [ 1.45290581e-01]\n",
      " [ 1.47695391e-01]\n",
      " [ 1.50100200e-01]\n",
      " [ 1.52505010e-01]\n",
      " [ 1.54909820e-01]\n",
      " [ 1.57314629e-01]\n",
      " [ 1.59719439e-01]\n",
      " [ 1.62124248e-01]\n",
      " [ 1.64529058e-01]\n",
      " [ 1.66933868e-01]\n",
      " [ 1.69338677e-01]\n",
      " [ 1.71743487e-01]\n",
      " [ 1.74148297e-01]\n",
      " [ 1.76553106e-01]\n",
      " [ 1.78957916e-01]\n",
      " [ 1.81362725e-01]\n",
      " [ 1.83767535e-01]\n",
      " [ 1.86172345e-01]\n",
      " [ 1.88577154e-01]\n",
      " [ 1.90981964e-01]\n",
      " [ 1.93386774e-01]\n",
      " [ 1.95791583e-01]\n",
      " [ 1.98196393e-01]\n",
      " [ 2.00601202e-01]\n",
      " [ 2.03006012e-01]\n",
      " [ 2.05410822e-01]\n",
      " [ 2.07815631e-01]\n",
      " [ 2.10220441e-01]\n",
      " [ 2.12625251e-01]\n",
      " [ 2.15030060e-01]\n",
      " [ 2.17434870e-01]\n",
      " [ 2.19839679e-01]\n",
      " [ 2.22244489e-01]\n",
      " [ 2.24649299e-01]\n",
      " [ 2.27054108e-01]\n",
      " [ 2.29458918e-01]\n",
      " [ 2.31863727e-01]\n",
      " [ 2.34268537e-01]\n",
      " [ 2.36673347e-01]\n",
      " [ 2.39078156e-01]\n",
      " [ 2.41482966e-01]\n",
      " [ 2.43887776e-01]\n",
      " [ 2.46292585e-01]\n",
      " [ 2.48697395e-01]\n",
      " [ 2.51102204e-01]\n",
      " [ 2.53507014e-01]\n",
      " [ 2.55911824e-01]\n",
      " [ 2.58316633e-01]\n",
      " [ 2.60721443e-01]\n",
      " [ 2.63126253e-01]\n",
      " [ 2.65531062e-01]\n",
      " [ 2.67935872e-01]\n",
      " [ 2.70340681e-01]\n",
      " [ 2.72745491e-01]\n",
      " [ 2.75150301e-01]\n",
      " [ 2.77555110e-01]\n",
      " [ 2.79959920e-01]\n",
      " [ 2.82364729e-01]\n",
      " [ 2.84769539e-01]\n",
      " [ 2.87174349e-01]\n",
      " [ 2.89579158e-01]\n",
      " [ 2.91983968e-01]\n",
      " [ 2.94388778e-01]\n",
      " [ 2.96793587e-01]\n",
      " [ 2.99198397e-01]\n",
      " [ 3.01603206e-01]\n",
      " [ 3.04008016e-01]\n",
      " [ 3.06412826e-01]\n",
      " [ 3.08817635e-01]\n",
      " [ 3.11222445e-01]\n",
      " [ 3.13627255e-01]\n",
      " [ 3.16032064e-01]\n",
      " [ 3.18436874e-01]\n",
      " [ 3.20841683e-01]\n",
      " [ 3.23246493e-01]\n",
      " [ 3.25651303e-01]\n",
      " [ 3.28056112e-01]\n",
      " [ 3.30460922e-01]\n",
      " [ 3.32865731e-01]\n",
      " [ 3.35270541e-01]\n",
      " [ 3.37675351e-01]\n",
      " [ 3.40080160e-01]\n",
      " [ 3.42484970e-01]\n",
      " [ 3.44889780e-01]\n",
      " [ 3.47294589e-01]\n",
      " [ 3.49699399e-01]\n",
      " [ 3.52104208e-01]\n",
      " [ 3.54509018e-01]\n",
      " [ 3.56913828e-01]\n",
      " [ 3.59318637e-01]\n",
      " [ 3.61723447e-01]\n",
      " [ 3.64128257e-01]\n",
      " [ 3.66533066e-01]\n",
      " [ 3.68937876e-01]\n",
      " [ 3.71342685e-01]\n",
      " [ 3.73747495e-01]\n",
      " [ 3.76152305e-01]\n",
      " [ 3.78557114e-01]\n",
      " [ 3.80961924e-01]\n",
      " [ 3.83366733e-01]\n",
      " [ 3.85771543e-01]\n",
      " [ 3.88176353e-01]\n",
      " [ 3.90581162e-01]\n",
      " [ 3.92985972e-01]\n",
      " [ 3.95390782e-01]\n",
      " [ 3.97795591e-01]\n",
      " [ 4.00200401e-01]\n",
      " [ 4.02605210e-01]\n",
      " [ 4.05010020e-01]\n",
      " [ 4.07414830e-01]\n",
      " [ 4.09819639e-01]\n",
      " [ 4.12224449e-01]\n",
      " [ 4.14629259e-01]\n",
      " [ 4.17034068e-01]\n",
      " [ 4.19438878e-01]\n",
      " [ 4.21843687e-01]\n",
      " [ 4.24248497e-01]\n",
      " [ 4.26653307e-01]\n",
      " [ 4.29058116e-01]\n",
      " [ 4.31462926e-01]\n",
      " [ 4.33867735e-01]\n",
      " [ 4.36272545e-01]\n",
      " [ 4.38677355e-01]\n",
      " [ 4.41082164e-01]\n",
      " [ 4.43486974e-01]\n",
      " [ 4.45891784e-01]\n",
      " [ 4.48296593e-01]\n",
      " [ 4.50701403e-01]\n",
      " [ 4.53106212e-01]\n",
      " [ 4.55511022e-01]\n",
      " [ 4.57915832e-01]\n",
      " [ 4.60320641e-01]\n",
      " [ 4.62725451e-01]\n",
      " [ 4.65130261e-01]\n",
      " [ 4.67535070e-01]\n",
      " [ 4.69939880e-01]\n",
      " [ 4.72344689e-01]\n",
      " [ 4.74749499e-01]\n",
      " [ 4.77154309e-01]\n",
      " [ 4.79559118e-01]\n",
      " [ 4.81963928e-01]\n",
      " [ 4.84368737e-01]\n",
      " [ 4.86773547e-01]\n",
      " [ 4.89178357e-01]\n",
      " [ 4.91583166e-01]\n",
      " [ 4.93987976e-01]\n",
      " [ 4.96392786e-01]\n",
      " [ 4.98797595e-01]\n",
      " [ 5.01202405e-01]\n",
      " [ 5.03607214e-01]\n",
      " [ 5.06012024e-01]\n",
      " [ 5.08416834e-01]\n",
      " [ 5.10821643e-01]\n",
      " [ 5.13226453e-01]\n",
      " [ 5.15631263e-01]\n",
      " [ 5.18036072e-01]\n",
      " [ 5.20440882e-01]\n",
      " [ 5.22845691e-01]\n",
      " [ 5.25250501e-01]\n",
      " [ 5.27655311e-01]\n",
      " [ 5.30060120e-01]\n",
      " [ 5.32464930e-01]\n",
      " [ 5.34869739e-01]\n",
      " [ 5.37274549e-01]\n",
      " [ 5.39679359e-01]\n",
      " [ 5.42084168e-01]\n",
      " [ 5.44488978e-01]\n",
      " [ 5.46893788e-01]\n",
      " [ 5.49298597e-01]\n",
      " [ 5.51703407e-01]\n",
      " [ 5.54108216e-01]\n",
      " [ 5.56513026e-01]\n",
      " [ 5.58917836e-01]\n",
      " [ 5.61322645e-01]\n",
      " [ 5.63727455e-01]\n",
      " [ 5.66132265e-01]\n",
      " [ 5.68537074e-01]\n",
      " [ 5.70941884e-01]\n",
      " [ 5.73346693e-01]\n",
      " [ 5.75751503e-01]\n",
      " [ 5.78156313e-01]\n",
      " [ 5.80561122e-01]\n",
      " [ 5.82965932e-01]\n",
      " [ 5.85370741e-01]\n",
      " [ 5.87775551e-01]\n",
      " [ 5.90180361e-01]\n",
      " [ 5.92585170e-01]\n",
      " [ 5.94989980e-01]\n",
      " [ 5.97394790e-01]\n",
      " [ 5.99799599e-01]\n",
      " [ 6.02204409e-01]\n",
      " [ 6.04609218e-01]\n",
      " [ 6.07014028e-01]\n",
      " [ 6.09418838e-01]\n",
      " [ 6.11823647e-01]\n",
      " [ 6.14228457e-01]\n",
      " [ 6.16633267e-01]\n",
      " [ 6.19038076e-01]\n",
      " [ 6.21442886e-01]\n",
      " [ 6.23847695e-01]\n",
      " [ 6.26252505e-01]\n",
      " [ 6.28657315e-01]\n",
      " [ 6.31062124e-01]\n",
      " [ 6.33466934e-01]\n",
      " [ 6.35871743e-01]\n",
      " [ 6.38276553e-01]\n",
      " [ 6.40681363e-01]\n",
      " [ 6.43086172e-01]\n",
      " [ 6.45490982e-01]\n",
      " [ 6.47895792e-01]\n",
      " [ 6.50300601e-01]\n",
      " [ 6.52705411e-01]\n",
      " [ 6.55110220e-01]\n",
      " [ 6.57515030e-01]\n",
      " [ 6.59919840e-01]\n",
      " [ 6.62324649e-01]\n",
      " [ 6.64729459e-01]\n",
      " [ 6.67134269e-01]\n",
      " [ 6.69539078e-01]\n",
      " [ 6.71943888e-01]\n",
      " [ 6.74348697e-01]\n",
      " [ 6.76753507e-01]\n",
      " [ 6.79158317e-01]\n",
      " [ 6.81563126e-01]\n",
      " [ 6.83967936e-01]\n",
      " [ 6.86372745e-01]\n",
      " [ 6.88777555e-01]\n",
      " [ 6.91182365e-01]\n",
      " [ 6.93587174e-01]\n",
      " [ 6.95991984e-01]\n",
      " [ 6.98396794e-01]\n",
      " [ 7.00801603e-01]\n",
      " [ 7.03206413e-01]\n",
      " [ 7.05611222e-01]\n",
      " [ 7.08016032e-01]\n",
      " [ 7.10420842e-01]\n",
      " [ 7.12825651e-01]\n",
      " [ 7.15230461e-01]\n",
      " [ 7.17635271e-01]\n",
      " [ 7.20040080e-01]\n",
      " [ 7.22444890e-01]\n",
      " [ 7.24849699e-01]\n",
      " [ 7.27254509e-01]\n",
      " [ 7.29659319e-01]\n",
      " [ 7.32064128e-01]\n",
      " [ 7.34468938e-01]\n",
      " [ 7.36873747e-01]\n",
      " [ 7.39278557e-01]\n",
      " [ 7.41683367e-01]\n",
      " [ 7.44088176e-01]\n",
      " [ 7.46492986e-01]\n",
      " [ 7.48897796e-01]\n",
      " [ 7.51302605e-01]\n",
      " [ 7.53707415e-01]\n",
      " [ 7.56112224e-01]\n",
      " [ 7.58517034e-01]\n",
      " [ 7.60921844e-01]\n",
      " [ 7.63326653e-01]\n",
      " [ 7.65731463e-01]\n",
      " [ 7.68136273e-01]\n",
      " [ 7.70541082e-01]\n",
      " [ 7.72945892e-01]\n",
      " [ 7.75350701e-01]\n",
      " [ 7.77755511e-01]\n",
      " [ 7.80160321e-01]\n",
      " [ 7.82565130e-01]\n",
      " [ 7.84969940e-01]\n",
      " [ 7.87374749e-01]\n",
      " [ 7.89779559e-01]\n",
      " [ 7.92184369e-01]\n",
      " [ 7.94589178e-01]\n",
      " [ 7.96993988e-01]\n",
      " [ 7.99398798e-01]\n",
      " [ 8.01803607e-01]\n",
      " [ 8.04208417e-01]\n",
      " [ 8.06613226e-01]\n",
      " [ 8.09018036e-01]\n",
      " [ 8.11422846e-01]\n",
      " [ 8.13827655e-01]\n",
      " [ 8.16232465e-01]\n",
      " [ 8.18637275e-01]\n",
      " [ 8.21042084e-01]\n",
      " [ 8.23446894e-01]\n",
      " [ 8.25851703e-01]\n",
      " [ 8.28256513e-01]\n",
      " [ 8.30661323e-01]\n",
      " [ 8.33066132e-01]\n",
      " [ 8.35470942e-01]\n",
      " [ 8.37875752e-01]\n",
      " [ 8.40280561e-01]\n",
      " [ 8.42685371e-01]\n",
      " [ 8.45090180e-01]\n",
      " [ 8.47494990e-01]\n",
      " [ 8.49899800e-01]\n",
      " [ 8.52304609e-01]\n",
      " [ 8.54709419e-01]\n",
      " [ 8.57114228e-01]\n",
      " [ 8.59519038e-01]\n",
      " [ 8.61923848e-01]\n",
      " [ 8.64328657e-01]\n",
      " [ 8.66733467e-01]\n",
      " [ 8.69138277e-01]\n",
      " [ 8.71543086e-01]\n",
      " [ 8.73947896e-01]\n",
      " [ 8.76352705e-01]\n",
      " [ 8.78757515e-01]\n",
      " [ 8.81162325e-01]\n",
      " [ 8.83567134e-01]\n",
      " [ 8.85971944e-01]\n",
      " [ 8.88376754e-01]\n",
      " [ 8.90781563e-01]\n",
      " [ 8.93186373e-01]\n",
      " [ 8.95591182e-01]\n",
      " [ 8.97995992e-01]\n",
      " [ 9.00400802e-01]\n",
      " [ 9.02805611e-01]\n",
      " [ 9.05210421e-01]\n",
      " [ 9.07615230e-01]\n",
      " [ 9.10020040e-01]\n",
      " [ 9.12424850e-01]\n",
      " [ 9.14829659e-01]\n",
      " [ 9.17234469e-01]\n",
      " [ 9.19639279e-01]\n",
      " [ 9.22044088e-01]\n",
      " [ 9.24448898e-01]\n",
      " [ 9.26853707e-01]\n",
      " [ 9.29258517e-01]\n",
      " [ 9.31663327e-01]\n",
      " [ 9.34068136e-01]\n",
      " [ 9.36472946e-01]\n",
      " [ 9.38877756e-01]\n",
      " [ 9.41282565e-01]\n",
      " [ 9.43687375e-01]\n",
      " [ 9.46092184e-01]\n",
      " [ 9.48496994e-01]\n",
      " [ 9.50901804e-01]\n",
      " [ 9.53306613e-01]\n",
      " [ 9.55711423e-01]\n",
      " [ 9.58116232e-01]\n",
      " [ 9.60521042e-01]\n",
      " [ 9.62925852e-01]\n",
      " [ 9.65330661e-01]\n",
      " [ 9.67735471e-01]\n",
      " [ 9.70140281e-01]\n",
      " [ 9.72545090e-01]\n",
      " [ 9.74949900e-01]\n",
      " [ 9.77354709e-01]\n",
      " [ 9.79759519e-01]\n",
      " [ 9.82164329e-01]\n",
      " [ 9.84569138e-01]\n",
      " [ 9.86973948e-01]\n",
      " [ 9.89378758e-01]\n",
      " [ 9.91783567e-01]\n",
      " [ 9.94188377e-01]\n",
      " [ 9.96593186e-01]\n",
      " [ 9.98997996e-01]\n",
      " [ 1.00140281e+00]\n",
      " [ 1.00380762e+00]\n",
      " [ 1.00621242e+00]\n",
      " [ 1.00861723e+00]\n",
      " [ 1.01102204e+00]\n",
      " [ 1.01342685e+00]\n",
      " [ 1.01583166e+00]\n",
      " [ 1.01823647e+00]\n",
      " [ 1.02064128e+00]\n",
      " [ 1.02304609e+00]\n",
      " [ 1.02545090e+00]\n",
      " [ 1.02785571e+00]\n",
      " [ 1.03026052e+00]\n",
      " [ 1.03266533e+00]\n",
      " [ 1.03507014e+00]\n",
      " [ 1.03747495e+00]\n",
      " [ 1.03987976e+00]\n",
      " [ 1.04228457e+00]\n",
      " [ 1.04468938e+00]\n",
      " [ 1.04709419e+00]\n",
      " [ 1.04949900e+00]\n",
      " [ 1.05190381e+00]\n",
      " [ 1.05430862e+00]\n",
      " [ 1.05671343e+00]\n",
      " [ 1.05911824e+00]\n",
      " [ 1.06152305e+00]\n",
      " [ 1.06392786e+00]\n",
      " [ 1.06633267e+00]\n",
      " [ 1.06873747e+00]\n",
      " [ 1.07114228e+00]\n",
      " [ 1.07354709e+00]\n",
      " [ 1.07595190e+00]\n",
      " [ 1.07835671e+00]\n",
      " [ 1.08076152e+00]\n",
      " [ 1.08316633e+00]\n",
      " [ 1.08557114e+00]\n",
      " [ 1.08797595e+00]\n",
      " [ 1.09038076e+00]\n",
      " [ 1.09278557e+00]\n",
      " [ 1.09519038e+00]\n",
      " [ 1.09759519e+00]\n",
      " [ 1.10000000e+00]]\n"
     ]
    }
   ],
   "source": [
    "X_test = np.linspace(-0.1,1.1,500)[:, None]\n",
    "print(X_test) #행번호는 없고 열 번호만 있다 \n",
    "X_test = np.linspace(-0.1,1.1,500)\n",
    "print(X_test) # 비교해볼것 "
   ]
  },
  {
   "cell_type": "code",
   "execution_count": 136,
   "metadata": {},
   "outputs": [
    {
     "name": "stdout",
     "output_type": "stream",
     "text": [
      "[100]\n"
     ]
    }
   ],
   "source": [
    "import numpy as np\n",
    "import pandas as pd\n",
    "dataset= [10,12,12,13,12,11,14,13,15,10,10,10,100,12,14,13, 12,10, 10,11,12,15,12,13,12,11,14,13,15,10,15,12,10,14,13,15,10] \n",
    "outliers = []\n",
    "\n",
    "def detect_outlier(data_1) :\n",
    "    threshold = 3\n",
    "    mean_1 = np.mean(data_1) # 평균\n",
    "    std_1 = np.std(data_1)   # 표준편차\n",
    "    for y in data_1 :\n",
    "        z_score = (y-mean_1)/std_1  # z점수\n",
    "        if np.abs(z_score) > threshold :  # 문지방, 경계값\n",
    "            outliers.append(y)\n",
    "    return outliers\n",
    "outlier_datapoints = detect_outlier(dataset)\n",
    "print(outlier_datapoints)"
   ]
  },
  {
   "cell_type": "code",
   "execution_count": 142,
   "metadata": {},
   "outputs": [
    {
     "name": "stdout",
     "output_type": "stream",
     "text": [
      "[-3. -2. -1.  0.  1.  2.  3.  4.  5.  6.]\n"
     ]
    },
    {
     "data": {
      "text/plain": [
       "<matplotlib.axes._subplots.AxesSubplot at 0x14160881208>"
      ]
     },
     "execution_count": 142,
     "metadata": {},
     "output_type": "execute_result"
    },
    {
     "data": {
      "image/png": "[encoded data removed]",
      "text/plain": [
       "<Figure size 432x288 with 1 Axes>"
      ]
     },
     "metadata": {
      "needs_background": "light"
     },
     "output_type": "display_data"
    }
   ],
   "source": [
    "import pandas as pd\n",
    "import numpy as np\n",
    "#scale z 점수\n",
    "#robust_scale 평균 : median(위치적 중위수) /iqr\n",
    "# -1~ 1\n",
    "from sklearn.preprocessing import scale, robust_scale, minmax_scale, maxabs_scale\n",
    "print((np.arange(10, dtype = np.float)-3))\n",
    "x = (np.arange(10, dtype = np.float)-3).reshape(-1,1)\n",
    "#print(x)\n",
    "df = pd.DataFrame(np.hstack([x, scale(x), robust_scale(x),\n",
    "                            minmax_scale(x), maxabs_scale(x)]),\n",
    "                 columns=[\"x\",\"scale(x)\",\"robust_scale\",\n",
    "                         \"minmax_scale(x)\",\"maxabs_scale(x)\"])\n",
    "df.plot()"
   ]
  },
  {
   "cell_type": "code",
   "execution_count": 147,
   "metadata": {},
   "outputs": [
    {
     "name": "stdout",
     "output_type": "stream",
     "text": [
      "<class 'sklearn.utils.Bunch'>\n",
      "전처리전 평균 [5.84333333 3.05733333 3.758      1.19933333]\n",
      "전처리전 std [0.82530129 0.43441097 1.75940407 0.75969263]\n",
      "전처리후 mean [-1.69031455e-15 -1.84297022e-15 -1.69864123e-15 -1.40924309e-15]\n",
      "전처리후 std [1. 1. 1. 1.]\n"
     ]
    },
    {
     "data": {
      "image/png": "[encoded data removed]",
      "text/plain": [
       "<Figure size 432x432 with 3 Axes>"
      ]
     },
     "metadata": {
      "needs_background": "light"
     },
     "output_type": "display_data"
    },
    {
     "data": {
      "image/png": "[encoded data removed]",
      "text/plain": [
       "<Figure size 432x432 with 3 Axes>"
      ]
     },
     "metadata": {
      "needs_background": "light"
     },
     "output_type": "display_data"
    }
   ],
   "source": [
    "# 분포는 동일\n",
    "# 정규화를 왜하는가? 변수 기여도를 동일하게 하기위해 \n",
    "import seaborn as sns\n",
    "from sklearn.datasets import load_iris\n",
    "iris = load_iris()\n",
    "print(type(iris))\n",
    "data1 = iris.data\n",
    "data2 = scale(iris.data) #밑에꺼 보기\n",
    "print(\"전처리전 평균\", np.mean(data1, axis= 0))\n",
    "print(\"전처리전 std\", np.std(data1, axis= 0))\n",
    "print(\"전처리후 mean\", np.mean(data2, axis= 0))\n",
    "print(\"전처리후 std\", np.std(data2, axis= 0))\n",
    "sns.jointplot(data1[:,0],data1[:,1])\n",
    "plt.show()\n",
    "sns.jointplot(data2[:,0],data2[:,1])\n",
    "plt.show()"
   ]
  },
  {
   "cell_type": "code",
   "execution_count": 152,
   "metadata": {},
   "outputs": [
    {
     "data": {
      "text/plain": [
       "(1.9738430577598278, 1.0)"
      ]
     },
     "execution_count": 152,
     "metadata": {},
     "output_type": "execute_result"
    }
   ],
   "source": [
    "from sklearn.preprocessing import StandardScaler\n",
    "scaler = StandardScaler() # 인스턴스 \n",
    "scaler.fit(data1) \n",
    "data2 = scaler.transform(data1) # transformer-변환기 ,model= estimator\n",
    "data1.std() , data2.std()"
   ]
  },
  {
   "cell_type": "code",
   "execution_count": 155,
   "metadata": {},
   "outputs": [
    {
     "name": "stdout",
     "output_type": "stream",
     "text": [
      "[3] [0 3] [0 1 2]\n"
     ]
    },
    {
     "name": "stderr",
     "output_type": "stream",
     "text": [
      "C:\\Users\\ICT01_20\\Anaconda3\\lib\\site-packages\\sklearn\\preprocessing\\_encoders.py:415: FutureWarning: The handling of integer data will change in version 0.22. Currently, the categories are determined based on the range [0, max(values)], while in the future they will be determined based on the unique values.\n",
      "If you want the future behaviour and silence this warning, you can specify \"categories='auto'\".\n",
      "In case you used a LabelEncoder before this OneHotEncoder to convert the categories to integers, then you can now use the OneHotEncoder directly.\n",
      "  warnings.warn(msg, FutureWarning)\n",
      "C:\\Users\\ICT01_20\\Anaconda3\\lib\\site-packages\\sklearn\\utils\\deprecation.py:100: DeprecationWarning: The ``n_values_`` attribute was deprecated in version 0.20 and will be removed 0.22.\n",
      "  warnings.warn(msg, category=DeprecationWarning)\n",
      "C:\\Users\\ICT01_20\\Anaconda3\\lib\\site-packages\\sklearn\\utils\\deprecation.py:100: DeprecationWarning: The ``feature_indices_`` attribute was deprecated in version 0.20 and will be removed 0.22.\n",
      "  warnings.warn(msg, category=DeprecationWarning)\n",
      "C:\\Users\\ICT01_20\\Anaconda3\\lib\\site-packages\\sklearn\\utils\\deprecation.py:100: DeprecationWarning: The ``active_features_`` attribute was deprecated in version 0.20 and will be removed 0.22.\n",
      "  warnings.warn(msg, category=DeprecationWarning)\n"
     ]
    },
    {
     "data": {
      "text/plain": [
       "[array([0., 1., 2.])]"
      ]
     },
     "execution_count": 155,
     "metadata": {},
     "output_type": "execute_result"
    }
   ],
   "source": [
    "from sklearn.preprocessing import OneHotEncoder\n",
    "ohe = OneHotEncoder()\n",
    "X = np.array([[0],[1],[2]])\n",
    "X\n",
    "ohe.fit(X)\n",
    "print(ohe.n_values_, ohe.feature_indices_, ohe.active_features_)\n",
    "ohe.categories_"
   ]
  },
  {
   "cell_type": "code",
   "execution_count": 157,
   "metadata": {},
   "outputs": [
    {
     "name": "stdout",
     "output_type": "stream",
     "text": [
      "[[1. 0. 0.]\n",
      " [0. 1. 0.]\n",
      " [0. 0. 1.]]\n"
     ]
    }
   ],
   "source": [
    "print(ohe.transform(X).toarray())"
   ]
  },
  {
   "cell_type": "code",
   "execution_count": 162,
   "metadata": {},
   "outputs": [
    {
     "name": "stderr",
     "output_type": "stream",
     "text": [
      "C:\\Users\\ICT01_20\\Anaconda3\\lib\\site-packages\\sklearn\\preprocessing\\_encoders.py:415: FutureWarning: The handling of integer data will change in version 0.22. Currently, the categories are determined based on the range [0, max(values)], while in the future they will be determined based on the unique values.\n",
      "If you want the future behaviour and silence this warning, you can specify \"categories='auto'\".\n",
      "In case you used a LabelEncoder before this OneHotEncoder to convert the categories to integers, then you can now use the OneHotEncoder directly.\n",
      "  warnings.warn(msg, FutureWarning)\n"
     ]
    },
    {
     "data": {
      "text/plain": [
       "array([[1., 0., 1., 0., 0., 0., 0., 0., 0., 1.],\n",
       "       [0., 1., 0., 1., 0., 1., 0., 0., 0., 0.],\n",
       "       [1., 0., 0., 0., 1., 0., 1., 0., 0., 0.],\n",
       "       [0., 1., 1., 0., 0., 0., 0., 1., 0., 0.],\n",
       "       [0., 1., 0., 1., 0., 0., 0., 0., 1., 0.]])"
      ]
     },
     "execution_count": 162,
     "metadata": {},
     "output_type": "execute_result"
    }
   ],
   "source": [
    "# 입력 3자리 => 10자리로 변경\n",
    "X = np.array([[0,0,4],[1,1,0],[0,2,1],[1,0,2],[1,1,3]])\n",
    "ohe = OneHotEncoder()\n",
    "ohe.fit(X)\n",
    "ohe.transform(X).toarray()"
   ]
  },
  {
   "cell_type": "code",
   "execution_count": 164,
   "metadata": {},
   "outputs": [
    {
     "data": {
      "text/plain": [
       "array([1, 2, 6])"
      ]
     },
     "execution_count": 164,
     "metadata": {},
     "output_type": "execute_result"
    }
   ],
   "source": [
    "# label\n",
    "from sklearn.preprocessing import LabelEncoder\n",
    "le = LabelEncoder()\n",
    "le.fit([1,2,2,6])\n",
    "le.classes_"
   ]
  },
  {
   "cell_type": "code",
   "execution_count": 166,
   "metadata": {},
   "outputs": [
    {
     "data": {
      "text/plain": [
       "array([0, 0, 1, 2], dtype=int64)"
      ]
     },
     "execution_count": 166,
     "metadata": {},
     "output_type": "execute_result"
    }
   ],
   "source": [
    "# 읽을때\n",
    "le.transform([1,1,2,6])"
   ]
  },
  {
   "cell_type": "code",
   "execution_count": 168,
   "metadata": {},
   "outputs": [
    {
     "data": {
      "text/plain": [
       "array([1, 1, 2, 6])"
      ]
     },
     "execution_count": 168,
     "metadata": {},
     "output_type": "execute_result"
    }
   ],
   "source": [
    "# 찾아갈때\n",
    "le.inverse_transform([0,0,1,2])"
   ]
  },
  {
   "cell_type": "code",
   "execution_count": 169,
   "metadata": {},
   "outputs": [],
   "source": [
    "# 다음 데이터를 인코딩 하시요\n",
    "df = [\"서울\",\"서울\",\"대전\",\"부산\"]"
   ]
  },
  {
   "cell_type": "code",
   "execution_count": 172,
   "metadata": {},
   "outputs": [
    {
     "data": {
      "text/plain": [
       "array(['대전', '부산', '서울'], dtype='<U2')"
      ]
     },
     "execution_count": 172,
     "metadata": {},
     "output_type": "execute_result"
    }
   ],
   "source": [
    "le.fit([\"서울\",\"서울\",\"대전\",\"부산\"])\n",
    "le.classes_"
   ]
  },
  {
   "cell_type": "code",
   "execution_count": 174,
   "metadata": {},
   "outputs": [
    {
     "data": {
      "text/plain": [
       "array([2, 2, 1], dtype=int64)"
      ]
     },
     "execution_count": 174,
     "metadata": {},
     "output_type": "execute_result"
    }
   ],
   "source": [
    "le.transform(['서울','서울','부산'])"
   ]
  },
  {
   "cell_type": "code",
   "execution_count": 176,
   "metadata": {},
   "outputs": [
    {
     "data": {
      "text/plain": [
       "array(['서울', '서울', '부산'], dtype='<U2')"
      ]
     },
     "execution_count": 176,
     "metadata": {},
     "output_type": "execute_result"
    }
   ],
   "source": [
    "le.inverse_transform([2,2,1])"
   ]
  },
  {
   "cell_type": "code",
   "execution_count": 179,
   "metadata": {},
   "outputs": [
    {
     "data": {
      "text/plain": [
       "array([[2., 0., 1.],\n",
       "       [0., 1., 3.]])"
      ]
     },
     "execution_count": 179,
     "metadata": {},
     "output_type": "execute_result"
    }
   ],
   "source": [
    "from sklearn.feature_extraction import DictVectorizer\n",
    "v = DictVectorizer(sparse= False)\n",
    "D = [{'foo':1,'bar':2}, {'foo':3,'baz':1}]\n",
    "X = v.fit_transform(D)\n",
    "X\n",
    "# 'bar' , \"baz\" ,\"foo\" "
   ]
  },
  {
   "cell_type": "code",
   "execution_count": 181,
   "metadata": {},
   "outputs": [
    {
     "data": {
      "text/plain": [
       "['bar', 'baz', 'foo']"
      ]
     },
     "execution_count": 181,
     "metadata": {},
     "output_type": "execute_result"
    }
   ],
   "source": [
    "v.feature_names_"
   ]
  },
  {
   "cell_type": "code",
   "execution_count": 183,
   "metadata": {},
   "outputs": [
    {
     "data": {
      "text/plain": [
       "[{'bar': 2.0, 'foo': 1.0}, {'baz': 1.0, 'foo': 3.0}]"
      ]
     },
     "execution_count": 183,
     "metadata": {},
     "output_type": "execute_result"
    }
   ],
   "source": [
    "v.inverse_transform(X)"
   ]
  },
  {
   "cell_type": "code",
   "execution_count": 191,
   "metadata": {},
   "outputs": [
    {
     "name": "stdout",
     "output_type": "stream",
     "text": [
      "[[ 7.   2.   3. ]\n",
      " [ 4.   3.5  6. ]\n",
      " [10.   3.5  9. ]]\n"
     ]
    }
   ],
   "source": [
    "# 결측치 처리\n",
    "from sklearn.impute import SimpleImputer\n",
    "imp_mean =SimpleImputer(missing_values = np.nan , strategy='mean') \n",
    "#strategy = median(중위값) , most_frequency(최빈수)\n",
    "imp_mean.fit([[7,2,3],[4,np.nan,6],[10,5,9]])\n",
    "X = [[np.nan,2,3],[4,np.nan,6],[10,np.nan,9]]\n",
    "print(imp_mean.transform(X))"
   ]
  },
  {
   "cell_type": "code",
   "execution_count": 193,
   "metadata": {},
   "outputs": [
    {
     "data": {
      "text/plain": [
       "array([[0, 1],\n",
       "       [2, 3],\n",
       "       [4, 5]])"
      ]
     },
     "execution_count": 193,
     "metadata": {},
     "output_type": "execute_result"
    }
   ],
   "source": [
    "from sklearn.preprocessing import PolynomialFeatures\n",
    "X = np.arange(6).reshape(3,2)\n",
    "X"
   ]
  },
  {
   "cell_type": "code",
   "execution_count": 196,
   "metadata": {},
   "outputs": [
    {
     "data": {
      "text/plain": [
       "array([[ 1.,  0.,  1.,  0.,  0.,  1.],\n",
       "       [ 1.,  2.,  3.,  4.,  6.,  9.],\n",
       "       [ 1.,  4.,  5., 16., 20., 25.]])"
      ]
     },
     "execution_count": 196,
     "metadata": {},
     "output_type": "execute_result"
    }
   ],
   "source": [
    "# [1,a,b,a^2,ab,b^2] => 비선형회귀 \n",
    "poly = PolynomialFeatures(2) # 다항식 계산 결과값을 속성값으로 추가 \n",
    "poly.fit_transform(X)"
   ]
  },
  {
   "cell_type": "code",
   "execution_count": 197,
   "metadata": {},
   "outputs": [],
   "source": [
    "# ensemble 학습\n",
    "#randomForest ; DT를 여려개의 모델로 구축해서\n",
    "# 연속형 : 결과값의 평균으로 예측\n",
    "# 이산형 : 결과값의 투포를 통해서 결정"
   ]
  },
  {
   "cell_type": "code",
   "execution_count": 206,
   "metadata": {},
   "outputs": [
    {
     "data": {
      "text/plain": [
       "RandomForestClassifier(bootstrap=True, class_weight=None, criterion='gini',\n",
       "                       max_depth=None, max_features='auto', max_leaf_nodes=None,\n",
       "                       min_impurity_decrease=0.0, min_impurity_split=None,\n",
       "                       min_samples_leaf=1, min_samples_split=2,\n",
       "                       min_weight_fraction_leaf=0.0, n_estimators=30,\n",
       "                       n_jobs=None, oob_score=False, random_state=None,\n",
       "                       verbose=0, warm_start=False)"
      ]
     },
     "execution_count": 206,
     "metadata": {},
     "output_type": "execute_result"
    }
   ],
   "source": [
    "from sklearn.datasets import make_classification\n",
    "X ,y = make_classification(1000)\n",
    "# = 10 \n",
    "from sklearn.ensemble import RandomForestClassifier\n",
    "rf = RandomForestClassifier(n_estimators=30) # n_estimators 가 뭐임 ??\n",
    "rf.fit(X,y)"
   ]
  },
  {
   "cell_type": "code",
   "execution_count": 208,
   "metadata": {},
   "outputs": [
    {
     "name": "stdout",
     "output_type": "stream",
     "text": [
      "Accuracy:\t 0.999\n"
     ]
    }
   ],
   "source": [
    "print(\"Accuracy:\\t\",(y==rf.predict(X)).mean())"
   ]
  },
  {
   "cell_type": "code",
   "execution_count": 215,
   "metadata": {
    "collapsed": true
   },
   "outputs": [
    {
     "data": {
      "text/plain": [
       "Text(0.5, 1.0, '특성중요도')"
      ]
     },
     "execution_count": 215,
     "metadata": {},
     "output_type": "execute_result"
    },
    {
     "name": "stderr",
     "output_type": "stream",
     "text": [
      "C:\\Users\\ICT01_20\\Anaconda3\\lib\\site-packages\\matplotlib\\backends\\backend_agg.py:211: RuntimeWarning: Glyph 53945 missing from current font.\n",
      "  font.set_text(s, 0.0, flags=flags)\n",
      "C:\\Users\\ICT01_20\\Anaconda3\\lib\\site-packages\\matplotlib\\backends\\backend_agg.py:211: RuntimeWarning: Glyph 49457 missing from current font.\n",
      "  font.set_text(s, 0.0, flags=flags)\n",
      "C:\\Users\\ICT01_20\\Anaconda3\\lib\\site-packages\\matplotlib\\backends\\backend_agg.py:211: RuntimeWarning: Glyph 51473 missing from current font.\n",
      "  font.set_text(s, 0.0, flags=flags)\n",
      "C:\\Users\\ICT01_20\\Anaconda3\\lib\\site-packages\\matplotlib\\backends\\backend_agg.py:211: RuntimeWarning: Glyph 50836 missing from current font.\n",
      "  font.set_text(s, 0.0, flags=flags)\n",
      "C:\\Users\\ICT01_20\\Anaconda3\\lib\\site-packages\\matplotlib\\backends\\backend_agg.py:211: RuntimeWarning: Glyph 46020 missing from current font.\n",
      "  font.set_text(s, 0.0, flags=flags)\n",
      "C:\\Users\\ICT01_20\\Anaconda3\\lib\\site-packages\\matplotlib\\backends\\backend_agg.py:180: RuntimeWarning: Glyph 53945 missing from current font.\n",
      "  font.set_text(s, 0, flags=flags)\n",
      "C:\\Users\\ICT01_20\\Anaconda3\\lib\\site-packages\\matplotlib\\backends\\backend_agg.py:180: RuntimeWarning: Glyph 49457 missing from current font.\n",
      "  font.set_text(s, 0, flags=flags)\n",
      "C:\\Users\\ICT01_20\\Anaconda3\\lib\\site-packages\\matplotlib\\backends\\backend_agg.py:180: RuntimeWarning: Glyph 51473 missing from current font.\n",
      "  font.set_text(s, 0, flags=flags)\n",
      "C:\\Users\\ICT01_20\\Anaconda3\\lib\\site-packages\\matplotlib\\backends\\backend_agg.py:180: RuntimeWarning: Glyph 50836 missing from current font.\n",
      "  font.set_text(s, 0, flags=flags)\n",
      "C:\\Users\\ICT01_20\\Anaconda3\\lib\\site-packages\\matplotlib\\backends\\backend_agg.py:180: RuntimeWarning: Glyph 46020 missing from current font.\n",
      "  font.set_text(s, 0, flags=flags)\n"
     ]
    },
    {
     "data": {
      "image/png": "[encoded data removed]",
      "text/plain": [
       "<Figure size 504x360 with 1 Axes>"
      ]
     },
     "metadata": {
      "needs_background": "light"
     },
     "output_type": "display_data"
    }
   ],
   "source": [
    "f, ax = plt.subplots(figsize = (7,5))\n",
    "ax.bar(range(0, len(rf.feature_importances_)), rf.feature_importances_)\n",
    "\n",
    "ax.set_title('특성중요도')"
   ]
  },
  {
   "cell_type": "code",
   "execution_count": 216,
   "metadata": {
    "collapsed": true
   },
   "outputs": [
    {
     "name": "stdout",
     "output_type": "stream",
     "text": [
      "특성수 20\n",
      "모델 [DecisionTreeClassifier(class_weight=None, criterion='gini', max_depth=None,\n",
      "                       max_features='auto', max_leaf_nodes=None,\n",
      "                       min_impurity_decrease=0.0, min_impurity_split=None,\n",
      "                       min_samples_leaf=1, min_samples_split=2,\n",
      "                       min_weight_fraction_leaf=0.0, presort=False,\n",
      "                       random_state=218151605, splitter='best'), DecisionTreeClassifier(class_weight=None, criterion='gini', max_depth=None,\n",
      "                       max_features='auto', max_leaf_nodes=None,\n",
      "                       min_impurity_decrease=0.0, min_impurity_split=None,\n",
      "                       min_samples_leaf=1, min_samples_split=2,\n",
      "                       min_weight_fraction_leaf=0.0, presort=False,\n",
      "                       random_state=774801500, splitter='best'), DecisionTreeClassifier(class_weight=None, criterion='gini', max_depth=None,\n",
      "                       max_features='auto', max_leaf_nodes=None,\n",
      "                       min_impurity_decrease=0.0, min_impurity_split=None,\n",
      "                       min_samples_leaf=1, min_samples_split=2,\n",
      "                       min_weight_fraction_leaf=0.0, presort=False,\n",
      "                       random_state=1627627794, splitter='best'), DecisionTreeClassifier(class_weight=None, criterion='gini', max_depth=None,\n",
      "                       max_features='auto', max_leaf_nodes=None,\n",
      "                       min_impurity_decrease=0.0, min_impurity_split=None,\n",
      "                       min_samples_leaf=1, min_samples_split=2,\n",
      "                       min_weight_fraction_leaf=0.0, presort=False,\n",
      "                       random_state=187182146, splitter='best'), DecisionTreeClassifier(class_weight=None, criterion='gini', max_depth=None,\n",
      "                       max_features='auto', max_leaf_nodes=None,\n",
      "                       min_impurity_decrease=0.0, min_impurity_split=None,\n",
      "                       min_samples_leaf=1, min_samples_split=2,\n",
      "                       min_weight_fraction_leaf=0.0, presort=False,\n",
      "                       random_state=466538638, splitter='best'), DecisionTreeClassifier(class_weight=None, criterion='gini', max_depth=None,\n",
      "                       max_features='auto', max_leaf_nodes=None,\n",
      "                       min_impurity_decrease=0.0, min_impurity_split=None,\n",
      "                       min_samples_leaf=1, min_samples_split=2,\n",
      "                       min_weight_fraction_leaf=0.0, presort=False,\n",
      "                       random_state=1379562185, splitter='best'), DecisionTreeClassifier(class_weight=None, criterion='gini', max_depth=None,\n",
      "                       max_features='auto', max_leaf_nodes=None,\n",
      "                       min_impurity_decrease=0.0, min_impurity_split=None,\n",
      "                       min_samples_leaf=1, min_samples_split=2,\n",
      "                       min_weight_fraction_leaf=0.0, presort=False,\n",
      "                       random_state=715783126, splitter='best'), DecisionTreeClassifier(class_weight=None, criterion='gini', max_depth=None,\n",
      "                       max_features='auto', max_leaf_nodes=None,\n",
      "                       min_impurity_decrease=0.0, min_impurity_split=None,\n",
      "                       min_samples_leaf=1, min_samples_split=2,\n",
      "                       min_weight_fraction_leaf=0.0, presort=False,\n",
      "                       random_state=583316427, splitter='best'), DecisionTreeClassifier(class_weight=None, criterion='gini', max_depth=None,\n",
      "                       max_features='auto', max_leaf_nodes=None,\n",
      "                       min_impurity_decrease=0.0, min_impurity_split=None,\n",
      "                       min_samples_leaf=1, min_samples_split=2,\n",
      "                       min_weight_fraction_leaf=0.0, presort=False,\n",
      "                       random_state=853449839, splitter='best'), DecisionTreeClassifier(class_weight=None, criterion='gini', max_depth=None,\n",
      "                       max_features='auto', max_leaf_nodes=None,\n",
      "                       min_impurity_decrease=0.0, min_impurity_split=None,\n",
      "                       min_samples_leaf=1, min_samples_split=2,\n",
      "                       min_weight_fraction_leaf=0.0, presort=False,\n",
      "                       random_state=443119948, splitter='best'), DecisionTreeClassifier(class_weight=None, criterion='gini', max_depth=None,\n",
      "                       max_features='auto', max_leaf_nodes=None,\n",
      "                       min_impurity_decrease=0.0, min_impurity_split=None,\n",
      "                       min_samples_leaf=1, min_samples_split=2,\n",
      "                       min_weight_fraction_leaf=0.0, presort=False,\n",
      "                       random_state=1550848902, splitter='best'), DecisionTreeClassifier(class_weight=None, criterion='gini', max_depth=None,\n",
      "                       max_features='auto', max_leaf_nodes=None,\n",
      "                       min_impurity_decrease=0.0, min_impurity_split=None,\n",
      "                       min_samples_leaf=1, min_samples_split=2,\n",
      "                       min_weight_fraction_leaf=0.0, presort=False,\n",
      "                       random_state=318897197, splitter='best'), DecisionTreeClassifier(class_weight=None, criterion='gini', max_depth=None,\n",
      "                       max_features='auto', max_leaf_nodes=None,\n",
      "                       min_impurity_decrease=0.0, min_impurity_split=None,\n",
      "                       min_samples_leaf=1, min_samples_split=2,\n",
      "                       min_weight_fraction_leaf=0.0, presort=False,\n",
      "                       random_state=1863677841, splitter='best'), DecisionTreeClassifier(class_weight=None, criterion='gini', max_depth=None,\n",
      "                       max_features='auto', max_leaf_nodes=None,\n",
      "                       min_impurity_decrease=0.0, min_impurity_split=None,\n",
      "                       min_samples_leaf=1, min_samples_split=2,\n",
      "                       min_weight_fraction_leaf=0.0, presort=False,\n",
      "                       random_state=1951884847, splitter='best'), DecisionTreeClassifier(class_weight=None, criterion='gini', max_depth=None,\n",
      "                       max_features='auto', max_leaf_nodes=None,\n",
      "                       min_impurity_decrease=0.0, min_impurity_split=None,\n",
      "                       min_samples_leaf=1, min_samples_split=2,\n",
      "                       min_weight_fraction_leaf=0.0, presort=False,\n",
      "                       random_state=904510382, splitter='best'), DecisionTreeClassifier(class_weight=None, criterion='gini', max_depth=None,\n",
      "                       max_features='auto', max_leaf_nodes=None,\n",
      "                       min_impurity_decrease=0.0, min_impurity_split=None,\n",
      "                       min_samples_leaf=1, min_samples_split=2,\n",
      "                       min_weight_fraction_leaf=0.0, presort=False,\n",
      "                       random_state=413305614, splitter='best'), DecisionTreeClassifier(class_weight=None, criterion='gini', max_depth=None,\n",
      "                       max_features='auto', max_leaf_nodes=None,\n",
      "                       min_impurity_decrease=0.0, min_impurity_split=None,\n",
      "                       min_samples_leaf=1, min_samples_split=2,\n",
      "                       min_weight_fraction_leaf=0.0, presort=False,\n",
      "                       random_state=1730017374, splitter='best'), DecisionTreeClassifier(class_weight=None, criterion='gini', max_depth=None,\n",
      "                       max_features='auto', max_leaf_nodes=None,\n",
      "                       min_impurity_decrease=0.0, min_impurity_split=None,\n",
      "                       min_samples_leaf=1, min_samples_split=2,\n",
      "                       min_weight_fraction_leaf=0.0, presort=False,\n",
      "                       random_state=1817841209, splitter='best'), DecisionTreeClassifier(class_weight=None, criterion='gini', max_depth=None,\n",
      "                       max_features='auto', max_leaf_nodes=None,\n",
      "                       min_impurity_decrease=0.0, min_impurity_split=None,\n",
      "                       min_samples_leaf=1, min_samples_split=2,\n",
      "                       min_weight_fraction_leaf=0.0, presort=False,\n",
      "                       random_state=944786487, splitter='best'), DecisionTreeClassifier(class_weight=None, criterion='gini', max_depth=None,\n",
      "                       max_features='auto', max_leaf_nodes=None,\n",
      "                       min_impurity_decrease=0.0, min_impurity_split=None,\n",
      "                       min_samples_leaf=1, min_samples_split=2,\n",
      "                       min_weight_fraction_leaf=0.0, presort=False,\n",
      "                       random_state=1603401391, splitter='best'), DecisionTreeClassifier(class_weight=None, criterion='gini', max_depth=None,\n",
      "                       max_features='auto', max_leaf_nodes=None,\n",
      "                       min_impurity_decrease=0.0, min_impurity_split=None,\n",
      "                       min_samples_leaf=1, min_samples_split=2,\n",
      "                       min_weight_fraction_leaf=0.0, presort=False,\n",
      "                       random_state=1126598173, splitter='best'), DecisionTreeClassifier(class_weight=None, criterion='gini', max_depth=None,\n",
      "                       max_features='auto', max_leaf_nodes=None,\n",
      "                       min_impurity_decrease=0.0, min_impurity_split=None,\n",
      "                       min_samples_leaf=1, min_samples_split=2,\n",
      "                       min_weight_fraction_leaf=0.0, presort=False,\n",
      "                       random_state=1066653604, splitter='best'), DecisionTreeClassifier(class_weight=None, criterion='gini', max_depth=None,\n",
      "                       max_features='auto', max_leaf_nodes=None,\n",
      "                       min_impurity_decrease=0.0, min_impurity_split=None,\n",
      "                       min_samples_leaf=1, min_samples_split=2,\n",
      "                       min_weight_fraction_leaf=0.0, presort=False,\n",
      "                       random_state=877550108, splitter='best'), DecisionTreeClassifier(class_weight=None, criterion='gini', max_depth=None,\n",
      "                       max_features='auto', max_leaf_nodes=None,\n",
      "                       min_impurity_decrease=0.0, min_impurity_split=None,\n",
      "                       min_samples_leaf=1, min_samples_split=2,\n",
      "                       min_weight_fraction_leaf=0.0, presort=False,\n",
      "                       random_state=81556533, splitter='best'), DecisionTreeClassifier(class_weight=None, criterion='gini', max_depth=None,\n",
      "                       max_features='auto', max_leaf_nodes=None,\n",
      "                       min_impurity_decrease=0.0, min_impurity_split=None,\n",
      "                       min_samples_leaf=1, min_samples_split=2,\n",
      "                       min_weight_fraction_leaf=0.0, presort=False,\n",
      "                       random_state=1208927434, splitter='best'), DecisionTreeClassifier(class_weight=None, criterion='gini', max_depth=None,\n",
      "                       max_features='auto', max_leaf_nodes=None,\n",
      "                       min_impurity_decrease=0.0, min_impurity_split=None,\n",
      "                       min_samples_leaf=1, min_samples_split=2,\n",
      "                       min_weight_fraction_leaf=0.0, presort=False,\n",
      "                       random_state=1398193449, splitter='best'), DecisionTreeClassifier(class_weight=None, criterion='gini', max_depth=None,\n",
      "                       max_features='auto', max_leaf_nodes=None,\n",
      "                       min_impurity_decrease=0.0, min_impurity_split=None,\n",
      "                       min_samples_leaf=1, min_samples_split=2,\n",
      "                       min_weight_fraction_leaf=0.0, presort=False,\n",
      "                       random_state=293352589, splitter='best'), DecisionTreeClassifier(class_weight=None, criterion='gini', max_depth=None,\n",
      "                       max_features='auto', max_leaf_nodes=None,\n",
      "                       min_impurity_decrease=0.0, min_impurity_split=None,\n",
      "                       min_samples_leaf=1, min_samples_split=2,\n",
      "                       min_weight_fraction_leaf=0.0, presort=False,\n",
      "                       random_state=1359856452, splitter='best'), DecisionTreeClassifier(class_weight=None, criterion='gini', max_depth=None,\n",
      "                       max_features='auto', max_leaf_nodes=None,\n",
      "                       min_impurity_decrease=0.0, min_impurity_split=None,\n",
      "                       min_samples_leaf=1, min_samples_split=2,\n",
      "                       min_weight_fraction_leaf=0.0, presort=False,\n",
      "                       random_state=34842047, splitter='best'), DecisionTreeClassifier(class_weight=None, criterion='gini', max_depth=None,\n",
      "                       max_features='auto', max_leaf_nodes=None,\n",
      "                       min_impurity_decrease=0.0, min_impurity_split=None,\n",
      "                       min_samples_leaf=1, min_samples_split=2,\n",
      "                       min_weight_fraction_leaf=0.0, presort=False,\n",
      "                       random_state=472178925, splitter='best')]\n"
     ]
    }
   ],
   "source": [
    "print(\"특성수\",rf.n_features_)\n",
    "print(\"모델\", rf.estimators_)"
   ]
  },
  {
   "cell_type": "code",
   "execution_count": 217,
   "metadata": {},
   "outputs": [],
   "source": [
    "# 문제 : load_boston()을 이용해 데이터를 로딩하고 rf로 변수중요도를 출력하시요 "
   ]
  },
  {
   "cell_type": "code",
   "execution_count": 230,
   "metadata": {},
   "outputs": [
    {
     "name": "stderr",
     "output_type": "stream",
     "text": [
      "C:\\Users\\ICT01_20\\Anaconda3\\lib\\site-packages\\sklearn\\ensemble\\forest.py:245: FutureWarning: The default value of n_estimators will change from 10 in version 0.20 to 100 in 0.22.\n",
      "  \"10 in version 0.20 to 100 in 0.22.\", FutureWarning)\n"
     ]
    },
    {
     "data": {
      "text/plain": [
       "RandomForestRegressor(bootstrap=True, criterion='mse', max_depth=None,\n",
       "                      max_features='auto', max_leaf_nodes=None,\n",
       "                      min_impurity_decrease=0.0, min_impurity_split=None,\n",
       "                      min_samples_leaf=1, min_samples_split=2,\n",
       "                      min_weight_fraction_leaf=0.0, n_estimators=10,\n",
       "                      n_jobs=None, oob_score=False, random_state=None,\n",
       "                      verbose=0, warm_start=False)"
      ]
     },
     "execution_count": 230,
     "metadata": {},
     "output_type": "execute_result"
    }
   ],
   "source": [
    "from sklearn.datasets import load_boston #회귀 or 분류 : 회귀\n",
    "from sklearn.ensemble import RandomForestRegressor\n",
    "boston = load_boston()\n",
    "X = boston[\"data\"]\n",
    "y = boston[\"target\"]\n",
    "names = boston['feature_names']\n",
    "rf = RandomForestRegressor()\n",
    "rf.fit(X,y)"
   ]
  },
  {
   "cell_type": "code",
   "execution_count": 232,
   "metadata": {},
   "outputs": [
    {
     "name": "stdout",
     "output_type": "stream",
     "text": [
      "[(0.44, 'RM'), (0.37, 'LSTAT'), (0.06, 'DIS'), (0.04, 'CRIM'), (0.03, 'NOX'), (0.02, 'PTRATIO'), (0.01, 'TAX'), (0.01, 'B'), (0.01, 'AGE'), (0.0, 'ZN'), (0.0, 'RAD'), (0.0, 'INDUS'), (0.0, 'CHAS')]\n"
     ]
    }
   ],
   "source": [
    "print(sorted(zip(map(lambda x : round(x,2),\n",
    "                    rf.feature_importances_),names),reverse =True)) # 내림차순으로 정렬\n"
   ]
  },
  {
   "cell_type": "code",
   "execution_count": 234,
   "metadata": {},
   "outputs": [
    {
     "data": {
      "text/plain": [
       "Text(0.5, 1.0, 'feature importance')"
      ]
     },
     "execution_count": 234,
     "metadata": {},
     "output_type": "execute_result"
    },
    {
     "data": {
      "image/png": "[encoded data removed]",
      "text/plain": [
       "<Figure size 504x360 with 1 Axes>"
      ]
     },
     "metadata": {
      "needs_background": "light"
     },
     "output_type": "display_data"
    }
   ],
   "source": [
    "import matplotlib.pyplot as plt\n",
    "f ,ax = plt.subplots(figsize=(7,5))\n",
    "ax.bar(range(0,len(rf.feature_importances_)),\n",
    "      rf.feature_importances_)\n",
    "ax.set_title('feature importance')"
   ]
  },
  {
   "cell_type": "code",
   "execution_count": 235,
   "metadata": {},
   "outputs": [],
   "source": [
    "# 평가 : 예측 - 상관계수 .mes()"
   ]
  },
  {
   "cell_type": "code",
   "execution_count": 281,
   "metadata": {},
   "outputs": [
    {
     "data": {
      "text/plain": [
       "2.359702371541502"
      ]
     },
     "execution_count": 281,
     "metadata": {},
     "output_type": "execute_result"
    }
   ],
   "source": [
    "from sklearn.metrics import mean_squared_error, mean_absolute_error,r2_score \n",
    "mean_squared_error(y, rf.predict(X))"
   ]
  },
  {
   "cell_type": "code",
   "execution_count": 282,
   "metadata": {},
   "outputs": [
    {
     "data": {
      "text/plain": [
       "0.9111857707509879"
      ]
     },
     "execution_count": 282,
     "metadata": {},
     "output_type": "execute_result"
    }
   ],
   "source": [
    "mean_absolute_error(y, rf.predict(X))"
   ]
  },
  {
   "cell_type": "code",
   "execution_count": 283,
   "metadata": {},
   "outputs": [
    {
     "data": {
      "text/plain": [
       "0.9720479178168581"
      ]
     },
     "execution_count": 283,
     "metadata": {},
     "output_type": "execute_result"
    }
   ],
   "source": [
    "r2_score(y, rf.predict(X))"
   ]
  },
  {
   "cell_type": "code",
   "execution_count": 291,
   "metadata": {},
   "outputs": [
    {
     "data": {
      "text/plain": [
       "RandomForestClassifier(bootstrap=True, class_weight=None, criterion='gini',\n",
       "                       max_depth=None, max_features='auto', max_leaf_nodes=None,\n",
       "                       min_impurity_decrease=0.0, min_impurity_split=None,\n",
       "                       min_samples_leaf=1, min_samples_split=2,\n",
       "                       min_weight_fraction_leaf=0.0, n_estimators=100,\n",
       "                       n_jobs=None, oob_score=False, random_state=0, verbose=0,\n",
       "                       warm_start=False)"
      ]
     },
     "execution_count": 291,
     "metadata": {},
     "output_type": "execute_result"
    }
   ],
   "source": [
    "from sklearn.datasets import load_breast_cancer\n",
    "from sklearn.model_selection import train_test_split # 0.75 : 0.25\n",
    "cancer = load_breast_cancer()\n",
    "X_train, X_test, y_train, y_test = train_test_split(\n",
    "cancer.data, cancer.target, random_state= 0)\n",
    "forest =RandomForestClassifier(n_estimators = 100 , random_state= 0)\n",
    "forest.fit(X_train,y_train)"
   ]
  },
  {
   "cell_type": "code",
   "execution_count": 292,
   "metadata": {},
   "outputs": [
    {
     "name": "stdout",
     "output_type": "stream",
     "text": [
      "훈련세트 정확도 :1.000 \n",
      "테스트 세트 정확도:0.972\n"
     ]
    }
   ],
   "source": [
    "print(\"훈련세트 정확도 :{:.3f} \".format(forest.score(X_train,\n",
    "                                             y_train)))\n",
    "print(\"테스트 세트 정확도:{:.3f}\".format(forest.score(X_test,y_test)))"
   ]
  },
  {
   "cell_type": "code",
   "execution_count": 289,
   "metadata": {},
   "outputs": [],
   "source": [
    "from sklearn.tree import export_graphviz\n",
    "export_graphviz(forest.estimators_[0], out_file = 'tree.dot',\n",
    "               class_names=[\"악성\", \"양성\"], feature_names = \n",
    "                cancer.feature_names, impurity = False, filled = True)"
   ]
  },
  {
   "cell_type": "code",
   "execution_count": 322,
   "metadata": {
    "scrolled": true
   },
   "outputs": [
    {
     "ename": "ExecutableNotFound",
     "evalue": "failed to execute ['dot', '-Tsvg'], make sure the Graphviz executables are on your systems' PATH",
     "output_type": "error",
     "traceback": [
      "\u001b[1;31m---------------------------------------------------------------------------\u001b[0m",
      "\u001b[1;31mFileNotFoundError\u001b[0m                         Traceback (most recent call last)",
      "\u001b[1;32m~\\Anaconda3\\lib\\site-packages\\graphviz\\backend.py\u001b[0m in \u001b[0;36mrun\u001b[1;34m(cmd, input, capture_output, check, quiet, **kwargs)\u001b[0m\n\u001b[0;32m    158\u001b[0m     \u001b[1;32mtry\u001b[0m\u001b[1;33m:\u001b[0m\u001b[1;33m\u001b[0m\u001b[1;33m\u001b[0m\u001b[0m\n\u001b[1;32m--> 159\u001b[1;33m         \u001b[0mproc\u001b[0m \u001b[1;33m=\u001b[0m \u001b[0msubprocess\u001b[0m\u001b[1;33m.\u001b[0m\u001b[0mPopen\u001b[0m\u001b[1;33m(\u001b[0m\u001b[0mcmd\u001b[0m\u001b[1;33m,\u001b[0m \u001b[0mstartupinfo\u001b[0m\u001b[1;33m=\u001b[0m\u001b[0mget_startupinfo\u001b[0m\u001b[1;33m(\u001b[0m\u001b[1;33m)\u001b[0m\u001b[1;33m,\u001b[0m \u001b[1;33m**\u001b[0m\u001b[0mkwargs\u001b[0m\u001b[1;33m)\u001b[0m\u001b[1;33m\u001b[0m\u001b[1;33m\u001b[0m\u001b[0m\n\u001b[0m\u001b[0;32m    160\u001b[0m     \u001b[1;32mexcept\u001b[0m \u001b[0mOSError\u001b[0m \u001b[1;32mas\u001b[0m \u001b[0me\u001b[0m\u001b[1;33m:\u001b[0m\u001b[1;33m\u001b[0m\u001b[1;33m\u001b[0m\u001b[0m\n",
      "\u001b[1;32m~\\Anaconda3\\lib\\subprocess.py\u001b[0m in \u001b[0;36m__init__\u001b[1;34m(self, args, bufsize, executable, stdin, stdout, stderr, preexec_fn, close_fds, shell, cwd, env, universal_newlines, startupinfo, creationflags, restore_signals, start_new_session, pass_fds, encoding, errors, text)\u001b[0m\n\u001b[0;32m    774\u001b[0m                                 \u001b[0merrread\u001b[0m\u001b[1;33m,\u001b[0m \u001b[0merrwrite\u001b[0m\u001b[1;33m,\u001b[0m\u001b[1;33m\u001b[0m\u001b[1;33m\u001b[0m\u001b[0m\n\u001b[1;32m--> 775\u001b[1;33m                                 restore_signals, start_new_session)\n\u001b[0m\u001b[0;32m    776\u001b[0m         \u001b[1;32mexcept\u001b[0m\u001b[1;33m:\u001b[0m\u001b[1;33m\u001b[0m\u001b[1;33m\u001b[0m\u001b[0m\n",
      "\u001b[1;32m~\\Anaconda3\\lib\\subprocess.py\u001b[0m in \u001b[0;36m_execute_child\u001b[1;34m(self, args, executable, preexec_fn, close_fds, pass_fds, cwd, env, startupinfo, creationflags, shell, p2cread, p2cwrite, c2pread, c2pwrite, errread, errwrite, unused_restore_signals, unused_start_new_session)\u001b[0m\n\u001b[0;32m   1177\u001b[0m                                          \u001b[0mos\u001b[0m\u001b[1;33m.\u001b[0m\u001b[0mfspath\u001b[0m\u001b[1;33m(\u001b[0m\u001b[0mcwd\u001b[0m\u001b[1;33m)\u001b[0m \u001b[1;32mif\u001b[0m \u001b[0mcwd\u001b[0m \u001b[1;32mis\u001b[0m \u001b[1;32mnot\u001b[0m \u001b[1;32mNone\u001b[0m \u001b[1;32melse\u001b[0m \u001b[1;32mNone\u001b[0m\u001b[1;33m,\u001b[0m\u001b[1;33m\u001b[0m\u001b[1;33m\u001b[0m\u001b[0m\n\u001b[1;32m-> 1178\u001b[1;33m                                          startupinfo)\n\u001b[0m\u001b[0;32m   1179\u001b[0m             \u001b[1;32mfinally\u001b[0m\u001b[1;33m:\u001b[0m\u001b[1;33m\u001b[0m\u001b[1;33m\u001b[0m\u001b[0m\n",
      "\u001b[1;31mFileNotFoundError\u001b[0m: [WinError 2] 지정된 파일을 찾을 수 없습니다",
      "\nDuring handling of the above exception, another exception occurred:\n",
      "\u001b[1;31mExecutableNotFound\u001b[0m                        Traceback (most recent call last)",
      "\u001b[1;32m~\\Anaconda3\\lib\\site-packages\\IPython\\core\\formatters.py\u001b[0m in \u001b[0;36m__call__\u001b[1;34m(self, obj)\u001b[0m\n\u001b[0;32m    343\u001b[0m             \u001b[0mmethod\u001b[0m \u001b[1;33m=\u001b[0m \u001b[0mget_real_method\u001b[0m\u001b[1;33m(\u001b[0m\u001b[0mobj\u001b[0m\u001b[1;33m,\u001b[0m \u001b[0mself\u001b[0m\u001b[1;33m.\u001b[0m\u001b[0mprint_method\u001b[0m\u001b[1;33m)\u001b[0m\u001b[1;33m\u001b[0m\u001b[1;33m\u001b[0m\u001b[0m\n\u001b[0;32m    344\u001b[0m             \u001b[1;32mif\u001b[0m \u001b[0mmethod\u001b[0m \u001b[1;32mis\u001b[0m \u001b[1;32mnot\u001b[0m \u001b[1;32mNone\u001b[0m\u001b[1;33m:\u001b[0m\u001b[1;33m\u001b[0m\u001b[1;33m\u001b[0m\u001b[0m\n\u001b[1;32m--> 345\u001b[1;33m                 \u001b[1;32mreturn\u001b[0m \u001b[0mmethod\u001b[0m\u001b[1;33m(\u001b[0m\u001b[1;33m)\u001b[0m\u001b[1;33m\u001b[0m\u001b[1;33m\u001b[0m\u001b[0m\n\u001b[0m\u001b[0;32m    346\u001b[0m             \u001b[1;32mreturn\u001b[0m \u001b[1;32mNone\u001b[0m\u001b[1;33m\u001b[0m\u001b[1;33m\u001b[0m\u001b[0m\n\u001b[0;32m    347\u001b[0m         \u001b[1;32melse\u001b[0m\u001b[1;33m:\u001b[0m\u001b[1;33m\u001b[0m\u001b[1;33m\u001b[0m\u001b[0m\n",
      "\u001b[1;32m~\\Anaconda3\\lib\\site-packages\\graphviz\\files.py\u001b[0m in \u001b[0;36m_repr_svg_\u001b[1;34m(self)\u001b[0m\n\u001b[0;32m    111\u001b[0m \u001b[1;33m\u001b[0m\u001b[0m\n\u001b[0;32m    112\u001b[0m     \u001b[1;32mdef\u001b[0m \u001b[0m_repr_svg_\u001b[0m\u001b[1;33m(\u001b[0m\u001b[0mself\u001b[0m\u001b[1;33m)\u001b[0m\u001b[1;33m:\u001b[0m\u001b[1;33m\u001b[0m\u001b[1;33m\u001b[0m\u001b[0m\n\u001b[1;32m--> 113\u001b[1;33m         \u001b[1;32mreturn\u001b[0m \u001b[0mself\u001b[0m\u001b[1;33m.\u001b[0m\u001b[0mpipe\u001b[0m\u001b[1;33m(\u001b[0m\u001b[0mformat\u001b[0m\u001b[1;33m=\u001b[0m\u001b[1;34m'svg'\u001b[0m\u001b[1;33m)\u001b[0m\u001b[1;33m.\u001b[0m\u001b[0mdecode\u001b[0m\u001b[1;33m(\u001b[0m\u001b[0mself\u001b[0m\u001b[1;33m.\u001b[0m\u001b[0m_encoding\u001b[0m\u001b[1;33m)\u001b[0m\u001b[1;33m\u001b[0m\u001b[1;33m\u001b[0m\u001b[0m\n\u001b[0m\u001b[0;32m    114\u001b[0m \u001b[1;33m\u001b[0m\u001b[0m\n\u001b[0;32m    115\u001b[0m     \u001b[1;32mdef\u001b[0m \u001b[0mpipe\u001b[0m\u001b[1;33m(\u001b[0m\u001b[0mself\u001b[0m\u001b[1;33m,\u001b[0m \u001b[0mformat\u001b[0m\u001b[1;33m=\u001b[0m\u001b[1;32mNone\u001b[0m\u001b[1;33m,\u001b[0m \u001b[0mrenderer\u001b[0m\u001b[1;33m=\u001b[0m\u001b[1;32mNone\u001b[0m\u001b[1;33m,\u001b[0m \u001b[0mformatter\u001b[0m\u001b[1;33m=\u001b[0m\u001b[1;32mNone\u001b[0m\u001b[1;33m,\u001b[0m \u001b[0mquiet\u001b[0m\u001b[1;33m=\u001b[0m\u001b[1;32mFalse\u001b[0m\u001b[1;33m)\u001b[0m\u001b[1;33m:\u001b[0m\u001b[1;33m\u001b[0m\u001b[1;33m\u001b[0m\u001b[0m\n",
      "\u001b[1;32m~\\Anaconda3\\lib\\site-packages\\graphviz\\files.py\u001b[0m in \u001b[0;36mpipe\u001b[1;34m(self, format, renderer, formatter, quiet)\u001b[0m\n\u001b[0;32m    136\u001b[0m         out = backend.pipe(self._engine, format, data,\n\u001b[0;32m    137\u001b[0m                            \u001b[0mrenderer\u001b[0m\u001b[1;33m=\u001b[0m\u001b[0mrenderer\u001b[0m\u001b[1;33m,\u001b[0m \u001b[0mformatter\u001b[0m\u001b[1;33m=\u001b[0m\u001b[0mformatter\u001b[0m\u001b[1;33m,\u001b[0m\u001b[1;33m\u001b[0m\u001b[1;33m\u001b[0m\u001b[0m\n\u001b[1;32m--> 138\u001b[1;33m                            quiet=quiet)\n\u001b[0m\u001b[0;32m    139\u001b[0m \u001b[1;33m\u001b[0m\u001b[0m\n\u001b[0;32m    140\u001b[0m         \u001b[1;32mreturn\u001b[0m \u001b[0mout\u001b[0m\u001b[1;33m\u001b[0m\u001b[1;33m\u001b[0m\u001b[0m\n",
      "\u001b[1;32m~\\Anaconda3\\lib\\site-packages\\graphviz\\backend.py\u001b[0m in \u001b[0;36mpipe\u001b[1;34m(engine, format, data, renderer, formatter, quiet)\u001b[0m\n\u001b[0;32m    227\u001b[0m     \"\"\"\n\u001b[0;32m    228\u001b[0m     \u001b[0mcmd\u001b[0m\u001b[1;33m,\u001b[0m \u001b[0m_\u001b[0m \u001b[1;33m=\u001b[0m \u001b[0mcommand\u001b[0m\u001b[1;33m(\u001b[0m\u001b[0mengine\u001b[0m\u001b[1;33m,\u001b[0m \u001b[0mformat\u001b[0m\u001b[1;33m,\u001b[0m \u001b[1;32mNone\u001b[0m\u001b[1;33m,\u001b[0m \u001b[0mrenderer\u001b[0m\u001b[1;33m,\u001b[0m \u001b[0mformatter\u001b[0m\u001b[1;33m)\u001b[0m\u001b[1;33m\u001b[0m\u001b[1;33m\u001b[0m\u001b[0m\n\u001b[1;32m--> 229\u001b[1;33m     \u001b[0mout\u001b[0m\u001b[1;33m,\u001b[0m \u001b[0m_\u001b[0m \u001b[1;33m=\u001b[0m \u001b[0mrun\u001b[0m\u001b[1;33m(\u001b[0m\u001b[0mcmd\u001b[0m\u001b[1;33m,\u001b[0m \u001b[0minput\u001b[0m\u001b[1;33m=\u001b[0m\u001b[0mdata\u001b[0m\u001b[1;33m,\u001b[0m \u001b[0mcapture_output\u001b[0m\u001b[1;33m=\u001b[0m\u001b[1;32mTrue\u001b[0m\u001b[1;33m,\u001b[0m \u001b[0mcheck\u001b[0m\u001b[1;33m=\u001b[0m\u001b[1;32mTrue\u001b[0m\u001b[1;33m,\u001b[0m \u001b[0mquiet\u001b[0m\u001b[1;33m=\u001b[0m\u001b[0mquiet\u001b[0m\u001b[1;33m)\u001b[0m\u001b[1;33m\u001b[0m\u001b[1;33m\u001b[0m\u001b[0m\n\u001b[0m\u001b[0;32m    230\u001b[0m     \u001b[1;32mreturn\u001b[0m \u001b[0mout\u001b[0m\u001b[1;33m\u001b[0m\u001b[1;33m\u001b[0m\u001b[0m\n\u001b[0;32m    231\u001b[0m \u001b[1;33m\u001b[0m\u001b[0m\n",
      "\u001b[1;32m~\\Anaconda3\\lib\\site-packages\\graphviz\\backend.py\u001b[0m in \u001b[0;36mrun\u001b[1;34m(cmd, input, capture_output, check, quiet, **kwargs)\u001b[0m\n\u001b[0;32m    160\u001b[0m     \u001b[1;32mexcept\u001b[0m \u001b[0mOSError\u001b[0m \u001b[1;32mas\u001b[0m \u001b[0me\u001b[0m\u001b[1;33m:\u001b[0m\u001b[1;33m\u001b[0m\u001b[1;33m\u001b[0m\u001b[0m\n\u001b[0;32m    161\u001b[0m         \u001b[1;32mif\u001b[0m \u001b[0me\u001b[0m\u001b[1;33m.\u001b[0m\u001b[0merrno\u001b[0m \u001b[1;33m==\u001b[0m \u001b[0merrno\u001b[0m\u001b[1;33m.\u001b[0m\u001b[0mENOENT\u001b[0m\u001b[1;33m:\u001b[0m\u001b[1;33m\u001b[0m\u001b[1;33m\u001b[0m\u001b[0m\n\u001b[1;32m--> 162\u001b[1;33m             \u001b[1;32mraise\u001b[0m \u001b[0mExecutableNotFound\u001b[0m\u001b[1;33m(\u001b[0m\u001b[0mcmd\u001b[0m\u001b[1;33m)\u001b[0m\u001b[1;33m\u001b[0m\u001b[1;33m\u001b[0m\u001b[0m\n\u001b[0m\u001b[0;32m    163\u001b[0m         \u001b[1;32melse\u001b[0m\u001b[1;33m:\u001b[0m\u001b[1;33m\u001b[0m\u001b[1;33m\u001b[0m\u001b[0m\n\u001b[0;32m    164\u001b[0m             \u001b[1;32mraise\u001b[0m\u001b[1;33m\u001b[0m\u001b[1;33m\u001b[0m\u001b[0m\n",
      "\u001b[1;31mExecutableNotFound\u001b[0m: failed to execute ['dot', '-Tsvg'], make sure the Graphviz executables are on your systems' PATH"
     ]
    },
    {
     "data": {
      "text/plain": [
       "<graphviz.files.Source at 0x14162332e48>"
      ]
     },
     "metadata": {},
     "output_type": "display_data"
    }
   ],
   "source": [
    "from IPython.display import display\n",
    "import graphviz\n",
    "# 읽기용으로 읽어라 \n",
    "with open(\"tree.dot\", \"rt\", encoding = 'UTF-8') as f :\n",
    "    dot_graph = f.read()\n",
    "display(graphviz.Source(dot_graph))\n",
    "# display(Image(graphviz.Source(dot_graph)))"
   ]
  },
  {
   "cell_type": "code",
   "execution_count": 319,
   "metadata": {},
   "outputs": [
    {
     "name": "stdout",
     "output_type": "stream",
     "text": [
      "Collecting package metadata (current_repodata.json): ...working... done\n",
      "Solving environment: ...working... done\n",
      "\n",
      "# All requested packages already installed.\n",
      "\n",
      "\n",
      "Note: you may need to restart the kernel to use updated packages.\n"
     ]
    }
   ],
   "source": [
    "conda update graphviz"
   ]
  },
  {
   "cell_type": "code",
   "execution_count": 325,
   "metadata": {},
   "outputs": [
    {
     "name": "stdout",
     "output_type": "stream",
     "text": [
      "<class 'pandas.core.frame.DataFrame'>\n",
      "RangeIndex: 506 entries, 0 to 505\n",
      "Data columns (total 14 columns):\n",
      "CRIM       506 non-null float64\n",
      "ZN         506 non-null float64\n",
      "INDUS      506 non-null float64\n",
      "CHAS       506 non-null float64\n",
      "NOX        506 non-null float64\n",
      "RM         506 non-null float64\n",
      "AGE        506 non-null float64\n",
      "DIS        506 non-null float64\n",
      "RAD        506 non-null float64\n",
      "TAX        506 non-null float64\n",
      "PTRATIO    506 non-null float64\n",
      "B          506 non-null float64\n",
      "LSTAT      506 non-null float64\n",
      "PRICE      506 non-null float64\n",
      "dtypes: float64(14)\n",
      "memory usage: 55.5 KB\n",
      "None\n"
     ]
    }
   ],
   "source": [
    "import pandas as pd\n",
    "boston = load_boston() #data(독립변수) , target(종속변수) , feature_name\n",
    "data = pd.DataFrame(boston.data)\n",
    "data.columns = boston.feature_names\n",
    "\n",
    "data.head()\n",
    "data['PRICE'] = boston.target # 하나의 데이러로 묶어줌 \n",
    "print(data.info())\n",
    "data.describe()\n",
    "\n",
    "import xgboost as xgb\n",
    "from sklearn.metrics import mean_squared_error # 평가 "
   ]
  },
  {
   "cell_type": "code",
   "execution_count": 315,
   "metadata": {},
   "outputs": [
    {
     "name": "stdout",
     "output_type": "stream",
     "text": [
      "[17:08:28] WARNING: src/objective/regression_obj.cu:152: reg:linear is now deprecated in favor of reg:squarederror.\n",
      "RMSE 10.449300\n"
     ]
    },
    {
     "name": "stderr",
     "output_type": "stream",
     "text": [
      "C:\\Users\\ICT01_20\\Anaconda3\\lib\\site-packages\\xgboost\\core.py:587: FutureWarning: Series.base is deprecated and will be removed in a future version\n",
      "  if getattr(data, 'base', None) is not None and \\\n",
      "C:\\Users\\ICT01_20\\Anaconda3\\lib\\site-packages\\xgboost\\core.py:588: FutureWarning: Series.base is deprecated and will be removed in a future version\n",
      "  data.base is not None and isinstance(data, np.ndarray) \\\n"
     ]
    }
   ],
   "source": [
    "# 데이터프레임은 ndarray + dict(순서 , 중복 허용 ) \n",
    "X, y = data.iloc[:,:-1],data.iloc[:,-1] # 추가 \n",
    "data_dmatrix = xgb.DMatrix(data= X, label=y) #전용 행렬 # label = 종속변수 \n",
    "from sklearn.model_selection import train_test_split\n",
    "X_train , X_test, y_train, y_test = train_test_split(X,y,test_size=0.2,\n",
    "                                                    random_state=123)\n",
    "xg_reg = xgb.XGBRegressor(objective = 'reg:linear', #선형회귀\n",
    "                         colsample_bytree = 0.3,\n",
    "                          # learning_rate 경사하강법에 등장 \n",
    "                         learning = 0.1 , max_depth = 5, alpha =10,\n",
    "                         n_estimators= 10)\n",
    "xg_reg.fit(X_train, y_train)\n",
    "preds = xg_reg.predict(X_test) #ybar(예측치)\n",
    "rmse = np.sqrt(mean_squared_error(y_test,preds))\n",
    "print(\"RMSE %f\" % (rmse)) #  root ,mse =rmse 10.449300"
   ]
  },
  {
   "cell_type": "code",
   "execution_count": 323,
   "metadata": {},
   "outputs": [
    {
     "ename": "ExecutableNotFound",
     "evalue": "failed to execute ['dot', '-Tpng'], make sure the Graphviz executables are on your systems' PATH",
     "output_type": "error",
     "traceback": [
      "\u001b[1;31m---------------------------------------------------------------------------\u001b[0m",
      "\u001b[1;31mFileNotFoundError\u001b[0m                         Traceback (most recent call last)",
      "\u001b[1;32m~\\Anaconda3\\lib\\site-packages\\graphviz\\backend.py\u001b[0m in \u001b[0;36mrun\u001b[1;34m(cmd, input, capture_output, check, quiet, **kwargs)\u001b[0m\n\u001b[0;32m    158\u001b[0m     \u001b[1;32mtry\u001b[0m\u001b[1;33m:\u001b[0m\u001b[1;33m\u001b[0m\u001b[1;33m\u001b[0m\u001b[0m\n\u001b[1;32m--> 159\u001b[1;33m         \u001b[0mproc\u001b[0m \u001b[1;33m=\u001b[0m \u001b[0msubprocess\u001b[0m\u001b[1;33m.\u001b[0m\u001b[0mPopen\u001b[0m\u001b[1;33m(\u001b[0m\u001b[0mcmd\u001b[0m\u001b[1;33m,\u001b[0m \u001b[0mstartupinfo\u001b[0m\u001b[1;33m=\u001b[0m\u001b[0mget_startupinfo\u001b[0m\u001b[1;33m(\u001b[0m\u001b[1;33m)\u001b[0m\u001b[1;33m,\u001b[0m \u001b[1;33m**\u001b[0m\u001b[0mkwargs\u001b[0m\u001b[1;33m)\u001b[0m\u001b[1;33m\u001b[0m\u001b[1;33m\u001b[0m\u001b[0m\n\u001b[0m\u001b[0;32m    160\u001b[0m     \u001b[1;32mexcept\u001b[0m \u001b[0mOSError\u001b[0m \u001b[1;32mas\u001b[0m \u001b[0me\u001b[0m\u001b[1;33m:\u001b[0m\u001b[1;33m\u001b[0m\u001b[1;33m\u001b[0m\u001b[0m\n",
      "\u001b[1;32m~\\Anaconda3\\lib\\subprocess.py\u001b[0m in \u001b[0;36m__init__\u001b[1;34m(self, args, bufsize, executable, stdin, stdout, stderr, preexec_fn, close_fds, shell, cwd, env, universal_newlines, startupinfo, creationflags, restore_signals, start_new_session, pass_fds, encoding, errors, text)\u001b[0m\n\u001b[0;32m    774\u001b[0m                                 \u001b[0merrread\u001b[0m\u001b[1;33m,\u001b[0m \u001b[0merrwrite\u001b[0m\u001b[1;33m,\u001b[0m\u001b[1;33m\u001b[0m\u001b[1;33m\u001b[0m\u001b[0m\n\u001b[1;32m--> 775\u001b[1;33m                                 restore_signals, start_new_session)\n\u001b[0m\u001b[0;32m    776\u001b[0m         \u001b[1;32mexcept\u001b[0m\u001b[1;33m:\u001b[0m\u001b[1;33m\u001b[0m\u001b[1;33m\u001b[0m\u001b[0m\n",
      "\u001b[1;32m~\\Anaconda3\\lib\\subprocess.py\u001b[0m in \u001b[0;36m_execute_child\u001b[1;34m(self, args, executable, preexec_fn, close_fds, pass_fds, cwd, env, startupinfo, creationflags, shell, p2cread, p2cwrite, c2pread, c2pwrite, errread, errwrite, unused_restore_signals, unused_start_new_session)\u001b[0m\n\u001b[0;32m   1177\u001b[0m                                          \u001b[0mos\u001b[0m\u001b[1;33m.\u001b[0m\u001b[0mfspath\u001b[0m\u001b[1;33m(\u001b[0m\u001b[0mcwd\u001b[0m\u001b[1;33m)\u001b[0m \u001b[1;32mif\u001b[0m \u001b[0mcwd\u001b[0m \u001b[1;32mis\u001b[0m \u001b[1;32mnot\u001b[0m \u001b[1;32mNone\u001b[0m \u001b[1;32melse\u001b[0m \u001b[1;32mNone\u001b[0m\u001b[1;33m,\u001b[0m\u001b[1;33m\u001b[0m\u001b[1;33m\u001b[0m\u001b[0m\n\u001b[1;32m-> 1178\u001b[1;33m                                          startupinfo)\n\u001b[0m\u001b[0;32m   1179\u001b[0m             \u001b[1;32mfinally\u001b[0m\u001b[1;33m:\u001b[0m\u001b[1;33m\u001b[0m\u001b[1;33m\u001b[0m\u001b[0m\n",
      "\u001b[1;31mFileNotFoundError\u001b[0m: [WinError 2] 지정된 파일을 찾을 수 없습니다",
      "\nDuring handling of the above exception, another exception occurred:\n",
      "\u001b[1;31mExecutableNotFound\u001b[0m                        Traceback (most recent call last)",
      "\u001b[1;32m<ipython-input-323-a76431b240ed>\u001b[0m in \u001b[0;36m<module>\u001b[1;34m\u001b[0m\n\u001b[1;32m----> 1\u001b[1;33m \u001b[0mxgb\u001b[0m\u001b[1;33m.\u001b[0m\u001b[0mplot_tree\u001b[0m\u001b[1;33m(\u001b[0m\u001b[0mxg_reg\u001b[0m\u001b[1;33m,\u001b[0m\u001b[0mnum_trees\u001b[0m\u001b[1;33m=\u001b[0m\u001b[1;36m0\u001b[0m\u001b[1;33m)\u001b[0m\u001b[1;33m\u001b[0m\u001b[1;33m\u001b[0m\u001b[0m\n\u001b[0m\u001b[0;32m      2\u001b[0m \u001b[0mplt\u001b[0m\u001b[1;33m.\u001b[0m\u001b[0mrcParams\u001b[0m\u001b[1;33m[\u001b[0m\u001b[1;34m'figure.figsize'\u001b[0m\u001b[1;33m]\u001b[0m \u001b[1;33m=\u001b[0m\u001b[1;33m[\u001b[0m\u001b[1;36m300\u001b[0m\u001b[1;33m,\u001b[0m\u001b[1;36m100\u001b[0m\u001b[1;33m]\u001b[0m\u001b[1;33m\u001b[0m\u001b[1;33m\u001b[0m\u001b[0m\n\u001b[0;32m      3\u001b[0m \u001b[0mplt\u001b[0m\u001b[1;33m.\u001b[0m\u001b[0mshow\u001b[0m\u001b[1;33m(\u001b[0m\u001b[1;33m)\u001b[0m\u001b[1;33m\u001b[0m\u001b[1;33m\u001b[0m\u001b[0m\n",
      "\u001b[1;32m~\\Anaconda3\\lib\\site-packages\\xgboost\\plotting.py\u001b[0m in \u001b[0;36mplot_tree\u001b[1;34m(booster, fmap, num_trees, rankdir, ax, **kwargs)\u001b[0m\n\u001b[0;32m    279\u001b[0m \u001b[1;33m\u001b[0m\u001b[0m\n\u001b[0;32m    280\u001b[0m     \u001b[0ms\u001b[0m \u001b[1;33m=\u001b[0m \u001b[0mBytesIO\u001b[0m\u001b[1;33m(\u001b[0m\u001b[1;33m)\u001b[0m\u001b[1;33m\u001b[0m\u001b[1;33m\u001b[0m\u001b[0m\n\u001b[1;32m--> 281\u001b[1;33m     \u001b[0ms\u001b[0m\u001b[1;33m.\u001b[0m\u001b[0mwrite\u001b[0m\u001b[1;33m(\u001b[0m\u001b[0mg\u001b[0m\u001b[1;33m.\u001b[0m\u001b[0mpipe\u001b[0m\u001b[1;33m(\u001b[0m\u001b[0mformat\u001b[0m\u001b[1;33m=\u001b[0m\u001b[1;34m'png'\u001b[0m\u001b[1;33m)\u001b[0m\u001b[1;33m)\u001b[0m\u001b[1;33m\u001b[0m\u001b[1;33m\u001b[0m\u001b[0m\n\u001b[0m\u001b[0;32m    282\u001b[0m     \u001b[0ms\u001b[0m\u001b[1;33m.\u001b[0m\u001b[0mseek\u001b[0m\u001b[1;33m(\u001b[0m\u001b[1;36m0\u001b[0m\u001b[1;33m)\u001b[0m\u001b[1;33m\u001b[0m\u001b[1;33m\u001b[0m\u001b[0m\n\u001b[0;32m    283\u001b[0m     \u001b[0mimg\u001b[0m \u001b[1;33m=\u001b[0m \u001b[0mimage\u001b[0m\u001b[1;33m.\u001b[0m\u001b[0mimread\u001b[0m\u001b[1;33m(\u001b[0m\u001b[0ms\u001b[0m\u001b[1;33m)\u001b[0m\u001b[1;33m\u001b[0m\u001b[1;33m\u001b[0m\u001b[0m\n",
      "\u001b[1;32m~\\Anaconda3\\lib\\site-packages\\graphviz\\files.py\u001b[0m in \u001b[0;36mpipe\u001b[1;34m(self, format, renderer, formatter, quiet)\u001b[0m\n\u001b[0;32m    136\u001b[0m         out = backend.pipe(self._engine, format, data,\n\u001b[0;32m    137\u001b[0m                            \u001b[0mrenderer\u001b[0m\u001b[1;33m=\u001b[0m\u001b[0mrenderer\u001b[0m\u001b[1;33m,\u001b[0m \u001b[0mformatter\u001b[0m\u001b[1;33m=\u001b[0m\u001b[0mformatter\u001b[0m\u001b[1;33m,\u001b[0m\u001b[1;33m\u001b[0m\u001b[1;33m\u001b[0m\u001b[0m\n\u001b[1;32m--> 138\u001b[1;33m                            quiet=quiet)\n\u001b[0m\u001b[0;32m    139\u001b[0m \u001b[1;33m\u001b[0m\u001b[0m\n\u001b[0;32m    140\u001b[0m         \u001b[1;32mreturn\u001b[0m \u001b[0mout\u001b[0m\u001b[1;33m\u001b[0m\u001b[1;33m\u001b[0m\u001b[0m\n",
      "\u001b[1;32m~\\Anaconda3\\lib\\site-packages\\graphviz\\backend.py\u001b[0m in \u001b[0;36mpipe\u001b[1;34m(engine, format, data, renderer, formatter, quiet)\u001b[0m\n\u001b[0;32m    227\u001b[0m     \"\"\"\n\u001b[0;32m    228\u001b[0m     \u001b[0mcmd\u001b[0m\u001b[1;33m,\u001b[0m \u001b[0m_\u001b[0m \u001b[1;33m=\u001b[0m \u001b[0mcommand\u001b[0m\u001b[1;33m(\u001b[0m\u001b[0mengine\u001b[0m\u001b[1;33m,\u001b[0m \u001b[0mformat\u001b[0m\u001b[1;33m,\u001b[0m \u001b[1;32mNone\u001b[0m\u001b[1;33m,\u001b[0m \u001b[0mrenderer\u001b[0m\u001b[1;33m,\u001b[0m \u001b[0mformatter\u001b[0m\u001b[1;33m)\u001b[0m\u001b[1;33m\u001b[0m\u001b[1;33m\u001b[0m\u001b[0m\n\u001b[1;32m--> 229\u001b[1;33m     \u001b[0mout\u001b[0m\u001b[1;33m,\u001b[0m \u001b[0m_\u001b[0m \u001b[1;33m=\u001b[0m \u001b[0mrun\u001b[0m\u001b[1;33m(\u001b[0m\u001b[0mcmd\u001b[0m\u001b[1;33m,\u001b[0m \u001b[0minput\u001b[0m\u001b[1;33m=\u001b[0m\u001b[0mdata\u001b[0m\u001b[1;33m,\u001b[0m \u001b[0mcapture_output\u001b[0m\u001b[1;33m=\u001b[0m\u001b[1;32mTrue\u001b[0m\u001b[1;33m,\u001b[0m \u001b[0mcheck\u001b[0m\u001b[1;33m=\u001b[0m\u001b[1;32mTrue\u001b[0m\u001b[1;33m,\u001b[0m \u001b[0mquiet\u001b[0m\u001b[1;33m=\u001b[0m\u001b[0mquiet\u001b[0m\u001b[1;33m)\u001b[0m\u001b[1;33m\u001b[0m\u001b[1;33m\u001b[0m\u001b[0m\n\u001b[0m\u001b[0;32m    230\u001b[0m     \u001b[1;32mreturn\u001b[0m \u001b[0mout\u001b[0m\u001b[1;33m\u001b[0m\u001b[1;33m\u001b[0m\u001b[0m\n\u001b[0;32m    231\u001b[0m \u001b[1;33m\u001b[0m\u001b[0m\n",
      "\u001b[1;32m~\\Anaconda3\\lib\\site-packages\\graphviz\\backend.py\u001b[0m in \u001b[0;36mrun\u001b[1;34m(cmd, input, capture_output, check, quiet, **kwargs)\u001b[0m\n\u001b[0;32m    160\u001b[0m     \u001b[1;32mexcept\u001b[0m \u001b[0mOSError\u001b[0m \u001b[1;32mas\u001b[0m \u001b[0me\u001b[0m\u001b[1;33m:\u001b[0m\u001b[1;33m\u001b[0m\u001b[1;33m\u001b[0m\u001b[0m\n\u001b[0;32m    161\u001b[0m         \u001b[1;32mif\u001b[0m \u001b[0me\u001b[0m\u001b[1;33m.\u001b[0m\u001b[0merrno\u001b[0m \u001b[1;33m==\u001b[0m \u001b[0merrno\u001b[0m\u001b[1;33m.\u001b[0m\u001b[0mENOENT\u001b[0m\u001b[1;33m:\u001b[0m\u001b[1;33m\u001b[0m\u001b[1;33m\u001b[0m\u001b[0m\n\u001b[1;32m--> 162\u001b[1;33m             \u001b[1;32mraise\u001b[0m \u001b[0mExecutableNotFound\u001b[0m\u001b[1;33m(\u001b[0m\u001b[0mcmd\u001b[0m\u001b[1;33m)\u001b[0m\u001b[1;33m\u001b[0m\u001b[1;33m\u001b[0m\u001b[0m\n\u001b[0m\u001b[0;32m    163\u001b[0m         \u001b[1;32melse\u001b[0m\u001b[1;33m:\u001b[0m\u001b[1;33m\u001b[0m\u001b[1;33m\u001b[0m\u001b[0m\n\u001b[0;32m    164\u001b[0m             \u001b[1;32mraise\u001b[0m\u001b[1;33m\u001b[0m\u001b[1;33m\u001b[0m\u001b[0m\n",
      "\u001b[1;31mExecutableNotFound\u001b[0m: failed to execute ['dot', '-Tpng'], make sure the Graphviz executables are on your systems' PATH"
     ]
    },
    {
     "data": {
      "image/png": "[encoded data removed]",
      "text/plain": [
       "<Figure size 432x288 with 1 Axes>"
      ]
     },
     "metadata": {
      "needs_background": "light"
     },
     "output_type": "display_data"
    }
   ],
   "source": [
    "xgb.plot_tree(xg_reg,num_trees=0)\n",
    "plt.rcParams['figure.figsize'] =[300,100]\n",
    "plt.show()"
   ]
  },
  {
   "cell_type": "code",
   "execution_count": 337,
   "metadata": {},
   "outputs": [
    {
     "name": "stdout",
     "output_type": "stream",
     "text": [
      "XGBClassifier(base_score=0.5, booster='gbtree', colsample_bylevel=1,\n",
      "              colsample_bynode=1, colsample_bytree=1, gamma=0,\n",
      "              learning_rate=0.1, max_delta_step=0, max_depth=3,\n",
      "              min_child_weight=1, missing=None, n_estimators=100, n_jobs=1,\n",
      "              nthread=None, objective='binary:logistic', random_state=0,\n",
      "              reg_alpha=0, reg_lambda=1, scale_pos_weight=1, seed=None,\n",
      "              silent=None, subsample=1, verbosity=1)\n"
     ]
    }
   ],
   "source": [
    "from numpy import loadtxt\n",
    "from xgboost import XGBClassifier\n",
    "from sklearn.metrics import accuracy_score\n",
    "dataset = loadtxt('pima.data', delimiter=\",\") \n",
    "x = dataset[:, 0:8]\n",
    "y = dataset[:,8]\n",
    "seed = 7\n",
    "test_size = 0.33\n",
    "x_train, x_test, y_train, y_test = train_test_split(x, y, test_size = test_size, random_state=seed)\n",
    "model = XGBClassifier()\n",
    "model.fit(x_train, y_train)\n",
    "print(model)"
   ]
  },
  {
   "cell_type": "code",
   "execution_count": 338,
   "metadata": {},
   "outputs": [
    {
     "data": {
      "image/png": "[encoded data removed]",
      "text/plain": [
       "<Figure size 432x288 with 1 Axes>"
      ]
     },
     "metadata": {
      "needs_background": "light"
     },
     "output_type": "display_data"
    }
   ],
   "source": [
    "from xgboost import plot_importance\n",
    "from matplotlib import pyplot\n",
    "plot_importance(model)\n",
    "plt.rcParams['figure.figsize'] = [50,20]\n",
    "plt.show()\n",
    "pyplot.show()"
   ]
  },
  {
   "cell_type": "code",
   "execution_count": 345,
   "metadata": {},
   "outputs": [
    {
     "name": "stdout",
     "output_type": "stream",
     "text": [
      "[0. 1. 1. 0. 1. 1. 0. 0. 1. 0. 1. 0. 1. 1. 0. 0. 0. 1. 0. 0. 0. 0. 1. 1.\n",
      " 0. 0. 0. 0. 0. 1. 1. 0. 0. 0. 0. 1. 1. 0. 1. 0. 1. 1. 1. 0. 0. 0. 1. 0.\n",
      " 0. 1. 0. 0. 0. 0. 0. 0. 0. 0. 0. 0. 0. 0. 0. 1. 1. 1. 0. 1. 1. 1. 1. 1.\n",
      " 0. 0. 0. 0. 0. 0. 0. 0. 0. 0. 0. 0. 0. 0. 1. 0. 1. 0. 1. 0. 1. 0. 0. 1.\n",
      " 1. 0. 1. 0. 1. 0. 0. 0. 0. 1. 0. 0. 0. 1. 0. 1. 0. 0. 1. 1. 0. 0. 0. 1.\n",
      " 0. 0. 0. 0. 0. 1. 0. 0. 0. 0. 0. 1. 0. 0. 0. 0. 0. 0. 0. 1. 0. 1. 0. 0.\n",
      " 0. 0. 0. 0. 1. 0. 0. 1. 0. 0. 0. 0. 1. 0. 1. 0. 0. 0. 0. 0. 1. 0. 1. 0.\n",
      " 0. 1. 0. 1. 0. 0. 1. 0. 1. 0. 1. 0. 1. 0. 0. 0. 0. 0. 0. 0. 0. 1. 1. 0.\n",
      " 1. 1. 0. 0. 1. 0. 0. 1. 0. 1. 1. 1. 0. 0. 1. 0. 0. 0. 1. 1. 0. 1. 0. 0.\n",
      " 0. 1. 0. 0. 0. 0. 1. 0. 1. 1. 1. 1. 1. 0. 0. 1. 0. 0. 0. 0. 0. 1. 0. 0.\n",
      " 1. 1. 0. 0. 1. 0. 1. 0. 0. 0. 0. 1. 1. 1.]\n"
     ]
    }
   ],
   "source": [
    "y_pred = model.predict(x_test)\n",
    "print(y_pred)"
   ]
  },
  {
   "cell_type": "code",
   "execution_count": 346,
   "metadata": {},
   "outputs": [
    {
     "name": "stdout",
     "output_type": "stream",
     "text": [
      "정확도 : 77.95%\n"
     ]
    }
   ],
   "source": [
    "accuracy = accuracy_score(y_test, y_pred)\n",
    "print(\"정확도 : %.2f%%\" %(accuracy * 100.0))"
   ]
  },
  {
   "cell_type": "code",
   "execution_count": 347,
   "metadata": {},
   "outputs": [],
   "source": [
    "from sklearn.feature_selection import SelectFromModel\n",
    "thresholds = np.sort(model.feature_importances_) # 오름차순"
   ]
  },
  {
   "cell_type": "code",
   "execution_count": 348,
   "metadata": {},
   "outputs": [
    {
     "name": "stdout",
     "output_type": "stream",
     "text": [
      "Thresh = 0.078, n=8, Accuracy : 77.95%\n",
      "Thresh = 0.080, n=7, Accuracy : 76.38%\n",
      "Thresh = 0.085, n=6, Accuracy : 77.56%\n",
      "Thresh = 0.095, n=5, Accuracy : 76.38%\n",
      "Thresh = 0.102, n=4, Accuracy : 76.38%\n",
      "Thresh = 0.109, n=3, Accuracy : 74.80%\n",
      "Thresh = 0.160, n=2, Accuracy : 75.98%\n",
      "Thresh = 0.292, n=1, Accuracy : 70.08%\n"
     ]
    }
   ],
   "source": [
    "for thresh in thresholds : # 경계선\n",
    "    selection = SelectFromModel(model, threshold = thresh, prefit = True)\n",
    "    select_x_train = selection.transform(x_train)\n",
    "    # 경계선이하의 중요성을 가진 변수 제거\n",
    "    selection_model = XGBClassifier()\n",
    "    selection_model.fit(select_x_train, y_train)\n",
    "    select_x_test = selection.transform(x_test) # 테스트용데이터 변수\n",
    "    y_pred = selection_model.predict(select_x_test)\n",
    "    predictions = [round(value) for value in y_pred]\n",
    "    accuracy = accuracy_score(y_test, predictions)\n",
    "    print(\"Thresh = %.3f, n=%d, Accuracy : %.2f%%\" %(thresh, select_x_train.shape[1], accuracy*100.0))"
   ]
  },
  {
   "cell_type": "code",
   "execution_count": 354,
   "metadata": {},
   "outputs": [
    {
     "name": "stdout",
     "output_type": "stream",
     "text": [
      "Accuracy : 77.95%\n"
     ]
    }
   ],
   "source": [
    "import pickle # 메모리의 내용을 그대로 저장\n",
    "pickle.dump(model, open('pima.pickle.dat', 'wb'))\n",
    "loaded_model = pickle.load(open('pima.pickle.dat', 'rb')) # binary\n",
    "y_pred = loaded_model.predict(x_test)\n",
    "predictions = [round(value) for value in y_pred]\n",
    "accuracy = accuracy_score(y_test, predictions)\n",
    "print(\"Accuracy : %.2f%%\" %(accuracy*100.0))"
   ]
  },
  {
   "cell_type": "code",
   "execution_count": null,
   "metadata": {},
   "outputs": [],
   "source": [
    "# pipeline : 전처리->model 연결\n",
    "#  - 전처리하기 전에 test 데이터와 훈련 데이터 분리\n",
    "#  - 매개변수에 값 설정하는 방식 : 이름__parameter명 = 값\n",
    "#\n",
    "# GridSearchCV : parameter tunning => parameter의 조합을 만들어 test\n",
    "#\n",
    "# Decision Tree\n",
    "#  - Regressor\n",
    "#  - Classifier\n",
    "#\n",
    "# Random Forest\n",
    "#\n",
    "# XGBoost : DMatrix(전용행렬)만드는 방법과 model을 직접 호출하는 방법 두가지 존재\n",
    "#  - Regressor\n",
    "#  - Classifier\n",
    "#\n",
    "# Tree계열은 1)시각화 2)변수중요도가 출력된다.(*변수중요도는 Decision Tree만 빼고)\n",
    "#\n",
    "# PreProccessing\n",
    "#  - 정규화\n",
    "#    1) scale : Z점수\n",
    "#    2) robust_scale 평균 : median(위치적 중위수) / IQR\n",
    "#    3) minmax_scale : 0 ~ 1\n",
    "#    4) maxabs_scale\n",
    "#\n",
    "# 평가\n",
    "#  - 분류 : confusion_matrix\n",
    "#  - 예측 : MSE, RMSE"
   ]
  }
 ],
 "metadata": {
  "kernelspec": {
   "display_name": "Python 3",
   "language": "python",
   "name": "python3"
  },
  "language_info": {
   "codemirror_mode": {
    "name": "ipython",
    "version": 3
   },
   "file_extension": ".py",
   "mimetype": "text/x-python",
   "name": "python",
   "nbconvert_exporter": "python",
   "pygments_lexer": "ipython3",
   "version": "3.7.4"
  }
 },
 "nbformat": 4,
 "nbformat_minor": 2
}
