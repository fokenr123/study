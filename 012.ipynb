{
 "cells": [
  {
   "cell_type": "code",
   "execution_count": 1,
   "metadata": {},
   "outputs": [
    {
     "name": "stderr",
     "output_type": "stream",
     "text": [
      "C:\\Users\\ICT01_04\\Anaconda3\\envs\\tf_test\\lib\\site-packages\\tensorflow\\python\\framework\\dtypes.py:516: FutureWarning: Passing (type, 1) or '1type' as a synonym of type is deprecated; in a future version of numpy, it will be understood as (type, (1,)) / '(1,)type'.\n",
      "  _np_qint8 = np.dtype([(\"qint8\", np.int8, 1)])\n",
      "C:\\Users\\ICT01_04\\Anaconda3\\envs\\tf_test\\lib\\site-packages\\tensorflow\\python\\framework\\dtypes.py:517: FutureWarning: Passing (type, 1) or '1type' as a synonym of type is deprecated; in a future version of numpy, it will be understood as (type, (1,)) / '(1,)type'.\n",
      "  _np_quint8 = np.dtype([(\"quint8\", np.uint8, 1)])\n",
      "C:\\Users\\ICT01_04\\Anaconda3\\envs\\tf_test\\lib\\site-packages\\tensorflow\\python\\framework\\dtypes.py:518: FutureWarning: Passing (type, 1) or '1type' as a synonym of type is deprecated; in a future version of numpy, it will be understood as (type, (1,)) / '(1,)type'.\n",
      "  _np_qint16 = np.dtype([(\"qint16\", np.int16, 1)])\n",
      "C:\\Users\\ICT01_04\\Anaconda3\\envs\\tf_test\\lib\\site-packages\\tensorflow\\python\\framework\\dtypes.py:519: FutureWarning: Passing (type, 1) or '1type' as a synonym of type is deprecated; in a future version of numpy, it will be understood as (type, (1,)) / '(1,)type'.\n",
      "  _np_quint16 = np.dtype([(\"quint16\", np.uint16, 1)])\n",
      "C:\\Users\\ICT01_04\\Anaconda3\\envs\\tf_test\\lib\\site-packages\\tensorflow\\python\\framework\\dtypes.py:520: FutureWarning: Passing (type, 1) or '1type' as a synonym of type is deprecated; in a future version of numpy, it will be understood as (type, (1,)) / '(1,)type'.\n",
      "  _np_qint32 = np.dtype([(\"qint32\", np.int32, 1)])\n",
      "C:\\Users\\ICT01_04\\Anaconda3\\envs\\tf_test\\lib\\site-packages\\tensorflow\\python\\framework\\dtypes.py:525: FutureWarning: Passing (type, 1) or '1type' as a synonym of type is deprecated; in a future version of numpy, it will be understood as (type, (1,)) / '(1,)type'.\n",
      "  np_resource = np.dtype([(\"resource\", np.ubyte, 1)])\n"
     ]
    },
    {
     "name": "stdout",
     "output_type": "stream",
     "text": [
      "1.14.0\n"
     ]
    },
    {
     "name": "stderr",
     "output_type": "stream",
     "text": [
      "C:\\Users\\ICT01_04\\Anaconda3\\envs\\tf_test\\lib\\site-packages\\tensorboard\\compat\\tensorflow_stub\\dtypes.py:541: FutureWarning: Passing (type, 1) or '1type' as a synonym of type is deprecated; in a future version of numpy, it will be understood as (type, (1,)) / '(1,)type'.\n",
      "  _np_qint8 = np.dtype([(\"qint8\", np.int8, 1)])\n",
      "C:\\Users\\ICT01_04\\Anaconda3\\envs\\tf_test\\lib\\site-packages\\tensorboard\\compat\\tensorflow_stub\\dtypes.py:542: FutureWarning: Passing (type, 1) or '1type' as a synonym of type is deprecated; in a future version of numpy, it will be understood as (type, (1,)) / '(1,)type'.\n",
      "  _np_quint8 = np.dtype([(\"quint8\", np.uint8, 1)])\n",
      "C:\\Users\\ICT01_04\\Anaconda3\\envs\\tf_test\\lib\\site-packages\\tensorboard\\compat\\tensorflow_stub\\dtypes.py:543: FutureWarning: Passing (type, 1) or '1type' as a synonym of type is deprecated; in a future version of numpy, it will be understood as (type, (1,)) / '(1,)type'.\n",
      "  _np_qint16 = np.dtype([(\"qint16\", np.int16, 1)])\n",
      "C:\\Users\\ICT01_04\\Anaconda3\\envs\\tf_test\\lib\\site-packages\\tensorboard\\compat\\tensorflow_stub\\dtypes.py:544: FutureWarning: Passing (type, 1) or '1type' as a synonym of type is deprecated; in a future version of numpy, it will be understood as (type, (1,)) / '(1,)type'.\n",
      "  _np_quint16 = np.dtype([(\"quint16\", np.uint16, 1)])\n",
      "C:\\Users\\ICT01_04\\Anaconda3\\envs\\tf_test\\lib\\site-packages\\tensorboard\\compat\\tensorflow_stub\\dtypes.py:545: FutureWarning: Passing (type, 1) or '1type' as a synonym of type is deprecated; in a future version of numpy, it will be understood as (type, (1,)) / '(1,)type'.\n",
      "  _np_qint32 = np.dtype([(\"qint32\", np.int32, 1)])\n",
      "C:\\Users\\ICT01_04\\Anaconda3\\envs\\tf_test\\lib\\site-packages\\tensorboard\\compat\\tensorflow_stub\\dtypes.py:550: FutureWarning: Passing (type, 1) or '1type' as a synonym of type is deprecated; in a future version of numpy, it will be understood as (type, (1,)) / '(1,)type'.\n",
      "  np_resource = np.dtype([(\"resource\", np.ubyte, 1)])\n"
     ]
    }
   ],
   "source": [
    "import tensorflow as tf\n",
    "print(tf.__version__)"
   ]
  },
  {
   "cell_type": "code",
   "execution_count": 2,
   "metadata": {},
   "outputs": [
    {
     "name": "stdout",
     "output_type": "stream",
     "text": [
      "b'hello .tensorFlow'\n",
      "Tensor(\"Const:0\", shape=(), dtype=string)\n"
     ]
    }
   ],
   "source": [
    "# 데이터 타입\n",
    "import tensorflow as tf\n",
    "hello = tf.constant('hello .tensorFlow') # 텐서플로우 상수 생성\n",
    "# 상수 (constant) , 변수 (Variable) , 심볼릭변수(placeholder)\n",
    "sess = tf.Session()\n",
    "# value 를 출력하려면 아래와 같이 세션 생성 후 run해야함 \n",
    "print(sess.run(hello)) # numpy 데이터로 변경 \n",
    "print(hello)# tensorflow 의 데이터는 직접 확인 불가 "
   ]
  },
  {
   "cell_type": "markdown",
   "metadata": {},
   "source": [
    "# 텐서플로우\n",
    "- 자료구조 \n",
    " 상수 , 변수 , 심볼릭변수 \n",
    " \n",
    "- 변수\n",
    "변수 초기화 : 변수는 초기화하지 않으면 사용할수 없다 반드시 .initialization\\\n",
    "\n",
    "- 심볼릭 변수\\\n",
    "실행시에 데이터를 제공하는 방법으로 실제 딥러닝 모델 구축시 많이 사용된다 \n",
    "sess.run 에서 feed_dict에 dictionary 형식으로 값을 넣어주고 이를 feeding 이라고 한다 "
   ]
  },
  {
   "cell_type": "code",
   "execution_count": 4,
   "metadata": {},
   "outputs": [
    {
     "name": "stdout",
     "output_type": "stream",
     "text": [
      "<tf.Variable 'y_1:0' shape=() dtype=int32_ref>\n"
     ]
    }
   ],
   "source": [
    "# variable \n",
    "x = tf.constant(35, name = 'x') \n",
    "# 모델의 그래프 구조 확인\n",
    "# 모델을 그대로 저장(가중치)할 때 메모리 위치를 확인하기 위해서\n",
    "y = tf.Variable(x + 5 , name = 'y') # 변수가 있는 경우 - 반드시 초기화 해야함\n",
    "print(y)"
   ]
  },
  {
   "cell_type": "code",
   "execution_count": 8,
   "metadata": {},
   "outputs": [
    {
     "name": "stdout",
     "output_type": "stream",
     "text": [
      "40\n"
     ]
    }
   ],
   "source": [
    "model = tf.global_variables_initializer() # 변수 초기화를 시켜줘야함 \n",
    "with tf.Session() as session:\n",
    "    session.run(model)\n",
    "    print( session.run(y))"
   ]
  },
  {
   "cell_type": "code",
   "execution_count": 11,
   "metadata": {},
   "outputs": [
    {
     "name": "stdout",
     "output_type": "stream",
     "text": [
      "[5 7 9]\n"
     ]
    }
   ],
   "source": [
    "# 판다스 에서 데이터 초기화 (list , dict) # 요소끼리 계산 (배열 연산 )\n",
    "a = tf.constant([1,2,3], name = 'a') # GPU 공간\n",
    "b = tf.constant([4,5,6], name = 'b')\n",
    "add_op = a + b\n",
    "\n",
    "with tf.Session() as session:\n",
    "    print(session.run(add_op))"
   ]
  },
  {
   "cell_type": "code",
   "execution_count": 13,
   "metadata": {},
   "outputs": [],
   "source": [
    "# 자료구조 : graph로 구성 - 골격 (구조) 형성 \n",
    "a = tf.placeholder(tf.int16)\n",
    "b = tf.placeholder(tf.int16)\n",
    "add =tf.add(a,b)\n",
    "mul = tf.multiply(a,b)\n",
    "total = tf.multiply(add, mul)"
   ]
  },
  {
   "cell_type": "code",
   "execution_count": 18,
   "metadata": {},
   "outputs": [
    {
     "name": "stdout",
     "output_type": "stream",
     "text": [
      "feed 변수곱 합: 30\n"
     ]
    }
   ],
   "source": [
    "with tf.Session() as session:\n",
    "#    print(\"feed 변수 합: %i\" % sess.run(add,\n",
    "#                                    feed_dict={a:2,b:3}))\n",
    "#    print(\"feed 변수곱: %i\" % sess.run(mul,\n",
    "#                                    feed_dict={a:2,b:3}))\n",
    "    print(\"feed 변수곱 합: %i\" % sess.run(total,\n",
    "                                    feed_dict={a:2,b:3}))"
   ]
  },
  {
   "cell_type": "code",
   "execution_count": 20,
   "metadata": {},
   "outputs": [
    {
     "name": "stdout",
     "output_type": "stream",
     "text": [
      "[[12.]]\n"
     ]
    }
   ],
   "source": [
    "matrix1 = tf.constant([[3.,3.]]) # 1 x 2 \n",
    "matrix2 = tf.constant([[2.],[2.]]) #  2 x 1 = > 1 x 1 \n",
    "product = tf.matmul(matrix1, matrix2) # matric multiply\n",
    "with tf.Session() as sess: # 실행부 \n",
    "    result = sess.run(product) \n",
    "    print(result)"
   ]
  },
  {
   "cell_type": "code",
   "execution_count": 24,
   "metadata": {},
   "outputs": [],
   "source": [
    "zeros = tf.zeros([2,2]) # 0\n",
    "ones =tf.ones([6]) # 1\n",
    "# 균등분포\n",
    "uniform = tf.random_uniform([3,3,3], minval=0.0, maxval = 10)\n",
    "# 정규분포\n",
    "normal = tf.random_normal([3,3,3], mean = 0.0 , stddev = 2.0)\n",
    "# 표준편차 2배내의 것으로 초기화\n",
    "trunc =tf.truncated_normal([2,2] , mean = 5.0 ,stddev = 1.0)\n",
    "random_var = tf.Variable(tf.truncated_normal([2,2]))"
   ]
  },
  {
   "cell_type": "code",
   "execution_count": 35,
   "metadata": {},
   "outputs": [
    {
     "name": "stdout",
     "output_type": "stream",
     "text": [
      "[[4.920932 3.510498]\n",
      " [5.028556 6.578892]]\n",
      "변수초기화 [[ 0.01879157 -0.52334565]\n",
      " [-0.4839992   0.84911186]]\n"
     ]
    }
   ],
   "source": [
    "init = tf.global_variables_initializer()\n",
    "sess = tf.Session()\n",
    "sess.run(init)\n",
    "print(sess.run(trunc))\n",
    "print(\"변수초기화\", sess.run(random_var))"
   ]
  },
  {
   "cell_type": "code",
   "execution_count": 37,
   "metadata": {},
   "outputs": [
    {
     "name": "stdout",
     "output_type": "stream",
     "text": [
      "<class 'tensorflow.python.framework.tensor_shape.TensorShape'>\n",
      "(6, 2)\n"
     ]
    }
   ],
   "source": [
    "import tensorflow as tf\n",
    "my_tensor = tf.constant(0, shape = [6,2]) # 6 x 2  => 상수화 \n",
    "my_static_shape = my_tensor.get_shape()\n",
    "print(type(my_static_shape)) # class\n",
    "print(my_static_shape) # 내용은 run 으로  차수는 get_shape 함수"
   ]
  },
  {
   "cell_type": "code",
   "execution_count": 63,
   "metadata": {},
   "outputs": [
    {
     "name": "stdout",
     "output_type": "stream",
     "text": [
      "[0. 0.]\n"
     ]
    }
   ],
   "source": [
    "import tensorflow as tf\n",
    "tf.InteractiveSession()\n",
    "tf.zeros(2)\n",
    "a = tf.zeros(2)\n",
    "print(a.eval())"
   ]
  },
  {
   "cell_type": "code",
   "execution_count": 68,
   "metadata": {},
   "outputs": [],
   "source": [
    "def showvalue(t):\n",
    "    sess = tf.InteractiveSession()\n",
    "    tf.global_variables_initializer().run()\n",
    "    print(t.eval())\n",
    "    sess.close()"
   ]
  },
  {
   "cell_type": "code",
   "execution_count": 69,
   "metadata": {},
   "outputs": [
    {
     "name": "stdout",
     "output_type": "stream",
     "text": [
      "[ 3.5 10.1]\n",
      "[-8  5 17]\n"
     ]
    }
   ],
   "source": [
    "c2 ,c3 = tf.constant([1.2,5.6]), tf.constant([-4,-1,7])\n",
    "v2 ,v3 = tf.Variable([2.3, 4.5]), tf.Variable([-2,3,5])\n",
    "showvalue(tf.add_n([c2,v2]))\n",
    "showvalue(tf.add_n([c3,v3,v3]))"
   ]
  },
  {
   "cell_type": "code",
   "execution_count": null,
   "metadata": {},
   "outputs": [],
   "source": [
    "# 2x + y + z = 1\n",
    "# 4x + 3y + 4z =2\n",
    "# -4x + 2y + 2z = -6"
   ]
  },
  {
   "cell_type": "code",
   "execution_count": 66,
   "metadata": {},
   "outputs": [
    {
     "name": "stdout",
     "output_type": "stream",
     "text": [
      "[[ 2.  1.  1.]\n",
      " [ 4.  3.  4.]\n",
      " [-4.  2.  2.]]\n",
      "[[ 1.]\n",
      " [ 2.]\n",
      " [-6.]]\n"
     ]
    }
   ],
   "source": [
    "sess =tf.Session()\n",
    "x= tf.constant([2.0,1.0,1.0 ,4,3,4, -4,2,2], shape = [3,3])\n",
    "print(sess.run(x))\n",
    "y =tf.constant([1.0,2,-6],shape=[3,1])\n",
    "print(sess.run(y))"
   ]
  },
  {
   "cell_type": "code",
   "execution_count": 70,
   "metadata": {},
   "outputs": [
    {
     "name": "stdout",
     "output_type": "stream",
     "text": [
      "계수 [[ 1.0000001]\n",
      " [-2.0000002]\n",
      " [ 1.0000001]]\n",
      "[[ 1.0000001]\n",
      " [-2.0000002]\n",
      " [ 1.0000001]]\n"
     ]
    }
   ],
   "source": [
    "z = tf.matrix_solve(x,y)\n",
    "result = sess.run(z)\n",
    "print(\"계수\" , result)\n",
    "print(sess.run(z))"
   ]
  },
  {
   "cell_type": "code",
   "execution_count": 74,
   "metadata": {},
   "outputs": [
    {
     "name": "stdout",
     "output_type": "stream",
     "text": [
      "[1.0000001]\n",
      "[[ 1.0000001]\n",
      " [ 2.       ]\n",
      " [-6.000001 ]]\n"
     ]
    }
   ],
   "source": [
    "print(2.0 * result[0] + 1.0 * result[1] + 1.0 * result[2])\n",
    "######################### x * z \n",
    "print(sess.run(tf.matmul(x,z)))"
   ]
  },
  {
   "cell_type": "code",
   "execution_count": 78,
   "metadata": {},
   "outputs": [
    {
     "data": {
      "text/plain": [
       "array([[ 1.0000002],\n",
       "       [-2.0000005],\n",
       "       [ 1.0000002]], dtype=float32)"
      ]
     },
     "execution_count": 78,
     "metadata": {},
     "output_type": "execute_result"
    }
   ],
   "source": [
    "# z = tf.matrix_solver(x,y) == \n",
    "x_1 = tf.matrix_inverse(x)\n",
    "z = tf.matmul(x_1,y)\n",
    "sess.run(z)"
   ]
  },
  {
   "cell_type": "code",
   "execution_count": 84,
   "metadata": {},
   "outputs": [
    {
     "name": "stdout",
     "output_type": "stream",
     "text": [
      "2 [9.508034   0.77286935]\n",
      "3 [[-0.38631773 -0.92236584]\n",
      " [-0.92236584  0.38631773]]\n",
      "4 [[-0.42866713  0.8059641 ]\n",
      " [-0.56630695  0.1123824 ]\n",
      " [-0.70394677 -0.58119917]]\n"
     ]
    }
   ],
   "source": [
    "# 특이행렬분해 (singular value decomposition) # 행, 열 에 값이 다를때 (2 x 3)\n",
    "# pca 할 때 - 고유값 분해 eigenvalue , eigenvector : 정방행렬\n",
    "a = tf.constant([1,2,3,4,5,6], shape= [2,3])\n",
    "a = tf.to_float(a)\n",
    "# 행과 열의 특징을 별도로 뽑는다\n",
    "# 정방행렬\n",
    "# truncate : \n",
    "s ,u ,v = tf.svd(a) # singula value , u(2x2),s(1X2),v(3X2)\n",
    "print(\"2\",sess.run(s))\n",
    "print(\"3\",sess.run(u))\n",
    "print(\"4\",sess.run(v))"
   ]
  },
  {
   "cell_type": "code",
   "execution_count": 85,
   "metadata": {},
   "outputs": [
    {
     "name": "stdout",
     "output_type": "stream",
     "text": [
      "[[1 0 0 0]\n",
      " [0 2 0 0]\n",
      " [0 0 3 0]\n",
      " [0 0 0 4]]\n"
     ]
    }
   ],
   "source": [
    "diagonal = [1,2,3,4]\n",
    "dia = tf.diag(diagonal) # 대각행렬 - one - hot - encoding \n",
    "print(sess.run(dia))"
   ]
  },
  {
   "cell_type": "code",
   "execution_count": 87,
   "metadata": {},
   "outputs": [
    {
     "name": "stdout",
     "output_type": "stream",
     "text": [
      "[1 2 3 4]\n",
      "10\n"
     ]
    }
   ],
   "source": [
    "print(sess.run(tf.diag_part(dia)))\n",
    "print(sess.run(tf.trace(dia)))"
   ]
  },
  {
   "cell_type": "code",
   "execution_count": 89,
   "metadata": {},
   "outputs": [
    {
     "data": {
      "text/plain": [
       "array([[ 58,  64],\n",
       "       [139, 154]])"
      ]
     },
     "execution_count": 89,
     "metadata": {},
     "output_type": "execute_result"
    }
   ],
   "source": [
    "import numpy as np\n",
    "a = tf.constant([1,2,3,4,5,6] , shape = [2,3])\n",
    "b = tf.constant([7,8,9,10,11,12], shape = [3,2])\n",
    "c = tf.matmul(a,b)\n",
    "sess.run(c)"
   ]
  },
  {
   "cell_type": "code",
   "execution_count": 95,
   "metadata": {},
   "outputs": [
    {
     "name": "stdout",
     "output_type": "stream",
     "text": [
      "1 [[[ 1  2  3]\n",
      "  [ 4  5  6]]\n",
      "\n",
      " [[ 7  8  9]\n",
      "  [10 11 12]]]\n",
      "2 [[[13 14]\n",
      "  [15 16]\n",
      "  [17 18]]\n",
      "\n",
      " [[19 20]\n",
      "  [21 22]\n",
      "  [23 24]]]\n"
     ]
    },
    {
     "data": {
      "text/plain": [
       "array([[[ 94, 100],\n",
       "        [229, 244]],\n",
       "\n",
       "       [[508, 532],\n",
       "        [697, 730]]])"
      ]
     },
     "execution_count": 95,
     "metadata": {},
     "output_type": "execute_result"
    }
   ],
   "source": [
    "# 행열 : 행과 열을 확인하고 앞의 것은 개수 어떻게 층을 이루고 있는지 \n",
    "a = tf.constant(np.arange(1,13,dtype=np.int32),\n",
    "               shape = [2,2,3]) # 행열을 중심하고 데이터 표현 \n",
    "print(\"1\",sess.run(a))\n",
    "b = tf.constant(np.arange(13,25, dtype =np.int32),\n",
    "shape = [2,3,2])\n",
    "print(\"2\",sess.run(b))\n",
    "c= tf.matmul(a,b)\n",
    "sess.run(c)"
   ]
  },
  {
   "cell_type": "code",
   "execution_count": 97,
   "metadata": {},
   "outputs": [
    {
     "name": "stdout",
     "output_type": "stream",
     "text": [
      "[[[[ 1  2  3]\n",
      "   [ 4  5  6]]\n",
      "\n",
      "  [[ 7  8  9]\n",
      "   [10 11 12]]]\n",
      "\n",
      "\n",
      " [[[13 14 15]\n",
      "   [16 17 18]]\n",
      "\n",
      "  [[19 20 21]\n",
      "   [22 23 24]]]]\n",
      "[[[[25 26]\n",
      "   [27 28]\n",
      "   [29 30]]\n",
      "\n",
      "  [[31 32]\n",
      "   [33 34]\n",
      "   [35 36]]]\n",
      "\n",
      "\n",
      " [[[37 38]\n",
      "   [39 40]\n",
      "   [41 42]]\n",
      "\n",
      "  [[43 44]\n",
      "   [45 46]\n",
      "   [47 48]]]]\n"
     ]
    },
    {
     "data": {
      "text/plain": [
       "array([[[[ 166,  172],\n",
       "         [ 409,  424]],\n",
       "\n",
       "        [[ 796,  820],\n",
       "         [1093, 1126]]],\n",
       "\n",
       "\n",
       "       [[[1642, 1684],\n",
       "         [1993, 2044]],\n",
       "\n",
       "        [[2704, 2764],\n",
       "         [3109, 3178]]]])"
      ]
     },
     "execution_count": 97,
     "metadata": {},
     "output_type": "execute_result"
    }
   ],
   "source": [
    "a = tf.constant(np.arange(1,25,dtype=np.int32),\n",
    "               shape = [2,2,2,3]) # 행열을 중심하고 데이터 표현 \n",
    "print(sess.run(a))\n",
    "b = tf.constant(np.arange(25,49, dtype =np.int32),\n",
    "shape = [2,2,3,2])\n",
    "print(sess.run(b))\n",
    "c= tf.matmul(a,b)\n",
    "sess.run(c)"
   ]
  },
  {
   "cell_type": "code",
   "execution_count": 107,
   "metadata": {},
   "outputs": [
    {
     "name": "stdout",
     "output_type": "stream",
     "text": [
      "[[[[  14   32]\n",
      "   [  32   77]]\n",
      "\n",
      "  [[ 194  266]\n",
      "   [ 266  365]]]\n",
      "\n",
      "\n",
      " [[[ 590  716]\n",
      "   [ 716  869]]\n",
      "\n",
      "  [[1202 1382]\n",
      "   [1382 1589]]]]\n"
     ]
    },
    {
     "data": {
      "text/plain": [
       "<tf.Tensor 'MatMul_29:0' shape=(2, 2, 2, 2) dtype=int32>"
      ]
     },
     "execution_count": 107,
     "metadata": {},
     "output_type": "execute_result"
    }
   ],
   "source": [
    "# a 를 제곱한다면 : 자기자신을 제곱하려면 전치 \n",
    "d = tf.matmul(a,tf.transpose(a, perm=[0,1,3,2]))\n",
    "print(sess.run(d))\n",
    "tf.matmul(a,a,transpose_b = True) # 전치해서 자기제곱 "
   ]
  },
  {
   "cell_type": "code",
   "execution_count": 113,
   "metadata": {},
   "outputs": [
    {
     "name": "stdout",
     "output_type": "stream",
     "text": [
      "[2 2 3]\n"
     ]
    },
    {
     "data": {
      "text/plain": [
       "array([[[ 1,  7],\n",
       "        [ 4, 10]],\n",
       "\n",
       "       [[ 2,  8],\n",
       "        [ 5, 11]],\n",
       "\n",
       "       [[ 3,  9],\n",
       "        [ 6, 12]]])"
      ]
     },
     "execution_count": 113,
     "metadata": {},
     "output_type": "execute_result"
    }
   ],
   "source": [
    "x = tf.constant([[[1,2,3], \n",
    "                 [4,5,6]], #  0 1 2\n",
    "                [[7,8,9],   # 2x2x3 = > 제곱  2 x 3 x 2 (0 ,2 ,1 )\n",
    "                [10,11,12]]])\n",
    "print(sess.run(tf.shape(x)))\n",
    "sess.run(tf.transpose(x)) # 3 x 2 x 2  : 디폴트 2 1 0 "
   ]
  },
  {
   "cell_type": "code",
   "execution_count": 116,
   "metadata": {},
   "outputs": [
    {
     "data": {
      "text/plain": [
       "array([[[ 1,  7],\n",
       "        [ 2,  8],\n",
       "        [ 3,  9]],\n",
       "\n",
       "       [[ 4, 10],\n",
       "        [ 5, 11],\n",
       "        [ 6, 12]]])"
      ]
     },
     "execution_count": 116,
     "metadata": {},
     "output_type": "execute_result"
    }
   ],
   "source": [
    "y = tf.transpose(x, perm=[0,2,1])\n",
    "sess.run(tf.transpose(y))"
   ]
  },
  {
   "cell_type": "code",
   "execution_count": 118,
   "metadata": {},
   "outputs": [
    {
     "data": {
      "text/plain": [
       "array([[[ 14,  32],\n",
       "        [ 32,  77]],\n",
       "\n",
       "       [[194, 266],\n",
       "        [266, 365]]])"
      ]
     },
     "execution_count": 118,
     "metadata": {},
     "output_type": "execute_result"
    }
   ],
   "source": [
    "sess.run(tf.matmul(x, tf.transpose(x, perm=[0,2,1])))"
   ]
  },
  {
   "cell_type": "code",
   "execution_count": 121,
   "metadata": {},
   "outputs": [
    {
     "data": {
      "text/plain": [
       "array([[[[[[1]],\n",
       "\n",
       "          [[2]],\n",
       "\n",
       "          [[3]]]],\n",
       "\n",
       "\n",
       "\n",
       "        [[[[4]],\n",
       "\n",
       "          [[5]],\n",
       "\n",
       "          [[6]]]]]])"
      ]
     },
     "execution_count": 121,
     "metadata": {},
     "output_type": "execute_result"
    }
   ],
   "source": [
    "t = [1,2,3,4,5,6]\n",
    "t = tf.reshape(t,[1,2,1,3,1,1])\n",
    "sess.run(t)"
   ]
  },
  {
   "cell_type": "code",
   "execution_count": 123,
   "metadata": {},
   "outputs": [
    {
     "name": "stdout",
     "output_type": "stream",
     "text": [
      "t의 차원은 [1 2 1 3 1 1]\n"
     ]
    }
   ],
   "source": [
    "print(\"t의 차원은\", sess.run(tf.shape(t)))"
   ]
  },
  {
   "cell_type": "code",
   "execution_count": 125,
   "metadata": {},
   "outputs": [
    {
     "name": "stdout",
     "output_type": "stream",
     "text": [
      "차원의 수를 축소할 때  [2 3]\n"
     ]
    }
   ],
   "source": [
    "print(\"차원의 수를 축소할 때 \", sess.run(tf.shape(tf.squeeze(t))))"
   ]
  },
  {
   "cell_type": "code",
   "execution_count": 131,
   "metadata": {},
   "outputs": [
    {
     "name": "stdout",
     "output_type": "stream",
     "text": [
      "1 [[ 1  2  3  4  5  6]\n",
      " [ 7  8  9 10 11 12]]\n",
      "2 [[[ 1  2  3]\n",
      "  [ 4  5  6]]\n",
      "\n",
      " [[ 7  8  9]\n",
      "  [10 11 12]]]\n"
     ]
    }
   ],
   "source": [
    "tensor = [1,2,3,4,5,6,7,8,9,10,11,12]\n",
    "print(\"1\",sess.run(tf.reshape(tensor,[2,-1]))) # 계산으로 채워라\n",
    "tf.reshape(tensor , [-1,6])\n",
    "print(\"2\",sess.run(tf.reshape(tensor, [2,-1,3])))"
   ]
  },
  {
   "cell_type": "code",
   "execution_count": 133,
   "metadata": {},
   "outputs": [
    {
     "name": "stdout",
     "output_type": "stream",
     "text": [
      "Tensor(\"ExpandDims_1:0\", shape=(1, 1, 2, 1, 3, 1, 1), dtype=int32)\n"
     ]
    }
   ],
   "source": [
    "# t = 1,1,2,1,3,1,1\n",
    "print(tf.expand_dims(t,0)) # 차원확대"
   ]
  },
  {
   "cell_type": "code",
   "execution_count": 135,
   "metadata": {},
   "outputs": [
    {
     "name": "stdout",
     "output_type": "stream",
     "text": [
      "[[0 0 0 0 0 0 0]\n",
      " [0 0 1 2 3 0 0]\n",
      " [0 0 4 5 6 0 0]\n",
      " [0 0 0 0 0 0 0]]\n"
     ]
    }
   ],
   "source": [
    "\n",
    "t = [[1,2,3], [4,5,6]] # 2 x 3 = > 4 x 7 \n",
    "paddings = [[1,1],[2,2]] # 위아래 왼쪽 오른쪽 \n",
    "print(sess.run(tf.pad(t, paddings, \"CONSTANT\")))"
   ]
  },
  {
   "cell_type": "code",
   "execution_count": 138,
   "metadata": {},
   "outputs": [
    {
     "name": "stdout",
     "output_type": "stream",
     "text": [
      "[[5 4 5 6 5]\n",
      " [2 1 2 3 2]\n",
      " [5 4 5 6 5]\n",
      " [2 1 2 3 2]]\n"
     ]
    }
   ],
   "source": [
    "# 수를 채우는 방법 \n",
    "paddings = [[1,1,],[1,1]] # 4 x 5\n",
    "print(sess.run(tf.pad(t,paddings, \"REFLECT\")))"
   ]
  },
  {
   "cell_type": "code",
   "execution_count": 140,
   "metadata": {},
   "outputs": [
    {
     "name": "stdout",
     "output_type": "stream",
     "text": [
      "[[1 1 2 3 3]\n",
      " [1 1 2 3 3]\n",
      " [4 4 5 6 6]\n",
      " [4 4 5 6 6]]\n"
     ]
    }
   ],
   "source": [
    "# 확장 = symmetric \n",
    "print(sess.run(tf.pad(t,paddings, \"SYMMETRIC\")))"
   ]
  },
  {
   "cell_type": "markdown",
   "metadata": {},
   "source": [
    "# 다차방정식의 해\n",
    "- 무작위 대입법 \n",
    "- 역행렬을 구함\n",
    "- 입출력 데이터만 : 계수결정 ( 가중치 학습을 통해서 학습 ) "
   ]
  },
  {
   "cell_type": "code",
   "execution_count": 190,
   "metadata": {},
   "outputs": [
    {
     "data": {
      "text/plain": [
       "100"
      ]
     },
     "execution_count": 190,
     "metadata": {},
     "output_type": "execute_result"
    }
   ],
   "source": [
    "# 데이터로 부터 규칙을 발견 = > 분류와 예측을 하기 위해서 \n",
    "import numpy as np \n",
    "import tensorflow as tf\n",
    "# 데이터 생성  - > minimize  = > padding \n",
    "x_data = np.random.rand(100).astype(np.float32)\n",
    "y_data = x_data * .01 + 0.3  # 선형방정식 \n",
    "len(y_data)\n"
   ]
  },
  {
   "cell_type": "code",
   "execution_count": 188,
   "metadata": {},
   "outputs": [],
   "source": [
    "# 가중치 편향\n",
    "# 설명력\n",
    "# bias 는 activation 활성화 계수 \n",
    "# 가중치에는 꼭 bias 가 붙는다\n",
    "W = tf.Variable(tf.random_uniform([1],-1.0,1.0)) # 균등분포 사용 \n",
    "b = tf.Variable(tf.zeros([1])) # bias \n",
    "\n",
    "sess = tf.Session()\n",
    "y = W * x_data + b"
   ]
  },
  {
   "cell_type": "code",
   "execution_count": 189,
   "metadata": {},
   "outputs": [],
   "source": [
    "# loss function : mse  2차원인 경우 포물선을 이루고 최적점은 한개 \n",
    "loss = tf.reduce_mean(tf.square(y - y_data)) # 예측치 - 실제값 \n",
    "# reduce = 합쳐라 \n",
    "# 경사하강법 \n",
    "# 기울기 : 미분을 이용해서 - 면 가중치에 차를 더해주고 \n",
    "#                     기울기 + 면 가중치에 감하는 연산 \n",
    "optimizer = tf.train.GradientDescentOptimizer(0.5) # 0.5 학습율 \n",
    "train = optimizer.minimize(loss)"
   ]
  },
  {
   "cell_type": "code",
   "execution_count": 160,
   "metadata": {},
   "outputs": [],
   "source": [
    "init = tf.global_variables_initializer() # sess 을 실행하기 전 \n",
    "sess.run(init)"
   ]
  },
  {
   "cell_type": "code",
   "execution_count": 162,
   "metadata": {},
   "outputs": [
    {
     "name": "stdout",
     "output_type": "stream",
     "text": [
      "0 [0.01000009] [0.29999995]\n",
      "20 [0.01000009] [0.29999995]\n",
      "40 [0.01000009] [0.29999995]\n",
      "60 [0.01000009] [0.29999995]\n",
      "80 [0.01000009] [0.29999995]\n",
      "100 [0.01000009] [0.29999995]\n",
      "120 [0.01000009] [0.29999995]\n",
      "140 [0.01000009] [0.29999995]\n",
      "160 [0.01000009] [0.29999995]\n",
      "180 [0.01000009] [0.29999995]\n",
      "200 [0.01000009] [0.29999995]\n"
     ]
    }
   ],
   "source": [
    "for step in range(201):\n",
    "    sess.run(train)\n",
    "    if step % 20 == 0:\n",
    "        print(step , sess.run(W),sess.run(b))"
   ]
  },
  {
   "cell_type": "code",
   "execution_count": 168,
   "metadata": {},
   "outputs": [],
   "source": [
    "# placeholder 를 이용해서 값을 주입 \n",
    "x = tf.placeholder(tf.float32 , name= 'x')\n",
    "y = tf.placeholder(tf.float32)\n",
    "\n",
    "W = tf.Variable(tf.random_uniform([1],-1.0,1.0)) # 균등분포 사용 \n",
    "b = tf.Variable(tf.zeros([1])) # bias \n",
    "\n",
    "sess = tf.Session()\n",
    "y_model = W * x  + b"
   ]
  },
  {
   "cell_type": "code",
   "execution_count": 170,
   "metadata": {},
   "outputs": [],
   "source": [
    "loss = tf.reduce_mean(tf.square(y_model - y)) # 예측치 - 실제값 \n",
    "optimizer = tf.train.GradientDescentOptimizer(0.5) # 0.5 학습율 \n",
    "train = optimizer.minimize(loss)"
   ]
  },
  {
   "cell_type": "code",
   "execution_count": 172,
   "metadata": {},
   "outputs": [],
   "source": [
    "init = tf.global_variables_initializer() # sess 을 실행하기 전 \n",
    "sess.run(init)"
   ]
  },
  {
   "cell_type": "code",
   "execution_count": 176,
   "metadata": {},
   "outputs": [
    {
     "name": "stdout",
     "output_type": "stream",
     "text": [
      "0 [0.00999991] [0.30000007]\n",
      "20 [0.00999991] [0.30000007]\n",
      "40 [0.00999991] [0.30000007]\n",
      "60 [0.00999991] [0.30000007]\n",
      "80 [0.00999991] [0.30000007]\n",
      "100 [0.00999991] [0.30000007]\n",
      "120 [0.00999991] [0.30000007]\n",
      "140 [0.00999991] [0.30000007]\n",
      "160 [0.00999991] [0.30000007]\n",
      "180 [0.00999991] [0.30000007]\n",
      "200 [0.00999991] [0.30000007]\n"
     ]
    }
   ],
   "source": [
    "for step in range(201):\n",
    "    sess.run(train,{x:x_data, y:y_data})\n",
    "    if step % 20 == 0:\n",
    "        print(step , sess.run(W),sess.run(b))"
   ]
  },
  {
   "cell_type": "code",
   "execution_count": 191,
   "metadata": {},
   "outputs": [],
   "source": [
    "# 예측 \n",
    "x = tf.placeholder(tf.float32 , name= 'x')\n",
    "y = tf.placeholder(tf.float32)\n",
    "\n",
    "W = tf.Variable(tf.random_uniform([1],-1.0,1.0)) # 균등분포 사용 \n",
    "b = tf.Variable(tf.zeros([1])) # bias \n",
    "\n",
    "sess = tf.Session()\n",
    "y_model = W * x  + b\n",
    "\n",
    "init = tf.global_variables_initializer() # sess 을 실행하기 전 \n",
    "sess.run(init)\n",
    "\n",
    "predicted = sess.run(y_model , {x:[i for i in range(100)]})"
   ]
  },
  {
   "cell_type": "code",
   "execution_count": 193,
   "metadata": {},
   "outputs": [
    {
     "data": {
      "image/png": "[encoded data removed]",
      "text/plain": [
       "<Figure size 432x288 with 1 Axes>"
      ]
     },
     "metadata": {
      "needs_background": "light"
     },
     "output_type": "display_data"
    }
   ],
   "source": [
    "%matplotlib inline\n",
    "import matplotlib.pyplot as plt\n",
    "plt.plot(x_data, y_data, 'o', markersize=5)\n",
    "plt.plot(predicted, 'r')\n",
    "plt.show()"
   ]
  },
  {
   "cell_type": "code",
   "execution_count": 207,
   "metadata": {},
   "outputs": [],
   "source": [
    "from tensorflow.python.framework import ops \n",
    "import os \n",
    "ops.reset_default_graph()"
   ]
  },
  {
   "cell_type": "code",
   "execution_count": 206,
   "metadata": {},
   "outputs": [
    {
     "name": "stdout",
     "output_type": "stream",
     "text": [
      "[1. 3. 5. 7. 9.]\n",
      "[ 3.  9. 15. 21. 27.]\n",
      "[ 5. 15. 25. 35. 45.]\n",
      "[ 7. 21. 35. 49. 63.]\n",
      "[ 9. 27. 45. 63. 81.]\n"
     ]
    }
   ],
   "source": [
    "sess = tf.Session()\n",
    "x_vals = np.array([1.,3.,5.,7.,9.])\n",
    "y_vals = np.array([1.,3.,5.,7.,9.])\n",
    "x_data = tf.placeholder(tf.float32)\n",
    "y_data = tf.placeholder(tf.float32)\n",
    "m = tf.constant(3.)\n",
    "prod = tf.multiply(x_data,y_data)\n",
    "for x_val in x_vals:\n",
    "    print(sess.run(prod,feed_dict={x_data : x_val,\n",
    "                                  y_data : y_vals}))\n"
   ]
  },
  {
   "cell_type": "code",
   "execution_count": 208,
   "metadata": {},
   "outputs": [],
   "source": [
    "merged = tf.summary.merge_all()\n",
    "if not os.path.exists('c://tmp/tensorboard_logs/'):\n",
    "    os.makedirs('c://tmp/tensorboard_logs/')\n",
    "my_writer = tf.summary.FileWriter('c://tmp/tensorboard_logs/',\n",
    "                                 sess.graph)\n"
   ]
  },
  {
   "cell_type": "code",
   "execution_count": 226,
   "metadata": {},
   "outputs": [],
   "source": [
    "import numpy\n",
    "rng = numpy.random\n",
    "# 상수화 할때 좋은점 :  \n",
    "learning_rate = 0.01\n",
    "training_epochs = 4000\n",
    "display_step = 50\n",
    "train_X = numpy.asarray([3.3,4.4,5.5,6.71,6.93,4.168,9.779,6.182,7.59,2.167,7.042,10.791,5.313,7.997,5.654,9.27,3.1])\n",
    "train_Y = numpy.asarray([1.7,2.76,2.09,3.19,1.694,1.573,3.366,2.596,2.53,1.221,2.827,3.465,1.65,2.904,2.42,2.94,1.3]) "
   ]
  },
  {
   "cell_type": "code",
   "execution_count": 237,
   "metadata": {},
   "outputs": [],
   "source": [
    "# data point : 관측치\n",
    "n_samples = train_X.shape[0] # 차수 : 행(인덱스)   / 열 : 변수개수\n",
    "X = tf.placeholder('float')\n",
    "Y = tf.placeholder('float')\n",
    "W = tf.Variable(rng.randn(), name = 'weight') # 설명\n",
    "b = tf.Variable(rng.randn(), name = 'bias')   # activation 활성화   /(노드)\n",
    "activation = tf.add(tf.multiply(X, W), b)     # y = ax+b , 예측치\n",
    "# 미니배치 사이즈 고려 \n",
    "cost = tf.reduce_sum(tf.pow(activation-Y, 2))/(2*n_samples) # pow(,2) 제곱\n",
    "# 역전파 : optimizer도 하이퍼파라미터\n",
    "optimizer = tf.train.GradientDescentOptimizer(learning_rate).minimize(cost) # 하이퍼파라미터, momentum : 가는 방향을 고려\n",
    "init = tf.initialize_all_variables() "
   ]
  },
  {
   "cell_type": "code",
   "execution_count": 240,
   "metadata": {},
   "outputs": [
    {
     "name": "stdout",
     "output_type": "stream",
     "text": [
      "Epoch :  0001 cost =  25.028123856 W= 1.2960196 b= 0.9207898\n",
      "Epoch :  0051 cost =  0.077031918 W= 0.25341654 b= 0.7739647\n",
      "Epoch :  0101 cost =  0.077026851 W= 0.2531889 b= 0.77560186\n",
      "Epoch :  0151 cost =  0.077022374 W= 0.252975 b= 0.7771418\n",
      "Epoch :  0201 cost =  0.077018440 W= 0.2527736 b= 0.7785905\n",
      "Epoch :  0251 cost =  0.077014990 W= 0.25258425 b= 0.7799518\n",
      "Epoch :  0301 cost =  0.077011943 W= 0.25240633 b= 0.78123164\n",
      "Epoch :  0351 cost =  0.077009246 W= 0.2522389 b= 0.78243667\n",
      "Epoch :  0401 cost =  0.077006899 W= 0.25208127 b= 0.78357005\n",
      "Epoch :  0451 cost =  0.077004820 W= 0.251933 b= 0.7846369\n",
      "Epoch :  0501 cost =  0.077003002 W= 0.25179365 b= 0.7856396\n",
      "Epoch :  0551 cost =  0.077001408 W= 0.25166303 b= 0.7865788\n",
      "Epoch :  0601 cost =  0.077000022 W= 0.2515403 b= 0.78746194\n",
      "Epoch :  0651 cost =  0.076998785 W= 0.2514246 b= 0.7882942\n",
      "Epoch :  0701 cost =  0.076997705 W= 0.25131595 b= 0.7890753\n",
      "Epoch :  0751 cost =  0.076996759 W= 0.25121355 b= 0.7898124\n",
      "Epoch :  0801 cost =  0.076995939 W= 0.25111738 b= 0.7905048\n",
      "Epoch :  0851 cost =  0.076995216 W= 0.25102678 b= 0.7911562\n",
      "Epoch :  0901 cost =  0.076994590 W= 0.25094166 b= 0.7917686\n",
      "Epoch :  0951 cost =  0.076994017 W= 0.25086156 b= 0.79234487\n",
      "Epoch :  1001 cost =  0.076993562 W= 0.2507865 b= 0.7928843\n",
      "Epoch :  1051 cost =  0.076993130 W= 0.2507159 b= 0.79339224\n",
      "Epoch :  1101 cost =  0.076992765 W= 0.2506493 b= 0.79387146\n",
      "Epoch :  1151 cost =  0.076992452 W= 0.25058654 b= 0.7943224\n",
      "Epoch :  1201 cost =  0.076992184 W= 0.25052792 b= 0.7947452\n",
      "Epoch :  1251 cost =  0.076991938 W= 0.25047246 b= 0.7951436\n",
      "Epoch :  1301 cost =  0.076991729 W= 0.25042045 b= 0.79551816\n",
      "Epoch :  1351 cost =  0.076991543 W= 0.25037134 b= 0.7958712\n",
      "Epoch :  1401 cost =  0.076991394 W= 0.25032523 b= 0.79620284\n",
      "Epoch :  1451 cost =  0.076991245 W= 0.25028133 b= 0.79651934\n",
      "Epoch :  1501 cost =  0.076991148 W= 0.2502405 b= 0.7968121\n",
      "Epoch :  1551 cost =  0.076991044 W= 0.25020242 b= 0.7970868\n",
      "Epoch :  1601 cost =  0.076990977 W= 0.25016633 b= 0.797346\n",
      "Epoch :  1651 cost =  0.076990873 W= 0.25013226 b= 0.79759127\n",
      "Epoch :  1701 cost =  0.076990820 W= 0.25010023 b= 0.79782206\n",
      "Epoch :  1751 cost =  0.076990783 W= 0.25006995 b= 0.79803956\n",
      "Epoch :  1801 cost =  0.076990746 W= 0.25004154 b= 0.798244\n",
      "Epoch :  1851 cost =  0.076990701 W= 0.2500151 b= 0.7984336\n",
      "Epoch :  1901 cost =  0.076990671 W= 0.2499904 b= 0.79861194\n",
      "Epoch :  1951 cost =  0.076990649 W= 0.24996722 b= 0.79877853\n",
      "Epoch :  2001 cost =  0.076990649 W= 0.2499453 b= 0.7989354\n",
      "Epoch :  2051 cost =  0.076990619 W= 0.24992476 b= 0.79908365\n",
      "Epoch :  2101 cost =  0.076990612 W= 0.24990545 b= 0.7992232\n",
      "Epoch :  2151 cost =  0.076990597 W= 0.24988726 b= 0.79935396\n",
      "Epoch :  2201 cost =  0.076990619 W= 0.24986981 b= 0.7994788\n",
      "Epoch :  2251 cost =  0.076990589 W= 0.2498538 b= 0.7995944\n",
      "Epoch :  2301 cost =  0.076990597 W= 0.24983868 b= 0.7997032\n",
      "Epoch :  2351 cost =  0.076990589 W= 0.24982475 b= 0.7998037\n",
      "Epoch :  2401 cost =  0.076990597 W= 0.24981102 b= 0.79990184\n",
      "Epoch :  2451 cost =  0.076990582 W= 0.24979864 b= 0.7999919\n",
      "Epoch :  2501 cost =  0.076990612 W= 0.24978676 b= 0.8000761\n",
      "Epoch :  2551 cost =  0.076990597 W= 0.24977541 b= 0.80015886\n",
      "Epoch :  2601 cost =  0.076990604 W= 0.24976468 b= 0.80023605\n",
      "Epoch :  2651 cost =  0.076990604 W= 0.24975486 b= 0.8003062\n",
      "Epoch :  2701 cost =  0.076990619 W= 0.24974535 b= 0.8003754\n",
      "Epoch :  2751 cost =  0.076990604 W= 0.24973616 b= 0.80044127\n",
      "Epoch :  2801 cost =  0.076990604 W= 0.24972782 b= 0.8005016\n",
      "Epoch :  2851 cost =  0.076990634 W= 0.24971989 b= 0.80055773\n",
      "Epoch :  2901 cost =  0.076990634 W= 0.24971199 b= 0.8006142\n",
      "Epoch :  2951 cost =  0.076990642 W= 0.24970578 b= 0.80066\n",
      "Epoch :  3001 cost =  0.076990634 W= 0.24969931 b= 0.8007065\n",
      "Epoch :  3051 cost =  0.076990664 W= 0.24969289 b= 0.8007529\n",
      "Epoch :  3101 cost =  0.076990671 W= 0.249687 b= 0.8007942\n",
      "Epoch :  3151 cost =  0.076990664 W= 0.2496813 b= 0.80083513\n",
      "Epoch :  3201 cost =  0.076990657 W= 0.2496762 b= 0.80087316\n",
      "Epoch :  3251 cost =  0.076990671 W= 0.24967115 b= 0.8009086\n",
      "Epoch :  3301 cost =  0.076990679 W= 0.24966656 b= 0.8009414\n",
      "Epoch :  3351 cost =  0.076990679 W= 0.24966203 b= 0.8009742\n",
      "Epoch :  3401 cost =  0.076990686 W= 0.24965787 b= 0.80100435\n",
      "Epoch :  3451 cost =  0.076990694 W= 0.24965473 b= 0.8010261\n",
      "Epoch :  3501 cost =  0.076990671 W= 0.24965224 b= 0.801045\n",
      "Epoch :  3551 cost =  0.076990686 W= 0.24964926 b= 0.80106574\n",
      "Epoch :  3601 cost =  0.076990679 W= 0.24964659 b= 0.80108535\n",
      "Epoch :  3651 cost =  0.076990686 W= 0.2496441 b= 0.80110323\n",
      "Epoch :  3701 cost =  0.076990701 W= 0.24964157 b= 0.8011211\n",
      "Epoch :  3751 cost =  0.076990701 W= 0.24963914 b= 0.801139\n",
      "Epoch :  3801 cost =  0.076990694 W= 0.24963653 b= 0.80115753\n",
      "Epoch :  3851 cost =  0.076990724 W= 0.24963376 b= 0.8011777\n",
      "Epoch :  3901 cost =  0.076990724 W= 0.24963145 b= 0.80119467\n",
      "Epoch :  3951 cost =  0.076990716 W= 0.24962962 b= 0.801207\n",
      "최적화 종료\n",
      "cost= 0.076990716 W= 0.24962805 b= 0.8012187\n"
     ]
    },
    {
     "data": {
      "image/png": "[encoded data removed]",
      "text/plain": [
       "<Figure size 432x288 with 1 Axes>"
      ]
     },
     "metadata": {
      "needs_background": "light"
     },
     "output_type": "display_data"
    }
   ],
   "source": [
    "# 세션 연결 전까지 그래프 정의 : node(연산) + edge(데이터 전달 : tensor(배열+행렬))\n",
    "# 전제조건 : GPU가 존재 => 네트워크로 연결(CPU-GPU)\n",
    "with tf.Session() as sess :\n",
    "    sess.run(init)\n",
    "    for epoch in range(training_epochs) :  # 세대\n",
    "        for(x, y) in zip(train_X, train_Y) : # 미니배치  데이터를 1개씩 feeding \n",
    "            sess.run(optimizer, feed_dict={X:x, Y:y}) \n",
    "        if epoch %display_step == 0: # 비용함수 : 감소 : 우하향 \n",
    "            print('Epoch : ', '%04d' %(epoch+1), \"cost = \", \"{:.9f}\".format(sess.run(cost, feed_dict={X:train_X, Y:train_Y})),\n",
    "                 \"W=\", sess.run(W), \"b=\", sess.run(b))\n",
    "    print(\"최적화 종료\")\n",
    "    print(\"cost=\", sess.run(cost, feed_dict={X:train_X, Y: train_Y}),\"W=\", sess.run(W), \"b=\", sess.run(b) )\n",
    "    plt.plot(train_X, train_Y, 'ro', label = 'Original data')\n",
    "# predict 한 결과값 출력 n  \n",
    "    plt.plot(train_X, sess.run(W)*train_X +sess.run(b), label = 'Fitted line')\n",
    "    plt.legend()\n",
    "    plt.show()"
   ]
  },
  {
   "cell_type": "code",
   "execution_count": 245,
   "metadata": {},
   "outputs": [],
   "source": [
    "# tensor => 직접 시각화하는 것이 불가능 =? numpy 포멧으로 변경\n",
    "import tensorflow as tf\n",
    "\n",
    "def run_variable(variable):\n",
    "    tf.global_variables_initializer()\n",
    "    with tf.Session() as sess:\n",
    "        return sess.run(variable)"
   ]
  },
  {
   "cell_type": "code",
   "execution_count": 249,
   "metadata": {},
   "outputs": [],
   "source": [
    "my_distribution = tf.random_uniform((600,4), seed=42) # 24\n",
    "uniform = run_variable(my_distribution)"
   ]
  },
  {
   "cell_type": "code",
   "execution_count": 251,
   "metadata": {},
   "outputs": [
    {
     "data": {
      "image/png": "[encoded data removed]",
      "text/plain": [
       "<Figure size 432x288 with 1 Axes>"
      ]
     },
     "metadata": {
      "needs_background": "light"
     },
     "output_type": "display_data"
    }
   ],
   "source": [
    "from matplotlib import pyplot as plt \n",
    "plt.hist(uniform.flatten()) # 데이터 메모리 저장 : 1 차원  \n",
    "plt.show() # flatten 1차원으로 데이터를 만듬\n"
   ]
  },
  {
   "cell_type": "code",
   "execution_count": 252,
   "metadata": {},
   "outputs": [],
   "source": [
    "# activation 함수 : 회귀나 분류나를 결정하는 함수 \n",
    "# 비선형 매핑 ( 선형대수 ) -> 비선형문제로 변경 \n",
    "# 가중치를 깊게하고 활성화함수 매핑으로 XOR 문제를 해결 "
   ]
  },
  {
   "cell_type": "code",
   "execution_count": 256,
   "metadata": {},
   "outputs": [
    {
     "name": "stdout",
     "output_type": "stream",
     "text": [
      "[-10.          -9.7979798   -9.5959596   -9.39393939  -9.19191919\n",
      "  -8.98989899  -8.78787879  -8.58585859  -8.38383838  -8.18181818\n",
      "  -7.97979798  -7.77777778  -7.57575758  -7.37373737  -7.17171717\n",
      "  -6.96969697  -6.76767677  -6.56565657  -6.36363636  -6.16161616\n",
      "  -5.95959596  -5.75757576  -5.55555556  -5.35353535  -5.15151515\n",
      "  -4.94949495  -4.74747475  -4.54545455  -4.34343434  -4.14141414\n",
      "  -3.93939394  -3.73737374  -3.53535354  -3.33333333  -3.13131313\n",
      "  -2.92929293  -2.72727273  -2.52525253  -2.32323232  -2.12121212\n",
      "  -1.91919192  -1.71717172  -1.51515152  -1.31313131  -1.11111111\n",
      "  -0.90909091  -0.70707071  -0.50505051  -0.3030303   -0.1010101\n",
      "   0.1010101    0.3030303    0.50505051   0.70707071   0.90909091\n",
      "   1.11111111   1.31313131   1.51515152   1.71717172   1.91919192\n",
      "   2.12121212   2.32323232   2.52525253   2.72727273   2.92929293\n",
      "   3.13131313   3.33333333   3.53535354   3.73737374   3.93939394\n",
      "   4.14141414   4.34343434   4.54545455   4.74747475   4.94949495\n",
      "   5.15151515   5.35353535   5.55555556   5.75757576   5.95959596\n",
      "   6.16161616   6.36363636   6.56565657   6.76767677   6.96969697\n",
      "   7.17171717   7.37373737   7.57575758   7.77777778   7.97979798\n",
      "   8.18181818   8.38383838   8.58585859   8.78787879   8.98989899\n",
      "   9.19191919   9.39393939   9.5959596    9.7979798   10.        ]\n"
     ]
    }
   ],
   "source": [
    "import tensorflow as tf\n",
    "import numpy as np\n",
    "import matplotlib.pyplot as plt \n",
    "from tensorflow.python.framework import ops\n",
    "ops.reset_default_graph()\n",
    "sess = tf.Session()\n",
    "\n",
    "x_vals = np.linspace(start = -10. , stop =10., num=100)\n",
    "print(x_vals)"
   ]
  },
  {
   "cell_type": "code",
   "execution_count": 266,
   "metadata": {},
   "outputs": [
    {
     "name": "stdout",
     "output_type": "stream",
     "text": [
      "[ 0.  3. 10.]\n",
      "[0.26894143 0.5        0.7310586 ]\n",
      "[-0.7615942  0.         0.7615942]\n",
      "[-0.63212055  0.          1.        ]\n",
      "[-0.9999546  -0.99994444 -0.999932   -0.99991677 -0.99989814 -0.99987534\n",
      " -0.99984743 -0.99981327 -0.99977147 -0.99972031 -0.99965769 -0.99958106\n",
      " -0.99948727 -0.99937248 -0.999232   -0.99906006 -0.99884964 -0.9985921\n",
      " -0.99827691 -0.99789116 -0.99741905 -0.99684124 -0.99613408 -0.99526861\n",
      " -0.99420938 -0.99291301 -0.99132643 -0.98938465 -0.98700817 -0.98409965\n",
      " -0.98053999 -0.97618343 -0.97085155 -0.96432601 -0.95633957 -0.94656519\n",
      " -0.9346026  -0.9199619  -0.90204355 -0.88011378 -0.85327452 -0.82042669\n",
      " -0.78022512 -0.73102351 -0.67080701 -0.59710968 -0.50691352 -0.3965249\n",
      " -0.26142329 -0.0960761   0.1010101   0.3030303   0.50505051  0.70707071\n",
      "  0.90909091  1.11111111  1.31313131  1.51515152  1.71717172  1.91919192\n",
      "  2.12121212  2.32323232  2.52525253  2.72727273  2.92929293  3.13131313\n",
      "  3.33333333  3.53535354  3.73737374  3.93939394  4.14141414  4.34343434\n",
      "  4.54545455  4.74747475  4.94949495  5.15151515  5.35353535  5.55555556\n",
      "  5.75757576  5.95959596  6.16161616  6.36363636  6.56565657  6.76767677\n",
      "  6.96969697  7.17171717  7.37373737  7.57575758  7.77777778  7.97979798\n",
      "  8.18181818  8.38383838  8.58585859  8.78787879  8.98989899  9.19191919\n",
      "  9.39393939  9.5959596   9.7979798  10.        ]\n"
     ]
    },
    {
     "data": {
      "image/png": "[encoded data removed]",
      "text/plain": [
       "<Figure size 432x288 with 1 Axes>"
      ]
     },
     "metadata": {
      "needs_background": "light"
     },
     "output_type": "display_data"
    },
    {
     "data": {
      "image/png": "[encoded data removed]",
      "text/plain": [
       "<Figure size 432x288 with 1 Axes>"
      ]
     },
     "metadata": {
      "needs_background": "light"
     },
     "output_type": "display_data"
    }
   ],
   "source": [
    "print(sess.run(tf.nn.relu([-3.,3.,10.])))\n",
    "y_relu = sess.run(tf.nn.relu(x_vals))\n",
    "print(sess.run(tf.nn.sigmoid([-1.,0.,1.])))\n",
    "y_sigmoid = sess.run(tf.nn.sigmoid(x_vals))\n",
    "print(sess.run(tf.nn.tanh([-1.,0.,1.]))) # -1 ~ 0 \n",
    "y_tanh = sess.run(tf.nn.tanh(x_vals))\n",
    "print(sess.run(tf.nn.elu([-1.,0.,1.]))) # 각진 단점 보완\n",
    "y_elu = sess.run(tf.nn.elu(x_vals))\n",
    "print(y_elu)\n",
    "plt.plot(x_vals, y_relu, 'b:', label=\"ReLU\", linewidth =2 )\n",
    "plt.plot(x_vals, y_elu , 'k-', label = \"ExpLU\", linewidth= 0.5)\n",
    "plt.ylim([-1.5,7])\n",
    "plt.legend(loc=\"upper left\")\n",
    "plt.show()\n",
    "plt.plot(x_vals, y_sigmoid, 'r--', label=\"sigmoid\", linewidth =2 )\n",
    "plt.plot(x_vals, y_tanh , 'b:', label = \"tanh\", linewidth= 2)\n",
    "plt.ylim([-2,2])\n",
    "plt.legend(loc =\"upper left\")\n",
    "plt.show()"
   ]
  },
  {
   "cell_type": "code",
   "execution_count": 270,
   "metadata": {},
   "outputs": [],
   "source": [
    "ops.reset_default_graph() # 그래프 초기화\n",
    "sess = tf.Session()\n",
    "tf.set_random_seed(5) #seed 값의 초기값\n",
    "np.random.seed(42)\n",
    "batch_size = 50\n",
    "a1 = tf.Variable(tf.random_normal(shape=[1,1])) # weight \n",
    "b1 = tf.Variable(tf.random_uniform(shape=[1,1])) # bias \n",
    "a2 = tf.Variable(tf.random_normal(shape= [1,1])) # weight \n",
    "b2 = tf.Variable(tf.random_uniform(shape =[1,1]))\n",
    "x = np.random.normal(2,0.1,500)\n",
    "# 사이즈를 픽스 하지 않고 입력 데이터로 부터 계산 \n",
    "# 행데이터로 생성 \n",
    "x_data = tf.placeholder(shape=[None, 1], dtype=tf.float32)"
   ]
  },
  {
   "cell_type": "code",
   "execution_count": 279,
   "metadata": {},
   "outputs": [
    {
     "name": "stdout",
     "output_type": "stream",
     "text": [
      "\n",
      " Sigmoid AND Relu 함수의 최적화 0.75\n"
     ]
    }
   ],
   "source": [
    "# y = ax + b (0 ~ 1) 값으로 매핑 \n",
    "sigmoid_activation = tf.sigmoid(tf.add(tf.matmul(x_data, a1), b1))\n",
    "# 0 ~ 무한대 \n",
    "relu_activation = tf.nn.relu(tf.add(tf.matmul(x_data, a2), b2))\n",
    "# 0.75로 수렴하는 과정 `\n",
    "# mse \n",
    "loss1 = tf.reduce_mean(tf.square(tf.subtract(sigmoid_activation, 0.75)))\n",
    "loss2 = tf.reduce_mean(tf.square(tf.subtract(relu_activation, 0.75)))\n",
    "init = tf.global_variables_initializer()\n",
    "sess.run(init)\n",
    "my_opt = tf.train.GradientDescentOptimizer(0.01)\n",
    "train_step_sigmoid = my_opt.minimize(loss1)\n",
    "train_step_relu = my_opt.minimize(loss2)\n",
    "print('\\n Sigmoid AND Relu 함수의 최적화 0.75')"
   ]
  },
  {
   "cell_type": "code",
   "execution_count": 275,
   "metadata": {},
   "outputs": [],
   "source": [
    "loss_vec_sigmoid = [] # 로스값을 저장 \n",
    "loss_vec_relu = [] \n"
   ]
  },
  {
   "cell_type": "code",
   "execution_count": 280,
   "metadata": {},
   "outputs": [
    {
     "name": "stdout",
     "output_type": "stream",
     "text": [
      "sigmoid =0.12655206\trelu = 2.0227606\n",
      "sigmoid =0.17863758\trelu = 0.7530296\n",
      "sigmoid =0.24769813\trelu = 0.7492897\n",
      "sigmoid =0.3446748\trelu = 0.7499546\n",
      "sigmoid =0.4400661\trelu = 0.7539999\n",
      "sigmoid =0.5236898\trelu = 0.754772\n",
      "sigmoid =0.58373857\trelu = 0.7508698\n",
      "sigmoid =0.62733483\trelu = 0.7470234\n",
      "sigmoid =0.6549499\trelu = 0.75180537\n",
      "sigmoid =0.67452586\trelu = 0.75470716\n"
     ]
    }
   ],
   "source": [
    "for i in range(500) :\n",
    "    # 500 -> 50  \n",
    "    rand_indices = np.random.choice(len(x), size = batch_size)\n",
    "    x_vals = np.transpose([x[rand_indices]]) # 모양을 맞추기 위해  \n",
    "    sess.run(train_step_sigmoid, feed_dict = {x_data:x_vals})\n",
    "    sess.run(train_step_relu, feed_dict = {x_data:x_vals})\n",
    "    loss_vec_sigmoid.append(sess.run(loss1,feed_dict = {x_data:x_vals} ))\n",
    "    loss_vec_relu.append(sess.run(loss2,feed_dict = {x_data:x_vals} ))\n",
    "    sigmoid_output = np.mean(sess.run(sigmoid_activation, feed_dict={x_data:x_vals}))\n",
    "    relu_output = np.mean(sess.run(relu_activation, feed_dict={x_data:x_vals}))\n",
    "    if i%50 == 0 :\n",
    "        print('sigmoid =' + str(np.mean(sigmoid_output)) + '\\trelu = ' + str(np.mean(relu_output)))\n",
    "# 0.75 수렴하는 과정 "
   ]
  },
  {
   "cell_type": "code",
   "execution_count": 281,
   "metadata": {},
   "outputs": [
    {
     "data": {
      "image/png": "[encoded data removed]",
      "text/plain": [
       "<Figure size 432x288 with 1 Axes>"
      ]
     },
     "metadata": {
      "needs_background": "light"
     },
     "output_type": "display_data"
    }
   ],
   "source": [
    "plt.plot(loss_vec_sigmoid, 'k-', label='Sigmoid Activation')\n",
    "plt.plot(loss_vec_relu, 'r--', label='Relu Activation')\n",
    "plt.ylim([0, 1.0])\n",
    "plt.title(' loss per Generation')\n",
    "plt.xlabel('Generation')\n",
    "plt.ylabel('Loss')\n",
    "plt.legend(loc='upper right')\n",
    "plt.show() "
   ]
  }
 ],
 "metadata": {
  "kernelspec": {
   "display_name": "Python 3",
   "language": "python",
   "name": "python3"
  },
  "language_info": {
   "codemirror_mode": {
    "name": "ipython",
    "version": 3
   },
   "file_extension": ".py",
   "mimetype": "text/x-python",
   "name": "python",
   "nbconvert_exporter": "python",
   "pygments_lexer": "ipython3",
   "version": "3.7.6"
  }
 },
 "nbformat": 4,
 "nbformat_minor": 2
}
