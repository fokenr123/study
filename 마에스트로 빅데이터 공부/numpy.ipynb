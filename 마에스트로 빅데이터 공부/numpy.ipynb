{
 "cells": [
  {
   "cell_type": "code",
   "execution_count": 2,
   "metadata": {},
   "outputs": [],
   "source": [
    "# flask \n",
    "import flask #웹서버 기능 5000번 포트로 서비스"
   ]
  },
  {
   "cell_type": "code",
   "execution_count": 1,
   "metadata": {},
   "outputs": [
    {
     "name": "stdout",
     "output_type": "stream",
     "text": [
      "1.16.5\n",
      "type:<class 'numpy.ndarray'>\n",
      "shape:(3,), dimension:1,dtype:int32\n",
      "Array's Data: \n",
      " [1 2 3]\n"
     ]
    }
   ],
   "source": [
    "import matplotlib # 시각화 패키지\n",
    "import numpy as np # 별칭 class\n",
    "print(np.__version__) # 상위 오브젝트가 가진 속성\n",
    "def pprint(arr): # ndarray: numpy의 기본 데이터 배열\n",
    "    print(\"type:{}\".format(type(arr)))\n",
    "    print(\"shape:{}, dimension:{},dtype:{}\".format(arr.shape,arr.ndim,arr.dtype))\n",
    "    print(\"Array's Data: \\n\",arr)\n",
    "    # 숫자의 디폴트는 int32\n",
    "arr = [1.0,2.0,3.0] # 리스트\n",
    "a = np.array([1,2,3]) # ndarray 생성함수 (매개변수:리스트)\n",
    "pprint(a)"
   ]
  },
  {
   "cell_type": "code",
   "execution_count": 3,
   "metadata": {},
   "outputs": [
    {
     "name": "stdout",
     "output_type": "stream",
     "text": [
      "2469786541472\n",
      "10\n",
      "[0. 1. 2. 3. 4. 5. 6. 7. 8. 9.]\n",
      "40\n"
     ]
    },
    {
     "data": {
      "text/plain": [
       "array([  0,   1,   2,   3,   4,   5,   6,   7,   8,   9,  10,  11,  12,\n",
       "        13,  14,  15,  16,  17,  18,  19,  20,  21,  22,  23,  24,  25,\n",
       "        26,  27,  28,  29,  30,  31,  32,  33,  34,  35,  36,  37,  38,\n",
       "        39,  40,  41,  42,  43,  44,  45,  46,  47,  48,  49,  50,  51,\n",
       "        52,  53,  54,  55,  56,  57,  58,  59,  60,  61,  62,  63,  64,\n",
       "        65,  66,  67,  68,  69,  70,  71,  72,  73,  74,  75,  76,  77,\n",
       "        78,  79,  80,  81,  82,  83,  84,  85,  86,  87,  88,  89,  90,\n",
       "        91,  92,  93,  94,  95,  96,  97,  98,  99, 100, 101, 102, 103,\n",
       "       104, 105, 106, 107, 108, 109, 110, 111, 112, 113, 114, 115, 116,\n",
       "       117, 118, 119, 120, 121, 122, 123, 124, 125, 126, 127, 128, 129,\n",
       "       130, 131, 132, 133, 134, 135, 136, 137, 138, 139, 140, 141, 142,\n",
       "       143, 144, 145, 146, 147, 148, 149, 150, 151, 152, 153, 154, 155,\n",
       "       156, 157, 158, 159, 160, 161, 162, 163, 164, 165, 166, 167, 168,\n",
       "       169, 170, 171, 172, 173, 174, 175, 176, 177, 178, 179, 180, 181,\n",
       "       182, 183, 184, 185, 186, 187, 188, 189, 190, 191, 192, 193, 194,\n",
       "       195, 196, 197, 198, 199, 200, 201, 202, 203, 204, 205, 206, 207,\n",
       "       208, 209, 210, 211, 212, 213, 214, 215, 216, 217, 218, 219, 220,\n",
       "       221, 222, 223, 224, 225, 226, 227, 228, 229, 230, 231, 232, 233,\n",
       "       234, 235, 236, 237, 238, 239, 240, 241, 242, 243, 244, 245, 246,\n",
       "       247, 248, 249, 250, 251, 252, 253, 254, 255, 256, 257, 258, 259,\n",
       "       260, 261, 262, 263, 264, 265, 266, 267, 268, 269, 270, 271, 272,\n",
       "       273, 274, 275, 276, 277, 278, 279, 280, 281, 282, 283, 284, 285,\n",
       "       286, 287, 288, 289, 290, 291, 292, 293, 294, 295, 296, 297, 298,\n",
       "       299, 300, 301, 302, 303, 304, 305, 306, 307, 308, 309, 310, 311,\n",
       "       312, 313, 314, 315, 316, 317, 318, 319, 320, 321, 322, 323, 324,\n",
       "       325, 326, 327, 328, 329, 330, 331, 332, 333, 334, 335, 336, 337,\n",
       "       338, 339, 340, 341, 342, 343, 344, 345, 346, 347, 348, 349, 350,\n",
       "       351, 352, 353, 354, 355, 356, 357, 358, 359, 360, 361, 362, 363,\n",
       "       364, 365, 366, 367, 368, 369, 370, 371, 372, 373, 374, 375, 376,\n",
       "       377, 378, 379, 380, 381, 382, 383, 384, 385, 386, 387, 388, 389,\n",
       "       390, 391, 392, 393, 394, 395, 396, 397, 398, 399, 400, 401, 402,\n",
       "       403, 404, 405, 406, 407, 408, 409, 410, 411, 412, 413, 414, 415,\n",
       "       416, 417, 418, 419, 420, 421, 422, 423, 424, 425, 426, 427, 428,\n",
       "       429, 430, 431, 432, 433, 434, 435, 436, 437, 438, 439, 440, 441,\n",
       "       442, 443, 444, 445, 446, 447, 448, 449, 450, 451, 452, 453, 454,\n",
       "       455, 456, 457, 458, 459, 460, 461, 462, 463, 464, 465, 466, 467,\n",
       "       468, 469, 470, 471, 472, 473, 474, 475, 476, 477, 478, 479, 480,\n",
       "       481, 482, 483, 484, 485, 486, 487, 488, 489, 490, 491, 492, 493,\n",
       "       494, 495, 496, 497, 498, 499, 500, 501, 502, 503, 504, 505, 506,\n",
       "       507, 508, 509, 510, 511, 512, 513, 514, 515, 516, 517, 518, 519,\n",
       "       520, 521, 522, 523, 524, 525, 526, 527, 528, 529, 530, 531, 532,\n",
       "       533, 534, 535, 536, 537, 538, 539, 540, 541, 542, 543, 544, 545,\n",
       "       546, 547, 548, 549, 550, 551, 552, 553, 554, 555, 556, 557, 558,\n",
       "       559, 560, 561, 562, 563, 564, 565, 566, 567, 568, 569, 570, 571,\n",
       "       572, 573, 574, 575, 576, 577, 578, 579, 580, 581, 582, 583, 584,\n",
       "       585, 586, 587, 588, 589, 590, 591, 592, 593, 594, 595, 596, 597,\n",
       "       598, 599, 600, 601, 602, 603, 604, 605, 606, 607, 608, 609, 610,\n",
       "       611, 612, 613, 614, 615, 616, 617, 618, 619, 620, 621, 622, 623,\n",
       "       624, 625, 626, 627, 628, 629, 630, 631, 632, 633, 634, 635, 636,\n",
       "       637, 638, 639, 640, 641, 642, 643, 644, 645, 646, 647, 648, 649,\n",
       "       650, 651, 652, 653, 654, 655, 656, 657, 658, 659, 660, 661, 662,\n",
       "       663, 664, 665, 666, 667, 668, 669, 670, 671, 672, 673, 674, 675,\n",
       "       676, 677, 678, 679, 680, 681, 682, 683, 684, 685, 686, 687, 688,\n",
       "       689, 690, 691, 692, 693, 694, 695, 696, 697, 698, 699, 700, 701,\n",
       "       702, 703, 704, 705, 706, 707, 708, 709, 710, 711, 712, 713, 714,\n",
       "       715, 716, 717, 718, 719, 720, 721, 722, 723, 724, 725, 726, 727,\n",
       "       728, 729, 730, 731, 732, 733, 734, 735, 736, 737, 738, 739, 740,\n",
       "       741, 742, 743, 744, 745, 746, 747, 748, 749, 750, 751, 752, 753,\n",
       "       754, 755, 756, 757, 758, 759, 760, 761, 762, 763, 764, 765, 766,\n",
       "       767, 768, 769, 770, 771, 772, 773, 774, 775, 776, 777, 778, 779,\n",
       "       780, 781, 782, 783, 784, 785, 786, 787, 788, 789, 790, 791, 792,\n",
       "       793, 794, 795, 796, 797, 798, 799, 800, 801, 802, 803, 804, 805,\n",
       "       806, 807, 808, 809, 810, 811, 812, 813, 814, 815, 816, 817, 818,\n",
       "       819, 820, 821, 822, 823, 824, 825, 826, 827, 828, 829, 830, 831,\n",
       "       832, 833, 834, 835, 836, 837, 838, 839, 840, 841, 842, 843, 844,\n",
       "       845, 846, 847, 848, 849, 850, 851, 852, 853, 854, 855, 856, 857,\n",
       "       858, 859, 860, 861, 862, 863, 864, 865, 866, 867, 868, 869, 870,\n",
       "       871, 872, 873, 874, 875, 876, 877, 878, 879, 880, 881, 882, 883,\n",
       "       884, 885, 886, 887, 888, 889, 890, 891, 892, 893, 894, 895, 896,\n",
       "       897, 898, 899, 900, 901, 902, 903, 904, 905, 906, 907, 908, 909,\n",
       "       910, 911, 912, 913, 914, 915, 916, 917, 918, 919, 920, 921, 922,\n",
       "       923, 924, 925, 926, 927, 928, 929, 930, 931, 932, 933, 934, 935,\n",
       "       936, 937, 938, 939, 940, 941, 942, 943, 944, 945, 946, 947, 948,\n",
       "       949, 950, 951, 952, 953, 954, 955, 956, 957, 958, 959, 960, 961,\n",
       "       962, 963, 964, 965, 966, 967, 968, 969, 970, 971, 972, 973, 974,\n",
       "       975, 976, 977, 978, 979, 980, 981, 982, 983, 984, 985, 986, 987,\n",
       "       988, 989, 990, 991, 992, 993, 994, 995, 996, 997, 998, 999])"
      ]
     },
     "execution_count": 3,
     "metadata": {},
     "output_type": "execute_result"
    }
   ],
   "source": [
    "# 인스턴스상태\n",
    "a = np.array([0,1,2,3,4,5,6,7,8,9]) # ndarry\n",
    "print(id(a)) # pythone core 주소값 확인\n",
    "print(a.size) # 데이터 개수\n",
    "print(a.astype(np.float32)) # 데이터 타입 변경, numpy는 행중심, 동질적\n",
    "print(a.dtype.itemsize*a.size) # 전체 메모리 사이즈(바이트)\n",
    "# literator for in range => list\n",
    "a = np.arange(1000)  # => ndarry\n",
    "a"
   ]
  },
  {
   "cell_type": "code",
   "execution_count": 4,
   "metadata": {},
   "outputs": [
    {
     "name": "stdout",
     "output_type": "stream",
     "text": [
      "[[0. 0. 0. 0.]\n",
      " [0. 0. 0. 0.]\n",
      " [0. 0. 0. 0.]]\n",
      "[[[1 1 1 1]\n",
      "  [1 1 1 1]\n",
      "  [1 1 1 1]]\n",
      "\n",
      " [[1 1 1 1]\n",
      "  [1 1 1 1]\n",
      "  [1 1 1 1]]]\n",
      "[[7 7]\n",
      " [7 7]]\n",
      "[[1. 0. 0. 0.]\n",
      " [0. 1. 0. 0.]\n",
      " [0. 0. 1. 0.]\n",
      " [0. 0. 0. 1.]]\n",
      "[[0.00000000e+000 0.00000000e+000]\n",
      " [0.00000000e+000 0.00000000e+000]\n",
      " [0.00000000e+000 6.18570189e-321]\n",
      " [7.33726482e+223 1.21572612e-224]]\n"
     ]
    }
   ],
   "source": [
    "# ndarray 초기화 함수들\n",
    "print(np.zeros((3,4)))\n",
    "print(np.ones((2,3,4), dtype = np.int16)) # 1, 3차원 (면, 행, 열)\n",
    "print(np.full((2,2),7))\n",
    "print(np.eye(4)) # 대각행렬 identity 행렬연산에서 항등원 + : 0/ * : 1 / 행렬 : 대각행렬\n",
    "print(np.empty((4,2))) # 쓰레기값"
   ]
  },
  {
   "cell_type": "code",
   "execution_count": 5,
   "metadata": {},
   "outputs": [
    {
     "name": "stdout",
     "output_type": "stream",
     "text": [
      "[1, 5, -1]\n",
      "[ 0 10 20 30 40 50 60 70 80 90]\n",
      "[10 50 90]\n"
     ]
    }
   ],
   "source": [
    "a = np.arange(0,100,10) # 0부터 10씩 증가해서 100 직전까지, ndarray\n",
    "indices = [1,5,-1] # 리스트\n",
    "print(indices)\n",
    "b = a[indices] # 리스트를 첨자로 사용\n",
    "print(a)\n",
    "print(b)"
   ]
  },
  {
   "cell_type": "code",
   "execution_count": 6,
   "metadata": {},
   "outputs": [
    {
     "name": "stdout",
     "output_type": "stream",
     "text": [
      "[[11 12 13 14 15]\n",
      " [16 17 18 19 20]\n",
      " [21 22 23 24 25]\n",
      " [26 27 28 29 30]\n",
      " [31 32 33 34 35]]\n",
      "<class 'numpy.ndarray'>\n",
      "int32\n",
      "25\n",
      "(5, 5)\n",
      "2\n",
      "100\n",
      "(20, 4)\n"
     ]
    }
   ],
   "source": [
    "#a = np.arange(11,35) 개수가 맞아야함 \n",
    "a = np.arange(11,36) # 1차원\n",
    "a.shape = (5,5) # 행렬 모양, 정상모양을 갖춘 개수\n",
    "print(a)\n",
    "print(type(a))\n",
    "print(a.dtype)\n",
    "print(a.size) # 개수 25개\n",
    "print(a.shape) # 차수 (5,5)\n",
    "print(a.ndim) # 2차원\n",
    "print(a.nbytes) # 100바이트 = 25 * 4\n",
    "print(a.strides) #  (20,4) 4는 다음 열의 데이터는 몇바이트를 건너뛰어야 하는가\n",
    "                 # 다음 행은 몇바이트를 건너뛰어야 하는가 20은 한행에 5개이므로 5*4"
   ]
  },
  {
   "cell_type": "code",
   "execution_count": 8,
   "metadata": {
    "scrolled": true
   },
   "outputs": [
    {
     "name": "stdout",
     "output_type": "stream",
     "text": [
      "<class 'numpy.ndarray'>\n",
      "[0 1 2 3 4 5 6 7 8 9]\n",
      "5\n",
      "[5 6 7]\n",
      "[ 1  2  3  4 12]\n"
     ]
    }
   ],
   "source": [
    "arr = np.arange(10)\n",
    "print(type(arr))\n",
    "print(arr)\n",
    "print(arr[5])\n",
    "print(arr[5:8]) # 마지막 불포함\n",
    "arr[5:8] = 12   # 데이터 업데이트\n",
    "print(arr[1:6])"
   ]
  },
  {
   "cell_type": "code",
   "execution_count": 9,
   "metadata": {
    "scrolled": true
   },
   "outputs": [
    {
     "name": "stdout",
     "output_type": "stream",
     "text": [
      "[1 2 3]\n",
      "3\n",
      "3\n",
      "[[1 2 3]\n",
      " [4 5 6]]\n",
      "[[2 3]\n",
      " [5 6]]\n",
      "[[2 3]\n",
      " [5 6]\n",
      " [8 9]]\n",
      "[4 5]\n",
      "[7]\n",
      "[[0 2 3]\n",
      " [0 5 6]\n",
      " [7 8 9]]\n"
     ]
    }
   ],
   "source": [
    "# numpy 첨자 생략 불가 [,4]\n",
    "arr2d = np.array([[1,2,3], [4,5,6], [7,8,9]])\n",
    "print(arr2d[0]) # 행우선\n",
    "print(arr2d[0][2])\n",
    "print(arr2d[0,2])\n",
    "print(arr2d[:2]) #0,1행\n",
    "print(arr2d[:2,1:]) # 끝까지\n",
    "print(arr2d[:,1:]) # 모든행\n",
    "print(arr2d[1,:2])\n",
    "print(arr2d[2, :1])\n",
    "arr2d[:2, :1]=0\n",
    "arr2d[:2, :1] =0\n",
    "print(arr2d)"
   ]
  },
  {
   "cell_type": "code",
   "execution_count": 10,
   "metadata": {},
   "outputs": [
    {
     "name": "stdout",
     "output_type": "stream",
     "text": [
      "스트라이크의 값 (160, 40, 8)\n"
     ]
    }
   ],
   "source": [
    "# 실제 저장은 일렬로 사람이 데이터를 다루는 것은 입체로 480바이트\n",
    "# 행렬연산에서 앞의 행렬열수와 뒤의 행렬의 행수를 일치 시켜야 행렬곱이 가능\n",
    "# 행렬곱에서 행렬 앞뒤로 바꾸면 안됨\n",
    "print(\"스트라이크의 값\", np.ones((3,4,5), dtype = np.float64). strides) # 3면 4행 5열\n",
    "# (160, 40, 8) float64는 8바이트, 다음면 이동하기위해서 20*8 , 다음행 : 5*8, 다음 열 : 8"
   ]
  },
  {
   "cell_type": "code",
   "execution_count": 11,
   "metadata": {},
   "outputs": [
    {
     "name": "stdout",
     "output_type": "stream",
     "text": [
      "첫 차원 [[1 2 3]\n",
      " [4 5 6]]\n",
      "첫차원 첫행은 =  [1 2 3]\n",
      "첫 요소는 =  1\n",
      " 8출력  8\n",
      " 12출력  12\n"
     ]
    }
   ],
   "source": [
    "# 문제\n",
    "arr3d = np.array([[[1, 2, 3], [4, 5, 6]], [[7, 8, 9], [10, 11, 12]]]) # 면이 2개 , 행2개 열 3개\n",
    "print(\"첫 차원\", arr3d[0])\n",
    "print(\"첫차원 첫행은 = \", arr3d[0][0])\n",
    "print(\"첫 요소는 = \", arr3d[0][0][0])\n",
    "print(\" 8출력 \", arr3d[1][0][1])\n",
    "print(\" 12출력 \", arr3d[1][1][2]) # 인덱스"
   ]
  },
  {
   "cell_type": "code",
   "execution_count": 12,
   "metadata": {},
   "outputs": [
    {
     "name": "stdout",
     "output_type": "stream",
     "text": [
      "값의 변경후\n",
      "[[[42 42 42]\n",
      "  [42 42 42]]\n",
      "\n",
      " [[ 7  8  9]\n",
      "  [10 11 12]]]\n",
      "이전 값으로 복구\n",
      "[[[42 42 42]\n",
      "  [42 42 42]]\n",
      "\n",
      " [[ 7  8  9]\n",
      "  [10 11 12]]]\n"
     ]
    }
   ],
   "source": [
    "# 백업이 안됨 : 대입하면 같은 주소를 가리키기 때문에\n",
    "old_values = arr3d # 대입 : 주소를 복사\n",
    "arr3d[0] = 42\n",
    "print(\"값의 변경후\")\n",
    "print(arr3d)\n",
    "print(\"이전 값으로 복구\")\n",
    "arr3d = old_values\n",
    "print(arr3d)"
   ]
  },
  {
   "cell_type": "code",
   "execution_count": 50,
   "metadata": {},
   "outputs": [
    {
     "name": "stdout",
     "output_type": "stream",
     "text": [
      "값의 변경후\n",
      "[[[42 42 42]\n",
      "  [42 42 42]]\n",
      "\n",
      " [[ 7  8  9]\n",
      "  [10 11 12]]]\n",
      "이전 값으로 복구\n",
      "[[[ 1  2  3]\n",
      "  [ 4  5  6]]\n",
      "\n",
      " [[ 7  8  9]\n",
      "  [10 11 12]]]\n"
     ]
    }
   ],
   "source": [
    "arr3d = np.array([[[1, 2, 3], [4, 5, 6]], [[7, 8, 9], [10, 11, 12]]])\n",
    "old_values = arr3d.copy()\n",
    "arr3d[0] = 42\n",
    "print(\"값의 변경후\")\n",
    "print(arr3d)\n",
    "print(\"이전 값으로 복구\")\n",
    "arr3d = old_values\n",
    "print(arr3d)\n"
   ]
  },
  {
   "cell_type": "code",
   "execution_count": 13,
   "metadata": {},
   "outputs": [
    {
     "name": "stdout",
     "output_type": "stream",
     "text": [
      "[ 0  1  2  3  4  5  6  7  8  9 10 11 12 13 14 15 16 17 18 19 20 21 22 23\n",
      " 24 25 26 27 28 29 30 31 32 33 34 35]\n",
      "[[ 0  1  2  3  4  5]\n",
      " [ 6  7  8  9 10 11]\n",
      " [12 13 14 15 16 17]\n",
      " [18 19 20 21 22 23]\n",
      " [24 25 26 27 28 29]\n",
      " [30 31 32 33 34 35]]\n",
      "[[[ 0  1  2  3  4  5]\n",
      "  [ 6  7  8  9 10 11]\n",
      "  [12 13 14 15 16 17]]\n",
      "\n",
      " [[18 19 20 21 22 23]\n",
      "  [24 25 26 27 28 29]\n",
      "  [30 31 32 33 34 35]]]\n"
     ]
    }
   ],
   "source": [
    "z = np.arange(36)\n",
    "print(z)\n",
    "z = z.reshape((6, 6))\n",
    "print(z)\n",
    "\n",
    "reshape2 = z.reshape((2,3,6))\n",
    "print(reshape2)"
   ]
  },
  {
   "cell_type": "code",
   "execution_count": 56,
   "metadata": {},
   "outputs": [
    {
     "name": "stdout",
     "output_type": "stream",
     "text": [
      "[[ 0  1  2  3]\n",
      " [ 4  5  6  7]\n",
      " [ 8  9 10 11]\n",
      " [12 13 14 15]\n",
      " [16 17 18 19]\n",
      " [20 21 22 23]\n",
      " [24 25 26 27]\n",
      " [28 29 30 31]]\n",
      "[[ 4  5  6  7]\n",
      " [20 21 22 23]\n",
      " [28 29 30 31]\n",
      " [ 8  9 10 11]]\n",
      "[[28 29 30 31]\n",
      " [12 13 14 15]\n",
      " [ 4  5  6  7]\n",
      " [24 25 26 27]]\n",
      "[ 4 23 29 10]\n",
      "[[ 4  5  6  7]\n",
      " [20 21 22 23]\n",
      " [28 29 30 31]\n",
      " [ 8  9 10 11]]\n",
      "[[ 4  7  5  6]\n",
      " [20 23 21 22]\n",
      " [28 31 29 30]\n",
      " [ 8 11  9 10]]\n"
     ]
    }
   ],
   "source": [
    "arr = np.arange(32).reshape((8, 4))\n",
    "print(arr)\n",
    "print(arr[[1,5,7,2]])# 행중심\n",
    "print(arr[[-1,-5,-7,-2]]) # 거꾸로 인덱싱\n",
    "print(arr[[1, 5, 7, 2],[0, 3, 1, 2]])\n",
    "# fancy 인덱싱 \n",
    "print(arr[[1, 5, 7, 2]][:,[0, 1, 2, 3]])\n",
    "print(arr[[1, 5, 7, 2]][:,[0, 3, 1, 2]])"
   ]
  },
  {
   "cell_type": "code",
   "execution_count": 81,
   "metadata": {},
   "outputs": [
    {
     "name": "stdout",
     "output_type": "stream",
     "text": [
      "빨간색 [ 2 22 52]\n",
      "주황색 [ 1 12 23 34 45]\n",
      "하늘색 [[30 32 35]\n",
      " [40 42 45]\n",
      " [50 52 55]]\n"
     ]
    }
   ],
   "source": [
    "arr = []\n",
    "for i in range(6) :\n",
    "    ad=[]\n",
    "    for j in range(6) :\n",
    "        ad.append(i*10+j)\n",
    "    arr.append(ad)\n",
    "#print(arr)\n",
    "arr = np.array(arr)\n",
    "print(\"빨간색\",arr[[0,2,5],2])\n",
    "print(\"주황색\", arr[[0,1,2,3,4],[1,2,3,4,5]]) \n",
    "print(\"하늘색\", arr[3:6][:,[0,2,5]])\n"
   ]
  },
  {
   "cell_type": "code",
   "execution_count": 108,
   "metadata": {},
   "outputs": [
    {
     "name": "stdout",
     "output_type": "stream",
     "text": [
      "빨간색 [ 2 12 22 32 42 52]\n",
      "주황색 [3 4]\n",
      "녹색 [[20 22 24]\n",
      " [40 42 44]]\n",
      "하늘색 [[44 45]\n",
      " [54 55]]\n"
     ]
    }
   ],
   "source": [
    "print(\"빨간색\", arr[:,2])\n",
    "print(\"주황색\", arr[0,[3,4]])\n",
    "print(\"녹색\", arr[[2,4]][:,[0,2,4]])\n",
    "print(\"하늘색\", arr[4:][:,[4,5]])\n"
   ]
  },
  {
   "cell_type": "code",
   "execution_count": 112,
   "metadata": {},
   "outputs": [
    {
     "name": "stdout",
     "output_type": "stream",
     "text": [
      "타일출력\n",
      "[[1 0 1]\n",
      " [1 0 1]\n",
      " [1 0 1]\n",
      " [1 0 1]]\n",
      "[[ 2  2  4]\n",
      " [ 5  5  7]\n",
      " [ 8  8 10]\n",
      " [11 11 13]]\n",
      "[[ 2  2  4]\n",
      " [ 5  5  7]\n",
      " [ 8  8 10]\n",
      " [11 11 13]]\n",
      "[[ 4  5  6]\n",
      " [ 7  8  9]\n",
      " [10 11 12]\n",
      " [13 14 15]]\n"
     ]
    }
   ],
   "source": [
    "x = np.array([[1,2,3],[4,5,6],[7,8,9], [10,11,12]]) # 4x3\n",
    "v = np.array([1,0,1])\n",
    "print(\"타일출력\")\n",
    "vv = np.tile(v, (4,1))\n",
    "print(vv)\n",
    "y = x + vv # 4x3 배열연산 -> 요소별 연산\n",
    "print(y)\n",
    "# 배열 연산 : 양쪽 차원이 일치해야함, 한쪽차원은 맞아야함 4x3, 1x3 (0), 4x3 1x4 (x)\n",
    "print(x+v) # 4x3, 1x3 broadcasting\n",
    "print(x+3)"
   ]
  },
  {
   "cell_type": "code",
   "execution_count": 43,
   "metadata": {},
   "outputs": [
    {
     "name": "stdout",
     "output_type": "stream",
     "text": [
      "[[0 1]\n",
      " [2 3]\n",
      " [4 5]]\n",
      "[[ 1  3  5]\n",
      " [ 3 13 23]\n",
      " [ 5 23 41]]\n",
      "[[0 2 4]\n",
      " [1 3 5]]\n"
     ]
    }
   ],
   "source": [
    "x = np.arange(6).reshape((3,2))\n",
    "print(x)\n",
    "# 거듭제곱(행열곱)\n",
    "# x@x # 앞의 행렬 열수와 뒤의 행렬의 행수가 일치해야함\n",
    "# 전치행렬\n",
    "print(x@x.T)\n",
    "print(np.transpose(x))"
   ]
  },
  {
   "cell_type": "code",
   "execution_count": 120,
   "metadata": {},
   "outputs": [
    {
     "name": "stdout",
     "output_type": "stream",
     "text": [
      "[[[ 0  1  2  3]\n",
      "  [ 4  5  6  7]\n",
      "  [ 8  9 10 11]]\n",
      "\n",
      " [[12 13 14 15]\n",
      "  [16 17 18 19]\n",
      "  [20 21 22 23]]]\n",
      "[[[ 0  1  2  3]\n",
      "  [12 13 14 15]]\n",
      "\n",
      " [[ 4  5  6  7]\n",
      "  [16 17 18 19]]\n",
      "\n",
      " [[ 8  9 10 11]\n",
      "  [20 21 22 23]]]\n",
      "[[[ 0  4  8]\n",
      "  [ 1  5  9]\n",
      "  [ 2  6 10]\n",
      "  [ 3  7 11]]\n",
      "\n",
      " [[12 16 20]\n",
      "  [13 17 21]\n",
      "  [14 18 22]\n",
      "  [15 19 23]]]\n"
     ]
    }
   ],
   "source": [
    "arr = np.arange(24).reshape((2,3,4)) # 2면 3행 4열 인덱스는 0,1,2\n",
    "print(arr)\n",
    "print(arr.transpose((1,0,2))) #  인덱스, 면하고 행 바꾸기 3,2,4\n",
    "print(arr.transpose((0,2,1))) # 2,4,3"
   ]
  },
  {
   "cell_type": "code",
   "execution_count": 124,
   "metadata": {},
   "outputs": [
    {
     "name": "stdout",
     "output_type": "stream",
     "text": [
      "[ True False False False False False False]\n",
      "[[ 0.19169334 -1.49398506 -1.18293848  1.53786757]\n",
      " [ 0.7268516  -0.79878769  0.23663762 -1.22652008]\n",
      " [-0.3388016   0.14826502  1.08721933 -0.1618077 ]\n",
      " [-1.66016085  1.00603113 -0.7088728   0.28716659]\n",
      " [-1.05357916 -0.01466582  1.07920419  0.52029141]\n",
      " [-0.21177772  0.39917727  1.53531685 -0.6106963 ]\n",
      " [-1.09742486 -0.46818719 -1.15226686 -0.46544451]]\n",
      "<class 'numpy.ndarray'>\n",
      "[[ 0.19169334 -1.49398506 -1.18293848  1.53786757]]\n",
      "[[-1.18293848  1.53786757]]\n",
      "[1.53786757]\n",
      "[False  True  True  True  True  True  True]\n",
      "[False  True  True  True  True  True  True]\n",
      "[ True False  True False  True False False]\n",
      "[[ 0.19169334 -1.49398506 -1.18293848  1.53786757]\n",
      " [-0.3388016   0.14826502  1.08721933 -0.1618077 ]\n",
      " [-1.05357916 -0.01466582  1.07920419  0.52029141]]\n"
     ]
    }
   ],
   "source": [
    "# Boolean indexing (True/False)\n",
    "# 문자열은 대소문자 구분\n",
    "names = np.array(['Seoul', 'Daejun', 'chungju', 'seoul', 'chungju', 'Daejun', 'Daejun'])\n",
    "data = np.random.randn(7, 4) # 가우시안 표준 정규 분포\n",
    "print(names == 'Seoul') # 1,0,0,0,0,0,0\n",
    "print(data) \n",
    "print(type(data))\n",
    "print(data[names == 'Seoul']) # 0번행 #1,0,0,0,0,0,0\n",
    "print(data[names == 'Seoul', 2:])\n",
    "print(data[names == 'Seoul', 3])\n",
    "print(names != 'Seoul')\n",
    "print(~(names == 'Seoul'))\n",
    "mask = (names == 'Seoul') | (names == 'chungju')\n",
    "print(mask)\n",
    "print(data[mask])\n"
   ]
  },
  {
   "cell_type": "code",
   "execution_count": 125,
   "metadata": {},
   "outputs": [
    {
     "name": "stdout",
     "output_type": "stream",
     "text": [
      "[[ 0.19169334 -1.49398506 -1.18293848  1.53786757]]\n"
     ]
    }
   ],
   "source": [
    "print(data[names == 'Seoul'])"
   ]
  },
  {
   "cell_type": "code",
   "execution_count": 16,
   "metadata": {},
   "outputs": [
    {
     "name": "stdout",
     "output_type": "stream",
     "text": [
      "<zip object at 0x0000023F0ACB0588>\n",
      "[(1.1, 2.1, True), (1.2, 2.2, False), (1.3, 2.3, True), (1.4, 2.4, True), (1.5, 2.5, False)]\n",
      "result =  [1.1, 2.2, 1.3, 1.4, 2.5]\n"
     ]
    }
   ],
   "source": [
    "xarr = np.array([1.1, 1.2, 1.3, 1.4, 1.5])\n",
    "yarr = np.array([2.1, 2.2, 2.3, 2.4, 2.5])\n",
    "cond = np.array([True, False, True, True, False])\n",
    "print(zip(xarr, yarr, cond)) # zip : 요소별로 데이터 묶기, 고유포맷\n",
    "print(list(zip(xarr, yarr, cond)))\n",
    "result = [(x if c else y) for x, y, c in zip(xarr, yarr, cond)] # 3항연산자\n",
    "print(\"result = \", result) "
   ]
  },
  {
   "cell_type": "code",
   "execution_count": 17,
   "metadata": {},
   "outputs": [
    {
     "name": "stdout",
     "output_type": "stream",
     "text": [
      "[1.1 2.2 1.3 1.4 2.5]\n",
      "[[ 0.06197193 -0.94740433 -0.93984654 -2.00062869]\n",
      " [-0.74307857  0.26446213  0.03116864  0.0310309 ]\n",
      " [-0.83284191 -0.31626254 -1.33983866  0.7845441 ]\n",
      " [-0.72750122  0.95639502 -0.84150242 -0.53415962]]\n",
      "[[ 2 -2 -2 -2]\n",
      " [-2  2  2  2]\n",
      " [-2 -2 -2  2]\n",
      " [-2  2 -2 -2]]\n"
     ]
    }
   ],
   "source": [
    "result = np.where(cond, xarr, yarr)\n",
    "print(result)\n",
    "\n",
    "arr = np.random.randn(4,4)\n",
    "print(arr)\n",
    "print(np.where(arr>0, 2,-2))"
   ]
  },
  {
   "cell_type": "code",
   "execution_count": null,
   "metadata": {},
   "outputs": [],
   "source": [
    "#문제 ) 다음 데이터를 이용하여 두개다 참일 때는 0 cond1이 참일 때는 1 , \n",
    "#cond2가 참일때는 2 그 외일 때는 3으로 처리\n",
    "#0,1,2,3\n",
    "# 조건 4\n",
    "#where 3"
   ]
  },
  {
   "cell_type": "code",
   "execution_count": 23,
   "metadata": {},
   "outputs": [
    {
     "name": "stdout",
     "output_type": "stream",
     "text": [
      "조건문 [1, 2, 0, 0, 3, 2, 0]\n"
     ]
    }
   ],
   "source": [
    "result = []\n",
    "cond1 = np.array([1,0,1,1,0,0,1], dtype = bool)\n",
    "cond2 = np.array([0,1,1,1,0,1,1], dtype = bool)\n",
    "\n",
    "for i in range(len(cond1)):\n",
    "    if(cond1[i] and cond2[i]):\n",
    "        result.append(0)\n",
    "    elif cond1[i]:\n",
    "        result.append(1)\n",
    "    elif cond2[i]:\n",
    "        result.append(2)\n",
    "    else:\n",
    "        result.append(3)\n",
    "print(\"조건문\", result)\n"
   ]
  },
  {
   "cell_type": "code",
   "execution_count": 26,
   "metadata": {},
   "outputs": [
    {
     "name": "stdout",
     "output_type": "stream",
     "text": [
      "3항 연산자  [1 2 0 0 3 2 0]\n",
      "수식을 이용한 [4 5 3 3 0 5 3]\n"
     ]
    }
   ],
   "source": [
    "result = np.where(cond1 & cond2,0,np.where(cond1,1, np.where(cond2,2,3)))\n",
    "\n",
    "print(\"3항 연산자 \",result)\n",
    "result = 1 * (cond1 & ~cond2) + 2*(cond2 & ~cond1) + 3 *(cond1 | cond2)\n",
    "print(\"수식을 이용한\",result)"
   ]
  },
  {
   "cell_type": "code",
   "execution_count": 31,
   "metadata": {},
   "outputs": [
    {
     "name": "stdout",
     "output_type": "stream",
     "text": [
      "[10002 10004 10006 ... 29996 29998 30000]\n"
     ]
    }
   ],
   "source": [
    "x = np.arange(1,10001)\n",
    "y = np.arange(10001,20001)\n",
    "\n",
    "z = np.zeros_like(x) # 다른 행렬과 같은 사이즈로 초기화 \n",
    "for i in range(10000):\n",
    "    z[i] = x[i] + y[i]\n",
    "print(z)"
   ]
  },
  {
   "cell_type": "code",
   "execution_count": 33,
   "metadata": {},
   "outputs": [
    {
     "name": "stdout",
     "output_type": "stream",
     "text": [
      "False\n",
      "[ 2.71828183  7.3890561  20.08553692 54.59815003]\n",
      "True\n"
     ]
    }
   ],
   "source": [
    "a = np.array([1,2,3,4])\n",
    "b = np.array([4,2,2,4])\n",
    "print(np.all(a == b)) #전체가 참일경우\n",
    "print(np.exp(a)) # 지수함수( 자연대수 2.718)\n",
    "print(np.any(a == b)) # 하나라도 참이면 참"
   ]
  },
  {
   "cell_type": "code",
   "execution_count": 34,
   "metadata": {},
   "outputs": [],
   "source": [
    "# 선형대수 : 선형으로 해결하자 :=> 비선형도 잘게 나누면 선형 \n",
    "#고유값 분해 (정방향 행렬) 행 == 열\n",
    "#svd (특이값 분해)\n",
    "#상관분석 (공분산 , 상관계수)\n"
   ]
  },
  {
   "cell_type": "code",
   "execution_count": 35,
   "metadata": {},
   "outputs": [],
   "source": [
    "#행렬의 종류 \n",
    "# 정방행렬 : 정사각형 ( 행과 열 개수가 같은 행렬)\n",
    "# 대칭행렬 : 우상단과 좌하단 같은 것\n",
    "# 대각행렬 : scale을 변화시키는 요소\n",
    "# 단위행렬 : idnetity 행렬곱의 항등원 , 행렬과 역행렬을 곱하면 단위행렬\n",
    "# 역행렬 : 행렬의 누눗셈을 위해 구해서 곱해지는 행렬 (정방행렬)\n",
    "# 특이행렬 : 역행렬이 없는 행렬 \n",
    "# 직교행렬 : 축의 정직교, 각축간의 내적이 0 인 행렬\n",
    "# 정방행렬이면서 대칭행렬 : 공분산 행렬, 상관계수행렬, 거리 행렬\n",
    "# 공분산 : 두 수간의 관계 (한수 - 평균) * (다른수 - 평균) / (n - 1) \n",
    "# 상관계수( 표준화 -1 ~ 1) :공분산 / 표준편차의 곱 "
   ]
  },
  {
   "cell_type": "code",
   "execution_count": 38,
   "metadata": {},
   "outputs": [
    {
     "name": "stdout",
     "output_type": "stream",
     "text": [
      "[[1 2]\n",
      " [3 4]]\n",
      "[[2 2]\n",
      " [2 2]]\n",
      "[[3 4]\n",
      " [5 6]]\n",
      "[[2 4]\n",
      " [6 8]]\n",
      "[[ 6  6]\n",
      " [14 14]]\n"
     ]
    }
   ],
   "source": [
    "import numpy as np\n",
    "F1 = np.array([[1,2],[3,4]]) # 2 x 2\n",
    "F2 = np.array([[2,2],[2,2]]) # 2 x 2\n",
    "print(F1)\n",
    "print(F2)\n",
    "print(F1 + F2) # 요소끼리 \n",
    "print(F1 * F2) \n",
    "print(F1 @ F2) # \n",
    "# 1,2  2, 2  행열곱도 내적 , 두 벡터의 사이각을 구해\n",
    "# 3,4  2, 2 "
   ]
  },
  {
   "cell_type": "code",
   "execution_count": 71,
   "metadata": {},
   "outputs": [
    {
     "name": "stdout",
     "output_type": "stream",
     "text": [
      "[[ 2  1 -2]\n",
      " [ 3  0  1]\n",
      " [ 1  1 -1]]\n",
      "[[-3]\n",
      " [ 5]\n",
      " [-2]]\n",
      "[[ 1.]\n",
      " [-1.]\n",
      " [ 2.]]\n"
     ]
    }
   ],
   "source": [
    "#방정식의 해\n",
    "# 2x1 + x2 - 2x3 = -3\n",
    "# 3x1 + 2x3 = 5\n",
    "# x1 + x2 - x3 = -2 \n",
    "A = np.array([[2,1,-2],[3,0,1],[1,1,-1]])\n",
    "print(A)\n",
    "b = np.transpose(np.array([[-3 ,5 , -2]]))\n",
    "print(b)\n",
    "x = np.linalg.solve(A,b) # a 의 역행렬을 구해서 b 와 곱해라\n",
    "print(x)"
   ]
  },
  {
   "cell_type": "code",
   "execution_count": 72,
   "metadata": {},
   "outputs": [
    {
     "data": {
      "text/plain": [
       "array([[ 1.],\n",
       "       [-1.],\n",
       "       [ 2.]])"
      ]
     },
     "execution_count": 72,
     "metadata": {},
     "output_type": "execute_result"
    }
   ],
   "source": [
    "np.dot(np.linalg.inv(A),b) #행렬 곱"
   ]
  },
  {
   "cell_type": "code",
   "execution_count": 73,
   "metadata": {},
   "outputs": [
    {
     "data": {
      "text/plain": [
       "array([[ 1.],\n",
       "       [-1.],\n",
       "       [ 2.]])"
      ]
     },
     "execution_count": 73,
     "metadata": {},
     "output_type": "execute_result"
    }
   ],
   "source": [
    "np.linalg.inv(A)@b"
   ]
  },
  {
   "cell_type": "code",
   "execution_count": 58,
   "metadata": {},
   "outputs": [
    {
     "name": "stdout",
     "output_type": "stream",
     "text": [
      "0\n"
     ]
    }
   ],
   "source": [
    "a = np.array([0,1,0]) #x 축\n",
    "b = np.array([1,0,0]) #y 축 \n",
    "res = np.dot(a,b) # 내적 사이각 = 직각\n",
    "print(res)"
   ]
  },
  {
   "cell_type": "code",
   "execution_count": 63,
   "metadata": {},
   "outputs": [
    {
     "name": "stdout",
     "output_type": "stream",
     "text": [
      "1.0\n",
      "1.0\n",
      "1.0\n",
      "cos thera 0.0\n",
      "1.5707963267948966\n",
      "90.0\n"
     ]
    }
   ],
   "source": [
    "print(np.linalg.norm(a)) # 벡터의 크기 \n",
    "print(np.linalg.norm(b))\n",
    "print(np.linalg.norm(a) * np.linalg.norm(b))\n",
    "rad = res / (np.linalg.norm(a) * np.linalg.norm(b)) #cos(Theta)\n",
    "print(\"cos thera\", rad)\n",
    "print(np.arccos(rad)) #theat 값을 구함 \n",
    "print(np.degrees(np.arccos(rad))) # 사람이 알아보는 각도로 표현 "
   ]
  },
  {
   "cell_type": "code",
   "execution_count": 66,
   "metadata": {},
   "outputs": [
    {
     "name": "stdout",
     "output_type": "stream",
     "text": [
      "[[1 2]\n",
      " [3 4]]\n",
      "[[-2.   1. ]\n",
      " [ 1.5 -0.5]]\n",
      "[[1.00000000e+00 1.11022302e-16]\n",
      " [0.00000000e+00 1.00000000e+00]]\n"
     ]
    }
   ],
   "source": [
    "x = np.array([[1,2],[3,4]])\n",
    "y = np.linalg.inv(x)\n",
    "print(x)\n",
    "print(y)\n",
    "print(np.dot(x,y))\n"
   ]
  },
  {
   "cell_type": "code",
   "execution_count": 67,
   "metadata": {},
   "outputs": [
    {
     "ename": "SyntaxError",
     "evalue": "invalid syntax (<ipython-input-67-21f3adc5e078>, line 3)",
     "output_type": "error",
     "traceback": [
      "\u001b[1;36m  File \u001b[1;32m\"<ipython-input-67-21f3adc5e078>\"\u001b[1;36m, line \u001b[1;32m3\u001b[0m\n\u001b[1;33m    - 2y + 5z = -4\u001b[0m\n\u001b[1;37m       ^\u001b[0m\n\u001b[1;31mSyntaxError\u001b[0m\u001b[1;31m:\u001b[0m invalid syntax\n"
     ]
    }
   ],
   "source": [
    "# 다음 방정식의 해를 구하고 검산하시여\n",
    "- x + y + z =6\n",
    "- 2y + 5z = -4\n",
    "- 2x + 5y - z = 27"
   ]
  },
  {
   "cell_type": "code",
   "execution_count": 76,
   "metadata": {},
   "outputs": [
    {
     "name": "stdout",
     "output_type": "stream",
     "text": [
      "[[-3.]\n",
      " [ 7.]\n",
      " [ 2.]]\n"
     ]
    }
   ],
   "source": [
    "A = np.array([[1,1,1],[0,-2,5],[2,5,-1]])\n",
    "b = np.transpose(np.array([[6 ,-4 , 27]]))\n",
    "x = np.linalg.solve(A,b) # a 의 역행렬을 구해서 b 와 곱해라\n",
    "print(x)"
   ]
  }
 ],
 "metadata": {
  "kernelspec": {
   "display_name": "Python 3",
   "language": "python",
   "name": "python3"
  },
  "language_info": {
   "codemirror_mode": {
    "name": "ipython",
    "version": 3
   },
   "file_extension": ".py",
   "mimetype": "text/x-python",
   "name": "python",
   "nbconvert_exporter": "python",
   "pygments_lexer": "ipython3",
   "version": "3.7.4"
  }
 },
 "nbformat": 4,
 "nbformat_minor": 2
}
