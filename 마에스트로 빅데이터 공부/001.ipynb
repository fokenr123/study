{
 "cells": [
  {
   "cell_type": "markdown",
   "metadata": {},
   "source": [
    "# 편집모드와 명령행 모드 "
   ]
  },
  {
   "cell_type": "code",
   "execution_count": 20,
   "metadata": {},
   "outputs": [
    {
     "name": "stdout",
     "output_type": "stream",
     "text": [
      "10\n",
      "10\n"
     ]
    }
   ],
   "source": [
    "a = 10 #주소 <-> 값지정 (맵핑)\n",
    "b = a # 10이 대입되는 것이 아니라 a가 가르키는 주소가 대입\n",
    "print(a)\n",
    "print(b)"
   ]
  },
  {
   "cell_type": "code",
   "execution_count": 13,
   "metadata": {},
   "outputs": [
    {
     "name": "stdout",
     "output_type": "stream",
     "text": [
      "주소값 대입  140733549552304\n",
      "140733549552304\n"
     ]
    }
   ],
   "source": [
    "#주소 값 일치\n",
    "print(\"주소값 대입 \" , id(a))\n",
    "print(id(b))\n"
   ]
  },
  {
   "cell_type": "code",
   "execution_count": 22,
   "metadata": {},
   "outputs": [
    {
     "name": "stdout",
     "output_type": "stream",
     "text": [
      "20\n",
      "10\n",
      "주소값 대입 140733549552624\n",
      "140733549552304\n"
     ]
    },
    {
     "data": {
      "text/plain": [
       "(None, None)"
      ]
     },
     "execution_count": 22,
     "metadata": {},
     "output_type": "execute_result"
    }
   ],
   "source": [
    "a = 20 \n",
    "print(a)\n",
    "print(b)\n",
    "print(\"주소값 대입\" , id(a)), print(id(b))"
   ]
  },
  {
   "cell_type": "code",
   "execution_count": null,
   "metadata": {},
   "outputs": [],
   "source": [
    "#파이썬은 대소문자를 구분한다"
   ]
  },
  {
   "cell_type": "code",
   "execution_count": 24,
   "metadata": {},
   "outputs": [
    {
     "data": {
      "text/plain": [
       "int"
      ]
     },
     "execution_count": 24,
     "metadata": {},
     "output_type": "execute_result"
    }
   ],
   "source": [
    "type(a)"
   ]
  },
  {
   "cell_type": "code",
   "execution_count": 26,
   "metadata": {},
   "outputs": [
    {
     "name": "stdout",
     "output_type": "stream",
     "text": [
      "10\n"
     ]
    }
   ],
   "source": [
    "a = 10\n",
    "A = 20\n",
    "print(a)"
   ]
  },
  {
   "cell_type": "code",
   "execution_count": 32,
   "metadata": {},
   "outputs": [
    {
     "name": "stdout",
     "output_type": "stream",
     "text": [
      "수식을 입력하시요\n",
      "\n"
     ]
    },
    {
     "ename": "ValueError",
     "evalue": "invalid literal for int() with base 10: ''",
     "output_type": "error",
     "traceback": [
      "\u001b[1;31m---------------------------------------------------------------------------\u001b[0m",
      "\u001b[1;31mValueError\u001b[0m                                Traceback (most recent call last)",
      "\u001b[1;32m<ipython-input-32-03a2c59a5905>\u001b[0m in \u001b[0;36m<module>\u001b[1;34m\u001b[0m\n\u001b[0;32m      3\u001b[0m \u001b[1;31m#연산을 위해 데이터 타입을 숫자로 변경\u001b[0m\u001b[1;33m\u001b[0m\u001b[1;33m\u001b[0m\u001b[1;33m\u001b[0m\u001b[0m\n\u001b[0;32m      4\u001b[0m \u001b[0mprint\u001b[0m\u001b[1;33m(\u001b[0m\u001b[0mproblem\u001b[0m\u001b[1;33m)\u001b[0m\u001b[1;33m\u001b[0m\u001b[1;33m\u001b[0m\u001b[0m\n\u001b[1;32m----> 5\u001b[1;33m \u001b[0mprint\u001b[0m\u001b[1;33m(\u001b[0m\u001b[0mint\u001b[0m\u001b[1;33m(\u001b[0m\u001b[0mproblem\u001b[0m\u001b[1;33m)\u001b[0m\u001b[1;33m)\u001b[0m \u001b[1;31m#데이터를 casting : 데이터 형변환\u001b[0m\u001b[1;33m\u001b[0m\u001b[1;33m\u001b[0m\u001b[0m\n\u001b[0m\u001b[0;32m      6\u001b[0m \u001b[0mprint\u001b[0m\u001b[1;33m(\u001b[0m\u001b[0meval\u001b[0m\u001b[1;33m(\u001b[0m\u001b[0mproblem\u001b[0m\u001b[1;33m)\u001b[0m\u001b[1;33m)\u001b[0m \u001b[1;31m#평가\u001b[0m\u001b[1;33m\u001b[0m\u001b[1;33m\u001b[0m\u001b[0m\n",
      "\u001b[1;31mValueError\u001b[0m: invalid literal for int() with base 10: ''"
     ]
    }
   ],
   "source": [
    "#데이터 입력 : 프롬프트 텍스트\n",
    "problem = input(\"수식을 입력하시요\")\n",
    "#연산을 위해 데이터 타입을 숫자로 변경\n",
    "print(problem)\n",
    "print(int(problem)) #데이터를 casting : 데이터 형변환\n",
    "print(eval(problem)) #평가"
   ]
  },
  {
   "cell_type": "code",
   "execution_count": 33,
   "metadata": {},
   "outputs": [
    {
     "name": "stdout",
     "output_type": "stream",
     "text": [
      "0.00423\n",
      "127\n"
     ]
    }
   ],
   "source": [
    "a3 =4.23e-3  #exponet 지수형 \n",
    "a4 = 0o177 #ocatl 8진수로 표현0\n",
    "print(a3)\n",
    "print(a4)"
   ]
  },
  {
   "cell_type": "code",
   "execution_count": 42,
   "metadata": {},
   "outputs": [
    {
     "name": "stdout",
     "output_type": "stream",
     "text": [
      "이름을 입력하세요\n"
     ]
    },
    {
     "ename": "IndexError",
     "evalue": "string index out of range",
     "output_type": "error",
     "traceback": [
      "\u001b[1;31m---------------------------------------------------------------------------\u001b[0m",
      "\u001b[1;31mIndexError\u001b[0m                                Traceback (most recent call last)",
      "\u001b[1;32m<ipython-input-42-3da7df093958>\u001b[0m in \u001b[0;36m<module>\u001b[1;34m\u001b[0m\n\u001b[0;32m      4\u001b[0m \u001b[0mn\u001b[0m \u001b[1;33m=\u001b[0m \u001b[0mfullName\u001b[0m\u001b[1;33m.\u001b[0m\u001b[0mrfind\u001b[0m\u001b[1;33m(\u001b[0m\u001b[1;34m\" \"\u001b[0m\u001b[1;33m)\u001b[0m \u001b[1;31m#뒤에서 부터 찾으라\u001b[0m\u001b[1;33m\u001b[0m\u001b[1;33m\u001b[0m\u001b[0m\n\u001b[0;32m      5\u001b[0m \u001b[1;33m\u001b[0m\u001b[0m\n\u001b[1;32m----> 6\u001b[1;33m \u001b[0mprint\u001b[0m\u001b[1;33m(\u001b[0m\u001b[0mfullName\u001b[0m\u001b[1;33m[\u001b[0m\u001b[1;36m0\u001b[0m\u001b[1;33m]\u001b[0m\u001b[1;33m)\u001b[0m\u001b[1;33m\u001b[0m\u001b[1;33m\u001b[0m\u001b[0m\n\u001b[0m\u001b[0;32m      7\u001b[0m \u001b[0mprint\u001b[0m\u001b[1;33m(\u001b[0m\u001b[0mfullName\u001b[0m\u001b[1;33m[\u001b[0m\u001b[1;36m1\u001b[0m\u001b[1;33m]\u001b[0m\u001b[1;33m)\u001b[0m\u001b[1;33m\u001b[0m\u001b[1;33m\u001b[0m\u001b[0m\n\u001b[0;32m      8\u001b[0m \u001b[0mprint\u001b[0m\u001b[1;33m(\u001b[0m\u001b[0mfullName\u001b[0m\u001b[1;33m[\u001b[0m\u001b[1;36m2\u001b[0m\u001b[1;33m]\u001b[0m\u001b[1;33m)\u001b[0m\u001b[1;33m\u001b[0m\u001b[1;33m\u001b[0m\u001b[0m\n",
      "\u001b[1;31mIndexError\u001b[0m: string index out of range"
     ]
    }
   ],
   "source": [
    "# fullname = 문자열 : 기본이 1차원 배열 \n",
    "# 숫자 int = 4bit, float : 4bit \n",
    "fullName = input(\"이름을 입력하세요\")\n",
    "n = fullName.rfind(\" \") #뒤에서 부터 찾으라\n",
    "\n",
    "print(fullName[0])\n",
    "print(fullName[1])\n",
    "print(fullName[2])\n",
    "\n",
    "print(\"이름\" , fullName[n+1:])\n",
    "print(\"성s\" , fullName[:n])    "
   ]
  },
  {
   "cell_type": "code",
   "execution_count": 48,
   "metadata": {},
   "outputs": [
    {
     "name": "stdout",
     "output_type": "stream",
     "text": [
      "koreakorea\n",
      "koreakoreakorea\n",
      "korea\n",
      "a\n",
      "a\n",
      "or\n",
      "ea\n",
      "rea\n",
      "e\n",
      "5\n"
     ]
    },
    {
     "data": {
      "text/plain": [
       "['ko', 'ea']"
      ]
     },
     "execution_count": 48,
     "metadata": {},
     "output_type": "execute_result"
    }
   ],
   "source": [
    "s = \"korea\"\n",
    "print(s+s)\n",
    "print(s*3)\n",
    "print(s[0:])\n",
    "print(s[4])\n",
    "print(s[-1]) # r에서 -인덱스 제외하고 파이썬에서는 뒤에서\n",
    "print(s[1:3]) # 끝은 생략\n",
    "print(s[-2:])\n",
    "print(s[2:5])\n",
    "print(s[3:-1])\n",
    "print(len(s))\n",
    "s.split('r')"
   ]
  },
  {
   "cell_type": "code",
   "execution_count": 50,
   "metadata": {},
   "outputs": [
    {
     "name": "stdout",
     "output_type": "stream",
     "text": [
      "['Seoul', ' incheon', ' won']\n"
     ]
    }
   ],
   "source": [
    "#csv데이터 , comma로 분리된 데이터\n",
    "t = 'Seoul, incheon, won'.split(',')\n",
    "print(t)"
   ]
  },
  {
   "cell_type": "code",
   "execution_count": 52,
   "metadata": {},
   "outputs": [
    {
     "data": {
      "text/plain": [
       "'Seoul, incheon, won'"
      ]
     },
     "execution_count": 52,
     "metadata": {},
     "output_type": "execute_result"
    }
   ],
   "source": [
    "','.join(t)"
   ]
  },
  {
   "cell_type": "code",
   "execution_count": 57,
   "metadata": {},
   "outputs": [
    {
     "name": "stdout",
     "output_type": "stream",
     "text": [
      "Korea\n",
      "2\n",
      "1\n",
      "True\n",
      "False\n",
      "True\n",
      "koRea\n",
      "True\n",
      "True\n"
     ]
    }
   ],
   "source": [
    "# 파이썬은 객체 지향 프로그래밍으로 설계된 언어임: 모든 것이 객체임, 함수도 객체임\n",
    "# c ,java 는 객체지향을 별도로 학숩\n",
    "#python 은 자채가 객체지향언어 \n",
    "s = \"korea\"\n",
    "print(s.capitalize()) #첫 단어 대문자로 하기\n",
    "print(s.find('r'))\n",
    "print(s.count('re')) \n",
    "print(s.isalpha()) #문자열 \n",
    "print(s.isdigit()) #숫자\n",
    "print('0123'.isdigit()) \n",
    "print(s.replace('r','R'))\n",
    "print(s.startswith('k')) #k로 시작하냐 \n",
    "print(s.endswith('a')) #a로 끝나냐 "
   ]
  },
  {
   "cell_type": "code",
   "execution_count": 59,
   "metadata": {},
   "outputs": [
    {
     "name": "stdout",
     "output_type": "stream",
     "text": [
      "7 -1 12 0.75\n",
      "0.75\n",
      "3\n",
      "1\n",
      "0\n",
      "1\n",
      "0\n",
      "1.75\n",
      "1\n"
     ]
    }
   ],
   "source": [
    "#산술연산자\n",
    "a = 3\n",
    "b = 4\n",
    "print(a+b, a-b, a*b , a/b)\n",
    "print(a/b) \n",
    "print(a%b) #나머지 연산자 : 경우의 수를 생성할 때 : 변수가 가질 수 있는 경우수를 확인\n",
    "print(1%2)\n",
    "print(2%2)\n",
    "print(3%2)\n",
    "print(4%2)\n",
    "print(7/4)\n",
    "print(7//4)\n"
   ]
  },
  {
   "cell_type": "code",
   "execution_count": 61,
   "metadata": {},
   "outputs": [
    {
     "name": "stdout",
     "output_type": "stream",
     "text": [
      "sum([1,2,3]): 6\n",
      "min([1,2,3]): 1\n",
      "abs(-11): 11\n",
      "pow(2,10) 1024\n",
      "round(3.141595): 3 0\n",
      "round(3.141592) 3.14\n"
     ]
    }
   ],
   "source": [
    "# 내장함수 :\n",
    "# 괄호 :[ ] : list , {} :dict , set  ,() : tuple 함수에서 사용 \n",
    "# tuple은 읽기 전용이다\n",
    "print(\"sum([1,2,3]):\" ,sum([1,2,3]) ) #합\n",
    "print(\"min([1,2,3]):\" ,min([1,2,3]) ) #최소값\n",
    "print(\"abs(-11):\" ,abs(-11) ) #절대값\n",
    "print(\"pow(2,10)\", pow(2,10)) #2 ^10\n",
    "print(\"round(3.141595):\", round(3.141595),0) #반올림  <- 오버로딩 0을 제외해도 돌아가니깐\n",
    "print(\"round(3.141592)\", round(3.141595,2)) #2는 자리수를 나타냄\n",
    "# 함수의 형태가 다르면 : 오버로딩\n",
    "# 파이썬 오버로딩이 없음 : 디폹으 매개변수"
   ]
  },
  {
   "cell_type": "code",
   "execution_count": 63,
   "metadata": {},
   "outputs": [
    {
     "name": "stdout",
     "output_type": "stream",
     "text": [
      "19\n"
     ]
    }
   ],
   "source": [
    "# 문제 : 숫자 4,7,8 을 리스트로 초기화 하고 합계를 출력하라 \n",
    "a = [4,7,8]\n",
    "print(sum(a))"
   ]
  },
  {
   "cell_type": "code",
   "execution_count": 87,
   "metadata": {},
   "outputs": [
    {
     "name": "stdout",
     "output_type": "stream",
     "text": [
      "2,3\n",
      "0\n",
      "2\n"
     ]
    },
    {
     "ename": "TypeError",
     "evalue": "type() takes 1 or 3 arguments",
     "output_type": "error",
     "traceback": [
      "\u001b[1;31m---------------------------------------------------------------------------\u001b[0m",
      "\u001b[1;31mTypeError\u001b[0m                                 Traceback (most recent call last)",
      "\u001b[1;32m<ipython-input-87-1c3cbf93f87b>\u001b[0m in \u001b[0;36m<module>\u001b[1;34m\u001b[0m\n\u001b[0;32m      5\u001b[0m \u001b[0mnmg\u001b[0m \u001b[1;33m=\u001b[0m \u001b[0mn\u001b[0m\u001b[1;33m//\u001b[0m\u001b[0mm\u001b[0m\u001b[1;33m\u001b[0m\u001b[1;33m\u001b[0m\u001b[0m\n\u001b[0;32m      6\u001b[0m \u001b[0mmok\u001b[0m \u001b[1;33m=\u001b[0m \u001b[0mn\u001b[0m\u001b[1;33m%\u001b[0m\u001b[0mm\u001b[0m\u001b[1;33m\u001b[0m\u001b[1;33m\u001b[0m\u001b[0m\n\u001b[1;32m----> 7\u001b[1;33m \u001b[0mtype\u001b[0m\u001b[1;33m(\u001b[0m\u001b[0mn\u001b[0m\u001b[1;33m,\u001b[0m\u001b[0mm\u001b[0m\u001b[1;33m)\u001b[0m\u001b[1;33m\u001b[0m\u001b[1;33m\u001b[0m\u001b[0m\n\u001b[0m\u001b[0;32m      8\u001b[0m \u001b[1;33m\u001b[0m\u001b[0m\n\u001b[0;32m      9\u001b[0m \u001b[0mnum1\u001b[0m \u001b[1;33m=\u001b[0m \u001b[0minput\u001b[0m\u001b[1;33m(\u001b[0m\u001b[1;34m\"정수를 입력하시오\"\u001b[0m\u001b[1;33m)\u001b[0m\u001b[1;33m\u001b[0m\u001b[1;33m\u001b[0m\u001b[0m\n",
      "\u001b[1;31mTypeError\u001b[0m: type() takes 1 or 3 arguments"
     ]
    }
   ],
   "source": [
    "# 문제 두 수를 입력받아 몫과 나머지를 출력하시요\n",
    "n,m = map(int,input().split(','))\n",
    "print(n//m)\n",
    "print(n%m)\n",
    "nmg = n//m\n",
    "mok = n%m\n",
    "\n",
    "    \n",
    "num1 = input(\"정수를 입력하시오\")\n",
    "num2 = input(\"정수를 입력하시오\")\n",
    "hab = int(num1) + int(num2)\n",
    "quot = hab // 2\n",
    "re = hab % 2\n",
    "print(\"몫\" , quot, \"나머지\" , re)\n",
    "\n",
    "#파이썬의 블록은 들여쓰기임 : 블록 : 여러일을 묶는 역할\n",
    "#조건문 , 반복문 함수\n",
    "if re ==0:\n",
    "    print(\"짝수\")\n",
    "else:\n",
    "    print(\"홀수\")"
   ]
  },
  {
   "cell_type": "code",
   "execution_count": null,
   "metadata": {},
   "outputs": [],
   "source": [
    "#scope"
   ]
  },
  {
   "cell_type": "code",
   "execution_count": 88,
   "metadata": {},
   "outputs": [
    {
     "name": "stdout",
     "output_type": "stream",
     "text": [
      "200\n",
      "300\n"
     ]
    }
   ],
   "source": [
    "x = 300 #전역변수 \n",
    "def myfunc(): #함수도 리턴타입을 지정하지 않음\n",
    "    x =200    #지역변수 : 함수와 생사를 같이함\n",
    "    print(x)\n",
    "myfunc()\n",
    "print(x)\n"
   ]
  },
  {
   "cell_type": "code",
   "execution_count": 89,
   "metadata": {},
   "outputs": [],
   "source": [
    "#어떤 수가 들어 오더라도 나머지 0: 가위 , 1:바위 , 2:보로 출력하시오"
   ]
  },
  {
   "cell_type": "code",
   "execution_count": 98,
   "metadata": {},
   "outputs": [
    {
     "name": "stdout",
     "output_type": "stream",
     "text": [
      "3\n",
      "가위\n"
     ]
    }
   ],
   "source": [
    "x = int(input())\n",
    "z = x % 3\n",
    "if z == 0:\n",
    "    print(\"가위\")\n",
    "elif z == 1:\n",
    "    print(\"바위\")\n",
    "else:\n",
    "    print(\"보\")\n"
   ]
  },
  {
   "cell_type": "code",
   "execution_count": 103,
   "metadata": {},
   "outputs": [
    {
     "name": "stdout",
     "output_type": "stream",
     "text": [
      "4\n",
      "earths\n",
      "['fire', 'air']\n",
      "['air', 1, 'water', 'fire', 'earths']\n"
     ]
    }
   ],
   "source": [
    "# random : 프로그램에서 난수는 의사난수임\n",
    "import random\n",
    "random.seed(1000) #시작점을 고정시키는 역할 \n",
    "print(random.randint(1,5))\n",
    "elements = [\"earth\",1,\"air\",\"fire\",\"water\"]\n",
    "elements[0] = \"earths\"\n",
    "print(random.choice(elements))\n",
    "print(random.sample(elements,2))\n",
    "random.shuffle(elements) #섞는거 \n",
    "print(elements)"
   ]
  },
  {
   "cell_type": "code",
   "execution_count": 105,
   "metadata": {},
   "outputs": [
    {
     "name": "stdout",
     "output_type": "stream",
     "text": [
      "True\n",
      "True\n"
     ]
    }
   ],
   "source": [
    "# 비교연산자와 논리 연산자\n",
    "a=20\n",
    "b=10\n",
    "c = a>10 and b <50\n",
    "print(c)\n",
    "c = 10 <a < 50\n",
    "print(c)\n",
    "# ==  , != , x , >= ,<=\n",
    "# and : 둘다 참일때 \n",
    "# or : 둘 중 하나만 참이여도 참 \n",
    "# not : 논리 상태 반전\n"
   ]
  },
  {
   "cell_type": "code",
   "execution_count": 107,
   "metadata": {},
   "outputs": [
    {
     "name": "stdout",
     "output_type": "stream",
     "text": [
      "6 5\n"
     ]
    }
   ],
   "source": [
    "# swap \n",
    "x = 5\n",
    "y = 6\n",
    "x, y= y, x #리턴값이 2개 이상도 가능 \n",
    "print(x,y)"
   ]
  },
  {
   "cell_type": "code",
   "execution_count": 111,
   "metadata": {},
   "outputs": [
    {
     "name": "stdout",
     "output_type": "stream",
     "text": [
      "[3, ['a', 'b', 'c'], 4]\n",
      "['a', 'b']\n",
      "['c']\n",
      "1\n",
      "life\n"
     ]
    }
   ],
   "source": [
    "#list 안에 list(2차원, 3차원)\n",
    "# a에 저장된 것 : list 주소, 리스트는 주소를 담아논 항아리 \n",
    "a = [1,2,3,['a','b','c'],4,5]\n",
    "#2차원 리스트\n",
    "#a = [[a,100,50],[b,100,50].[c,100,50]]\n",
    "#3차원 리스트\n",
    "#a = [[a,100,50],[b,100,50].[c,100,50]],[[a,100,50],[b,100,50].[c,100,50]],[[a,100,50],[b,100,50].[c,100,50]]\n",
    "print(a[2:5])\n",
    "print(a[3][:2])\n",
    "print(a[3][2:])\n",
    "#3차 리스트\n",
    "a = [1,2,['a','b',['life','ir']]]\n",
    "print(a[0])\n",
    "print(a[2][2][0])\n"
   ]
  },
  {
   "cell_type": "code",
   "execution_count": 116,
   "metadata": {},
   "outputs": [
    {
     "name": "stdout",
     "output_type": "stream",
     "text": [
      "60\n",
      "60\n",
      "80\n"
     ]
    }
   ],
   "source": [
    "#리스트(list)를 이용한 스택(stack) - last in fast out  LIFO - 복귀주소 저장(함수의 운용)\n",
    "a = [10,20,30,40,50]\n",
    "a.append(60) # 데이터 추가시 append 함수 사용  \n",
    "print(a.pop()) # 뒤에서 데이터를 가지고 오면서 삭제\n",
    "a.append(60)\n",
    "print(a.pop())\n",
    "a.append(70)\n",
    "a.append(80)\n",
    "print(a.pop())"
   ]
  },
  {
   "cell_type": "code",
   "execution_count": 123,
   "metadata": {},
   "outputs": [
    {
     "name": "stdout",
     "output_type": "stream",
     "text": [
      "7 12\n",
      "7\n"
     ]
    },
    {
     "data": {
      "text/plain": [
       "(9, 20)"
      ]
     },
     "execution_count": 123,
     "metadata": {},
     "output_type": "execute_result"
    }
   ],
   "source": [
    "#파이썬 함수 - 리턴값 지정은 없습니다.\n",
    "# defind\n",
    "def calc(a,b):\n",
    "    return a+b , a*b\n",
    "x,y = calc(3,4)\n",
    "print(x,y)\n",
    "print(x)\n",
    "x,y\n",
    "args=(4,5) #tuple \n",
    "calc(*args) #포인터\n",
    "#리스트는 그 값의 생성, 삭제 , 수정이 가능하지만 튜플은 그 값을 바꿀 수 없다 .\n"
   ]
  },
  {
   "cell_type": "code",
   "execution_count": 130,
   "metadata": {},
   "outputs": [
    {
     "data": {
      "text/plain": [
       "dict_items([('one', 1), ('two', 2)])"
      ]
     },
     "execution_count": 130,
     "metadata": {},
     "output_type": "execute_result"
    }
   ],
   "source": [
    "#dictionary\n",
    "d = {'one':1, 'two':2} # 카이 -> 저장될 주소값으로 계산됨 ->검색에서 가장 속도가 빠름\n",
    "d.items()\n",
    "#mongodb => nosql"
   ]
  },
  {
   "cell_type": "code",
   "execution_count": 147,
   "metadata": {},
   "outputs": [
    {
     "name": "stdout",
     "output_type": "stream",
     "text": [
      "2\n",
      "True\n"
     ]
    },
    {
     "data": {
      "text/plain": [
       "['suwon', 'seoul', 'incheon']"
      ]
     },
     "execution_count": 147,
     "metadata": {},
     "output_type": "execute_result"
    }
   ],
   "source": [
    "cities = ('seoul','incheon','suwon')\n",
    "print(cities.index('suwon'))\n",
    "print('incheon' in cities)\n",
    "cities.count('seoul')\n",
    "sorted(cities) #오름차순\n",
    "sorted(cities, reverse = True) #내림차순 "
   ]
  },
  {
   "cell_type": "code",
   "execution_count": 149,
   "metadata": {},
   "outputs": [
    {
     "name": "stdout",
     "output_type": "stream",
     "text": [
      "['seoul', 'incheon', 'suwon', 'busan']\n",
      "['daegu', 'seoul', 'incheon', 'suwon', 'busan']\n",
      "결합 ['daegu', 'seoul', 'incheon', 'suwon', 'busan', 'jeju', 'kwangju']\n",
      "['daegu', 'seoul', 'incheon', 'suwon', 'busan', ['daejun', 'kwangju'], 'jeju', 'kwangju']\n"
     ]
    }
   ],
   "source": [
    "#강조< 리스트는 그 값의 생성, 삭제 , 수정이 가능하지만 튜플은 그 값을 바꿀 수 없다> .\n",
    "#리스트는 데이터 삽입 삭제가 용이 -\n",
    "cities = list(cities)\n",
    "cities.append('busan')\n",
    "print(cities)\n",
    "cities.insert(0,'daegu') #데이터 삽입\n",
    "print(cities)\n",
    "other_cities = ['jeju','kwangju']\n",
    "print('결합', cities + other_cities) # 리스트 + 연산자\n",
    "cities.append(['daejun','kwangju']) #모양이 유지가 됨\n",
    "cities.extend(['jeju','kwangju'])\n",
    "print(cities)"
   ]
  },
  {
   "cell_type": "code",
   "execution_count": 160,
   "metadata": {
    "scrolled": true
   },
   "outputs": [
    {
     "name": "stdout",
     "output_type": "stream",
     "text": [
      "['daejun']\n"
     ]
    },
    {
     "ename": "IndexError",
     "evalue": "list index out of range",
     "output_type": "error",
     "traceback": [
      "\u001b[1;31m---------------------------------------------------------------------------\u001b[0m",
      "\u001b[1;31mIndexError\u001b[0m                                Traceback (most recent call last)",
      "\u001b[1;32m<ipython-input-160-4bb26abbade7>\u001b[0m in \u001b[0;36m<module>\u001b[1;34m\u001b[0m\n\u001b[0;32m      1\u001b[0m \u001b[0mprint\u001b[0m\u001b[1;33m(\u001b[0m\u001b[0mcities\u001b[0m\u001b[1;33m[\u001b[0m\u001b[1;36m5\u001b[0m\u001b[1;33m]\u001b[0m\u001b[1;33m)\u001b[0m\u001b[1;33m\u001b[0m\u001b[1;33m\u001b[0m\u001b[0m\n\u001b[1;32m----> 2\u001b[1;33m \u001b[0mprint\u001b[0m\u001b[1;33m(\u001b[0m\u001b[0mcities\u001b[0m\u001b[1;33m[\u001b[0m\u001b[1;36m5\u001b[0m\u001b[1;33m]\u001b[0m\u001b[1;33m[\u001b[0m\u001b[1;36m1\u001b[0m\u001b[1;33m]\u001b[0m\u001b[1;33m)\u001b[0m\u001b[1;33m\u001b[0m\u001b[1;33m\u001b[0m\u001b[0m\n\u001b[0m\u001b[0;32m      3\u001b[0m \u001b[0mcities\u001b[0m\u001b[1;33m[\u001b[0m\u001b[1;36m5\u001b[0m\u001b[1;33m]\u001b[0m\u001b[1;33m[\u001b[0m\u001b[1;36m1\u001b[0m\u001b[1;33m]\u001b[0m \u001b[1;33m=\u001b[0m \u001b[1;34m'jeju'\u001b[0m\u001b[1;33m\u001b[0m\u001b[1;33m\u001b[0m\u001b[0m\n\u001b[0;32m      4\u001b[0m \u001b[1;32mdel\u001b[0m \u001b[0mcities\u001b[0m\u001b[1;33m[\u001b[0m\u001b[1;36m5\u001b[0m\u001b[1;33m]\u001b[0m\u001b[1;33m[\u001b[0m\u001b[1;36m1\u001b[0m\u001b[1;33m]\u001b[0m\u001b[1;33m\u001b[0m\u001b[1;33m\u001b[0m\u001b[0m\n\u001b[0;32m      5\u001b[0m \u001b[0mprint\u001b[0m\u001b[1;33m(\u001b[0m\u001b[0mcities\u001b[0m\u001b[1;33m[\u001b[0m\u001b[1;36m5\u001b[0m\u001b[1;33m]\u001b[0m\u001b[1;33m)\u001b[0m\u001b[1;33m\u001b[0m\u001b[1;33m\u001b[0m\u001b[0m\n",
      "\u001b[1;31mIndexError\u001b[0m: list index out of range"
     ]
    }
   ],
   "source": [
    "print(cities[5])\n",
    "print(cities[5][1])\n",
    "cities[5][1] = 'jeju'\n",
    "del cities[5][1]\n",
    "print(cities[5])"
   ]
  },
  {
   "cell_type": "code",
   "execution_count": null,
   "metadata": {},
   "outputs": [],
   "source": [
    "print(\"점수입력 :\" ,end = ' ')\n",
    "jusum = int(input())\n",
    "if jusum >= 90:\n",
    "    print('a')\n",
    "elif jusum >= 80:\n",
    "    print('b')\n",
    "elif jusum >= 70:\n",
    "    print('c')\n",
    "elif jusum >= 60:\n",
    "    print('d')\n",
    "else:\n",
    "    print('f')\n",
    "    "
   ]
  },
  {
   "cell_type": "code",
   "execution_count": 164,
   "metadata": {},
   "outputs": [],
   "source": [
    "# 자료구조를 데이터 타입화\n",
    "#list : 데이터의 앞뒤에 다음이나 이전 데이터의 주소가 저장\n",
    "#     : 메모리를 효율적으로 사용하고 삽입삭제를 용이하게 하기 위해서 사용하는 자료구조\n",
    "#dict : 키값이 데이터가 저장되어지는 주소값으로 계산되는 hash 함수를 이용해\n",
    "#     : 데이터 저장, 검색속도가 빠름\n",
    "#     : 데이터 주소값으로 변환되어지는 키 : 데이터 형식으로 저장된\n",
    "#set  : 키만 저장 (중복불허) : 범주형 데이터의 종류 확인할 떄 사용\n",
    "#tuple: list 와 동일한데 변경이 불가능함 (함수가 작다) -> 함수의 매개변수로\n",
    "#       값을 전달하거나 여려개의 리턴하고 싶을 때 사용 : 속도가 빠름"
   ]
  },
  {
   "cell_type": "code",
   "execution_count": 3,
   "metadata": {},
   "outputs": [
    {
     "name": "stdout",
     "output_type": "stream",
     "text": [
      "ㅇㄹ\n"
     ]
    },
    {
     "ename": "ValueError",
     "evalue": "not enough values to unpack (expected 2, got 1)",
     "output_type": "error",
     "traceback": [
      "\u001b[1;31m---------------------------------------------------------------------------\u001b[0m",
      "\u001b[1;31mValueError\u001b[0m                                Traceback (most recent call last)",
      "\u001b[1;32m<ipython-input-3-f69560e020e1>\u001b[0m in \u001b[0;36m<module>\u001b[1;34m\u001b[0m\n\u001b[0;32m      5\u001b[0m \u001b[1;31m#  flashing       구름            눈오는날\u001b[0m\u001b[1;33m\u001b[0m\u001b[1;33m\u001b[0m\u001b[1;33m\u001b[0m\u001b[0m\n\u001b[0;32m      6\u001b[0m \u001b[1;33m\u001b[0m\u001b[0m\n\u001b[1;32m----> 7\u001b[1;33m \u001b[0mcolor\u001b[0m\u001b[1;33m,\u001b[0m\u001b[0mmode\u001b[0m \u001b[1;33m=\u001b[0m\u001b[0mlist\u001b[0m\u001b[1;33m(\u001b[0m\u001b[0mmap\u001b[0m\u001b[1;33m(\u001b[0m\u001b[0mstr\u001b[0m\u001b[1;33m,\u001b[0m\u001b[0minput\u001b[0m\u001b[1;33m(\u001b[0m\u001b[1;33m)\u001b[0m\u001b[1;33m.\u001b[0m\u001b[0msplit\u001b[0m\u001b[1;33m(\u001b[0m\u001b[1;33m)\u001b[0m\u001b[1;33m)\u001b[0m\u001b[1;33m)\u001b[0m\u001b[1;33m\u001b[0m\u001b[1;33m\u001b[0m\u001b[0m\n\u001b[0m\u001b[0;32m      8\u001b[0m \u001b[1;33m\u001b[0m\u001b[0m\n\u001b[0;32m      9\u001b[0m \u001b[1;32mif\u001b[0m \u001b[0mcolor\u001b[0m \u001b[1;33m==\u001b[0m \u001b[1;34m\"blue\"\u001b[0m\u001b[1;33m:\u001b[0m\u001b[1;33m\u001b[0m\u001b[1;33m\u001b[0m\u001b[0m\n",
      "\u001b[1;31mValueError\u001b[0m: not enough values to unpack (expected 2, got 1)"
     ]
    }
   ],
   "source": [
    "# 다음 표 (color와 mode에 따른 날씨)를 if문을 이용하여 출력하시요\n",
    "#          (반응에 따른 날씨 예측 프로그램)\n",
    "#                    blue           red\n",
    "#  steady          화창            비오는날\n",
    "#  flashing       구름            눈오는날 \n",
    "\n",
    "color,mode =list(map(str,input().split()))\n",
    "\n",
    "if color == \"blue\":\n",
    "    if mode == \"steady\":\n",
    "        print(\"화창\")\n",
    "    else:\n",
    "        print(\"구름\")\n",
    "elif color == \"red\":\n",
    "    if mode == \"steady\":\n",
    "        print(\"비오는날\")\n",
    "    else:\n",
    "        print(\"눈오는날\")\n",
    "        "
   ]
  },
  {
   "cell_type": "code",
   "execution_count": 16,
   "metadata": {},
   "outputs": [
    {
     "name": "stdout",
     "output_type": "stream",
     "text": [
      "123.123 123.123 \n",
      "손익분기점\n"
     ]
    }
   ],
   "source": [
    "#수입과 지출을 입력받아 순수입을 출력하는 프로그램을 작성하시요\n",
    "# - 제약조건 : 소수점 이하 2자리까지 출력\n",
    "# - 수입과 지출이 동일한 경우를 고려하시요(손익분기점)\n",
    "# - 결과 출력시 경우에 따라 순수익 , 손실도 같이 출력하도록 하시요\n",
    "# 평균 , 분산, 표준편차, 포준오차:데이터 개수의 root 값으로 나누어서 \n",
    "# 분산 : 관측치 - 평균\n",
    "#for 문 :  \n",
    "go , stop = list(map(float,input().split()))\n",
    "if go == stop:\n",
    "    print(\"손익분기점\")\n",
    "else:\n",
    "    if go > stop:\n",
    "        print(\"순수익 : \",round(go - stop,2))\n",
    "    else:\n",
    "        print(\"손실 : \" ,round(stop - go ,2))\n",
    "        \n",
    "#    if go < stop:\n",
    "#        profit = go - stop\n",
    "#        result = \"손수익 = {0:,.2f}\".format(round(profit,2))\n",
    "#    else go > stop\n",
    "#        profit = stop - go \n",
    "#        result = \"손수익 = {0:,.2f}\".format(round(profit,2)) 몲 ㅅㅂ\n",
    "        \n"
   ]
  },
  {
   "cell_type": "code",
   "execution_count": null,
   "metadata": {},
   "outputs": [],
   "source": [
    "\n",
    "if go < stop:\n",
    "    profit = go - stop\n",
    "    result = \"손수익 = {0:,,2f}\".format(round(profit,2))\n",
    "else go > stop\n",
    "    profit = stop - go \n",
    "    result = \"손수익 = {0:,,2f}\".format(round(profit,2))\n",
    "        "
   ]
  }
 ],
 "metadata": {
  "kernelspec": {
   "display_name": "Python 3",
   "language": "python",
   "name": "python3"
  },
  "language_info": {
   "codemirror_mode": {
    "name": "ipython",
    "version": 3
   },
   "file_extension": ".py",
   "mimetype": "text/x-python",
   "name": "python",
   "nbconvert_exporter": "python",
   "pygments_lexer": "ipython3",
   "version": "3.7.4"
  }
 },
 "nbformat": 4,
 "nbformat_minor": 2
}
