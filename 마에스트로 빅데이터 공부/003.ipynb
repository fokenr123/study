{
 "cells": [
  {
   "cell_type": "code",
   "execution_count": 5,
   "metadata": {},
   "outputs": [
    {
     "ename": "SyntaxError",
     "evalue": "invalid syntax (<ipython-input-5-30c7d6721c02>, line 2)",
     "output_type": "error",
     "traceback": [
      "\u001b[1;36m  File \u001b[1;32m\"<ipython-input-5-30c7d6721c02>\"\u001b[1;36m, line \u001b[1;32m2\u001b[0m\n\u001b[1;33m    -함수 이름은 중복이 되면 안됨( 오버로딩은 default 매개변수로 해결)\u001b[0m\n\u001b[1;37m          ^\u001b[0m\n\u001b[1;31mSyntaxError\u001b[0m\u001b[1;31m:\u001b[0m invalid syntax\n"
     ]
    }
   ],
   "source": [
    "#함수 function\n",
    "-함수 이름은 중복이 되면 안됨( 오버로딩은 default 매개변수로 해결)\n",
    "-Required auguments(매개변수를 순서적으로 입력)\n",
    "-keyword auguments(키 매개변수의 순서 변경이 가능)\n",
    "-default auguments(오버로딩 해결)\n",
    "-variable-length auguments(변동매개변수 : * : list, ** : dict)\n"
   ]
  },
  {
   "cell_type": "code",
   "execution_count": 11,
   "metadata": {},
   "outputs": [
    {
     "name": "stdout",
     "output_type": "stream",
     "text": [
      "30\n",
      "30\n"
     ]
    }
   ],
   "source": [
    "a =10\n",
    "b =20\n",
    "result = a+ b\n",
    "print(result)\n",
    "\n",
    "c = 10\n",
    "d = 20\n",
    "reult = c+d\n",
    "print(result)"
   ]
  },
  {
   "cell_type": "code",
   "execution_count": 15,
   "metadata": {},
   "outputs": [
    {
     "name": "stdout",
     "output_type": "stream",
     "text": [
      "30\n",
      "50\n"
     ]
    }
   ],
   "source": [
    "def aadvalue(a,b):\n",
    "    return a+b\n",
    "print(aadvalue(10,20))\n",
    "print(aadvalue(20,30))"
   ]
  },
  {
   "cell_type": "code",
   "execution_count": 16,
   "metadata": {},
   "outputs": [
    {
     "ename": "NameError",
     "evalue": "name 'ax' is not defined",
     "output_type": "error",
     "traceback": [
      "\u001b[1;31m---------------------------------------------------------------------------\u001b[0m",
      "\u001b[1;31mNameError\u001b[0m                                 Traceback (most recent call last)",
      "\u001b[1;32m<ipython-input-16-369ac2d1f2ba>\u001b[0m in \u001b[0;36m<module>\u001b[1;34m\u001b[0m\n\u001b[0;32m      1\u001b[0m \u001b[1;31m#회귀분석\u001b[0m\u001b[1;33m\u001b[0m\u001b[1;33m\u001b[0m\u001b[1;33m\u001b[0m\u001b[0m\n\u001b[1;32m----> 2\u001b[1;33m \u001b[0my\u001b[0m \u001b[1;33m=\u001b[0m \u001b[0max\u001b[0m\u001b[1;33m+\u001b[0m\u001b[0mb\u001b[0m\u001b[1;33m\u001b[0m\u001b[1;33m\u001b[0m\u001b[0m\n\u001b[0m",
      "\u001b[1;31mNameError\u001b[0m: name 'ax' is not defined"
     ]
    }
   ],
   "source": [
    "#회귀분석\n",
    "y = ax+b "
   ]
  },
  {
   "cell_type": "code",
   "execution_count": 20,
   "metadata": {},
   "outputs": [
    {
     "name": "stdout",
     "output_type": "stream",
     "text": [
      "1030\n",
      "1030\n"
     ]
    }
   ],
   "source": [
    "def reg(a,b,x):\n",
    "    return a*x + b\n",
    "print(reg(10,30,100))\n",
    "\n",
    "def reg(x):\n",
    "    a = 10\n",
    "    b = 30\n",
    "    return a * x + b\n",
    "print(reg(100))"
   ]
  },
  {
   "cell_type": "code",
   "execution_count": 21,
   "metadata": {},
   "outputs": [
    {
     "ename": "SyntaxError",
     "evalue": "'return' outside function (<ipython-input-21-9ebd2735c4dc>, line 9)",
     "output_type": "error",
     "traceback": [
      "\u001b[1;36m  File \u001b[1;32m\"<ipython-input-21-9ebd2735c4dc>\"\u001b[1;36m, line \u001b[1;32m9\u001b[0m\n\u001b[1;33m    return result\u001b[0m\n\u001b[1;37m                 ^\u001b[0m\n\u001b[1;31mSyntaxError\u001b[0m\u001b[1;31m:\u001b[0m 'return' outside function\n"
     ]
    }
   ],
   "source": [
    "# 두수를 더한 값이 10보다 큰지 확인하시오\n",
    "a = 10\n",
    "b = 20\n",
    "reult = a+b \n",
    "if result >=10:\n",
    "    result = \"10보다 크다\"\n",
    "else:\n",
    "    result = \"10보다 작다\"\n",
    "return result"
   ]
  },
  {
   "cell_type": "code",
   "execution_count": 25,
   "metadata": {},
   "outputs": [
    {
     "name": "stdout",
     "output_type": "stream",
     "text": [
      "10보다 크다\n"
     ]
    }
   ],
   "source": [
    "def sum_1(a,b):\n",
    "    result = a+b \n",
    "    if result >=10:\n",
    "        result = \"10보다 크다\"\n",
    "    else:\n",
    "        result = \"10보다 작다\"\n",
    "    return result\n",
    "print(sum_1(10,20))\n"
   ]
  },
  {
   "cell_type": "code",
   "execution_count": 35,
   "metadata": {},
   "outputs": [
    {
     "name": "stdout",
     "output_type": "stream",
     "text": [
      "(10, 20)\n"
     ]
    },
    {
     "data": {
      "text/plain": [
       "tuple"
      ]
     },
     "execution_count": 35,
     "metadata": {},
     "output_type": "execute_result"
    }
   ],
   "source": [
    "a = 10\n",
    "b = 20\n",
    "def diff(a,b):\n",
    "    c = 0\n",
    "    c = a\n",
    "    a = b\n",
    "    b = c\n",
    "    return a,b\n",
    "diff(2,3)\n",
    "\n",
    "def swap(x,y):\n",
    "    return y,x\n",
    "swap(2,3)\n",
    "a, b = swap(a,b)\n",
    "x = swap(a,b)\n",
    "print(x)\n",
    "type(x)\n"
   ]
  },
  {
   "cell_type": "code",
   "execution_count": 40,
   "metadata": {},
   "outputs": [
    {
     "name": "stdout",
     "output_type": "stream",
     "text": [
      "30\n",
      "-10\n",
      "200\n",
      "(30, -10, 200)\n",
      "결과 30\n",
      "결과 -10\n",
      "결과 200\n"
     ]
    }
   ],
   "source": [
    "def add(a,b):\n",
    "    c = a+b\n",
    "    return c\n",
    "#   return a + b\n",
    "def subtract(a,b):\n",
    "    c = a - b\n",
    "    return c\n",
    "#   return a - b\n",
    "def mulitipy(a,b):\n",
    "    c = a * b\n",
    "    return c\n",
    "#   return a * b\n",
    "print(add(10,20))\n",
    "print(subtract(10,20))\n",
    "print(mulitipy(10,20))\n",
    "\n",
    "def mod(a,b):\n",
    "    c = a + b\n",
    "    e = a - b\n",
    "    d = a * b\n",
    "    return c,e,d\n",
    "print(mod(10,20))\n",
    "\n",
    "# 함수는 일급 함수 : 함수가 매개변수로 전달가능 , 리턴값으로 가능 \n",
    "def changefun(g,a,b):\n",
    "    return g(a,b)\n",
    "print('결과', changefun(add,10,20)) # sort(key함수 전달 )\n",
    "print('결과', changefun(subtract,10,20))\n",
    "print('결과', changefun(mulitipy,10,20))\n"
   ]
  },
  {
   "cell_type": "code",
   "execution_count": 55,
   "metadata": {},
   "outputs": [
    {
     "name": "stdout",
     "output_type": "stream",
     "text": [
      "함수 내부에서 출력 [10, 20, 30, [1, 2, 3, 4]]\n",
      "함수 외부에서 출력 [10, 20, 30, [1, 2, 3, 4]]\n"
     ]
    }
   ],
   "source": [
    "def changeme(mylist): #mylist = mylist 주소 \n",
    "    mylist.append([1,2,3,4])\n",
    "    print(\"함수 내부에서 출력\" , mylist)\n",
    "    return \n",
    "mylist = [10,20,30] #head에 저장 , 이유 : 주소값이 넘어 갔기 때문에 call by reference\n",
    "changeme(mylist)\n",
    "print(\"함수 외부에서 출력\", mylist)"
   ]
  },
  {
   "cell_type": "code",
   "execution_count": 57,
   "metadata": {},
   "outputs": [
    {
     "name": "stdout",
     "output_type": "stream",
     "text": [
      "함수 내부에서 출력 [1, 2, 3, 4]\n",
      "함수 외부에서 출력 [10, 20, 30]\n"
     ]
    }
   ],
   "source": [
    "def changeme(mylist): #mylist = mylist 주소 \n",
    "    mylist = [1,2,3,4] # 대입이 벌어지면 call by value \n",
    "    print(\"함수 내부에서 출력\" , mylist)\n",
    "    return \n",
    "mylist = [10,20,30] #head에 저장 , 이유 : 주소값이 넘어 갔기 때문에 call by reference\n",
    "changeme(mylist)\n",
    "print(\"함수 외부에서 출력\", mylist)"
   ]
  },
  {
   "cell_type": "code",
   "execution_count": 58,
   "metadata": {},
   "outputs": [
    {
     "name": "stdout",
     "output_type": "stream",
     "text": [
      "함수 내부에서 출력 [1, 2, 3, 4]\n",
      "함수 외부에서 출력 {10, 20, 30}\n"
     ]
    }
   ],
   "source": [
    "# 실행이 안되는 이유 : 데이터타입을 구분해야 하는 것은 프로그래머의 책임 \n",
    "mylist = {10,20,30} #데이터 타입이 달라서  \n",
    "changeme(mylist) \n",
    "print(\"함수 외부에서 출력\", mylist)"
   ]
  },
  {
   "cell_type": "code",
   "execution_count": 62,
   "metadata": {},
   "outputs": [
    {
     "name": "stdout",
     "output_type": "stream",
     "text": [
      "시작\n",
      "1 2 3 \n",
      "1 2 3 4 5 \n"
     ]
    }
   ],
   "source": [
    "#변동 매개변수\n",
    "def func1(*args): # * : list \n",
    "    for i in args:\n",
    "        print(i, end = \" \")\n",
    "    print()\n",
    "print('시작')\n",
    "func1(1,2,3)\n",
    "func1(1,2,3,4,5)\n",
    "\n"
   ]
  },
  {
   "cell_type": "code",
   "execution_count": 65,
   "metadata": {},
   "outputs": [
    {
     "name": "stdout",
     "output_type": "stream",
     "text": [
      "args is (1, 2)\n",
      "kwargs is {'z': 5.0}\n",
      "hello now i'm going to call <function g at 0x0000016EF8828C18>\n",
      "1\n",
      "2\n",
      "5.0\n"
     ]
    },
    {
     "data": {
      "text/plain": [
       "0.6"
      ]
     },
     "execution_count": 65,
     "metadata": {},
     "output_type": "execute_result"
    }
   ],
   "source": [
    "def say__hello_then_call(f,*args, **kwargs):\n",
    "    print(\"args is\" , args)\n",
    "    print(\"kwargs is\" , kwargs)\n",
    "    print(\"hello now i'm going to call %s\" %f) #함수의 주소값이 출력\n",
    "    return f(*args, **kwargs)\n",
    "\n",
    "def g(x,y,z=1): # 디폴트 매개변수\n",
    "    print(x)\n",
    "    print(y)\n",
    "    print(z)\n",
    "    return (x+y) /z \n",
    "say__hello_then_call(g, 1,2, z = 5.)"
   ]
  },
  {
   "cell_type": "code",
   "execution_count": 69,
   "metadata": {},
   "outputs": [
    {
     "name": "stdout",
     "output_type": "stream",
     "text": [
      "1 0\n",
      "1 2\n",
      "1 2\n"
     ]
    }
   ],
   "source": [
    "def func_test2(a, b=0):\n",
    "    print(a,b)\n",
    "func_test2(1)\n",
    "func_test2(1,2)\n",
    "func_test2(b=2, a=1)"
   ]
  },
  {
   "cell_type": "code",
   "execution_count": 72,
   "metadata": {},
   "outputs": [
    {
     "data": {
      "text/plain": [
       "True"
      ]
     },
     "execution_count": 72,
     "metadata": {},
     "output_type": "execute_result"
    }
   ],
   "source": [
    "def func_test4(): #None 객체 \n",
    "    pass #몸통을 미지정\n",
    "# == 숫자나 문자 , 객체를 비교할 때는 is \n",
    "result = func_test4()\n",
    "result is None"
   ]
  },
  {
   "cell_type": "code",
   "execution_count": 76,
   "metadata": {},
   "outputs": [
    {
     "data": {
      "text/plain": [
       "NoneType"
      ]
     },
     "execution_count": 76,
     "metadata": {},
     "output_type": "execute_result"
    }
   ],
   "source": [
    "result.__class__ #멤버 변수, 시스템에서 생성한 변수 "
   ]
  },
  {
   "cell_type": "code",
   "execution_count": 78,
   "metadata": {},
   "outputs": [
    {
     "data": {
      "text/plain": [
       "function"
      ]
     },
     "execution_count": 78,
     "metadata": {},
     "output_type": "execute_result"
    }
   ],
   "source": [
    "func_test4.__class__"
   ]
  },
  {
   "cell_type": "code",
   "execution_count": 81,
   "metadata": {},
   "outputs": [
    {
     "name": "stdout",
     "output_type": "stream",
     "text": [
      "15 5 50\n",
      "<class 'function'>\n"
     ]
    }
   ],
   "source": [
    "def func_test3(a,b):\n",
    "    return a + b , a- b , a * b\n",
    "a , b, c = func_test3(10,5)\n",
    "print(a,b,c)\n",
    "print(type(func_test3))"
   ]
  },
  {
   "cell_type": "code",
   "execution_count": 84,
   "metadata": {},
   "outputs": [
    {
     "ename": "SyntaxError",
     "evalue": "invalid syntax (<ipython-input-84-f96231505a6d>, line 1)",
     "output_type": "error",
     "traceback": [
      "\u001b[1;36m  File \u001b[1;32m\"<ipython-input-84-f96231505a6d>\"\u001b[1;36m, line \u001b[1;32m1\u001b[0m\n\u001b[1;33m    https://www.w3schools.com/python/ref_list_sort.asp\u001b[0m\n\u001b[1;37m           ^\u001b[0m\n\u001b[1;31mSyntaxError\u001b[0m\u001b[1;31m:\u001b[0m invalid syntax\n"
     ]
    }
   ],
   "source": [
    "https://www.w3schools.com/python/ref_list_sort.asp"
   ]
  },
  {
   "cell_type": "code",
   "execution_count": 87,
   "metadata": {},
   "outputs": [
    {
     "name": "stdout",
     "output_type": "stream",
     "text": [
      "15\n"
     ]
    }
   ],
   "source": [
    "#커림\n",
    "def all_number(x,y):\n",
    "    return x+y\n",
    "add_five = lambda y: all_number(5,y) #무명함수 => 유명함수\n",
    "print(add_five(10))"
   ]
  },
  {
   "cell_type": "code",
   "execution_count": 88,
   "metadata": {},
   "outputs": [],
   "source": [
    "# 문제 1: 두 점 사이의 거리값을 구하는 함수를 작성하시요"
   ]
  },
  {
   "cell_type": "code",
   "execution_count": 99,
   "metadata": {},
   "outputs": [
    {
     "data": {
      "text/plain": [
       "2.8284271247461903"
      ]
     },
     "execution_count": 99,
     "metadata": {},
     "output_type": "execute_result"
    }
   ],
   "source": [
    "import math\n",
    "def dist(x1,y1,x2,y2):\n",
    "    return math.sqrt((x2-x1)**2 + (y2-y1)**2)\n",
    "dist(2,2,4,4)\n",
    "#root => improt math / math.sqrt()\n",
    "\n"
   ]
  },
  {
   "cell_type": "code",
   "execution_count": 100,
   "metadata": {},
   "outputs": [
    {
     "name": "stdout",
     "output_type": "stream",
     "text": [
      "2.8284271247461903\n"
     ]
    }
   ],
   "source": [
    "import math\n",
    "def distance_between_points(x1,y1,x2,y2):\n",
    "    dx = x1 - x2\n",
    "    dy = y1 - y2\n",
    "    dist = math.sqrt(dx**2 + dy **2)\n",
    "    return dist\n",
    "print(distance_between_points(2,2,4,4))\n",
    "?distance_between_points"
   ]
  },
  {
   "cell_type": "code",
   "execution_count": 103,
   "metadata": {},
   "outputs": [
    {
     "data": {
      "text/plain": [
       "120"
      ]
     },
     "execution_count": 103,
     "metadata": {},
     "output_type": "execute_result"
    }
   ],
   "source": [
    "#5! = 5 *4 *3 *2 *1\n",
    "def factoral(n):\n",
    "    sum = 1 #항등원 : 덧셈의 항등원 0, 곱셈의 항등원 1, 행렬의 항등원 : 단위행렬\n",
    "    for i in range(n, 1 , -1):\n",
    "        sum *= i\n",
    "    return sum\n",
    "factoral(5)"
   ]
  },
  {
   "cell_type": "code",
   "execution_count": 108,
   "metadata": {},
   "outputs": [
    {
     "data": {
      "text/plain": [
       "120"
      ]
     },
     "execution_count": 108,
     "metadata": {},
     "output_type": "execute_result"
    }
   ],
   "source": [
    "#재귀함수 <= 함수가 자기 함수를 호출함\n",
    "\n",
    "def factoral(n,stop=1):\n",
    "    if n <= stop or n <=0:\n",
    "        return 1\n",
    "    return n*factoral(n-1,stop)\n",
    "factoral(5)"
   ]
  },
  {
   "cell_type": "code",
   "execution_count": 117,
   "metadata": {},
   "outputs": [
    {
     "data": {
      "text/plain": [
       "120"
      ]
     },
     "execution_count": 117,
     "metadata": {},
     "output_type": "execute_result"
    }
   ],
   "source": [
    "def factoral(n):\n",
    "    if n <= 0:\n",
    "        return 1\n",
    "    return n * factoral(n-1) \n",
    "factoral(5)"
   ]
  },
  {
   "cell_type": "code",
   "execution_count": 126,
   "metadata": {},
   "outputs": [
    {
     "name": "stdout",
     "output_type": "stream",
     "text": [
      "8\n"
     ]
    }
   ],
   "source": [
    "# power 함수를 구현하시요 (2 ^ 10)\n",
    "def power(r,n):\n",
    "    value = 1\n",
    "    for i in range(1, n+1):\n",
    "        value = r * value\n",
    "    return value\n",
    "print(power(2,3))"
   ]
  },
  {
   "cell_type": "code",
   "execution_count": 129,
   "metadata": {},
   "outputs": [
    {
     "name": "stdout",
     "output_type": "stream",
     "text": [
      "8\n"
     ]
    }
   ],
   "source": [
    "def power(r,n):\n",
    "    if n <= 0:\n",
    "        return 1\n",
    "    return r * power(r, n-1)\n",
    "print(power(2,3))"
   ]
  },
  {
   "cell_type": "code",
   "execution_count": 131,
   "metadata": {},
   "outputs": [
    {
     "name": "stdout",
     "output_type": "stream",
     "text": [
      "8\n"
     ]
    }
   ],
   "source": [
    "def power(r,n):\n",
    "    if n == 1:\n",
    "        return r\n",
    "    else:\n",
    "        return r * power(r , n-1)\n",
    "print(power(2,3))"
   ]
  },
  {
   "cell_type": "code",
   "execution_count": 137,
   "metadata": {},
   "outputs": [
    {
     "name": "stdout",
     "output_type": "stream",
     "text": [
      "inner\n",
      "global inner\n"
     ]
    }
   ],
   "source": [
    "#내부함수\n",
    "def outer():\n",
    "    def inner():\n",
    "        print('inner')\n",
    "    inner()\n",
    "def inner():\n",
    "    print(\"global inner\")\n",
    "outer()\n",
    "inner()"
   ]
  },
  {
   "cell_type": "code",
   "execution_count": 143,
   "metadata": {},
   "outputs": [
    {
     "name": "stdout",
     "output_type": "stream",
     "text": [
      "0.8152407278954851\n",
      "0.4425149518718492\n",
      "0.7804367918748507\n",
      "0.4291445490264738\n",
      "0.5177690112055531\n"
     ]
    }
   ],
   "source": [
    "#generator : 그때그때 값을 생성 해서 반환하기 떄문 \n",
    "# for i in : collections(list, dict, set), iterator(ranges), generator,eneumerate\n",
    "import random\n",
    "def gaus_dist(n):\n",
    "    while n > 0:\n",
    "        yield random.random() #yield 비동기 호출함수 \n",
    "        n -=1 \n",
    "gd = gaus_dist(5)\n",
    "for i in gd:\n",
    "    print(i)"
   ]
  },
  {
   "cell_type": "code",
   "execution_count": 148,
   "metadata": {},
   "outputs": [
    {
     "name": "stdout",
     "output_type": "stream",
     "text": [
      "python's recipe no . 1\n",
      "perl's recipe no . 2\n"
     ]
    },
    {
     "data": {
      "text/plain": [
       "(1576115739240, 1576115737800)"
      ]
     },
     "execution_count": 148,
     "metadata": {},
     "output_type": "execute_result"
    }
   ],
   "source": [
    "#함수가 값을 저장할 수 있는가?\n",
    "#clouser(자바스크립터에서 사용하던 방식) : 값을 저장하는 방법\n",
    "def cookbook(name):\n",
    "    def recipe(no):\n",
    "        print(\"%s's recipe no . %d\" %(name,no))\n",
    "    return recipe\n",
    "python_recipe = cookbook('python')\n",
    "perl_recipe = cookbook('perl')\n",
    "python_recipe(1)\n",
    "perl_recipe(2)\n",
    "id(python_recipe), id(perl_recipe)"
   ]
  },
  {
   "cell_type": "code",
   "execution_count": 1,
   "metadata": {},
   "outputs": [
    {
     "name": "stdout",
     "output_type": "stream",
     "text": [
      "         1.7560\n",
      "         2.2220\n",
      "              1\n"
     ]
    }
   ],
   "source": [
    "def format_and_pad(template,space):\n",
    "    def formatter(x):\n",
    "        return (template % x ).rjust(space)\n",
    "    return formatter\n",
    "fmt = format_and_pad('%.4f', 15)\n",
    "print(fmt(1.756))\n",
    "print(fmt(2.222))\n",
    "fmt2 = format_and_pad(\"%d\", 15)\n",
    "print(fmt2(1.756))"
   ]
  },
  {
   "cell_type": "code",
   "execution_count": 163,
   "metadata": {},
   "outputs": [],
   "source": [
    "#데이터를 입력받아\n",
    "#삼각형의 넓이 (밑변 * 높이)\n",
    "#사각형의 넓이 (밑변 , 높이)\n",
    "#원의 넓이를 계산하는 함수를 작성해 보시요 (반지름)"
   ]
  },
  {
   "cell_type": "code",
   "execution_count": 6,
   "metadata": {},
   "outputs": [
    {
     "name": "stdout",
     "output_type": "stream",
     "text": [
      "사각형\n",
      "2 3\n"
     ]
    },
    {
     "ename": "TypeError",
     "evalue": "int() argument must be a string, a bytes-like object or a number, not 'list'",
     "output_type": "error",
     "traceback": [
      "\u001b[1;31m---------------------------------------------------------------------------\u001b[0m",
      "\u001b[1;31mTypeError\u001b[0m                                 Traceback (most recent call last)",
      "\u001b[1;32m<ipython-input-6-0991434a046a>\u001b[0m in \u001b[0;36m<module>\u001b[1;34m\u001b[0m\n\u001b[0;32m      3\u001b[0m     \u001b[0mx\u001b[0m\u001b[1;33m,\u001b[0m\u001b[0my\u001b[0m \u001b[1;33m=\u001b[0m \u001b[0mlist\u001b[0m\u001b[1;33m(\u001b[0m\u001b[0mmap\u001b[0m\u001b[1;33m,\u001b[0m\u001b[0mint\u001b[0m\u001b[1;33m(\u001b[0m\u001b[0minput\u001b[0m\u001b[1;33m(\u001b[0m\u001b[1;33m)\u001b[0m\u001b[1;33m.\u001b[0m\u001b[0msplit\u001b[0m\u001b[1;33m(\u001b[0m\u001b[1;33m)\u001b[0m\u001b[1;33m)\u001b[0m\u001b[1;33m)\u001b[0m\u001b[1;33m\u001b[0m\u001b[1;33m\u001b[0m\u001b[0m\n\u001b[0;32m      4\u001b[0m \u001b[1;32melif\u001b[0m \u001b[0mname\u001b[0m \u001b[1;33m==\u001b[0m \u001b[1;34m\"사각형\"\u001b[0m\u001b[1;33m:\u001b[0m\u001b[1;33m\u001b[0m\u001b[1;33m\u001b[0m\u001b[0m\n\u001b[1;32m----> 5\u001b[1;33m     \u001b[0mx\u001b[0m\u001b[1;33m,\u001b[0m\u001b[0my\u001b[0m \u001b[1;33m=\u001b[0m \u001b[0mlist\u001b[0m\u001b[1;33m(\u001b[0m\u001b[0mmap\u001b[0m\u001b[1;33m,\u001b[0m\u001b[0mint\u001b[0m\u001b[1;33m(\u001b[0m\u001b[0minput\u001b[0m\u001b[1;33m(\u001b[0m\u001b[1;33m)\u001b[0m\u001b[1;33m.\u001b[0m\u001b[0msplit\u001b[0m\u001b[1;33m(\u001b[0m\u001b[1;33m)\u001b[0m\u001b[1;33m)\u001b[0m\u001b[1;33m)\u001b[0m\u001b[1;33m\u001b[0m\u001b[1;33m\u001b[0m\u001b[0m\n\u001b[0m\u001b[0;32m      6\u001b[0m \u001b[1;32melse\u001b[0m\u001b[1;33m:\u001b[0m\u001b[1;33m\u001b[0m\u001b[1;33m\u001b[0m\u001b[0m\n\u001b[0;32m      7\u001b[0m     \u001b[0mx\u001b[0m \u001b[1;33m=\u001b[0m \u001b[0mfloat\u001b[0m\u001b[1;33m(\u001b[0m\u001b[0minput\u001b[0m\u001b[1;33m(\u001b[0m\u001b[1;33m)\u001b[0m\u001b[1;33m)\u001b[0m\u001b[1;33m\u001b[0m\u001b[1;33m\u001b[0m\u001b[0m\n",
      "\u001b[1;31mTypeError\u001b[0m: int() argument must be a string, a bytes-like object or a number, not 'list'"
     ]
    }
   ],
   "source": [
    "name = input()\n",
    "if name == \"삼각형\":\n",
    "    x,y = list(map,int(input().split()))\n",
    "elif name == \"사각형\":\n",
    "    x,y = list(map,int(input().split()))\n",
    "else:\n",
    "    x = float(input())\n",
    "               "
   ]
  },
  {
   "cell_type": "code",
   "execution_count": 7,
   "metadata": {},
   "outputs": [
    {
     "name": "stdout",
     "output_type": "stream",
     "text": [
      "밑변이나 반지름으로 사용할 값을 입력하시요50\n",
      "삼각형이나 사각형의 높이를 입력하시요 50\n",
      "삼각형 넓이  1250.0\n",
      "사각형 넓이  2500\n",
      "파이 넓이  7853.981633974483\n"
     ]
    }
   ],
   "source": [
    "import math\n",
    "def calculate_triangle(mylist):\n",
    "    return mylist[0] * mylist[1] /2\n",
    "def calculate_rectangle(mylist):\n",
    "    return mylist[0] * mylist[1]\n",
    "def calculate_circle(mylist):\n",
    "    return math.pi * (mylist[0] ** 2)\n",
    "mylist =[]\n",
    "width = eval(input(\"밑변이나 반지름으로 사용할 값을 입력하시요\"))\n",
    "height = eval(input(\"삼각형이나 사각형의 높이를 입력하시요 \"))\n",
    "mylist.append(width)\n",
    "mylist.append(height)\n",
    "print(\"삼각형 넓이 \",calculate_triangle(mylist) )\n",
    "print(\"사각형 넓이 \",calculate_rectangle(mylist) )\n",
    "print(\"파이 넓이 \",calculate_circle(mylist) )\n",
    "\n"
   ]
  },
  {
   "cell_type": "code",
   "execution_count": 16,
   "metadata": {},
   "outputs": [
    {
     "name": "stdout",
     "output_type": "stream",
     "text": [
      "시간45\n",
      "급여15000\n",
      "주간 수입은 : 712,500.00원\n"
     ]
    }
   ],
   "source": [
    "#시간과 시간당 급여를 입력받아 주급을 계산하는 프로그램을 작성하시요 \n",
    "# 조건 40시간이 넘으면 1.5배하여 지급합니다\n",
    "# 매개변수 (시간, 급여)\n",
    "basictime = 40\n",
    "def met(ti,mo):\n",
    "    sum_1 = 0 \n",
    "    if ti >= basictime:\n",
    "        sum_1 = (mo * 40) + ((1.5) * mo * (ti - basictime))\n",
    "    else:\n",
    "        sum_1 = ti * mo\n",
    "    return sum_1\n",
    "\n",
    "\n",
    "ti = int(input(\"시간\"))\n",
    "mo = int(input(\"급여\"))\n",
    "\n",
    "print(\"주간 수입은 : {0:,.2f}원\".format(met(ti,mo)))\n",
    "\n"
   ]
  },
  {
   "cell_type": "code",
   "execution_count": 20,
   "metadata": {},
   "outputs": [
    {
     "name": "stdout",
     "output_type": "stream",
     "text": [
      "시간당급여10\n",
      "주간 총 근무시간10\n",
      "주간 수입은 : 100.00원\n"
     ]
    }
   ],
   "source": [
    "basictime = 40\n",
    "def pay(wage, hours):\n",
    "    if hours <= basictime:\n",
    "        amount = wage * hours\n",
    "    else:\n",
    "        amount = (wage * basictime) + ((1.5) * wage * (hours - basictime))\n",
    "    return amount\n",
    "hourlyWage = eval(input(\"시간당급여\"))\n",
    "hoursWorked = eval(input(\"주간 총 근무시간\"))\n",
    "earnings = pay(hourlyWage, hoursWorked) \n",
    "print(\"주간 수입은 : {0:,.2f}원\".format(earnings))"
   ]
  },
  {
   "cell_type": "code",
   "execution_count": null,
   "metadata": {},
   "outputs": [
    {
     "name": "stdout",
     "output_type": "stream",
     "text": [
      "예금액15\n",
      "기간2\n",
      "예금총액: $16.22 이자총액:$16.22\n"
     ]
    }
   ],
   "source": [
    "# 이자율이 주어졌을 때 기간거치후 총액과 이자수익을 출력하시요\n",
    "# 복리계산 = (원가 1 + 이율 0.04) ** 거치년수\n",
    "\n",
    "# 매개변수 : 원금 , 거치기간\n",
    "# 단서 조건 : 입력 함수 , 계산 함수 , 출력 함수를 분리해서 작성 \n",
    "\n",
    "INTEREST_RATE = 0.04\n",
    "def getinput():\n",
    "    principal = eval(input(\"예금액\"))\n",
    "    numberOfYears = eval(input(\"기간\"))\n",
    "    return (principal, numberOfYears)\n",
    "def balanceAndinterest(prin, numYears):\n",
    "    balance = prin * ((1 + INTEREST_RATE)**numYears)\n",
    "    interestEarned = balance - prin\n",
    "    return (balance, interestEarned)\n",
    "def displayOutput(bal, intEarned):\n",
    "    print(\"예금총액: ${0:,.2f} 이자총액:${0:,.2f}\".format(bal, intEarned))\n",
    "    \n",
    "def main():\n",
    "    principal,numberOfYears = getinput()\n",
    "    bal, intEarned = balanceAndinterest(principal, numberOfYears)\n",
    "    displayOutput(bal, intEarned)\n",
    "    displayOutput(*(balanceAndinterest(*(getinput()))))\n",
    "main()"
   ]
  },
  {
   "cell_type": "code",
   "execution_count": 7,
   "metadata": {},
   "outputs": [
    {
     "ename": "SyntaxError",
     "evalue": "invalid syntax (<ipython-input-7-dab46d5b4876>, line 2)",
     "output_type": "error",
     "traceback": [
      "\u001b[1;36m  File \u001b[1;32m\"<ipython-input-7-dab46d5b4876>\"\u001b[1;36m, line \u001b[1;32m2\u001b[0m\n\u001b[1;33m    lambda 함수를 이용한 처리가 많음\u001b[0m\n\u001b[1;37m                 ^\u001b[0m\n\u001b[1;31mSyntaxError\u001b[0m\u001b[1;31m:\u001b[0m invalid syntax\n"
     ]
    }
   ],
   "source": [
    "#함수화 프로그래밍 for + 함수를 적용\n",
    "lambda 함수를 이용한 처리가 많음"
   ]
  },
  {
   "cell_type": "code",
   "execution_count": 13,
   "metadata": {},
   "outputs": [
    {
     "name": "stdout",
     "output_type": "stream",
     "text": [
      "11\n"
     ]
    },
    {
     "data": {
      "text/plain": [
       "15"
      ]
     },
     "execution_count": 13,
     "metadata": {},
     "output_type": "execute_result"
    }
   ],
   "source": [
    "incr = (lambda x, incr = 1 : x + incr)\n",
    "print(incr(10))\n",
    "incr(10,5)"
   ]
  },
  {
   "cell_type": "code",
   "execution_count": 15,
   "metadata": {},
   "outputs": [
    {
     "name": "stdout",
     "output_type": "stream",
     "text": [
      "['aaa', 'foo', 'aabb', 'bar', 'card']\n"
     ]
    }
   ],
   "source": [
    "strings= ['foo','card', 'bar', 'aaa','aabb']\n",
    "#정렬 기준을 key 에 함수로 전달 ()\n",
    "strings.sort(key=lambda x :len(set(list(x))))  #중복되지 않는 데이터 계수에 따라\n",
    "print(strings) # 1번째는 중복 1개 2번째3번째는 2개 ...."
   ]
  },
  {
   "cell_type": "code",
   "execution_count": 30,
   "metadata": {},
   "outputs": [
    {
     "name": "stdout",
     "output_type": "stream",
     "text": [
      "<map object at 0x0000019975FC7848>\n",
      "[9, 16]\n"
     ]
    }
   ],
   "source": [
    "#디폴트가 없기 때문에 \n",
    "m = map(lambda x : x * x , [3,4])\n",
    "print(m)\n",
    "print(list(m))"
   ]
  },
  {
   "cell_type": "code",
   "execution_count": 33,
   "metadata": {},
   "outputs": [
    {
     "data": {
      "text/plain": [
       "[0, 1, 4, 9, 16]"
      ]
     },
     "execution_count": 33,
     "metadata": {},
     "output_type": "execute_result"
    }
   ],
   "source": [
    "sqr = lambda x : x *x\n",
    "list(map(sqr,range(5)))\n"
   ]
  },
  {
   "cell_type": "code",
   "execution_count": 3,
   "metadata": {},
   "outputs": [
    {
     "data": {
      "text/plain": [
       "[0, 1, 4, 9, 16]"
      ]
     },
     "execution_count": 3,
     "metadata": {},
     "output_type": "execute_result"
    }
   ],
   "source": [
    "def sqr2(x):\n",
    "    return x*x\n",
    "list(map(sqr2,range(5)))"
   ]
  },
  {
   "cell_type": "code",
   "execution_count": 4,
   "metadata": {},
   "outputs": [],
   "source": [
    "#문제: 다음 출근 시간 데이터에 대하여 기본금 10000원 시간당 7500원의 급여를 계산하고\n",
    "#lambda 와 map 함수를 사용하시요\n"
   ]
  },
  {
   "cell_type": "code",
   "execution_count": 7,
   "metadata": {},
   "outputs": [
    {
     "name": "stdout",
     "output_type": "stream",
     "text": [
      "[1210000, 1135000, 910000, 1360000, 2260000, 3010000]\n"
     ]
    }
   ],
   "source": [
    "total_time = [160,150,120,180,300,400]\n",
    "calc = lambda x :10000 + 7500 * x\n",
    "pay = list(map(calc,total_time))\n",
    "print(pay)"
   ]
  },
  {
   "cell_type": "code",
   "execution_count": 10,
   "metadata": {},
   "outputs": [
    {
     "name": "stdout",
     "output_type": "stream",
     "text": [
      "[1210000, 1135000, 910000, 1360000, 2260000, 3010000]\n"
     ]
    }
   ],
   "source": [
    "pay = list(map(lambda x : 10000 + 7500 * x , total_time))\n",
    "print(pay)"
   ]
  },
  {
   "cell_type": "code",
   "execution_count": 12,
   "metadata": {},
   "outputs": [
    {
     "data": {
      "text/plain": [
       "[1, 3, 5, 7, 9]"
      ]
     },
     "execution_count": 12,
     "metadata": {},
     "output_type": "execute_result"
    }
   ],
   "source": [
    "def odd(p):\n",
    "    return [i for i in p if i % 2] #홀수\n",
    "odd(range(10))"
   ]
  },
  {
   "cell_type": "code",
   "execution_count": 17,
   "metadata": {},
   "outputs": [
    {
     "data": {
      "text/plain": [
       "[1, 3, 5, 7, 9]"
      ]
     },
     "execution_count": 17,
     "metadata": {},
     "output_type": "execute_result"
    }
   ],
   "source": [
    "#필터의 함수는 true / false 를 리턴하는 함수여야함 \n",
    "def odd(k):\n",
    "    return k%2\n",
    "list(filter(odd,range(10)))"
   ]
  },
  {
   "cell_type": "code",
   "execution_count": 22,
   "metadata": {},
   "outputs": [
    {
     "name": "stdout",
     "output_type": "stream",
     "text": [
      "[3, 6, 9, 12, 15, 18, 21, 24, 27, 30, 33, 36, 39, 42, 45, 48, 51, 54, 57, 60, 63, 66, 69, 72, 75, 78, 81, 84, 87, 90, 93, 96, 99] "
     ]
    }
   ],
   "source": [
    "#문제 1부터 99t사이에 데이터중 3으로 나누어 떨어지는 데이터를 filter를 이용\n",
    "def out(i):\n",
    "    return i % 3 == 0\n",
    "print(list(filter(out,range(1,100))),end = \" \")"
   ]
  },
  {
   "cell_type": "code",
   "execution_count": 25,
   "metadata": {},
   "outputs": [
    {
     "data": {
      "text/plain": [
       "55"
      ]
     },
     "execution_count": 25,
     "metadata": {},
     "output_type": "execute_result"
    }
   ],
   "source": [
    "#reudce(분산처리시 값을 계산할 때 사용)\n",
    "from functools import reduce\n",
    "reduce(lambda x, y : x+y, range(11)) #이전에 계산된 값이  x로 \n",
    "# 0이 y로 -> 합쳐진게 x로  누적함수 "
   ]
  },
  {
   "cell_type": "code",
   "execution_count": 28,
   "metadata": {},
   "outputs": [
    {
     "data": {
      "text/plain": [
       "'edcba'"
      ]
     },
     "execution_count": 28,
     "metadata": {},
     "output_type": "execute_result"
    }
   ],
   "source": [
    "reduce(lambda x,y : y + x , 'abcde')"
   ]
  },
  {
   "cell_type": "code",
   "execution_count": 33,
   "metadata": {},
   "outputs": [
    {
     "data": {
      "text/plain": [
       "5.0"
      ]
     },
     "execution_count": 33,
     "metadata": {},
     "output_type": "execute_result"
    }
   ],
   "source": [
    "#함수 배열\n",
    "func_choice = [lambda x,y : x ** y , lambda x,y : x/y]\n",
    "func_choice[0](10,2)\n",
    "func_choice[1](10,2)\n"
   ]
  },
  {
   "cell_type": "code",
   "execution_count": 35,
   "metadata": {},
   "outputs": [
    {
     "name": "stdout",
     "output_type": "stream",
     "text": [
      "[5, 6, 7, 8, 9]\n"
     ]
    }
   ],
   "source": [
    "#문제 다음 데이터에서 4보다 큰 수만 출력하도록  filtering 해보세요\n",
    "data = [1,2,3,4,5,6,7,8,9,3,4,2,1]\n",
    "fil = list(filter(lambda x : x >4 , data))\n",
    "print(fil)"
   ]
  },
  {
   "cell_type": "code",
   "execution_count": null,
   "metadata": {},
   "outputs": [],
   "source": [
    "#문제 숫자를 입력 받아서 홀 수 인 경우는 '나는 행복합니다' 라고 출력하고\n",
    "# 짝수인 경우는 \"나는 귀중한 사람입니다\" 라고 출력하는 함수 선택을 구현"
   ]
  },
  {
   "cell_type": "code",
   "execution_count": 12,
   "metadata": {},
   "outputs": [
    {
     "name": "stdout",
     "output_type": "stream",
     "text": [
      "5\n",
      "귀중\n"
     ]
    }
   ],
   "source": [
    "func_choice = [lambda :print(\"행복\"), lambda :print(\"귀중\")]\n",
    "condition = eval(input())\n",
    "condition %= 2\n",
    "func_choice[condition]()\n"
   ]
  },
  {
   "cell_type": "code",
   "execution_count": 4,
   "metadata": {},
   "outputs": [
    {
     "name": "stdout",
     "output_type": "stream",
     "text": [
      "이름lee\n",
      "국어32\n",
      "영어31\n",
      "수학12\n",
      "['lee', 32, 31, 12, 75, 25.0]\n"
     ]
    },
    {
     "ename": "SystemExit",
     "evalue": "",
     "output_type": "error",
     "traceback": [
      "An exception has occurred, use %tb to see the full traceback.\n",
      "\u001b[1;31mSystemExit\u001b[0m\n"
     ]
    }
   ],
   "source": [
    "#성적프로그램을 입력 처리 출력하는 함수를 이용해서 구현하기\n",
    "#이름 국어 영어 수학 총 평균\n",
    "#sungjuk = [] 전역으로 선언하고 구현\n",
    "import sys\n",
    "sungjuck = []\n",
    "def input_1():\n",
    "    name = input(\"이름\")\n",
    "    ko = eval(input(\"국어\"))\n",
    "    en = eval(input(\"영어\"))\n",
    "    ma = eval(input(\"수학\"))\n",
    "    sungjuck.append(name)\n",
    "    sungjuck.append(ko)\n",
    "    sungjuck.append(en)\n",
    "    sungjuck.append(ma)\n",
    "    return (name,ko,en,ma)\n",
    "def result(ko,en,ma):\n",
    "    hap = ko + en + ma\n",
    "    ave = hap/3\n",
    "    sungjuck.append(hap)\n",
    "    sungjuck.append(ave)\n",
    "    return sungjuck\n",
    "def out(x):\n",
    "    print(sungjuck)\n",
    "    sys.exit()\n",
    "def main():\n",
    "    name , ko ,en , ma = input_1()\n",
    "    sungjuck  = result(ko,en,ma)\n",
    "    out(sungjuck)\n",
    "    out(*(result(*(input_1()))))\n",
    "main()\n"
   ]
  }
 ],
 "metadata": {
  "kernelspec": {
   "display_name": "Python 3",
   "language": "python",
   "name": "python3"
  }
 },
 "nbformat": 4,
 "nbformat_minor": 2
}
