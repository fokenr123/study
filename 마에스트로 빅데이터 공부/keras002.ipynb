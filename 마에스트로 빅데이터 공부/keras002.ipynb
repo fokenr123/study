{
 "cells": [
  {
   "cell_type": "code",
   "execution_count": 1,
   "metadata": {},
   "outputs": [
    {
     "name": "stderr",
     "output_type": "stream",
     "text": [
      "C:\\Users\\ICT01_20\\Anaconda3\\envs\\tf_test\\lib\\site-packages\\tensorflow\\python\\framework\\dtypes.py:516: FutureWarning: Passing (type, 1) or '1type' as a synonym of type is deprecated; in a future version of numpy, it will be understood as (type, (1,)) / '(1,)type'.\n",
      "  _np_qint8 = np.dtype([(\"qint8\", np.int8, 1)])\n",
      "C:\\Users\\ICT01_20\\Anaconda3\\envs\\tf_test\\lib\\site-packages\\tensorflow\\python\\framework\\dtypes.py:517: FutureWarning: Passing (type, 1) or '1type' as a synonym of type is deprecated; in a future version of numpy, it will be understood as (type, (1,)) / '(1,)type'.\n",
      "  _np_quint8 = np.dtype([(\"quint8\", np.uint8, 1)])\n",
      "C:\\Users\\ICT01_20\\Anaconda3\\envs\\tf_test\\lib\\site-packages\\tensorflow\\python\\framework\\dtypes.py:518: FutureWarning: Passing (type, 1) or '1type' as a synonym of type is deprecated; in a future version of numpy, it will be understood as (type, (1,)) / '(1,)type'.\n",
      "  _np_qint16 = np.dtype([(\"qint16\", np.int16, 1)])\n",
      "C:\\Users\\ICT01_20\\Anaconda3\\envs\\tf_test\\lib\\site-packages\\tensorflow\\python\\framework\\dtypes.py:519: FutureWarning: Passing (type, 1) or '1type' as a synonym of type is deprecated; in a future version of numpy, it will be understood as (type, (1,)) / '(1,)type'.\n",
      "  _np_quint16 = np.dtype([(\"quint16\", np.uint16, 1)])\n",
      "C:\\Users\\ICT01_20\\Anaconda3\\envs\\tf_test\\lib\\site-packages\\tensorflow\\python\\framework\\dtypes.py:520: FutureWarning: Passing (type, 1) or '1type' as a synonym of type is deprecated; in a future version of numpy, it will be understood as (type, (1,)) / '(1,)type'.\n",
      "  _np_qint32 = np.dtype([(\"qint32\", np.int32, 1)])\n",
      "C:\\Users\\ICT01_20\\Anaconda3\\envs\\tf_test\\lib\\site-packages\\tensorflow\\python\\framework\\dtypes.py:525: FutureWarning: Passing (type, 1) or '1type' as a synonym of type is deprecated; in a future version of numpy, it will be understood as (type, (1,)) / '(1,)type'.\n",
      "  np_resource = np.dtype([(\"resource\", np.ubyte, 1)])\n"
     ]
    },
    {
     "name": "stdout",
     "output_type": "stream",
     "text": [
      "[name: \"/device:CPU:0\"\n",
      "device_type: \"CPU\"\n",
      "memory_limit: 268435456\n",
      "locality {\n",
      "}\n",
      "incarnation: 6130053039143615263\n",
      ", name: \"/device:GPU:0\"\n",
      "device_type: \"GPU\"\n",
      "memory_limit: 1410301542\n",
      "locality {\n",
      "  bus_id: 1\n",
      "  links {\n",
      "  }\n",
      "}\n",
      "incarnation: 13439858167487942929\n",
      "physical_device_desc: \"device: 0, name: GeForce GTX 1050, pci bus id: 0000:01:00.0, compute capability: 6.1\"\n",
      "]\n"
     ]
    },
    {
     "data": {
      "text/plain": [
       "'/device:GPU:0'"
      ]
     },
     "execution_count": 1,
     "metadata": {},
     "output_type": "execute_result"
    }
   ],
   "source": [
    "import tensorflow as tf\n",
    "from tensorflow.python.client import device_lib\n",
    "print(device_lib.list_local_devices())\n",
    "tf.test.gpu_device_name()"
   ]
  },
  {
   "cell_type": "code",
   "execution_count": 2,
   "metadata": {},
   "outputs": [
    {
     "name": "stderr",
     "output_type": "stream",
     "text": [
      "Using TensorFlow backend.\n"
     ]
    }
   ],
   "source": [
    "import keras\n",
    "from keras.datasets import mnist\n",
    "from keras.models import Sequential\n",
    "from keras.layers import Dense, Dropout, Flatten, Conv2D, MaxPooling2D\n",
    "from keras import backend as K\n",
    "\n",
    "batch_size = 128\n",
    "num_classes = 10\n",
    "epochs = 12\n",
    "img_rows, img_cols = 28, 28\n",
    "(x_train, y_train), (x_test, y_test) = mnist.load_data()"
   ]
  },
  {
   "cell_type": "code",
   "execution_count": 3,
   "metadata": {},
   "outputs": [
    {
     "name": "stdout",
     "output_type": "stream",
     "text": [
      "x_train shape: (60000, 28, 28, 1)\n",
      "60000 train samples\n",
      "10000 test samples\n"
     ]
    }
   ],
   "source": [
    "# channel_first\n",
    "#x_train = x_train.reshape(x_train.shape[0], 1, 28, 28)\n",
    "#x_test = x_test.reshape(x_test.shape[0], 1, 28, 28)\n",
    "\n",
    "# channel_last\n",
    "x_train = x_train.reshape(x_train.shape[0], 28, 28, 1)\n",
    "x_test = x_test.reshape(x_test.shape[0], 28, 28, 1)\n",
    "\n",
    "# 타입 변경\n",
    "x_train = x_train.astype(\"float32\")\n",
    "x_test = x_test.astype(\"float32\")\n",
    "x_train /= 255\n",
    "x_test /= 255\n",
    "print(\"x_train shape:\", x_train.shape)\n",
    "print(x_train.shape[0], \"train samples\")\n",
    "print(x_test.shape[0], \"test samples\")\n",
    "y_train = keras.utils.to_categorical(y_train, num_classes)\n",
    "y_test = keras.utils.to_categorical(y_test, num_classes)"
   ]
  },
  {
   "cell_type": "code",
   "execution_count": 4,
   "metadata": {},
   "outputs": [
    {
     "name": "stdout",
     "output_type": "stream",
     "text": [
      "WARNING:tensorflow:From C:\\Users\\ICT01_20\\Anaconda3\\envs\\tf_test\\lib\\site-packages\\keras\\backend\\tensorflow_backend.py:74: The name tf.get_default_graph is deprecated. Please use tf.compat.v1.get_default_graph instead.\n",
      "\n",
      "WARNING:tensorflow:From C:\\Users\\ICT01_20\\Anaconda3\\envs\\tf_test\\lib\\site-packages\\keras\\backend\\tensorflow_backend.py:517: The name tf.placeholder is deprecated. Please use tf.compat.v1.placeholder instead.\n",
      "\n",
      "WARNING:tensorflow:From C:\\Users\\ICT01_20\\Anaconda3\\envs\\tf_test\\lib\\site-packages\\keras\\backend\\tensorflow_backend.py:4138: The name tf.random_uniform is deprecated. Please use tf.random.uniform instead.\n",
      "\n",
      "WARNING:tensorflow:From C:\\Users\\ICT01_20\\Anaconda3\\envs\\tf_test\\lib\\site-packages\\keras\\backend\\tensorflow_backend.py:3976: The name tf.nn.max_pool is deprecated. Please use tf.nn.max_pool2d instead.\n",
      "\n",
      "WARNING:tensorflow:From C:\\Users\\ICT01_20\\Anaconda3\\envs\\tf_test\\lib\\site-packages\\keras\\backend\\tensorflow_backend.py:133: The name tf.placeholder_with_default is deprecated. Please use tf.compat.v1.placeholder_with_default instead.\n",
      "\n",
      "WARNING:tensorflow:From C:\\Users\\ICT01_20\\Anaconda3\\envs\\tf_test\\lib\\site-packages\\keras\\backend\\tensorflow_backend.py:3445: calling dropout (from tensorflow.python.ops.nn_ops) with keep_prob is deprecated and will be removed in a future version.\n",
      "Instructions for updating:\n",
      "Please use `rate` instead of `keep_prob`. Rate should be set to `rate = 1 - keep_prob`.\n"
     ]
    }
   ],
   "source": [
    "model = Sequential()\n",
    "# output filter의 개수, filter size\n",
    "# 28 x 28(input filter) -> (128, 26, 26, 32) # 26 = (28-3+1)\n",
    "# valid, same(28, 28) : 모서리 특징\n",
    "model.add(Conv2D(32, kernel_size=(3, 3), activation=\"relu\", input_shape=(28,28,1)))\n",
    "model.add(Conv2D(64, (3, 3), activation=\"relu\"))\n",
    "# 128, 24, 24, 64\n",
    "model.add(MaxPooling2D(pool_size=(2,2))) # 128, 12, 12, 64\n",
    "model.add(Dropout(0.25))\n",
    "model.add(Flatten()) # 12 x 12 x 64 =>1차원 9216\n",
    "# FFNN, FC(Fully-connected)\n",
    "model.add(Dense(128, activation=\"relu\")) # 9216 x 128\n",
    "# 128 x 128\n",
    "model.add(Dropout(0.5)) # 계산회로만 생략\n",
    "model.add(Dense(10, activation=\"softmax\")) # 128 x 10"
   ]
  },
  {
   "cell_type": "code",
   "execution_count": 5,
   "metadata": {},
   "outputs": [
    {
     "name": "stdout",
     "output_type": "stream",
     "text": [
      "WARNING:tensorflow:From C:\\Users\\ICT01_20\\Anaconda3\\envs\\tf_test\\lib\\site-packages\\keras\\optimizers.py:790: The name tf.train.Optimizer is deprecated. Please use tf.compat.v1.train.Optimizer instead.\n",
      "\n",
      "WARNING:tensorflow:From C:\\Users\\ICT01_20\\Anaconda3\\envs\\tf_test\\lib\\site-packages\\keras\\backend\\tensorflow_backend.py:3295: The name tf.log is deprecated. Please use tf.math.log instead.\n",
      "\n",
      "WARNING:tensorflow:From C:\\Users\\ICT01_20\\Anaconda3\\envs\\tf_test\\lib\\site-packages\\tensorflow\\python\\ops\\math_grad.py:1250: add_dispatch_support.<locals>.wrapper (from tensorflow.python.ops.array_ops) is deprecated and will be removed in a future version.\n",
      "Instructions for updating:\n",
      "Use tf.where in 2.0, which has the same broadcast rule as np.where\n",
      "Train on 60000 samples, validate on 10000 samples\n",
      "Epoch 1/12\n",
      "60000/60000 [==============================] - 12s 196us/step - loss: 0.2742 - acc: 0.9160 - val_loss: 0.0574 - val_acc: 0.9818\n",
      "Epoch 2/12\n",
      "60000/60000 [==============================] - 10s 164us/step - loss: 0.0871 - acc: 0.9735 - val_loss: 0.0427 - val_acc: 0.9849\n",
      "Epoch 3/12\n",
      "60000/60000 [==============================] - 10s 163us/step - loss: 0.0663 - acc: 0.9801 - val_loss: 0.0395 - val_acc: 0.9861\n",
      "Epoch 4/12\n",
      "60000/60000 [==============================] - 10s 162us/step - loss: 0.0545 - acc: 0.9839 - val_loss: 0.0336 - val_acc: 0.9896\n",
      "Epoch 5/12\n",
      "60000/60000 [==============================] - 10s 165us/step - loss: 0.0476 - acc: 0.9858 - val_loss: 0.0285 - val_acc: 0.9905\n",
      "Epoch 6/12\n",
      "60000/60000 [==============================] - 10s 163us/step - loss: 0.0426 - acc: 0.9870 - val_loss: 0.0311 - val_acc: 0.9900\n",
      "Epoch 7/12\n",
      "60000/60000 [==============================] - 10s 164us/step - loss: 0.0375 - acc: 0.9884 - val_loss: 0.0292 - val_acc: 0.9902\n",
      "Epoch 8/12\n",
      "60000/60000 [==============================] - 10s 164us/step - loss: 0.0348 - acc: 0.9894 - val_loss: 0.0302 - val_acc: 0.9899\n",
      "Epoch 9/12\n",
      "60000/60000 [==============================] - 10s 163us/step - loss: 0.0314 - acc: 0.9901 - val_loss: 0.0295 - val_acc: 0.9912\n",
      "Epoch 10/12\n",
      "60000/60000 [==============================] - 10s 166us/step - loss: 0.0307 - acc: 0.9904 - val_loss: 0.0258 - val_acc: 0.9917\n",
      "Epoch 11/12\n",
      "60000/60000 [==============================] - 10s 163us/step - loss: 0.0280 - acc: 0.9908 - val_loss: 0.0264 - val_acc: 0.9914\n",
      "Epoch 12/12\n",
      "60000/60000 [==============================] - 10s 162us/step - loss: 0.0270 - acc: 0.9919 - val_loss: 0.0291 - val_acc: 0.9912\n"
     ]
    }
   ],
   "source": [
    "model.compile(loss=keras.losses.categorical_crossentropy,\n",
    "              optimizer=keras.optimizers.Adadelta(),\n",
    "              metrics=[\"accuracy\"])\n",
    "model.fit(x_train, y_train, batch_size=batch_size, epochs=epochs, verbose=1, validation_data=(x_test, y_test))\n",
    "score = model.evaluate(x_test, y_test, verbose=0)"
   ]
  },
  {
   "cell_type": "code",
   "execution_count": 7,
   "metadata": {},
   "outputs": [
    {
     "name": "stdout",
     "output_type": "stream",
     "text": [
      "Train on 60000 samples, validate on 10000 samples\n",
      "Epoch 1/12\n",
      "60000/60000 [==============================] - 10s 163us/step - loss: 0.0175 - acc: 0.9947 - val_loss: 0.0305 - val_acc: 0.9915\n",
      "Epoch 2/12\n",
      "60000/60000 [==============================] - 10s 164us/step - loss: 0.0167 - acc: 0.9948 - val_loss: 0.0293 - val_acc: 0.9920\n",
      "Epoch 3/12\n",
      "60000/60000 [==============================] - 10s 164us/step - loss: 0.0167 - acc: 0.9948 - val_loss: 0.0285 - val_acc: 0.9923\n",
      "Epoch 4/12\n",
      "60000/60000 [==============================] - 10s 167us/step - loss: 0.0166 - acc: 0.9948 - val_loss: 0.0301 - val_acc: 0.9916\n",
      "Epoch 5/12\n",
      "60000/60000 [==============================] - 10s 165us/step - loss: 0.0146 - acc: 0.9954 - val_loss: 0.0331 - val_acc: 0.9926\n",
      "Epoch 6/12\n",
      "60000/60000 [==============================] - 10s 165us/step - loss: 0.0166 - acc: 0.9949 - val_loss: 0.0282 - val_acc: 0.9924\n",
      "Epoch 7/12\n",
      "60000/60000 [==============================] - 10s 163us/step - loss: 0.0157 - acc: 0.9951 - val_loss: 0.0316 - val_acc: 0.9921\n",
      "Epoch 8/12\n",
      "60000/60000 [==============================] - 10s 164us/step - loss: 0.0143 - acc: 0.9954 - val_loss: 0.0374 - val_acc: 0.9918\n",
      "Epoch 9/12\n",
      "60000/60000 [==============================] - 10s 163us/step - loss: 0.0145 - acc: 0.9951 - val_loss: 0.0317 - val_acc: 0.9910\n",
      "Epoch 10/12\n",
      "60000/60000 [==============================] - 10s 164us/step - loss: 0.0133 - acc: 0.9956 - val_loss: 0.0267 - val_acc: 0.9927\n",
      "Epoch 11/12\n",
      "60000/60000 [==============================] - 10s 164us/step - loss: 0.0126 - acc: 0.9959 - val_loss: 0.0306 - val_acc: 0.9920\n",
      "Epoch 12/12\n",
      "60000/60000 [==============================] - 10s 164us/step - loss: 0.0136 - acc: 0.9956 - val_loss: 0.0280 - val_acc: 0.9922\n"
     ]
    },
    {
     "ename": "IndexError",
     "evalue": "list index out of range",
     "output_type": "error",
     "traceback": [
      "\u001b[1;31m---------------------------------------------------------------------------\u001b[0m",
      "\u001b[1;31mIndexError\u001b[0m                                Traceback (most recent call last)",
      "\u001b[1;32m<ipython-input-7-20e64d629fb1>\u001b[0m in \u001b[0;36m<module>\u001b[1;34m\u001b[0m\n\u001b[0;32m     12\u001b[0m          \u001b[0mbatch_size\u001b[0m\u001b[1;33m=\u001b[0m\u001b[0mbatch_size\u001b[0m\u001b[1;33m,\u001b[0m \u001b[0mepochs\u001b[0m\u001b[1;33m=\u001b[0m\u001b[0mepochs\u001b[0m\u001b[1;33m,\u001b[0m \u001b[0mverbose\u001b[0m\u001b[1;33m=\u001b[0m\u001b[1;36m1\u001b[0m\u001b[1;33m,\u001b[0m\u001b[1;33m\u001b[0m\u001b[1;33m\u001b[0m\u001b[0m\n\u001b[0;32m     13\u001b[0m          validation_data=(x_test, y_test), callbacks=[history])\n\u001b[1;32m---> 14\u001b[1;33m \u001b[0mscore\u001b[0m \u001b[1;33m=\u001b[0m \u001b[0mmodel\u001b[0m\u001b[1;33m.\u001b[0m\u001b[0mevaluate\u001b[0m\u001b[1;33m(\u001b[0m\u001b[0mx_test\u001b[0m\u001b[1;33m,\u001b[0m \u001b[0mverbose\u001b[0m\u001b[1;33m=\u001b[0m\u001b[1;36m0\u001b[0m\u001b[1;33m)\u001b[0m\u001b[1;33m\u001b[0m\u001b[1;33m\u001b[0m\u001b[0m\n\u001b[0m\u001b[0;32m     15\u001b[0m \u001b[0mprint\u001b[0m\u001b[1;33m(\u001b[0m\u001b[0mscore\u001b[0m\u001b[1;33m[\u001b[0m\u001b[1;36m0\u001b[0m\u001b[1;33m]\u001b[0m\u001b[1;33m)\u001b[0m\u001b[1;33m\u001b[0m\u001b[1;33m\u001b[0m\u001b[0m\n\u001b[0;32m     16\u001b[0m \u001b[0mprint\u001b[0m\u001b[1;33m(\u001b[0m\u001b[0mscore\u001b[0m\u001b[1;33m[\u001b[0m\u001b[1;36m1\u001b[0m\u001b[1;33m]\u001b[0m\u001b[1;33m)\u001b[0m\u001b[1;33m\u001b[0m\u001b[1;33m\u001b[0m\u001b[0m\n",
      "\u001b[1;32m~\\Anaconda3\\envs\\tf_test\\lib\\site-packages\\keras\\engine\\training.py\u001b[0m in \u001b[0;36mevaluate\u001b[1;34m(self, x, y, batch_size, verbose, sample_weight, steps)\u001b[0m\n\u001b[0;32m   1111\u001b[0m                                          \u001b[0mbatch_size\u001b[0m\u001b[1;33m=\u001b[0m\u001b[0mbatch_size\u001b[0m\u001b[1;33m,\u001b[0m\u001b[1;33m\u001b[0m\u001b[1;33m\u001b[0m\u001b[0m\n\u001b[0;32m   1112\u001b[0m                                          \u001b[0mverbose\u001b[0m\u001b[1;33m=\u001b[0m\u001b[0mverbose\u001b[0m\u001b[1;33m,\u001b[0m\u001b[1;33m\u001b[0m\u001b[1;33m\u001b[0m\u001b[0m\n\u001b[1;32m-> 1113\u001b[1;33m                                          steps=steps)\n\u001b[0m\u001b[0;32m   1114\u001b[0m \u001b[1;33m\u001b[0m\u001b[0m\n\u001b[0;32m   1115\u001b[0m     def predict(self, x,\n",
      "\u001b[1;32m~\\Anaconda3\\envs\\tf_test\\lib\\site-packages\\keras\\engine\\training_arrays.py\u001b[0m in \u001b[0;36mtest_loop\u001b[1;34m(model, f, ins, batch_size, verbose, steps)\u001b[0m\n\u001b[0;32m    353\u001b[0m     \u001b[0mindices_for_conversion_to_dense\u001b[0m \u001b[1;33m=\u001b[0m \u001b[1;33m[\u001b[0m\u001b[1;33m]\u001b[0m\u001b[1;33m\u001b[0m\u001b[1;33m\u001b[0m\u001b[0m\n\u001b[0;32m    354\u001b[0m     \u001b[1;32mfor\u001b[0m \u001b[0mi\u001b[0m \u001b[1;32min\u001b[0m \u001b[0mrange\u001b[0m\u001b[1;33m(\u001b[0m\u001b[0mlen\u001b[0m\u001b[1;33m(\u001b[0m\u001b[0mfeed\u001b[0m\u001b[1;33m)\u001b[0m\u001b[1;33m)\u001b[0m\u001b[1;33m:\u001b[0m\u001b[1;33m\u001b[0m\u001b[1;33m\u001b[0m\u001b[0m\n\u001b[1;32m--> 355\u001b[1;33m         \u001b[1;32mif\u001b[0m \u001b[0missparse\u001b[0m\u001b[1;33m(\u001b[0m\u001b[0mins\u001b[0m\u001b[1;33m[\u001b[0m\u001b[0mi\u001b[0m\u001b[1;33m]\u001b[0m\u001b[1;33m)\u001b[0m \u001b[1;32mand\u001b[0m \u001b[1;32mnot\u001b[0m \u001b[0mK\u001b[0m\u001b[1;33m.\u001b[0m\u001b[0mis_sparse\u001b[0m\u001b[1;33m(\u001b[0m\u001b[0mfeed\u001b[0m\u001b[1;33m[\u001b[0m\u001b[0mi\u001b[0m\u001b[1;33m]\u001b[0m\u001b[1;33m)\u001b[0m\u001b[1;33m:\u001b[0m\u001b[1;33m\u001b[0m\u001b[1;33m\u001b[0m\u001b[0m\n\u001b[0m\u001b[0;32m    356\u001b[0m             \u001b[0mindices_for_conversion_to_dense\u001b[0m\u001b[1;33m.\u001b[0m\u001b[0mappend\u001b[0m\u001b[1;33m(\u001b[0m\u001b[0mi\u001b[0m\u001b[1;33m)\u001b[0m\u001b[1;33m\u001b[0m\u001b[1;33m\u001b[0m\u001b[0m\n\u001b[0;32m    357\u001b[0m \u001b[1;33m\u001b[0m\u001b[0m\n",
      "\u001b[1;31mIndexError\u001b[0m: list index out of range"
     ]
    }
   ],
   "source": [
    "# train, validation, test\n",
    "# epoch마다 accuracy를 저장한다.\n",
    "class AccuracyHistory(keras.callbacks.Callback):\n",
    "    def on_train_begin(self, logs={}):\n",
    "        self.acc = []\n",
    "    def on_epoch_end(self, batch, logs={}):\n",
    "        self.acc.append(logs.get(\"accuracy\"))\n",
    "        \n",
    "history = AccuracyHistory()  # 인스턴스 해주고 아래 fit에 , callbacks에  history 지정한다.\n",
    "\n",
    "model.fit(x_train, y_train,\n",
    "         batch_size=batch_size, epochs=epochs, verbose=1,\n",
    "         validation_data=(x_test, y_test), callbacks=[history])\n",
    "score = model.evaluate(x_test, verbose=0)\n",
    "plt.plot(range(1, 11), history.acc)\n",
    "plt.xlabel(\"Epochs\")\n",
    "plt.ylabel(\"Accuracy\")\n",
    "plt.show()"
   ]
  },
  {
   "cell_type": "code",
   "execution_count": 8,
   "metadata": {},
   "outputs": [
    {
     "name": "stdout",
     "output_type": "stream",
     "text": [
      "모델이 저장되었습니다.\n",
      "모델이 로딩되었습니다.\n",
      "_________________________________________________________________\n",
      "Layer (type)                 Output Shape              Param #   \n",
      "=================================================================\n",
      "conv2d_1 (Conv2D)            (None, 26, 26, 32)        320       \n",
      "_________________________________________________________________\n",
      "conv2d_2 (Conv2D)            (None, 24, 24, 64)        18496     \n",
      "_________________________________________________________________\n",
      "max_pooling2d_1 (MaxPooling2 (None, 12, 12, 64)        0         \n",
      "_________________________________________________________________\n",
      "dropout_1 (Dropout)          (None, 12, 12, 64)        0         \n",
      "_________________________________________________________________\n",
      "flatten_1 (Flatten)          (None, 9216)              0         \n",
      "_________________________________________________________________\n",
      "dense_1 (Dense)              (None, 128)               1179776   \n",
      "_________________________________________________________________\n",
      "dropout_2 (Dropout)          (None, 128)               0         \n",
      "_________________________________________________________________\n",
      "dense_2 (Dense)              (None, 10)                1290      \n",
      "=================================================================\n",
      "Total params: 1,199,882\n",
      "Trainable params: 1,199,882\n",
      "Non-trainable params: 0\n",
      "_________________________________________________________________\n"
     ]
    }
   ],
   "source": [
    "# HDFS(Hadoop File System) : 모델 구조 전체 저장\n",
    "# 가중치, 구조, Optimization statge 등이 저장\n",
    "# json으로 저장 -> 구조와 가중치를 별도로 저장\n",
    "model.save(\"model_mnist.h5\")\n",
    "print(\"모델이 저장되었습니다.\")\n",
    "\n",
    "from keras.models import load_model\n",
    "\n",
    "model = load_model(\"model_mnist.h5\")\n",
    "print(\"모델이 로딩되었습니다.\")\n",
    "model.summary()"
   ]
  },
  {
   "cell_type": "code",
   "execution_count": 9,
   "metadata": {},
   "outputs": [
    {
     "name": "stdout",
     "output_type": "stream",
     "text": [
      "conv2d_1\n",
      "(None, 28, 28, 1)\n",
      "<function relu at 0x00000192803193A8>\n",
      "(None, 26, 26, 32)\n"
     ]
    }
   ],
   "source": [
    "# 레이어 정보 확인\n",
    "l1 = model.layers[0]\n",
    "l2 = model.layers[1]\n",
    "print(l1.name)\n",
    "print(l1.input_shape)\n",
    "print(l1.activation)\n",
    "print(l1.output_shape)"
   ]
  },
  {
   "cell_type": "code",
   "execution_count": 10,
   "metadata": {},
   "outputs": [
    {
     "name": "stderr",
     "output_type": "stream",
     "text": [
      "C:\\Users\\ICT01_20\\Anaconda3\\envs\\tf_test\\lib\\site-packages\\keras_preprocessing\\image\\image_data_generator.py:336: UserWarning: This ImageDataGenerator specifies `zca_whitening`, which overrides setting of `featurewise_center`.\n",
      "  warnings.warn('This ImageDataGenerator specifies '\n"
     ]
    },
    {
     "data": {
      "image/png": "[encoded data removed]",
      "text/plain": [
       "<Figure size 432x288 with 9 Axes>"
      ]
     },
     "metadata": {
      "needs_background": "light"
     },
     "output_type": "display_data"
    }
   ],
   "source": [
    "# imageDataGenerator\n",
    "import keras\n",
    "from keras.models import Sequential\n",
    "from keras.datasets import mnist\n",
    "from keras.preprocessing.image import ImageDataGenerator\n",
    "from matplotlib import pyplot\n",
    "from keras import backend as K\n",
    "(X_train, y_train), (X_test, y_test) = mnist.load_data()\n",
    "X_train = X_train.reshape(X_train.shape[0], 28, 28, 1)\n",
    "X_test = X_test.reshape(X_test.shape[0], 28, 28, 1)\n",
    "X_train = X_train.astype(\"float32\")\n",
    "X_test = X_test.astype(\"float32\")\n",
    "#datagen = ImageDataGenerator(horizontal_flip=True, vertical_flip=True)\n",
    "#datagen = ImageDataGenerator(width_shift_range=0.2, height_shift_range=0.2)\n",
    "\n",
    "# 이미지 백색화 => noise 제거(변수 간 상관도를 없앰 : PCA)\n",
    "datagen = ImageDataGenerator(zca_whitening=True)\n",
    "datagen = ImageDataGenerator(rotation_range=90)\n",
    "datagen.fit(X_train)\n",
    "for X_batch, y_batch in datagen.flow(X_train, y_train, batch_size=9,\n",
    "                                     save_to_dir=\"images\",\n",
    "                                     save_prefix=\"aug\",\n",
    "                                     save_format=\"png\"):\n",
    "    \n",
    "    for i in range(0, 9):\n",
    "        pyplot.subplot(330 + 1 + i)\n",
    "        pyplot.imshow(X_batch[i].reshape(28, 28),\n",
    "                     cmap=pyplot.get_cmap(\"gray\"))\n",
    "    pyplot.show()\n",
    "    break"
   ]
  },
  {
   "cell_type": "code",
   "execution_count": 11,
   "metadata": {},
   "outputs": [
    {
     "name": "stdout",
     "output_type": "stream",
     "text": [
      "X_train shape: (50000, 32, 32, 3)\n",
      "50000 train samples\n",
      "10000 test samples\n"
     ]
    },
    {
     "data": {
      "image/png": "[encoded data removed]",
      "text/plain": [
       "<Figure size 432x288 with 1 Axes>"
      ]
     },
     "metadata": {
      "needs_background": "light"
     },
     "output_type": "display_data"
    },
    {
     "data": {
      "image/png": "[encoded data removed]",
      "text/plain": [
       "<Figure size 432x288 with 1 Axes>"
      ]
     },
     "metadata": {
      "needs_background": "light"
     },
     "output_type": "display_data"
    }
   ],
   "source": [
    "import keras\n",
    "from keras.layers import Dense, Dropout, Flatten, Conv2D, MaxPooling2D\n",
    "from keras import backend as K\n",
    "from keras.models import Sequential\n",
    "from keras.datasets import cifar10\n",
    "from keras.optimizers import SGD, Adam, RMSprop\n",
    "from keras.utils import np_utils\n",
    "from keras.layers import Activation\n",
    "import matplotlib.pyplot as plt\n",
    "%matplotlib inline\n",
    "\n",
    "(X_train, Y_train), (X_test, Y_test) = cifar10.load_data()\n",
    "print(\"X_train shape:\", X_train.shape)\n",
    "print(X_train.shape[0], \"train samples\")\n",
    "print(X_test.shape[0], \"test samples\")\n",
    "NB_CLASSES = 10\n",
    "Y_train = np_utils.to_categorical(Y_train, NB_CLASSES)\n",
    "Y_test = np_utils.to_categorical(Y_test, NB_CLASSES)\n",
    "\n",
    "X_train = X_train.astype(\"float32\")\n",
    "X_test = X_test.astype(\"float32\")\n",
    "X_train /= 255\n",
    "X_test /= 255\n",
    "\n",
    "plt.imshow(X_train[5])\n",
    "plt.grid(False)\n",
    "plt.show()\n",
    "plt.imshow(X_train[6])\n",
    "plt.grid(False)\n",
    "plt.show()"
   ]
  },
  {
   "cell_type": "code",
   "execution_count": 12,
   "metadata": {},
   "outputs": [],
   "source": [
    "IMG_CHANNELS = 3\n",
    "IMG_ROWS = 32\n",
    "IMG_COLS = 32\n",
    "BATCH_SIZE = 128\n",
    "NB_EPOCH = 40\n",
    "NB_CLASSES = 10\n",
    "VERBOSE = 1\n",
    "VALIDATION_SPLIT = 0.2\n",
    "OPTIM = RMSprop()"
   ]
  },
  {
   "cell_type": "code",
   "execution_count": 13,
   "metadata": {},
   "outputs": [],
   "source": [
    "model = Sequential()\n",
    "# residual망의 영향\n",
    "# 32 x 32 x 3 => 32x32x32\n",
    "model.add(Conv2D(32, kernel_size=3, padding=\"same\", input_shape=(IMG_ROWS, IMG_COLS, IMG_CHANNELS)))\n",
    "model.add(Activation(\"relu\"))\n",
    "model.add(Conv2D(32, kernel_size=3, padding=\"same\"))\n",
    "model.add(Activation(\"relu\"))\n",
    "model.add(MaxPooling2D(pool_size=(2,2)))\n",
    "model.add(Dropout(0.25))"
   ]
  },
  {
   "cell_type": "code",
   "execution_count": 14,
   "metadata": {},
   "outputs": [
    {
     "name": "stderr",
     "output_type": "stream",
     "text": [
      "C:\\Users\\ICT01_20\\Anaconda3\\envs\\tf_test\\lib\\site-packages\\ipykernel_launcher.py:3: UserWarning: Update your `Conv2D` call to the Keras 2 API: `Conv2D(64, (3, 3))`\n",
      "  This is separate from the ipykernel package so we can avoid doing imports until\n"
     ]
    }
   ],
   "source": [
    "model.add(Conv2D(64, kernel_size=3, padding=\"same\"))\n",
    "model.add(Activation(\"relu\"))\n",
    "model.add(Conv2D(64, 3, 3))\n",
    "model.add(Activation(\"relu\"))\n",
    "model.add(MaxPooling2D(pool_size=(2,2)))\n",
    "model.add(Dropout(0.25))"
   ]
  },
  {
   "cell_type": "code",
   "execution_count": 15,
   "metadata": {},
   "outputs": [
    {
     "name": "stdout",
     "output_type": "stream",
     "text": [
      "_________________________________________________________________\n",
      "Layer (type)                 Output Shape              Param #   \n",
      "=================================================================\n",
      "conv2d_3 (Conv2D)            (None, 32, 32, 32)        896       \n",
      "_________________________________________________________________\n",
      "activation_1 (Activation)    (None, 32, 32, 32)        0         \n",
      "_________________________________________________________________\n",
      "conv2d_4 (Conv2D)            (None, 32, 32, 32)        9248      \n",
      "_________________________________________________________________\n",
      "activation_2 (Activation)    (None, 32, 32, 32)        0         \n",
      "_________________________________________________________________\n",
      "max_pooling2d_2 (MaxPooling2 (None, 16, 16, 32)        0         \n",
      "_________________________________________________________________\n",
      "dropout_3 (Dropout)          (None, 16, 16, 32)        0         \n",
      "_________________________________________________________________\n",
      "conv2d_5 (Conv2D)            (None, 16, 16, 64)        18496     \n",
      "_________________________________________________________________\n",
      "activation_3 (Activation)    (None, 16, 16, 64)        0         \n",
      "_________________________________________________________________\n",
      "conv2d_6 (Conv2D)            (None, 14, 14, 64)        36928     \n",
      "_________________________________________________________________\n",
      "activation_4 (Activation)    (None, 14, 14, 64)        0         \n",
      "_________________________________________________________________\n",
      "max_pooling2d_3 (MaxPooling2 (None, 7, 7, 64)          0         \n",
      "_________________________________________________________________\n",
      "dropout_4 (Dropout)          (None, 7, 7, 64)          0         \n",
      "_________________________________________________________________\n",
      "flatten_2 (Flatten)          (None, 3136)              0         \n",
      "_________________________________________________________________\n",
      "dense_3 (Dense)              (None, 512)               1606144   \n",
      "_________________________________________________________________\n",
      "activation_5 (Activation)    (None, 512)               0         \n",
      "_________________________________________________________________\n",
      "dropout_5 (Dropout)          (None, 512)               0         \n",
      "_________________________________________________________________\n",
      "dense_4 (Dense)              (None, 10)                5130      \n",
      "_________________________________________________________________\n",
      "activation_6 (Activation)    (None, 10)                0         \n",
      "=================================================================\n",
      "Total params: 1,676,842\n",
      "Trainable params: 1,676,842\n",
      "Non-trainable params: 0\n",
      "_________________________________________________________________\n"
     ]
    }
   ],
   "source": [
    "model.add(Flatten())\n",
    "model.add(Dense(512))\n",
    "model.add(Activation(\"relu\"))\n",
    "model.add(Dropout(0.5))\n",
    "model.add(Dense(NB_CLASSES))\n",
    "model.add(Activation(\"softmax\"))\n",
    "model.summary()\n",
    "model.compile(loss=\"categorical_crossentropy\", optimizer=OPTIM, metrics=[\"accuracy\"])"
   ]
  },
  {
   "cell_type": "code",
   "execution_count": 16,
   "metadata": {},
   "outputs": [
    {
     "name": "stdout",
     "output_type": "stream",
     "text": [
      "Train on 40000 samples, validate on 10000 samples\n",
      "Epoch 1/40\n",
      "40000/40000 [==============================] - 10s 262us/step - loss: 1.7553 - acc: 0.3656 - val_loss: 1.4083 - val_acc: 0.4948\n",
      "Epoch 2/40\n",
      "40000/40000 [==============================] - 10s 243us/step - loss: 1.3403 - acc: 0.5224 - val_loss: 1.2427 - val_acc: 0.5553\n",
      "Epoch 3/40\n",
      "40000/40000 [==============================] - 10s 242us/step - loss: 1.1515 - acc: 0.5926 - val_loss: 1.0291 - val_acc: 0.6401\n",
      "Epoch 4/40\n",
      "40000/40000 [==============================] - 10s 242us/step - loss: 1.0157 - acc: 0.6418 - val_loss: 0.9242 - val_acc: 0.6795\n",
      "Epoch 5/40\n",
      "40000/40000 [==============================] - 10s 245us/step - loss: 0.9215 - acc: 0.6776 - val_loss: 0.9100 - val_acc: 0.6825\n",
      "Epoch 6/40\n",
      "40000/40000 [==============================] - 10s 242us/step - loss: 0.8444 - acc: 0.7060 - val_loss: 0.8204 - val_acc: 0.7108\n",
      "Epoch 7/40\n",
      "40000/40000 [==============================] - 10s 246us/step - loss: 0.7819 - acc: 0.7243 - val_loss: 0.7532 - val_acc: 0.7369\n",
      "Epoch 8/40\n",
      "40000/40000 [==============================] - 10s 242us/step - loss: 0.7347 - acc: 0.7446 - val_loss: 0.7597 - val_acc: 0.7321\n",
      "Epoch 9/40\n",
      "40000/40000 [==============================] - 10s 242us/step - loss: 0.6991 - acc: 0.7584 - val_loss: 0.8063 - val_acc: 0.7258\n",
      "Epoch 10/40\n",
      "40000/40000 [==============================] - 10s 244us/step - loss: 0.6635 - acc: 0.7690 - val_loss: 0.7640 - val_acc: 0.7449\n",
      "Epoch 11/40\n",
      "40000/40000 [==============================] - 10s 242us/step - loss: 0.6322 - acc: 0.7815 - val_loss: 0.7450 - val_acc: 0.7619\n",
      "Epoch 12/40\n",
      "40000/40000 [==============================] - 10s 240us/step - loss: 0.6100 - acc: 0.7896 - val_loss: 0.7481 - val_acc: 0.7495\n",
      "Epoch 13/40\n",
      "40000/40000 [==============================] - 10s 241us/step - loss: 0.5831 - acc: 0.8011 - val_loss: 0.6824 - val_acc: 0.7672\n",
      "Epoch 14/40\n",
      "40000/40000 [==============================] - 10s 241us/step - loss: 0.5722 - acc: 0.8028 - val_loss: 0.7244 - val_acc: 0.7758\n",
      "Epoch 15/40\n",
      "40000/40000 [==============================] - 10s 240us/step - loss: 0.5684 - acc: 0.8080 - val_loss: 0.7119 - val_acc: 0.7768\n",
      "Epoch 16/40\n",
      "40000/40000 [==============================] - 10s 242us/step - loss: 0.5506 - acc: 0.8107 - val_loss: 0.7731 - val_acc: 0.7713\n",
      "Epoch 17/40\n",
      "40000/40000 [==============================] - 10s 241us/step - loss: 0.5347 - acc: 0.8181 - val_loss: 0.6767 - val_acc: 0.7716\n",
      "Epoch 18/40\n",
      "40000/40000 [==============================] - 10s 240us/step - loss: 0.5323 - acc: 0.8196 - val_loss: 0.7684 - val_acc: 0.7767\n",
      "Epoch 19/40\n",
      "40000/40000 [==============================] - 10s 242us/step - loss: 0.5343 - acc: 0.8198 - val_loss: 0.7086 - val_acc: 0.7644\n",
      "Epoch 20/40\n",
      "40000/40000 [==============================] - 10s 240us/step - loss: 0.5288 - acc: 0.8215 - val_loss: 0.6932 - val_acc: 0.7710\n",
      "Epoch 21/40\n",
      "40000/40000 [==============================] - 10s 242us/step - loss: 0.5216 - acc: 0.8240 - val_loss: 0.7832 - val_acc: 0.7673\n",
      "Epoch 22/40\n",
      "40000/40000 [==============================] - 10s 243us/step - loss: 0.5186 - acc: 0.8267 - val_loss: 0.7024 - val_acc: 0.7844\n",
      "Epoch 23/40\n",
      "40000/40000 [==============================] - 10s 242us/step - loss: 0.5168 - acc: 0.8281 - val_loss: 0.9100 - val_acc: 0.7871\n",
      "Epoch 24/40\n",
      "40000/40000 [==============================] - 10s 246us/step - loss: 0.5284 - acc: 0.8251 - val_loss: 0.7764 - val_acc: 0.7864\n",
      "Epoch 25/40\n",
      "40000/40000 [==============================] - 10s 241us/step - loss: 0.5293 - acc: 0.8254 - val_loss: 0.8445 - val_acc: 0.7890\n",
      "Epoch 26/40\n",
      "40000/40000 [==============================] - 10s 242us/step - loss: 0.5347 - acc: 0.8263 - val_loss: 0.6940 - val_acc: 0.7814\n",
      "Epoch 27/40\n",
      "40000/40000 [==============================] - 10s 241us/step - loss: 0.5302 - acc: 0.8261 - val_loss: 0.8594 - val_acc: 0.7818\n",
      "Epoch 28/40\n",
      "40000/40000 [==============================] - 10s 241us/step - loss: 0.5254 - acc: 0.8287 - val_loss: 0.9451 - val_acc: 0.7661\n",
      "Epoch 29/40\n",
      "40000/40000 [==============================] - 10s 241us/step - loss: 0.5359 - acc: 0.8245 - val_loss: 0.7597 - val_acc: 0.7793\n",
      "Epoch 30/40\n",
      "40000/40000 [==============================] - 10s 241us/step - loss: 0.5439 - acc: 0.8223 - val_loss: 0.9419 - val_acc: 0.7849\n",
      "Epoch 31/40\n",
      "40000/40000 [==============================] - 10s 240us/step - loss: 0.5424 - acc: 0.8253 - val_loss: 0.7070 - val_acc: 0.7921\n",
      "Epoch 32/40\n",
      "40000/40000 [==============================] - 10s 241us/step - loss: 0.5466 - acc: 0.8219 - val_loss: 0.6995 - val_acc: 0.7774\n",
      "Epoch 33/40\n",
      "40000/40000 [==============================] - 10s 243us/step - loss: 0.5377 - acc: 0.8261 - val_loss: 0.9016 - val_acc: 0.7643\n",
      "Epoch 34/40\n",
      "40000/40000 [==============================] - 10s 241us/step - loss: 0.5531 - acc: 0.8224 - val_loss: 0.7324 - val_acc: 0.7881\n",
      "Epoch 35/40\n",
      "40000/40000 [==============================] - 10s 241us/step - loss: 0.5496 - acc: 0.8205 - val_loss: 0.8084 - val_acc: 0.7651\n",
      "Epoch 36/40\n",
      "40000/40000 [==============================] - 10s 241us/step - loss: 0.5590 - acc: 0.8210 - val_loss: 0.8563 - val_acc: 0.7749\n",
      "Epoch 37/40\n",
      "40000/40000 [==============================] - 10s 242us/step - loss: 0.5534 - acc: 0.8242 - val_loss: 0.8022 - val_acc: 0.7593\n",
      "Epoch 38/40\n",
      "40000/40000 [==============================] - 10s 242us/step - loss: 0.5680 - acc: 0.8179 - val_loss: 0.8451 - val_acc: 0.7850\n",
      "Epoch 39/40\n",
      "40000/40000 [==============================] - 10s 242us/step - loss: 0.5639 - acc: 0.8208 - val_loss: 0.8013 - val_acc: 0.7824\n",
      "Epoch 40/40\n",
      "40000/40000 [==============================] - 10s 240us/step - loss: 0.5680 - acc: 0.8194 - val_loss: 0.8461 - val_acc: 0.7303\n"
     ]
    }
   ],
   "source": [
    "history = model.fit(X_train, Y_train, batch_size=BATCH_SIZE,\n",
    "                    epochs=NB_EPOCH, validation_split=VALIDATION_SPLIT, verbose=VERBOSE)"
   ]
  },
  {
   "cell_type": "code",
   "execution_count": 17,
   "metadata": {},
   "outputs": [],
   "source": [
    "datagen = ImageDataGenerator(featurewise_center=False,\n",
    "                             samplewise_center=False,\n",
    "                             featurewise_std_normalization=False,\n",
    "                             samplewise_std_normalization=False,\n",
    "                             zca_whitening=False, # 이미지 PCA 노이즈 제거\n",
    "                             rotation_range=0.1,\n",
    "                             width_shift_range=0.1,\n",
    "                             height_shift_range=0.1,\n",
    "                             horizontal_flip=True,\n",
    "                             vertical_flip=False)\n",
    "datagen.fit(X_train)"
   ]
  },
  {
   "cell_type": "code",
   "execution_count": 18,
   "metadata": {},
   "outputs": [
    {
     "name": "stdout",
     "output_type": "stream",
     "text": [
      "Epoch 1/40\n",
      "  2/390 [..............................] - ETA: 21s - loss: 1.2094 - acc: 0.5859"
     ]
    },
    {
     "name": "stderr",
     "output_type": "stream",
     "text": [
      "C:\\Users\\ICT01_20\\Anaconda3\\envs\\tf_test\\lib\\site-packages\\ipykernel_launcher.py:5: UserWarning: The semantics of the Keras 2 argument `steps_per_epoch` is not the same as the Keras 1 argument `samples_per_epoch`. `steps_per_epoch` is the number of batches to draw from the generator at each epoch. Basically steps_per_epoch = samples_per_epoch/batch_size. Similarly `nb_val_samples`->`validation_steps` and `val_samples`->`steps` arguments have changed. Update your method calls accordingly.\n",
      "  \"\"\"\n",
      "C:\\Users\\ICT01_20\\Anaconda3\\envs\\tf_test\\lib\\site-packages\\ipykernel_launcher.py:5: UserWarning: Update your `fit_generator` call to the Keras 2 API: `fit_generator(<keras_pre..., verbose=1, steps_per_epoch=390, epochs=40)`\n",
      "  \"\"\"\n"
     ]
    },
    {
     "name": "stdout",
     "output_type": "stream",
     "text": [
      "390/390 [==============================] - 17s 43ms/step - loss: 1.0617 - acc: 0.6546\n",
      "Epoch 2/40\n",
      "390/390 [==============================] - 17s 43ms/step - loss: 0.9953 - acc: 0.6703\n",
      "Epoch 3/40\n",
      "390/390 [==============================] - 17s 44ms/step - loss: 0.9530 - acc: 0.6859\n",
      "Epoch 4/40\n",
      "390/390 [==============================] - 17s 44ms/step - loss: 0.9235 - acc: 0.6925\n",
      "Epoch 5/40\n",
      "390/390 [==============================] - 18s 47ms/step - loss: 0.9115 - acc: 0.6974\n",
      "Epoch 6/40\n",
      "390/390 [==============================] - 17s 43ms/step - loss: 0.8924 - acc: 0.7055\n",
      "Epoch 7/40\n",
      "390/390 [==============================] - 16s 42ms/step - loss: 0.8827 - acc: 0.7086\n",
      "Epoch 8/40\n",
      "390/390 [==============================] - 16s 42ms/step - loss: 0.8798 - acc: 0.7102\n",
      "Epoch 9/40\n",
      "390/390 [==============================] - 17s 44ms/step - loss: 0.8707 - acc: 0.7121\n",
      "Epoch 10/40\n",
      "390/390 [==============================] - 17s 44ms/step - loss: 0.8580 - acc: 0.7184\n",
      "Epoch 11/40\n",
      "390/390 [==============================] - 17s 43ms/step - loss: 0.8518 - acc: 0.7202\n",
      "Epoch 12/40\n",
      "390/390 [==============================] - 17s 43ms/step - loss: 0.8573 - acc: 0.7225\n",
      "Epoch 13/40\n",
      "390/390 [==============================] - 16s 42ms/step - loss: 0.8545 - acc: 0.7194\n",
      "Epoch 14/40\n",
      "390/390 [==============================] - 16s 42ms/step - loss: 0.8566 - acc: 0.7185\n",
      "Epoch 15/40\n",
      "390/390 [==============================] - 17s 43ms/step - loss: 0.8450 - acc: 0.7237\n",
      "Epoch 16/40\n",
      "390/390 [==============================] - 17s 43ms/step - loss: 0.8520 - acc: 0.7216\n",
      "Epoch 17/40\n",
      "390/390 [==============================] - 17s 43ms/step - loss: 0.8569 - acc: 0.7195\n",
      "Epoch 18/40\n",
      "390/390 [==============================] - 17s 42ms/step - loss: 0.8510 - acc: 0.7234\n",
      "Epoch 19/40\n",
      "390/390 [==============================] - 17s 42ms/step - loss: 0.8531 - acc: 0.7239\n",
      "Epoch 20/40\n",
      "390/390 [==============================] - 17s 44ms/step - loss: 0.8498 - acc: 0.7267 1s - lo\n",
      "Epoch 21/40\n",
      "390/390 [==============================] - 17s 43ms/step - loss: 0.8590 - acc: 0.7221\n",
      "Epoch 22/40\n",
      "390/390 [==============================] - 18s 45ms/step - loss: 0.8679 - acc: 0.7180\n",
      "Epoch 23/40\n",
      "390/390 [==============================] - 18s 46ms/step - loss: 0.8533 - acc: 0.7213\n",
      "Epoch 24/40\n",
      "390/390 [==============================] - 18s 46ms/step - loss: 0.8667 - acc: 0.7190\n",
      "Epoch 25/40\n",
      "390/390 [==============================] - 17s 43ms/step - loss: 0.8672 - acc: 0.7203\n",
      "Epoch 26/40\n",
      "390/390 [==============================] - 17s 43ms/step - loss: 0.8789 - acc: 0.7157\n",
      "Epoch 27/40\n",
      "390/390 [==============================] - 17s 43ms/step - loss: 0.8770 - acc: 0.7149\n",
      "Epoch 28/40\n",
      "390/390 [==============================] - 17s 43ms/step - loss: 0.8810 - acc: 0.7163\n",
      "Epoch 29/40\n",
      "390/390 [==============================] - 17s 43ms/step - loss: 0.8809 - acc: 0.7186\n",
      "Epoch 30/40\n",
      "390/390 [==============================] - 17s 43ms/step - loss: 0.8773 - acc: 0.7169\n",
      "Epoch 31/40\n",
      "390/390 [==============================] - 17s 43ms/step - loss: 0.8979 - acc: 0.7128\n",
      "Epoch 32/40\n",
      "390/390 [==============================] - 17s 43ms/step - loss: 0.8882 - acc: 0.7148\n",
      "Epoch 33/40\n",
      "390/390 [==============================] - 17s 43ms/step - loss: 0.8957 - acc: 0.7138\n",
      "Epoch 34/40\n",
      "390/390 [==============================] - 17s 43ms/step - loss: 0.8820 - acc: 0.7181\n",
      "Epoch 35/40\n",
      "390/390 [==============================] - 17s 43ms/step - loss: 0.8951 - acc: 0.7137\n",
      "Epoch 36/40\n",
      "390/390 [==============================] - 17s 43ms/step - loss: 0.8878 - acc: 0.7161\n",
      "Epoch 37/40\n",
      "390/390 [==============================] - 17s 43ms/step - loss: 0.8880 - acc: 0.7169\n",
      "Epoch 38/40\n",
      "390/390 [==============================] - 17s 43ms/step - loss: 0.9032 - acc: 0.7093 0s - loss: 0.9035 - acc: 0.70\n",
      "Epoch 39/40\n",
      "390/390 [==============================] - ETA: 0s - loss: 0.9209 - acc: 0.709 - 17s 43ms/step - loss: 0.9206 - acc: 0.7094\n",
      "Epoch 40/40\n",
      "390/390 [==============================] - 17s 43ms/step - loss: 0.9170 - acc: 0.7089\n"
     ]
    },
    {
     "data": {
      "text/plain": [
       "<keras.callbacks.History at 0x193636bc148>"
      ]
     },
     "execution_count": 18,
     "metadata": {},
     "output_type": "execute_result"
    }
   ],
   "source": [
    "model.fit_generator(datagen.flow(X_test, Y_test,\n",
    "                                 batch_size=BATCH_SIZE),\n",
    "                    samples_per_epoch=X_train.shape[0],\n",
    "                    nb_epoch=NB_EPOCH,\n",
    "                    verbose=VERBOSE)"
   ]
  },
  {
   "cell_type": "code",
   "execution_count": 19,
   "metadata": {},
   "outputs": [
    {
     "name": "stdout",
     "output_type": "stream",
     "text": [
      "10000/10000 [==============================] - 1s 83us/step\n",
      "\n",
      "Test score: 0.6849387546539306\n",
      "\n",
      "Test accuracy: 0.7715\n"
     ]
    }
   ],
   "source": [
    "score = model.evaluate(X_test, Y_test, batch_size=BATCH_SIZE, verbose=VERBOSE)\n",
    "print(\"\\nTest score:\", score[0])\n",
    "print(\"\\nTest accuracy:\", score[1])"
   ]
  },
  {
   "cell_type": "code",
   "execution_count": 20,
   "metadata": {},
   "outputs": [],
   "source": [
    "# json\n",
    "model_json = model.to_json()\n",
    "open(\"cifar10_architecture.json\", \"w\").write(model_json)\n",
    "model.save_weights(\"cifar10_weights.h5\", overwrite=True)"
   ]
  },
  {
   "cell_type": "code",
   "execution_count": 21,
   "metadata": {},
   "outputs": [
    {
     "name": "stdout",
     "output_type": "stream",
     "text": [
      "Loaded model from disk\n"
     ]
    }
   ],
   "source": [
    "from keras.models import model_from_json\n",
    "json_file = open(\"cifar10_architecture.json\", \"r\")\n",
    "loaded_model_json = json_file.read()\n",
    "json_file.close()\n",
    "loaded_model = model_from_json(loaded_model_json)\n",
    "loaded_model.load_weights(\"cifar10_weights.h5\")\n",
    "print(\"Loaded model from disk\")"
   ]
  },
  {
   "cell_type": "code",
   "execution_count": 23,
   "metadata": {},
   "outputs": [
    {
     "name": "stdout",
     "output_type": "stream",
     "text": [
      "[4 4]\n"
     ]
    }
   ],
   "source": [
    "# accuracy graph를 출력해보시요.\n",
    "# 이미지 cat, dog를 다운로드한 다음 위의 모델로 예측해보시요.\n",
    "import numpy as np\n",
    "from imageio import imread\n",
    "from skimage.transform import resize\n",
    "from keras.models import model_from_json\n",
    "img_names = ['cat.jpg','dog.jpg']\n",
    "imgs = [resize(imread(img_name), (32,32)).astype('float32')\n",
    "       for img_name in img_names]\n",
    "imgs = np.array(imgs) / 255\n",
    "predictions = model.predict_classes(imgs)\n",
    "print(predictions)"
   ]
  },
  {
   "cell_type": "code",
   "execution_count": null,
   "metadata": {},
   "outputs": [],
   "source": [
    "# 전이학습(transfer learning) application\n",
    "- 반지도학습(일부데이터의 라벨이 무) : knn , Trenductive SVM \n",
    "- 가중치 활용 : 그대로만 적용 \n",
    "- 가중치 중 일부분만 활용\n",
    "- ffnn 부분만 학습해서 사용 "
   ]
  },
  {
   "cell_type": "code",
   "execution_count": 28,
   "metadata": {},
   "outputs": [
    {
     "name": "stdout",
     "output_type": "stream",
     "text": [
      "PIL image size (224, 224)\n"
     ]
    },
    {
     "data": {
      "image/png": "[encoded data removed]",
      "text/plain": [
       "<Figure size 432x288 with 1 Axes>"
      ]
     },
     "metadata": {
      "needs_background": "light"
     },
     "output_type": "display_data"
    },
    {
     "name": "stdout",
     "output_type": "stream",
     "text": [
      "numpy array size (224, 224, 3)\n",
      "image array size (1, 224, 224, 3)\n",
      "WARNING:tensorflow:From C:\\Users\\ICT01_20\\Anaconda3\\envs\\tf_test\\lib\\site-packages\\keras\\backend\\tensorflow_backend.py:1834: The name tf.nn.fused_batch_norm is deprecated. Please use tf.compat.v1.nn.fused_batch_norm instead.\n",
      "\n",
      "Downloading data from https://github.com/fchollet/deep-learning-models/releases/download/v0.2/resnet50_weights_tf_dim_ordering_tf_kernels.h5\n",
      "102858752/102853048 [==============================] - 17s 0us/step\n",
      "Downloading data from https://storage.googleapis.com/download.tensorflow.org/data/imagenet_class_index.json\n",
      "40960/35363 [==================================] - 0s 1us/step\n",
      "[[('n07753592', 'banana', 0.99930274), ('n07749582', 'lemon', 0.00014120771), ('n07716358', 'zucchini', 0.0001349399), ('n07720875', 'bell_pepper', 7.893179e-05), ('n07747607', 'orange', 7.7046665e-05)]]\n"
     ]
    },
    {
     "data": {
      "image/png": "[encoded data removed]",
      "text/plain": [
       "<Figure size 432x288 with 1 Axes>"
      ]
     },
     "metadata": {
      "needs_background": "light"
     },
     "output_type": "display_data"
    }
   ],
   "source": [
    "import PIL\n",
    "from keras.preprocessing.image import load_img, img_to_array\n",
    "from keras.applications.imagenet_utils import decode_predictions\n",
    "import numpy as np\n",
    "from keras.applications.resnet50 import ResNet50\n",
    "from keras.applications import resnet50\n",
    "filename = 'banana.jpg'\n",
    "original = load_img(filename, target_size=(224,224))\n",
    "print('PIL image size', original.size)\n",
    "# 차원 확대 : 여러장 처리\n",
    "# 1장 ( 3차원 - > 4차원으로 확장)\n",
    "plt.imshow(original)\n",
    "plt.show()\n",
    "numpy_image = img_to_array(original)\n",
    "plt.imshow(np.uint8(numpy_image))\n",
    "print('numpy array size' , numpy_image.shape)\n",
    "image_batch=np.expand_dims(numpy_image, axis=0)\n",
    "print('image array size' , image_batch.shape)\n",
    "#prepare the image for the resnet50 model\n",
    "precessed_image = resnet50.preprocess_input(image_batch.copy())\n",
    "# dense 을 이용해서 모델을 생성\n",
    "# 라벨 =-> 확률 : 1\n",
    "resnet_model = resnet50.ResNet50(weights = 'imagenet')\n",
    "# softmax 확률 (상위 3개 예측)\n",
    "predictions = resnet_model.predict(precessed_image)\n",
    "label = decode_predictions(predictions)\n",
    "print(label)"
   ]
  },
  {
   "cell_type": "code",
   "execution_count": 29,
   "metadata": {},
   "outputs": [
    {
     "name": "stdout",
     "output_type": "stream",
     "text": [
      "[[('n07753592', 'banana', 0.99930274), ('n07749582', 'lemon', 0.00014120771), ('n07716358', 'zucchini', 0.0001349399)]]\n"
     ]
    }
   ],
   "source": [
    "label = decode_predictions(predictions , top = 3)\n",
    "print(label)"
   ]
  },
  {
   "cell_type": "code",
   "execution_count": 1,
   "metadata": {
    "scrolled": true
   },
   "outputs": [
    {
     "name": "stderr",
     "output_type": "stream",
     "text": [
      "C:\\Users\\ICT01_20\\Anaconda3\\envs\\tf_test\\lib\\site-packages\\tensorflow\\python\\framework\\dtypes.py:516: FutureWarning: Passing (type, 1) or '1type' as a synonym of type is deprecated; in a future version of numpy, it will be understood as (type, (1,)) / '(1,)type'.\n",
      "  _np_qint8 = np.dtype([(\"qint8\", np.int8, 1)])\n",
      "C:\\Users\\ICT01_20\\Anaconda3\\envs\\tf_test\\lib\\site-packages\\tensorflow\\python\\framework\\dtypes.py:517: FutureWarning: Passing (type, 1) or '1type' as a synonym of type is deprecated; in a future version of numpy, it will be understood as (type, (1,)) / '(1,)type'.\n",
      "  _np_quint8 = np.dtype([(\"quint8\", np.uint8, 1)])\n",
      "C:\\Users\\ICT01_20\\Anaconda3\\envs\\tf_test\\lib\\site-packages\\tensorflow\\python\\framework\\dtypes.py:518: FutureWarning: Passing (type, 1) or '1type' as a synonym of type is deprecated; in a future version of numpy, it will be understood as (type, (1,)) / '(1,)type'.\n",
      "  _np_qint16 = np.dtype([(\"qint16\", np.int16, 1)])\n",
      "C:\\Users\\ICT01_20\\Anaconda3\\envs\\tf_test\\lib\\site-packages\\tensorflow\\python\\framework\\dtypes.py:519: FutureWarning: Passing (type, 1) or '1type' as a synonym of type is deprecated; in a future version of numpy, it will be understood as (type, (1,)) / '(1,)type'.\n",
      "  _np_quint16 = np.dtype([(\"quint16\", np.uint16, 1)])\n",
      "C:\\Users\\ICT01_20\\Anaconda3\\envs\\tf_test\\lib\\site-packages\\tensorflow\\python\\framework\\dtypes.py:520: FutureWarning: Passing (type, 1) or '1type' as a synonym of type is deprecated; in a future version of numpy, it will be understood as (type, (1,)) / '(1,)type'.\n",
      "  _np_qint32 = np.dtype([(\"qint32\", np.int32, 1)])\n",
      "C:\\Users\\ICT01_20\\Anaconda3\\envs\\tf_test\\lib\\site-packages\\tensorflow\\python\\framework\\dtypes.py:525: FutureWarning: Passing (type, 1) or '1type' as a synonym of type is deprecated; in a future version of numpy, it will be understood as (type, (1,)) / '(1,)type'.\n",
      "  np_resource = np.dtype([(\"resource\", np.ubyte, 1)])\n",
      "Using TensorFlow backend.\n"
     ]
    }
   ],
   "source": [
    "from numpy.random import randn\n",
    "import pathlib\n",
    "import random\n",
    "import matplotlib.pyplot as plt\n",
    "import tensorflow as tf\n",
    "import numpy as np\n",
    "from matplotlib.image import imread\n",
    "from keras.preprocessing import image\n",
    "#tf.enable_eager_execution()\n",
    "AUTOTUNE = tf.data.experimental.AUTOTUNE\n",
    "data_dir = 'C:/Users/ICT01_20/Desktop/전달/flowers/flower_photos'\n",
    "data_dir = pathlib.Path(data_dir)\n",
    "label_names ={'daisy':0,'dandelion':1,'roses':2,'sunflowers':3,'tulips':4}\n",
    "label_key=['daisy','dandelion','roses','sunflowers','tulips']"
   ]
  },
  {
   "cell_type": "code",
   "execution_count": 2,
   "metadata": {},
   "outputs": [],
   "source": [
    "all_images = list(data_dir.glob('*/*'))\n",
    "all_images = [str(path) for path in all_images]\n",
    "random.shuffle(all_images)\n",
    "all_labels=[label_names[pathlib.Path(path).parent.name] for path in all_images]\n",
    "data_size = len(all_images)\n",
    "train_test_split=(int)(data_size*0.2)\n",
    "x_train = all_images[train_test_split:]\n",
    "x_test = all_images[:train_test_split]\n",
    "y_train = all_labels[train_test_split:]\n",
    "y_test = all_labels[:train_test_split]\n",
    "img_size = 160\n",
    "batch_size = 32"
   ]
  },
  {
   "cell_type": "code",
   "execution_count": 3,
   "metadata": {},
   "outputs": [],
   "source": [
    "def _parse_data(x,y):\n",
    "    image = tf.read_file(x)\n",
    "    image = tf.image.decode_jpeg(image, channels= 3)\n",
    "    image = tf.cast(image,tf.float32)\n",
    "    image = (image/127.5) -1 \n",
    "    image = tf.image.resize(image, (img_size, img_size))\n",
    "    return image,y \n",
    "def _input_fn(x,y):\n",
    "    ds = tf.data.Dataset.from_tensor_slices((x,y))\n",
    "    ds = ds.map(_parse_data)\n",
    "    ds = ds.shuffle(buffer_size=data_size)\n",
    "    ds = ds.repeat()\n",
    "    ds = ds.batch(batch_size)\n",
    "    ds = ds.prefetch(buffer_size=AUTOTUNE)\n",
    "    return ds\n",
    "train_ds = _input_fn(x_train,y_train)\n",
    "validation_ds = _input_fn(x_test, y_test)"
   ]
  },
  {
   "cell_type": "code",
   "execution_count": 4,
   "metadata": {},
   "outputs": [
    {
     "name": "stdout",
     "output_type": "stream",
     "text": [
      "WARNING:tensorflow:From C:\\Users\\ICT01_20\\Anaconda3\\envs\\tf_test\\lib\\site-packages\\tensorflow\\python\\ops\\init_ops.py:1251: calling VarianceScaling.__init__ (from tensorflow.python.ops.init_ops) with dtype is deprecated and will be removed in a future version.\n",
      "Instructions for updating:\n",
      "Call initializer instance with the dtype argument instead of passing it to the constructor\n"
     ]
    }
   ],
   "source": [
    "IMG_SHAPE = (img_size,img_size,3)\n",
    "VGG16_MODEL = tf.keras.applications.VGG16(input_shape = IMG_SHAPE,\n",
    "                                         include_top=False,\n",
    "                                         weights='imagenet')"
   ]
  },
  {
   "cell_type": "code",
   "execution_count": 5,
   "metadata": {},
   "outputs": [],
   "source": [
    "VGG16_MODEL.trainable =False\n",
    "global_average_layer = tf.keras.layers.GlobalAveragePooling2D()\n",
    "prediction_layer = tf.keras.layers.Dense(len(label_names),activation='softmax')"
   ]
  },
  {
   "cell_type": "code",
   "execution_count": 6,
   "metadata": {},
   "outputs": [],
   "source": [
    "model = tf.keras.Sequential([VGG16_MODEL, global_average_layer,prediction_layer])"
   ]
  },
  {
   "cell_type": "code",
   "execution_count": 7,
   "metadata": {},
   "outputs": [],
   "source": [
    "model.compile(optimizer = 'Adam', loss='categorical_crossentropy', metrics=[\"accuracy\"])"
   ]
  },
  {
   "cell_type": "code",
   "execution_count": 8,
   "metadata": {},
   "outputs": [
    {
     "name": "stdout",
     "output_type": "stream",
     "text": [
      "Epoch 1/100\n"
     ]
    },
    {
     "ename": "InvalidArgumentError",
     "evalue": "2 root error(s) found.\n  (0) Invalid argument: Invalid JPEG data or crop window, data size 2636\n\t [[{{node DecodeJpeg}}]]\n\t [[IteratorGetNext]]\n\t [[IteratorGetNext/_199]]\n  (1) Invalid argument: Invalid JPEG data or crop window, data size 2636\n\t [[{{node DecodeJpeg}}]]\n\t [[IteratorGetNext]]\n0 successful operations.\n0 derived errors ignored.",
     "output_type": "error",
     "traceback": [
      "\u001b[1;31m---------------------------------------------------------------------------\u001b[0m",
      "\u001b[1;31mInvalidArgumentError\u001b[0m                      Traceback (most recent call last)",
      "\u001b[1;32m<ipython-input-8-30fa9990e22f>\u001b[0m in \u001b[0;36m<module>\u001b[1;34m\u001b[0m\n\u001b[1;32m----> 1\u001b[1;33m \u001b[0mhistory\u001b[0m \u001b[1;33m=\u001b[0m \u001b[0mmodel\u001b[0m\u001b[1;33m.\u001b[0m\u001b[0mfit\u001b[0m\u001b[1;33m(\u001b[0m\u001b[0mtrain_ds\u001b[0m\u001b[1;33m,\u001b[0m \u001b[0mepochs\u001b[0m\u001b[1;33m=\u001b[0m\u001b[1;36m100\u001b[0m\u001b[1;33m,\u001b[0m \u001b[0msteps_per_epoch\u001b[0m\u001b[1;33m=\u001b[0m\u001b[1;36m2\u001b[0m\u001b[1;33m)\u001b[0m\u001b[1;33m\u001b[0m\u001b[1;33m\u001b[0m\u001b[0m\n\u001b[0m",
      "\u001b[1;32m~\\Anaconda3\\envs\\tf_test\\lib\\site-packages\\tensorflow\\python\\keras\\engine\\training.py\u001b[0m in \u001b[0;36mfit\u001b[1;34m(self, x, y, batch_size, epochs, verbose, callbacks, validation_split, validation_data, shuffle, class_weight, sample_weight, initial_epoch, steps_per_epoch, validation_steps, validation_freq, max_queue_size, workers, use_multiprocessing, **kwargs)\u001b[0m\n\u001b[0;32m    778\u001b[0m           \u001b[0mvalidation_steps\u001b[0m\u001b[1;33m=\u001b[0m\u001b[0mvalidation_steps\u001b[0m\u001b[1;33m,\u001b[0m\u001b[1;33m\u001b[0m\u001b[1;33m\u001b[0m\u001b[0m\n\u001b[0;32m    779\u001b[0m           \u001b[0mvalidation_freq\u001b[0m\u001b[1;33m=\u001b[0m\u001b[0mvalidation_freq\u001b[0m\u001b[1;33m,\u001b[0m\u001b[1;33m\u001b[0m\u001b[1;33m\u001b[0m\u001b[0m\n\u001b[1;32m--> 780\u001b[1;33m           steps_name='steps_per_epoch')\n\u001b[0m\u001b[0;32m    781\u001b[0m \u001b[1;33m\u001b[0m\u001b[0m\n\u001b[0;32m    782\u001b[0m   def evaluate(self,\n",
      "\u001b[1;32m~\\Anaconda3\\envs\\tf_test\\lib\\site-packages\\tensorflow\\python\\keras\\engine\\training_arrays.py\u001b[0m in \u001b[0;36mmodel_iteration\u001b[1;34m(model, inputs, targets, sample_weights, batch_size, epochs, verbose, callbacks, val_inputs, val_targets, val_sample_weights, shuffle, initial_epoch, steps_per_epoch, validation_steps, validation_freq, mode, validation_in_fit, prepared_feed_values_from_dataset, steps_name, **kwargs)\u001b[0m\n\u001b[0;32m    272\u001b[0m           \u001b[1;31m# `ins` can be callable in tf.distribute.Strategy + eager case.\u001b[0m\u001b[1;33m\u001b[0m\u001b[1;33m\u001b[0m\u001b[1;33m\u001b[0m\u001b[0m\n\u001b[0;32m    273\u001b[0m           \u001b[0mactual_inputs\u001b[0m \u001b[1;33m=\u001b[0m \u001b[0mins\u001b[0m\u001b[1;33m(\u001b[0m\u001b[1;33m)\u001b[0m \u001b[1;32mif\u001b[0m \u001b[0mcallable\u001b[0m\u001b[1;33m(\u001b[0m\u001b[0mins\u001b[0m\u001b[1;33m)\u001b[0m \u001b[1;32melse\u001b[0m \u001b[0mins\u001b[0m\u001b[1;33m\u001b[0m\u001b[1;33m\u001b[0m\u001b[0m\n\u001b[1;32m--> 274\u001b[1;33m           \u001b[0mbatch_outs\u001b[0m \u001b[1;33m=\u001b[0m \u001b[0mf\u001b[0m\u001b[1;33m(\u001b[0m\u001b[0mactual_inputs\u001b[0m\u001b[1;33m)\u001b[0m\u001b[1;33m\u001b[0m\u001b[1;33m\u001b[0m\u001b[0m\n\u001b[0m\u001b[0;32m    275\u001b[0m         \u001b[1;32mexcept\u001b[0m \u001b[0merrors\u001b[0m\u001b[1;33m.\u001b[0m\u001b[0mOutOfRangeError\u001b[0m\u001b[1;33m:\u001b[0m\u001b[1;33m\u001b[0m\u001b[1;33m\u001b[0m\u001b[0m\n\u001b[0;32m    276\u001b[0m           \u001b[1;32mif\u001b[0m \u001b[0mis_dataset\u001b[0m\u001b[1;33m:\u001b[0m\u001b[1;33m\u001b[0m\u001b[1;33m\u001b[0m\u001b[0m\n",
      "\u001b[1;32m~\\Anaconda3\\envs\\tf_test\\lib\\site-packages\\tensorflow\\python\\keras\\backend.py\u001b[0m in \u001b[0;36m__call__\u001b[1;34m(self, inputs)\u001b[0m\n\u001b[0;32m   3290\u001b[0m \u001b[1;33m\u001b[0m\u001b[0m\n\u001b[0;32m   3291\u001b[0m     fetched = self._callable_fn(*array_vals,\n\u001b[1;32m-> 3292\u001b[1;33m                                 run_metadata=self.run_metadata)\n\u001b[0m\u001b[0;32m   3293\u001b[0m     \u001b[0mself\u001b[0m\u001b[1;33m.\u001b[0m\u001b[0m_call_fetch_callbacks\u001b[0m\u001b[1;33m(\u001b[0m\u001b[0mfetched\u001b[0m\u001b[1;33m[\u001b[0m\u001b[1;33m-\u001b[0m\u001b[0mlen\u001b[0m\u001b[1;33m(\u001b[0m\u001b[0mself\u001b[0m\u001b[1;33m.\u001b[0m\u001b[0m_fetches\u001b[0m\u001b[1;33m)\u001b[0m\u001b[1;33m:\u001b[0m\u001b[1;33m]\u001b[0m\u001b[1;33m)\u001b[0m\u001b[1;33m\u001b[0m\u001b[1;33m\u001b[0m\u001b[0m\n\u001b[0;32m   3294\u001b[0m     output_structure = nest.pack_sequence_as(\n",
      "\u001b[1;32m~\\Anaconda3\\envs\\tf_test\\lib\\site-packages\\tensorflow\\python\\client\\session.py\u001b[0m in \u001b[0;36m__call__\u001b[1;34m(self, *args, **kwargs)\u001b[0m\n\u001b[0;32m   1456\u001b[0m         ret = tf_session.TF_SessionRunCallable(self._session._session,\n\u001b[0;32m   1457\u001b[0m                                                \u001b[0mself\u001b[0m\u001b[1;33m.\u001b[0m\u001b[0m_handle\u001b[0m\u001b[1;33m,\u001b[0m \u001b[0margs\u001b[0m\u001b[1;33m,\u001b[0m\u001b[1;33m\u001b[0m\u001b[1;33m\u001b[0m\u001b[0m\n\u001b[1;32m-> 1458\u001b[1;33m                                                run_metadata_ptr)\n\u001b[0m\u001b[0;32m   1459\u001b[0m         \u001b[1;32mif\u001b[0m \u001b[0mrun_metadata\u001b[0m\u001b[1;33m:\u001b[0m\u001b[1;33m\u001b[0m\u001b[1;33m\u001b[0m\u001b[0m\n\u001b[0;32m   1460\u001b[0m           \u001b[0mproto_data\u001b[0m \u001b[1;33m=\u001b[0m \u001b[0mtf_session\u001b[0m\u001b[1;33m.\u001b[0m\u001b[0mTF_GetBuffer\u001b[0m\u001b[1;33m(\u001b[0m\u001b[0mrun_metadata_ptr\u001b[0m\u001b[1;33m)\u001b[0m\u001b[1;33m\u001b[0m\u001b[1;33m\u001b[0m\u001b[0m\n",
      "\u001b[1;31mInvalidArgumentError\u001b[0m: 2 root error(s) found.\n  (0) Invalid argument: Invalid JPEG data or crop window, data size 2636\n\t [[{{node DecodeJpeg}}]]\n\t [[IteratorGetNext]]\n\t [[IteratorGetNext/_199]]\n  (1) Invalid argument: Invalid JPEG data or crop window, data size 2636\n\t [[{{node DecodeJpeg}}]]\n\t [[IteratorGetNext]]\n0 successful operations.\n0 derived errors ignored."
     ]
    }
   ],
   "source": [
    "history = model.fit(train_ds, epochs=100, steps_per_epoch=2)"
   ]
  }
 ],
 "metadata": {
  "kernelspec": {
   "display_name": "Python 3",
   "language": "python",
   "name": "python3"
  },
  "language_info": {
   "codemirror_mode": {
    "name": "ipython",
    "version": 3
   },
   "file_extension": ".py",
   "mimetype": "text/x-python",
   "name": "python",
   "nbconvert_exporter": "python",
   "pygments_lexer": "ipython3",
   "version": "3.7.6"
  }
 },
 "nbformat": 4,
 "nbformat_minor": 2
}
