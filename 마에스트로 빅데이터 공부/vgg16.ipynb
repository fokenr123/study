{
 "cells": [
  {
   "cell_type": "code",
   "execution_count": 2,
   "metadata": {},
   "outputs": [],
   "source": [
    "from PIL import Image\n",
    "import os, glob, numpy as np\n",
    "from sklearn.model_selection import train_test_split\n",
    "\n",
    "caltech_dir = \"C:/Users/ICT01_20/Desktop/food-5\"\n",
    "categories  = os.listdir(caltech_dir)\n",
    "nb_classes = len(categories )\n",
    "image_w = 128\n",
    "image_h = 128\n",
    "\n",
    "X = []\n",
    "y = []"
   ]
  },
  {
   "cell_type": "code",
   "execution_count": 2,
   "metadata": {},
   "outputs": [
    {
     "name": "stdout",
     "output_type": "stream",
     "text": [
      "계란찜  파일 길이 :  784\n",
      "계란찜  :  C:/Users/ICT01_20/Desktop/food-5/계란찜\\Img_125_0000.jpg\n",
      "계란찜  :  C:/Users/ICT01_20/Desktop/food-5/계란찜\\Img_125_0871.jpg\n",
      "고사리나물  파일 길이 :  896\n",
      "고사리나물  :  C:/Users/ICT01_20/Desktop/food-5/고사리나물\\Img_041_0000.JPG\n",
      "고사리나물  :  C:/Users/ICT01_20/Desktop/food-5/고사리나물\\Img_041_0782.jpg\n",
      "삼계탕  파일 길이 :  864\n",
      "삼계탕  :  C:/Users/ICT01_20/Desktop/food-5/삼계탕\\Img_138_0000.jpg\n",
      "삼계탕  :  C:/Users/ICT01_20/Desktop/food-5/삼계탕\\Img_138_0785.jpg\n",
      "오징어채볶음  파일 길이 :  704\n",
      "오징어채볶음  :  C:/Users/ICT01_20/Desktop/food-5/오징어채볶음\\Img_087_0003.jpg\n",
      "오징어채볶음  :  C:/Users/ICT01_20/Desktop/food-5/오징어채볶음\\Img_087_1070.jpg\n",
      "콩자반  파일 길이 :  675\n",
      "콩자반  :  C:/Users/ICT01_20/Desktop/food-5/콩자반\\Img_025_0001.jpg\n",
      "ok 3923\n"
     ]
    }
   ],
   "source": [
    "import numpy as np\n",
    "for idx, cat in enumerate(categories):\n",
    "    \n",
    "    #one-hot 돌리기.\n",
    "    label = [0 for i in range(nb_classes)]\n",
    "    label[idx] = 1\n",
    "\n",
    "    image_dir = caltech_dir + \"/\" + cat\n",
    "    files = glob.glob(image_dir+\"/*.JPG\")\n",
    "    print(cat, \" 파일 길이 : \", len(files))\n",
    "    for i, f in enumerate(files):\n",
    "        img = Image.open(f)\n",
    "        img = img.convert(\"RGB\")\n",
    "        img = img.resize((image_w, image_h))\n",
    "        data = np.asarray(img)\n",
    "\n",
    "        X.append(data)\n",
    "        y.append(label)\n",
    "\n",
    "        if i % 700 == 0:\n",
    "            print(cat, \" : \", f)\n",
    "\n",
    "X = np.array(X)\n",
    "y = np.array(y)\n",
    "\n",
    "train_ratio = 0.60\n",
    "validation_ratio = 0.20\n",
    "test_ratio = 0.20\n",
    "\n",
    "X_train, X_test, y_train, y_test = train_test_split(X, y, test_size=1 - train_ratio)\n",
    "\n",
    "X_val, X_test, y_val, y_test = train_test_split(X_test, y_test, test_size=test_ratio/(test_ratio + validation_ratio))\n",
    "xy = (X_train, X_test, X_val , y_train, y_test,y_val )\n",
    "np.save(\"C:/Users/ICT01_20/Desktop/food-5-2\", xy)\n",
    "\n",
    "print(\"ok\", len(y))"
   ]
  },
  {
   "cell_type": "code",
   "execution_count": 2,
   "metadata": {},
   "outputs": [
    {
     "name": "stderr",
     "output_type": "stream",
     "text": [
      "Using TensorFlow backend.\n"
     ]
    },
    {
     "name": "stdout",
     "output_type": "stream",
     "text": [
      "(2353, 128, 128, 3)\n",
      "2353\n"
     ]
    }
   ],
   "source": [
    "import os, glob, numpy as np\n",
    "import tensorflow as tf\n",
    "from keras.models import Sequential\n",
    "from keras.layers import Conv2D, MaxPooling2D, Dense, Flatten, Dropout\n",
    "from keras.callbacks import EarlyStopping, ModelCheckpoint\n",
    "import matplotlib.pyplot as plt\n",
    "import keras.backend.tensorflow_backend as K\n",
    "#np_load_old = np.load\n",
    "#np.load = lambda *a, **k : np_load_old(*a, allow_pickle=True, **k)\n",
    "#np.load = np_load_old\n",
    "\n",
    "import tensorflow as tf\n",
    "config = tf.ConfigProto()\n",
    "config.gpu_options.allow_growth = True\n",
    "session = tf.Session(config=config)\n",
    "\n",
    "X_train, X_test, X_val , y_train, y_test, y_val= np.load('C:/Users/ICT01_20/Desktop/food-5-2.npy',allow_pickle=True\n",
    ")\n",
    "print(X_train.shape)\n",
    "print(X_train.shape[0])"
   ]
  },
  {
   "cell_type": "code",
   "execution_count": 3,
   "metadata": {},
   "outputs": [],
   "source": [
    "#일반화\n",
    "X_train = X_train.astype(float) / 255\n",
    "X_test = X_test.astype(float) / 255\n",
    "X_val = X_test.astype(float) / 255"
   ]
  },
  {
   "cell_type": "code",
   "execution_count": 4,
   "metadata": {},
   "outputs": [],
   "source": [
    "######## ------------vgg net  사용 \n",
    "from keras import models, layers\n",
    "from keras.applications import VGG16\n",
    "from keras import Input\n",
    "from keras.models import Model\n",
    "from keras.preprocessing.image import ImageDataGenerator\n",
    "from keras import optimizers, initializers, regularizers, metrics\n",
    "from keras.callbacks import ModelCheckpoint\n",
    "import os\n",
    "from glob import glob\n",
    "from PIL import Image\n",
    "import matplotlib.pyplot as plt\n",
    "import numpy as np\n",
    "import math"
   ]
  },
  {
   "cell_type": "code",
   "execution_count": 5,
   "metadata": {},
   "outputs": [
    {
     "name": "stdout",
     "output_type": "stream",
     "text": [
      "WARNING:tensorflow:From C:\\Users\\ICT01_20\\Anaconda3\\envs\\a\\lib\\site-packages\\keras\\backend\\tensorflow_backend.py:74: The name tf.get_default_graph is deprecated. Please use tf.compat.v1.get_default_graph instead.\n",
      "\n",
      "WARNING:tensorflow:From C:\\Users\\ICT01_20\\Anaconda3\\envs\\a\\lib\\site-packages\\keras\\backend\\tensorflow_backend.py:517: The name tf.placeholder is deprecated. Please use tf.compat.v1.placeholder instead.\n",
      "\n",
      "WARNING:tensorflow:From C:\\Users\\ICT01_20\\Anaconda3\\envs\\a\\lib\\site-packages\\keras\\backend\\tensorflow_backend.py:4138: The name tf.random_uniform is deprecated. Please use tf.random.uniform instead.\n",
      "\n",
      "WARNING:tensorflow:From C:\\Users\\ICT01_20\\Anaconda3\\envs\\a\\lib\\site-packages\\keras\\backend\\tensorflow_backend.py:3976: The name tf.nn.max_pool is deprecated. Please use tf.nn.max_pool2d instead.\n",
      "\n",
      "WARNING:tensorflow:From C:\\Users\\ICT01_20\\Anaconda3\\envs\\a\\lib\\site-packages\\keras\\backend\\tensorflow_backend.py:174: The name tf.get_default_session is deprecated. Please use tf.compat.v1.get_default_session instead.\n",
      "\n",
      "WARNING:tensorflow:From C:\\Users\\ICT01_20\\Anaconda3\\envs\\a\\lib\\site-packages\\keras\\backend\\tensorflow_backend.py:190: The name tf.global_variables is deprecated. Please use tf.compat.v1.global_variables instead.\n",
      "\n",
      "WARNING:tensorflow:From C:\\Users\\ICT01_20\\Anaconda3\\envs\\a\\lib\\site-packages\\keras\\backend\\tensorflow_backend.py:199: The name tf.is_variable_initialized is deprecated. Please use tf.compat.v1.is_variable_initialized instead.\n",
      "\n",
      "WARNING:tensorflow:From C:\\Users\\ICT01_20\\Anaconda3\\envs\\a\\lib\\site-packages\\keras\\backend\\tensorflow_backend.py:206: The name tf.variables_initializer is deprecated. Please use tf.compat.v1.variables_initializer instead.\n",
      "\n",
      "_________________________________________________________________\n",
      "Layer (type)                 Output Shape              Param #   \n",
      "=================================================================\n",
      "input_1 (InputLayer)         (None, 128, 128, 3)       0         \n",
      "_________________________________________________________________\n",
      "block1_conv1 (Conv2D)        (None, 128, 128, 64)      1792      \n",
      "_________________________________________________________________\n",
      "block1_conv2 (Conv2D)        (None, 128, 128, 64)      36928     \n",
      "_________________________________________________________________\n",
      "block1_pool (MaxPooling2D)   (None, 64, 64, 64)        0         \n",
      "_________________________________________________________________\n",
      "block2_conv1 (Conv2D)        (None, 64, 64, 128)       73856     \n",
      "_________________________________________________________________\n",
      "block2_conv2 (Conv2D)        (None, 64, 64, 128)       147584    \n",
      "_________________________________________________________________\n",
      "block2_pool (MaxPooling2D)   (None, 32, 32, 128)       0         \n",
      "_________________________________________________________________\n",
      "block3_conv1 (Conv2D)        (None, 32, 32, 256)       295168    \n",
      "_________________________________________________________________\n",
      "block3_conv2 (Conv2D)        (None, 32, 32, 256)       590080    \n",
      "_________________________________________________________________\n",
      "block3_conv3 (Conv2D)        (None, 32, 32, 256)       590080    \n",
      "_________________________________________________________________\n",
      "block3_pool (MaxPooling2D)   (None, 16, 16, 256)       0         \n",
      "_________________________________________________________________\n",
      "block4_conv1 (Conv2D)        (None, 16, 16, 512)       1180160   \n",
      "_________________________________________________________________\n",
      "block4_conv2 (Conv2D)        (None, 16, 16, 512)       2359808   \n",
      "_________________________________________________________________\n",
      "block4_conv3 (Conv2D)        (None, 16, 16, 512)       2359808   \n",
      "_________________________________________________________________\n",
      "block4_pool (MaxPooling2D)   (None, 8, 8, 512)         0         \n",
      "_________________________________________________________________\n",
      "block5_conv1 (Conv2D)        (None, 8, 8, 512)         2359808   \n",
      "_________________________________________________________________\n",
      "block5_conv2 (Conv2D)        (None, 8, 8, 512)         2359808   \n",
      "_________________________________________________________________\n",
      "block5_conv3 (Conv2D)        (None, 8, 8, 512)         2359808   \n",
      "_________________________________________________________________\n",
      "block5_pool (MaxPooling2D)   (None, 4, 4, 512)         0         \n",
      "=================================================================\n",
      "Total params: 14,714,688\n",
      "Trainable params: 0\n",
      "Non-trainable params: 14,714,688\n",
      "_________________________________________________________________\n"
     ]
    }
   ],
   "source": [
    "pre_trained_vgg = VGG16(weights='imagenet', include_top=False, input_shape=(128, 128, 3))\n",
    "pre_trained_vgg.trainable = False\n",
    "pre_trained_vgg.summary()"
   ]
  },
  {
   "cell_type": "code",
   "execution_count": 6,
   "metadata": {},
   "outputs": [],
   "source": [
    "additional_model = models.Sequential()\n",
    "additional_model.add(pre_trained_vgg)\n",
    "additional_model.add(layers.Flatten())\n",
    "additional_model.add(layers.Dense(4096, activation='relu'))\n",
    "additional_model.add(layers.Dense(2048, activation='relu'))\n",
    "additional_model.add(layers.Dense(1024, activation='relu'))\n",
    "additional_model.add(layers.Dense(5, activation='softmax'))\n",
    " "
   ]
  },
  {
   "cell_type": "code",
   "execution_count": 7,
   "metadata": {},
   "outputs": [
    {
     "name": "stdout",
     "output_type": "stream",
     "text": [
      "_________________________________________________________________\n",
      "Layer (type)                 Output Shape              Param #   \n",
      "=================================================================\n",
      "vgg16 (Model)                (None, 4, 4, 512)         14714688  \n",
      "_________________________________________________________________\n",
      "flatten_1 (Flatten)          (None, 8192)              0         \n",
      "_________________________________________________________________\n",
      "dense_1 (Dense)              (None, 4096)              33558528  \n",
      "_________________________________________________________________\n",
      "dense_2 (Dense)              (None, 2048)              8390656   \n",
      "_________________________________________________________________\n",
      "dense_3 (Dense)              (None, 1024)              2098176   \n",
      "_________________________________________________________________\n",
      "dense_4 (Dense)              (None, 5)                 5125      \n",
      "=================================================================\n",
      "Total params: 58,767,173\n",
      "Trainable params: 44,052,485\n",
      "Non-trainable params: 14,714,688\n",
      "_________________________________________________________________\n"
     ]
    }
   ],
   "source": [
    "additional_model.summary()"
   ]
  },
  {
   "cell_type": "code",
   "execution_count": 8,
   "metadata": {},
   "outputs": [
    {
     "name": "stdout",
     "output_type": "stream",
     "text": [
      "WARNING:tensorflow:From C:\\Users\\ICT01_20\\Anaconda3\\envs\\a\\lib\\site-packages\\keras\\optimizers.py:790: The name tf.train.Optimizer is deprecated. Please use tf.compat.v1.train.Optimizer instead.\n",
      "\n",
      "WARNING:tensorflow:From C:\\Users\\ICT01_20\\Anaconda3\\envs\\a\\lib\\site-packages\\keras\\backend\\tensorflow_backend.py:3295: The name tf.log is deprecated. Please use tf.math.log instead.\n",
      "\n"
     ]
    }
   ],
   "source": [
    "model_dir = './test'\n",
    "model_path = model_dir + '/vgg16.model'\n",
    "checkpoint = ModelCheckpoint(filepath=model_path , monitor='val_loss', verbose=1, save_best_only=True)\n",
    "early_stopping = EarlyStopping(monitor='val_loss', patience=6)\n",
    "additional_model.compile(loss='categorical_crossentropy', optimizer=optimizers.RMSprop(lr=2e-5), metrics=['acc'])"
   ]
  },
  {
   "cell_type": "code",
   "execution_count": 10,
   "metadata": {},
   "outputs": [
    {
     "name": "stdout",
     "output_type": "stream",
     "text": [
      "Train on 2353 samples, validate on 785 samples\n",
      "Epoch 1/20\n",
      "2353/2353 [==============================] - 21s 9ms/step - loss: 0.3685 - acc: 0.8793 - val_loss: 0.4564 - val_acc: 0.8306\n",
      "\n",
      "Epoch 00001: val_loss improved from inf to 0.45637, saving model to ./test/vgg16.model\n",
      "Epoch 2/20\n",
      "2353/2353 [==============================] - 21s 9ms/step - loss: 0.2224 - acc: 0.9303 - val_loss: 0.4258 - val_acc: 0.8369\n",
      "\n",
      "Epoch 00002: val_loss improved from 0.45637 to 0.42582, saving model to ./test/vgg16.model\n",
      "Epoch 3/20\n",
      "2353/2353 [==============================] - 21s 9ms/step - loss: 0.1491 - acc: 0.9567 - val_loss: 0.3325 - val_acc: 0.8688\n",
      "\n",
      "Epoch 00003: val_loss improved from 0.42582 to 0.33254, saving model to ./test/vgg16.model\n",
      "Epoch 4/20\n",
      "2353/2353 [==============================] - 21s 9ms/step - loss: 0.0959 - acc: 0.9741 - val_loss: 0.2445 - val_acc: 0.9083\n",
      "\n",
      "Epoch 00004: val_loss improved from 0.33254 to 0.24454, saving model to ./test/vgg16.model\n",
      "Epoch 5/20\n",
      "2353/2353 [==============================] - 21s 9ms/step - loss: 0.0634 - acc: 0.9843 - val_loss: 0.3567 - val_acc: 0.8713\n",
      "\n",
      "Epoch 00005: val_loss did not improve from 0.24454\n",
      "Epoch 6/20\n",
      "2353/2353 [==============================] - 21s 9ms/step - loss: 0.0398 - acc: 0.9911 - val_loss: 0.2264 - val_acc: 0.9146\n",
      "\n",
      "Epoch 00006: val_loss improved from 0.24454 to 0.22635, saving model to ./test/vgg16.model\n",
      "Epoch 7/20\n",
      "2353/2353 [==============================] - 21s 9ms/step - loss: 0.0247 - acc: 0.9958 - val_loss: 0.2279 - val_acc: 0.9172\n",
      "\n",
      "Epoch 00007: val_loss did not improve from 0.22635\n",
      "Epoch 8/20\n",
      "2353/2353 [==============================] - 21s 9ms/step - loss: 0.0216 - acc: 0.9945 - val_loss: 0.2598 - val_acc: 0.9070\n",
      "\n",
      "Epoch 00008: val_loss did not improve from 0.22635\n",
      "Epoch 9/20\n",
      "2353/2353 [==============================] - 21s 9ms/step - loss: 0.0194 - acc: 0.9966 - val_loss: 0.2327 - val_acc: 0.9159\n",
      "\n",
      "Epoch 00009: val_loss did not improve from 0.22635\n",
      "Epoch 10/20\n",
      "2353/2353 [==============================] - 21s 9ms/step - loss: 0.0107 - acc: 0.9970 - val_loss: 0.2212 - val_acc: 0.9172\n",
      "\n",
      "Epoch 00010: val_loss improved from 0.22635 to 0.22121, saving model to ./test/vgg16.model\n",
      "Epoch 11/20\n",
      "2353/2353 [==============================] - 21s 9ms/step - loss: 0.0071 - acc: 0.9966 - val_loss: 0.2248 - val_acc: 0.9210\n",
      "\n",
      "Epoch 00011: val_loss did not improve from 0.22121\n",
      "Epoch 12/20\n",
      "2353/2353 [==============================] - 21s 9ms/step - loss: 0.0100 - acc: 0.9970 - val_loss: 0.2354 - val_acc: 0.9223\n",
      "\n",
      "Epoch 00012: val_loss did not improve from 0.22121\n",
      "Epoch 13/20\n",
      "2353/2353 [==============================] - 21s 9ms/step - loss: 0.0054 - acc: 0.9979 - val_loss: 0.3045 - val_acc: 0.9006\n",
      "\n",
      "Epoch 00013: val_loss did not improve from 0.22121\n",
      "Epoch 14/20\n",
      "2353/2353 [==============================] - 21s 9ms/step - loss: 0.0084 - acc: 0.9962 - val_loss: 0.2488 - val_acc: 0.9274\n",
      "\n",
      "Epoch 00014: val_loss did not improve from 0.22121\n",
      "Epoch 15/20\n",
      "2353/2353 [==============================] - 21s 9ms/step - loss: 0.0027 - acc: 0.9992 - val_loss: 0.2754 - val_acc: 0.9185\n",
      "\n",
      "Epoch 00015: val_loss did not improve from 0.22121\n",
      "Epoch 16/20\n",
      "2353/2353 [==============================] - 21s 9ms/step - loss: 0.0048 - acc: 0.9983 - val_loss: 0.2699 - val_acc: 0.9261\n",
      "\n",
      "Epoch 00016: val_loss did not improve from 0.22121\n"
     ]
    }
   ],
   "source": [
    "history =  additional_model.fit(X_train, y_train, batch_size=32, epochs=20, validation_data=(X_test, y_test), \n",
    "                    callbacks=[checkpoint,early_stopping])"
   ]
  },
  {
   "cell_type": "code",
   "execution_count": 12,
   "metadata": {},
   "outputs": [
    {
     "name": "stdout",
     "output_type": "stream",
     "text": [
      "785/785 [==============================] - 4s 5ms/step\n",
      "정확도 : 0.9261\n"
     ]
    }
   ],
   "source": [
    "print(\"정확도 : %.4f\" % (additional_model.evaluate(X_test, y_test)[1]))"
   ]
  },
  {
   "cell_type": "code",
   "execution_count": 13,
   "metadata": {},
   "outputs": [
    {
     "data": {
      "image/png": "[encoded data removed]",
      "text/plain": [
       "<Figure size 432x288 with 1 Axes>"
      ]
     },
     "metadata": {
      "needs_background": "light"
     },
     "output_type": "display_data"
    }
   ],
   "source": [
    "y_vloss = history.history['val_loss']\n",
    "y_loss = history.history['loss']\n",
    "\n",
    "x_len = np.arange(len(y_loss))\n",
    "\n",
    "plt.plot(x_len, y_vloss, marker='.', c='red', label='val_set_loss')\n",
    "plt.plot(x_len, y_loss, marker='.', c='blue', label='train_set_oss')\n",
    "plt.legend()\n",
    "plt.xlabel('epochs')\n",
    "plt.ylabel('loss')\n",
    "plt.grid()\n",
    "plt.show()"
   ]
  },
  {
   "cell_type": "code",
   "execution_count": 1,
   "metadata": {
    "scrolled": true
   },
   "outputs": [
    {
     "name": "stderr",
     "output_type": "stream",
     "text": [
      "Using TensorFlow backend.\n"
     ]
    },
    {
     "name": "stdout",
     "output_type": "stream",
     "text": [
      "WARNING:tensorflow:From C:\\Users\\ICT01_20\\Anaconda3\\envs\\a\\lib\\site-packages\\keras\\backend\\tensorflow_backend.py:517: The name tf.placeholder is deprecated. Please use tf.compat.v1.placeholder instead.\n",
      "\n",
      "WARNING:tensorflow:From C:\\Users\\ICT01_20\\Anaconda3\\envs\\a\\lib\\site-packages\\keras\\backend\\tensorflow_backend.py:4138: The name tf.random_uniform is deprecated. Please use tf.random.uniform instead.\n",
      "\n",
      "WARNING:tensorflow:From C:\\Users\\ICT01_20\\Anaconda3\\envs\\a\\lib\\site-packages\\keras\\backend\\tensorflow_backend.py:3976: The name tf.nn.max_pool is deprecated. Please use tf.nn.max_pool2d instead.\n",
      "\n",
      "WARNING:tensorflow:From C:\\Users\\ICT01_20\\Anaconda3\\envs\\a\\lib\\site-packages\\keras\\backend\\tensorflow_backend.py:174: The name tf.get_default_session is deprecated. Please use tf.compat.v1.get_default_session instead.\n",
      "\n",
      "WARNING:tensorflow:From C:\\Users\\ICT01_20\\Anaconda3\\envs\\a\\lib\\site-packages\\keras\\backend\\tensorflow_backend.py:181: The name tf.ConfigProto is deprecated. Please use tf.compat.v1.ConfigProto instead.\n",
      "\n",
      "WARNING:tensorflow:From C:\\Users\\ICT01_20\\Anaconda3\\envs\\a\\lib\\site-packages\\keras\\backend\\tensorflow_backend.py:186: The name tf.Session is deprecated. Please use tf.compat.v1.Session instead.\n",
      "\n",
      "WARNING:tensorflow:From C:\\Users\\ICT01_20\\Anaconda3\\envs\\a\\lib\\site-packages\\keras\\backend\\tensorflow_backend.py:190: The name tf.global_variables is deprecated. Please use tf.compat.v1.global_variables instead.\n",
      "\n",
      "WARNING:tensorflow:From C:\\Users\\ICT01_20\\Anaconda3\\envs\\a\\lib\\site-packages\\keras\\backend\\tensorflow_backend.py:199: The name tf.is_variable_initialized is deprecated. Please use tf.compat.v1.is_variable_initialized instead.\n",
      "\n",
      "WARNING:tensorflow:From C:\\Users\\ICT01_20\\Anaconda3\\envs\\a\\lib\\site-packages\\keras\\backend\\tensorflow_backend.py:206: The name tf.variables_initializer is deprecated. Please use tf.compat.v1.variables_initializer instead.\n",
      "\n",
      "WARNING:tensorflow:From C:\\Users\\ICT01_20\\Anaconda3\\envs\\a\\lib\\site-packages\\keras\\optimizers.py:790: The name tf.train.Optimizer is deprecated. Please use tf.compat.v1.train.Optimizer instead.\n",
      "\n",
      "WARNING:tensorflow:From C:\\Users\\ICT01_20\\Anaconda3\\envs\\a\\lib\\site-packages\\keras\\backend\\tensorflow_backend.py:3295: The name tf.log is deprecated. Please use tf.math.log instead.\n",
      "\n",
      "WARNING:tensorflow:From C:\\Users\\ICT01_20\\Anaconda3\\envs\\a\\lib\\site-packages\\tensorflow_core\\python\\ops\\math_grad.py:1424: where (from tensorflow.python.ops.array_ops) is deprecated and will be removed in a future version.\n",
      "Instructions for updating:\n",
      "Use tf.where in 2.0, which has the same broadcast rule as np.where\n",
      "WARNING:tensorflow:From C:\\Users\\ICT01_20\\Anaconda3\\envs\\a\\lib\\site-packages\\keras\\backend\\tensorflow_backend.py:986: The name tf.assign_add is deprecated. Please use tf.compat.v1.assign_add instead.\n",
      "\n",
      "WARNING:tensorflow:From C:\\Users\\ICT01_20\\Anaconda3\\envs\\a\\lib\\site-packages\\keras\\backend\\tensorflow_backend.py:973: The name tf.assign is deprecated. Please use tf.compat.v1.assign instead.\n",
      "\n"
     ]
    },
    {
     "name": "stderr",
     "output_type": "stream",
     "text": [
      "C:\\Users\\ICT01_20\\Anaconda3\\envs\\a\\lib\\site-packages\\keras\\engine\\saving.py:327: UserWarning: Error in loading the saved optimizer state. As a result, your model is starting with a freshly initialized optimizer.\n",
      "  warnings.warn('Error in loading the saved optimizer '\n"
     ]
    },
    {
     "name": "stdout",
     "output_type": "stream",
     "text": [
      "[1.000 0.000 0.000 0.000 0.000]\n",
      "0\n",
      "[1.000 0.000 0.000 0.000 0.000] 해당 이미지는 캡처.PNG로 추정됩니다.\n",
      "[1.000 0.000 0.000 0.000 0.000]\n",
      "0\n",
      "[1.000 0.000 0.000 0.000 0.000] 해당 이미지는 캡처.PNG로 추정됩니다.\n",
      "[0.000 1.000 0.000 0.000 0.000]\n",
      "1\n",
      "[0.000 1.000 0.000 0.000 0.000] 해당 이미지는 캡처1.PNG로 추정됩니다.\n",
      "[0.000 0.000 1.000 0.000 0.000]\n",
      "2\n",
      "[0.000 0.000 1.000 0.000 0.000] 해당 이미지는 캡처2.PNG로 추정됩니다.\n",
      "[0.000 0.000 0.000 1.000 0.000]\n",
      "3\n",
      "[0.000 0.000 0.000 1.000 0.000] 해당 이미지는 캡처3.PNG로 추정됩니다.\n",
      "[0.000 0.000 0.000 0.000 1.000]\n",
      "4\n",
      "[0.000 0.000 0.000 0.000 1.000] 해당 이미지는 캡처4.PNG로 추정됩니다.\n"
     ]
    }
   ],
   "source": [
    "from PIL import Image\n",
    "import os, glob, numpy as np\n",
    "from keras.models import load_model\n",
    "\n",
    "caltech_dir = \"C:/Users/ICT01_20/Documents/study/test1\"\n",
    "categories  = os.listdir(caltech_dir)\n",
    "nb_classes = len(categories )\n",
    "\n",
    "image_w = 128\n",
    "image_h = 128\n",
    "\n",
    "pixels = image_h * image_w * 3\n",
    "\n",
    "X = []\n",
    "filenames = []\n",
    "files = glob.glob(caltech_dir+\"/*.*\")\n",
    "for i, f in enumerate(files):\n",
    "    img = Image.open(f)\n",
    "    img = img.convert(\"RGB\")\n",
    "    img = img.resize((image_w, image_h))\n",
    "    data = np.asarray(img)\n",
    "    filenames.append(f)\n",
    "    X.append(data)\n",
    "    \n",
    "X = np.array(X)\n",
    "model = load_model('./test/vgg16.model')\n",
    "\n",
    "prediction = model.predict(X)\n",
    "np.set_printoptions(formatter={'float': lambda x: \"{0:0.3f}\".format(x)})\n",
    "cnt = 0\n",
    "\n",
    "for i in prediction:\n",
    "    pre_ans = i.argmax()  \n",
    "    print(i)\n",
    "    print(pre_ans)\n",
    "    pre_ans_str = categories[pre_ans]\n",
    "    print(i,\"해당 \"+\"이미지는 \"+pre_ans_str+\"로 추정됩니다.\")\n",
    "  "
   ]
  }
 ],
 "metadata": {
  "kernelspec": {
   "display_name": "Python 3",
   "language": "python",
   "name": "python3"
  },
  "language_info": {
   "codemirror_mode": {
    "name": "ipython",
    "version": 3
   },
   "file_extension": ".py",
   "mimetype": "text/x-python",
   "name": "python",
   "nbconvert_exporter": "python",
   "pygments_lexer": "ipython3",
   "version": "3.7.6"
  }
 },
 "nbformat": 4,
 "nbformat_minor": 4
}
