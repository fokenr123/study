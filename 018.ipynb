{
 "cells": [
  {
   "cell_type": "markdown",
   "metadata": {},
   "source": [
    "# 1. backend - tensorflow, CNTK, Theano => 중에 하나를 backend로 취하고 wrapper시킴\n",
    "\t   ※ tensorflow를 배우는 이유는 자동화를 하기 위해서\n",
    "\n",
    "2. constant -variables(가중치) -placeholder(데이터주입)\n",
    "=> 행렬연산(오차기반학습) -> loss function, activation, optimizer ->학습\n",
    "\t=> for문, epoch, batch size를 통해 분류 or 예측\n",
    "\n",
    "=====> keras는 이 모든 과정을 함수화 해서 실행 - fit(scikit에 영향) 함수 사용\n",
    " \t- compile(loss function, activation, optimizer을 매개변수로 사용)를 통해서 backend를 wrapper시켰음  (우리는 tensorflow 사용)\n",
    "\n",
    "※ 가중치를 자동으로 구성해주는 것은 dense(출력차수, 입력차수) - tensorflow에서\n",
    "    -> variable, placeholder이런 과정을 생략할 수 있음\n",
    "\n",
    "3. model ( layer 방식으로 만듬 - 가중치 선언을 없앰)\n",
    "\t- layer을 추가할땐 add만 해주면 자동으로 추가해줌\n",
    "\t- return 받을 필요가 없다.(이전 layer에서 계산되어진 결과가 자동으로 다음 layer에 들어감)\n",
    "\t- 가중치 선언을 할 필요가 없다.\n",
    "\t- 출력 차수만 지정하면 됨\n",
    " § 모델을 만드는 방법\n",
    " 1) sequential : 싱글 input, 싱글 output\n",
    " 2) function : 멀티 input, 멀티 output\n",
    " 3) model : 상속을 받아서 다양하게 사용(class base)\n",
    "\n",
    "\n",
    "- 행렬연산에 필요한 것을 layer로 만들어 놓음(Input, dense, cnn(이미지로 분류와 예측), rnn(텍스트를 통해서 분류와 예측))\n",
    "  -> input으로 데이터 받고 dense로 가중치 주면 회귀\n",
    "\n",
    "데이터 입력 -> fit(epoch, batch size, valuelation data) -> 모델에 적용\n",
    "\n",
    "evulator(테스트 데이터 넣음)\n",
    "predict(실제 데이터)\n",
    "\n",
    "keras (사이킷트하고 연결) - classifier, regressor로 객체를 만듬 -> pipeline, GridSearchCV 이용해서 loss, activation 등 하이퍼파라미터를 자동으로 튜닝\n",
    "\n",
    "application을 하는 것은 transfer learning을 하는 것이다.\n",
    "※ transfer learning : 처음 부터 가중치를 넣는 것은 오래걸리므로 같은 분야를 pre-training을 통해 미리 가중치를 학습시켜서 빠르게 적합시킴\n",
    "\n",
    "GRU(망을 줄이면서 만드는 것-회로 3개(forget ,input, output회로-> update회로, ) - seq2seq(incode 망, decode 망, 이 두망을 연결한 state) 효율이 안좋음 -> attention 망을 만듬(자기들끼리의 관계, 가중치 3개(query, key, value)를 가지고 학습))\n",
    " => NNT (seq2seq + attention) => attention x => transformer => BERT\n",
    "\n",
    "\n",
    "프로젝트 할때는 image data(전처리 -> opencv), sound data(전처리 -> librosa), text data(전처리 -> 를 잘 이용해야 한다."
   ]
  },
  {
   "cell_type": "code",
   "execution_count": 1,
   "metadata": {},
   "outputs": [
    {
     "name": "stderr",
     "output_type": "stream",
     "text": [
      "Using TensorFlow backend.\n",
      "C:\\Users\\ICT01_12\\Anaconda3\\envs\\tf_test\\lib\\site-packages\\tensorflow\\python\\framework\\dtypes.py:516: FutureWarning: Passing (type, 1) or '1type' as a synonym of type is deprecated; in a future version of numpy, it will be understood as (type, (1,)) / '(1,)type'.\n",
      "  _np_qint8 = np.dtype([(\"qint8\", np.int8, 1)])\n",
      "C:\\Users\\ICT01_12\\Anaconda3\\envs\\tf_test\\lib\\site-packages\\tensorflow\\python\\framework\\dtypes.py:517: FutureWarning: Passing (type, 1) or '1type' as a synonym of type is deprecated; in a future version of numpy, it will be understood as (type, (1,)) / '(1,)type'.\n",
      "  _np_quint8 = np.dtype([(\"quint8\", np.uint8, 1)])\n",
      "C:\\Users\\ICT01_12\\Anaconda3\\envs\\tf_test\\lib\\site-packages\\tensorflow\\python\\framework\\dtypes.py:518: FutureWarning: Passing (type, 1) or '1type' as a synonym of type is deprecated; in a future version of numpy, it will be understood as (type, (1,)) / '(1,)type'.\n",
      "  _np_qint16 = np.dtype([(\"qint16\", np.int16, 1)])\n",
      "C:\\Users\\ICT01_12\\Anaconda3\\envs\\tf_test\\lib\\site-packages\\tensorflow\\python\\framework\\dtypes.py:519: FutureWarning: Passing (type, 1) or '1type' as a synonym of type is deprecated; in a future version of numpy, it will be understood as (type, (1,)) / '(1,)type'.\n",
      "  _np_quint16 = np.dtype([(\"quint16\", np.uint16, 1)])\n",
      "C:\\Users\\ICT01_12\\Anaconda3\\envs\\tf_test\\lib\\site-packages\\tensorflow\\python\\framework\\dtypes.py:520: FutureWarning: Passing (type, 1) or '1type' as a synonym of type is deprecated; in a future version of numpy, it will be understood as (type, (1,)) / '(1,)type'.\n",
      "  _np_qint32 = np.dtype([(\"qint32\", np.int32, 1)])\n",
      "C:\\Users\\ICT01_12\\Anaconda3\\envs\\tf_test\\lib\\site-packages\\tensorflow\\python\\framework\\dtypes.py:525: FutureWarning: Passing (type, 1) or '1type' as a synonym of type is deprecated; in a future version of numpy, it will be understood as (type, (1,)) / '(1,)type'.\n",
      "  np_resource = np.dtype([(\"resource\", np.ubyte, 1)])\n",
      "C:\\Users\\ICT01_12\\Anaconda3\\envs\\tf_test\\lib\\site-packages\\tensorboard\\compat\\tensorflow_stub\\dtypes.py:541: FutureWarning: Passing (type, 1) or '1type' as a synonym of type is deprecated; in a future version of numpy, it will be understood as (type, (1,)) / '(1,)type'.\n",
      "  _np_qint8 = np.dtype([(\"qint8\", np.int8, 1)])\n",
      "C:\\Users\\ICT01_12\\Anaconda3\\envs\\tf_test\\lib\\site-packages\\tensorboard\\compat\\tensorflow_stub\\dtypes.py:542: FutureWarning: Passing (type, 1) or '1type' as a synonym of type is deprecated; in a future version of numpy, it will be understood as (type, (1,)) / '(1,)type'.\n",
      "  _np_quint8 = np.dtype([(\"quint8\", np.uint8, 1)])\n",
      "C:\\Users\\ICT01_12\\Anaconda3\\envs\\tf_test\\lib\\site-packages\\tensorboard\\compat\\tensorflow_stub\\dtypes.py:543: FutureWarning: Passing (type, 1) or '1type' as a synonym of type is deprecated; in a future version of numpy, it will be understood as (type, (1,)) / '(1,)type'.\n",
      "  _np_qint16 = np.dtype([(\"qint16\", np.int16, 1)])\n",
      "C:\\Users\\ICT01_12\\Anaconda3\\envs\\tf_test\\lib\\site-packages\\tensorboard\\compat\\tensorflow_stub\\dtypes.py:544: FutureWarning: Passing (type, 1) or '1type' as a synonym of type is deprecated; in a future version of numpy, it will be understood as (type, (1,)) / '(1,)type'.\n",
      "  _np_quint16 = np.dtype([(\"quint16\", np.uint16, 1)])\n",
      "C:\\Users\\ICT01_12\\Anaconda3\\envs\\tf_test\\lib\\site-packages\\tensorboard\\compat\\tensorflow_stub\\dtypes.py:545: FutureWarning: Passing (type, 1) or '1type' as a synonym of type is deprecated; in a future version of numpy, it will be understood as (type, (1,)) / '(1,)type'.\n",
      "  _np_qint32 = np.dtype([(\"qint32\", np.int32, 1)])\n",
      "C:\\Users\\ICT01_12\\Anaconda3\\envs\\tf_test\\lib\\site-packages\\tensorboard\\compat\\tensorflow_stub\\dtypes.py:550: FutureWarning: Passing (type, 1) or '1type' as a synonym of type is deprecated; in a future version of numpy, it will be understood as (type, (1,)) / '(1,)type'.\n",
      "  np_resource = np.dtype([(\"resource\", np.ubyte, 1)])\n"
     ]
    },
    {
     "name": "stdout",
     "output_type": "stream",
     "text": [
      "WARNING:tensorflow:From C:\\Users\\ICT01_12\\Anaconda3\\envs\\tf_test\\lib\\site-packages\\keras\\backend\\tensorflow_backend.py:422: The name tf.global_variables is deprecated. Please use tf.compat.v1.global_variables instead.\n",
      "\n",
      "입력데이터 [0.29466096 0.30317302] , 예측데이터 = [0.17293212]\n",
      "입력데이터 [0.39445118 0.79390858] , 예측데이터 = [0.7447159]\n",
      "입력데이터 [0.02884127 0.6208843 ] , 예측데이터 = [0.40443105]\n"
     ]
    }
   ],
   "source": [
    "from keras.models import Sequential # models 서브패키지 \n",
    "from keras.layers import Dense     # layers = > 모델구성\n",
    "from sklearn.datasets import make_regression\n",
    "# 신경망 정규화\n",
    "from sklearn.preprocessing import MinMaxScaler\n",
    "#  100 x 2  ,y = 100\n",
    "X , y = make_regression(n_samples = 100 , n_features=2,\n",
    "                       noise = 0.1 , random_state = 1)\n",
    "# 값의 범위가 다름 \n",
    "scalarX , scalarY = MinMaxScaler(), MinMaxScaler()\n",
    "scalarX.fit(X)\n",
    "scalarY.fit(y.reshape(100,1)) # 행으로\n",
    "\n",
    "X = scalarX.transform(X)\n",
    "y = scalarY.transform(y.reshape(100,1))\n",
    "# keras model \n",
    "model = Sequential() \n",
    "# 100 x 2 , 가중치 2 x 4 -> 100 x 4\n",
    "model.add(Dense(4,input_dim = 2,activation = 'relu')) # 4 = 출력 차수 지정\n",
    "# 100 x 4 -> 4 x 4 -> 100 x 4 \n",
    "model.add(Dense(4,activation = 'relu'))\n",
    "# 100 x 4 -> 4 x 1  -> 100 x 1 (예측) \n",
    "model.add(Dense(1,activation = 'linear'))\n",
    "# backend = tensflow \n",
    "# mse . cross enthropy , KL-divergence: 분포를 비교 \n",
    "model.compile(loss = 'mse', optimizer= 'adam') # tensorflow 모델을 변환\n",
    "model.fit(X,y,epochs =1000, verbose=0)\n",
    "\n",
    "Xnew, a = make_regression(n_samples = 3, n_features = 2, noise = 0.1,\n",
    "                         random_state = 1)\n",
    "Xnew = scalarX.transform(Xnew)\n",
    "ynew = model.predict(Xnew)\n",
    "for i in range(len(Xnew)):\n",
    "    print(\"입력데이터 %s , 예측데이터 = %s\" % (Xnew[i], ynew[i]))\n",
    "#verbose = 학습 중 출력되는 문구를 설정합니다.\n",
    "#- 0 : 아무 것도 출력하지 않습니다.\n",
    "#- 1 : 훈련의 진행도를 보여주는 진행 막대를 보여줍니다.\n",
    "#- 2 : 미니 배치마다 손실 정보를 출력합니다."
   ]
  },
  {
   "cell_type": "code",
   "execution_count": 2,
   "metadata": {
    "scrolled": true
   },
   "outputs": [
    {
     "name": "stdout",
     "output_type": "stream",
     "text": [
      "WARNING:tensorflow:From C:\\Users\\ICT01_12\\Anaconda3\\envs\\tf_test\\lib\\site-packages\\tensorflow\\python\\ops\\nn_impl.py:180: add_dispatch_support.<locals>.wrapper (from tensorflow.python.ops.array_ops) is deprecated and will be removed in a future version.\n",
      "Instructions for updating:\n",
      "Use tf.where in 2.0, which has the same broadcast rule as np.where\n",
      "Epoch 1/150\n",
      "768/768 [==============================] - 0s 422us/step - loss: 3.1753 - accuracy: 0.5820\n",
      "Epoch 2/150\n",
      "768/768 [==============================] - 0s 88us/step - loss: 0.9556 - accuracy: 0.5716\n",
      "Epoch 3/150\n",
      "768/768 [==============================] - 0s 97us/step - loss: 0.7622 - accuracy: 0.6302\n",
      "Epoch 4/150\n",
      "768/768 [==============================] - 0s 92us/step - loss: 0.7211 - accuracy: 0.6471\n",
      "Epoch 5/150\n",
      "768/768 [==============================] - 0s 101us/step - loss: 0.6940 - accuracy: 0.6745\n",
      "Epoch 6/150\n",
      "768/768 [==============================] - 0s 114us/step - loss: 0.6683 - accuracy: 0.6862\n",
      "Epoch 7/150\n",
      "768/768 [==============================] - 0s 92us/step - loss: 0.6626 - accuracy: 0.6745\n",
      "Epoch 8/150\n",
      "768/768 [==============================] - 0s 79us/step - loss: 0.6480 - accuracy: 0.6875\n",
      "Epoch 9/150\n",
      "768/768 [==============================] - 0s 81us/step - loss: 0.6347 - accuracy: 0.6979\n",
      "Epoch 10/150\n",
      "768/768 [==============================] - 0s 77us/step - loss: 0.6432 - accuracy: 0.6810\n",
      "Epoch 11/150\n",
      "768/768 [==============================] - 0s 75us/step - loss: 0.6573 - accuracy: 0.6706\n",
      "Epoch 12/150\n",
      "768/768 [==============================] - 0s 82us/step - loss: 0.6491 - accuracy: 0.6706\n",
      "Epoch 13/150\n",
      "768/768 [==============================] - 0s 83us/step - loss: 0.6331 - accuracy: 0.6810\n",
      "Epoch 14/150\n",
      "768/768 [==============================] - 0s 87us/step - loss: 0.6238 - accuracy: 0.6992\n",
      "Epoch 15/150\n",
      "768/768 [==============================] - 0s 86us/step - loss: 0.6050 - accuracy: 0.7057\n",
      "Epoch 16/150\n",
      "768/768 [==============================] - 0s 83us/step - loss: 0.5893 - accuracy: 0.7044\n",
      "Epoch 17/150\n",
      "768/768 [==============================] - 0s 74us/step - loss: 0.5852 - accuracy: 0.7031\n",
      "Epoch 18/150\n",
      "768/768 [==============================] - 0s 86us/step - loss: 0.5934 - accuracy: 0.6914\n",
      "Epoch 19/150\n",
      "768/768 [==============================] - 0s 82us/step - loss: 0.5775 - accuracy: 0.7122\n",
      "Epoch 20/150\n",
      "768/768 [==============================] - 0s 74us/step - loss: 0.5774 - accuracy: 0.7279\n",
      "Epoch 21/150\n",
      "768/768 [==============================] - 0s 79us/step - loss: 0.5674 - accuracy: 0.7122\n",
      "Epoch 22/150\n",
      "768/768 [==============================] - 0s 82us/step - loss: 0.5798 - accuracy: 0.6979\n",
      "Epoch 23/150\n",
      "768/768 [==============================] - 0s 81us/step - loss: 0.5743 - accuracy: 0.7083\n",
      "Epoch 24/150\n",
      "768/768 [==============================] - 0s 81us/step - loss: 0.5682 - accuracy: 0.7318\n",
      "Epoch 25/150\n",
      "768/768 [==============================] - 0s 79us/step - loss: 0.5558 - accuracy: 0.7461\n",
      "Epoch 26/150\n",
      "768/768 [==============================] - 0s 78us/step - loss: 0.5728 - accuracy: 0.7188\n",
      "Epoch 27/150\n",
      "768/768 [==============================] - 0s 82us/step - loss: 0.5568 - accuracy: 0.7214\n",
      "Epoch 28/150\n",
      "768/768 [==============================] - 0s 81us/step - loss: 0.5573 - accuracy: 0.7227\n",
      "Epoch 29/150\n",
      "768/768 [==============================] - 0s 81us/step - loss: 0.5789 - accuracy: 0.7161\n",
      "Epoch 30/150\n",
      "768/768 [==============================] - 0s 87us/step - loss: 0.5622 - accuracy: 0.7201\n",
      "Epoch 31/150\n",
      "768/768 [==============================] - 0s 88us/step - loss: 0.5713 - accuracy: 0.7109\n",
      "Epoch 32/150\n",
      "768/768 [==============================] - 0s 80us/step - loss: 0.5671 - accuracy: 0.7201\n",
      "Epoch 33/150\n",
      "768/768 [==============================] - 0s 93us/step - loss: 0.5551 - accuracy: 0.7135\n",
      "Epoch 34/150\n",
      "768/768 [==============================] - 0s 88us/step - loss: 0.5541 - accuracy: 0.7279\n",
      "Epoch 35/150\n",
      "768/768 [==============================] - 0s 88us/step - loss: 0.5556 - accuracy: 0.7188\n",
      "Epoch 36/150\n",
      "768/768 [==============================] - 0s 83us/step - loss: 0.5654 - accuracy: 0.7135\n",
      "Epoch 37/150\n",
      "768/768 [==============================] - 0s 90us/step - loss: 0.5359 - accuracy: 0.7331\n",
      "Epoch 38/150\n",
      "768/768 [==============================] - 0s 92us/step - loss: 0.5461 - accuracy: 0.7148\n",
      "Epoch 39/150\n",
      "768/768 [==============================] - 0s 90us/step - loss: 0.5520 - accuracy: 0.7240\n",
      "Epoch 40/150\n",
      "768/768 [==============================] - 0s 88us/step - loss: 0.5504 - accuracy: 0.7109\n",
      "Epoch 41/150\n",
      "768/768 [==============================] - 0s 95us/step - loss: 0.5495 - accuracy: 0.7266\n",
      "Epoch 42/150\n",
      "768/768 [==============================] - 0s 88us/step - loss: 0.5407 - accuracy: 0.7279\n",
      "Epoch 43/150\n",
      "768/768 [==============================] - 0s 88us/step - loss: 0.5361 - accuracy: 0.7357\n",
      "Epoch 44/150\n",
      "768/768 [==============================] - 0s 88us/step - loss: 0.5402 - accuracy: 0.7396\n",
      "Epoch 45/150\n",
      "768/768 [==============================] - 0s 87us/step - loss: 0.5374 - accuracy: 0.7565\n",
      "Epoch 46/150\n",
      "768/768 [==============================] - 0s 90us/step - loss: 0.5313 - accuracy: 0.7448\n",
      "Epoch 47/150\n",
      "768/768 [==============================] - 0s 86us/step - loss: 0.5396 - accuracy: 0.7318\n",
      "Epoch 48/150\n",
      "768/768 [==============================] - 0s 88us/step - loss: 0.5409 - accuracy: 0.7344\n",
      "Epoch 49/150\n",
      "768/768 [==============================] - 0s 86us/step - loss: 0.5405 - accuracy: 0.7396\n",
      "Epoch 50/150\n",
      "768/768 [==============================] - 0s 87us/step - loss: 0.5327 - accuracy: 0.7331\n",
      "Epoch 51/150\n",
      "768/768 [==============================] - 0s 88us/step - loss: 0.5343 - accuracy: 0.7435\n",
      "Epoch 52/150\n",
      "768/768 [==============================] - 0s 97us/step - loss: 0.5372 - accuracy: 0.7318\n",
      "Epoch 53/150\n",
      "768/768 [==============================] - 0s 97us/step - loss: 0.5442 - accuracy: 0.7344\n",
      "Epoch 54/150\n",
      "768/768 [==============================] - 0s 88us/step - loss: 0.5456 - accuracy: 0.7279\n",
      "Epoch 55/150\n",
      "768/768 [==============================] - 0s 95us/step - loss: 0.5269 - accuracy: 0.7396\n",
      "Epoch 56/150\n",
      "768/768 [==============================] - 0s 95us/step - loss: 0.5357 - accuracy: 0.7422\n",
      "Epoch 57/150\n",
      "768/768 [==============================] - 0s 86us/step - loss: 0.5388 - accuracy: 0.7383\n",
      "Epoch 58/150\n",
      "768/768 [==============================] - 0s 94us/step - loss: 0.5301 - accuracy: 0.7474\n",
      "Epoch 59/150\n",
      "768/768 [==============================] - 0s 96us/step - loss: 0.5191 - accuracy: 0.7526\n",
      "Epoch 60/150\n",
      "768/768 [==============================] - 0s 101us/step - loss: 0.5429 - accuracy: 0.7318\n",
      "Epoch 61/150\n",
      "768/768 [==============================] - 0s 104us/step - loss: 0.5349 - accuracy: 0.7253\n",
      "Epoch 62/150\n",
      "768/768 [==============================] - 0s 92us/step - loss: 0.5221 - accuracy: 0.7461\n",
      "Epoch 63/150\n",
      "768/768 [==============================] - 0s 87us/step - loss: 0.5524 - accuracy: 0.7227\n",
      "Epoch 64/150\n",
      "768/768 [==============================] - 0s 91us/step - loss: 0.5425 - accuracy: 0.7305\n",
      "Epoch 65/150\n",
      "768/768 [==============================] - 0s 88us/step - loss: 0.5265 - accuracy: 0.7422\n",
      "Epoch 66/150\n",
      "768/768 [==============================] - 0s 90us/step - loss: 0.5135 - accuracy: 0.7448\n",
      "Epoch 67/150\n",
      "768/768 [==============================] - 0s 90us/step - loss: 0.5223 - accuracy: 0.7318\n",
      "Epoch 68/150\n",
      "768/768 [==============================] - 0s 93us/step - loss: 0.5222 - accuracy: 0.7422\n",
      "Epoch 69/150\n",
      "768/768 [==============================] - 0s 91us/step - loss: 0.5251 - accuracy: 0.7409\n",
      "Epoch 70/150\n",
      "768/768 [==============================] - 0s 93us/step - loss: 0.5401 - accuracy: 0.7279\n",
      "Epoch 71/150\n",
      "768/768 [==============================] - 0s 114us/step - loss: 0.5265 - accuracy: 0.7487\n",
      "Epoch 72/150\n",
      "768/768 [==============================] - 0s 88us/step - loss: 0.5237 - accuracy: 0.7461\n",
      "Epoch 73/150\n",
      "768/768 [==============================] - 0s 90us/step - loss: 0.5238 - accuracy: 0.7461\n",
      "Epoch 74/150\n",
      "768/768 [==============================] - 0s 94us/step - loss: 0.5192 - accuracy: 0.7526\n",
      "Epoch 75/150\n",
      "768/768 [==============================] - 0s 95us/step - loss: 0.5175 - accuracy: 0.7461\n",
      "Epoch 76/150\n",
      "768/768 [==============================] - 0s 92us/step - loss: 0.5212 - accuracy: 0.7487\n",
      "Epoch 77/150\n",
      "768/768 [==============================] - 0s 92us/step - loss: 0.5247 - accuracy: 0.7565\n",
      "Epoch 78/150\n",
      "768/768 [==============================] - 0s 104us/step - loss: 0.5185 - accuracy: 0.7500\n",
      "Epoch 79/150\n",
      "768/768 [==============================] - 0s 95us/step - loss: 0.5186 - accuracy: 0.7474\n",
      "Epoch 80/150\n",
      "768/768 [==============================] - 0s 88us/step - loss: 0.5144 - accuracy: 0.7695\n",
      "Epoch 81/150\n",
      "768/768 [==============================] - 0s 95us/step - loss: 0.5105 - accuracy: 0.7526\n",
      "Epoch 82/150\n",
      "768/768 [==============================] - 0s 93us/step - loss: 0.5003 - accuracy: 0.7539\n",
      "Epoch 83/150\n",
      "768/768 [==============================] - 0s 97us/step - loss: 0.5043 - accuracy: 0.7565\n",
      "Epoch 84/150\n",
      "768/768 [==============================] - 0s 87us/step - loss: 0.4999 - accuracy: 0.7565\n",
      "Epoch 85/150\n",
      "768/768 [==============================] - 0s 87us/step - loss: 0.5097 - accuracy: 0.7474\n",
      "Epoch 86/150\n",
      "768/768 [==============================] - 0s 87us/step - loss: 0.5099 - accuracy: 0.7435\n",
      "Epoch 87/150\n",
      "768/768 [==============================] - 0s 90us/step - loss: 0.4997 - accuracy: 0.7669\n",
      "Epoch 88/150\n",
      "768/768 [==============================] - 0s 91us/step - loss: 0.5052 - accuracy: 0.7630\n",
      "Epoch 89/150\n",
      "768/768 [==============================] - 0s 92us/step - loss: 0.5096 - accuracy: 0.7747\n",
      "Epoch 90/150\n",
      "768/768 [==============================] - 0s 88us/step - loss: 0.5104 - accuracy: 0.7474\n",
      "Epoch 91/150\n",
      "768/768 [==============================] - 0s 88us/step - loss: 0.5033 - accuracy: 0.7539\n",
      "Epoch 92/150\n",
      "768/768 [==============================] - 0s 88us/step - loss: 0.5090 - accuracy: 0.7474\n",
      "Epoch 93/150\n",
      "768/768 [==============================] - 0s 83us/step - loss: 0.4985 - accuracy: 0.7669\n",
      "Epoch 94/150\n",
      "768/768 [==============================] - 0s 88us/step - loss: 0.4990 - accuracy: 0.7630\n",
      "Epoch 95/150\n",
      "768/768 [==============================] - 0s 101us/step - loss: 0.5070 - accuracy: 0.7487\n",
      "Epoch 96/150\n",
      "768/768 [==============================] - 0s 95us/step - loss: 0.4939 - accuracy: 0.7591\n",
      "Epoch 97/150\n",
      "768/768 [==============================] - 0s 92us/step - loss: 0.4985 - accuracy: 0.7721\n",
      "Epoch 98/150\n",
      "768/768 [==============================] - 0s 88us/step - loss: 0.4913 - accuracy: 0.7617\n",
      "Epoch 99/150\n",
      "768/768 [==============================] - 0s 87us/step - loss: 0.4918 - accuracy: 0.7695\n",
      "Epoch 100/150\n",
      "768/768 [==============================] - 0s 88us/step - loss: 0.4878 - accuracy: 0.7812\n",
      "Epoch 101/150\n",
      "768/768 [==============================] - 0s 88us/step - loss: 0.4926 - accuracy: 0.7721\n",
      "Epoch 102/150\n",
      "768/768 [==============================] - 0s 86us/step - loss: 0.5028 - accuracy: 0.7500\n",
      "Epoch 103/150\n",
      "768/768 [==============================] - 0s 88us/step - loss: 0.4993 - accuracy: 0.7591\n",
      "Epoch 104/150\n",
      "768/768 [==============================] - 0s 93us/step - loss: 0.4933 - accuracy: 0.7865\n",
      "Epoch 105/150\n",
      "768/768 [==============================] - 0s 91us/step - loss: 0.5318 - accuracy: 0.7422\n",
      "Epoch 106/150\n",
      "768/768 [==============================] - 0s 90us/step - loss: 0.4954 - accuracy: 0.7643\n",
      "Epoch 107/150\n",
      "768/768 [==============================] - 0s 93us/step - loss: 0.4924 - accuracy: 0.7786\n",
      "Epoch 108/150\n",
      "768/768 [==============================] - 0s 93us/step - loss: 0.5047 - accuracy: 0.7617\n",
      "Epoch 109/150\n",
      "768/768 [==============================] - 0s 95us/step - loss: 0.4891 - accuracy: 0.7552\n",
      "Epoch 110/150\n",
      "768/768 [==============================] - 0s 84us/step - loss: 0.4892 - accuracy: 0.7617\n",
      "Epoch 111/150\n",
      "768/768 [==============================] - 0s 88us/step - loss: 0.4858 - accuracy: 0.7773\n",
      "Epoch 112/150\n",
      "768/768 [==============================] - 0s 90us/step - loss: 0.4919 - accuracy: 0.7695\n",
      "Epoch 113/150\n",
      "768/768 [==============================] - 0s 91us/step - loss: 0.5022 - accuracy: 0.7526\n",
      "Epoch 114/150\n",
      "768/768 [==============================] - 0s 91us/step - loss: 0.4940 - accuracy: 0.7461\n",
      "Epoch 115/150\n",
      "768/768 [==============================] - 0s 92us/step - loss: 0.4944 - accuracy: 0.7669\n",
      "Epoch 116/150\n",
      "768/768 [==============================] - 0s 95us/step - loss: 0.4910 - accuracy: 0.7669\n",
      "Epoch 117/150\n",
      "768/768 [==============================] - 0s 99us/step - loss: 0.4943 - accuracy: 0.7539\n",
      "Epoch 118/150\n",
      "768/768 [==============================] - 0s 90us/step - loss: 0.4907 - accuracy: 0.7786\n",
      "Epoch 119/150\n",
      "768/768 [==============================] - 0s 93us/step - loss: 0.4874 - accuracy: 0.7643\n",
      "Epoch 120/150\n",
      "768/768 [==============================] - 0s 91us/step - loss: 0.5009 - accuracy: 0.7604\n",
      "Epoch 121/150\n",
      "768/768 [==============================] - 0s 103us/step - loss: 0.4960 - accuracy: 0.7734\n",
      "Epoch 122/150\n",
      "768/768 [==============================] - 0s 95us/step - loss: 0.4841 - accuracy: 0.7786\n",
      "Epoch 123/150\n",
      "768/768 [==============================] - 0s 88us/step - loss: 0.4845 - accuracy: 0.7643\n",
      "Epoch 124/150\n",
      "768/768 [==============================] - 0s 97us/step - loss: 0.4859 - accuracy: 0.7760\n",
      "Epoch 125/150\n",
      "768/768 [==============================] - 0s 91us/step - loss: 0.4892 - accuracy: 0.7786\n",
      "Epoch 126/150\n",
      "768/768 [==============================] - 0s 90us/step - loss: 0.4824 - accuracy: 0.7669\n",
      "Epoch 127/150\n",
      "768/768 [==============================] - 0s 94us/step - loss: 0.4893 - accuracy: 0.7682\n",
      "Epoch 128/150\n",
      "768/768 [==============================] - 0s 92us/step - loss: 0.4733 - accuracy: 0.7786\n",
      "Epoch 129/150\n",
      "768/768 [==============================] - 0s 90us/step - loss: 0.4840 - accuracy: 0.7734\n",
      "Epoch 130/150\n",
      "768/768 [==============================] - 0s 92us/step - loss: 0.4727 - accuracy: 0.7799\n",
      "Epoch 131/150\n",
      "768/768 [==============================] - 0s 88us/step - loss: 0.4832 - accuracy: 0.7630\n",
      "Epoch 132/150\n",
      "768/768 [==============================] - 0s 90us/step - loss: 0.4837 - accuracy: 0.7799\n",
      "Epoch 133/150\n",
      "768/768 [==============================] - 0s 88us/step - loss: 0.4859 - accuracy: 0.7669\n",
      "Epoch 134/150\n",
      "768/768 [==============================] - 0s 86us/step - loss: 0.4869 - accuracy: 0.7760\n",
      "Epoch 135/150\n",
      "768/768 [==============================] - 0s 87us/step - loss: 0.4760 - accuracy: 0.7656\n",
      "Epoch 136/150\n",
      "768/768 [==============================] - 0s 87us/step - loss: 0.4746 - accuracy: 0.7760\n",
      "Epoch 137/150\n",
      "768/768 [==============================] - 0s 87us/step - loss: 0.4705 - accuracy: 0.7812\n",
      "Epoch 138/150\n",
      "768/768 [==============================] - 0s 86us/step - loss: 0.4804 - accuracy: 0.7760\n",
      "Epoch 139/150\n",
      "768/768 [==============================] - 0s 103us/step - loss: 0.4686 - accuracy: 0.7734\n",
      "Epoch 140/150\n",
      "768/768 [==============================] - 0s 92us/step - loss: 0.4819 - accuracy: 0.7747\n",
      "Epoch 141/150\n",
      "768/768 [==============================] - 0s 86us/step - loss: 0.4736 - accuracy: 0.7812\n",
      "Epoch 142/150\n",
      "768/768 [==============================] - 0s 90us/step - loss: 0.4838 - accuracy: 0.7643\n",
      "Epoch 143/150\n",
      "768/768 [==============================] - 0s 94us/step - loss: 0.4761 - accuracy: 0.7669\n",
      "Epoch 144/150\n",
      "768/768 [==============================] - 0s 87us/step - loss: 0.4739 - accuracy: 0.7799\n",
      "Epoch 145/150\n",
      "768/768 [==============================] - 0s 95us/step - loss: 0.4901 - accuracy: 0.7565\n",
      "Epoch 146/150\n",
      "768/768 [==============================] - 0s 92us/step - loss: 0.4941 - accuracy: 0.7630\n",
      "Epoch 147/150\n",
      "768/768 [==============================] - 0s 86us/step - loss: 0.4855 - accuracy: 0.7812\n",
      "Epoch 148/150\n",
      "768/768 [==============================] - 0s 87us/step - loss: 0.4738 - accuracy: 0.7826\n",
      "Epoch 149/150\n",
      "768/768 [==============================] - 0s 87us/step - loss: 0.4754 - accuracy: 0.7643\n",
      "Epoch 150/150\n",
      "768/768 [==============================] - 0s 84us/step - loss: 0.4790 - accuracy: 0.7760\n",
      "768/768 [==============================] - 0s 66us/step\n",
      " \n",
      "accuracy: 77%\n"
     ]
    }
   ],
   "source": [
    "from keras.models import Sequential\n",
    "from keras.layers import Dense\n",
    "import numpy\n",
    "numpy.random.seed(7)\n",
    "dataset = numpy.loadtxt(\"pima.data\", delimiter=\",\")\n",
    "X = dataset[:,0:8] # 8개의 독립변수\n",
    "Y = dataset[:,8] # 1개의 종속변수\n",
    "model = Sequential()\n",
    "# ? x 8 =? 8 x 12 = > ? x 12 \n",
    "model.add(Dense(12, input_dim = 8 , activation = 'relu'))\n",
    "# ? x 12 -> 12 x 8 => ? x 8\n",
    "model.add(Dense(8, activation = 'relu'))\n",
    "# ? x 8 -> 12 x 1 => ? x 1  -> 분류 \n",
    "model.add(Dense(1, activation = 'sigmoid')) # 0.5 기준 \n",
    "model.compile(loss = 'binary_crossentropy', optimizer= 'adam',\n",
    "             metrics=['accuracy'])\n",
    "model.fit(X,Y, epochs= 150 , batch_size = 10)\n",
    "# 평가하기\n",
    "# 테스트 모드에서 모델의 손실 값 및 메트릭 값을 반환합니다.\n",
    "scores = model.evaluate(X,Y)# x 입력데이터  y 대상 데이터 \n",
    "# 1번,loss  2번.accuracy \n",
    "print(\" \\n%s: %2.f%%\" % (model.metrics_names[1], scores[1]*100))"
   ]
  },
  {
   "cell_type": "code",
   "execution_count": 3,
   "metadata": {},
   "outputs": [
    {
     "name": "stdout",
     "output_type": "stream",
     "text": [
      "Train on 514 samples, validate on 254 samples\n",
      "Epoch 1/150\n",
      "514/514 [==============================] - 0s 894us/step - loss: 0.6796 - accuracy: 0.6401 - val_loss: 0.6586 - val_accuracy: 0.6732\n",
      "Epoch 2/150\n",
      "514/514 [==============================] - 0s 136us/step - loss: 0.6688 - accuracy: 0.6401 - val_loss: 0.6534 - val_accuracy: 0.6732\n",
      "Epoch 3/150\n",
      "514/514 [==============================] - 0s 122us/step - loss: 0.6617 - accuracy: 0.6401 - val_loss: 0.6512 - val_accuracy: 0.6732\n",
      "Epoch 4/150\n",
      "514/514 [==============================] - 0s 130us/step - loss: 0.6546 - accuracy: 0.6401 - val_loss: 0.6454 - val_accuracy: 0.6929\n",
      "Epoch 5/150\n",
      "514/514 [==============================] - 0s 120us/step - loss: 0.6457 - accuracy: 0.6440 - val_loss: 0.6364 - val_accuracy: 0.7126\n",
      "Epoch 6/150\n",
      "514/514 [==============================] - 0s 116us/step - loss: 0.6392 - accuracy: 0.6479 - val_loss: 0.6235 - val_accuracy: 0.6890\n",
      "Epoch 7/150\n",
      "514/514 [==============================] - 0s 124us/step - loss: 0.6321 - accuracy: 0.6595 - val_loss: 0.6157 - val_accuracy: 0.6890\n",
      "Epoch 8/150\n",
      "514/514 [==============================] - 0s 120us/step - loss: 0.6226 - accuracy: 0.6673 - val_loss: 0.6044 - val_accuracy: 0.6772\n",
      "Epoch 9/150\n",
      "514/514 [==============================] - 0s 126us/step - loss: 0.6170 - accuracy: 0.6595 - val_loss: 0.6049 - val_accuracy: 0.6811\n",
      "Epoch 10/150\n",
      "514/514 [==============================] - 0s 118us/step - loss: 0.6102 - accuracy: 0.6984 - val_loss: 0.5924 - val_accuracy: 0.7008\n",
      "Epoch 11/150\n",
      "514/514 [==============================] - 0s 118us/step - loss: 0.6040 - accuracy: 0.6926 - val_loss: 0.5977 - val_accuracy: 0.7008\n",
      "Epoch 12/150\n",
      "514/514 [==============================] - 0s 114us/step - loss: 0.6040 - accuracy: 0.6926 - val_loss: 0.5815 - val_accuracy: 0.7047\n",
      "Epoch 13/150\n",
      "514/514 [==============================] - 0s 107us/step - loss: 0.6032 - accuracy: 0.6946 - val_loss: 0.5801 - val_accuracy: 0.6969\n",
      "Epoch 14/150\n",
      "514/514 [==============================] - 0s 116us/step - loss: 0.5896 - accuracy: 0.7101 - val_loss: 0.5747 - val_accuracy: 0.7126\n",
      "Epoch 15/150\n",
      "514/514 [==============================] - 0s 116us/step - loss: 0.5870 - accuracy: 0.7140 - val_loss: 0.5758 - val_accuracy: 0.7087\n",
      "Epoch 16/150\n",
      "514/514 [==============================] - 0s 113us/step - loss: 0.5941 - accuracy: 0.7023 - val_loss: 0.5696 - val_accuracy: 0.7087\n",
      "Epoch 17/150\n",
      "514/514 [==============================] - 0s 118us/step - loss: 0.5865 - accuracy: 0.7043 - val_loss: 0.5650 - val_accuracy: 0.7047\n",
      "Epoch 18/150\n",
      "514/514 [==============================] - 0s 116us/step - loss: 0.5840 - accuracy: 0.7140 - val_loss: 0.5729 - val_accuracy: 0.7165\n",
      "Epoch 19/150\n",
      "514/514 [==============================] - 0s 116us/step - loss: 0.5835 - accuracy: 0.7101 - val_loss: 0.5712 - val_accuracy: 0.7047\n",
      "Epoch 20/150\n",
      "514/514 [==============================] - 0s 122us/step - loss: 0.5793 - accuracy: 0.7101 - val_loss: 0.5682 - val_accuracy: 0.7126\n",
      "Epoch 21/150\n",
      "514/514 [==============================] - 0s 151us/step - loss: 0.5742 - accuracy: 0.7179 - val_loss: 0.5750 - val_accuracy: 0.7126\n",
      "Epoch 22/150\n",
      "514/514 [==============================] - 0s 118us/step - loss: 0.5720 - accuracy: 0.7315 - val_loss: 0.5665 - val_accuracy: 0.7047\n",
      "Epoch 23/150\n",
      "514/514 [==============================] - 0s 116us/step - loss: 0.5753 - accuracy: 0.7023 - val_loss: 0.5677 - val_accuracy: 0.7008\n",
      "Epoch 24/150\n",
      "514/514 [==============================] - 0s 120us/step - loss: 0.5592 - accuracy: 0.7315 - val_loss: 0.5680 - val_accuracy: 0.7047\n",
      "Epoch 25/150\n",
      "514/514 [==============================] - 0s 136us/step - loss: 0.5664 - accuracy: 0.7237 - val_loss: 0.5574 - val_accuracy: 0.7126\n",
      "Epoch 26/150\n",
      "514/514 [==============================] - 0s 128us/step - loss: 0.5605 - accuracy: 0.7276 - val_loss: 0.5607 - val_accuracy: 0.7205\n",
      "Epoch 27/150\n",
      "514/514 [==============================] - 0s 116us/step - loss: 0.5588 - accuracy: 0.7276 - val_loss: 0.5594 - val_accuracy: 0.7008\n",
      "Epoch 28/150\n",
      "514/514 [==============================] - 0s 114us/step - loss: 0.5570 - accuracy: 0.7315 - val_loss: 0.6294 - val_accuracy: 0.6063\n",
      "Epoch 29/150\n",
      "514/514 [==============================] - 0s 114us/step - loss: 0.5558 - accuracy: 0.7179 - val_loss: 0.5809 - val_accuracy: 0.7244\n",
      "Epoch 30/150\n",
      "514/514 [==============================] - 0s 112us/step - loss: 0.5557 - accuracy: 0.7237 - val_loss: 0.5630 - val_accuracy: 0.7283\n",
      "Epoch 31/150\n",
      "514/514 [==============================] - 0s 114us/step - loss: 0.5499 - accuracy: 0.7198 - val_loss: 0.5707 - val_accuracy: 0.7244\n",
      "Epoch 32/150\n",
      "514/514 [==============================] - 0s 113us/step - loss: 0.5583 - accuracy: 0.7237 - val_loss: 0.5878 - val_accuracy: 0.6969\n",
      "Epoch 33/150\n",
      "514/514 [==============================] - 0s 126us/step - loss: 0.5758 - accuracy: 0.7179 - val_loss: 0.5904 - val_accuracy: 0.7087\n",
      "Epoch 34/150\n",
      "514/514 [==============================] - 0s 120us/step - loss: 0.5515 - accuracy: 0.7276 - val_loss: 0.5666 - val_accuracy: 0.7087\n",
      "Epoch 35/150\n",
      "514/514 [==============================] - 0s 122us/step - loss: 0.5458 - accuracy: 0.7374 - val_loss: 0.5617 - val_accuracy: 0.7244\n",
      "Epoch 36/150\n",
      "514/514 [==============================] - 0s 120us/step - loss: 0.5523 - accuracy: 0.7198 - val_loss: 0.5671 - val_accuracy: 0.7126\n",
      "Epoch 37/150\n",
      "514/514 [==============================] - 0s 132us/step - loss: 0.5457 - accuracy: 0.7315 - val_loss: 0.5679 - val_accuracy: 0.7323\n",
      "Epoch 38/150\n",
      "514/514 [==============================] - 0s 113us/step - loss: 0.5449 - accuracy: 0.7276 - val_loss: 0.5519 - val_accuracy: 0.7362\n",
      "Epoch 39/150\n",
      "514/514 [==============================] - 0s 114us/step - loss: 0.5506 - accuracy: 0.7121 - val_loss: 0.5565 - val_accuracy: 0.7520\n",
      "Epoch 40/150\n",
      "514/514 [==============================] - 0s 112us/step - loss: 0.5439 - accuracy: 0.7393 - val_loss: 0.5624 - val_accuracy: 0.7165\n",
      "Epoch 41/150\n",
      "514/514 [==============================] - 0s 124us/step - loss: 0.5417 - accuracy: 0.7393 - val_loss: 0.5551 - val_accuracy: 0.7323\n",
      "Epoch 42/150\n",
      "514/514 [==============================] - 0s 113us/step - loss: 0.5450 - accuracy: 0.7412 - val_loss: 0.5833 - val_accuracy: 0.7087\n",
      "Epoch 43/150\n",
      "514/514 [==============================] - 0s 114us/step - loss: 0.5455 - accuracy: 0.7374 - val_loss: 0.5605 - val_accuracy: 0.7362\n",
      "Epoch 44/150\n",
      "514/514 [==============================] - 0s 118us/step - loss: 0.5440 - accuracy: 0.7374 - val_loss: 0.5565 - val_accuracy: 0.7205\n",
      "Epoch 45/150\n",
      "514/514 [==============================] - 0s 118us/step - loss: 0.5345 - accuracy: 0.7315 - val_loss: 0.5855 - val_accuracy: 0.6850\n",
      "Epoch 46/150\n",
      "514/514 [==============================] - 0s 124us/step - loss: 0.5489 - accuracy: 0.7198 - val_loss: 0.5728 - val_accuracy: 0.7126\n",
      "Epoch 47/150\n",
      "514/514 [==============================] - 0s 114us/step - loss: 0.5482 - accuracy: 0.7393 - val_loss: 0.5564 - val_accuracy: 0.7362\n",
      "Epoch 48/150\n",
      "514/514 [==============================] - 0s 120us/step - loss: 0.5393 - accuracy: 0.7315 - val_loss: 0.5582 - val_accuracy: 0.7362\n",
      "Epoch 49/150\n",
      "514/514 [==============================] - 0s 130us/step - loss: 0.5387 - accuracy: 0.7490 - val_loss: 0.5548 - val_accuracy: 0.7402\n",
      "Epoch 50/150\n",
      "514/514 [==============================] - 0s 122us/step - loss: 0.5388 - accuracy: 0.7393 - val_loss: 0.5640 - val_accuracy: 0.6969\n",
      "Epoch 51/150\n",
      "514/514 [==============================] - 0s 128us/step - loss: 0.5329 - accuracy: 0.7510 - val_loss: 0.5516 - val_accuracy: 0.7323\n",
      "Epoch 52/150\n",
      "514/514 [==============================] - 0s 122us/step - loss: 0.5365 - accuracy: 0.7412 - val_loss: 0.5569 - val_accuracy: 0.7283\n",
      "Epoch 53/150\n",
      "514/514 [==============================] - 0s 118us/step - loss: 0.5332 - accuracy: 0.7510 - val_loss: 0.5460 - val_accuracy: 0.7520\n",
      "Epoch 54/150\n",
      "514/514 [==============================] - 0s 124us/step - loss: 0.5307 - accuracy: 0.7296 - val_loss: 0.5549 - val_accuracy: 0.7283\n",
      "Epoch 55/150\n",
      "514/514 [==============================] - 0s 116us/step - loss: 0.5300 - accuracy: 0.7354 - val_loss: 0.5548 - val_accuracy: 0.7244\n",
      "Epoch 56/150\n",
      "514/514 [==============================] - 0s 113us/step - loss: 0.5394 - accuracy: 0.7257 - val_loss: 0.5626 - val_accuracy: 0.7362\n"
     ]
    },
    {
     "name": "stdout",
     "output_type": "stream",
     "text": [
      "Epoch 57/150\n",
      "514/514 [==============================] - 0s 118us/step - loss: 0.5404 - accuracy: 0.7296 - val_loss: 0.5669 - val_accuracy: 0.7165\n",
      "Epoch 58/150\n",
      "514/514 [==============================] - 0s 124us/step - loss: 0.5286 - accuracy: 0.7315 - val_loss: 0.5663 - val_accuracy: 0.7087\n",
      "Epoch 59/150\n",
      "514/514 [==============================] - 0s 113us/step - loss: 0.5416 - accuracy: 0.7335 - val_loss: 0.5555 - val_accuracy: 0.7323\n",
      "Epoch 60/150\n",
      "514/514 [==============================] - 0s 115us/step - loss: 0.5338 - accuracy: 0.7276 - val_loss: 0.5491 - val_accuracy: 0.7283\n",
      "Epoch 61/150\n",
      "514/514 [==============================] - 0s 116us/step - loss: 0.5325 - accuracy: 0.7374 - val_loss: 0.5615 - val_accuracy: 0.7402\n",
      "Epoch 62/150\n",
      "514/514 [==============================] - 0s 116us/step - loss: 0.5325 - accuracy: 0.7315 - val_loss: 0.5513 - val_accuracy: 0.7323\n",
      "Epoch 63/150\n",
      "514/514 [==============================] - 0s 118us/step - loss: 0.5269 - accuracy: 0.7315 - val_loss: 0.5487 - val_accuracy: 0.7441\n",
      "Epoch 64/150\n",
      "514/514 [==============================] - 0s 120us/step - loss: 0.5314 - accuracy: 0.7451 - val_loss: 0.5502 - val_accuracy: 0.7441\n",
      "Epoch 65/150\n",
      "514/514 [==============================] - 0s 118us/step - loss: 0.5331 - accuracy: 0.7296 - val_loss: 0.5562 - val_accuracy: 0.7283\n",
      "Epoch 66/150\n",
      "514/514 [==============================] - 0s 113us/step - loss: 0.5365 - accuracy: 0.7198 - val_loss: 0.5393 - val_accuracy: 0.7559\n",
      "Epoch 67/150\n",
      "514/514 [==============================] - 0s 114us/step - loss: 0.5272 - accuracy: 0.7374 - val_loss: 0.5567 - val_accuracy: 0.7362\n",
      "Epoch 68/150\n",
      "514/514 [==============================] - 0s 111us/step - loss: 0.5320 - accuracy: 0.7315 - val_loss: 0.5610 - val_accuracy: 0.7402\n",
      "Epoch 69/150\n",
      "514/514 [==============================] - 0s 120us/step - loss: 0.5301 - accuracy: 0.7315 - val_loss: 0.5532 - val_accuracy: 0.7402\n",
      "Epoch 70/150\n",
      "514/514 [==============================] - 0s 134us/step - loss: 0.5318 - accuracy: 0.7471 - val_loss: 0.5457 - val_accuracy: 0.7362\n",
      "Epoch 71/150\n",
      "514/514 [==============================] - 0s 161us/step - loss: 0.5267 - accuracy: 0.7451 - val_loss: 0.5563 - val_accuracy: 0.7480\n",
      "Epoch 72/150\n",
      "514/514 [==============================] - 0s 132us/step - loss: 0.5253 - accuracy: 0.7374 - val_loss: 0.5364 - val_accuracy: 0.7638\n",
      "Epoch 73/150\n",
      "514/514 [==============================] - 0s 112us/step - loss: 0.5276 - accuracy: 0.7315 - val_loss: 0.5364 - val_accuracy: 0.7598\n",
      "Epoch 74/150\n",
      "514/514 [==============================] - 0s 115us/step - loss: 0.5235 - accuracy: 0.7393 - val_loss: 0.5432 - val_accuracy: 0.7638\n",
      "Epoch 75/150\n",
      "514/514 [==============================] - 0s 126us/step - loss: 0.5265 - accuracy: 0.7471 - val_loss: 0.5430 - val_accuracy: 0.7520\n",
      "Epoch 76/150\n",
      "514/514 [==============================] - 0s 114us/step - loss: 0.5267 - accuracy: 0.7471 - val_loss: 0.5375 - val_accuracy: 0.7559\n",
      "Epoch 77/150\n",
      "514/514 [==============================] - 0s 113us/step - loss: 0.5203 - accuracy: 0.7393 - val_loss: 0.5400 - val_accuracy: 0.7441\n",
      "Epoch 78/150\n",
      "514/514 [==============================] - 0s 116us/step - loss: 0.5204 - accuracy: 0.7471 - val_loss: 0.5360 - val_accuracy: 0.7717\n",
      "Epoch 79/150\n",
      "514/514 [==============================] - 0s 113us/step - loss: 0.5293 - accuracy: 0.7510 - val_loss: 0.5489 - val_accuracy: 0.7520\n",
      "Epoch 80/150\n",
      "514/514 [==============================] - 0s 114us/step - loss: 0.5215 - accuracy: 0.7471 - val_loss: 0.5423 - val_accuracy: 0.7520\n",
      "Epoch 81/150\n",
      "514/514 [==============================] - 0s 116us/step - loss: 0.5304 - accuracy: 0.7510 - val_loss: 0.5414 - val_accuracy: 0.7559\n",
      "Epoch 82/150\n",
      "514/514 [==============================] - 0s 111us/step - loss: 0.5200 - accuracy: 0.7257 - val_loss: 0.5327 - val_accuracy: 0.7638\n",
      "Epoch 83/150\n",
      "514/514 [==============================] - 0s 114us/step - loss: 0.5164 - accuracy: 0.7296 - val_loss: 0.5453 - val_accuracy: 0.7441\n",
      "Epoch 84/150\n",
      "514/514 [==============================] - 0s 116us/step - loss: 0.5270 - accuracy: 0.7432 - val_loss: 0.5362 - val_accuracy: 0.7677\n",
      "Epoch 85/150\n",
      "514/514 [==============================] - 0s 113us/step - loss: 0.5210 - accuracy: 0.7432 - val_loss: 0.5375 - val_accuracy: 0.7402\n",
      "Epoch 86/150\n",
      "514/514 [==============================] - 0s 118us/step - loss: 0.5171 - accuracy: 0.7374 - val_loss: 0.5390 - val_accuracy: 0.7598\n",
      "Epoch 87/150\n",
      "514/514 [==============================] - 0s 126us/step - loss: 0.5146 - accuracy: 0.7529 - val_loss: 0.5293 - val_accuracy: 0.7756\n",
      "Epoch 88/150\n",
      "514/514 [==============================] - 0s 113us/step - loss: 0.5156 - accuracy: 0.7471 - val_loss: 0.5358 - val_accuracy: 0.7441\n",
      "Epoch 89/150\n",
      "514/514 [==============================] - 0s 116us/step - loss: 0.5148 - accuracy: 0.7335 - val_loss: 0.5319 - val_accuracy: 0.7677\n",
      "Epoch 90/150\n",
      "514/514 [==============================] - 0s 113us/step - loss: 0.5173 - accuracy: 0.7432 - val_loss: 0.5364 - val_accuracy: 0.7480\n",
      "Epoch 91/150\n",
      "514/514 [==============================] - 0s 113us/step - loss: 0.5193 - accuracy: 0.7432 - val_loss: 0.5434 - val_accuracy: 0.7323\n",
      "Epoch 92/150\n",
      "514/514 [==============================] - 0s 120us/step - loss: 0.5243 - accuracy: 0.7354 - val_loss: 0.5346 - val_accuracy: 0.7480\n",
      "Epoch 93/150\n",
      "514/514 [==============================] - 0s 109us/step - loss: 0.5162 - accuracy: 0.7568 - val_loss: 0.5336 - val_accuracy: 0.7441\n",
      "Epoch 94/150\n",
      "514/514 [==============================] - 0s 118us/step - loss: 0.5159 - accuracy: 0.7490 - val_loss: 0.5263 - val_accuracy: 0.7598\n",
      "Epoch 95/150\n",
      "514/514 [==============================] - 0s 126us/step - loss: 0.5170 - accuracy: 0.7568 - val_loss: 0.5417 - val_accuracy: 0.7165\n",
      "Epoch 96/150\n",
      "514/514 [==============================] - 0s 140us/step - loss: 0.5220 - accuracy: 0.7412 - val_loss: 0.5260 - val_accuracy: 0.7717\n",
      "Epoch 97/150\n",
      "514/514 [==============================] - 0s 149us/step - loss: 0.5157 - accuracy: 0.7490 - val_loss: 0.5239 - val_accuracy: 0.7480\n",
      "Epoch 98/150\n",
      "514/514 [==============================] - 0s 128us/step - loss: 0.5223 - accuracy: 0.7335 - val_loss: 0.5402 - val_accuracy: 0.7480\n",
      "Epoch 99/150\n",
      "514/514 [==============================] - 0s 118us/step - loss: 0.5243 - accuracy: 0.7276 - val_loss: 0.5319 - val_accuracy: 0.7559\n",
      "Epoch 100/150\n",
      "514/514 [==============================] - 0s 114us/step - loss: 0.5164 - accuracy: 0.7354 - val_loss: 0.5214 - val_accuracy: 0.7795\n",
      "Epoch 101/150\n",
      "514/514 [==============================] - 0s 118us/step - loss: 0.5136 - accuracy: 0.7451 - val_loss: 0.5266 - val_accuracy: 0.7638\n",
      "Epoch 102/150\n",
      "514/514 [==============================] - 0s 111us/step - loss: 0.5096 - accuracy: 0.7432 - val_loss: 0.5215 - val_accuracy: 0.7677\n",
      "Epoch 103/150\n",
      "514/514 [==============================] - 0s 130us/step - loss: 0.5221 - accuracy: 0.7451 - val_loss: 0.5286 - val_accuracy: 0.7402\n",
      "Epoch 104/150\n",
      "514/514 [==============================] - 0s 122us/step - loss: 0.5137 - accuracy: 0.7451 - val_loss: 0.5232 - val_accuracy: 0.7598\n",
      "Epoch 105/150\n",
      "514/514 [==============================] - 0s 116us/step - loss: 0.5080 - accuracy: 0.7510 - val_loss: 0.5288 - val_accuracy: 0.7598\n",
      "Epoch 106/150\n",
      "514/514 [==============================] - 0s 116us/step - loss: 0.5126 - accuracy: 0.7374 - val_loss: 0.5229 - val_accuracy: 0.7638\n",
      "Epoch 107/150\n",
      "514/514 [==============================] - 0s 132us/step - loss: 0.5133 - accuracy: 0.7393 - val_loss: 0.5398 - val_accuracy: 0.7362\n",
      "Epoch 108/150\n",
      "514/514 [==============================] - 0s 113us/step - loss: 0.5263 - accuracy: 0.7471 - val_loss: 0.5365 - val_accuracy: 0.7480\n",
      "Epoch 109/150\n",
      "514/514 [==============================] - 0s 118us/step - loss: 0.5118 - accuracy: 0.7451 - val_loss: 0.5207 - val_accuracy: 0.7795\n",
      "Epoch 110/150\n",
      "514/514 [==============================] - 0s 116us/step - loss: 0.5046 - accuracy: 0.7432 - val_loss: 0.5583 - val_accuracy: 0.7362\n",
      "Epoch 111/150\n",
      "514/514 [==============================] - 0s 130us/step - loss: 0.5211 - accuracy: 0.7354 - val_loss: 0.5299 - val_accuracy: 0.7520\n",
      "Epoch 112/150\n",
      "514/514 [==============================] - 0s 120us/step - loss: 0.5053 - accuracy: 0.7471 - val_loss: 0.5250 - val_accuracy: 0.7441\n",
      "Epoch 113/150\n"
     ]
    },
    {
     "name": "stdout",
     "output_type": "stream",
     "text": [
      "514/514 [==============================] - 0s 116us/step - loss: 0.5098 - accuracy: 0.7471 - val_loss: 0.5184 - val_accuracy: 0.7677\n",
      "Epoch 114/150\n",
      "514/514 [==============================] - 0s 120us/step - loss: 0.5044 - accuracy: 0.7451 - val_loss: 0.5159 - val_accuracy: 0.7756\n",
      "Epoch 115/150\n",
      "514/514 [==============================] - 0s 113us/step - loss: 0.5055 - accuracy: 0.7568 - val_loss: 0.5148 - val_accuracy: 0.7638\n",
      "Epoch 116/150\n",
      "514/514 [==============================] - 0s 116us/step - loss: 0.5048 - accuracy: 0.7471 - val_loss: 0.5123 - val_accuracy: 0.7913\n",
      "Epoch 117/150\n",
      "514/514 [==============================] - 0s 113us/step - loss: 0.5105 - accuracy: 0.7432 - val_loss: 0.5402 - val_accuracy: 0.7559\n",
      "Epoch 118/150\n",
      "514/514 [==============================] - 0s 115us/step - loss: 0.5031 - accuracy: 0.7393 - val_loss: 0.5182 - val_accuracy: 0.7638\n",
      "Epoch 119/150\n",
      "514/514 [==============================] - 0s 118us/step - loss: 0.5086 - accuracy: 0.7510 - val_loss: 0.5160 - val_accuracy: 0.7874\n",
      "Epoch 120/150\n",
      "514/514 [==============================] - 0s 136us/step - loss: 0.5006 - accuracy: 0.7568 - val_loss: 0.5129 - val_accuracy: 0.7677\n",
      "Epoch 121/150\n",
      "514/514 [==============================] - 0s 159us/step - loss: 0.5067 - accuracy: 0.7471 - val_loss: 0.5184 - val_accuracy: 0.7559\n",
      "Epoch 122/150\n",
      "514/514 [==============================] - 0s 122us/step - loss: 0.5049 - accuracy: 0.7490 - val_loss: 0.5088 - val_accuracy: 0.7835\n",
      "Epoch 123/150\n",
      "514/514 [==============================] - 0s 116us/step - loss: 0.5016 - accuracy: 0.7335 - val_loss: 0.5241 - val_accuracy: 0.7598\n",
      "Epoch 124/150\n",
      "514/514 [==============================] - 0s 116us/step - loss: 0.5028 - accuracy: 0.7568 - val_loss: 0.5188 - val_accuracy: 0.7598\n",
      "Epoch 125/150\n",
      "514/514 [==============================] - 0s 107us/step - loss: 0.5022 - accuracy: 0.7529 - val_loss: 0.5236 - val_accuracy: 0.7480\n",
      "Epoch 126/150\n",
      "514/514 [==============================] - 0s 109us/step - loss: 0.4946 - accuracy: 0.7393 - val_loss: 0.5256 - val_accuracy: 0.7598\n",
      "Epoch 127/150\n",
      "514/514 [==============================] - 0s 109us/step - loss: 0.4967 - accuracy: 0.7529 - val_loss: 0.5115 - val_accuracy: 0.7717\n",
      "Epoch 128/150\n",
      "514/514 [==============================] - 0s 114us/step - loss: 0.4981 - accuracy: 0.7549 - val_loss: 0.5146 - val_accuracy: 0.7835\n",
      "Epoch 129/150\n",
      "514/514 [==============================] - 0s 114us/step - loss: 0.4999 - accuracy: 0.7471 - val_loss: 0.5053 - val_accuracy: 0.7638\n",
      "Epoch 130/150\n",
      "514/514 [==============================] - 0s 126us/step - loss: 0.4973 - accuracy: 0.7490 - val_loss: 0.5041 - val_accuracy: 0.7913\n",
      "Epoch 131/150\n",
      "514/514 [==============================] - 0s 120us/step - loss: 0.4935 - accuracy: 0.7549 - val_loss: 0.5215 - val_accuracy: 0.7520\n",
      "Epoch 132/150\n",
      "514/514 [==============================] - 0s 116us/step - loss: 0.4995 - accuracy: 0.7529 - val_loss: 0.5123 - val_accuracy: 0.7559\n",
      "Epoch 133/150\n",
      "514/514 [==============================] - 0s 114us/step - loss: 0.4948 - accuracy: 0.7646 - val_loss: 0.5125 - val_accuracy: 0.7756\n",
      "Epoch 134/150\n",
      "514/514 [==============================] - 0s 118us/step - loss: 0.4915 - accuracy: 0.7588 - val_loss: 0.5158 - val_accuracy: 0.7520\n",
      "Epoch 135/150\n",
      "514/514 [==============================] - 0s 122us/step - loss: 0.4909 - accuracy: 0.7451 - val_loss: 0.5055 - val_accuracy: 0.7913\n",
      "Epoch 136/150\n",
      "514/514 [==============================] - 0s 124us/step - loss: 0.4925 - accuracy: 0.7451 - val_loss: 0.5079 - val_accuracy: 0.7795\n",
      "Epoch 137/150\n",
      "514/514 [==============================] - 0s 122us/step - loss: 0.5098 - accuracy: 0.7393 - val_loss: 0.5093 - val_accuracy: 0.7795\n",
      "Epoch 138/150\n",
      "514/514 [==============================] - 0s 126us/step - loss: 0.4903 - accuracy: 0.7607 - val_loss: 0.5047 - val_accuracy: 0.7874\n",
      "Epoch 139/150\n",
      "514/514 [==============================] - 0s 113us/step - loss: 0.4952 - accuracy: 0.7588 - val_loss: 0.5044 - val_accuracy: 0.7717\n",
      "Epoch 140/150\n",
      "514/514 [==============================] - 0s 116us/step - loss: 0.4864 - accuracy: 0.7588 - val_loss: 0.5088 - val_accuracy: 0.7795\n",
      "Epoch 141/150\n",
      "514/514 [==============================] - 0s 114us/step - loss: 0.4899 - accuracy: 0.7412 - val_loss: 0.5018 - val_accuracy: 0.7795\n",
      "Epoch 142/150\n",
      "514/514 [==============================] - 0s 116us/step - loss: 0.4912 - accuracy: 0.7549 - val_loss: 0.5037 - val_accuracy: 0.7717\n",
      "Epoch 143/150\n",
      "514/514 [==============================] - 0s 111us/step - loss: 0.4951 - accuracy: 0.7490 - val_loss: 0.5016 - val_accuracy: 0.7874\n",
      "Epoch 144/150\n",
      "514/514 [==============================] - 0s 113us/step - loss: 0.4969 - accuracy: 0.7646 - val_loss: 0.5167 - val_accuracy: 0.7795\n",
      "Epoch 145/150\n",
      "514/514 [==============================] - 0s 116us/step - loss: 0.4943 - accuracy: 0.7451 - val_loss: 0.4957 - val_accuracy: 0.7874\n",
      "Epoch 146/150\n",
      "514/514 [==============================] - 0s 118us/step - loss: 0.4883 - accuracy: 0.7490 - val_loss: 0.5132 - val_accuracy: 0.7874\n",
      "Epoch 147/150\n",
      "514/514 [==============================] - 0s 111us/step - loss: 0.4858 - accuracy: 0.7490 - val_loss: 0.5008 - val_accuracy: 0.7756\n",
      "Epoch 148/150\n",
      "514/514 [==============================] - 0s 118us/step - loss: 0.4931 - accuracy: 0.7607 - val_loss: 0.5207 - val_accuracy: 0.7520\n",
      "Epoch 149/150\n",
      "514/514 [==============================] - 0s 113us/step - loss: 0.4833 - accuracy: 0.7626 - val_loss: 0.5013 - val_accuracy: 0.7717\n",
      "Epoch 150/150\n",
      "514/514 [==============================] - 0s 118us/step - loss: 0.4848 - accuracy: 0.7704 - val_loss: 0.5066 - val_accuracy: 0.7638\n",
      "768/768 [==============================] - 0s 14us/step\n",
      " \n",
      "accuracy: 77%\n"
     ]
    }
   ],
   "source": [
    "from keras.models import Sequential\n",
    "from keras.layers import Dense\n",
    "import numpy\n",
    "numpy.random.seed(7)\n",
    "dataset = numpy.loadtxt(\"pima.data\", delimiter=\",\")\n",
    "X = dataset[:,0:8] # 8개의 독립변수\n",
    "Y = dataset[:,8] # 1개의 종속변수\n",
    "model = Sequential()\n",
    "# uniform 균등분포 초기화 방법\n",
    "model.add(Dense(12, input_dim = 8 , kernel_initializer=\"uniform\",activation = 'relu'))\n",
    "model.add(Dense(8, kernel_initializer=\"uniform\" ,activation = 'relu'))\n",
    "model.add(Dense(1, kernel_initializer=\"uniform\", activation = 'sigmoid')) # 0.5 기준 \n",
    "model.compile(loss = 'binary_crossentropy', optimizer= 'adam',\n",
    "             metrics=['accuracy'])\n",
    "# 추가 \n",
    "# 데이터를 분리 입력 (train ,test) : 과적합 \n",
    "# train , validation, test \n",
    "history = model.fit(X,Y,validation_split = 0.33,epochs = 150 , batch_size = 10)\n",
    "scores = model.evaluate(X,Y)\n",
    "# 1번,loss  2번.accuracy \n",
    "print(\" \\n%s: %2.f%%\" % (model.metrics_names[1], scores[1]*100))"
   ]
  },
  {
   "cell_type": "code",
   "execution_count": 4,
   "metadata": {
    "scrolled": true
   },
   "outputs": [
    {
     "name": "stdout",
     "output_type": "stream",
     "text": [
      "dict_keys(['val_loss', 'val_accuracy', 'loss', 'accuracy'])\n"
     ]
    }
   ],
   "source": [
    "print(history.history.keys())"
   ]
  },
  {
   "cell_type": "code",
   "execution_count": 5,
   "metadata": {
    "scrolled": true
   },
   "outputs": [
    {
     "name": "stdout",
     "output_type": "stream",
     "text": [
      "dict_keys(['val_loss', 'val_accuracy', 'loss', 'accuracy'])\n"
     ]
    },
    {
     "data": {
      "image/png": "[encoded data removed]",
      "text/plain": [
       "<Figure size 432x288 with 1 Axes>"
      ]
     },
     "metadata": {
      "needs_background": "light"
     },
     "output_type": "display_data"
    }
   ],
   "source": [
    "import matplotlib as mpl\n",
    "import matplotlib.pylab as plt\n",
    "print(history.history.keys())\n",
    "plt.plot(history.history['accuracy'])\n",
    "plt.show()"
   ]
  },
  {
   "cell_type": "code",
   "execution_count": 6,
   "metadata": {
    "scrolled": true
   },
   "outputs": [
    {
     "name": "stdout",
     "output_type": "stream",
     "text": [
      "dict_keys(['val_loss', 'val_accuracy', 'loss', 'accuracy'])\n"
     ]
    },
    {
     "data": {
      "image/png": "[encoded data removed]",
      "text/plain": [
       "<Figure size 432x288 with 1 Axes>"
      ]
     },
     "metadata": {
      "needs_background": "light"
     },
     "output_type": "display_data"
    }
   ],
   "source": [
    "print(history.history.keys())\n",
    "\n",
    "plt.plot(history.history['accuracy'])\n",
    "plt.plot(history.history['val_accuracy'])\n",
    "plt.title('accuracy')\n",
    "plt.ylabel('accuracy')\n",
    "plt.xlabel('epoch')\n",
    "plt.legend(['train', 'test'],loc = 'upper left')\n",
    "plt.show()"
   ]
  },
  {
   "cell_type": "code",
   "execution_count": 7,
   "metadata": {},
   "outputs": [
    {
     "data": {
      "image/png": "[encoded data removed]",
      "text/plain": [
       "<Figure size 432x288 with 1 Axes>"
      ]
     },
     "metadata": {
      "needs_background": "light"
     },
     "output_type": "display_data"
    }
   ],
   "source": [
    "plt.plot(history.history['loss'])\n",
    "plt.plot(history.history['val_loss'])\n",
    "plt.title('loss')\n",
    "plt.ylabel('loss')\n",
    "plt.xlabel('epoch')\n",
    "plt.legend(['train', 'test'],loc = 'upper left')\n",
    "plt.show()"
   ]
  },
  {
   "cell_type": "markdown",
   "metadata": {},
   "source": [
    "# callback\n",
    "모델이 epoch를 도는 순간에는 model.save를 사용할 순 없습니다.\n",
    "\n",
    "이럴때 사용할 수 있게 callback이라는 기능을 제공을 해주었습니다. \n",
    "\n",
    "정한 epoch 또는 1 epoch이 끝날때마다 이 함수를 불러서 정해놓은 기능을 호출하는데요."
   ]
  },
  {
   "cell_type": "code",
   "execution_count": 8,
   "metadata": {
    "scrolled": true
   },
   "outputs": [
    {
     "name": "stdout",
     "output_type": "stream",
     "text": [
      "(1000, 2)\n",
      "(1000,)\n",
      "(500, 2)\n",
      "(500, 2)\n",
      "(500,)\n",
      "(500,)\n"
     ]
    }
   ],
   "source": [
    "from sklearn.preprocessing import scale\n",
    "from sklearn.model_selection import train_test_split\n",
    "from sklearn.datasets import make_moons\n",
    "X, Y = make_moons(noise=0.2, random_state=0, n_samples=1000)\n",
    "X = scale(X)\n",
    "X_train, X_test, Y_train, Y_test = train_test_split(X,Y, test_size=.5)\n",
    "print(X.shape)\n",
    "print(Y.shape)\n",
    "print(X_train.shape)\n",
    "print(X_test.shape)\n",
    "print(Y_train.shape)\n",
    "print(Y_test.shape)"
   ]
  },
  {
   "cell_type": "code",
   "execution_count": 9,
   "metadata": {
    "scrolled": true
   },
   "outputs": [
    {
     "data": {
      "text/plain": [
       "[Text(0, 0.5, 'Y'), Text(0.5, 0, 'X'), Text(0.5, 1.0, 'binary classification')]"
      ]
     },
     "execution_count": 9,
     "metadata": {},
     "output_type": "execute_result"
    },
    {
     "data": {
      "image/png": "[encoded data removed]",
      "text/plain": [
       "<Figure size 432x288 with 1 Axes>"
      ]
     },
     "metadata": {
      "needs_background": "light"
     },
     "output_type": "display_data"
    }
   ],
   "source": [
    "fig, ax = plt.subplots()\n",
    "ax.scatter(X[Y==0, 0], X[Y==0, 1], label = 'Class 0')\n",
    "ax.scatter(X[Y==1, 0], X[Y==1, 1], color='r', label = 'Class 1')\n",
    "ax.legend()\n",
    "ax.set(xlabel='X', ylabel='Y', title='binary classification')"
   ]
  },
  {
   "cell_type": "code",
   "execution_count": 10,
   "metadata": {
    "scrolled": true
   },
   "outputs": [
    {
     "name": "stdout",
     "output_type": "stream",
     "text": [
      "WARNING:tensorflow:From C:\\Users\\ICT01_12\\Anaconda3\\envs\\tf_test\\lib\\site-packages\\keras\\callbacks\\tensorboard_v1.py:146: The name tf.summary.histogram is deprecated. Please use tf.compat.v1.summary.histogram instead.\n",
      "\n",
      "WARNING:tensorflow:From C:\\Users\\ICT01_12\\Anaconda3\\envs\\tf_test\\lib\\site-packages\\keras\\callbacks\\tensorboard_v1.py:200: The name tf.summary.merge_all is deprecated. Please use tf.compat.v1.summary.merge_all instead.\n",
      "\n",
      "WARNING:tensorflow:From C:\\Users\\ICT01_12\\Anaconda3\\envs\\tf_test\\lib\\site-packages\\keras\\callbacks\\tensorboard_v1.py:203: The name tf.summary.FileWriter is deprecated. Please use tf.compat.v1.summary.FileWriter instead.\n",
      "\n"
     ]
    }
   ],
   "source": [
    "# 비선형모델 - 신경망 \n",
    "import keras\n",
    "model = Sequential()\n",
    "# 행렬연산 => 설명을 확대 (변수 32-설명)\n",
    "# 가중치가 있으면 바이어스도 있음\n",
    "# 1000x2 가중치(2x32=64)+32(bias) = 96 => 1000x32\n",
    "model.add(Dense(32, input_dim=2, activation='relu')) # 차원 확대\n",
    "# 1000x32 32x1=32+1(bias)=33 =>1000x1 분류\n",
    "model.add(Dense(1, activation='sigmoid'))\n",
    "model.compile(optimizer='AdaDelta', loss='binary_crossentropy', metrics=['accuracy'])\n",
    "\n",
    "# callback 함수는 window에서 자동으로 호출되는 함수\n",
    "tb_callback = keras.callbacks.TensorBoard(log_dir='./Graph/model_1/', histogram_freq=100, write_graph=True, write_images=False)\n",
    "# graph 이미지 출력\n",
    "tb_callback.set_model(model) # 콜백을 모델에 등록"
   ]
  },
  {
   "cell_type": "code",
   "execution_count": 11,
   "metadata": {
    "scrolled": true
   },
   "outputs": [
    {
     "name": "stdout",
     "output_type": "stream",
     "text": [
      "WARNING:tensorflow:From C:\\Users\\ICT01_12\\Anaconda3\\envs\\tf_test\\lib\\site-packages\\keras\\callbacks\\tensorboard_v1.py:343: The name tf.Summary is deprecated. Please use tf.compat.v1.Summary instead.\n",
      "\n"
     ]
    }
   ],
   "source": [
    "hist = model.fit(X_train, Y_train, batch_size=32, epochs=200, verbose = 0, \n",
    "                 validation_data=(X_test, Y_test), callbacks=[tb_callback]) # 호출"
   ]
  },
  {
   "cell_type": "code",
   "execution_count": 12,
   "metadata": {},
   "outputs": [
    {
     "name": "stdout",
     "output_type": "stream",
     "text": [
      "Test loss: 0.12789358568191528\n",
      "Test accuracy: 0.949999988079071\n"
     ]
    }
   ],
   "source": [
    "score = model.evaluate(X_test, Y_test, verbose=0)\n",
    "print('Test loss:', score[0])\n",
    "print('Test accuracy:', score[1])"
   ]
  },
  {
   "cell_type": "code",
   "execution_count": 13,
   "metadata": {
    "scrolled": true
   },
   "outputs": [
    {
     "name": "stdout",
     "output_type": "stream",
     "text": [
      "Model: \"sequential_4\"\n",
      "_________________________________________________________________\n",
      "Layer (type)                 Output Shape              Param #   \n",
      "=================================================================\n",
      "dense_10 (Dense)             (None, 32)                96        \n",
      "_________________________________________________________________\n",
      "dense_11 (Dense)             (None, 1)                 33        \n",
      "=================================================================\n",
      "Total params: 129\n",
      "Trainable params: 129\n",
      "Non-trainable params: 0\n",
      "_________________________________________________________________\n"
     ]
    }
   ],
   "source": [
    "keras.utils.print_summary(model)"
   ]
  },
  {
   "cell_type": "code",
   "execution_count": 14,
   "metadata": {
    "scrolled": true
   },
   "outputs": [
    {
     "data": {
      "image/png": "[encoded data removed]",
      "text/plain": [
       "<IPython.core.display.Image object>"
      ]
     },
     "execution_count": 14,
     "metadata": {},
     "output_type": "execute_result"
    }
   ],
   "source": [
    "keras.utils.plot_model(model)"
   ]
  },
  {
   "cell_type": "code",
   "execution_count": 15,
   "metadata": {},
   "outputs": [
    {
     "data": {
      "text/plain": [
       "<pydot.Dot at 0x2e32bfd65c8>"
      ]
     },
     "execution_count": 15,
     "metadata": {},
     "output_type": "execute_result"
    }
   ],
   "source": [
    "%matplotlib inline\n",
    "from keras.utils import plot_model\n",
    "from keras.utils import model_to_dot\n",
    "model_to_dot(model)"
   ]
  },
  {
   "cell_type": "code",
   "execution_count": 16,
   "metadata": {
    "scrolled": true
   },
   "outputs": [
    {
     "data": {
      "image/svg+xml": [
       "<svg height=\"255pt\" viewBox=\"0.00 0.00 181.00 191.00\" width=\"241pt\" xmlns=\"http://www.w3.org/2000/svg\" xmlns:xlink=\"http://www.w3.org/1999/xlink\">\n",
       "<g class=\"graph\" id=\"graph0\" transform=\"scale(1.33333 1.33333) rotate(0) translate(4 187)\">\n",
       "<title>G</title>\n",
       "<polygon fill=\"white\" points=\"-4,4 -4,-187 177,-187 177,4 -4,4\" stroke=\"none\"/>\n",
       "<!-- 3174668194952 -->\n",
       "<g class=\"node\" id=\"node1\"><title>3174668194952</title>\n",
       "<polygon fill=\"none\" points=\"0,-146.5 0,-182.5 173,-182.5 173,-146.5 0,-146.5\" stroke=\"black\"/>\n",
       "<text font-family=\"Times New Roman,serif\" font-size=\"14.00\" text-anchor=\"middle\" x=\"86.5\" y=\"-160.8\">dense_10_input: InputLayer</text>\n",
       "</g>\n",
       "<!-- 3174668197576 -->\n",
       "<g class=\"node\" id=\"node2\"><title>3174668197576</title>\n",
       "<polygon fill=\"none\" points=\"31,-73.5 31,-109.5 142,-109.5 142,-73.5 31,-73.5\" stroke=\"black\"/>\n",
       "<text font-family=\"Times New Roman,serif\" font-size=\"14.00\" text-anchor=\"middle\" x=\"86.5\" y=\"-87.8\">dense_10: Dense</text>\n",
       "</g>\n",
       "<!-- 3174668194952&#45;&gt;3174668197576 -->\n",
       "<g class=\"edge\" id=\"edge1\"><title>3174668194952-&gt;3174668197576</title>\n",
       "<path d=\"M86.5,-146.313C86.5,-138.289 86.5,-128.547 86.5,-119.569\" fill=\"none\" stroke=\"black\"/>\n",
       "<polygon fill=\"black\" points=\"90.0001,-119.529 86.5,-109.529 83.0001,-119.529 90.0001,-119.529\" stroke=\"black\"/>\n",
       "</g>\n",
       "<!-- 3174668197000 -->\n",
       "<g class=\"node\" id=\"node3\"><title>3174668197000</title>\n",
       "<polygon fill=\"none\" points=\"31,-0.5 31,-36.5 142,-36.5 142,-0.5 31,-0.5\" stroke=\"black\"/>\n",
       "<text font-family=\"Times New Roman,serif\" font-size=\"14.00\" text-anchor=\"middle\" x=\"86.5\" y=\"-14.8\">dense_11: Dense</text>\n",
       "</g>\n",
       "<!-- 3174668197576&#45;&gt;3174668197000 -->\n",
       "<g class=\"edge\" id=\"edge2\"><title>3174668197576-&gt;3174668197000</title>\n",
       "<path d=\"M86.5,-73.3129C86.5,-65.2895 86.5,-55.5475 86.5,-46.5691\" fill=\"none\" stroke=\"black\"/>\n",
       "<polygon fill=\"black\" points=\"90.0001,-46.5288 86.5,-36.5288 83.0001,-46.5289 90.0001,-46.5288\" stroke=\"black\"/>\n",
       "</g>\n",
       "</g>\n",
       "</svg>"
      ],
      "text/plain": [
       "<IPython.core.display.SVG object>"
      ]
     },
     "execution_count": 16,
     "metadata": {},
     "output_type": "execute_result"
    }
   ],
   "source": [
    "from IPython.display import SVG, Image\n",
    "from keras.utils import model_to_dot\n",
    "SVG(model_to_dot(model).create(prog='dot', format='svg'))"
   ]
  },
  {
   "cell_type": "code",
   "execution_count": 17,
   "metadata": {
    "scrolled": true
   },
   "outputs": [
    {
     "name": "stdout",
     "output_type": "stream",
     "text": [
      "Model: \"sequential_4\"\n",
      "_________________________________________________________________\n",
      "Layer (type)                 Output Shape              Param #   \n",
      "=================================================================\n",
      "dense_10 (Dense)             (None, 32)                96        \n",
      "_________________________________________________________________\n",
      "dense_11 (Dense)             (None, 1)                 33        \n",
      "=================================================================\n",
      "Total params: 129\n",
      "Trainable params: 129\n",
      "Non-trainable params: 0\n",
      "_________________________________________________________________\n"
     ]
    }
   ],
   "source": [
    "model.summary()"
   ]
  },
  {
   "cell_type": "code",
   "execution_count": 18,
   "metadata": {},
   "outputs": [],
   "source": [
    "# Callback class\n",
    "# custom callback 함수의 제작\n",
    "# 함수에 의해서 호출되는 객체\n",
    "class CustomHistory(keras.callbacks.Callback) : # 상속\n",
    "    def init(self) : #__init__이 아니므로 호출가능\n",
    "        self.train_loss = []\n",
    "        self.val_loss=[]\n",
    "        self.train_acc = []\n",
    "        self.val_acc = []\n",
    "    def on_epoch_end(self, batch, logs={}) :  # 오버라이딩\n",
    "        self.train_loss.append(logs.get(\"loss\"))\n",
    "        self.val_loss.append(logs.get(\"val_loss\"))\n",
    "        self.train_loss.append(logs.get(\"accuracy\"))\n",
    "        self.val_loss.append(logs.get(\"val_accuracy\"))"
   ]
  },
  {
   "cell_type": "code",
   "execution_count": 19,
   "metadata": {},
   "outputs": [
    {
     "name": "stdout",
     "output_type": "stream",
     "text": [
      "(60000, 28, 28) uint8\n",
      "(60000,) uint8\n",
      "(10000, 28, 28) uint8\n",
      "(10000, 28, 28) uint8\n"
     ]
    }
   ],
   "source": [
    "from keras.datasets import mnist\n",
    "import matplotlib.pylab as plt\n",
    "(X_train0, y_train0), (X_test0, y_test0) = mnist.load_data()\n",
    "print(X_train0.shape, X_train0.dtype)\n",
    "print(y_train0.shape, X_train0.dtype)\n",
    "print(X_test0.shape, X_test0.dtype)\n",
    "print(X_test0.shape, X_test0.dtype)"
   ]
  },
  {
   "cell_type": "code",
   "execution_count": 20,
   "metadata": {
    "scrolled": true
   },
   "outputs": [
    {
     "data": {
      "image/png": "[encoded data removed]",
      "text/plain": [
       "<Figure size 432x288 with 1 Axes>"
      ]
     },
     "metadata": {
      "needs_background": "light"
     },
     "output_type": "display_data"
    }
   ],
   "source": [
    "plt.imshow(X_train0[0])\n",
    "plt.grid(False)\n",
    "plt.show()"
   ]
  },
  {
   "cell_type": "code",
   "execution_count": 21,
   "metadata": {},
   "outputs": [
    {
     "name": "stdout",
     "output_type": "stream",
     "text": [
      "(60000, 784) float32\n"
     ]
    }
   ],
   "source": [
    "# fully-connected : flatten -> FFNN은 데이터가 1줄로 들어가야함\n",
    "# 이미지 정규화  : 0~255 컬러값 / 255 => 0~1\n",
    "X_train = X_train0.reshape(60000,784).astype('float32')/ 255.0\n",
    "X_test = X_test0.reshape(10000,784).astype('float32')/255.0\n",
    "print(X_train.shape,X_train.dtype)"
   ]
  },
  {
   "cell_type": "code",
   "execution_count": 22,
   "metadata": {
    "scrolled": true
   },
   "outputs": [
    {
     "data": {
      "text/plain": [
       "array([5, 0, 4, 1, 9], dtype=uint8)"
      ]
     },
     "execution_count": 22,
     "metadata": {},
     "output_type": "execute_result"
    }
   ],
   "source": [
    "y_train0[:5] # one-hot encoding 여부 \n",
    "#        => 전진망에서 분류는 softmax로, multi-label(binary_entropy) => softmax(3개가 넘어가면 사용,경우의 수에 대한 확률값)\n",
    "# 5, 0, 4, 1, 9 -> 안되어 있음"
   ]
  },
  {
   "cell_type": "code",
   "execution_count": 23,
   "metadata": {},
   "outputs": [
    {
     "data": {
      "text/plain": [
       "array([[0., 0., 0., 0., 0., 1., 0., 0., 0., 0.],\n",
       "       [1., 0., 0., 0., 0., 0., 0., 0., 0., 0.],\n",
       "       [0., 0., 0., 0., 1., 0., 0., 0., 0., 0.],\n",
       "       [0., 1., 0., 0., 0., 0., 0., 0., 0., 0.],\n",
       "       [0., 0., 0., 0., 0., 0., 0., 0., 0., 1.]], dtype=float32)"
      ]
     },
     "execution_count": 23,
     "metadata": {},
     "output_type": "execute_result"
    }
   ],
   "source": [
    "from keras.utils import np_utils\n",
    "Y_train = np_utils.to_categorical(y_train0,10)\n",
    "Y_test = np_utils.to_categorical(y_test0, 10)\n",
    "Y_train[:5]"
   ]
  },
  {
   "cell_type": "code",
   "execution_count": 44,
   "metadata": {},
   "outputs": [],
   "source": [
    "import numpy as np\n",
    "from keras.optimizers import SGD\n",
    "np.random.seed(0)\n",
    "model = Sequential()\n",
    "# 60000x784 784x15 => 60000x15\n",
    "model.add(Dense(15, input_dim=784, activation = 'sigmoid'))\n",
    "model.add(Dense(10, activation = 'sigmoid'))\n",
    "# lr : learning rate\n",
    "# stochastic gradient descent\n",
    "model.compile(optimizer=SGD(lr=0.2), loss='mean_squared_error', metrics=[\"accuracy\"])"
   ]
  },
  {
   "cell_type": "code",
   "execution_count": 45,
   "metadata": {},
   "outputs": [
    {
     "data": {
      "text/plain": [
       "[<keras.layers.core.Dense at 0x2e32c4141c8>,\n",
       " <keras.layers.core.Dense at 0x2e32c2ceac8>]"
      ]
     },
     "execution_count": 45,
     "metadata": {},
     "output_type": "execute_result"
    }
   ],
   "source": [
    "model.layers"
   ]
  },
  {
   "cell_type": "code",
   "execution_count": 46,
   "metadata": {},
   "outputs": [
    {
     "data": {
      "text/plain": [
       "<function keras.activations.sigmoid(x)>"
      ]
     },
     "execution_count": 46,
     "metadata": {},
     "output_type": "execute_result"
    }
   ],
   "source": [
    "l1 = model.layers[0]\n",
    "l2 = model.layers[1]\n",
    "l1.name\n",
    "l1.input_shape\n",
    "l1.output_shape\n",
    "l1.activation"
   ]
  },
  {
   "cell_type": "code",
   "execution_count": 47,
   "metadata": {
    "scrolled": true
   },
   "outputs": [
    {
     "name": "stderr",
     "output_type": "stream",
     "text": [
      "C:\\Users\\ICT01_12\\Anaconda3\\envs\\tf_test\\lib\\site-packages\\ipykernel_launcher.py:4: UserWarning: The `nb_epoch` argument in `fit` has been renamed `epochs`.\n",
      "  after removing the cwd from sys.path.\n"
     ]
    },
    {
     "name": "stdout",
     "output_type": "stream",
     "text": [
      "Train on 60000 samples, validate on 10000 samples\n",
      "Epoch 1/30\n",
      " - 7s - loss: 0.1019 - accuracy: 0.2440 - val_loss: 0.0864 - val_accuracy: 0.3212\n",
      "Epoch 2/30\n",
      " - 7s - loss: 0.0845 - accuracy: 0.3921 - val_loss: 0.0821 - val_accuracy: 0.4409\n",
      "Epoch 3/30\n",
      " - 6s - loss: 0.0796 - accuracy: 0.4997 - val_loss: 0.0765 - val_accuracy: 0.5340\n",
      "Epoch 4/30\n",
      " - 6s - loss: 0.0740 - accuracy: 0.5620 - val_loss: 0.0707 - val_accuracy: 0.5852\n",
      "Epoch 5/30\n",
      " - 6s - loss: 0.0682 - accuracy: 0.6149 - val_loss: 0.0649 - val_accuracy: 0.6522\n",
      "Epoch 6/30\n",
      " - 7s - loss: 0.0625 - accuracy: 0.6759 - val_loss: 0.0594 - val_accuracy: 0.6998\n",
      "Epoch 7/30\n",
      " - 5s - loss: 0.0576 - accuracy: 0.7101 - val_loss: 0.0551 - val_accuracy: 0.7316\n",
      "Epoch 8/30\n",
      " - 7s - loss: 0.0537 - accuracy: 0.7325 - val_loss: 0.0516 - val_accuracy: 0.7485\n",
      "Epoch 9/30\n",
      " - 7s - loss: 0.0505 - accuracy: 0.7474 - val_loss: 0.0486 - val_accuracy: 0.7639\n",
      "Epoch 10/30\n",
      " - 7s - loss: 0.0478 - accuracy: 0.7609 - val_loss: 0.0461 - val_accuracy: 0.7759\n",
      "Epoch 11/30\n",
      " - 7s - loss: 0.0455 - accuracy: 0.7739 - val_loss: 0.0439 - val_accuracy: 0.7893\n",
      "Epoch 12/30\n",
      " - 5s - loss: 0.0435 - accuracy: 0.7859 - val_loss: 0.0420 - val_accuracy: 0.8023\n",
      "Epoch 13/30\n",
      " - 7s - loss: 0.0417 - accuracy: 0.7977 - val_loss: 0.0402 - val_accuracy: 0.8132\n",
      "Epoch 14/30\n",
      " - 7s - loss: 0.0400 - accuracy: 0.8083 - val_loss: 0.0386 - val_accuracy: 0.8255\n",
      "Epoch 15/30\n",
      " - 7s - loss: 0.0385 - accuracy: 0.8192 - val_loss: 0.0371 - val_accuracy: 0.8359\n",
      "Epoch 16/30\n",
      " - 6s - loss: 0.0371 - accuracy: 0.8288 - val_loss: 0.0358 - val_accuracy: 0.8432\n",
      "Epoch 17/30\n",
      " - 7s - loss: 0.0359 - accuracy: 0.8371 - val_loss: 0.0345 - val_accuracy: 0.8503\n",
      "Epoch 18/30\n",
      " - 7s - loss: 0.0347 - accuracy: 0.8440 - val_loss: 0.0334 - val_accuracy: 0.8557\n",
      "Epoch 19/30\n",
      " - 5s - loss: 0.0336 - accuracy: 0.8506 - val_loss: 0.0323 - val_accuracy: 0.8618\n",
      "Epoch 20/30\n",
      " - 7s - loss: 0.0326 - accuracy: 0.8565 - val_loss: 0.0313 - val_accuracy: 0.8651\n",
      "Epoch 21/30\n",
      " - 7s - loss: 0.0316 - accuracy: 0.8610 - val_loss: 0.0304 - val_accuracy: 0.8706\n",
      "Epoch 22/30\n",
      " - 6s - loss: 0.0308 - accuracy: 0.8646 - val_loss: 0.0295 - val_accuracy: 0.8742\n",
      "Epoch 23/30\n",
      " - 6s - loss: 0.0299 - accuracy: 0.8680 - val_loss: 0.0287 - val_accuracy: 0.8777\n",
      "Epoch 24/30\n",
      " - 5s - loss: 0.0292 - accuracy: 0.8709 - val_loss: 0.0280 - val_accuracy: 0.8790\n",
      "Epoch 25/30\n",
      " - 7s - loss: 0.0285 - accuracy: 0.8738 - val_loss: 0.0273 - val_accuracy: 0.8814\n",
      "Epoch 26/30\n",
      " - 5s - loss: 0.0278 - accuracy: 0.8765 - val_loss: 0.0267 - val_accuracy: 0.8845\n",
      "Epoch 27/30\n",
      " - 6s - loss: 0.0272 - accuracy: 0.8787 - val_loss: 0.0261 - val_accuracy: 0.8863\n",
      "Epoch 28/30\n",
      " - 7s - loss: 0.0266 - accuracy: 0.8814 - val_loss: 0.0255 - val_accuracy: 0.8878\n",
      "Epoch 29/30\n",
      " - 7s - loss: 0.0261 - accuracy: 0.8829 - val_loss: 0.0250 - val_accuracy: 0.8894\n",
      "Epoch 30/30\n",
      " - 6s - loss: 0.0256 - accuracy: 0.8844 - val_loss: 0.0245 - val_accuracy: 0.8904\n"
     ]
    },
    {
     "data": {
      "image/png": "[encoded data removed]",
      "text/plain": [
       "<Figure size 432x288 with 1 Axes>"
      ]
     },
     "metadata": {
      "needs_background": "light"
     },
     "output_type": "display_data"
    }
   ],
   "source": [
    "custom_hist = CustomHistory()\n",
    "custom_hist.init()\n",
    "hist = model.fit(X_train, Y_train, nb_epoch = 30, batch_size=100,\n",
    "                validation_data=(X_test, Y_test), callbacks=[custom_hist], verbose=2)\n",
    "plt.plot(hist.history['loss'])\n",
    "plt.show()"
   ]
  },
  {
   "cell_type": "code",
   "execution_count": 50,
   "metadata": {},
   "outputs": [
    {
     "data": {
      "image/png": "[encoded data removed]",
      "text/plain": [
       "<Figure size 432x288 with 1 Axes>"
      ]
     },
     "metadata": {
      "needs_background": "light"
     },
     "output_type": "display_data"
    },
    {
     "name": "stdout",
     "output_type": "stream",
     "text": [
      "<keras.engine.sequential.Sequential object at 0x000002E32C414708>\n",
      "=====================================================================\n",
      "{'batch_size': 100, 'epochs': 30, 'steps': None, 'samples': 60000, 'verbose': 2, 'do_validation': True, 'metrics': ['loss', 'accuracy', 'val_loss', 'val_accuracy']}\n",
      "=====================================================================\n",
      "[0.24401666, 0.39213333, 0.49971667, 0.56201667, 0.6149167, 0.6759167, 0.7101333, 0.7325, 0.7474167, 0.76085, 0.77395, 0.7858833, 0.79766667, 0.8082833, 0.81918335, 0.82878333, 0.83713335, 0.84403336, 0.8506333, 0.85646665, 0.8609667, 0.8646167, 0.86795, 0.87091666, 0.87381667, 0.87651664, 0.8786833, 0.88136667, 0.8829, 0.8844]\n",
      "=====================================================================\n",
      "0.8903999924659729\n"
     ]
    }
   ],
   "source": [
    "plt.plot(hist.history['accuracy'], 'b-', label='training')\n",
    "plt.plot(hist.history['val_accuracy'], 'r:', label='test')\n",
    "plt.legend()\n",
    "plt.show()\n",
    "\n",
    "print(hist.model)\n",
    "print(\"=====================================================================\")\n",
    "print(hist.params)\n",
    "print(\"=====================================================================\")\n",
    "print(hist.history['accuracy'])\n",
    "print(\"=====================================================================\")\n",
    "print(hist.history['val_accuracy'][29])"
   ]
  },
  {
   "cell_type": "code",
   "execution_count": 51,
   "metadata": {},
   "outputs": [
    {
     "data": {
      "image/png": "[encoded data removed]",
      "text/plain": [
       "<Figure size 432x288 with 1 Axes>"
      ]
     },
     "metadata": {
      "needs_background": "light"
     },
     "output_type": "display_data"
    }
   ],
   "source": [
    "plt.plot(custom_hist.train_loss, 'y', label = 'train loss')\n",
    "plt.show()"
   ]
  },
  {
   "cell_type": "code",
   "execution_count": 52,
   "metadata": {},
   "outputs": [],
   "source": [
    "from tensorflow import keras\n",
    "class CustomHistory(keras.callbacks.Callback):\n",
    "    def init(self):\n",
    "        self.train_loss = []\n",
    "        self.val_loss = []\n",
    "        self.train_acc = []\n",
    "        self.val_acc = []\n",
    "    def on_epoch_end(self, batch, logs={}):\n",
    "        self.train_loss.append(logs.get('loss'))\n",
    "        self.val_loss.append(logs.get('val_loss'))\n",
    "        self.train_loss.append(logs.get('accuracy'))\n",
    "        self.val_loss.append(logs.get('val_accuracy'))"
   ]
  },
  {
   "cell_type": "code",
   "execution_count": 53,
   "metadata": {},
   "outputs": [
    {
     "data": {
      "text/plain": [
       "array([[0.01767004, 0.01917329, 0.01319787, 0.02869663, 0.01251969,\n",
       "        0.05721784, 0.01232022, 0.94186753, 0.00762814, 0.05536831]],\n",
       "      dtype=float32)"
      ]
     },
     "execution_count": 53,
     "metadata": {},
     "output_type": "execute_result"
    }
   ],
   "source": [
    "# 문제 X_test 의 이미지 한장의 label 을 예측하시요 \n",
    "model.predict(X_test[:1,:])"
   ]
  },
  {
   "cell_type": "code",
   "execution_count": 54,
   "metadata": {},
   "outputs": [
    {
     "data": {
      "text/plain": [
       "array([7], dtype=int64)"
      ]
     },
     "execution_count": 54,
     "metadata": {},
     "output_type": "execute_result"
    }
   ],
   "source": [
    "model.predict_classes(X_test[:1,:], verbose = 0)"
   ]
  },
  {
   "cell_type": "code",
   "execution_count": 55,
   "metadata": {},
   "outputs": [],
   "source": [
    "# c출력차수가 512인 레이어를 추가"
   ]
  },
  {
   "cell_type": "code",
   "execution_count": 56,
   "metadata": {},
   "outputs": [],
   "source": [
    "# 집값 예측\n",
    "from keras.datasets import boston_housing\n",
    "(x_train, y_train), (x_test, y_test) = boston_housing.load_data()\n",
    "# 404 x 13 , 404 , 102 , 13 , 102"
   ]
  },
  {
   "cell_type": "code",
   "execution_count": 57,
   "metadata": {},
   "outputs": [],
   "source": [
    "model = Sequential()\n",
    "num_features = 13\n",
    "model.add(Dense(1, input_dim=num_features, activation='linear'))"
   ]
  },
  {
   "cell_type": "code",
   "execution_count": 58,
   "metadata": {},
   "outputs": [
    {
     "name": "stdout",
     "output_type": "stream",
     "text": [
      "Model: \"sequential_10\"\n",
      "_________________________________________________________________\n",
      "Layer (type)                 Output Shape              Param #   \n",
      "=================================================================\n",
      "dense_23 (Dense)             (None, 1)                 14        \n",
      "=================================================================\n",
      "Total params: 14\n",
      "Trainable params: 14\n",
      "Non-trainable params: 0\n",
      "_________________________________________________________________\n",
      "Epoch 1/10\n",
      "404/404 [==============================] - 0s 859us/step - loss: 28031.2535 - mae: 127.1642\n",
      "Epoch 2/10\n",
      "404/404 [==============================] - 0s 625us/step - loss: 3554.3965 - mae: 46.6836\n",
      "Epoch 3/10\n",
      "404/404 [==============================] - 0s 627us/step - loss: 1257.6941 - mae: 27.5113\n",
      "Epoch 4/10\n",
      "404/404 [==============================] - 0s 583us/step - loss: 298.5174 - mae: 12.8495\n",
      "Epoch 5/10\n",
      "404/404 [==============================] - 0s 615us/step - loss: 140.4095 - mae: 8.7667\n",
      "Epoch 6/10\n",
      "404/404 [==============================] - 0s 592us/step - loss: 126.6947 - mae: 8.0275\n",
      "Epoch 7/10\n",
      "404/404 [==============================] - 0s 580us/step - loss: 113.5021 - mae: 7.5869\n",
      "Epoch 8/10\n",
      "404/404 [==============================] - 0s 605us/step - loss: 104.8122 - mae: 7.3391\n",
      "Epoch 9/10\n",
      "404/404 [==============================] - 0s 583us/step - loss: 98.4709 - mae: 7.0894\n",
      "Epoch 10/10\n",
      "404/404 [==============================] - 0s 622us/step - loss: 91.2522 - mae: 6.6835\n"
     ]
    },
    {
     "data": {
      "text/plain": [
       "<keras.callbacks.callbacks.History at 0x2e354650048>"
      ]
     },
     "execution_count": 58,
     "metadata": {},
     "output_type": "execute_result"
    }
   ],
   "source": [
    "model.summary()\n",
    "model.compile(optimizer='rmsprop', loss='mse', metrics=['mae'])\n",
    "model.fit(x_train, y_train, batch_size=1, epochs=10, verbose=1)"
   ]
  },
  {
   "cell_type": "code",
   "execution_count": 59,
   "metadata": {
    "scrolled": true
   },
   "outputs": [
    {
     "data": {
      "text/plain": [
       "(80.5265775194355, 8.973660207486994, 6.593564033508301)"
      ]
     },
     "execution_count": 59,
     "metadata": {},
     "output_type": "execute_result"
    }
   ],
   "source": [
    "mse, mae = model.evaluate(x_test, y_test, verbose = False)\n",
    "rmse = np.sqrt(mse)\n",
    "mse, rmse , mae "
   ]
  },
  {
   "cell_type": "code",
   "execution_count": 60,
   "metadata": {},
   "outputs": [],
   "source": [
    "# 문제: x_test의 앞의 3집을 예측해 보시요"
   ]
  },
  {
   "cell_type": "code",
   "execution_count": 61,
   "metadata": {},
   "outputs": [],
   "source": [
    "pred =model.predict(x_test[:3,:])"
   ]
  },
  {
   "cell_type": "code",
   "execution_count": 62,
   "metadata": {},
   "outputs": [],
   "source": [
    "real = y_test[:3]"
   ]
  },
  {
   "cell_type": "code",
   "execution_count": 63,
   "metadata": {},
   "outputs": [],
   "source": [
    "# 상관계수를 확인하시요"
   ]
  },
  {
   "cell_type": "code",
   "execution_count": 64,
   "metadata": {},
   "outputs": [
    {
     "data": {
      "text/plain": [
       "array([[1.        , 0.91582434],\n",
       "       [0.91582434, 1.        ]])"
      ]
     },
     "execution_count": 64,
     "metadata": {},
     "output_type": "execute_result"
    }
   ],
   "source": [
    "import numpy as np\n",
    "np.corrcoef(pred.reshape(1,3), real)"
   ]
  },
  {
   "cell_type": "code",
   "execution_count": 65,
   "metadata": {},
   "outputs": [],
   "source": [
    "# scikits -- keras를 연결 : kerasClassifier , kerasRegressor\n",
    "import numpy\n",
    "from sklearn.model_selection import GridSearchCV\n",
    "from keras.models import Sequential\n",
    "from keras.layers import Dense\n",
    "from keras.wrappers.scikit_learn import KerasClassifier"
   ]
  },
  {
   "cell_type": "code",
   "execution_count": 41,
   "metadata": {},
   "outputs": [],
   "source": [
    "# 768 x 9 -> 768 ,8 독립변수 , 768 ,1 종속변수\n",
    "# 변수 8\n",
    "def create_model():\n",
    "    model = Sequential()\n",
    "    # 8 x 12 => 768 x 12\n",
    "    model.add(Dense(12, input_dim = 8, activation='relu'))\n",
    "    # 768 x 12 => 768 x 1 \n",
    "    model.add(Dense(1, activation = 'sigmoid')) # 0 ~ 1\n",
    "    model.compile(loss = 'binary_crossentropy', optimizer='adam',\n",
    "                 metrics = ['accuracy'])\n",
    "    return model\n",
    "numpy.random.seed(7)\n",
    "datasets = numpy.loadtxt('pima.csv', delimiter = \",\")\n",
    "X = dataset[:,0:8]\n",
    "Y = dataset[:,8]\n",
    "model = KerasClassifier(build_fn= create_model, verbose=0)"
   ]
  },
  {
   "cell_type": "code",
   "execution_count": 40,
   "metadata": {},
   "outputs": [
    {
     "name": "stdout",
     "output_type": "stream",
     "text": [
      "스코어 : 0.704482 사용한 조합 :{'batch_size': 20, 'epochs': 100}\n",
      "0.593855 (0.047930) with : {'batch_size': 10, 'epochs': 10}\n",
      "0.684899 (0.049045) with : {'batch_size': 10, 'epochs': 50}\n",
      "0.699262 (0.037744) with : {'batch_size': 10, 'epochs': 100}\n",
      "0.583261 (0.047846) with : {'batch_size': 20, 'epochs': 10}\n",
      "0.658959 (0.035523) with : {'batch_size': 20, 'epochs': 50}\n",
      "0.704482 (0.039870) with : {'batch_size': 20, 'epochs': 100}\n",
      "0.505416 (0.096619) with : {'batch_size': 40, 'epochs': 10}\n",
      "0.684993 (0.038423) with : {'batch_size': 40, 'epochs': 50}\n",
      "0.673237 (0.034790) with : {'batch_size': 40, 'epochs': 100}\n",
      "0.531135 (0.093110) with : {'batch_size': 60, 'epochs': 10}\n",
      "0.640616 (0.017772) with : {'batch_size': 60, 'epochs': 50}\n",
      "0.656353 (0.040216) with : {'batch_size': 60, 'epochs': 100}\n",
      "0.536644 (0.099053) with : {'batch_size': 80, 'epochs': 10}\n",
      "0.639318 (0.040176) with : {'batch_size': 80, 'epochs': 50}\n",
      "0.662754 (0.017814) with : {'batch_size': 80, 'epochs': 100}\n",
      "0.530218 (0.128985) with : {'batch_size': 100, 'epochs': 10}\n",
      "0.635532 (0.062019) with : {'batch_size': 100, 'epochs': 50}\n",
      "0.649775 (0.019298) with : {'batch_size': 100, 'epochs': 100}\n"
     ]
    }
   ],
   "source": [
    "# 파라미터 조합 \n",
    "batch_size = [10,20,40,60,80,100]\n",
    "epochs = [10,50,100]\n",
    "# 매개 변수 입력 형태는 dict \n",
    "param_grid = dict(batch_size= batch_size, epochs = epochs)\n",
    "grid = GridSearchCV(estimator =model , param_grid = param_grid\n",
    "                    , n_jobs=-1) # 참여 cpu 개수 \n",
    "grid_result = grid.fit(X,Y)\n",
    "print(\"스코어 : %f 사용한 조합 :%s\" % (grid_result.best_score_,\n",
    "                               grid_result.best_params_))\n",
    "means = grid_result.cv_results_['mean_test_score']\n",
    "stds = grid_result.cv_results_['std_test_score']\n",
    "params = grid_result.cv_results_['params']\n",
    "for mean, stdev, param in zip(means, stds, params):\n",
    "    print(\"%f (%f) with : %r\" %(mean,stdev,param))"
   ]
  },
  {
   "cell_type": "code",
   "execution_count": null,
   "metadata": {},
   "outputs": [],
   "source": [
    "# 가중치 초기화 매개변수를 넣고 (kernel_initializer) \n",
    "# ['uniform', lecun_uniform, normal, zero ,glorot_normal , glorot_uniform,\n",
    "# he_normal, he_uniform]\n",
    "# dense 1 : v 함수를 달아주고\n",
    "#[softmax, softplus, softsign, relu,tanh,sigmoid, hard_sigmoid,linear]"
   ]
  },
  {
   "cell_type": "code",
   "execution_count": 78,
   "metadata": {},
   "outputs": [],
   "source": [
    "init_mode =['uniform', 'lecun_uniform', 'normal', 'zero' ,'glorot_normal' ,\n",
    "                     'glorot_uniform', 'he_normal', 'he_uniform']\n",
    "activation = ['softmax', 'softplus', 'softsign',' relu','tanh','sigmoid', 'hard_sigmoid','linear']"
   ]
  },
  {
   "cell_type": "code",
   "execution_count": 87,
   "metadata": {},
   "outputs": [],
   "source": [
    "def create_model(init_mode, activation):\n",
    "    model = Sequential()\n",
    "    model.add(Dense(12, input_dim = 8, activation=activation))\n",
    "    model.add(Dense(1,kernel_initializer = init_mode, activation = 'sigmoid')) # 0 ~ 1\n",
    "    model.compile(loss = 'binary_crossentropy', optimizer='adam',\n",
    "                 metrics = ['accuracy'])\n",
    "    return model\n",
    "numpy.random.seed(7)\n",
    "datasets = numpy.loadtxt('pima.csv', delimiter = \",\")\n",
    "X = dataset[:,0:8]\n",
    "Y = dataset[:,8]\n",
    "model = KerasClassifier(build_fn= create_model, verbose=0)"
   ]
  },
  {
   "cell_type": "code",
   "execution_count": 88,
   "metadata": {},
   "outputs": [
    {
     "name": "stdout",
     "output_type": "stream",
     "text": [
      "스코어 : 0.662864 사용한 조합 :{'activation': 'relu', 'init_mode': 'zero'}\n",
      "0.613310 (0.085532) with : {'activation': 'softmax', 'init_mode': 'uniform'}\n",
      "0.515491 (0.147172) with : {'activation': 'softmax', 'init_mode': 'lecun_uniform'}\n",
      "0.600314 (0.091357) with : {'activation': 'softmax', 'init_mode': 'normal'}\n",
      "0.651159 (0.052445) with : {'activation': 'softmax', 'init_mode': 'zero'}\n",
      "0.502742 (0.159643) with : {'activation': 'softmax', 'init_mode': 'glorot_normal'}\n",
      "0.588643 (0.104792) with : {'activation': 'softmax', 'init_mode': 'glorot_uniform'}\n",
      "0.476267 (0.123438) with : {'activation': 'softmax', 'init_mode': 'he_normal'}\n",
      "0.445370 (0.144108) with : {'activation': 'softmax', 'init_mode': 'he_uniform'}\n",
      "0.533826 (0.084468) with : {'activation': 'softplus', 'init_mode': 'uniform'}\n",
      "0.530923 (0.136060) with : {'activation': 'softplus', 'init_mode': 'lecun_uniform'}\n",
      "0.568084 (0.152623) with : {'activation': 'softplus', 'init_mode': 'normal'}\n",
      "0.643332 (0.048742) with : {'activation': 'softplus', 'init_mode': 'zero'}\n",
      "0.528945 (0.120571) with : {'activation': 'softplus', 'init_mode': 'glorot_normal'}\n",
      "0.486860 (0.096840) with : {'activation': 'softplus', 'init_mode': 'glorot_uniform'}\n",
      "0.472710 (0.099468) with : {'activation': 'softplus', 'init_mode': 'he_normal'}\n",
      "0.541626 (0.069815) with : {'activation': 'softplus', 'init_mode': 'he_uniform'}\n",
      "0.649843 (0.051376) with : {'activation': 'softsign', 'init_mode': 'uniform'}\n",
      "0.627791 (0.089371) with : {'activation': 'softsign', 'init_mode': 'lecun_uniform'}\n",
      "0.648570 (0.055569) with : {'activation': 'softsign', 'init_mode': 'normal'}\n",
      "0.651159 (0.052445) with : {'activation': 'softsign', 'init_mode': 'zero'}\n",
      "0.519514 (0.110484) with : {'activation': 'softsign', 'init_mode': 'glorot_normal'}\n",
      "0.502462 (0.147569) with : {'activation': 'softsign', 'init_mode': 'glorot_uniform'}\n",
      "0.535014 (0.143017) with : {'activation': 'softsign', 'init_mode': 'he_normal'}\n",
      "0.441312 (0.106228) with : {'activation': 'softsign', 'init_mode': 'he_uniform'}\n",
      "0.580791 (0.074152) with : {'activation': 'relu', 'init_mode': 'uniform'}\n",
      "0.506341 (0.116244) with : {'activation': 'relu', 'init_mode': 'lecun_uniform'}\n",
      "0.486639 (0.128641) with : {'activation': 'relu', 'init_mode': 'normal'}\n",
      "0.662864 (0.044472) with : {'activation': 'relu', 'init_mode': 'zero'}\n",
      "0.492157 (0.112263) with : {'activation': 'relu', 'init_mode': 'glorot_normal'}\n",
      "0.414014 (0.065579) with : {'activation': 'relu', 'init_mode': 'glorot_uniform'}\n",
      "0.428172 (0.131279) with : {'activation': 'relu', 'init_mode': 'he_normal'}\n",
      "0.507665 (0.141957) with : {'activation': 'relu', 'init_mode': 'he_uniform'}\n",
      "0.640769 (0.057188) with : {'activation': 'tanh', 'init_mode': 'uniform'}\n",
      "0.580927 (0.108398) with : {'activation': 'tanh', 'init_mode': 'lecun_uniform'}\n",
      "0.627655 (0.066750) with : {'activation': 'tanh', 'init_mode': 'normal'}\n",
      "0.651159 (0.052445) with : {'activation': 'tanh', 'init_mode': 'zero'}\n",
      "0.561260 (0.056909) with : {'activation': 'tanh', 'init_mode': 'glorot_normal'}\n",
      "0.532756 (0.092564) with : {'activation': 'tanh', 'init_mode': 'glorot_uniform'}\n",
      "0.520813 (0.119753) with : {'activation': 'tanh', 'init_mode': 'he_normal'}\n",
      "0.572863 (0.064592) with : {'activation': 'tanh', 'init_mode': 'he_uniform'}\n",
      "0.642017 (0.038911) with : {'activation': 'sigmoid', 'init_mode': 'uniform'}\n",
      "0.546668 (0.098122) with : {'activation': 'sigmoid', 'init_mode': 'lecun_uniform'}\n",
      "0.528648 (0.099298) with : {'activation': 'sigmoid', 'init_mode': 'normal'}\n",
      "0.651159 (0.052445) with : {'activation': 'sigmoid', 'init_mode': 'zero'}\n",
      "0.597827 (0.093526) with : {'activation': 'sigmoid', 'init_mode': 'glorot_normal'}\n",
      "0.571938 (0.130690) with : {'activation': 'sigmoid', 'init_mode': 'glorot_uniform'}\n",
      "0.449537 (0.145772) with : {'activation': 'sigmoid', 'init_mode': 'he_normal'}\n",
      "0.532620 (0.140559) with : {'activation': 'sigmoid', 'init_mode': 'he_uniform'}\n",
      "0.651159 (0.052445) with : {'activation': 'hard_sigmoid', 'init_mode': 'uniform'}\n",
      "0.601808 (0.123701) with : {'activation': 'hard_sigmoid', 'init_mode': 'lecun_uniform'}\n",
      "0.558688 (0.125359) with : {'activation': 'hard_sigmoid', 'init_mode': 'normal'}\n",
      "0.651159 (0.052445) with : {'activation': 'hard_sigmoid', 'init_mode': 'zero'}\n",
      "0.539470 (0.139477) with : {'activation': 'hard_sigmoid', 'init_mode': 'glorot_normal'}\n",
      "0.488549 (0.129009) with : {'activation': 'hard_sigmoid', 'init_mode': 'glorot_uniform'}\n",
      "0.416425 (0.110194) with : {'activation': 'hard_sigmoid', 'init_mode': 'he_normal'}\n",
      "0.488490 (0.147277) with : {'activation': 'hard_sigmoid', 'init_mode': 'he_uniform'}\n",
      "0.603005 (0.079574) with : {'activation': 'linear', 'init_mode': 'uniform'}\n",
      "0.559902 (0.074311) with : {'activation': 'linear', 'init_mode': 'lecun_uniform'}\n",
      "0.527527 (0.066203) with : {'activation': 'linear', 'init_mode': 'normal'}\n",
      "0.649851 (0.045718) with : {'activation': 'linear', 'init_mode': 'zero'}\n",
      "0.531432 (0.089831) with : {'activation': 'linear', 'init_mode': 'glorot_normal'}\n",
      "0.507920 (0.129806) with : {'activation': 'linear', 'init_mode': 'glorot_uniform'}\n",
      "0.535260 (0.096743) with : {'activation': 'linear', 'init_mode': 'he_normal'}\n",
      "0.518224 (0.134933) with : {'activation': 'linear', 'init_mode': 'he_uniform'}\n"
     ]
    }
   ],
   "source": [
    "# 매개 변수 입력 형태는 dict \n",
    "param_grid = dict(init_mode= init_mode, activation = activation)\n",
    "grid = GridSearchCV(estimator =model , param_grid = param_grid\n",
    "                    , n_jobs=-1) # 참여 cpu 개수 \n",
    "grid_result = grid.fit(X,Y)\n",
    "print(\"스코어 : %f 사용한 조합 :%s\" % (grid_result.best_score_,\n",
    "                               grid_result.best_params_))\n",
    "means = grid_result.cv_results_['mean_test_score']\n",
    "stds = grid_result.cv_results_['std_test_score']\n",
    "params = grid_result.cv_results_['params']\n",
    "for mean, stdev, param in zip(means, stds, params):\n",
    "    print(\"%f (%f) with : %r\" %(mean,stdev,param))"
   ]
  },
  {
   "cell_type": "code",
   "execution_count": 96,
   "metadata": {
    "collapsed": true
   },
   "outputs": [
    {
     "ename": "KeyboardInterrupt",
     "evalue": "",
     "output_type": "error",
     "traceback": [
      "\u001b[1;31m---------------------------------------------------------------------------\u001b[0m",
      "\u001b[1;31mKeyboardInterrupt\u001b[0m                         Traceback (most recent call last)",
      "\u001b[1;32m<ipython-input-96-b350453d70f0>\u001b[0m in \u001b[0;36m<module>\u001b[1;34m\u001b[0m\n\u001b[0;32m     36\u001b[0m \u001b[0mgrid\u001b[0m \u001b[1;33m=\u001b[0m \u001b[0mGridSearchCV\u001b[0m\u001b[1;33m(\u001b[0m\u001b[0mestimator\u001b[0m\u001b[1;33m=\u001b[0m\u001b[0mmodel\u001b[0m\u001b[1;33m,\u001b[0m \u001b[0mparam_grid\u001b[0m\u001b[1;33m=\u001b[0m\u001b[0mparam_grid\u001b[0m\u001b[1;33m,\u001b[0m \u001b[0mn_jobs\u001b[0m\u001b[1;33m=\u001b[0m\u001b[1;33m-\u001b[0m\u001b[1;36m1\u001b[0m\u001b[1;33m,\u001b[0m \u001b[0mcv\u001b[0m\u001b[1;33m=\u001b[0m\u001b[1;36m3\u001b[0m\u001b[1;33m)\u001b[0m\u001b[1;33m\u001b[0m\u001b[1;33m\u001b[0m\u001b[0m\n\u001b[0;32m     37\u001b[0m \u001b[1;31m# 변동 매개변수\u001b[0m\u001b[1;33m\u001b[0m\u001b[1;33m\u001b[0m\u001b[1;33m\u001b[0m\u001b[0m\n\u001b[1;32m---> 38\u001b[1;33m \u001b[0mgrid_result\u001b[0m \u001b[1;33m=\u001b[0m \u001b[0mgrid\u001b[0m\u001b[1;33m.\u001b[0m\u001b[0mfit\u001b[0m\u001b[1;33m(\u001b[0m\u001b[0mX\u001b[0m\u001b[1;33m,\u001b[0m \u001b[0mY\u001b[0m\u001b[1;33m,\u001b[0m \u001b[1;33m**\u001b[0m\u001b[0mfit_params\u001b[0m\u001b[1;33m)\u001b[0m\u001b[1;33m\u001b[0m\u001b[1;33m\u001b[0m\u001b[0m\n\u001b[0m\u001b[0;32m     39\u001b[0m \u001b[1;31m# summarize results\u001b[0m\u001b[1;33m\u001b[0m\u001b[1;33m\u001b[0m\u001b[1;33m\u001b[0m\u001b[0m\n\u001b[0;32m     40\u001b[0m \u001b[0mprint\u001b[0m\u001b[1;33m(\u001b[0m\u001b[1;34m\"Best: %f using %s\"\u001b[0m \u001b[1;33m%\u001b[0m \u001b[1;33m(\u001b[0m\u001b[0mgrid_result\u001b[0m\u001b[1;33m.\u001b[0m\u001b[0mbest_score_\u001b[0m\u001b[1;33m,\u001b[0m \u001b[0mgrid_result\u001b[0m\u001b[1;33m.\u001b[0m\u001b[0mbest_params_\u001b[0m\u001b[1;33m)\u001b[0m\u001b[1;33m)\u001b[0m\u001b[1;33m\u001b[0m\u001b[1;33m\u001b[0m\u001b[0m\n",
      "\u001b[1;32m~\\Anaconda3\\envs\\tf_test\\lib\\site-packages\\sklearn\\model_selection\\_search.py\u001b[0m in \u001b[0;36mfit\u001b[1;34m(self, X, y, groups, **fit_params)\u001b[0m\n\u001b[0;32m    708\u001b[0m                 \u001b[1;32mreturn\u001b[0m \u001b[0mresults\u001b[0m\u001b[1;33m\u001b[0m\u001b[1;33m\u001b[0m\u001b[0m\n\u001b[0;32m    709\u001b[0m \u001b[1;33m\u001b[0m\u001b[0m\n\u001b[1;32m--> 710\u001b[1;33m             \u001b[0mself\u001b[0m\u001b[1;33m.\u001b[0m\u001b[0m_run_search\u001b[0m\u001b[1;33m(\u001b[0m\u001b[0mevaluate_candidates\u001b[0m\u001b[1;33m)\u001b[0m\u001b[1;33m\u001b[0m\u001b[1;33m\u001b[0m\u001b[0m\n\u001b[0m\u001b[0;32m    711\u001b[0m \u001b[1;33m\u001b[0m\u001b[0m\n\u001b[0;32m    712\u001b[0m         \u001b[1;31m# For multi-metric evaluation, store the best_index_, best_params_ and\u001b[0m\u001b[1;33m\u001b[0m\u001b[1;33m\u001b[0m\u001b[1;33m\u001b[0m\u001b[0m\n",
      "\u001b[1;32m~\\Anaconda3\\envs\\tf_test\\lib\\site-packages\\sklearn\\model_selection\\_search.py\u001b[0m in \u001b[0;36m_run_search\u001b[1;34m(self, evaluate_candidates)\u001b[0m\n\u001b[0;32m   1149\u001b[0m     \u001b[1;32mdef\u001b[0m \u001b[0m_run_search\u001b[0m\u001b[1;33m(\u001b[0m\u001b[0mself\u001b[0m\u001b[1;33m,\u001b[0m \u001b[0mevaluate_candidates\u001b[0m\u001b[1;33m)\u001b[0m\u001b[1;33m:\u001b[0m\u001b[1;33m\u001b[0m\u001b[1;33m\u001b[0m\u001b[0m\n\u001b[0;32m   1150\u001b[0m         \u001b[1;34m\"\"\"Search all candidates in param_grid\"\"\"\u001b[0m\u001b[1;33m\u001b[0m\u001b[1;33m\u001b[0m\u001b[0m\n\u001b[1;32m-> 1151\u001b[1;33m         \u001b[0mevaluate_candidates\u001b[0m\u001b[1;33m(\u001b[0m\u001b[0mParameterGrid\u001b[0m\u001b[1;33m(\u001b[0m\u001b[0mself\u001b[0m\u001b[1;33m.\u001b[0m\u001b[0mparam_grid\u001b[0m\u001b[1;33m)\u001b[0m\u001b[1;33m)\u001b[0m\u001b[1;33m\u001b[0m\u001b[1;33m\u001b[0m\u001b[0m\n\u001b[0m\u001b[0;32m   1152\u001b[0m \u001b[1;33m\u001b[0m\u001b[0m\n\u001b[0;32m   1153\u001b[0m \u001b[1;33m\u001b[0m\u001b[0m\n",
      "\u001b[1;32m~\\Anaconda3\\envs\\tf_test\\lib\\site-packages\\sklearn\\model_selection\\_search.py\u001b[0m in \u001b[0;36mevaluate_candidates\u001b[1;34m(candidate_params)\u001b[0m\n\u001b[0;32m    687\u001b[0m                                \u001b[1;32mfor\u001b[0m \u001b[0mparameters\u001b[0m\u001b[1;33m,\u001b[0m \u001b[1;33m(\u001b[0m\u001b[0mtrain\u001b[0m\u001b[1;33m,\u001b[0m \u001b[0mtest\u001b[0m\u001b[1;33m)\u001b[0m\u001b[1;33m\u001b[0m\u001b[1;33m\u001b[0m\u001b[0m\n\u001b[0;32m    688\u001b[0m                                in product(candidate_params,\n\u001b[1;32m--> 689\u001b[1;33m                                           cv.split(X, y, groups)))\n\u001b[0m\u001b[0;32m    690\u001b[0m \u001b[1;33m\u001b[0m\u001b[0m\n\u001b[0;32m    691\u001b[0m                 \u001b[1;32mif\u001b[0m \u001b[0mlen\u001b[0m\u001b[1;33m(\u001b[0m\u001b[0mout\u001b[0m\u001b[1;33m)\u001b[0m \u001b[1;33m<\u001b[0m \u001b[1;36m1\u001b[0m\u001b[1;33m:\u001b[0m\u001b[1;33m\u001b[0m\u001b[1;33m\u001b[0m\u001b[0m\n",
      "\u001b[1;32m~\\Anaconda3\\envs\\tf_test\\lib\\site-packages\\joblib\\parallel.py\u001b[0m in \u001b[0;36m__call__\u001b[1;34m(self, iterable)\u001b[0m\n\u001b[0;32m   1015\u001b[0m \u001b[1;33m\u001b[0m\u001b[0m\n\u001b[0;32m   1016\u001b[0m             \u001b[1;32mwith\u001b[0m \u001b[0mself\u001b[0m\u001b[1;33m.\u001b[0m\u001b[0m_backend\u001b[0m\u001b[1;33m.\u001b[0m\u001b[0mretrieval_context\u001b[0m\u001b[1;33m(\u001b[0m\u001b[1;33m)\u001b[0m\u001b[1;33m:\u001b[0m\u001b[1;33m\u001b[0m\u001b[1;33m\u001b[0m\u001b[0m\n\u001b[1;32m-> 1017\u001b[1;33m                 \u001b[0mself\u001b[0m\u001b[1;33m.\u001b[0m\u001b[0mretrieve\u001b[0m\u001b[1;33m(\u001b[0m\u001b[1;33m)\u001b[0m\u001b[1;33m\u001b[0m\u001b[1;33m\u001b[0m\u001b[0m\n\u001b[0m\u001b[0;32m   1018\u001b[0m             \u001b[1;31m# Make sure that we get a last message telling us we are done\u001b[0m\u001b[1;33m\u001b[0m\u001b[1;33m\u001b[0m\u001b[1;33m\u001b[0m\u001b[0m\n\u001b[0;32m   1019\u001b[0m             \u001b[0melapsed_time\u001b[0m \u001b[1;33m=\u001b[0m \u001b[0mtime\u001b[0m\u001b[1;33m.\u001b[0m\u001b[0mtime\u001b[0m\u001b[1;33m(\u001b[0m\u001b[1;33m)\u001b[0m \u001b[1;33m-\u001b[0m \u001b[0mself\u001b[0m\u001b[1;33m.\u001b[0m\u001b[0m_start_time\u001b[0m\u001b[1;33m\u001b[0m\u001b[1;33m\u001b[0m\u001b[0m\n",
      "\u001b[1;32m~\\Anaconda3\\envs\\tf_test\\lib\\site-packages\\joblib\\parallel.py\u001b[0m in \u001b[0;36mretrieve\u001b[1;34m(self)\u001b[0m\n\u001b[0;32m    907\u001b[0m             \u001b[1;32mtry\u001b[0m\u001b[1;33m:\u001b[0m\u001b[1;33m\u001b[0m\u001b[1;33m\u001b[0m\u001b[0m\n\u001b[0;32m    908\u001b[0m                 \u001b[1;32mif\u001b[0m \u001b[0mgetattr\u001b[0m\u001b[1;33m(\u001b[0m\u001b[0mself\u001b[0m\u001b[1;33m.\u001b[0m\u001b[0m_backend\u001b[0m\u001b[1;33m,\u001b[0m \u001b[1;34m'supports_timeout'\u001b[0m\u001b[1;33m,\u001b[0m \u001b[1;32mFalse\u001b[0m\u001b[1;33m)\u001b[0m\u001b[1;33m:\u001b[0m\u001b[1;33m\u001b[0m\u001b[1;33m\u001b[0m\u001b[0m\n\u001b[1;32m--> 909\u001b[1;33m                     \u001b[0mself\u001b[0m\u001b[1;33m.\u001b[0m\u001b[0m_output\u001b[0m\u001b[1;33m.\u001b[0m\u001b[0mextend\u001b[0m\u001b[1;33m(\u001b[0m\u001b[0mjob\u001b[0m\u001b[1;33m.\u001b[0m\u001b[0mget\u001b[0m\u001b[1;33m(\u001b[0m\u001b[0mtimeout\u001b[0m\u001b[1;33m=\u001b[0m\u001b[0mself\u001b[0m\u001b[1;33m.\u001b[0m\u001b[0mtimeout\u001b[0m\u001b[1;33m)\u001b[0m\u001b[1;33m)\u001b[0m\u001b[1;33m\u001b[0m\u001b[1;33m\u001b[0m\u001b[0m\n\u001b[0m\u001b[0;32m    910\u001b[0m                 \u001b[1;32melse\u001b[0m\u001b[1;33m:\u001b[0m\u001b[1;33m\u001b[0m\u001b[1;33m\u001b[0m\u001b[0m\n\u001b[0;32m    911\u001b[0m                     \u001b[0mself\u001b[0m\u001b[1;33m.\u001b[0m\u001b[0m_output\u001b[0m\u001b[1;33m.\u001b[0m\u001b[0mextend\u001b[0m\u001b[1;33m(\u001b[0m\u001b[0mjob\u001b[0m\u001b[1;33m.\u001b[0m\u001b[0mget\u001b[0m\u001b[1;33m(\u001b[0m\u001b[1;33m)\u001b[0m\u001b[1;33m)\u001b[0m\u001b[1;33m\u001b[0m\u001b[1;33m\u001b[0m\u001b[0m\n",
      "\u001b[1;32m~\\Anaconda3\\envs\\tf_test\\lib\\site-packages\\joblib\\_parallel_backends.py\u001b[0m in \u001b[0;36mwrap_future_result\u001b[1;34m(future, timeout)\u001b[0m\n\u001b[0;32m    560\u001b[0m         AsyncResults.get from multiprocessing.\"\"\"\n\u001b[0;32m    561\u001b[0m         \u001b[1;32mtry\u001b[0m\u001b[1;33m:\u001b[0m\u001b[1;33m\u001b[0m\u001b[1;33m\u001b[0m\u001b[0m\n\u001b[1;32m--> 562\u001b[1;33m             \u001b[1;32mreturn\u001b[0m \u001b[0mfuture\u001b[0m\u001b[1;33m.\u001b[0m\u001b[0mresult\u001b[0m\u001b[1;33m(\u001b[0m\u001b[0mtimeout\u001b[0m\u001b[1;33m=\u001b[0m\u001b[0mtimeout\u001b[0m\u001b[1;33m)\u001b[0m\u001b[1;33m\u001b[0m\u001b[1;33m\u001b[0m\u001b[0m\n\u001b[0m\u001b[0;32m    563\u001b[0m         \u001b[1;32mexcept\u001b[0m \u001b[0mLokyTimeoutError\u001b[0m\u001b[1;33m:\u001b[0m\u001b[1;33m\u001b[0m\u001b[1;33m\u001b[0m\u001b[0m\n\u001b[0;32m    564\u001b[0m             \u001b[1;32mraise\u001b[0m \u001b[0mTimeoutError\u001b[0m\u001b[1;33m(\u001b[0m\u001b[1;33m)\u001b[0m\u001b[1;33m\u001b[0m\u001b[1;33m\u001b[0m\u001b[0m\n",
      "\u001b[1;32m~\\Anaconda3\\envs\\tf_test\\lib\\concurrent\\futures\\_base.py\u001b[0m in \u001b[0;36mresult\u001b[1;34m(self, timeout)\u001b[0m\n\u001b[0;32m    428\u001b[0m                 \u001b[1;32mreturn\u001b[0m \u001b[0mself\u001b[0m\u001b[1;33m.\u001b[0m\u001b[0m__get_result\u001b[0m\u001b[1;33m(\u001b[0m\u001b[1;33m)\u001b[0m\u001b[1;33m\u001b[0m\u001b[1;33m\u001b[0m\u001b[0m\n\u001b[0;32m    429\u001b[0m \u001b[1;33m\u001b[0m\u001b[0m\n\u001b[1;32m--> 430\u001b[1;33m             \u001b[0mself\u001b[0m\u001b[1;33m.\u001b[0m\u001b[0m_condition\u001b[0m\u001b[1;33m.\u001b[0m\u001b[0mwait\u001b[0m\u001b[1;33m(\u001b[0m\u001b[0mtimeout\u001b[0m\u001b[1;33m)\u001b[0m\u001b[1;33m\u001b[0m\u001b[1;33m\u001b[0m\u001b[0m\n\u001b[0m\u001b[0;32m    431\u001b[0m \u001b[1;33m\u001b[0m\u001b[0m\n\u001b[0;32m    432\u001b[0m             \u001b[1;32mif\u001b[0m \u001b[0mself\u001b[0m\u001b[1;33m.\u001b[0m\u001b[0m_state\u001b[0m \u001b[1;32min\u001b[0m \u001b[1;33m[\u001b[0m\u001b[0mCANCELLED\u001b[0m\u001b[1;33m,\u001b[0m \u001b[0mCANCELLED_AND_NOTIFIED\u001b[0m\u001b[1;33m]\u001b[0m\u001b[1;33m:\u001b[0m\u001b[1;33m\u001b[0m\u001b[1;33m\u001b[0m\u001b[0m\n",
      "\u001b[1;32m~\\Anaconda3\\envs\\tf_test\\lib\\threading.py\u001b[0m in \u001b[0;36mwait\u001b[1;34m(self, timeout)\u001b[0m\n\u001b[0;32m    294\u001b[0m         \u001b[1;32mtry\u001b[0m\u001b[1;33m:\u001b[0m    \u001b[1;31m# restore state no matter what (e.g., KeyboardInterrupt)\u001b[0m\u001b[1;33m\u001b[0m\u001b[1;33m\u001b[0m\u001b[0m\n\u001b[0;32m    295\u001b[0m             \u001b[1;32mif\u001b[0m \u001b[0mtimeout\u001b[0m \u001b[1;32mis\u001b[0m \u001b[1;32mNone\u001b[0m\u001b[1;33m:\u001b[0m\u001b[1;33m\u001b[0m\u001b[1;33m\u001b[0m\u001b[0m\n\u001b[1;32m--> 296\u001b[1;33m                 \u001b[0mwaiter\u001b[0m\u001b[1;33m.\u001b[0m\u001b[0macquire\u001b[0m\u001b[1;33m(\u001b[0m\u001b[1;33m)\u001b[0m\u001b[1;33m\u001b[0m\u001b[1;33m\u001b[0m\u001b[0m\n\u001b[0m\u001b[0;32m    297\u001b[0m                 \u001b[0mgotit\u001b[0m \u001b[1;33m=\u001b[0m \u001b[1;32mTrue\u001b[0m\u001b[1;33m\u001b[0m\u001b[1;33m\u001b[0m\u001b[0m\n\u001b[0;32m    298\u001b[0m             \u001b[1;32melse\u001b[0m\u001b[1;33m:\u001b[0m\u001b[1;33m\u001b[0m\u001b[1;33m\u001b[0m\u001b[0m\n",
      "\u001b[1;31mKeyboardInterrupt\u001b[0m: "
     ]
    }
   ],
   "source": [
    "# Use scikit-learn to grid search the weight initialization\n",
    "import numpy\n",
    "from sklearn.model_selection import GridSearchCV\n",
    "from keras.models import Sequential\n",
    "from keras.layers import Dense, Dropout\n",
    "from keras.wrappers.scikit_learn import KerasClassifier\n",
    "from keras.callbacks import EarlyStopping\n",
    "stopper = EarlyStopping(monitor='var_accuracy', patience=3, verbose=1)\n",
    "# Function to create model, required for KerasClassifier\n",
    "def create_model(init_mode='uniform',optimizer='relu',dropout_rate=0.1):\n",
    "# create model\n",
    "    model = Sequential()\n",
    "    model.add(Dense(12, input_dim=8, kernel_initializer=init_mode, activation=optimizer))\n",
    "    model.add(Dropout(dropout_rate))\n",
    "    model.add(Dense(1))\n",
    "    # Compile model\n",
    "    model.compile(loss='binary_crossentropy', optimizer='adam', metrics=['accuracy'])\n",
    "    return model\n",
    "# fix random seed for reproducibility\n",
    "seed = 7\n",
    "numpy.random.seed(seed)\n",
    "# load dataset\n",
    "dataset = numpy.loadtxt(\"pima.csv\", delimiter=\",\")\n",
    "# split into input (X) and output (Y) variables\n",
    "X = dataset[:,0:8]\n",
    "Y = dataset[:,8]\n",
    "# create model\n",
    "# Earlystopping\n",
    "model = KerasClassifier(build_fn=create_model, epochs=100, batch_size=10, verbose=1)\n",
    "# define the grid search parameters\n",
    "dropout_rate=[0.1,0.2,0.3] # ,0.4,0.5,0.6,0.7,0.8,0.9\n",
    "init_mode = ['uniform', 'lecun_uniform','normal','zero','glorot_normal','glorot_uniform','he_normal','he_uniform']\n",
    "optimizer = ['softmax','relu' , 'softplus', 'softsign','tanh','sigmoid','hard_sigmoid','linear']\n",
    "param_grid = dict(init_mode=init_mode,optimizer=optimizer,dropout_rate=dropout_rate)\n",
    "fit_params = dict(callbacks=[stopper])\n",
    "grid = GridSearchCV(estimator=model, param_grid=param_grid, n_jobs=-1, cv=3)\n",
    "# 변동 매개변수\n",
    "grid_result = grid.fit(X, Y, **fit_params)\n",
    "# summarize results\n",
    "print(\"Best: %f using %s\" % (grid_result.best_score_, grid_result.best_params_))\n",
    "means = grid_result.cv_results_['mean_test_score']\n",
    "stds = grid_result.cv_results_['std_test_score']\n",
    "params = grid_result.cv_results_['params']\n",
    "for mean, stdev, param in zip(means, stds, params):\n",
    "    print(\"%f (%f) with: %r\" % (mean, stdev, param))"
   ]
  },
  {
   "cell_type": "code",
   "execution_count": 48,
   "metadata": {},
   "outputs": [],
   "source": [
    "from keras.models import Sequential\n",
    "from keras.layers import Dense\n",
    "from keras.wrappers.scikit_learn import KerasRegressor\n",
    "from sklearn.model_selection import cross_val_score\n",
    "from sklearn.model_selection import KFold\n",
    "from sklearn.preprocessing import StandardScaler\n",
    "from sklearn.pipeline import Pipeline\n",
    "import pandas\n",
    "import numpy"
   ]
  },
  {
   "cell_type": "code",
   "execution_count": 49,
   "metadata": {},
   "outputs": [],
   "source": [
    "dataframe = pandas.read_csv(\"housing.csv\", delim_whitespace=True, header=None)\n",
    "dataset = dataframe.values\n",
    "X = dataset[:, 0:13]\n",
    "Y = dataset[:, 13]"
   ]
  },
  {
   "cell_type": "code",
   "execution_count": 66,
   "metadata": {},
   "outputs": [],
   "source": [
    "def larger_model():\n",
    "    model = Sequential()\n",
    "    model.add(Dense(13, input_dim=13, kernel_initializer=\"normal\", activation=\"relu\"))\n",
    "    model.add(Dense(6,kernel_initalizer = 'normal', activation ='relu'))\n",
    "    model.add(Dense(1, kernel_initializer=\"normal\"))\n",
    "    model.compile(loss=\"mean_squared_error\", optimizer=\"adam\")\n",
    "    return model"
   ]
  },
  {
   "cell_type": "code",
   "execution_count": 67,
   "metadata": {},
   "outputs": [],
   "source": [
    "def baseline_model():\n",
    "    model = Sequential()\n",
    "    model.add(Dense(13, input_dim=13, kernel_initializer=\"normal\", activation=\"relu\"))\n",
    "    model.add(Dense(1, kernel_initializer=\"normal\"))\n",
    "    model.compile(loss=\"mean_squared_error\", optimizer=\"adam\")\n",
    "    return model"
   ]
  },
  {
   "cell_type": "code",
   "execution_count": 68,
   "metadata": {},
   "outputs": [],
   "source": [
    "def wider_model():\n",
    "    model = Sequential()\n",
    "    model.add(Dense(20,input_dim=20, kernel_initializer=\"normal\", activation=\"relu\"))\n",
    "    model.add(Dense(1, kernel_initializer=\"normal\"))\n",
    "    model.compile(loss=\"mean_squared_error\", optimizer=\"adam\")\n",
    "    return model"
   ]
  },
  {
   "cell_type": "code",
   "execution_count": 60,
   "metadata": {},
   "outputs": [],
   "source": [
    "seed = 7\n",
    "numpy.random.seed(seed)\n",
    "estimator = KerasRegressor(build_fn=baseline_model, nb_epoch=100, batch_size=5, verbose=0)"
   ]
  },
  {
   "cell_type": "code",
   "execution_count": 61,
   "metadata": {
    "scrolled": false
   },
   "outputs": [
    {
     "name": "stdout",
     "output_type": "stream",
     "text": [
      "Results: -101.99 (72.19) MSE\n"
     ]
    }
   ],
   "source": [
    "kfold = KFold(n_splits=10, random_state=seed)\n",
    "results = cross_val_score(estimator, X, Y, cv=kfold)\n",
    "print(\"Results: %.2f (%.2f) MSE\" % (results.mean(), results.std()))"
   ]
  },
  {
   "cell_type": "code",
   "execution_count": 55,
   "metadata": {},
   "outputs": [],
   "source": [
    "numpy.random.seed(7)\n",
    "estimator =  KerasRegressor(build_fn=baseline_model, nb_epoch =100,\n",
    "                           batch_size = 5, verbose = 0)"
   ]
  },
  {
   "cell_type": "code",
   "execution_count": 56,
   "metadata": {},
   "outputs": [
    {
     "ename": "KeyboardInterrupt",
     "evalue": "",
     "output_type": "error",
     "traceback": [
      "\u001b[1;31m---------------------------------------------------------------------------\u001b[0m",
      "\u001b[1;31mKeyboardInterrupt\u001b[0m                         Traceback (most recent call last)",
      "\u001b[1;32m<ipython-input-56-baf19e28662f>\u001b[0m in \u001b[0;36m<module>\u001b[1;34m\u001b[0m\n\u001b[0;32m      6\u001b[0m \u001b[0mpipeline\u001b[0m\u001b[1;33m=\u001b[0m \u001b[0mPipeline\u001b[0m\u001b[1;33m(\u001b[0m\u001b[0mestimators\u001b[0m\u001b[1;33m)\u001b[0m\u001b[1;33m\u001b[0m\u001b[1;33m\u001b[0m\u001b[0m\n\u001b[0;32m      7\u001b[0m \u001b[0mkfold\u001b[0m \u001b[1;33m=\u001b[0m \u001b[0mKFold\u001b[0m\u001b[1;33m(\u001b[0m\u001b[0mn_splits\u001b[0m \u001b[1;33m=\u001b[0m\u001b[1;36m10\u001b[0m \u001b[1;33m,\u001b[0m \u001b[0mrandom_state\u001b[0m \u001b[1;33m=\u001b[0m \u001b[1;36m7\u001b[0m\u001b[1;33m)\u001b[0m\u001b[1;33m\u001b[0m\u001b[1;33m\u001b[0m\u001b[0m\n\u001b[1;32m----> 8\u001b[1;33m \u001b[0mresults\u001b[0m \u001b[1;33m=\u001b[0m \u001b[0mcross_val_score\u001b[0m\u001b[1;33m(\u001b[0m\u001b[0mpipeline\u001b[0m\u001b[1;33m,\u001b[0m \u001b[0mX\u001b[0m\u001b[1;33m,\u001b[0m \u001b[0mY\u001b[0m \u001b[1;33m,\u001b[0m \u001b[0mcv\u001b[0m \u001b[1;33m=\u001b[0m \u001b[0mkfold\u001b[0m\u001b[1;33m)\u001b[0m\u001b[1;33m\u001b[0m\u001b[1;33m\u001b[0m\u001b[0m\n\u001b[0m\u001b[0;32m      9\u001b[0m print(\"standardized : %.2f(%.2f) mse\" % (results.mean(),\n\u001b[0;32m     10\u001b[0m                                         results.std()))\n",
      "\u001b[1;32m~\\Anaconda3\\envs\\tf_test\\lib\\site-packages\\sklearn\\model_selection\\_validation.py\u001b[0m in \u001b[0;36mcross_val_score\u001b[1;34m(estimator, X, y, groups, scoring, cv, n_jobs, verbose, fit_params, pre_dispatch, error_score)\u001b[0m\n\u001b[0;32m    388\u001b[0m                                 \u001b[0mfit_params\u001b[0m\u001b[1;33m=\u001b[0m\u001b[0mfit_params\u001b[0m\u001b[1;33m,\u001b[0m\u001b[1;33m\u001b[0m\u001b[1;33m\u001b[0m\u001b[0m\n\u001b[0;32m    389\u001b[0m                                 \u001b[0mpre_dispatch\u001b[0m\u001b[1;33m=\u001b[0m\u001b[0mpre_dispatch\u001b[0m\u001b[1;33m,\u001b[0m\u001b[1;33m\u001b[0m\u001b[1;33m\u001b[0m\u001b[0m\n\u001b[1;32m--> 390\u001b[1;33m                                 error_score=error_score)\n\u001b[0m\u001b[0;32m    391\u001b[0m     \u001b[1;32mreturn\u001b[0m \u001b[0mcv_results\u001b[0m\u001b[1;33m[\u001b[0m\u001b[1;34m'test_score'\u001b[0m\u001b[1;33m]\u001b[0m\u001b[1;33m\u001b[0m\u001b[1;33m\u001b[0m\u001b[0m\n\u001b[0;32m    392\u001b[0m \u001b[1;33m\u001b[0m\u001b[0m\n",
      "\u001b[1;32m~\\Anaconda3\\envs\\tf_test\\lib\\site-packages\\sklearn\\model_selection\\_validation.py\u001b[0m in \u001b[0;36mcross_validate\u001b[1;34m(estimator, X, y, groups, scoring, cv, n_jobs, verbose, fit_params, pre_dispatch, return_train_score, return_estimator, error_score)\u001b[0m\n\u001b[0;32m    234\u001b[0m             \u001b[0mreturn_times\u001b[0m\u001b[1;33m=\u001b[0m\u001b[1;32mTrue\u001b[0m\u001b[1;33m,\u001b[0m \u001b[0mreturn_estimator\u001b[0m\u001b[1;33m=\u001b[0m\u001b[0mreturn_estimator\u001b[0m\u001b[1;33m,\u001b[0m\u001b[1;33m\u001b[0m\u001b[1;33m\u001b[0m\u001b[0m\n\u001b[0;32m    235\u001b[0m             error_score=error_score)\n\u001b[1;32m--> 236\u001b[1;33m         for train, test in cv.split(X, y, groups))\n\u001b[0m\u001b[0;32m    237\u001b[0m \u001b[1;33m\u001b[0m\u001b[0m\n\u001b[0;32m    238\u001b[0m     \u001b[0mzipped_scores\u001b[0m \u001b[1;33m=\u001b[0m \u001b[0mlist\u001b[0m\u001b[1;33m(\u001b[0m\u001b[0mzip\u001b[0m\u001b[1;33m(\u001b[0m\u001b[1;33m*\u001b[0m\u001b[0mscores\u001b[0m\u001b[1;33m)\u001b[0m\u001b[1;33m)\u001b[0m\u001b[1;33m\u001b[0m\u001b[1;33m\u001b[0m\u001b[0m\n",
      "\u001b[1;32m~\\Anaconda3\\envs\\tf_test\\lib\\site-packages\\joblib\\parallel.py\u001b[0m in \u001b[0;36m__call__\u001b[1;34m(self, iterable)\u001b[0m\n\u001b[0;32m   1005\u001b[0m                 \u001b[0mself\u001b[0m\u001b[1;33m.\u001b[0m\u001b[0m_iterating\u001b[0m \u001b[1;33m=\u001b[0m \u001b[0mself\u001b[0m\u001b[1;33m.\u001b[0m\u001b[0m_original_iterator\u001b[0m \u001b[1;32mis\u001b[0m \u001b[1;32mnot\u001b[0m \u001b[1;32mNone\u001b[0m\u001b[1;33m\u001b[0m\u001b[1;33m\u001b[0m\u001b[0m\n\u001b[0;32m   1006\u001b[0m \u001b[1;33m\u001b[0m\u001b[0m\n\u001b[1;32m-> 1007\u001b[1;33m             \u001b[1;32mwhile\u001b[0m \u001b[0mself\u001b[0m\u001b[1;33m.\u001b[0m\u001b[0mdispatch_one_batch\u001b[0m\u001b[1;33m(\u001b[0m\u001b[0miterator\u001b[0m\u001b[1;33m)\u001b[0m\u001b[1;33m:\u001b[0m\u001b[1;33m\u001b[0m\u001b[1;33m\u001b[0m\u001b[0m\n\u001b[0m\u001b[0;32m   1008\u001b[0m                 \u001b[1;32mpass\u001b[0m\u001b[1;33m\u001b[0m\u001b[1;33m\u001b[0m\u001b[0m\n\u001b[0;32m   1009\u001b[0m \u001b[1;33m\u001b[0m\u001b[0m\n",
      "\u001b[1;32m~\\Anaconda3\\envs\\tf_test\\lib\\site-packages\\joblib\\parallel.py\u001b[0m in \u001b[0;36mdispatch_one_batch\u001b[1;34m(self, iterator)\u001b[0m\n\u001b[0;32m    833\u001b[0m                 \u001b[1;32mreturn\u001b[0m \u001b[1;32mFalse\u001b[0m\u001b[1;33m\u001b[0m\u001b[1;33m\u001b[0m\u001b[0m\n\u001b[0;32m    834\u001b[0m             \u001b[1;32melse\u001b[0m\u001b[1;33m:\u001b[0m\u001b[1;33m\u001b[0m\u001b[1;33m\u001b[0m\u001b[0m\n\u001b[1;32m--> 835\u001b[1;33m                 \u001b[0mself\u001b[0m\u001b[1;33m.\u001b[0m\u001b[0m_dispatch\u001b[0m\u001b[1;33m(\u001b[0m\u001b[0mtasks\u001b[0m\u001b[1;33m)\u001b[0m\u001b[1;33m\u001b[0m\u001b[1;33m\u001b[0m\u001b[0m\n\u001b[0m\u001b[0;32m    836\u001b[0m                 \u001b[1;32mreturn\u001b[0m \u001b[1;32mTrue\u001b[0m\u001b[1;33m\u001b[0m\u001b[1;33m\u001b[0m\u001b[0m\n\u001b[0;32m    837\u001b[0m \u001b[1;33m\u001b[0m\u001b[0m\n",
      "\u001b[1;32m~\\Anaconda3\\envs\\tf_test\\lib\\site-packages\\joblib\\parallel.py\u001b[0m in \u001b[0;36m_dispatch\u001b[1;34m(self, batch)\u001b[0m\n\u001b[0;32m    752\u001b[0m         \u001b[1;32mwith\u001b[0m \u001b[0mself\u001b[0m\u001b[1;33m.\u001b[0m\u001b[0m_lock\u001b[0m\u001b[1;33m:\u001b[0m\u001b[1;33m\u001b[0m\u001b[1;33m\u001b[0m\u001b[0m\n\u001b[0;32m    753\u001b[0m             \u001b[0mjob_idx\u001b[0m \u001b[1;33m=\u001b[0m \u001b[0mlen\u001b[0m\u001b[1;33m(\u001b[0m\u001b[0mself\u001b[0m\u001b[1;33m.\u001b[0m\u001b[0m_jobs\u001b[0m\u001b[1;33m)\u001b[0m\u001b[1;33m\u001b[0m\u001b[1;33m\u001b[0m\u001b[0m\n\u001b[1;32m--> 754\u001b[1;33m             \u001b[0mjob\u001b[0m \u001b[1;33m=\u001b[0m \u001b[0mself\u001b[0m\u001b[1;33m.\u001b[0m\u001b[0m_backend\u001b[0m\u001b[1;33m.\u001b[0m\u001b[0mapply_async\u001b[0m\u001b[1;33m(\u001b[0m\u001b[0mbatch\u001b[0m\u001b[1;33m,\u001b[0m \u001b[0mcallback\u001b[0m\u001b[1;33m=\u001b[0m\u001b[0mcb\u001b[0m\u001b[1;33m)\u001b[0m\u001b[1;33m\u001b[0m\u001b[1;33m\u001b[0m\u001b[0m\n\u001b[0m\u001b[0;32m    755\u001b[0m             \u001b[1;31m# A job can complete so quickly than its callback is\u001b[0m\u001b[1;33m\u001b[0m\u001b[1;33m\u001b[0m\u001b[1;33m\u001b[0m\u001b[0m\n\u001b[0;32m    756\u001b[0m             \u001b[1;31m# called before we get here, causing self._jobs to\u001b[0m\u001b[1;33m\u001b[0m\u001b[1;33m\u001b[0m\u001b[1;33m\u001b[0m\u001b[0m\n",
      "\u001b[1;32m~\\Anaconda3\\envs\\tf_test\\lib\\site-packages\\joblib\\_parallel_backends.py\u001b[0m in \u001b[0;36mapply_async\u001b[1;34m(self, func, callback)\u001b[0m\n\u001b[0;32m    207\u001b[0m     \u001b[1;32mdef\u001b[0m \u001b[0mapply_async\u001b[0m\u001b[1;33m(\u001b[0m\u001b[0mself\u001b[0m\u001b[1;33m,\u001b[0m \u001b[0mfunc\u001b[0m\u001b[1;33m,\u001b[0m \u001b[0mcallback\u001b[0m\u001b[1;33m=\u001b[0m\u001b[1;32mNone\u001b[0m\u001b[1;33m)\u001b[0m\u001b[1;33m:\u001b[0m\u001b[1;33m\u001b[0m\u001b[1;33m\u001b[0m\u001b[0m\n\u001b[0;32m    208\u001b[0m         \u001b[1;34m\"\"\"Schedule a func to be run\"\"\"\u001b[0m\u001b[1;33m\u001b[0m\u001b[1;33m\u001b[0m\u001b[0m\n\u001b[1;32m--> 209\u001b[1;33m         \u001b[0mresult\u001b[0m \u001b[1;33m=\u001b[0m \u001b[0mImmediateResult\u001b[0m\u001b[1;33m(\u001b[0m\u001b[0mfunc\u001b[0m\u001b[1;33m)\u001b[0m\u001b[1;33m\u001b[0m\u001b[1;33m\u001b[0m\u001b[0m\n\u001b[0m\u001b[0;32m    210\u001b[0m         \u001b[1;32mif\u001b[0m \u001b[0mcallback\u001b[0m\u001b[1;33m:\u001b[0m\u001b[1;33m\u001b[0m\u001b[1;33m\u001b[0m\u001b[0m\n\u001b[0;32m    211\u001b[0m             \u001b[0mcallback\u001b[0m\u001b[1;33m(\u001b[0m\u001b[0mresult\u001b[0m\u001b[1;33m)\u001b[0m\u001b[1;33m\u001b[0m\u001b[1;33m\u001b[0m\u001b[0m\n",
      "\u001b[1;32m~\\Anaconda3\\envs\\tf_test\\lib\\site-packages\\joblib\\_parallel_backends.py\u001b[0m in \u001b[0;36m__init__\u001b[1;34m(self, batch)\u001b[0m\n\u001b[0;32m    588\u001b[0m         \u001b[1;31m# Don't delay the application, to avoid keeping the input\u001b[0m\u001b[1;33m\u001b[0m\u001b[1;33m\u001b[0m\u001b[1;33m\u001b[0m\u001b[0m\n\u001b[0;32m    589\u001b[0m         \u001b[1;31m# arguments in memory\u001b[0m\u001b[1;33m\u001b[0m\u001b[1;33m\u001b[0m\u001b[1;33m\u001b[0m\u001b[0m\n\u001b[1;32m--> 590\u001b[1;33m         \u001b[0mself\u001b[0m\u001b[1;33m.\u001b[0m\u001b[0mresults\u001b[0m \u001b[1;33m=\u001b[0m \u001b[0mbatch\u001b[0m\u001b[1;33m(\u001b[0m\u001b[1;33m)\u001b[0m\u001b[1;33m\u001b[0m\u001b[1;33m\u001b[0m\u001b[0m\n\u001b[0m\u001b[0;32m    591\u001b[0m \u001b[1;33m\u001b[0m\u001b[0m\n\u001b[0;32m    592\u001b[0m     \u001b[1;32mdef\u001b[0m \u001b[0mget\u001b[0m\u001b[1;33m(\u001b[0m\u001b[0mself\u001b[0m\u001b[1;33m)\u001b[0m\u001b[1;33m:\u001b[0m\u001b[1;33m\u001b[0m\u001b[1;33m\u001b[0m\u001b[0m\n",
      "\u001b[1;32m~\\Anaconda3\\envs\\tf_test\\lib\\site-packages\\joblib\\parallel.py\u001b[0m in \u001b[0;36m__call__\u001b[1;34m(self)\u001b[0m\n\u001b[0;32m    254\u001b[0m         \u001b[1;32mwith\u001b[0m \u001b[0mparallel_backend\u001b[0m\u001b[1;33m(\u001b[0m\u001b[0mself\u001b[0m\u001b[1;33m.\u001b[0m\u001b[0m_backend\u001b[0m\u001b[1;33m,\u001b[0m \u001b[0mn_jobs\u001b[0m\u001b[1;33m=\u001b[0m\u001b[0mself\u001b[0m\u001b[1;33m.\u001b[0m\u001b[0m_n_jobs\u001b[0m\u001b[1;33m)\u001b[0m\u001b[1;33m:\u001b[0m\u001b[1;33m\u001b[0m\u001b[1;33m\u001b[0m\u001b[0m\n\u001b[0;32m    255\u001b[0m             return [func(*args, **kwargs)\n\u001b[1;32m--> 256\u001b[1;33m                     for func, args, kwargs in self.items]\n\u001b[0m\u001b[0;32m    257\u001b[0m \u001b[1;33m\u001b[0m\u001b[0m\n\u001b[0;32m    258\u001b[0m     \u001b[1;32mdef\u001b[0m \u001b[0m__len__\u001b[0m\u001b[1;33m(\u001b[0m\u001b[0mself\u001b[0m\u001b[1;33m)\u001b[0m\u001b[1;33m:\u001b[0m\u001b[1;33m\u001b[0m\u001b[1;33m\u001b[0m\u001b[0m\n",
      "\u001b[1;32m~\\Anaconda3\\envs\\tf_test\\lib\\site-packages\\joblib\\parallel.py\u001b[0m in \u001b[0;36m<listcomp>\u001b[1;34m(.0)\u001b[0m\n\u001b[0;32m    254\u001b[0m         \u001b[1;32mwith\u001b[0m \u001b[0mparallel_backend\u001b[0m\u001b[1;33m(\u001b[0m\u001b[0mself\u001b[0m\u001b[1;33m.\u001b[0m\u001b[0m_backend\u001b[0m\u001b[1;33m,\u001b[0m \u001b[0mn_jobs\u001b[0m\u001b[1;33m=\u001b[0m\u001b[0mself\u001b[0m\u001b[1;33m.\u001b[0m\u001b[0m_n_jobs\u001b[0m\u001b[1;33m)\u001b[0m\u001b[1;33m:\u001b[0m\u001b[1;33m\u001b[0m\u001b[1;33m\u001b[0m\u001b[0m\n\u001b[0;32m    255\u001b[0m             return [func(*args, **kwargs)\n\u001b[1;32m--> 256\u001b[1;33m                     for func, args, kwargs in self.items]\n\u001b[0m\u001b[0;32m    257\u001b[0m \u001b[1;33m\u001b[0m\u001b[0m\n\u001b[0;32m    258\u001b[0m     \u001b[1;32mdef\u001b[0m \u001b[0m__len__\u001b[0m\u001b[1;33m(\u001b[0m\u001b[0mself\u001b[0m\u001b[1;33m)\u001b[0m\u001b[1;33m:\u001b[0m\u001b[1;33m\u001b[0m\u001b[1;33m\u001b[0m\u001b[0m\n",
      "\u001b[1;32m~\\Anaconda3\\envs\\tf_test\\lib\\site-packages\\sklearn\\model_selection\\_validation.py\u001b[0m in \u001b[0;36m_fit_and_score\u001b[1;34m(estimator, X, y, scorer, train, test, verbose, parameters, fit_params, return_train_score, return_parameters, return_n_test_samples, return_times, return_estimator, error_score)\u001b[0m\n\u001b[0;32m    513\u001b[0m             \u001b[0mestimator\u001b[0m\u001b[1;33m.\u001b[0m\u001b[0mfit\u001b[0m\u001b[1;33m(\u001b[0m\u001b[0mX_train\u001b[0m\u001b[1;33m,\u001b[0m \u001b[1;33m**\u001b[0m\u001b[0mfit_params\u001b[0m\u001b[1;33m)\u001b[0m\u001b[1;33m\u001b[0m\u001b[1;33m\u001b[0m\u001b[0m\n\u001b[0;32m    514\u001b[0m         \u001b[1;32melse\u001b[0m\u001b[1;33m:\u001b[0m\u001b[1;33m\u001b[0m\u001b[1;33m\u001b[0m\u001b[0m\n\u001b[1;32m--> 515\u001b[1;33m             \u001b[0mestimator\u001b[0m\u001b[1;33m.\u001b[0m\u001b[0mfit\u001b[0m\u001b[1;33m(\u001b[0m\u001b[0mX_train\u001b[0m\u001b[1;33m,\u001b[0m \u001b[0my_train\u001b[0m\u001b[1;33m,\u001b[0m \u001b[1;33m**\u001b[0m\u001b[0mfit_params\u001b[0m\u001b[1;33m)\u001b[0m\u001b[1;33m\u001b[0m\u001b[1;33m\u001b[0m\u001b[0m\n\u001b[0m\u001b[0;32m    516\u001b[0m \u001b[1;33m\u001b[0m\u001b[0m\n\u001b[0;32m    517\u001b[0m     \u001b[1;32mexcept\u001b[0m \u001b[0mException\u001b[0m \u001b[1;32mas\u001b[0m \u001b[0me\u001b[0m\u001b[1;33m:\u001b[0m\u001b[1;33m\u001b[0m\u001b[1;33m\u001b[0m\u001b[0m\n",
      "\u001b[1;32m~\\Anaconda3\\envs\\tf_test\\lib\\site-packages\\sklearn\\pipeline.py\u001b[0m in \u001b[0;36mfit\u001b[1;34m(self, X, y, **fit_params)\u001b[0m\n\u001b[0;32m    352\u001b[0m                                  self._log_message(len(self.steps) - 1)):\n\u001b[0;32m    353\u001b[0m             \u001b[1;32mif\u001b[0m \u001b[0mself\u001b[0m\u001b[1;33m.\u001b[0m\u001b[0m_final_estimator\u001b[0m \u001b[1;33m!=\u001b[0m \u001b[1;34m'passthrough'\u001b[0m\u001b[1;33m:\u001b[0m\u001b[1;33m\u001b[0m\u001b[1;33m\u001b[0m\u001b[0m\n\u001b[1;32m--> 354\u001b[1;33m                 \u001b[0mself\u001b[0m\u001b[1;33m.\u001b[0m\u001b[0m_final_estimator\u001b[0m\u001b[1;33m.\u001b[0m\u001b[0mfit\u001b[0m\u001b[1;33m(\u001b[0m\u001b[0mXt\u001b[0m\u001b[1;33m,\u001b[0m \u001b[0my\u001b[0m\u001b[1;33m,\u001b[0m \u001b[1;33m**\u001b[0m\u001b[0mfit_params\u001b[0m\u001b[1;33m)\u001b[0m\u001b[1;33m\u001b[0m\u001b[1;33m\u001b[0m\u001b[0m\n\u001b[0m\u001b[0;32m    355\u001b[0m         \u001b[1;32mreturn\u001b[0m \u001b[0mself\u001b[0m\u001b[1;33m\u001b[0m\u001b[1;33m\u001b[0m\u001b[0m\n\u001b[0;32m    356\u001b[0m \u001b[1;33m\u001b[0m\u001b[0m\n",
      "\u001b[1;32m~\\Anaconda3\\envs\\tf_test\\lib\\site-packages\\keras\\wrappers\\scikit_learn.py\u001b[0m in \u001b[0;36mfit\u001b[1;34m(self, x, y, **kwargs)\u001b[0m\n\u001b[0;32m    149\u001b[0m         \u001b[0mfit_args\u001b[0m\u001b[1;33m.\u001b[0m\u001b[0mupdate\u001b[0m\u001b[1;33m(\u001b[0m\u001b[0mkwargs\u001b[0m\u001b[1;33m)\u001b[0m\u001b[1;33m\u001b[0m\u001b[1;33m\u001b[0m\u001b[0m\n\u001b[0;32m    150\u001b[0m \u001b[1;33m\u001b[0m\u001b[0m\n\u001b[1;32m--> 151\u001b[1;33m         \u001b[0mhistory\u001b[0m \u001b[1;33m=\u001b[0m \u001b[0mself\u001b[0m\u001b[1;33m.\u001b[0m\u001b[0mmodel\u001b[0m\u001b[1;33m.\u001b[0m\u001b[0mfit\u001b[0m\u001b[1;33m(\u001b[0m\u001b[0mx\u001b[0m\u001b[1;33m,\u001b[0m \u001b[0my\u001b[0m\u001b[1;33m,\u001b[0m \u001b[1;33m**\u001b[0m\u001b[0mfit_args\u001b[0m\u001b[1;33m)\u001b[0m\u001b[1;33m\u001b[0m\u001b[1;33m\u001b[0m\u001b[0m\n\u001b[0m\u001b[0;32m    152\u001b[0m \u001b[1;33m\u001b[0m\u001b[0m\n\u001b[0;32m    153\u001b[0m         \u001b[1;32mreturn\u001b[0m \u001b[0mhistory\u001b[0m\u001b[1;33m\u001b[0m\u001b[1;33m\u001b[0m\u001b[0m\n",
      "\u001b[1;32m~\\Anaconda3\\envs\\tf_test\\lib\\site-packages\\keras\\engine\\training.py\u001b[0m in \u001b[0;36mfit\u001b[1;34m(self, x, y, batch_size, epochs, verbose, callbacks, validation_split, validation_data, shuffle, class_weight, sample_weight, initial_epoch, steps_per_epoch, validation_steps, validation_freq, max_queue_size, workers, use_multiprocessing, **kwargs)\u001b[0m\n\u001b[0;32m   1237\u001b[0m                                         \u001b[0msteps_per_epoch\u001b[0m\u001b[1;33m=\u001b[0m\u001b[0msteps_per_epoch\u001b[0m\u001b[1;33m,\u001b[0m\u001b[1;33m\u001b[0m\u001b[1;33m\u001b[0m\u001b[0m\n\u001b[0;32m   1238\u001b[0m                                         \u001b[0mvalidation_steps\u001b[0m\u001b[1;33m=\u001b[0m\u001b[0mvalidation_steps\u001b[0m\u001b[1;33m,\u001b[0m\u001b[1;33m\u001b[0m\u001b[1;33m\u001b[0m\u001b[0m\n\u001b[1;32m-> 1239\u001b[1;33m                                         validation_freq=validation_freq)\n\u001b[0m\u001b[0;32m   1240\u001b[0m \u001b[1;33m\u001b[0m\u001b[0m\n\u001b[0;32m   1241\u001b[0m     def evaluate(self,\n",
      "\u001b[1;32m~\\Anaconda3\\envs\\tf_test\\lib\\site-packages\\keras\\engine\\training_arrays.py\u001b[0m in \u001b[0;36mfit_loop\u001b[1;34m(model, fit_function, fit_inputs, out_labels, batch_size, epochs, verbose, callbacks, val_function, val_inputs, shuffle, initial_epoch, steps_per_epoch, validation_steps, validation_freq)\u001b[0m\n\u001b[0;32m    194\u001b[0m                     \u001b[0mins_batch\u001b[0m\u001b[1;33m[\u001b[0m\u001b[0mi\u001b[0m\u001b[1;33m]\u001b[0m \u001b[1;33m=\u001b[0m \u001b[0mins_batch\u001b[0m\u001b[1;33m[\u001b[0m\u001b[0mi\u001b[0m\u001b[1;33m]\u001b[0m\u001b[1;33m.\u001b[0m\u001b[0mtoarray\u001b[0m\u001b[1;33m(\u001b[0m\u001b[1;33m)\u001b[0m\u001b[1;33m\u001b[0m\u001b[1;33m\u001b[0m\u001b[0m\n\u001b[0;32m    195\u001b[0m \u001b[1;33m\u001b[0m\u001b[0m\n\u001b[1;32m--> 196\u001b[1;33m                 \u001b[0mouts\u001b[0m \u001b[1;33m=\u001b[0m \u001b[0mfit_function\u001b[0m\u001b[1;33m(\u001b[0m\u001b[0mins_batch\u001b[0m\u001b[1;33m)\u001b[0m\u001b[1;33m\u001b[0m\u001b[1;33m\u001b[0m\u001b[0m\n\u001b[0m\u001b[0;32m    197\u001b[0m                 \u001b[0mouts\u001b[0m \u001b[1;33m=\u001b[0m \u001b[0mto_list\u001b[0m\u001b[1;33m(\u001b[0m\u001b[0mouts\u001b[0m\u001b[1;33m)\u001b[0m\u001b[1;33m\u001b[0m\u001b[1;33m\u001b[0m\u001b[0m\n\u001b[0;32m    198\u001b[0m                 \u001b[1;32mfor\u001b[0m \u001b[0ml\u001b[0m\u001b[1;33m,\u001b[0m \u001b[0mo\u001b[0m \u001b[1;32min\u001b[0m \u001b[0mzip\u001b[0m\u001b[1;33m(\u001b[0m\u001b[0mout_labels\u001b[0m\u001b[1;33m,\u001b[0m \u001b[0mouts\u001b[0m\u001b[1;33m)\u001b[0m\u001b[1;33m:\u001b[0m\u001b[1;33m\u001b[0m\u001b[1;33m\u001b[0m\u001b[0m\n",
      "\u001b[1;32m~\\Anaconda3\\envs\\tf_test\\lib\\site-packages\\tensorflow\\python\\keras\\backend.py\u001b[0m in \u001b[0;36m__call__\u001b[1;34m(self, inputs)\u001b[0m\n\u001b[0;32m   3290\u001b[0m \u001b[1;33m\u001b[0m\u001b[0m\n\u001b[0;32m   3291\u001b[0m     fetched = self._callable_fn(*array_vals,\n\u001b[1;32m-> 3292\u001b[1;33m                                 run_metadata=self.run_metadata)\n\u001b[0m\u001b[0;32m   3293\u001b[0m     \u001b[0mself\u001b[0m\u001b[1;33m.\u001b[0m\u001b[0m_call_fetch_callbacks\u001b[0m\u001b[1;33m(\u001b[0m\u001b[0mfetched\u001b[0m\u001b[1;33m[\u001b[0m\u001b[1;33m-\u001b[0m\u001b[0mlen\u001b[0m\u001b[1;33m(\u001b[0m\u001b[0mself\u001b[0m\u001b[1;33m.\u001b[0m\u001b[0m_fetches\u001b[0m\u001b[1;33m)\u001b[0m\u001b[1;33m:\u001b[0m\u001b[1;33m]\u001b[0m\u001b[1;33m)\u001b[0m\u001b[1;33m\u001b[0m\u001b[1;33m\u001b[0m\u001b[0m\n\u001b[0;32m   3294\u001b[0m     output_structure = nest.pack_sequence_as(\n",
      "\u001b[1;32m~\\Anaconda3\\envs\\tf_test\\lib\\site-packages\\tensorflow\\python\\client\\session.py\u001b[0m in \u001b[0;36m__call__\u001b[1;34m(self, *args, **kwargs)\u001b[0m\n\u001b[0;32m   1456\u001b[0m         ret = tf_session.TF_SessionRunCallable(self._session._session,\n\u001b[0;32m   1457\u001b[0m                                                \u001b[0mself\u001b[0m\u001b[1;33m.\u001b[0m\u001b[0m_handle\u001b[0m\u001b[1;33m,\u001b[0m \u001b[0margs\u001b[0m\u001b[1;33m,\u001b[0m\u001b[1;33m\u001b[0m\u001b[1;33m\u001b[0m\u001b[0m\n\u001b[1;32m-> 1458\u001b[1;33m                                                run_metadata_ptr)\n\u001b[0m\u001b[0;32m   1459\u001b[0m         \u001b[1;32mif\u001b[0m \u001b[0mrun_metadata\u001b[0m\u001b[1;33m:\u001b[0m\u001b[1;33m\u001b[0m\u001b[1;33m\u001b[0m\u001b[0m\n\u001b[0;32m   1460\u001b[0m           \u001b[0mproto_data\u001b[0m \u001b[1;33m=\u001b[0m \u001b[0mtf_session\u001b[0m\u001b[1;33m.\u001b[0m\u001b[0mTF_GetBuffer\u001b[0m\u001b[1;33m(\u001b[0m\u001b[0mrun_metadata_ptr\u001b[0m\u001b[1;33m)\u001b[0m\u001b[1;33m\u001b[0m\u001b[1;33m\u001b[0m\u001b[0m\n",
      "\u001b[1;31mKeyboardInterrupt\u001b[0m: "
     ]
    }
   ],
   "source": [
    "numpy.random.seed(7)\n",
    "estimators = []\n",
    "estimators.append(('standardize', StandardScaler()))\n",
    "estimators.append(('mlp', KerasRegressor(build_fn =baseline_model,\n",
    "                                        epochs = 50 ,batch_size = 5, verbose =0)))\n",
    "pipeline= Pipeline(estimators)\n",
    "kfold = KFold(n_splits =10 , random_state = 7)\n",
    "results = cross_val_score(pipeline, X, Y , cv = kfold)\n",
    "print(\"standardized : %.2f(%.2f) mse\" % (results.mean(),\n",
    "                                        results.std()))\n"
   ]
  },
  {
   "cell_type": "code",
   "execution_count": 57,
   "metadata": {},
   "outputs": [],
   "source": [
    "numpy.random.seed(7)\n",
    "estimator =  KerasRegressor(build_fn=wider_model, nb_epoch =100,\n",
    "                           batch_size = 5, verbose = 0)"
   ]
  },
  {
   "cell_type": "code",
   "execution_count": 69,
   "metadata": {
    "scrolled": true
   },
   "outputs": [
    {
     "name": "stderr",
     "output_type": "stream",
     "text": [
      "C:\\Users\\ICT01_12\\Anaconda3\\envs\\tf_test\\lib\\site-packages\\sklearn\\model_selection\\_split.py:296: FutureWarning: Setting a random_state has no effect since shuffle is False. This will raise an error in 0.24. You should leave random_state to its default (None), or set shuffle=True.\n",
      "  FutureWarning\n",
      "C:\\Users\\ICT01_12\\Anaconda3\\envs\\tf_test\\lib\\site-packages\\sklearn\\model_selection\\_validation.py:536: FitFailedWarning: Estimator fit failed. The score on this train-test partition for these parameters will be set to nan. Details: \n",
      "ValueError: Error when checking input: expected dense_257_input to have shape (20,) but got array with shape (13,)\n",
      "\n",
      "  FitFailedWarning)\n",
      "C:\\Users\\ICT01_12\\Anaconda3\\envs\\tf_test\\lib\\site-packages\\sklearn\\model_selection\\_validation.py:536: FitFailedWarning: Estimator fit failed. The score on this train-test partition for these parameters will be set to nan. Details: \n",
      "ValueError: Error when checking input: expected dense_259_input to have shape (20,) but got array with shape (13,)\n",
      "\n",
      "  FitFailedWarning)\n",
      "C:\\Users\\ICT01_12\\Anaconda3\\envs\\tf_test\\lib\\site-packages\\sklearn\\model_selection\\_validation.py:536: FitFailedWarning: Estimator fit failed. The score on this train-test partition for these parameters will be set to nan. Details: \n",
      "ValueError: Error when checking input: expected dense_261_input to have shape (20,) but got array with shape (13,)\n",
      "\n",
      "  FitFailedWarning)\n",
      "C:\\Users\\ICT01_12\\Anaconda3\\envs\\tf_test\\lib\\site-packages\\sklearn\\model_selection\\_validation.py:536: FitFailedWarning: Estimator fit failed. The score on this train-test partition for these parameters will be set to nan. Details: \n",
      "ValueError: Error when checking input: expected dense_263_input to have shape (20,) but got array with shape (13,)\n",
      "\n",
      "  FitFailedWarning)\n",
      "C:\\Users\\ICT01_12\\Anaconda3\\envs\\tf_test\\lib\\site-packages\\sklearn\\model_selection\\_validation.py:536: FitFailedWarning: Estimator fit failed. The score on this train-test partition for these parameters will be set to nan. Details: \n",
      "ValueError: Error when checking input: expected dense_265_input to have shape (20,) but got array with shape (13,)\n",
      "\n",
      "  FitFailedWarning)\n",
      "C:\\Users\\ICT01_12\\Anaconda3\\envs\\tf_test\\lib\\site-packages\\sklearn\\model_selection\\_validation.py:536: FitFailedWarning: Estimator fit failed. The score on this train-test partition for these parameters will be set to nan. Details: \n",
      "ValueError: Error when checking input: expected dense_267_input to have shape (20,) but got array with shape (13,)\n",
      "\n",
      "  FitFailedWarning)\n",
      "C:\\Users\\ICT01_12\\Anaconda3\\envs\\tf_test\\lib\\site-packages\\sklearn\\model_selection\\_validation.py:536: FitFailedWarning: Estimator fit failed. The score on this train-test partition for these parameters will be set to nan. Details: \n",
      "ValueError: Error when checking input: expected dense_269_input to have shape (20,) but got array with shape (13,)\n",
      "\n",
      "  FitFailedWarning)\n"
     ]
    },
    {
     "name": "stdout",
     "output_type": "stream",
     "text": [
      "standardized : nan(nan) mse\n"
     ]
    },
    {
     "name": "stderr",
     "output_type": "stream",
     "text": [
      "C:\\Users\\ICT01_12\\Anaconda3\\envs\\tf_test\\lib\\site-packages\\sklearn\\model_selection\\_validation.py:536: FitFailedWarning: Estimator fit failed. The score on this train-test partition for these parameters will be set to nan. Details: \n",
      "ValueError: Error when checking input: expected dense_271_input to have shape (20,) but got array with shape (13,)\n",
      "\n",
      "  FitFailedWarning)\n",
      "C:\\Users\\ICT01_12\\Anaconda3\\envs\\tf_test\\lib\\site-packages\\sklearn\\model_selection\\_validation.py:536: FitFailedWarning: Estimator fit failed. The score on this train-test partition for these parameters will be set to nan. Details: \n",
      "ValueError: Error when checking input: expected dense_273_input to have shape (20,) but got array with shape (13,)\n",
      "\n",
      "  FitFailedWarning)\n",
      "C:\\Users\\ICT01_12\\Anaconda3\\envs\\tf_test\\lib\\site-packages\\sklearn\\model_selection\\_validation.py:536: FitFailedWarning: Estimator fit failed. The score on this train-test partition for these parameters will be set to nan. Details: \n",
      "ValueError: Error when checking input: expected dense_275_input to have shape (20,) but got array with shape (13,)\n",
      "\n",
      "  FitFailedWarning)\n"
     ]
    }
   ],
   "source": [
    "numpy.random.seed(7)\n",
    "estimators = []\n",
    "estimators.append(('standardize', StandardScaler()))\n",
    "estimators.append(('mlp', KerasRegressor(build_fn =wider_model,\n",
    "                                        epochs = 50 ,batch_size = 5, verbose =0)))\n",
    "pipeline= Pipeline(estimators)\n",
    "kfold = KFold(n_splits =10 , random_state = 7)\n",
    "results = cross_val_score(pipeline, X, Y , cv = kfold)\n",
    "print(\"standardized : %.2f(%.2f) mse\" % (results.mean(),\n",
    "                                        results.std()))\n"
   ]
  },
  {
   "cell_type": "code",
   "execution_count": 62,
   "metadata": {},
   "outputs": [],
   "source": [
    "numpy.random.seed(7)\n",
    "estimator =  KerasRegressor(build_fn=larger_model, nb_epoch =100,\n",
    "                           batch_size = 5, verbose = 0)"
   ]
  },
  {
   "cell_type": "code",
   "execution_count": 70,
   "metadata": {
    "scrolled": true
   },
   "outputs": [
    {
     "name": "stderr",
     "output_type": "stream",
     "text": [
      "C:\\Users\\ICT01_12\\Anaconda3\\envs\\tf_test\\lib\\site-packages\\sklearn\\model_selection\\_split.py:296: FutureWarning: Setting a random_state has no effect since shuffle is False. This will raise an error in 0.24. You should leave random_state to its default (None), or set shuffle=True.\n",
      "  FutureWarning\n",
      "C:\\Users\\ICT01_12\\Anaconda3\\envs\\tf_test\\lib\\site-packages\\sklearn\\model_selection\\_validation.py:536: FitFailedWarning: Estimator fit failed. The score on this train-test partition for these parameters will be set to nan. Details: \n",
      "TypeError: ('Keyword argument not understood:', 'kernel_initalizer')\n",
      "\n",
      "  FitFailedWarning)\n",
      "C:\\Users\\ICT01_12\\Anaconda3\\envs\\tf_test\\lib\\site-packages\\sklearn\\model_selection\\_validation.py:536: FitFailedWarning: Estimator fit failed. The score on this train-test partition for these parameters will be set to nan. Details: \n",
      "TypeError: ('Keyword argument not understood:', 'kernel_initalizer')\n",
      "\n",
      "  FitFailedWarning)\n",
      "C:\\Users\\ICT01_12\\Anaconda3\\envs\\tf_test\\lib\\site-packages\\sklearn\\model_selection\\_validation.py:536: FitFailedWarning: Estimator fit failed. The score on this train-test partition for these parameters will be set to nan. Details: \n",
      "TypeError: ('Keyword argument not understood:', 'kernel_initalizer')\n",
      "\n",
      "  FitFailedWarning)\n",
      "C:\\Users\\ICT01_12\\Anaconda3\\envs\\tf_test\\lib\\site-packages\\sklearn\\model_selection\\_validation.py:536: FitFailedWarning: Estimator fit failed. The score on this train-test partition for these parameters will be set to nan. Details: \n",
      "TypeError: ('Keyword argument not understood:', 'kernel_initalizer')\n",
      "\n",
      "  FitFailedWarning)\n",
      "C:\\Users\\ICT01_12\\Anaconda3\\envs\\tf_test\\lib\\site-packages\\sklearn\\model_selection\\_validation.py:536: FitFailedWarning: Estimator fit failed. The score on this train-test partition for these parameters will be set to nan. Details: \n",
      "TypeError: ('Keyword argument not understood:', 'kernel_initalizer')\n",
      "\n",
      "  FitFailedWarning)\n",
      "C:\\Users\\ICT01_12\\Anaconda3\\envs\\tf_test\\lib\\site-packages\\sklearn\\model_selection\\_validation.py:536: FitFailedWarning: Estimator fit failed. The score on this train-test partition for these parameters will be set to nan. Details: \n",
      "TypeError: ('Keyword argument not understood:', 'kernel_initalizer')\n",
      "\n",
      "  FitFailedWarning)\n",
      "C:\\Users\\ICT01_12\\Anaconda3\\envs\\tf_test\\lib\\site-packages\\sklearn\\model_selection\\_validation.py:536: FitFailedWarning: Estimator fit failed. The score on this train-test partition for these parameters will be set to nan. Details: \n",
      "TypeError: ('Keyword argument not understood:', 'kernel_initalizer')\n",
      "\n",
      "  FitFailedWarning)\n",
      "C:\\Users\\ICT01_12\\Anaconda3\\envs\\tf_test\\lib\\site-packages\\sklearn\\model_selection\\_validation.py:536: FitFailedWarning: Estimator fit failed. The score on this train-test partition for these parameters will be set to nan. Details: \n",
      "TypeError: ('Keyword argument not understood:', 'kernel_initalizer')\n",
      "\n",
      "  FitFailedWarning)\n",
      "C:\\Users\\ICT01_12\\Anaconda3\\envs\\tf_test\\lib\\site-packages\\sklearn\\model_selection\\_validation.py:536: FitFailedWarning: Estimator fit failed. The score on this train-test partition for these parameters will be set to nan. Details: \n",
      "TypeError: ('Keyword argument not understood:', 'kernel_initalizer')\n",
      "\n",
      "  FitFailedWarning)\n"
     ]
    },
    {
     "name": "stdout",
     "output_type": "stream",
     "text": [
      "standardized : nan(nan) mse\n"
     ]
    },
    {
     "name": "stderr",
     "output_type": "stream",
     "text": [
      "C:\\Users\\ICT01_12\\Anaconda3\\envs\\tf_test\\lib\\site-packages\\sklearn\\model_selection\\_validation.py:536: FitFailedWarning: Estimator fit failed. The score on this train-test partition for these parameters will be set to nan. Details: \n",
      "TypeError: ('Keyword argument not understood:', 'kernel_initalizer')\n",
      "\n",
      "  FitFailedWarning)\n"
     ]
    }
   ],
   "source": [
    "numpy.random.seed(7)\n",
    "estimators = []\n",
    "estimators.append(('standardize', StandardScaler()))\n",
    "estimators.append(('mlp', KerasRegressor(build_fn =larger_model,\n",
    "                                        epochs = 50 ,batch_size = 5, verbose =0)))\n",
    "pipeline= Pipeline(estimators)\n",
    "kfold = KFold(n_splits =10 , random_state = 7)\n",
    "results = cross_val_score(pipeline, X, Y , cv = kfold)\n",
    "print(\"standardized : %.2f(%.2f) mse\" % (results.mean(),\n",
    "                                        results.std()))\n"
   ]
  },
  {
   "cell_type": "code",
   "execution_count": 44,
   "metadata": {},
   "outputs": [
    {
     "ename": "TypeError",
     "evalue": "('Keyword argument not understood:', 'kernel_initalizer')",
     "output_type": "error",
     "traceback": [
      "\u001b[1;31m---------------------------------------------------------------------------\u001b[0m",
      "\u001b[1;31mTypeError\u001b[0m                                 Traceback (most recent call last)",
      "\u001b[1;32m<ipython-input-44-1e7ad2e25c70>\u001b[0m in \u001b[0;36m<module>\u001b[1;34m\u001b[0m\n\u001b[1;32m----> 1\u001b[1;33m \u001b[0mpipeline\u001b[0m\u001b[1;33m.\u001b[0m\u001b[0mfit\u001b[0m\u001b[1;33m(\u001b[0m\u001b[0mX\u001b[0m\u001b[1;33m,\u001b[0m\u001b[0mY\u001b[0m\u001b[1;33m)\u001b[0m\u001b[1;33m\u001b[0m\u001b[1;33m\u001b[0m\u001b[0m\n\u001b[0m",
      "\u001b[1;32m~\\Anaconda3\\envs\\tf_test\\lib\\site-packages\\sklearn\\pipeline.py\u001b[0m in \u001b[0;36mfit\u001b[1;34m(self, X, y, **fit_params)\u001b[0m\n\u001b[0;32m    352\u001b[0m                                  self._log_message(len(self.steps) - 1)):\n\u001b[0;32m    353\u001b[0m             \u001b[1;32mif\u001b[0m \u001b[0mself\u001b[0m\u001b[1;33m.\u001b[0m\u001b[0m_final_estimator\u001b[0m \u001b[1;33m!=\u001b[0m \u001b[1;34m'passthrough'\u001b[0m\u001b[1;33m:\u001b[0m\u001b[1;33m\u001b[0m\u001b[1;33m\u001b[0m\u001b[0m\n\u001b[1;32m--> 354\u001b[1;33m                 \u001b[0mself\u001b[0m\u001b[1;33m.\u001b[0m\u001b[0m_final_estimator\u001b[0m\u001b[1;33m.\u001b[0m\u001b[0mfit\u001b[0m\u001b[1;33m(\u001b[0m\u001b[0mXt\u001b[0m\u001b[1;33m,\u001b[0m \u001b[0my\u001b[0m\u001b[1;33m,\u001b[0m \u001b[1;33m**\u001b[0m\u001b[0mfit_params\u001b[0m\u001b[1;33m)\u001b[0m\u001b[1;33m\u001b[0m\u001b[1;33m\u001b[0m\u001b[0m\n\u001b[0m\u001b[0;32m    355\u001b[0m         \u001b[1;32mreturn\u001b[0m \u001b[0mself\u001b[0m\u001b[1;33m\u001b[0m\u001b[1;33m\u001b[0m\u001b[0m\n\u001b[0;32m    356\u001b[0m \u001b[1;33m\u001b[0m\u001b[0m\n",
      "\u001b[1;32m~\\Anaconda3\\envs\\tf_test\\lib\\site-packages\\keras\\wrappers\\scikit_learn.py\u001b[0m in \u001b[0;36mfit\u001b[1;34m(self, x, y, **kwargs)\u001b[0m\n\u001b[0;32m    140\u001b[0m                 **self.filter_sk_params(self.build_fn.__call__))\n\u001b[0;32m    141\u001b[0m         \u001b[1;32melse\u001b[0m\u001b[1;33m:\u001b[0m\u001b[1;33m\u001b[0m\u001b[1;33m\u001b[0m\u001b[0m\n\u001b[1;32m--> 142\u001b[1;33m             \u001b[0mself\u001b[0m\u001b[1;33m.\u001b[0m\u001b[0mmodel\u001b[0m \u001b[1;33m=\u001b[0m \u001b[0mself\u001b[0m\u001b[1;33m.\u001b[0m\u001b[0mbuild_fn\u001b[0m\u001b[1;33m(\u001b[0m\u001b[1;33m**\u001b[0m\u001b[0mself\u001b[0m\u001b[1;33m.\u001b[0m\u001b[0mfilter_sk_params\u001b[0m\u001b[1;33m(\u001b[0m\u001b[0mself\u001b[0m\u001b[1;33m.\u001b[0m\u001b[0mbuild_fn\u001b[0m\u001b[1;33m)\u001b[0m\u001b[1;33m)\u001b[0m\u001b[1;33m\u001b[0m\u001b[1;33m\u001b[0m\u001b[0m\n\u001b[0m\u001b[0;32m    143\u001b[0m \u001b[1;33m\u001b[0m\u001b[0m\n\u001b[0;32m    144\u001b[0m         if (losses.is_categorical_crossentropy(self.model.loss) and\n",
      "\u001b[1;32m<ipython-input-31-8c2a9d42be20>\u001b[0m in \u001b[0;36mlarger_model\u001b[1;34m()\u001b[0m\n\u001b[0;32m      4\u001b[0m     model.add(Dense(13, input_dim = 13, kernel_initializer = 'normal',\n\u001b[0;32m      5\u001b[0m                     activation='relu'))\n\u001b[1;32m----> 6\u001b[1;33m     \u001b[0mmodel\u001b[0m\u001b[1;33m.\u001b[0m\u001b[0madd\u001b[0m\u001b[1;33m(\u001b[0m\u001b[0mDense\u001b[0m\u001b[1;33m(\u001b[0m\u001b[1;36m6\u001b[0m\u001b[1;33m,\u001b[0m\u001b[0mkernel_initalizer\u001b[0m \u001b[1;33m=\u001b[0m \u001b[1;34m'normal'\u001b[0m\u001b[1;33m,\u001b[0m \u001b[0mactivation\u001b[0m \u001b[1;33m=\u001b[0m\u001b[1;34m'relu'\u001b[0m\u001b[1;33m)\u001b[0m\u001b[1;33m)\u001b[0m\u001b[1;33m\u001b[0m\u001b[1;33m\u001b[0m\u001b[0m\n\u001b[0m\u001b[0;32m      7\u001b[0m     \u001b[0mmodel\u001b[0m\u001b[1;33m.\u001b[0m\u001b[0madd\u001b[0m\u001b[1;33m(\u001b[0m\u001b[0mDense\u001b[0m\u001b[1;33m(\u001b[0m\u001b[1;36m1\u001b[0m\u001b[1;33m,\u001b[0m\u001b[0mkernel_initalizer\u001b[0m \u001b[1;33m=\u001b[0m \u001b[1;34m'normal'\u001b[0m\u001b[1;33m)\u001b[0m\u001b[1;33m)\u001b[0m\u001b[1;33m\u001b[0m\u001b[1;33m\u001b[0m\u001b[0m\n\u001b[0;32m      8\u001b[0m     \u001b[0mmodel\u001b[0m\u001b[1;33m.\u001b[0m\u001b[0mcompile\u001b[0m\u001b[1;33m(\u001b[0m\u001b[0mloss\u001b[0m \u001b[1;33m=\u001b[0m\u001b[1;34m' mean_squared_error'\u001b[0m\u001b[1;33m,\u001b[0m \u001b[0moptimizer\u001b[0m \u001b[1;33m=\u001b[0m\u001b[1;34m'adam'\u001b[0m\u001b[1;33m)\u001b[0m\u001b[1;33m\u001b[0m\u001b[1;33m\u001b[0m\u001b[0m\n",
      "\u001b[1;32m~\\Anaconda3\\envs\\tf_test\\lib\\site-packages\\keras\\legacy\\interfaces.py\u001b[0m in \u001b[0;36mwrapper\u001b[1;34m(*args, **kwargs)\u001b[0m\n\u001b[0;32m     89\u001b[0m                 warnings.warn('Update your `' + object_name + '` call to the ' +\n\u001b[0;32m     90\u001b[0m                               'Keras 2 API: ' + signature, stacklevel=2)\n\u001b[1;32m---> 91\u001b[1;33m             \u001b[1;32mreturn\u001b[0m \u001b[0mfunc\u001b[0m\u001b[1;33m(\u001b[0m\u001b[1;33m*\u001b[0m\u001b[0margs\u001b[0m\u001b[1;33m,\u001b[0m \u001b[1;33m**\u001b[0m\u001b[0mkwargs\u001b[0m\u001b[1;33m)\u001b[0m\u001b[1;33m\u001b[0m\u001b[1;33m\u001b[0m\u001b[0m\n\u001b[0m\u001b[0;32m     92\u001b[0m         \u001b[0mwrapper\u001b[0m\u001b[1;33m.\u001b[0m\u001b[0m_original_function\u001b[0m \u001b[1;33m=\u001b[0m \u001b[0mfunc\u001b[0m\u001b[1;33m\u001b[0m\u001b[1;33m\u001b[0m\u001b[0m\n\u001b[0;32m     93\u001b[0m         \u001b[1;32mreturn\u001b[0m \u001b[0mwrapper\u001b[0m\u001b[1;33m\u001b[0m\u001b[1;33m\u001b[0m\u001b[0m\n",
      "\u001b[1;32m~\\Anaconda3\\envs\\tf_test\\lib\\site-packages\\keras\\layers\\core.py\u001b[0m in \u001b[0;36m__init__\u001b[1;34m(self, units, activation, use_bias, kernel_initializer, bias_initializer, kernel_regularizer, bias_regularizer, activity_regularizer, kernel_constraint, bias_constraint, **kwargs)\u001b[0m\n\u001b[0;32m    871\u001b[0m         \u001b[1;32mif\u001b[0m \u001b[1;34m'input_shape'\u001b[0m \u001b[1;32mnot\u001b[0m \u001b[1;32min\u001b[0m \u001b[0mkwargs\u001b[0m \u001b[1;32mand\u001b[0m \u001b[1;34m'input_dim'\u001b[0m \u001b[1;32min\u001b[0m \u001b[0mkwargs\u001b[0m\u001b[1;33m:\u001b[0m\u001b[1;33m\u001b[0m\u001b[1;33m\u001b[0m\u001b[0m\n\u001b[0;32m    872\u001b[0m             \u001b[0mkwargs\u001b[0m\u001b[1;33m[\u001b[0m\u001b[1;34m'input_shape'\u001b[0m\u001b[1;33m]\u001b[0m \u001b[1;33m=\u001b[0m \u001b[1;33m(\u001b[0m\u001b[0mkwargs\u001b[0m\u001b[1;33m.\u001b[0m\u001b[0mpop\u001b[0m\u001b[1;33m(\u001b[0m\u001b[1;34m'input_dim'\u001b[0m\u001b[1;33m)\u001b[0m\u001b[1;33m,\u001b[0m\u001b[1;33m)\u001b[0m\u001b[1;33m\u001b[0m\u001b[1;33m\u001b[0m\u001b[0m\n\u001b[1;32m--> 873\u001b[1;33m         \u001b[0msuper\u001b[0m\u001b[1;33m(\u001b[0m\u001b[0mDense\u001b[0m\u001b[1;33m,\u001b[0m \u001b[0mself\u001b[0m\u001b[1;33m)\u001b[0m\u001b[1;33m.\u001b[0m\u001b[0m__init__\u001b[0m\u001b[1;33m(\u001b[0m\u001b[1;33m**\u001b[0m\u001b[0mkwargs\u001b[0m\u001b[1;33m)\u001b[0m\u001b[1;33m\u001b[0m\u001b[1;33m\u001b[0m\u001b[0m\n\u001b[0m\u001b[0;32m    874\u001b[0m         \u001b[0mself\u001b[0m\u001b[1;33m.\u001b[0m\u001b[0munits\u001b[0m \u001b[1;33m=\u001b[0m \u001b[0munits\u001b[0m\u001b[1;33m\u001b[0m\u001b[1;33m\u001b[0m\u001b[0m\n\u001b[0;32m    875\u001b[0m         \u001b[0mself\u001b[0m\u001b[1;33m.\u001b[0m\u001b[0mactivation\u001b[0m \u001b[1;33m=\u001b[0m \u001b[0mactivations\u001b[0m\u001b[1;33m.\u001b[0m\u001b[0mget\u001b[0m\u001b[1;33m(\u001b[0m\u001b[0mactivation\u001b[0m\u001b[1;33m)\u001b[0m\u001b[1;33m\u001b[0m\u001b[1;33m\u001b[0m\u001b[0m\n",
      "\u001b[1;32m~\\Anaconda3\\envs\\tf_test\\lib\\site-packages\\keras\\engine\\base_layer.py\u001b[0m in \u001b[0;36m__init__\u001b[1;34m(self, **kwargs)\u001b[0m\n\u001b[0;32m    145\u001b[0m         \u001b[1;32mfor\u001b[0m \u001b[0mkwarg\u001b[0m \u001b[1;32min\u001b[0m \u001b[0mkwargs\u001b[0m\u001b[1;33m:\u001b[0m\u001b[1;33m\u001b[0m\u001b[1;33m\u001b[0m\u001b[0m\n\u001b[0;32m    146\u001b[0m             \u001b[1;32mif\u001b[0m \u001b[0mkwarg\u001b[0m \u001b[1;32mnot\u001b[0m \u001b[1;32min\u001b[0m \u001b[0mallowed_kwargs\u001b[0m\u001b[1;33m:\u001b[0m\u001b[1;33m\u001b[0m\u001b[1;33m\u001b[0m\u001b[0m\n\u001b[1;32m--> 147\u001b[1;33m                 \u001b[1;32mraise\u001b[0m \u001b[0mTypeError\u001b[0m\u001b[1;33m(\u001b[0m\u001b[1;34m'Keyword argument not understood:'\u001b[0m\u001b[1;33m,\u001b[0m \u001b[0mkwarg\u001b[0m\u001b[1;33m)\u001b[0m\u001b[1;33m\u001b[0m\u001b[1;33m\u001b[0m\u001b[0m\n\u001b[0m\u001b[0;32m    148\u001b[0m         \u001b[0mname\u001b[0m \u001b[1;33m=\u001b[0m \u001b[0mkwargs\u001b[0m\u001b[1;33m.\u001b[0m\u001b[0mget\u001b[0m\u001b[1;33m(\u001b[0m\u001b[1;34m'name'\u001b[0m\u001b[1;33m)\u001b[0m\u001b[1;33m\u001b[0m\u001b[1;33m\u001b[0m\u001b[0m\n\u001b[0;32m    149\u001b[0m         \u001b[1;32mif\u001b[0m \u001b[1;32mnot\u001b[0m \u001b[0mname\u001b[0m\u001b[1;33m:\u001b[0m\u001b[1;33m\u001b[0m\u001b[1;33m\u001b[0m\u001b[0m\n",
      "\u001b[1;31mTypeError\u001b[0m: ('Keyword argument not understood:', 'kernel_initalizer')"
     ]
    }
   ],
   "source": [
    "pipeline.fit(X,Y)"
   ]
  },
  {
   "cell_type": "code",
   "execution_count": 45,
   "metadata": {},
   "outputs": [
    {
     "ename": "AttributeError",
     "evalue": "'KerasRegressor' object has no attribute 'model'",
     "output_type": "error",
     "traceback": [
      "\u001b[1;31m---------------------------------------------------------------------------\u001b[0m",
      "\u001b[1;31mAttributeError\u001b[0m                            Traceback (most recent call last)",
      "\u001b[1;32m<ipython-input-45-92379a5a52a9>\u001b[0m in \u001b[0;36m<module>\u001b[1;34m\u001b[0m\n\u001b[1;32m----> 1\u001b[1;33m \u001b[0mres\u001b[0m \u001b[1;33m=\u001b[0m \u001b[0mpipeline\u001b[0m\u001b[1;33m.\u001b[0m\u001b[0mpredict\u001b[0m\u001b[1;33m(\u001b[0m\u001b[0mX\u001b[0m\u001b[1;33m)\u001b[0m\u001b[1;33m\u001b[0m\u001b[1;33m\u001b[0m\u001b[0m\n\u001b[0m\u001b[0;32m      2\u001b[0m \u001b[0mres\u001b[0m\u001b[1;33m[\u001b[0m\u001b[1;36m0\u001b[0m\u001b[1;33m]\u001b[0m\u001b[1;33m\u001b[0m\u001b[1;33m\u001b[0m\u001b[0m\n",
      "\u001b[1;32m~\\Anaconda3\\envs\\tf_test\\lib\\site-packages\\sklearn\\utils\\metaestimators.py\u001b[0m in \u001b[0;36m<lambda>\u001b[1;34m(*args, **kwargs)\u001b[0m\n\u001b[0;32m    114\u001b[0m \u001b[1;33m\u001b[0m\u001b[0m\n\u001b[0;32m    115\u001b[0m         \u001b[1;31m# lambda, but not partial, allows help() to work with update_wrapper\u001b[0m\u001b[1;33m\u001b[0m\u001b[1;33m\u001b[0m\u001b[1;33m\u001b[0m\u001b[0m\n\u001b[1;32m--> 116\u001b[1;33m         \u001b[0mout\u001b[0m \u001b[1;33m=\u001b[0m \u001b[1;32mlambda\u001b[0m \u001b[1;33m*\u001b[0m\u001b[0margs\u001b[0m\u001b[1;33m,\u001b[0m \u001b[1;33m**\u001b[0m\u001b[0mkwargs\u001b[0m\u001b[1;33m:\u001b[0m \u001b[0mself\u001b[0m\u001b[1;33m.\u001b[0m\u001b[0mfn\u001b[0m\u001b[1;33m(\u001b[0m\u001b[0mobj\u001b[0m\u001b[1;33m,\u001b[0m \u001b[1;33m*\u001b[0m\u001b[0margs\u001b[0m\u001b[1;33m,\u001b[0m \u001b[1;33m**\u001b[0m\u001b[0mkwargs\u001b[0m\u001b[1;33m)\u001b[0m\u001b[1;33m\u001b[0m\u001b[1;33m\u001b[0m\u001b[0m\n\u001b[0m\u001b[0;32m    117\u001b[0m         \u001b[1;31m# update the docstring of the returned function\u001b[0m\u001b[1;33m\u001b[0m\u001b[1;33m\u001b[0m\u001b[1;33m\u001b[0m\u001b[0m\n\u001b[0;32m    118\u001b[0m         \u001b[0mupdate_wrapper\u001b[0m\u001b[1;33m(\u001b[0m\u001b[0mout\u001b[0m\u001b[1;33m,\u001b[0m \u001b[0mself\u001b[0m\u001b[1;33m.\u001b[0m\u001b[0mfn\u001b[0m\u001b[1;33m)\u001b[0m\u001b[1;33m\u001b[0m\u001b[1;33m\u001b[0m\u001b[0m\n",
      "\u001b[1;32m~\\Anaconda3\\envs\\tf_test\\lib\\site-packages\\sklearn\\pipeline.py\u001b[0m in \u001b[0;36mpredict\u001b[1;34m(self, X, **predict_params)\u001b[0m\n\u001b[0;32m    418\u001b[0m         \u001b[1;32mfor\u001b[0m \u001b[0m_\u001b[0m\u001b[1;33m,\u001b[0m \u001b[0mname\u001b[0m\u001b[1;33m,\u001b[0m \u001b[0mtransform\u001b[0m \u001b[1;32min\u001b[0m \u001b[0mself\u001b[0m\u001b[1;33m.\u001b[0m\u001b[0m_iter\u001b[0m\u001b[1;33m(\u001b[0m\u001b[0mwith_final\u001b[0m\u001b[1;33m=\u001b[0m\u001b[1;32mFalse\u001b[0m\u001b[1;33m)\u001b[0m\u001b[1;33m:\u001b[0m\u001b[1;33m\u001b[0m\u001b[1;33m\u001b[0m\u001b[0m\n\u001b[0;32m    419\u001b[0m             \u001b[0mXt\u001b[0m \u001b[1;33m=\u001b[0m \u001b[0mtransform\u001b[0m\u001b[1;33m.\u001b[0m\u001b[0mtransform\u001b[0m\u001b[1;33m(\u001b[0m\u001b[0mXt\u001b[0m\u001b[1;33m)\u001b[0m\u001b[1;33m\u001b[0m\u001b[1;33m\u001b[0m\u001b[0m\n\u001b[1;32m--> 420\u001b[1;33m         \u001b[1;32mreturn\u001b[0m \u001b[0mself\u001b[0m\u001b[1;33m.\u001b[0m\u001b[0msteps\u001b[0m\u001b[1;33m[\u001b[0m\u001b[1;33m-\u001b[0m\u001b[1;36m1\u001b[0m\u001b[1;33m]\u001b[0m\u001b[1;33m[\u001b[0m\u001b[1;33m-\u001b[0m\u001b[1;36m1\u001b[0m\u001b[1;33m]\u001b[0m\u001b[1;33m.\u001b[0m\u001b[0mpredict\u001b[0m\u001b[1;33m(\u001b[0m\u001b[0mXt\u001b[0m\u001b[1;33m,\u001b[0m \u001b[1;33m**\u001b[0m\u001b[0mpredict_params\u001b[0m\u001b[1;33m)\u001b[0m\u001b[1;33m\u001b[0m\u001b[1;33m\u001b[0m\u001b[0m\n\u001b[0m\u001b[0;32m    421\u001b[0m \u001b[1;33m\u001b[0m\u001b[0m\n\u001b[0;32m    422\u001b[0m     \u001b[1;33m@\u001b[0m\u001b[0mif_delegate_has_method\u001b[0m\u001b[1;33m(\u001b[0m\u001b[0mdelegate\u001b[0m\u001b[1;33m=\u001b[0m\u001b[1;34m'_final_estimator'\u001b[0m\u001b[1;33m)\u001b[0m\u001b[1;33m\u001b[0m\u001b[1;33m\u001b[0m\u001b[0m\n",
      "\u001b[1;32m~\\Anaconda3\\envs\\tf_test\\lib\\site-packages\\keras\\wrappers\\scikit_learn.py\u001b[0m in \u001b[0;36mpredict\u001b[1;34m(self, x, **kwargs)\u001b[0m\n\u001b[0;32m    320\u001b[0m         \"\"\"\n\u001b[0;32m    321\u001b[0m         \u001b[0mkwargs\u001b[0m \u001b[1;33m=\u001b[0m \u001b[0mself\u001b[0m\u001b[1;33m.\u001b[0m\u001b[0mfilter_sk_params\u001b[0m\u001b[1;33m(\u001b[0m\u001b[0mSequential\u001b[0m\u001b[1;33m.\u001b[0m\u001b[0mpredict\u001b[0m\u001b[1;33m,\u001b[0m \u001b[0mkwargs\u001b[0m\u001b[1;33m)\u001b[0m\u001b[1;33m\u001b[0m\u001b[1;33m\u001b[0m\u001b[0m\n\u001b[1;32m--> 322\u001b[1;33m         \u001b[0mpreds\u001b[0m \u001b[1;33m=\u001b[0m \u001b[0mnp\u001b[0m\u001b[1;33m.\u001b[0m\u001b[0marray\u001b[0m\u001b[1;33m(\u001b[0m\u001b[0mself\u001b[0m\u001b[1;33m.\u001b[0m\u001b[0mmodel\u001b[0m\u001b[1;33m.\u001b[0m\u001b[0mpredict\u001b[0m\u001b[1;33m(\u001b[0m\u001b[0mx\u001b[0m\u001b[1;33m,\u001b[0m \u001b[1;33m**\u001b[0m\u001b[0mkwargs\u001b[0m\u001b[1;33m)\u001b[0m\u001b[1;33m)\u001b[0m\u001b[1;33m\u001b[0m\u001b[1;33m\u001b[0m\u001b[0m\n\u001b[0m\u001b[0;32m    323\u001b[0m         \u001b[1;32mif\u001b[0m \u001b[0mpreds\u001b[0m\u001b[1;33m.\u001b[0m\u001b[0mshape\u001b[0m\u001b[1;33m[\u001b[0m\u001b[1;33m-\u001b[0m\u001b[1;36m1\u001b[0m\u001b[1;33m]\u001b[0m \u001b[1;33m==\u001b[0m \u001b[1;36m1\u001b[0m\u001b[1;33m:\u001b[0m\u001b[1;33m\u001b[0m\u001b[1;33m\u001b[0m\u001b[0m\n\u001b[0;32m    324\u001b[0m             \u001b[1;32mreturn\u001b[0m \u001b[0mnp\u001b[0m\u001b[1;33m.\u001b[0m\u001b[0msqueeze\u001b[0m\u001b[1;33m(\u001b[0m\u001b[0mpreds\u001b[0m\u001b[1;33m,\u001b[0m \u001b[0maxis\u001b[0m\u001b[1;33m=\u001b[0m\u001b[1;33m-\u001b[0m\u001b[1;36m1\u001b[0m\u001b[1;33m)\u001b[0m\u001b[1;33m\u001b[0m\u001b[1;33m\u001b[0m\u001b[0m\n",
      "\u001b[1;31mAttributeError\u001b[0m: 'KerasRegressor' object has no attribute 'model'"
     ]
    }
   ],
   "source": [
    "res = pipeline.predict(X)\n",
    "res[0]"
   ]
  },
  {
   "cell_type": "code",
   "execution_count": 46,
   "metadata": {},
   "outputs": [
    {
     "ename": "NameError",
     "evalue": "name 'res' is not defined",
     "output_type": "error",
     "traceback": [
      "\u001b[1;31m---------------------------------------------------------------------------\u001b[0m",
      "\u001b[1;31mNameError\u001b[0m                                 Traceback (most recent call last)",
      "\u001b[1;32m<ipython-input-46-4ffdaac3cdf2>\u001b[0m in \u001b[0;36m<module>\u001b[1;34m\u001b[0m\n\u001b[0;32m      1\u001b[0m \u001b[1;32mimport\u001b[0m \u001b[0mnumpy\u001b[0m \u001b[1;32mas\u001b[0m \u001b[0mnp\u001b[0m\u001b[1;33m\u001b[0m\u001b[1;33m\u001b[0m\u001b[0m\n\u001b[1;32m----> 2\u001b[1;33m \u001b[0mnp\u001b[0m\u001b[1;33m.\u001b[0m\u001b[0mcorrcoef\u001b[0m\u001b[1;33m(\u001b[0m\u001b[0mres\u001b[0m\u001b[1;33m,\u001b[0m\u001b[0mY\u001b[0m\u001b[1;33m)\u001b[0m\u001b[1;33m\u001b[0m\u001b[1;33m\u001b[0m\u001b[0m\n\u001b[0m",
      "\u001b[1;31mNameError\u001b[0m: name 'res' is not defined"
     ]
    }
   ],
   "source": [
    "import numpy as np\n",
    "np.corrcoef(res,Y)"
   ]
  },
  {
   "cell_type": "code",
   "execution_count": 47,
   "metadata": {},
   "outputs": [
    {
     "ename": "SyntaxError",
     "evalue": "invalid syntax (<ipython-input-47-8ebc2f13a1cf>, line 2)",
     "output_type": "error",
     "traceback": [
      "\u001b[1;36m  File \u001b[1;32m\"<ipython-input-47-8ebc2f13a1cf>\"\u001b[1;36m, line \u001b[1;32m2\u001b[0m\n\u001b[1;33m    -air.cvs 데이터 로딩한 다음\u001b[0m\n\u001b[1;37m               ^\u001b[0m\n\u001b[1;31mSyntaxError\u001b[0m\u001b[1;31m:\u001b[0m invalid syntax\n"
     ]
    }
   ],
   "source": [
    "# 숙제\n",
    "-air.cvs 데이터 로딩한 다음\n",
    "-회귀망을 구성하시요\n",
    "-paramter tuning 을 구형하시요 (pipeline 사용도 함께)"
   ]
  }
 ],
 "metadata": {
  "kernelspec": {
   "display_name": "Python 3",
   "language": "python",
   "name": "python3"
  },
  "language_info": {
   "codemirror_mode": {
    "name": "ipython",
    "version": 3
   },
   "file_extension": ".py",
   "mimetype": "text/x-python",
   "name": "python",
   "nbconvert_exporter": "python",
   "pygments_lexer": "ipython3",
   "version": "3.7.6"
  }
 },
 "nbformat": 4,
 "nbformat_minor": 4
}
